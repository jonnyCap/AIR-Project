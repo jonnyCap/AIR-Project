{
 "cells": [
  {
   "cell_type": "code",
   "id": "initial_id",
   "metadata": {
    "collapsed": true,
    "ExecuteTime": {
     "end_time": "2024-11-07T15:42:53.041343Z",
     "start_time": "2024-11-07T15:42:49.902925Z"
    }
   },
   "source": "import torch",
   "outputs": [],
   "execution_count": 1
  },
  {
   "metadata": {},
   "cell_type": "markdown",
   "source": "After importing torch we can check our dependencies:",
   "id": "b9d42e0d8fb3eb60"
  },
  {
   "metadata": {
    "ExecuteTime": {
     "end_time": "2024-11-07T15:42:59.906254Z",
     "start_time": "2024-11-07T15:42:53.080681Z"
    }
   },
   "cell_type": "code",
   "source": [
    "# Check if CUDA is available\n",
    "cuda_available = torch.cuda.is_available()\n",
    "\n",
    "# Print whether CUDA is available\n",
    "if cuda_available:\n",
    "    print(\"CUDA is available.\")\n",
    "    print(f\"PyTorch is using: {torch.cuda.get_device_name(0)}\")\n",
    "else:\n",
    "    print(\"CUDA is not available. Using CPU.\")\n",
    "\n",
    "# Print the device PyTorch is currently using\n",
    "device = torch.device(\"cuda\" if cuda_available else \"cpu\")\n",
    "print(f\"PyTorch is set to use: {device}\")"
   ],
   "id": "57e6c548c14d84ae",
   "outputs": [
    {
     "name": "stdout",
     "output_type": "stream",
     "text": [
      "CUDA is not available. Using CPU.\n",
      "PyTorch is set to use: cpu\n"
     ]
    }
   ],
   "execution_count": 2
  },
  {
   "metadata": {},
   "cell_type": "markdown",
   "source": [
    "### Now we start to train our model\n",
    "For this we created our own Dataset created in: Dataset/Data/final_dataset.csv"
   ],
   "id": "b853718df652b53b"
  },
  {
   "metadata": {
    "ExecuteTime": {
     "end_time": "2024-11-07T15:43:03.992242Z",
     "start_time": "2024-11-07T15:43:00.236424Z"
    }
   },
   "cell_type": "code",
   "source": [
    "import pandas as pd\n",
    "from sklearn.model_selection import train_test_split\n",
    "from transformers import BertTokenizer\n",
    "\n",
    "# Load your dataset\n",
    "data = pd.read_csv(\"Dataset/Data/final_dataset.csv\")  # Replace with your actual dataset path\n",
    "data['Score'] = data['Score'].astype(float)\n",
    "\n",
    "# Split into training and validation sets\n",
    "train_data, val_data = train_test_split(data, test_size=0.2, random_state=42)\n",
    "\n",
    "# Load the BERT tokenizer\n",
    "tokenizer = BertTokenizer.from_pretrained(\"bert-base-uncased\")\n",
    "\n",
    "# Tokenize the ideas\n",
    "def tokenize_data(data):\n",
    "    return tokenizer(\n",
    "        data['Idea'].tolist(),\n",
    "        padding=True,\n",
    "        truncation=True,\n",
    "        max_length=128,\n",
    "        return_tensors=\"pt\"\n",
    "    )\n",
    "\n",
    "train_encodings = tokenize_data(train_data)\n",
    "val_encodings = tokenize_data(val_data)\n"
   ],
   "id": "df9b81cd6cc4766f",
   "outputs": [],
   "execution_count": 3
  },
  {
   "metadata": {},
   "cell_type": "markdown",
   "source": "### Now we have to create our own Dataset class:",
   "id": "d04427d458a83510"
  },
  {
   "metadata": {
    "ExecuteTime": {
     "end_time": "2024-11-07T15:43:04.030712Z",
     "start_time": "2024-11-07T15:43:04.023389Z"
    }
   },
   "cell_type": "code",
   "source": [
    "import torch\n",
    "\n",
    "class IdeaDataset(torch.utils.data.Dataset):\n",
    "    def __init__(self, encodings, scores):\n",
    "        self.encodings = encodings\n",
    "        self.scores = scores\n",
    "\n",
    "    def __getitem__(self, idx):\n",
    "        item = {key: val[idx] for key, val in self.encodings.items()}\n",
    "        item['labels'] = torch.tensor(self.scores[idx], dtype=torch.float)\n",
    "        return item\n",
    "\n",
    "    def __len__(self):\n",
    "        return len(self.scores)\n",
    "\n",
    "train_dataset = IdeaDataset(train_encodings, train_data['Score'].tolist())\n",
    "val_dataset = IdeaDataset(val_encodings, val_data['Score'].tolist())\n"
   ],
   "id": "a985bd9ff9c0c1ba",
   "outputs": [],
   "execution_count": 4
  },
  {
   "metadata": {},
   "cell_type": "markdown",
   "source": "#### Now we train:",
   "id": "3e5e04e3563d8086"
  },
  {
   "metadata": {
    "ExecuteTime": {
     "end_time": "2024-11-07T16:14:14.520583Z",
     "start_time": "2024-11-07T16:07:11.905616Z"
    }
   },
   "cell_type": "code",
   "source": [
    "from transformers import BertForSequenceClassification, Trainer, TrainingArguments\n",
    "\n",
    "# Load BERT model with a regression head\n",
    "model = BertForSequenceClassification.from_pretrained(\"bert-base-uncased\", num_labels=1)\n",
    "\n",
    "training_args = TrainingArguments(\n",
    "    output_dir=\"./results\",\n",
    "    num_train_epochs=10,\n",
    "    per_device_train_batch_size=16,\n",
    "    per_device_eval_batch_size=16,\n",
    "    warmup_steps=500,\n",
    "    weight_decay=0.01,\n",
    "    logging_dir=\"./logs\",\n",
    "    logging_steps=10,\n",
    "    eval_strategy=\"epoch\"\n",
    ")\n",
    "\n",
    "trainer = Trainer(\n",
    "    model=model,\n",
    "    args=training_args,\n",
    "    train_dataset=train_dataset,\n",
    "    eval_dataset=val_dataset\n",
    ")\n",
    "\n",
    "# Train the model\n",
    "trainer.train()\n",
    "\n"
   ],
   "id": "f7ebba6f348541be",
   "outputs": [
    {
     "name": "stderr",
     "output_type": "stream",
     "text": [
      "Some weights of BertForSequenceClassification were not initialized from the model checkpoint at bert-base-uncased and are newly initialized: ['classifier.bias', 'classifier.weight']\n",
      "You should probably TRAIN this model on a down-stream task to be able to use it for predictions and inference.\n",
      "/home/jonathan-maier/Documents/AIR/AIR-Project/Dataset/env/lib/python3.11/site-packages/torch/cuda/__init__.py:716: UserWarning: Can't initialize NVML\n",
      "  warnings.warn(\"Can't initialize NVML\")\n"
     ]
    },
    {
     "data": {
      "text/plain": [
       "<IPython.core.display.HTML object>"
      ],
      "text/html": [
       "\n",
       "    <div>\n",
       "      \n",
       "      <progress value='50' max='50' style='width:300px; height:20px; vertical-align: middle;'></progress>\n",
       "      [50/50 06:49, Epoch 10/10]\n",
       "    </div>\n",
       "    <table border=\"1\" class=\"dataframe\">\n",
       "  <thead>\n",
       " <tr style=\"text-align: left;\">\n",
       "      <th>Epoch</th>\n",
       "      <th>Training Loss</th>\n",
       "      <th>Validation Loss</th>\n",
       "    </tr>\n",
       "  </thead>\n",
       "  <tbody>\n",
       "    <tr>\n",
       "      <td>1</td>\n",
       "      <td>No log</td>\n",
       "      <td>22.195419</td>\n",
       "    </tr>\n",
       "    <tr>\n",
       "      <td>2</td>\n",
       "      <td>21.545000</td>\n",
       "      <td>21.273499</td>\n",
       "    </tr>\n",
       "    <tr>\n",
       "      <td>3</td>\n",
       "      <td>21.545000</td>\n",
       "      <td>19.431385</td>\n",
       "    </tr>\n",
       "    <tr>\n",
       "      <td>4</td>\n",
       "      <td>19.042700</td>\n",
       "      <td>16.102837</td>\n",
       "    </tr>\n",
       "    <tr>\n",
       "      <td>5</td>\n",
       "      <td>19.042700</td>\n",
       "      <td>11.652586</td>\n",
       "    </tr>\n",
       "    <tr>\n",
       "      <td>6</td>\n",
       "      <td>13.019100</td>\n",
       "      <td>9.455506</td>\n",
       "    </tr>\n",
       "    <tr>\n",
       "      <td>7</td>\n",
       "      <td>13.019100</td>\n",
       "      <td>8.910786</td>\n",
       "    </tr>\n",
       "    <tr>\n",
       "      <td>8</td>\n",
       "      <td>9.075100</td>\n",
       "      <td>8.601482</td>\n",
       "    </tr>\n",
       "    <tr>\n",
       "      <td>9</td>\n",
       "      <td>9.075100</td>\n",
       "      <td>8.125866</td>\n",
       "    </tr>\n",
       "    <tr>\n",
       "      <td>10</td>\n",
       "      <td>9.695200</td>\n",
       "      <td>7.616680</td>\n",
       "    </tr>\n",
       "  </tbody>\n",
       "</table><p>"
      ]
     },
     "metadata": {},
     "output_type": "display_data"
    },
    {
     "data": {
      "text/plain": [
       "TrainOutput(global_step=50, training_loss=14.4754150390625, metrics={'train_runtime': 418.1556, 'train_samples_per_second': 1.674, 'train_steps_per_second': 0.12, 'total_flos': 46044021273600.0, 'train_loss': 14.4754150390625, 'epoch': 10.0})"
      ]
     },
     "execution_count": 10,
     "metadata": {},
     "output_type": "execute_result"
    }
   ],
   "execution_count": 10
  },
  {
   "metadata": {},
   "cell_type": "markdown",
   "source": "#### Now its time for evaluation:",
   "id": "93483e59238f28b"
  },
  {
   "metadata": {
    "ExecuteTime": {
     "end_time": "2024-11-07T16:56:29.155385Z",
     "start_time": "2024-11-07T16:56:25.776481Z"
    }
   },
   "cell_type": "code",
   "source": [
    "eval_results = trainer.evaluate()\n",
    "print(f\"Validation Loss: {eval_results['eval_loss']}\")\n",
    "\n",
    "# Custom tests\n",
    "def score_idea(idea_text):\n",
    "    inputs = tokenizer(idea_text, return_tensors=\"pt\", padding=True, truncation=True, max_length=128)\n",
    "    outputs = model(**inputs)\n",
    "    score = outputs.logits.item()  # Get the predicted score\n",
    "    return score\n",
    "\n",
    "# Example usage\n",
    "new_idea = \"An app that delivers fresh, healthy meals for busy professionals\"\n",
    "print(f\"Predicted score for the idea: {score_idea(new_idea)}\")\n"
   ],
   "id": "46f33bf76f5bfb40",
   "outputs": [
    {
     "name": "stdout",
     "output_type": "stream",
     "text": [
      "Validation Loss: 7.616679668426514\n",
      "Predicted score for the idea: 1.3295389413833618\n"
     ]
    }
   ],
   "execution_count": 13
  },
  {
   "metadata": {
    "ExecuteTime": {
     "end_time": "2024-11-07T16:14:54.052294Z",
     "start_time": "2024-11-07T16:14:52.802156Z"
    }
   },
   "cell_type": "code",
   "source": [
    "new_idea = \"A company that provides sustainable, biodegradable packaging solutions specifically designed for e-commerce businesses. The packaging is made from recycled materials, is compostable, and can be customized for branding. This would address growing concerns over environmental impact in the packaging industry\"\n",
    "\n",
    "print(f\"Predicted score for the idea: {score_idea(new_idea)}\")\n",
    "\n",
    "new_idea = \"A fitness platform that offers live, interactive classes, where trainers can adjust workout routines in real-time based on user data from wearables (like heart rate, calories burned, etc.). This approach combines virtual fitness with personalized coaching, offering a unique value proposition for fitness enthusiasts.\"\n",
    "\n",
    "print(f\"Predicted score for the idea: {score_idea(new_idea)}\")\n",
    "\n",
    "new_idea = \"A pop-up coffee shop that operates within co-working spaces, catering to freelancers and remote workers. The business can establish partnerships with co-working spaces to share profits and offer exclusive deals to members. This could work in larger cities with a high concentration of co-working spaces.\"\n",
    "\n",
    "print(f\"Predicted score for the idea: {score_idea(new_idea)}\")\n",
    "\n",
    "new_idea = \"A helmet designed to give users a personal sauna experience on the go. It has a built-in heating system that simulates the steam and heat of a sauna, which users can wear during daily tasks. This concept is impractical due to safety concerns and a lack of realistic use cases.\"\n",
    "\n",
    "\n",
    "print(f\"Predicted score for the idea: {score_idea(new_idea)}\")\n"
   ],
   "id": "9e725e665c0b24d9",
   "outputs": [
    {
     "name": "stdout",
     "output_type": "stream",
     "text": [
      "Predicted score for the idea: 1.7300198078155518\n",
      "Predicted score for the idea: 1.5746402740478516\n",
      "Predicted score for the idea: 1.7313016653060913\n",
      "Predicted score for the idea: 1.6058305501937866\n"
     ]
    }
   ],
   "execution_count": 11
  }
 ],
 "metadata": {
  "kernelspec": {
   "display_name": "Python 3",
   "language": "python",
   "name": "python3"
  },
  "language_info": {
   "codemirror_mode": {
    "name": "ipython",
    "version": 2
   },
   "file_extension": ".py",
   "mimetype": "text/x-python",
   "name": "python",
   "nbconvert_exporter": "python",
   "pygments_lexer": "ipython2",
   "version": "2.7.6"
  }
 },
 "nbformat": 4,
 "nbformat_minor": 5
}
