{
 "cells": [
  {
   "cell_type": "code",
   "id": "initial_id",
   "metadata": {
    "collapsed": true,
    "ExecuteTime": {
     "end_time": "2024-10-31T14:37:32.349915Z",
     "start_time": "2024-10-31T14:37:31.352517Z"
    }
   },
   "source": "import torch",
   "outputs": [],
   "execution_count": 1
  },
  {
   "metadata": {},
   "cell_type": "markdown",
   "source": "After importing torch we can check our dependencies:",
   "id": "b9d42e0d8fb3eb60"
  },
  {
   "metadata": {
    "ExecuteTime": {
     "end_time": "2024-10-31T14:39:37.567606Z",
     "start_time": "2024-10-31T14:39:37.557702Z"
    }
   },
   "cell_type": "code",
   "source": [
    "# Check if CUDA is available\n",
    "cuda_available = torch.cuda.is_available()\n",
    "\n",
    "# Print whether CUDA is available\n",
    "if cuda_available:\n",
    "    print(\"CUDA is available.\")\n",
    "    print(f\"PyTorch is using: {torch.cuda.get_device_name(0)}\")\n",
    "else:\n",
    "    print(\"CUDA is not available. Using CPU.\")\n",
    "\n",
    "# Print the device PyTorch is currently using\n",
    "device = torch.device(\"cuda\" if cuda_available else \"cpu\")\n",
    "print(f\"PyTorch is set to use: {device}\")"
   ],
   "id": "57e6c548c14d84ae",
   "outputs": [
    {
     "name": "stdout",
     "output_type": "stream",
     "text": [
      "CUDA is not available. Using CPU.\n",
      "PyTorch is set to use: cpu\n"
     ]
    }
   ],
   "execution_count": 3
  }
 ],
 "metadata": {
  "kernelspec": {
   "display_name": "Python 3",
   "language": "python",
   "name": "python3"
  },
  "language_info": {
   "codemirror_mode": {
    "name": "ipython",
    "version": 2
   },
   "file_extension": ".py",
   "mimetype": "text/x-python",
   "name": "python",
   "nbconvert_exporter": "python",
   "pygments_lexer": "ipython2",
   "version": "2.7.6"
  }
 },
 "nbformat": 4,
 "nbformat_minor": 5
}
