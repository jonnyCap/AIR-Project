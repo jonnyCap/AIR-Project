{
 "cells": [
  {
   "cell_type": "code",
   "id": "initial_id",
   "metadata": {
    "collapsed": true,
    "ExecuteTime": {
     "end_time": "2024-11-06T19:28:58.191508Z",
     "start_time": "2024-11-06T19:28:55.356228Z"
    }
   },
   "source": "import torch",
   "outputs": [],
   "execution_count": 1
  },
  {
   "metadata": {},
   "cell_type": "markdown",
   "source": "After importing torch we can check our dependencies:",
   "id": "b9d42e0d8fb3eb60"
  },
  {
   "metadata": {
    "ExecuteTime": {
     "end_time": "2024-11-06T19:29:07.520129Z",
     "start_time": "2024-11-06T19:29:00.677732Z"
    }
   },
   "cell_type": "code",
   "source": [
    "# Check if CUDA is available\n",
    "cuda_available = torch.cuda.is_available()\n",
    "\n",
    "# Print whether CUDA is available\n",
    "if cuda_available:\n",
    "    print(\"CUDA is available.\")\n",
    "    print(f\"PyTorch is using: {torch.cuda.get_device_name(0)}\")\n",
    "else:\n",
    "    print(\"CUDA is not available. Using CPU.\")\n",
    "\n",
    "# Print the device PyTorch is currently using\n",
    "device = torch.device(\"cuda\" if cuda_available else \"cpu\")\n",
    "print(f\"PyTorch is set to use: {device}\")"
   ],
   "id": "57e6c548c14d84ae",
   "outputs": [
    {
     "name": "stdout",
     "output_type": "stream",
     "text": [
      "CUDA is not available. Using CPU.\n",
      "PyTorch is set to use: cpu\n"
     ]
    }
   ],
   "execution_count": 2
  },
  {
   "metadata": {},
   "cell_type": "markdown",
   "source": [
    "### Now we start to train our model\n",
    "For this we created our own Dataset created in: Dataset/Data/final_dataset."
   ],
   "id": "b853718df652b53b"
  },
  {
   "metadata": {},
   "cell_type": "code",
   "outputs": [],
   "execution_count": null,
   "source": "",
   "id": "df9b81cd6cc4766f"
  }
 ],
 "metadata": {
  "kernelspec": {
   "display_name": "Python 3",
   "language": "python",
   "name": "python3"
  },
  "language_info": {
   "codemirror_mode": {
    "name": "ipython",
    "version": 2
   },
   "file_extension": ".py",
   "mimetype": "text/x-python",
   "name": "python",
   "nbconvert_exporter": "python",
   "pygments_lexer": "ipython2",
   "version": "2.7.6"
  }
 },
 "nbformat": 4,
 "nbformat_minor": 5
}
