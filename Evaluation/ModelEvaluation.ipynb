{
 "cells": [
  {
   "metadata": {},
   "cell_type": "markdown",
   "source": [
    "# Model Evaluation\n",
    "Now we trained our hybrid stock prediction model and now we want to evaluate its performance.\n",
    "\n",
    "To make this possible we created a second dataset with upcoming companies, how entered the market 2024 and are not included in our initial dataset used for training.\n",
    "\n",
    "### Our Control Dataset"
   ],
   "id": "54c10af4012a768b"
  },
  {
   "cell_type": "code",
   "id": "initial_id",
   "metadata": {
    "collapsed": true,
    "ExecuteTime": {
     "end_time": "2024-11-12T07:15:13.417357Z",
     "start_time": "2024-11-12T07:15:13.413617Z"
    }
   },
   "source": "dataset = [{\"new idea\": [12, 13, 14]}]",
   "outputs": [],
   "execution_count": null
  },
  {
   "metadata": {},
   "cell_type": "markdown",
   "source": "Now we can pass these values to our model and compare the results:",
   "id": "6d0720c29fdb3605"
  },
  {
   "metadata": {},
   "cell_type": "code",
   "outputs": [],
   "execution_count": null,
   "source": "# Evaluate your model",
   "id": "33b8329215628de"
  }
 ],
 "metadata": {
  "kernelspec": {
   "display_name": "Python 3",
   "language": "python",
   "name": "python3"
  },
  "language_info": {
   "codemirror_mode": {
    "name": "ipython",
    "version": 2
   },
   "file_extension": ".py",
   "mimetype": "text/x-python",
   "name": "python",
   "nbconvert_exporter": "python",
   "pygments_lexer": "ipython2",
   "version": "2.7.6"
  }
 },
 "nbformat": 4,
 "nbformat_minor": 5
}
