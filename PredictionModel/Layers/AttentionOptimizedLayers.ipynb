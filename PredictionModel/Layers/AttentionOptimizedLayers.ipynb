{
 "cells": [
  {
   "metadata": {},
   "cell_type": "code",
   "outputs": [],
   "execution_count": null,
   "source": "import torch.nn as nn",
   "id": "bf894817014d507e"
  },
  {
   "metadata": {},
   "cell_type": "markdown",
   "source": [
    "# IdeaLayer\n",
    "This layer encodes the textual description of our idea."
   ],
   "id": "634383cf4ce9ac1a"
  },
  {
   "metadata": {
    "ExecuteTime": {
     "end_time": "2025-01-10T09:32:01.093097Z",
     "start_time": "2025-01-10T09:32:01.090275Z"
    }
   },
   "cell_type": "code",
   "source": [
    "class IdeaLayer(nn.Module):\n",
    "    def __init__(self, hidden_dim: int, bert_dim: int):\n",
    "        super(IdeaLayer, self).__init__()\n",
    "        self.model = nn.Sequential(\n",
    "            nn.Linear(bert_dim, 2 * hidden_dim),  # Reduced size\n",
    "            nn.ReLU(),\n",
    "            nn.Linear(2 * hidden_dim, hidden_dim)  # Reduced size\n",
    "        )\n",
    "\n",
    "    def forward(self, x):\n",
    "        return self.model(x)\n"
   ],
   "id": "9a42f8969180ab1b",
   "outputs": [],
   "execution_count": 4
  },
  {
   "metadata": {},
   "cell_type": "markdown",
   "source": [
    "# IdeaStaticLayer\n",
    "This layer stores gets the input of the to be predicted idea. During training there will be inputs that belong to the idea we want to predict, but during actual predictions this will empty. This should just help the model to further understand the impact of other inputs"
   ],
   "id": "485bc22affc6b109"
  },
  {
   "metadata": {
    "ExecuteTime": {
     "end_time": "2025-01-10T09:32:01.142907Z",
     "start_time": "2025-01-10T09:32:01.137436Z"
    }
   },
   "cell_type": "code",
   "source": [
    "class IdeaStaticLayer(nn.Module):\n",
    "    def __init__(self, static_feature_dim: int):\n",
    "        super(IdeaStaticLayer, self).__init__()\n",
    "        self.model = nn.Sequential(\n",
    "            nn.Linear(static_feature_dim, 16),\n",
    "            nn.ReLU(),\n",
    "        )\n",
    "\n",
    "    def forward(self, x):\n",
    "        return self.model(x)\n"
   ],
   "id": "bbb7dff406a8bb72",
   "outputs": [],
   "execution_count": 5
  },
  {
   "metadata": {},
   "cell_type": "markdown",
   "source": [
    "# IdeaHistoricalLayer\n",
    "This layer gets the historical data of the to be predicted idea as inputs. This will also be filled with existing data during training and then zerod out during acutal predictions. However, very important is that newly predicted values will be added to the input vector of this layer and the oldest value will be removed (Shift of values)."
   ],
   "id": "66ddb01c9a3cfb9"
  },
  {
   "metadata": {
    "ExecuteTime": {
     "end_time": "2025-01-10T09:32:01.187340Z",
     "start_time": "2025-01-10T09:32:01.184755Z"
    }
   },
   "cell_type": "code",
   "source": [
    "class IdeaHistoricalLayer(nn.Module):\n",
    "    def __init__(self, historical_idea_dim: int, hidden_dim: int):\n",
    "        super(IdeaHistoricalLayer, self).__init__()\n",
    "        self.model = nn.Sequential(\n",
    "            nn.Linear(historical_idea_dim, hidden_dim//2),\n",
    "            nn.ReLU(),\n",
    "        )\n",
    "\n",
    "    def forward(self, x):\n",
    "        return self.model(x)\n"
   ],
   "id": "dae76c5dc796318a",
   "outputs": [],
   "execution_count": 6
  },
  {
   "metadata": {},
   "cell_type": "markdown",
   "source": [
    "# 1.Fusion Layer\n",
    "This fusion layer scales then an idea entry with bert encoding, static and historical data for a batch containing multiple retrieved documents."
   ],
   "id": "64eed9e22ab2c9c2"
  },
  {
   "metadata": {
    "ExecuteTime": {
     "end_time": "2025-01-10T09:32:01.233548Z",
     "start_time": "2025-01-10T09:32:01.230820Z"
    }
   },
   "cell_type": "code",
   "source": [
    "class FirstFusionLayer(nn.Module):\n",
    "    def __init__(self, input_dim: int, hidden_dim: int):\n",
    "        super(FirstFusionLayer, self).__init__()\n",
    "        self.model = nn.Sequential(\n",
    "            nn.Linear(input_dim, 3 * hidden_dim),\n",
    "            nn.LayerNorm(3 * hidden_dim),\n",
    "            nn.Dropout(0.05),\n",
    "            nn.ReLU(),\n",
    "            nn.Linear(3 * hidden_dim, 2 *hidden_dim),\n",
    "        )\n",
    "\n",
    "\n",
    "    def forward(self, x):\n",
    "        return self.model(x)\n"
   ],
   "id": "1e5384e4ab01c453",
   "outputs": [],
   "execution_count": 7
  },
  {
   "metadata": {},
   "cell_type": "markdown",
   "source": [
    "# 2.Fusion Layer\n",
    "This fusion layer combines the inputs from the new idea."
   ],
   "id": "bc8ff3e244fefb86"
  },
  {
   "metadata": {
    "ExecuteTime": {
     "end_time": "2025-01-10T09:32:01.279604Z",
     "start_time": "2025-01-10T09:32:01.276107Z"
    }
   },
   "cell_type": "code",
   "source": [
    "class SecondFusionLayer(nn.Module):\n",
    "    def __init__(self, hidden_dim: int):\n",
    "        super(SecondFusionLayer, self).__init__()\n",
    "        self.model = nn.Sequential(\n",
    "            nn.Linear(hidden_dim + 16 + 64, 2 * hidden_dim),\n",
    "            nn.ReLU(),\n",
    "        )\n",
    "\n",
    "    def forward(self, x):\n",
    "        return self.model(x)\n"
   ],
   "id": "649272e0f68d65c9",
   "outputs": [],
   "execution_count": 8
  },
  {
   "metadata": {},
   "cell_type": "markdown",
   "source": [
    "# Output Layer\n",
    "This is the final output layer that compromises all nodes to a single output. The overall output will then be a regressiv prediction from this layer."
   ],
   "id": "c21230fd7b880ed"
  },
  {
   "metadata": {
    "ExecuteTime": {
     "end_time": "2025-01-10T09:32:01.326836Z",
     "start_time": "2025-01-10T09:32:01.322810Z"
    }
   },
   "cell_type": "code",
   "source": [
    "class OutputLayer(nn.Module):\n",
    "    def __init__(self, hidden_dim: int, retrieval_number: int):\n",
    "        super(OutputLayer, self).__init__()\n",
    "        self.model = nn.Sequential(\n",
    "            nn.Linear(hidden_dim, hidden_dim//2),\n",
    "            nn.LayerNorm(hidden_dim//2),\n",
    "            nn.ReLU(),\n",
    "            nn.Linear(hidden_dim //2, hidden_dim//4),\n",
    "            nn.ReLU(),\n",
    "            nn.Linear(hidden_dim //4, 3),\n",
    "        )\n",
    "\n",
    "    def forward(self, x):\n",
    "        return self.model(x)\n"
   ],
   "id": "7c833cd7ab83fa95",
   "outputs": [],
   "execution_count": 9
  }
 ],
 "metadata": {
  "kernelspec": {
   "display_name": "Python 3",
   "language": "python",
   "name": "python3"
  },
  "language_info": {
   "codemirror_mode": {
    "name": "ipython",
    "version": 2
   },
   "file_extension": ".py",
   "mimetype": "text/x-python",
   "name": "python",
   "nbconvert_exporter": "python",
   "pygments_lexer": "ipython2",
   "version": "2.7.6"
  }
 },
 "nbformat": 4,
 "nbformat_minor": 5
}
