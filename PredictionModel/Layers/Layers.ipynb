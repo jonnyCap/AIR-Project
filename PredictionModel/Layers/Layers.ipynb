{
 "cells": [
  {
   "metadata": {},
   "cell_type": "markdown",
   "source": [
    "# Similarity Layer\n",
    "This layer takes the similarity values from the RetrievalSystem as Inputs, which should gain the model better insights into how correlated the retrieved inputs are."
   ],
   "id": "2bf59948960780d7"
  },
  {
   "cell_type": "code",
   "execution_count": null,
   "id": "initial_id",
   "metadata": {
    "collapsed": true
   },
   "outputs": [],
   "source": [
    "import torch.nn as nn\n",
    "\n",
    "class SimilarityLayer(nn.Module):\n",
    "    def __init__(self, retrieval_number: int):\n",
    "        super(SimilarityLayer, self).__init__()\n",
    "        self.model = nn.Sequential(\n",
    "            nn.Linear(retrieval_number, 2 * retrieval_number),\n",
    "            nn.ReLU(),\n",
    "            nn.Linear(2 * retrieval_number, 2 * retrieval_number),\n",
    "            nn.LayerNorm(2 * retrieval_number),\n",
    "            nn.ReLU()\n",
    "        )\n",
    "\n",
    "    def forward(self, x):\n",
    "        return self.model(x)\n"
   ]
  },
  {
   "metadata": {},
   "cell_type": "markdown",
   "source": [
    "# StaticFeatureLayer\n",
    "This layer has all the static features from the retrieved documents as input."
   ],
   "id": "d821b7289390ce32"
  },
  {
   "metadata": {},
   "cell_type": "code",
   "outputs": [],
   "execution_count": null,
   "source": [
    "class StaticFeatureLayer(nn.Module):\n",
    "    def __init__(self, retrieval_number: int, hidden_dim: int, static_feature_dim: int):\n",
    "        super(StaticFeatureLayer, self).__init__()\n",
    "        self.model = nn.Sequential(\n",
    "            nn.Linear(static_feature_dim * retrieval_number, static_feature_dim * (retrieval_number // 2)),\n",
    "            nn.ReLU(),\n",
    "            nn.Linear(static_feature_dim * (retrieval_number // 2), 2 * hidden_dim),\n",
    "            nn.LayerNorm(2 * hidden_dim),\n",
    "            nn.ReLU()\n",
    "        )\n",
    "\n",
    "    def forward(self, x):\n",
    "        return self.model(x)\n"
   ],
   "id": "a5caaee6f55f7ebe"
  },
  {
   "metadata": {},
   "cell_type": "markdown",
   "source": [
    "# HistoricalFeatureLayer\n",
    "This layer contains all the hisitorical data from the retrieved companies."
   ],
   "id": "1da2f9458fec06d8"
  },
  {
   "metadata": {},
   "cell_type": "code",
   "outputs": [],
   "execution_count": null,
   "source": [
    "class HistoricalFeatureLayer(nn.Module):\n",
    "    def __init__(self, retrieval_number: int, hidden_dim: int, historical_feature_dim: int):\n",
    "        super(HistoricalFeatureLayer, self).__init__()\n",
    "        self.model = nn.Sequential(\n",
    "            nn.Linear(historical_feature_dim * retrieval_number, historical_feature_dim * (retrieval_number // 2)),\n",
    "            nn.ReLU(),\n",
    "            nn.Linear(historical_feature_dim * (retrieval_number // 2), historical_feature_dim * (retrieval_number // 2)),\n",
    "            nn.Dropout(0.2),\n",
    "            nn.GELU(),\n",
    "            nn.Linear(historical_feature_dim * (retrieval_number // 2), 4 * hidden_dim),\n",
    "            nn.LayerNorm(4 * hidden_dim),\n",
    "            nn.ReLU(),\n",
    "        )\n",
    "\n",
    "    def forward(self, x):\n",
    "        return self.model(x)\n",
    "\n"
   ],
   "id": "d0bff93fcfbf57b1"
  },
  {
   "metadata": {},
   "cell_type": "markdown",
   "source": [
    "# IdeaLayer\n",
    "This layer encodes the textual description of our idea."
   ],
   "id": "634383cf4ce9ac1a"
  },
  {
   "metadata": {},
   "cell_type": "code",
   "outputs": [],
   "execution_count": null,
   "source": [
    "class IdeaLayer(nn.Module):\n",
    "    def __init__(self, hidden_dim: int, bert_dim: int):\n",
    "        super(IdeaLayer, self).__init__()\n",
    "        self.model = nn.Sequential(\n",
    "            nn.Linear(bert_dim, 4 * hidden_dim),\n",
    "            nn.ReLU(),\n",
    "            nn.Linear(4 * hidden_dim, 2 * hidden_dim)\n",
    "        )\n",
    "\n",
    "    def forward(self, x):\n",
    "        return self.model(x)\n"
   ],
   "id": "9a42f8969180ab1b"
  },
  {
   "metadata": {},
   "cell_type": "markdown",
   "source": [
    "# IdeaStaticLayer\n",
    "This layer stores gets the input of the to be predicted idea. During training there will be inputs that belong to the idea we want to predict, but during actual predictions this will empty. This should just help the model to further understand the impact of other inputs"
   ],
   "id": "485bc22affc6b109"
  },
  {
   "metadata": {},
   "cell_type": "code",
   "outputs": [],
   "execution_count": null,
   "source": [
    "class IdeaStaticLayer(nn.Module):\n",
    "    def __init__(self, static_feature_dim: int):\n",
    "        super(IdeaStaticLayer, self).__init__()\n",
    "        self.model = nn.Linear(static_feature_dim, 32)\n",
    "\n",
    "    def forward(self, x):\n",
    "        return self.model(x)\n"
   ],
   "id": "bbb7dff406a8bb72"
  },
  {
   "metadata": {},
   "cell_type": "markdown",
   "source": [
    "# IdeaHistoricalLayer\n",
    "This layer gets the historical data of the to be predicted idea as inputs. This will also be filled with existing data during training and then zerod out during acutal predictions. However, very important is that newly predicted values will be added to the input vector of this layer and the oldest value will be removed (Shift of values)."
   ],
   "id": "66ddb01c9a3cfb9"
  },
  {
   "metadata": {},
   "cell_type": "code",
   "outputs": [],
   "execution_count": null,
   "source": [
    "class IdeaHistoricalLayer(nn.Module):\n",
    "    def __init__(self, historical_idea_dim: int, hidden_dim: int):\n",
    "        super(IdeaHistoricalLayer, self).__init__()\n",
    "        self.model = nn.Linear(historical_idea_dim, hidden_dim//2)\n",
    "\n",
    "    def forward(self, x):\n",
    "        return self.model(x)\n"
   ],
   "id": "dae76c5dc796318a"
  },
  {
   "metadata": {},
   "cell_type": "markdown",
   "source": [
    "# 1.Fusion Layer\n",
    "This fusion layer combines all the inputs from our retrieved documents."
   ],
   "id": "64eed9e22ab2c9c2"
  },
  {
   "metadata": {},
   "cell_type": "code",
   "outputs": [],
   "execution_count": null,
   "source": [
    "class FirstFusionLayer(nn.Module):\n",
    "    def __init__(self, bert_dim: int, hidden_dim: int, retrieval_number: int):\n",
    "        super(FirstFusionLayer, self).__init__()\n",
    "        self.model = nn.Sequential(\n",
    "            nn.Linear(bert_dim + retrieval_number + 2 * hidden_dim + 4 * hidden_dim + 2 * retrieval_number, 8 * hidden_dim),  # 384 is the fixed text embedding dimension\n",
    "            nn.ReLU(),\n",
    "            nn.Linear(8 * hidden_dim,  4 * hidden_dim),\n",
    "            nn.LayerNorm(4 * hidden_dim),\n",
    "            nn.ReLU()\n",
    "        )\n",
    "\n",
    "    def forward(self, x):\n",
    "        return self.model(x)\n"
   ],
   "id": "1e5384e4ab01c453"
  },
  {
   "metadata": {},
   "cell_type": "markdown",
   "source": [
    "# 2.Fusion Layer\n",
    "This fusion layer combines the output from the first fusion layer and the inputs from the idea we want to predict."
   ],
   "id": "bc8ff3e244fefb86"
  },
  {
   "metadata": {},
   "cell_type": "code",
   "outputs": [],
   "execution_count": null,
   "source": [
    "class SecondFusionLayer(nn.Module):\n",
    "    def __init__(self, hidden_dim: int):\n",
    "        super(SecondFusionLayer, self).__init__()\n",
    "        self.model = nn.Sequential(\n",
    "            nn.Linear(4 * hidden_dim + 2 * hidden_dim + 32 + 64, 8 * hidden_dim),  # 384 is the fixed text embedding dimension\n",
    "            nn.GELU(),\n",
    "            nn.Linear(8 * hidden_dim, 7 * hidden_dim),\n",
    "            nn.LayerNorm(7 * hidden_dim),\n",
    "            nn.ReLU(),\n",
    "            nn.Dropout(0.2),\n",
    "            nn.GELU(),\n",
    "            nn.Linear(7 * hidden_dim, 5 * hidden_dim),\n",
    "            nn.Hardswish(),\n",
    "            nn.Linear(5 * hidden_dim, 4 * hidden_dim),\n",
    "        )\n",
    "\n",
    "    def forward(self, x):\n",
    "        return self.model(x)\n"
   ],
   "id": "649272e0f68d65c9"
  },
  {
   "metadata": {},
   "cell_type": "markdown",
   "source": [
    "# Output Layer\n",
    "This is the final output layer that compromises all nodes to a single output. The overall output will then be a regressiv prediction from this layer."
   ],
   "id": "c21230fd7b880ed"
  },
  {
   "metadata": {},
   "cell_type": "code",
   "outputs": [],
   "execution_count": null,
   "source": [
    "class OutputLayer(nn.Module):\n",
    "    def __init__(self, hidden_dim: int):\n",
    "        super(OutputLayer, self).__init__()\n",
    "        self.model = nn.Sequential(\n",
    "            nn.Linear(2 * hidden_dim, hidden_dim),\n",
    "            nn.Hardswish(),\n",
    "            nn.LayerNorm(hidden_dim),\n",
    "            nn.ReLU(),\n",
    "            nn.Linear(hidden_dim, hidden_dim //2),\n",
    "            nn.ReLU(),\n",
    "            nn.Linear(hidden_dim // 2, 1), # Final Output\n",
    "        )\n",
    "\n",
    "    def forward(self, x):\n",
    "        return self.model(x)\n"
   ],
   "id": "7c833cd7ab83fa95"
  }
 ],
 "metadata": {
  "kernelspec": {
   "display_name": "Python 3",
   "language": "python",
   "name": "python3"
  },
  "language_info": {
   "codemirror_mode": {
    "name": "ipython",
    "version": 2
   },
   "file_extension": ".py",
   "mimetype": "text/x-python",
   "name": "python",
   "nbconvert_exporter": "python",
   "pygments_lexer": "ipython2",
   "version": "2.7.6"
  }
 },
 "nbformat": 4,
 "nbformat_minor": 5
}
