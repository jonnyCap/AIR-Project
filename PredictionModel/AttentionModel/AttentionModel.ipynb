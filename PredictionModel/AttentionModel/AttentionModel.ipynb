{
 "cells": [
  {
   "metadata": {},
   "cell_type": "markdown",
   "source": [
    "# AttentionModel\n",
    "This model combines multiple Bert layers"
   ],
   "id": "e72154d720d2d973"
  },
  {
   "cell_type": "code",
   "execution_count": null,
   "id": "initial_id",
   "metadata": {
    "collapsed": true
   },
   "outputs": [],
   "source": [
    "import torch\n",
    "import torch.nn as nn\n",
    "\n",
    "class AttentionFusion(nn.Module):\n",
    "    def __init__(self, input_dim, hidden_dim, *args, **kwargs):\n",
    "        super(AttentionFusion, self).__init__()\n",
    "\n",
    "        # Fully connected layer to compute attention scores\n",
    "        self.attention_fc = nn.Linear(input_dim, hidden_dim)\n",
    "        self.context_vector = nn.Linear(hidden_dim, 1, bias=False)\n",
    "\n",
    "    def forward(self, text_embeddings):\n",
    "        \"\"\"\n",
    "        text_embeddings: Tensor of shape [batch_size, num_inputs, input_dim]\n",
    "                         (e.g., [batch_size, 10, 384] for 10 BERT-encoded vectors)\n",
    "        \"\"\"\n",
    "        # Compute attention scores\n",
    "        hidden_representation = torch.tanh(self.attention_fc(text_embeddings))  # Shape: [batch_size, num_inputs, hidden_dim]\n",
    "        attention_scores = self.context_vector(hidden_representation).squeeze(-1)  # Shape: [batch_size, num_inputs]\n",
    "\n",
    "        # Normalize scores with softmax\n",
    "        attention_weights = torch.softmax(attention_scores, dim=1)  # Shape: [batch_size, num_inputs]\n",
    "\n",
    "        # Apply attention weights\n",
    "        weighted_sum = torch.sum(attention_weights.unsqueeze(-1) * text_embeddings, dim=1)  # Shape: [batch_size, input_dim]\n",
    "\n",
    "        return weighted_sum, attention_weights"
   ]
  }
 ],
 "metadata": {
  "kernelspec": {
   "display_name": "Python 3",
   "language": "python",
   "name": "python3"
  },
  "language_info": {
   "codemirror_mode": {
    "name": "ipython",
    "version": 2
   },
   "file_extension": ".py",
   "mimetype": "text/x-python",
   "name": "python",
   "nbconvert_exporter": "python",
   "pygments_lexer": "ipython2",
   "version": "2.7.6"
  }
 },
 "nbformat": 4,
 "nbformat_minor": 5
}
