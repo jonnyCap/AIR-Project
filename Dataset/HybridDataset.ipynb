{
 "cells": [
  {
   "metadata": {},
   "cell_type": "markdown",
   "source": [
    "# Hybrid Mode - Dataset Creation \n",
    "we want to use the following structure to train our model:\n",
    "\n",
    "Input:\n",
    "- idea_text: \"AI-powered e-commerce platform...\"\n",
    "- static_features: [market_size, investment, competition, team_strength]\n",
    "- historical_stock: [month_1, month_2, ..., month_36]\n",
    "\n",
    "Target:\n",
    "- stock_performance (next 12 months): [month_37, month_38, ..., month_48]\n",
    "\n",
    "---\n",
    "\n",
    "\n",
    "This should then produce the follwoing output with our model:\n",
    "\n",
    "Input:\n",
    "- idea_text: \"AI-powered e-commerce platform...\"\n",
    "\n",
    "Optional Input:\n",
    "- static_features: [market_size, investment, competition, team_strength]\n",
    "\n",
    "Output:\n",
    "- Predicted stock performance (next 12 months): [month_1, month_2, ..., month_12]\n"
   ],
   "id": "2c0ff1aebfe8d5b0"
  },
  {
   "metadata": {},
   "cell_type": "markdown",
   "source": [
    "### Huggingface Dataset\n",
    "We will use the shortbread/tickers dataset to get tickers of US companies"
   ],
   "id": "642373f903f45483"
  },
  {
   "metadata": {
    "ExecuteTime": {
     "end_time": "2024-11-21T19:21:56.364200Z",
     "start_time": "2024-11-21T19:21:55.706455Z"
    }
   },
   "cell_type": "code",
   "source": [
    "from datasets import load_dataset\n",
    "\n",
    "# Load the dataset\n",
    "def get_tickers():\n",
    "    initial_dataset = load_dataset(\"shortbread/tickers\", split=\"train\")\n",
    "\n",
    "    # Select only the required columns and rename 'long_business_summary' to 'idea'\n",
    "    updated_dataset = initial_dataset.remove_columns([col for col in initial_dataset.column_names if col not in ['symbol']])\n",
    "    \n",
    "    dataset_array = updated_dataset['symbol']\n",
    "\n",
    "    # Display a few rows of the filtered and renamed dataset\n",
    "    print(dataset_array)\n",
    "    return dataset_array "
   ],
   "id": "f70cbe34b1001e85",
   "outputs": [],
   "execution_count": 1
  },
  {
   "metadata": {},
   "cell_type": "markdown",
   "source": [
    "### Fetching additional data\n",
    "We use the dataset from Hugginface as startingpoint and will now provide methods to fetch additional data"
   ],
   "id": "2aa42139fb1eced4"
  },
  {
   "metadata": {
    "ExecuteTime": {
     "end_time": "2024-11-21T19:23:14.824647Z",
     "start_time": "2024-11-21T19:21:56.445220Z"
    }
   },
   "cell_type": "code",
   "source": [
    "import pandas as pd\n",
    "import yfinance as yf\n",
    "import os\n",
    "import time\n",
    "\n",
    "# Function to fetch stock performance data\n",
    "def fetch_stock_performance(ticker, months=12):\n",
    "    try:\n",
    "        # Fetch historical stock data and convert to monthly\n",
    "        stock = yf.Ticker(ticker)\n",
    "        hist = stock.history(period=\"5y\", interval=\"1mo\")  # Monthly data for up to 3 years\n",
    "        monthly_close = hist['Close'][-months:].tolist()  # Get the last `months` of data\n",
    "        return monthly_close\n",
    "    except Exception as e:\n",
    "        print(f\"Error fetching stock performance for {ticker}: {e}\")\n",
    "        return None\n",
    "\n",
    "# Function to fetch business description\n",
    "def fetch_business_description(ticker):\n",
    "    try:\n",
    "        stock = yf.Ticker(ticker)\n",
    "        description = stock.info.get(\"longBusinessSummary\", \"No description available.\")\n",
    "        return description\n",
    "    except Exception as e:\n",
    "        print(f\"Error fetching business description for {ticker}: {e}\")\n",
    "        return \"No description available.\"\n",
    "\n",
    "# Function to fetch market size (revenue)\n",
    "def fetch_market_size(ticker):\n",
    "    try:\n",
    "        stock = yf.Ticker(ticker)\n",
    "        # Revenue (Total Revenue TTM)\n",
    "        revenue = stock.financials.loc[\"Total Revenue\"].iloc[0]  # Most recent revenue\n",
    "        return revenue\n",
    "    except Exception as e:\n",
    "        print(f\"Error fetching market size for {ticker}: {e}\")\n",
    "        return 0\n",
    "\n",
    "# Function to fetch investment (total assets)\n",
    "def fetch_investment(ticker):\n",
    "    try:\n",
    "        stock = yf.Ticker(ticker)\n",
    "        # Total assets (most recent)\n",
    "        total_assets = stock.balance_sheet.loc[\"Total Assets\"].iloc[0]\n",
    "        return total_assets\n",
    "    except Exception as e:\n",
    "        print(f\"Error fetching investment for {ticker}: {e}\")\n",
    "        return 0\n",
    "\n",
    "# Function to calculate competition (market share)\n",
    "def fetch_competition(ticker, industry_revenue):\n",
    "    try:\n",
    "        stock = yf.Ticker(ticker)\n",
    "        # Revenue (Total Revenue TTM)\n",
    "        revenue = stock.financials.loc[\"Total Revenue\"].iloc[0]\n",
    "        # Calculate market share\n",
    "        market_share = revenue / industry_revenue if industry_revenue > 0 else 0\n",
    "        competition_index = 1 - market_share  # Lower market share = more competition\n",
    "        return competition_index\n",
    "    except Exception as e:\n",
    "        print(f\"Error fetching competition for {ticker}: {e}\")\n",
    "        return 0\n",
    "\n",
    "# Function to fetch team strength (number of employees)\n",
    "def fetch_team_strength(ticker):\n",
    "    try:\n",
    "        stock = yf.Ticker(ticker)\n",
    "        # Number of full-time employees\n",
    "        employees = stock.info.get(\"fullTimeEmployees\", 0)\n",
    "        return employees\n",
    "    except Exception as e:\n",
    "        print(f\"Error fetching team strength for {ticker}: {e}\")\n",
    "        return 0\n",
    "\n",
    "# Main function to create the dataset\n",
    "def create_real_dataset(tickers, months=12):\n",
    "    data = []\n",
    "    for ticker in tickers:\n",
    "        print(f\"Processing {ticker}...\")\n",
    "\n",
    "        # Fetch stock performance\n",
    "        stock_performance = fetch_stock_performance(ticker, months)\n",
    "        if not stock_performance:\n",
    "            continue\n",
    "\n",
    "        # Fetch business description\n",
    "        description = fetch_business_description(ticker)\n",
    "\n",
    "        # Extract static features\n",
    "        market_size = fetch_market_size(ticker)\n",
    "        investment = fetch_investment(ticker)\n",
    "        team_strength = fetch_team_strength(ticker)\n",
    "\n",
    "        # Combine all data into a dictionary\n",
    "        data.append({\n",
    "            \"ticker\": ticker,\n",
    "            \"business_description\": description,\n",
    "            \"market_size\": market_size,\n",
    "            \"investment\": investment,\n",
    "            \"team_strength\": team_strength,\n",
    "            **{f\"month_{i+1}_performance\": sp for i, sp in enumerate(stock_performance)}\n",
    "        })\n",
    "\n",
    "    return pd.DataFrame(data)\n",
    "\n",
    "def process_tickers_in_batches(tickers, batch_size=100, output_file=\"Data/real_company_stock_dataset.csv\", months=24):\n",
    "    # Process tickers in batches\n",
    "    for i in range(0, len(tickers), batch_size):\n",
    "        batch = tickers[i:i + batch_size]\n",
    "        print(f\"Processing batch {i // batch_size + 1} of {len(tickers) // batch_size + 1}...\")\n",
    "\n",
    "        # Process the batch using the existing method\n",
    "        batch_data = create_real_dataset(batch, months=months)\n",
    "\n",
    "        # Save the batch to the output file\n",
    "        if not batch_data.empty:\n",
    "            if not os.path.exists(output_file):\n",
    "                print(\"Creating output file...\")\n",
    "                batch_data.to_csv(output_file, index=False)\n",
    "            else:\n",
    "                print(\"Appending to output file...\")\n",
    "                batch_data.to_csv(output_file, mode='a', header=False, index=False)\n",
    "\n",
    "        print(f\"Batch {i // batch_size + 1} processed and saved.\")\n",
    "        \n",
    "        # Add a delay between batches to respect API rate limits\n",
    "        time.sleep(10)  # Adjust as needed\n",
    "\n",
    "# Example usage\n",
    "if __name__ == \"__main__\":\n",
    "    # Simulated list of 10,000 tickers\n",
    "    fetched_tickers = get_tickers()\n",
    "\n",
    "    # Process tickers in batches\n",
    "    process_tickers_in_batches(fetched_tickers, batch_size=100)\n",
    "    print(\"Dataset creation complete!\")\n"
   ],
   "id": "38faad8c6043dd59",
   "outputs": [
    {
     "name": "stdout",
     "output_type": "stream",
     "text": [
      "['A', 'AA', 'AAC', 'AACG', 'AACI', 'AACT', 'AADI', 'AAIC', 'AAL', 'AAMC', 'AAME', 'AAN', 'AAOI', 'AAON', 'AAP', 'AAPL', 'AAT', 'AAU', 'AB', 'ABBV', 'ABC', 'ABCB', 'ABCL', 'ABCM', 'ABEO', 'ABEV', 'ABG', 'ABIO', 'ABL', 'ABLV', 'ABM', 'ABNB', 'ABOS', 'ABR', 'ABSI', 'ABST', 'ABT', 'ABUS', 'ABVC', 'AC', 'ACA', 'ACAB', 'ACAC', 'ACAD', 'ACAH', 'ACAQ', 'ACAX', 'ACB', 'ACBA', 'ACCD', 'ACCO', 'ACDC', 'ACEL', 'ACER', 'ACET', 'ACGL', 'ACGLO', 'ACGN', 'ACHC', 'ACHL', 'ACHR', 'ACHV', 'ACI', 'ACIC', 'ACIU', 'ACIW', 'ACLS', 'ACLX', 'ACM', 'ACMR', 'ACN', 'ACNB', 'ACNT', 'ACON', 'ACOR', 'ACP', 'ACR', 'ACRE', 'ACRO', 'ACRS', 'ACRV', 'ACRX', 'ACST', 'ACT', 'ACTG', 'ACU', 'ACV', 'ACVA', 'ACWV', 'ACXP', 'ADAG', 'ADAP', 'ADBE', 'ADC', 'ADCT', 'ADD', 'ADEA', 'ADER', 'ADES', 'ADEX', 'ADI', 'ADIL', 'ADM', 'ADMA', 'ADMP', 'ADN', 'ADNT', 'ADOC', 'ADP', 'ADPT', 'ADRT', 'ADSE', 'ADSK', 'ADT', 'ADTH', 'ADTN', 'ADTX', 'ADUS', 'ADV', 'ADVM', 'ADX', 'ADXN', 'AE', 'AEAE', 'AEE', 'AEF', 'AEG', 'AEHL', 'AEHR', 'AEI', 'AEIS', 'AEL', 'AEM', 'AEMD', 'AENT', 'AENZ', 'AEO', 'AEON', 'AEP', 'AER', 'AES', 'AESI', 'AEVA', 'AEY', 'AEYE', 'AEZS', 'AFAR', 'AFB', 'AFBI', 'AFCG', 'AFG', 'AFIB', 'AFK', 'AFL', 'AFMD', 'AFRI', 'AFRM', 'AFT', 'AFTR', 'AFTY', 'AFYA', 'AG', 'AGAC', 'AGAE', 'AGBA', 'AGCO', 'AGD', 'AGE', 'AGEN', 'AGFY', 'AGG', 'AGGY', 'AGI', 'AGIL', 'AGIO', 'AGL', 'AGLE', 'AGM', 'AGMH', 'AGNC', 'AGNCM', 'AGNCN', 'AGO', 'AGQ', 'AGR', 'AGRI', 'AGRO', 'AGRX', 'AGS', 'AGTI', 'AGX', 'AGZ', 'AHCO', 'AHG', 'AHH', 'AHI', 'AHT', 'AI', 'AIB', 'AIF', 'AIG', 'AIH', 'AIHS', 'AIM', 'AIMD', 'AIN', 'AINC', 'AIO', 'AIP', 'AIR', 'AIRC', 'AIRG', 'AIRI', 'AIRS', 'AIRT', 'AIRTP', 'AIT', 'AIU', 'AIV', 'AIVI', 'AIVL', 'AIXI', 'AIZ', 'AJG', 'AKA', 'AKAM', 'AKAN', 'AKBA', 'AKLI', 'AKR', 'AKRO', 'AKTS', 'AKTX', 'AKU', 'AKYA', 'AL', 'ALAR', 'ALB', 'ALBT', 'ALC', 'ALCC', 'ALCO', 'ALCY', 'ALDX', 'ALE', 'ALEC', 'ALEX', 'ALG', 'ALGM', 'ALGN', 'ALGS', 'ALGT', 'ALHC', 'ALIM', 'ALIT', 'ALK', 'ALKS', 'ALKT', 'ALL', 'ALLE', 'ALLG', 'ALLK', 'ALLO', 'ALLR', 'ALLT', 'ALLY', 'ALNY', 'ALOR', 'ALOT', 'ALPA', 'ALPN', 'ALPP', 'ALPS', 'ALRM', 'ALRN', 'ALRS', 'ALSA', 'ALSN', 'ALT', 'ALTG', 'ALTI', 'ALTO', 'ALTR', 'ALTU', 'ALUR', 'ALV', 'ALVO', 'ALVR', 'ALX', 'ALXO', 'ALYA', 'ALZN', 'AM', 'AMAL', 'AMAM', 'AMAO', 'AMAT', 'AMBA', 'AMBC', 'AMBI', 'AMBO', 'AMBP', 'AMC', 'AMCR', 'AMCX', 'AMD', 'AME', 'AMED', 'AMEH', 'AMG', 'AMGN', 'AMH', 'AMJ', 'AMK', 'AMKR', 'AMLI', 'AMLP', 'AMLX', 'AMN', 'AMNB', 'AMOT', 'AMP', 'AMPE', 'AMPG', 'AMPH', 'AMPL', 'AMPS', 'AMPX', 'AMPY', 'AMR', 'AMRC', 'AMRK', 'AMRN', 'AMRS', 'AMRX', 'AMS', 'AMSC', 'AMSF', 'AMST', 'AMSWA', 'AMT', 'AMTB', 'AMTD', 'AMTI', 'AMTX', 'AMWD', 'AMWL', 'AMX', 'AMZA', 'AMZN', 'AN', 'ANAB', 'ANDE', 'ANEB', 'ANET', 'ANF', 'ANGH', 'ANGI', 'ANGO', 'ANIK', 'ANIP', 'ANIX', 'ANL', 'ANNX', 'ANSS', 'ANTE', 'ANTX', 'ANVS', 'ANY', 'ANZU', 'AOA', 'AOD', 'AOGO', 'AOK', 'AOM', 'AOMR', 'AON', 'AONC', 'AOR', 'AORT', 'AOS', 'AOSL', 'AOUT', 'AP', 'APA', 'APAC', 'APAM', 'APCA', 'APCX', 'APD', 'APDN', 'APE', 'APEI', 'APG', 'APGB', 'APGE', 'APGN', 'APH', 'API', 'APLD', 'APLE', 'APLM', 'APLMW', 'APLS', 'APLT', 'APM', 'APMI', 'APO', 'APOG', 'APP', 'APPF', 'APPH', 'APPN', 'APPS', 'APRE', 'APRN', 'APT', 'APTM', 'APTO', 'APTV', 'APVO', 'APWC', 'APXI', 'APYX', 'AQB', 'AQMS', 'AQN', 'AQST', 'AQU', 'AR', 'ARAV', 'ARAY', 'ARBB', 'ARBE', 'ARBG', 'ARBK', 'ARC', 'ARCB', 'ARCC', 'ARCE', 'ARCH', 'ARCO', 'ARCT', 'ARDC', 'ARDS', 'ARDX', 'ARE', 'AREB', 'AREC', 'AREN', 'ARES', 'ARGO', 'ARGT', 'ARGX', 'ARHS', 'ARI', 'ARIS', 'ARIZ', 'ARKG', 'ARKK', 'ARKO', 'ARKQ', 'ARKR', 'ARKW', 'ARL', 'ARLO', 'ARLP', 'ARM', 'ARMK', 'ARMP', 'ARNC', 'AROC', 'AROW', 'ARQQ', 'ARQT', 'ARR', 'ARRW', 'ARRY', 'ARTE', 'ARTL', 'ARTNA', 'ARTW', 'ARVL', 'ARVN', 'ARW', 'ARWR', 'ARYD', 'ARYE', 'ASA', 'ASAI', 'ASAN', 'ASB', 'ASC', 'ASCA', 'ASCB', 'ASEA', 'ASG', 'ASGI', 'ASGN', 'ASH', 'ASHR', 'ASHS', 'ASHX', 'ASIX', 'ASLE', 'ASLN', 'ASM', 'ASMB', 'ASML', 'ASND', 'ASNS', 'ASO', 'ASPA', 'ASPI', 'ASPN', 'ASPS', 'ASR', 'ASRT', 'ASRV', 'ASST', 'ASTC', 'ASTE', 'ASTI', 'ASTL', 'ASTR', 'ASTS', 'ASUR', 'ASX', 'ASXC', 'ASYS', 'ATAI', 'ATAK', 'ATAQ', 'ATAT', 'ATEC', 'ATEK', 'ATEN', 'ATER', 'ATEX', 'ATGE', 'ATHA', 'ATHE', 'ATHM', 'ATHX', 'ATI', 'ATIF', 'ATIP', 'ATKR', 'ATLC', 'ATLO', 'ATLX', 'ATMC', 'ATMP', 'ATMU', 'ATMV', 'ATNF', 'ATNI', 'ATNM', 'ATO', 'ATOM', 'ATOS', 'ATR', 'ATRA', 'ATRC', 'ATRI', 'ATRO', 'ATS', 'ATSG', 'ATTO', 'ATUS', 'ATVI', 'ATXG', 'ATXI', 'ATXS', 'AU', 'AUB', 'AUBN', 'AUDC', 'AUGX', 'AUID', 'AULT', 'AUMN', 'AUPH', 'AUR', 'AURA', 'AURC', 'AUST', 'AUTL', 'AUUD', 'AUVI', 'AVA', 'AVAH', 'AVAL', 'AVAV', 'AVB', 'AVD', 'AVDL', 'AVDX', 'AVGO', 'AVGR', 'AVHI', 'AVID', 'AVIR', 'AVK', 'AVNS', 'AVNT', 'AVNW', 'AVO', 'AVPT', 'AVRO', 'AVT', 'AVTA', 'AVTE', 'AVTR', 'AVTX', 'AVXL', 'AVY', 'AWF', 'AWH', 'AWI', 'AWIN', 'AWK', 'AWP', 'AWR', 'AWRE', 'AWX', 'AX', 'AXDX', 'AXGN', 'AXL', 'AXLA', 'AXNX', 'AXON', 'AXP', 'AXR', 'AXS', 'AXSM', 'AXTA', 'AXTI', 'AY', 'AYI', 'AYRO', 'AYTU', 'AYX', 'AZ', 'AZEK', 'AZN', 'AZO', 'AZPN', 'AZTA', 'AZTR', 'AZUL', 'AZYO', 'AZZ', 'B', 'BA', 'BAB', 'BABA', 'BAC', 'BACA', 'BACK', 'BAER', 'BAFN', 'BAH', 'BAK', 'BALL', 'BALY', 'BAM', 'BANC', 'BAND', 'BANF', 'BANL', 'BANR', 'BANX', 'BAOS', 'BAP', 'BARK', 'BASE', 'BATL', 'BATRA', 'BATRK', 'BAX', 'BB', 'BBAI', 'BBAR', 'BBC', 'BBCP', 'BBD', 'BBDC', 'BBDO', 'BBGI', 'BBIG', 'BBIO', 'BBLG', 'BBN', 'BBP', 'BBSI', 'BBU', 'BBUC', 'BBVA', 'BBW', 'BBWI', 'BBY', 'BC', 'BCAB', 'BCAL', 'BCAN', 'BCAT', 'BCBP', 'BCC', 'BCDA', 'BCE', 'BCEL', 'BCH', 'BCLI', 'BCML', 'BCO', 'BCOV', 'BCOW', 'BCPC', 'BCRX', 'BCS', 'BCSA', 'BCSF', 'BCTX', 'BCV', 'BCX', 'BCYC', 'BDC', 'BDJ', 'BDL', 'BDN', 'BDRX', 'BDSX', 'BDTX', 'BDX', 'BE', 'BEAM', 'BEAT', 'BECN', 'BEDU', 'BEEM', 'BEEP', 'BEKE', 'BELFA', 'BELFB', 'BEN', 'BENF', 'BEP', 'BEPC', 'BERY', 'BEST', 'BETS', 'BFAC', 'BFAM', 'BFC', 'BFH', 'BFI', 'BFIN', 'BFK', 'BFLY', 'BFOR', 'BFRG', 'BFRI', 'BFS', 'BFST', 'BFZ', 'BG', 'BGB', 'BGC', 'BGFV', 'BGH', 'BGI', 'BGLC', 'BGNE', 'BGR', 'BGRY', 'BGS', 'BGSF', 'BGT', 'BGX', 'BGXX', 'BGY', 'BH', 'BHAC', 'BHAT', 'BHB', 'BHC', 'BHE', 'BHF', 'BHFAL', 'BHFAP', 'BHG', 'BHIL', 'BHK', 'BHLB', 'BHM', 'BHP', 'BHR', 'BHRB', 'BHV', 'BHVN', 'BIAF', 'BIDU', 'BIG', 'BIGC', 'BIGZ', 'BIIB', 'BIL', 'BILI', 'BILL', 'BIMI', 'BIO', 'BIOC', 'BIOL', 'BIOR', 'BIOS', 'BIOX', 'BIP', 'BIPC', 'BIRD', 'BIT', 'BITE', 'BITF', 'BIV', 'BIVI', 'BIZD', 'BJ', 'BJDX', 'BJRI', 'BK', 'BKCC', 'BKD', 'BKE', 'BKF', 'BKH', 'BKI', 'BKKT', 'BKLN', 'BKN', 'BKNG', 'BKR', 'BKSC', 'BKSY', 'BKT', 'BKTI', 'BKU', 'BKYI', 'BL', 'BLAC', 'BLBD', 'BLBX', 'BLCO', 'BLD', 'BLDE', 'BLDP', 'BLDR', 'BLE', 'BLEU', 'BLFS', 'BLFY', 'BLIN', 'BLK', 'BLKB', 'BLMN', 'BLND', 'BLNG', 'BLNK', 'BLPH', 'BLRX', 'BLTE', 'BLUA', 'BLUE', 'BLV', 'BLW', 'BLX', 'BLZE', 'BMA', 'BMAC', 'BMBL', 'BME', 'BMEA', 'BMEZ', 'BMI', 'BMN', 'BMO', 'BMR', 'BMRA', 'BMRC', 'BMRN', 'BMTX', 'BMVP', 'BMY', 'BN', 'BNDC', 'BNED', 'BNGO', 'BNIX', 'BNL', 'BNMV', 'BNO', 'BNOX', 'BNR', 'BNRE', 'BNRG', 'BNS', 'BNTC', 'BNTX', 'BNY', 'BOAC', 'BOC', 'BOCN', 'BODY', 'BOE', 'BOF', 'BOH', 'BOIL', 'BOKF', 'BOLT', 'BON', 'BOND', 'BOOM', 'BOOT', 'BORR', 'BOSC', 'BOTJ', 'BOWL', 'BOWN', 'BOX', 'BOXL', 'BP', 'BPMC', 'BPOP', 'BPRN', 'BPT', 'BPTH', 'BPTS', 'BPYPP', 'BQ', 'BR', 'BRAC', 'BRAG', 'BRBR', 'BRBS', 'BRC', 'BRCC', 'BRD', 'BRDG', 'BRDS', 'BREA', 'BREZ', 'BRF', 'BRFH', 'BRFS', 'BRID', 'BRKH', 'BRKL', 'BRKR', 'BRLI', 'BRLT', 'BRN', 'BRO', 'BROG', 'BROS', 'BRP', 'BRQS', 'BRSH', 'BRSP', 'BRT', 'BRTX', 'BRW', 'BRX', 'BRY', 'BRZE', 'BRZU', 'BSAC', 'BSAQ', 'BSBK', 'BSBR', 'BSET', 'BSFC', 'BSGM', 'BSIG', 'BSL', 'BSM', 'BSQR', 'BSRR', 'BST', 'BSTZ', 'BSV', 'BSVN', 'BSX', 'BSY', 'BTA', 'BTAI', 'BTAL', 'BTB', 'BTBD', 'BTBT', 'BTCM', 'BTCS', 'BTCY', 'BTDR', 'BTE', 'BTG', 'BTI', 'BTM', 'BTMD', 'BTO', 'BTOG', 'BTT', 'BTTR', 'BTTX', 'BTU', 'BTWN', 'BTZ', 'BUD', 'BUI', 'BUJA', 'BUR', 'BURL', 'BURU', 'BUSE', 'BV', 'BVFL', 'BVH', 'BVN', 'BVS', 'BVXV', 'BW', 'BWA', 'BWAC', 'BWAQ', 'BWAY', 'BWB', 'BWC', 'BWEN', 'BWFG', 'BWG', 'BWMN', 'BWMX', 'BWV', 'BWX', 'BWXT', 'BWZ', 'BX', 'BXC', 'BXMT', 'BXMX', 'BXP', 'BXRX', 'BXSL', 'BY', 'BYD', 'BYFC', 'BYLD', 'BYM', 'BYN', 'BYND', 'BYNO', 'BYRN', 'BYSI', 'BYTS', 'BZ', 'BZFD', 'BZH', 'BZQ', 'BZUN', 'C', 'CAAP', 'CAAS', 'CABA', 'CABO', 'CAC', 'CACC', 'CACI', 'CACO', 'CADE', 'CADL', 'CAE', 'CAF', 'CAG', 'CAH', 'CAKE', 'CAL', 'CALB', 'CALC', 'CALM', 'CALT', 'CALX', 'CAMP', 'CAMT', 'CAN', 'CANB', 'CANE', 'CANF', 'CANG', 'CANO', 'CAPL', 'CAPR', 'CAR', 'CARA', 'CARE', 'CARG', 'CARM', 'CARR', 'CARS', 'CART', 'CARV', 'CASA', 'CASH', 'CASI', 'CASS', 'CASY', 'CAT', 'CATC', 'CATO', 'CATX', 'CATY', 'CAVA', 'CB', 'CBAN', 'CBAT', 'CBAY', 'CBD', 'CBFV', 'CBH', 'CBIO', 'CBL', 'CBNK', 'CBOE', 'CBON', 'CBRE', 'CBRG', 'CBRL', 'CBSH', 'CBT', 'CBU', 'CBUS', 'CBZ', 'CC', 'CCAI', 'CCAP', 'CCB', 'CCBG', 'CCCC', 'CCCS', 'CCD', 'CCEL', 'CCEP', 'CCF', 'CCG', 'CCI', 'CCJ', 'CCK', 'CCL', 'CCLD', 'CCLP', 'CCM', 'CCNE', 'CCO', 'CCOI', 'CCRD', 'CCRN', 'CCS', 'CCSI', 'CCTS', 'CCU', 'CCV', 'CCVI', 'CCZ', 'CD', 'CDAQ', 'CDAY', 'CDE', 'CDIO', 'CDLX', 'CDMO', 'CDNA', 'CDNS', 'CDRE', 'CDRO', 'CDT', 'CDTX', 'CDW', 'CDXC', 'CDXS', 'CDZI', 'CE', 'CEAD', 'CECO', 'CEE', 'CEG', 'CEI', 'CEIX', 'CELC', 'CELH', 'CELL', 'CELU', 'CELZ', 'CEM', 'CEMB', 'CEN', 'CENN', 'CENT', 'CENTA', 'CENX', 'CEPU', 'CEQP', 'CERE', 'CERS', 'CERT', 'CET', 'CETU', 'CETX', 'CETXP', 'CETY', 'CEV', 'CEVA', 'CEW', 'CF', 'CFB', 'CFBK', 'CFFE', 'CFFI', 'CFFN', 'CFFS', 'CFG', 'CFIV', 'CFLT', 'CFMS', 'CFR', 'CFRX', 'CFSB', 'CG', 'CGA', 'CGAU', 'CGBD', 'CGC', 'CGEM', 'CGEN', 'CGNT', 'CGNX', 'CGO', 'CGRN', 'CGTX', 'CGW', 'CHAA', 'CHAU', 'CHCI', 'CHCO', 'CHCT', 'CHD', 'CHDN', 'CHE', 'CHEA', 'CHEF', 'CHEK', 'CHGG', 'CHH', 'CHI', 'CHIE', 'CHII', 'CHIM', 'CHIQ', 'CHIX', 'CHK', 'CHKP', 'CHMG', 'CHMI', 'CHN', 'CHNR', 'CHPT', 'CHRD', 'CHRS', 'CHRW', 'CHS', 'CHSN', 'CHT', 'CHTR', 'CHUY', 'CHW', 'CHWY', 'CHX', 'CHY', 'CI', 'CIA', 'CIB', 'CIEN', 'CIF', 'CIFR', 'CIG', 'CIGI', 'CII', 'CIK', 'CIM', 'CINF', 'CING', 'CINT', 'CIO', 'CION', 'CIR', 'CISO', 'CISS', 'CITE', 'CIVB', 'CIVI', 'CIX', 'CIZN', 'CJET', 'CJJD', 'CKPT', 'CKX', 'CL', 'CLAR', 'CLAY', 'CLB', 'CLBK', 'CLBR', 'CLBT', 'CLCO', 'CLDI', 'CLDT', 'CLDX', 'CLEU', 'CLF', 'CLFD', 'CLGN', 'CLH', 'CLIN', 'CLIR', 'CLLS', 'CLM', 'CLMB', 'CLMT', 'CLNE', 'CLNN', 'CLOE', 'CLOV', 'CLPR', 'CLPS', 'CLPT', 'CLRB', 'CLRC', 'CLRO', 'CLS', 'CLSD', 'CLSK', 'CLST', 'CLVR', 'CLVT', 'CLW', 'CLWT', 'CLX', 'CM', 'CMA', 'CMAX', 'CMBM', 'CMBS', 'CMC', 'CMCA', 'CMCL', 'CMCM', 'CMCO', 'CMCSA', 'CMCT', 'CME', 'CMF', 'CMG', 'CMI', 'CMLS', 'CMMB', 'CMND', 'CMP', 'CMPO', 'CMPR', 'CMPS', 'CMPX', 'CMRA', 'CMRE', 'CMRX', 'CMS', 'CMT', 'CMTG', 'CMTL', 'CMU', 'CN', 'CNA', 'CNC', 'CNDA', 'CNDB', 'CNDT', 'CNET', 'CNEY', 'CNF', 'CNFR', 'CNGL', 'CNHI', 'CNI', 'CNK', 'CNM', 'CNMD', 'CNNE', 'CNO', 'CNOB', 'CNP', 'CNQ', 'CNS', 'CNSL', 'CNSP', 'CNTA', 'CNTB', 'CNTG', 'CNTX', 'CNTY', 'CNVS', 'CNX', 'CNXA', 'CNXC', 'CNXN', 'CNXT', 'CNYA', 'COCO', 'COCP', 'CODA', 'CODI', 'CODX', 'COE', 'COEP', 'COF', 'COFS', 'COGT', 'COHN', 'COHR', 'COHU', 'COIN', 'COKE', 'COLB', 'COLD', 'COLL', 'COLM', 'COMM', 'COMP', 'COMS', 'CONN', 'CONX', 'COO', 'COOK', 'COOL', 'COOP', 'COP', 'COPX', 'COR', 'CORN', 'CORP', 'CORR', 'CORT', 'COSM', 'COST', 'COTY', 'COUR', 'COYA', 'CP', 'CPA', 'CPAA', 'CPAC', 'CPB', 'CPE', 'CPER', 'CPF', 'CPG', 'CPHC', 'CPHI', 'CPI', 'CPIX', 'CPK', 'CPLP', 'CPNG', 'CPOP', 'CPRI', 'CPRT', 'CPRX', 'CPS', 'CPSH', 'CPSI', 'CPSS', 'CPT', 'CPTK', 'CPTN', 'CPUH', 'CPZ', 'CQP', 'CQQQ', 'CR', 'CRAI', 'CRAK', 'CRBG', 'CRBN', 'CRBP', 'CRBU', 'CRC', 'CRCT', 'CRDF', 'CRDL', 'CRDO', 'CREG', 'CRESY', 'CREX', 'CRF', 'CRGE', 'CRGO', 'CRGY', 'CRH', 'CRI', 'CRIS', 'CRK', 'CRKN', 'CRL', 'CRM', 'CRMD', 'CRMT', 'CRNC', 'CRNT', 'CRNX', 'CRON', 'CROX', 'CRS', 'CRSP', 'CRSR', 'CRT', 'CRTO', 'CRUS', 'CRVL', 'CRVO', 'CRVS', 'CRWD', 'CRWS', 'CSAN', 'CSBR', 'CSCO', 'CSD', 'CSGP', 'CSGS', 'CSIQ', 'CSL', 'CSLM', 'CSLR', 'CSM', 'CSPI', 'CSQ', 'CSR', 'CSSE', 'CSSEP', 'CSTA', 'CSTE', 'CSTL', 'CSTM', 'CSTR', 'CSV', 'CSWC', 'CSWI', 'CSX', 'CTAS', 'CTBI', 'CTCX', 'CTG', 'CTGO', 'CTHR', 'CTIB', 'CTKB', 'CTLP', 'CTLT', 'CTM', 'CTMX', 'CTNT', 'CTO', 'CTOS', 'CTR', 'CTRA', 'CTRE', 'CTRM', 'CTRN', 'CTS', 'CTSH', 'CTSO', 'CTV', 'CTVA', 'CTXR', 'CUBA', 'CUBE', 'CUBI', 'CUE', 'CUEN', 'CUK', 'CULL', 'CULP', 'CURE', 'CURI', 'CURO', 'CURV', 'CUT', 'CUTR', 'CUZ', 'CVAC', 'CVBF', 'CVCO', 'CVCY', 'CVE', 'CVEO', 'CVGI', 'CVGW', 'CVI', 'CVII', 'CVKD', 'CVLG', 'CVLT', 'CVLY', 'CVM', 'CVNA', 'CVR', 'CVRX', 'CVS', 'CVU', 'CVV', 'CVX', 'CVY', 'CW', 'CWAN', 'CWB', 'CWBC', 'CWBR', 'CWCO', 'CWD', 'CWEB', 'CWEN', 'CWH', 'CWI', 'CWK', 'CWST', 'CWT', 'CX', 'CXAC', 'CXAI', 'CXDO', 'CXE', 'CXH', 'CXM', 'CXT', 'CXW', 'CYAN', 'CYB', 'CYBN', 'CYBR', 'CYCC', 'CYCCP', 'CYCN', 'CYD', 'CYH', 'CYN', 'CYRX', 'CYT', 'CYTH', 'CYTK', 'CYTO', 'CZA', 'CZFS', 'CZNC', 'CZOO', 'CZR', 'CZWI', 'D', 'DAC', 'DADA', 'DAIO', 'DAKT', 'DAL', 'DALN', 'DALS', 'DAN', 'DAO', 'DAR', 'DARE', 'DASH', 'DATS', 'DAVA', 'DAVE', 'DAWN', 'DB', 'DBA', 'DBAW', 'DBB', 'DBC', 'DBD', 'DBE', 'DBEF', 'DBEM', 'DBEU', 'DBEZ', 'DBGI', 'DBGR', 'DBI', 'DBJP', 'DBL', 'DBO', 'DBP', 'DBRG', 'DBTX', 'DBVT', 'DBX', 'DC', 'DCBO', 'DCF', 'DCFC', 'DCGO', 'DCI', 'DCO', 'DCOM', 'DCPH', 'DCTH', 'DD', 'DDD', 'DDI', 'DDL', 'DDM', 'DDOG', 'DDS', 'DE', 'DEA', 'DECA', 'DECK', 'DEEF', 'DEEP', 'DEI', 'DELL', 'DEM', 'DEN', 'DENN', 'DEO', 'DERM', 'DES', 'DESP', 'DEUS', 'DEW', 'DFE', 'DFFN', 'DFH', 'DFIN', 'DFJ', 'DFLI', 'DFP', 'DFS', 'DG', 'DGHI', 'DGICA', 'DGICB', 'DGII', 'DGLY', 'DGP', 'DGRO', 'DGS', 'DGT', 'DGX', 'DGZ', 'DH', 'DHAC', 'DHC', 'DHCA', 'DHF', 'DHI', 'DHIL', 'DHR', 'DHS', 'DHT', 'DHX', 'DHY', 'DIA', 'DIAX', 'DIBS', 'DICE', 'DIEM', 'DIG', 'DIM', 'DIN', 'DINO', 'DIOD', 'DIS', 'DISA', 'DISH', 'DIST', 'DIT', 'DIV', 'DIVO', 'DJCO', 'DJP', 'DK', 'DKDCA', 'DKL', 'DKNG', 'DKS', 'DLA', 'DLB', 'DLHC', 'DLN', 'DLNG', 'DLO', 'DLPN', 'DLR', 'DLS', 'DLTH', 'DLTR', 'DLX', 'DLY', 'DM', 'DMA', 'DMAC', 'DMAQ', 'DMB', 'DMF', 'DMK', 'DMLP', 'DMO', 'DMRC', 'DMS', 'DMTK', 'DMYY', 'DNA', 'DNB', 'DNL', 'DNLI', 'DNMR', 'DNN', 'DNOW', 'DNP', 'DNTH', 'DNUT', 'DO', 'DOC', 'DOCN', 'DOCS', 'DOCU', 'DOG', 'DOGZ', 'DOL', 'DOLE', 'DOMA', 'DOMH', 'DOMO', 'DON', 'DOOO', 'DOOR', 'DORM', 'DOUG', 'DOV', 'DOW', 'DOX', 'DOYU', 'DPCS', 'DPG', 'DPRO', 'DPSI', 'DPST', 'DPZ', 'DQ', 'DRCT', 'DRD', 'DRH', 'DRI', 'DRIO', 'DRIP', 'DRMA', 'DRN', 'DRQ', 'DRRX', 'DRS', 'DRTS', 'DRTT', 'DRV', 'DRVN', 'DSGN', 'DSGR', 'DSGX', 'DSI', 'DSKE', 'DSL', 'DSM', 'DSP', 'DSS', 'DSU', 'DSWL', 'DSX', 'DT', 'DTC', 'DTCK', 'DTD', 'DTE', 'DTF', 'DTH', 'DTI', 'DTIL', 'DTM', 'DTOC', 'DTRE', 'DTSS', 'DTST', 'DUET', 'DUG', 'DUK', 'DUNE', 'DUO', 'DUOL', 'DUOT', 'DUST', 'DV', 'DVA', 'DVAX', 'DVN', 'DVYA', 'DVYE', 'DWAC', 'DWM', 'DWSN', 'DWX', 'DX', 'DXC', 'DXCM', 'DXD', 'DXF', 'DXJ', 'DXLG', 'DXPE', 'DXR', 'DXYN', 'DY', 'DYAI', 'DYN', 'DYNT', 'DZSI', 'DZZ', 'E', 'EA', 'EAC', 'EAD', 'EAF', 'EAR', 'EARN', 'EAST', 'EAT', 'EB', 'EBAY', 'EBC', 'EBET', 'EBF', 'EBIX', 'EBMT', 'EBND', 'EBON', 'EBR', 'EBS', 'EBTC', 'EC', 'ECAT', 'ECBK', 'ECF', 'ECH', 'ECL', 'ECNS', 'ECON', 'ECOR', 'ECPG', 'ECVT', 'ECX', 'ED', 'EDAP', 'EDBL', 'EDC', 'EDD', 'EDEN', 'EDF', 'EDI', 'EDIT', 'EDIV', 'EDN', 'EDOG', 'EDR', 'EDRY', 'EDSA', 'EDTK', 'EDTX', 'EDTXU', 'EDU', 'EDUC', 'EDV', 'EDZ', 'EE', 'EEA', 'EEFT', 'EEIQ', 'EELV', 'EEM', 'EEMO', 'EEMS', 'EEMV', 'EES', 'EET', 'EEV', 'EEX', 'EFA', 'EFAD', 'EFAV', 'EFC', 'EFG', 'EFHT', 'EFNL', 'EFO', 'EFOI', 'EFR', 'EFSC', 'EFSH', 'EFT', 'EFTR', 'EFU', 'EFV', 'EFX', 'EFXT', 'EFZ', 'EG', 'EGAN', 'EGBN', 'EGF', 'EGGF', 'EGHT', 'EGIO', 'EGLE', 'EGLX', 'EGO', 'EGP', 'EGPT', 'EGRX', 'EGY', 'EH', 'EHAB', 'EHC', 'EHI', 'EHTH', 'EIDO', 'EIG', 'EIGR', 'EIM', 'EINC', 'EIRL', 'EIS', 'EIX', 'EJH', 'EKSO', 'EL', 'ELA', 'ELAN', 'ELBM', 'ELD', 'ELDN', 'ELEV', 'ELF', 'ELIQ', 'ELLO', 'ELMD', 'ELME', 'ELOX', 'ELP', 'ELS', 'ELSE', 'ELTK', 'ELTX', 'ELUT', 'ELV', 'ELVA', 'ELVN', 'ELWS', 'ELYM', 'ELYS', 'EM', 'EMAN', 'EMBC', 'EMBK', 'EMCG', 'EMD', 'EME', 'EMF', 'EMFM', 'EMGF', 'EMHY', 'EMKR', 'EML', 'EMLC', 'EMLD', 'EMLP', 'EMN', 'EMO', 'EMQQ', 'EMR', 'EMX', 'ENB', 'ENCP', 'ENER', 'ENFN', 'ENFR', 'ENG', 'ENIC', 'ENLC', 'ENLT', 'ENLV', 'ENOR', 'ENOV', 'ENPH', 'ENR', 'ENS', 'ENSC', 'ENSG', 'ENSV', 'ENTA', 'ENTF', 'ENTG', 'ENTX', 'ENV', 'ENVA', 'ENVB', 'ENVX', 'ENX', 'ENZ', 'EOD', 'EOG', 'EOI', 'EOLS', 'EOS', 'EOSE', 'EOT', 'EP', 'EPAC', 'EPAM', 'EPC', 'EPD', 'EPHE', 'EPI', 'EPIX', 'EPM', 'EPOL', 'EPOW', 'EPP', 'EPR', 'EPRT', 'EPS', 'EPSN', 'EPU', 'EPV', 'EQ', 'EQAL', 'EQBK', 'EQC', 'EQH', 'EQIX', 'EQL', 'EQNR', 'EQR', 'EQRX', 'EQS', 'EQT', 'EQWL', 'EQX', 'ERAS', 'ERC', 'ERF', 'ERH', 'ERIC', 'ERIE', 'ERII', 'ERJ', 'ERNA', 'ERO', 'ERTH', 'ERX', 'ERY', 'ES', 'ESAB', 'ESAC', 'ESCA', 'ESCR', 'ESE', 'ESEA', 'ESEB', 'ESGL', 'ESGN', 'ESGR', 'ESGRO', 'ESGRP', 'ESGS', 'ESHA', 'ESHY', 'ESI', 'ESLT', 'ESMT', 'ESNT', 'ESOA', 'ESP', 'ESPR', 'ESQ', 'ESRT', 'ESS', 'ESSA', 'ESTA', 'ESTC', 'ESTE', 'ET', 'ETAO', 'ETB', 'ETD', 'ETG', 'ETHO', 'ETJ', 'ETN', 'ETNB', 'ETO', 'ETON', 'ETR', 'ETRN', 'ETSY', 'ETV', 'ETW', 'ETWO', 'ETY', 'EU', 'EUDA', 'EUDG', 'EUDV', 'EUM', 'EUO', 'EURL', 'EURN', 'EUSA', 'EUSC', 'EVA', 'EVAX', 'EVBG', 'EVBN', 'EVC', 'EVCM', 'EVE', 'EVER', 'EVEX', 'EVF', 'EVG', 'EVGN', 'EVGO', 'EVGR', 'EVH', 'EVI', 'EVLO', 'EVLV', 'EVM', 'EVN', 'EVO', 'EVOK', 'EVR', 'EVRG', 'EVRI', 'EVT', 'EVTC', 'EVTL', 'EVTV', 'EVV', 'EVX', 'EW', 'EWA', 'EWBC', 'EWC', 'EWCZ', 'EWD', 'EWG', 'EWGS', 'EWH', 'EWI', 'EWJ', 'EWK', 'EWL', 'EWM', 'EWN', 'EWO', 'EWP', 'EWQ', 'EWS', 'EWT', 'EWTX', 'EWU', 'EWUS', 'EWV', 'EWW', 'EWX', 'EWY', 'EWZ', 'EXAI', 'EXAS', 'EXC', 'EXEL', 'EXFY', 'EXG', 'EXI', 'EXK', 'EXLS', 'EXP', 'EXPD', 'EXPE', 'EXPI', 'EXPO', 'EXPR', 'EXR', 'EXTO', 'EXTR', 'EYE', 'EYEN', 'EYPT', 'EZA', 'EZFL', 'EZGO', 'EZJ', 'EZM', 'EZPW', 'EZU', 'F', 'FA', 'FACT', 'FAF', 'FAM', 'FAMI', 'FAN', 'FANG', 'FANH', 'FARM', 'FARO', 'FAS', 'FAST', 'FAT', 'FATBB', 'FATE', 'FATH', 'FATP', 'FAX', 'FAZ', 'FAZE', 'FBGX', 'FBIN', 'FBIO', 'FBIOP', 'FBIZ', 'FBK', 'FBMS', 'FBNC', 'FBND', 'FBP', 'FBRT', 'FBRX', 'FBT', 'FC', 'FCAP', 'FCBC', 'FCCO', 'FCEL', 'FCF', 'FCFS', 'FCG', 'FCN', 'FCNCA', 'FCO', 'FCOM', 'FCOR', 'FCPT', 'FCT', 'FCUV', 'FCX', 'FDBC', 'FDD', 'FDIS', 'FDL', 'FDLO', 'FDM', 'FDMO', 'FDMT', 'FDN', 'FDP', 'FDRR', 'FDS', 'FDUS', 'FDVV', 'FDX', 'FE', 'FEAM', 'FEDU', 'FEIM', 'FELE', 'FEMY', 'FEN', 'FENC', 'FENG', 'FENY', 'FERG', 'FET', 'FEXD', 'FEZ', 'FF', 'FFA', 'FFBC', 'FFC', 'FFIC', 'FFIE', 'FFIN', 'FFIV', 'FFNW', 'FFTY', 'FFWM', 'FG', 'FGB', 'FGBI', 'FGD', 'FGEN', 'FGF', 'FGH', 'FGI', 'FGMC', 'FHB', 'FHI', 'FHLC', 'FHLT', 'FHN', 'FHTX', 'FI', 'FIAC', 'FIBK', 'FIBR', 'FICO', 'FICV', 'FIDU', 'FIF', 'FIGS', 'FIHL', 'FILL', 'FINS', 'FINV', 'FINW', 'FIP', 'FIS', 'FISI', 'FITB', 'FITBI', 'FIVE', 'FIVN', 'FIW', 'FIX', 'FIXX', 'FIZZ', 'FKWL', 'FL', 'FLAG', 'FLC', 'FLCO', 'FLEX', 'FLFV', 'FLGC', 'FLGT', 'FLIC', 'FLJ', 'FLL', 'FLLV', 'FLME', 'FLNC', 'FLNG', 'FLNT', 'FLO', 'FLOT', 'FLR', 'FLRN', 'FLRT', 'FLS', 'FLT', 'FLTB', 'FLTR', 'FLUX', 'FLWS', 'FLXS', 'FLYW', 'FM', 'FMAO', 'FMAT', 'FMBH', 'FMC', 'FMF', 'FMN', 'FMNB', 'FMS', 'FMX', 'FMY', 'FN', 'FNA', 'FNB', 'FNCB', 'FNCH', 'FNCL', 'FND', 'FNDA', 'FNDB', 'FNDC', 'FNDE', 'FNDF', 'FNDX', 'FNF', 'FNGR', 'FNKO', 'FNLC', 'FNV', 'FNVT', 'FNWB', 'FNWD', 'FOA', 'FOCS', 'FOF', 'FOLD', 'FOR', 'FORA', 'FORD', 'FORG', 'FORL', 'FORM', 'FORR', 'FORTY', 'FOSL', 'FOUR', 'FOX', 'FOXA', 'FOXF', 'FOXO', 'FPAY', 'FPE', 'FPF', 'FPH', 'FPI', 'FPL', 'FPX', 'FQAL', 'FR', 'FRA', 'FRAF', 'FRBA', 'FRBK', 'FRBN', 'FRD', 'FREE', 'FREL', 'FREQ', 'FRES', 'FREY', 'FRG', 'FRGE', 'FRGI', 'FRGT', 'FRHC', 'FRI', 'FRLA', 'FRLN', 'FRME', 'FRO', 'FROG', 'FRPH', 'FRPT', 'FRSH', 'FRST', 'FRSX', 'FRT', 'FRTX', 'FRXB', 'FRZA', 'FSBC', 'FSBW', 'FSCO', 'FSD', 'FSEA', 'FSFG', 'FSI', 'FSK', 'FSLR', 'FSLY', 'FSM', 'FSNB', 'FSP', 'FSR', 'FSS', 'FSTA', 'FSTR', 'FSV', 'FT', 'FTAI', 'FTCH', 'FTCI', 'FTDR', 'FTEC', 'FTEK', 'FTF', 'FTFT', 'FTHM', 'FTHY', 'FTI', 'FTII', 'FTK', 'FTLS', 'FTNT', 'FTRE', 'FTS', 'FTSD', 'FTV', 'FUBO', 'FUL', 'FULC', 'FULT', 'FUN', 'FUNC', 'FUND', 'FURY', 'FUSB', 'FUSN', 'FUTU', 'FUTY', 'FUV', 'FVAL', 'FVCB', 'FVD', 'FVRR', 'FWAC', 'FWBI', 'FWONA', 'FWONK', 'FWRD', 'FWRG', 'FXA', 'FXB', 'FXC', 'FXD', 'FXE', 'FXF', 'FXG', 'FXH', 'FXI', 'FXL', 'FXLV', 'FXN', 'FXNC', 'FXO', 'FXP', 'FXR', 'FXU', 'FXY', 'FXZ', 'FYBR', 'FYLD', 'FZT', 'G', 'GAA', 'GAB', 'GABC', 'GAIA', 'GAIN', 'GAL', 'GALT', 'GAM', 'GAMB', 'GAMC', 'GAME', 'GAN', 'GANX', 'GAQ', 'GASS', 'GATE', 'GATO', 'GATX', 'GAU', 'GB', 'GBAB', 'GBBK', 'GBCI', 'GBDC', 'GBF', 'GBIL', 'GBIO', 'GBLI', 'GBNH', 'GBNY', 'GBR', 'GBTG', 'GBX', 'GCBC', 'GCC', 'GCI', 'GCMG', 'GCO', 'GCT', 'GCTK', 'GCV', 'GD', 'GDC', 'GDDY', 'GDEN', 'GDEV', 'GDHG', 'GDL', 'GDNR', 'GDO', 'GDOT', 'GDRX', 'GDS', 'GDST', 'GDTC', 'GDV', 'GDX', 'GDXJ', 'GDYN', 'GE', 'GECC', 'GEF', 'GEG', 'GEHC', 'GEHI', 'GEL', 'GEM', 'GEN', 'GENC', 'GENE', 'GENI', 'GENK', 'GENQ', 'GEO', 'GEOS', 'GERN', 'GES', 'GETR', 'GETY', 'GEVO', 'GF', 'GFAI', 'GFF', 'GFGD', 'GFI', 'GFL', 'GFOR', 'GFR', 'GFS', 'GFX', 'GGAA', 'GGAL', 'GGB', 'GGE', 'GGG', 'GGME', 'GGN', 'GGR', 'GGT', 'GGZ', 'GH', 'GHC', 'GHG', 'GHI', 'GHIX', 'GHL', 'GHLD', 'GHM', 'GHRS', 'GHSI', 'GHY', 'GHYG', 'GIA', 'GIB', 'GIC', 'GIFI', 'GIGM', 'GII', 'GIII', 'GIL', 'GILD', 'GILT', 'GIM', 'GIPR', 'GIS', 'GKOS', 'GL', 'GLAD', 'GLBE', 'GLBS', 'GLBZ', 'GLD', 'GLDD', 'GLDG', 'GLG', 'GLIN', 'GLL', 'GLLI', 'GLMD', 'GLNG', 'GLO', 'GLOB', 'GLOF', 'GLOP', 'GLP', 'GLPG', 'GLPI', 'GLQ', 'GLRE', 'GLSI', 'GLST', 'GLT', 'GLTO', 'GLTR', 'GLU', 'GLUE', 'GLV', 'GLW', 'GLYC', 'GM', 'GMAB', 'GMBL', 'GMDA', 'GME', 'GMED', 'GMF', 'GMFI', 'GMGI', 'GMOM', 'GMRE', 'GMS', 'GMVD', 'GNE', 'GNFT', 'GNK', 'GNL', 'GNLN', 'GNLX', 'GNPX', 'GNR', 'GNRC', 'GNS', 'GNSS', 'GNT', 'GNTA', 'GNTX', 'GNTY', 'GNW', 'GO', 'GOCO', 'GODN', 'GOEV', 'GOEX', 'GOF', 'GOGL', 'GOGO', 'GOL', 'GOLD', 'GOLF', 'GOOD', 'GOODO', 'GOOG', 'GOOGL', 'GOOS', 'GORO', 'GOSS', 'GOTU', 'GOVT', 'GOVX', 'GP', 'GPAC', 'GPC', 'GPCR', 'GPI', 'GPK', 'GPMT', 'GPN', 'GPOR', 'GPP', 'GPRE', 'GPRK', 'GPRO', 'GPS', 'GQRE', 'GRAB', 'GRBK', 'GRC', 'GRCL', 'GREE', 'GREK', 'GRES', 'GRF', 'GRFS', 'GRFX', 'GRI', 'GRIL', 'GRIN', 'GRMN', 'GRNA', 'GRND', 'GRNQ', 'GRNT', 'GROM', 'GROV', 'GROW', 'GROY', 'GRPH', 'GRPM', 'GRPN', 'GRRR', 'GRTS', 'GRTX', 'GRVY', 'GRWG', 'GRX', 'GS', 'GSAT', 'GSBC', 'GSBD', 'GSD', 'GSEU', 'GSG', 'GSHD', 'GSIE', 'GSIT', 'GSJY', 'GSK', 'GSL', 'GSLC', 'GSM', 'GSMG', 'GSUN', 'GSY', 'GT', 'GTAC', 'GTBP', 'GTE', 'GTEC', 'GTES', 'GTH', 'GTHX', 'GTIM', 'GTLB', 'GTLS', 'GTN', 'GTX', 'GTY', 'GUG', 'GUNR', 'GURE', 'GURU', 'GUSH', 'GUT', 'GVA', 'GVAL', 'GVI', 'GVIP', 'GVP', 'GWAV', 'GWH', 'GWRE', 'GWRS', 'GWW', 'GWX', 'GXC', 'GXG', 'GXO', 'GYLD', 'GYRO', 'H', 'HA', 'HACK', 'HAE', 'HAFC', 'HAIA', 'HAIN', 'HAL', 'HALL', 'HALO', 'HAP', 'HARP', 'HAS', 'HASI', 'HAUZ', 'HAWX', 'HAYN', 'HAYW', 'HBAN', 'HBB', 'HBCP', 'HBI', 'HBIO', 'HBM', 'HBNC', 'HBT', 'HCA', 'HCAT', 'HCC', 'HCCI', 'HCDI', 'HCI', 'HCKT', 'HCM', 'HCMA', 'HCP', 'HCSG', 'HCTI', 'HCVI', 'HCWB', 'HCXY', 'HD', 'HDAW', 'HDB', 'HDEF', 'HDG', 'HDGE', 'HDMV', 'HDSN', 'HDV', 'HE', 'HEAR', 'HEDJ', 'HEEM', 'HEES', 'HEFA', 'HEI', 'HELE', 'HEP', 'HEPA', 'HEPS', 'HEQ', 'HES', 'HESM', 'HEWC', 'HEWJ', 'HEWU', 'HEZU', 'HFBL', 'HFFG', 'HFRO', 'HFWA', 'HFXI', 'HGBL', 'HGEN', 'HGLB', 'HGTY', 'HGV', 'HHC', 'HHGC', 'HHLA', 'HHRS', 'HHS', 'HI', 'HIBB', 'HIE', 'HIFS', 'HIG', 'HIHO', 'HII', 'HILS', 'HIMS', 'HIMX', 'HIO', 'HIPO', 'HITI', 'HIVE', 'HIW', 'HIX', 'HKD', 'HKIT', 'HL', 'HLF', 'HLGN', 'HLI', 'HLIO', 'HLIT', 'HLLY', 'HLMN', 'HLN', 'HLNE', 'HLP', 'HLT', 'HLTH', 'HLVX', 'HLX', 'HMA', 'HMAC', 'HMC', 'HMN', 'HMNF', 'HMPT', 'HMST', 'HMY', 'HNI', 'HNNA', 'HNRA', 'HNRG', 'HNST', 'HNVR', 'HNW', 'HOFT', 'HOFV', 'HOG', 'HOLI', 'HOLO', 'HOLX', 'HOMB', 'HON', 'HONE', 'HOOD', 'HOOK', 'HOPE', 'HOTH', 'HOUR', 'HOUS', 'HOV', 'HOWL', 'HP', 'HPCO', 'HPE', 'HPF', 'HPI', 'HPK', 'HPLT', 'HPP', 'HPQ', 'HPS', 'HQH', 'HQI', 'HQL', 'HQY', 'HR', 'HRB', 'HRI', 'HRL', 'HRMY', 'HROW', 'HRT', 'HRTG', 'HRTX', 'HRYU', 'HRZN', 'HSAI', 'HSBC', 'HSCS', 'HSCZ', 'HSDT', 'HSHP', 'HSIC', 'HSII', 'HSON', 'HSPO', 'HST', 'HSTM', 'HSTO', 'HSY', 'HT', 'HTBI', 'HTBK', 'HTCR', 'HTD', 'HTGC', 'HTH', 'HTHT', 'HTLD', 'HTLF', 'HTOO', 'HTUS', 'HTY', 'HTZ', 'HUBB', 'HUBC', 'HUBG', 'HUBS', 'HUDA', 'HUDI', 'HUGE', 'HUIZ', 'HUM', 'HUMA', 'HUN', 'HURC', 'HURN', 'HUSA', 'HUT', 'HUYA', 'HVT', 'HWBK', 'HWC', 'HWEL', 'HWKN', 'HWM', 'HXL', 'HY', 'HYAC', 'HYB', 'HYD', 'HYEM', 'HYFM', 'HYG', 'HYGH', 'HYHG', 'HYI', 'HYLB', 'HYLN', 'HYMB', 'HYMC', 'HYPR', 'HYS', 'HYT', 'HYW', 'HYXU', 'HYZN', 'HZNP', 'HZO', 'IAC', 'IAE', 'IAF', 'IAG', 'IAGG', 'IAI', 'IAK', 'IART', 'IAS', 'IAT', 'IAU', 'IAUX', 'IBCP', 'IBDO', 'IBDP', 'IBDQ', 'IBDR', 'IBEX', 'IBIO', 'IBKR', 'IBM', 'IBN', 'IBND', 'IBOC', 'IBP', 'IBRX', 'IBTX', 'IBUY', 'ICAD', 'ICCC', 'ICCH', 'ICCM', 'ICCT', 'ICD', 'ICE', 'ICF', 'ICFI', 'ICG', 'ICHR', 'ICL', 'ICLK', 'ICLR', 'ICMB', 'ICNC', 'ICPT', 'ICSH', 'ICU', 'ICUI', 'ICVT', 'ICVX', 'ID', 'IDA', 'IDAI', 'IDBA', 'IDCC', 'IDE', 'IDEX', 'IDHQ', 'IDLV', 'IDMO', 'IDN', 'IDOG', 'IDR', 'IDT', 'IDU', 'IDV', 'IDX', 'IDXX', 'IDYA', 'IE', 'IEFA', 'IEMG', 'IEO', 'IEP', 'IESC', 'IEUR', 'IEV', 'IEX', 'IEZ', 'IFBD', 'IFF', 'IFIN', 'IFN', 'IFRX', 'IFS', 'IGA', 'IGBH', 'IGC', 'IGD', 'IGE', 'IGHG', 'IGI', 'IGIC', 'IGLB', 'IGM', 'IGMS', 'IGN', 'IGPT', 'IGR', 'IGRO', 'IGT', 'IGTA', 'IGV', 'IH', 'IHD', 'IHDG', 'IHE', 'IHF', 'IHG', 'IHI', 'IHIT', 'IHRT', 'IHS', 'IHT', 'IHTA', 'IHY', 'IIF', 'III', 'IIIN', 'IIIV', 'IIM', 'IINN', 'IIPR', 'IJH', 'IJJ', 'IJK', 'IJR', 'IJS', 'IKNA', 'IKT', 'ILAG', 'ILCB', 'ILCG', 'ILCV', 'ILF', 'ILLM', 'ILMN', 'ILPT', 'ILTB', 'IMAB', 'IMAQ', 'IMAX', 'IMCB', 'IMCC', 'IMCG', 'IMCR', 'IMGN', 'IMKTA', 'IMMP', 'IMMR', 'IMMX', 'IMNM', 'IMNN', 'IMO', 'IMOS', 'IMPL', 'IMPP', 'IMRN', 'IMRX', 'IMTB', 'IMTE', 'IMTM', 'IMTX', 'IMUX', 'IMVT', 'IMXI', 'INAB', 'INBK', 'INBS', 'INBX', 'INCO', 'INCR', 'INCY', 'INDA', 'INDB', 'INDI', 'INDL', 'INDO', 'INDP', 'INDV', 'INFA', 'INFI', 'INFN', 'INFU', 'INFY', 'ING', 'INGN', 'INGR', 'INKM', 'INKT', 'INLX', 'INM', 'INMB', 'INMD', 'INN', 'INNV', 'INO', 'INOD', 'INPX', 'INSE', 'INSG', 'INSI', 'INSM', 'INSP', 'INST', 'INSW', 'INTA', 'INTC', 'INTE', 'INTF', 'INTG', 'INTR', 'INTS', 'INTT', 'INTU', 'INTZ', 'INUV', 'INVA', 'INVE', 'INVH', 'INVO', 'INVZ', 'INZY', 'IOAC', 'IOBT', 'IONM', 'IONQ', 'IONR', 'IONS', 'IOO', 'IOR', 'IOSP', 'IOT', 'IOVA', 'IP', 'IPA', 'IPAC', 'IPAR', 'IPAY', 'IPDN', 'IPG', 'IPGP', 'IPHA', 'IPI', 'IPO', 'IPOS', 'IPSC', 'IPVF', 'IPW', 'IPWR', 'IPX', 'IPXX', 'IQ', 'IQDE', 'IQDF', 'IQDY', 'IQI', 'IQLT', 'IQV', 'IR', 'IRAA', 'IRBT', 'IRDM', 'IREN', 'IRIX', 'IRM', 'IRMD', 'IRNT', 'IRON', 'IROQ', 'IRRX', 'IRS', 'IRT', 'IRTC', 'IRWD', 'ISCB', 'ISCF', 'ISCG', 'ISCV', 'ISD', 'ISDR', 'ISIG', 'ISPC', 'ISPO', 'ISPR', 'ISRA', 'ISRG', 'ISRL', 'ISSC', 'ISTR', 'ISUN', 'ISZE', 'IT', 'ITA', 'ITAQ', 'ITB', 'ITCI', 'ITCL', 'ITGR', 'ITI', 'ITIC', 'ITM', 'ITOS', 'ITOT', 'ITP', 'ITRG', 'ITRI', 'ITRM', 'ITRN', 'ITT', 'ITUB', 'ITW', 'IVA', 'IVAC', 'IVAL', 'IVCA', 'IVCB', 'IVCP', 'IVDA', 'IVE', 'IVES', 'IVLU', 'IVOG', 'IVOO', 'IVOV', 'IVP', 'IVR', 'IVT', 'IVV', 'IVVD', 'IVW', 'IVZ', 'IWB', 'IWC', 'IWD', 'IWF', 'IWL', 'IWM', 'IWN', 'IWO', 'IWP', 'IWR', 'IWS', 'IWV', 'IWX', 'IWY', 'IX', 'IXAQ', 'IXC', 'IXG', 'IXHL', 'IXJ', 'IXN', 'IXP', 'IYC', 'IYE', 'IYF', 'IYG', 'IYH', 'IYJ', 'IYK', 'IYLD', 'IYM', 'IYR', 'IYT', 'IYW', 'IYY', 'IYZ', 'IZEA', 'IZM', 'J', 'JACK', 'JAGX', 'JAKK', 'JAMF', 'JAN', 'JAQC', 'JAZZ', 'JBGS', 'JBHT', 'JBI', 'JBL', 'JBLU', 'JBSS', 'JBT', 'JCE', 'JCI', 'JCSE', 'JCTCF', 'JD', 'JDST', 'JEF', 'JELD', 'JEQ', 'JETS', 'JEWL', 'JFBR', 'JFIN', 'JFR', 'JFU', 'JG', 'JGGC', 'JGH', 'JHAA', 'JHG', 'JHI', 'JHMD', 'JHML', 'JHMM', 'JHS', 'JHX', 'JILL', 'JJSF', 'JKHY', 'JKS', 'JLL', 'JLS', 'JMIA', 'JMM', 'JMSB', 'JNJ', 'JNK', 'JNPR', 'JNUG', 'JNVR', 'JOAN', 'JOB', 'JOBY', 'JOE', 'JOF', 'JOUT', 'JPC', 'JPEM', 'JPI', 'JPIN', 'JPM', 'JPME', 'JPS', 'JPT', 'JPUS', 'JPXN', 'JQC', 'JRI', 'JRO', 'JRS', 'JRSH', 'JRVR', 'JSD', 'JSPR', 'JT', 'JTAI', 'JUN', 'JUPW', 'JVA', 'JWEL', 'JWN', 'JWSM', 'JXI', 'JXJT', 'JXN', 'JYD', 'JYNT', 'JZ', 'JZXN', 'K', 'KA', 'KACL', 'KAI', 'KALA', 'KALU', 'KALV', 'KAMN', 'KAR', 'KARO', 'KAVL', 'KB', 'KBA', 'KBE', 'KBH', 'KBND', 'KBNT', 'KBR', 'KC', 'KCE', 'KCGI', 'KD', 'KDNY', 'KDP', 'KE', 'KELYA', 'KELYB', 'KEN', 'KEP', 'KEQU', 'KERN', 'KEX', 'KEY', 'KEYS', 'KF', 'KFFB', 'KFRC', 'KFS', 'KFY', 'KFYP', 'KGC', 'KGS', 'KHC', 'KIDS', 'KIE', 'KIM', 'KIND', 'KINS', 'KIO', 'KIQ', 'KIRK', 'KITT', 'KKR', 'KLAC', 'KLDW', 'KLIC', 'KLR', 'KLTR', 'KLXE', 'KMB', 'KMDA', 'KMF', 'KMI', 'KMPR', 'KMT', 'KMX', 'KN', 'KNCT', 'KNDI', 'KNF', 'KNOP', 'KNSA', 'KNSL', 'KNSW', 'KNTE', 'KNTK', 'KNW', 'KNX', 'KO', 'KOD', 'KODK', 'KOF', 'KOLD', 'KOP', 'KOPN', 'KORE', 'KORU', 'KOS', 'KOSS', 'KPLT', 'KPRX', 'KPTI', 'KR', 'KRBP', 'KRC', 'KRE', 'KREF', 'KRG', 'KRKR', 'KRMD', 'KRNL', 'KRNT', 'KRNY', 'KRO', 'KRON', 'KROS', 'KRP', 'KRT', 'KRTX', 'KRUS', 'KRYS', 'KSA', 'KSCP', 'KSM', 'KSS', 'KT', 'KTB', 'KTCC', 'KTF', 'KTOS', 'KTRA', 'KTTA', 'KUKE', 'KULR', 'KURA', 'KVAC', 'KVHI', 'KVSA', 'KVUE', 'KVYO', 'KW', 'KWE', 'KWEB', 'KWR', 'KXI', 'KXIN', 'KYCH', 'KYMR', 'KYN', 'KZIA', 'KZR', 'L', 'LAB', 'LABD', 'LABP', 'LABU', 'LAC', 'LAD', 'LADR', 'LAES', 'LAKE', 'LAMR', 'LANC', 'LAND', 'LANDM', 'LANV', 'LARK', 'LASE', 'LASR', 'LATG', 'LAUR', 'LAW', 'LAZ', 'LAZR', 'LAZY', 'LBAI', 'LBBB', 'LBC', 'LBPH', 'LBRDA', 'LBRDK', 'LBRT', 'LBTYA', 'LBTYB', 'LBTYK', 'LC', 'LCA', 'LCAA', 'LCFY', 'LCID', 'LCII', 'LCNB', 'LCTX', 'LCUT', 'LCW', 'LDI', 'LDOS', 'LDP', 'LDUR', 'LDWY', 'LE', 'LEA', 'LECO', 'LEDS', 'LEE', 'LEG', 'LEGH', 'LEGN', 'LEJU', 'LEMB', 'LEN', 'LEO', 'LESL', 'LEU', 'LEV', 'LEVI', 'LEXX', 'LFAC', 'LFCR', 'LFLY', 'LFMD', 'LFST', 'LFT', 'LFUS', 'LFVN', 'LGHL', 'LGI', 'LGIH', 'LGL', 'LGLV', 'LGMK', 'LGND', 'LGO', 'LGST', 'LGVC', 'LGVN', 'LH', 'LHC', 'LHX', 'LI', 'LIAN', 'LIBY', 'LICN', 'LICY', 'LIDR', 'LIFE', 'LIFW', 'LII', 'LILA', 'LILAK', 'LILM', 'LIN', 'LINC', 'LIND', 'LINK', 'LIPO', 'LIQT', 'LIT', 'LITB', 'LITE', 'LITM', 'LIVB', 'LIVE', 'LIVN', 'LIXT', 'LIZI', 'LKCO', 'LKFN', 'LKOR', 'LKQ', 'LL', 'LLAP', 'LLY', 'LLYVA', 'LLYVK', 'LMAT', 'LMB', 'LMDX', 'LMFA', 'LMND', 'LMNL', 'LMNR', 'LMT', 'LNC', 'LND', 'LNG', 'LNKB', 'LNN', 'LNSR', 'LNT', 'LNTH', 'LNW', 'LNZA', 'LOAN', 'LOB', 'LOCC', 'LOCL', 'LOCO', 'LODE', 'LOGI', 'LOMA', 'LOOP', 'LOPE', 'LOV', 'LOVE', 'LOW', 'LPCN', 'LPG', 'LPL', 'LPLA', 'LPRO', 'LPSN', 'LPTH', 'LPTV', 'LPTX', 'LPX', 'LQD', 'LQDA', 'LQDH', 'LQDT', 'LQR', 'LRCX', 'LRE', 'LRFC', 'LRGF', 'LRMR', 'LRN', 'LSAK', 'LSBK', 'LSCC', 'LSDI', 'LSEA', 'LSF', 'LSI', 'LSPD', 'LSTA', 'LSTR', 'LSXMA', 'LSXMB', 'LSXMK', 'LTBR', 'LTC', 'LTCH', 'LTH', 'LTHM', 'LTL', 'LTPZ', 'LTRN', 'LTRPA', 'LTRPB', 'LTRX', 'LTRY', 'LU', 'LUCD', 'LUCY', 'LULU', 'LUMN', 'LUMO', 'LUNA', 'LUNG', 'LUNR', 'LUV', 'LUXH', 'LVLU', 'LVO', 'LVOX', 'LVRO', 'LVS', 'LVTX', 'LVWR', 'LW', 'LWAY', 'LWLG', 'LX', 'LXEH', 'LXFR', 'LXP', 'LXRX', 'LXU', 'LYB', 'LYEL', 'LYFT', 'LYG', 'LYRA', 'LYT', 'LYTS', 'LYV', 'LZ', 'LZB', 'LZM', 'M', 'MA', 'MAA', 'MAC', 'MACA', 'MACK', 'MAG', 'MAIA', 'MAIN', 'MAN', 'MANH', 'MANU', 'MAPS', 'MAQC', 'MAR', 'MARA', 'MARK', 'MARPS', 'MARX', 'MAS', 'MASI', 'MASS', 'MAT', 'MATH', 'MATV', 'MATW', 'MATX', 'MAV', 'MAX', 'MAXN', 'MAYS', 'MBAC', 'MBC', 'MBCN', 'MBI', 'MBIN', 'MBINP', 'MBIO', 'MBLY', 'MBOT', 'MBRX', 'MBSC', 'MBSD', 'MBTC', 'MBUU', 'MBWM', 'MC', 'MCAA', 'MCAC', 'MCAF', 'MCAG', 'MCB', 'MCBC', 'MCBS', 'MCD', 'MCFT', 'MCHP', 'MCHX', 'MCI', 'MCK', 'MCLD', 'MCN', 'MCO', 'MCOM', 'MCR', 'MCRB', 'MCRI', 'MCS', 'MCVT', 'MCW', 'MCY', 'MD', 'MDAI', 'MDB', 'MDBH', 'MDC', 'MDGL', 'MDGS', 'MDIA', 'MDJH', 'MDLZ', 'MDNA', 'MDRR', 'MDRX', 'MDT', 'MDU', 'MDV', 'MDVL', 'MDWD', 'MDWT', 'MDXG', 'MDXH', 'MDY', 'MDYG', 'MDYV', 'ME', 'MEAR', 'MEC', 'MED', 'MEDP', 'MEDS', 'MEG', 'MEGI', 'MEGL', 'MEI', 'MEIP', 'MELI', 'MEOH', 'MERC', 'MESA', 'MESO', 'MET', 'META', 'METC', 'METCB', 'METX', 'MF', 'MFA', 'MFC', 'MFD', 'MFG', 'MFH', 'MFIC', 'MFIN', 'MFM', 'MFV', 'MG', 'MGA', 'MGAM', 'MGC', 'MGEE', 'MGF', 'MGIC', 'MGIH', 'MGK', 'MGLD', 'MGM', 'MGNX', 'MGOL', 'MGPI', 'MGRC', 'MGRM', 'MGRX', 'MGTA', 'MGTX', 'MGV', 'MGY', 'MGYR', 'MHD', 'MHF', 'MHH', 'MHI', 'MHK', 'MHLA', 'MHLD', 'MHN', 'MHO', 'MHUA', 'MI', 'MICS', 'MIDD', 'MIDU', 'MIGI', 'MIMO', 'MIN', 'MIND', 'MINDP', 'MINM', 'MINT', 'MIO', 'MIR', 'MIRA', 'MIRM', 'MIRO', 'MIST', 'MITA', 'MITK', 'MITQ', 'MITT', 'MIXT', 'MIY', 'MJ', 'MKC', 'MKFG', 'MKL', 'MKSI', 'MKTW', 'MKTX', 'MKUL', 'ML', 'MLAB', 'MLCO', 'MLEC', 'MLGO', 'MLI', 'MLKN', 'MLM', 'MLN', 'MLNK', 'MLP', 'MLPA', 'MLPO', 'MLPX', 'MLR', 'MLSS', 'MLTX', 'MLVF', 'MLYS', 'MMAT', 'MMC', 'MMD', 'MMI', 'MMLP', 'MMM', 'MMMB', 'MMP', 'MMS', 'MMSI', 'MMT', 'MMTM', 'MMU', 'MMV', 'MMYT', 'MNA', 'MNDO', 'MNDY', 'MNKD', 'MNMD', 'MNOV', 'MNP', 'MNPR', 'MNRO', 'MNSB', 'MNSO', 'MNST', 'MNTK', 'MNTS', 'MNTX', 'MO', 'MOAT', 'MOB', 'MOBQ', 'MOBV', 'MOD', 'MODD', 'MODG', 'MODN', 'MODV', 'MOFG', 'MOGO', 'MOGU', 'MOH', 'MOLN', 'MOMO', 'MOND', 'MOO', 'MOR', 'MORF', 'MORN', 'MORT', 'MOS', 'MOTI', 'MOTS', 'MOV', 'MOVE', 'MOXC', 'MP', 'MPA', 'MPAA', 'MPB', 'MPC', 'MPLN', 'MPLX', 'MPTI', 'MPU', 'MPV', 'MPW', 'MPWR', 'MPX', 'MQ', 'MQT', 'MQY', 'MRAI', 'MRAM', 'MRBK', 'MRC', 'MRCC', 'MRCY', 'MRDB', 'MREO', 'MRGR', 'MRIN', 'MRK', 'MRKR', 'MRM', 'MRNA', 'MRNS', 'MRO', 'MRSN', 'MRTN', 'MRTX', 'MRUS', 'MRVI', 'MRVL', 'MS', 'MSA', 'MSB', 'MSBI', 'MSC', 'MSCI', 'MSD', 'MSEX', 'MSFT', 'MSGE', 'MSGM', 'MSGS', 'MSI', 'MSM', 'MSN', 'MSSA', 'MSTR', 'MSVB', 'MT', 'MTA', 'MTAC', 'MTAL', 'MTB', 'MTBL', 'MTC', 'MTCH', 'MTD', 'MTDR', 'MTEK', 'MTEM', 'MTEX', 'MTG', 'MTH', 'MTLS', 'MTN', 'MTNB', 'MTR', 'MTRN', 'MTRX', 'MTRY', 'MTSI', 'MTTR', 'MTUM', 'MTW', 'MTX', 'MTZ', 'MU', 'MUA', 'MUB', 'MUC', 'MUE', 'MUFG', 'MUI', 'MUJ', 'MULN', 'MUNI', 'MUR', 'MURF', 'MUSA', 'MUX', 'MVBF', 'MVF', 'MVIS', 'MVLA', 'MVO', 'MVST', 'MVT', 'MVV', 'MWA', 'MWG', 'MX', 'MXC', 'MXCT', 'MXE', 'MXF', 'MXI', 'MXL', 'MYD', 'MYE', 'MYFW', 'MYGN', 'MYI', 'MYMD', 'MYN', 'MYNA', 'MYNZ', 'MYO', 'MYPS', 'MYRG', 'MYSZ', 'MYTE', 'MYY', 'MZZ', 'NAAS', 'NABL', 'NAC', 'NAD', 'NAII', 'NAIL', 'NAK', 'NAMS', 'NAN', 'NAOV', 'NAPA', 'NARI', 'NAT', 'NATH', 'NATI', 'NATR', 'NAUT', 'NAVB', 'NAVI', 'NAZ', 'NB', 'NBB', 'NBH', 'NBHC', 'NBIX', 'NBN', 'NBO', 'NBR', 'NBSE', 'NBST', 'NBTB', 'NBTX', 'NBW', 'NBXG', 'NBY', 'NC', 'NCA', 'NCAC', 'NCLH', 'NCMI', 'NCNA', 'NCNC', 'NCNO', 'NCPL', 'NCR', 'NCRA', 'NCSM', 'NCTY', 'NCV', 'NCZ', 'NDAQ', 'NDLS', 'NDMO', 'NDP', 'NDRA', 'NDSN', 'NE', 'NEA', 'NEAR', 'NECB', 'NEE', 'NEGG', 'NEM', 'NEN', 'NEO', 'NEOG', 'NEON', 'NEOV', 'NEP', 'NEPH', 'NEPT', 'NERV', 'NET', 'NETC', 'NETI', 'NEU', 'NEWP', 'NEWR', 'NEWT', 'NEXA', 'NEXI', 'NEXT', 'NFBK', 'NFE', 'NFG', 'NFGC', 'NFJ', 'NFLT', 'NFLX', 'NFNT', 'NFRA', 'NFTG', 'NFYS', 'NG', 'NGD', 'NGE', 'NGG', 'NGL', 'NGM', 'NGMS', 'NGS', 'NGVC', 'NGVT', 'NHC', 'NHI', 'NHS', 'NHTC', 'NHWK', 'NI', 'NIC', 'NICE', 'NICK', 'NIE', 'NIM', 'NINE', 'NIO', 'NIR', 'NISN', 'NIU', 'NJR', 'NKE', 'NKLA', 'NKSH', 'NKTR', 'NKTX', 'NKX', 'NL', 'NLR', 'NLS', 'NLSP', 'NLTX', 'NLY', 'NM', 'NMAI', 'NMCO', 'NMFC', 'NMG', 'NMI', 'NMIH', 'NML', 'NMM', 'NMR', 'NMRA', 'NMRD', 'NMRK', 'NMS', 'NMT', 'NMTC', 'NMZ', 'NN', 'NNBR', 'NNDM', 'NNI', 'NNN', 'NNOX', 'NNVC', 'NNY', 'NOA', 'NOAH', 'NOBL', 'NOC', 'NODK', 'NOG', 'NOGN', 'NOK', 'NOM', 'NOMD', 'NORW', 'NOTE', 'NOV', 'NOVA', 'NOVT', 'NOVV', 'NOW', 'NPAB', 'NPCE', 'NPFD', 'NPK', 'NPO', 'NPV', 'NPWR', 'NQP', 'NR', 'NRAC', 'NRBO', 'NRC', 'NRDS', 'NREF', 'NRG', 'NRGV', 'NRGX', 'NRIM', 'NRIX', 'NRK', 'NRO', 'NRP', 'NRSN', 'NRT', 'NRXP', 'NRXS', 'NS', 'NSA', 'NSC', 'NSIT', 'NSL', 'NSP', 'NSPR', 'NSS', 'NSTG', 'NSTS', 'NSYS', 'NTAP', 'NTCO', 'NTCT', 'NTES', 'NTG', 'NTGR', 'NTIC', 'NTIP', 'NTLA', 'NTNX', 'NTR', 'NTRA', 'NTRB', 'NTRS', 'NTST', 'NTZ', 'NU', 'NUBI', 'NUE', 'NUGT', 'NURO', 'NUS', 'NUTX', 'NUV', 'NUVA', 'NUVB', 'NUVL', 'NUW', 'NUWE', 'NUZE', 'NVAC', 'NVAX', 'NVCR', 'NVCT', 'NVDA', 'NVEC', 'NVEE', 'NVEI', 'NVFY', 'NVG', 'NVGS', 'NVIV', 'NVMI', 'NVNO', 'NVO', 'NVOS', 'NVR', 'NVRI', 'NVRO', 'NVS', 'NVST', 'NVT', 'NVTA', 'NVTS', 'NVVE', 'NVX', 'NWBI', 'NWE', 'NWFL', 'NWG', 'NWGL', 'NWL', 'NWLI', 'NWN', 'NWPX', 'NWS', 'NWSA', 'NWTN', 'NX', 'NXC', 'NXDT', 'NXE', 'NXG', 'NXGL', 'NXGN', 'NXJ', 'NXL', 'NXN', 'NXP', 'NXPI', 'NXPL', 'NXRT', 'NXST', 'NXT', 'NXTC', 'NXTP', 'NXU', 'NYAX', 'NYC', 'NYCB', 'NYF', 'NYMT', 'NYMTN', 'NYT', 'NYXH', 'NZF', 'O', 'OABI', 'OAKU', 'OB', 'OBDC', 'OBE', 'OBIO', 'OBK', 'OBLG', 'OBT', 'OC', 'OCAX', 'OCC', 'OCCI', 'OCEA', 'OCFC', 'OCFT', 'OCG', 'OCGN', 'OCN', 'OCS', 'OCSL', 'OCTO', 'OCUL', 'OCUP', 'OCX', 'ODC', 'ODD', 'ODFL', 'ODP', 'ODV', 'OEC', 'OEF', 'OESX', 'OEUR', 'OFC', 'OFED', 'OFG', 'OFIX', 'OFLX', 'OFS', 'OGE', 'OGEN', 'OGI', 'OGN', 'OGS', 'OHAA', 'OHI', 'OI', 'OIA', 'OIH', 'OII', 'OIS', 'OKE', 'OKTA', 'OKYO', 'OLB', 'OLED', 'OLIT', 'OLK', 'OLLI', 'OLMA', 'OLN', 'OLO', 'OLP', 'OLPX', 'OM', 'OMAB', 'OMC', 'OMCL', 'OMER', 'OMEX', 'OMF', 'OMGA', 'OMH', 'OMI', 'OMIC', 'OMQS', 'ON', 'ONB', 'ONCT', 'ONCY', 'ONDS', 'ONEO', 'ONEV', 'ONEW', 'ONEY', 'ONFO', 'ONL', 'ONON', 'ONTF', 'ONTO', 'ONTX', 'ONVO', 'ONYX', 'OOMA', 'OP', 'OPA', 'OPAD', 'OPAL', 'OPBK', 'OPCH', 'OPEN', 'OPFI', 'OPGN', 'OPHC', 'OPI', 'OPK', 'OPP', 'OPRA', 'OPRT', 'OPRX', 'OPT', 'OPTN', 'OPTT', 'OPXS', 'OPY', 'OR', 'ORA', 'ORAN', 'ORC', 'ORCL', 'ORGN', 'ORGO', 'ORGS', 'ORI', 'ORIC', 'ORLA', 'ORLY', 'ORMP', 'ORN', 'ORRF', 'ORTX', 'OSA', 'OSBC', 'OSCR', 'OSG', 'OSIS', 'OSK', 'OSPN', 'OSS', 'OST', 'OSTK', 'OSUR', 'OSW', 'OTEC', 'OTEX', 'OTIS', 'OTLK', 'OTLY', 'OTMO', 'OTRK', 'OTTR', 'OUNZ', 'OUSA', 'OUST', 'OUT', 'OVBC', 'OVID', 'OVLY', 'OVV', 'OWL', 'OWLT', 'OXBR', 'OXBRW', 'OXLC', 'OXLCM', 'OXLCO', 'OXM', 'OXSQ', 'OXUS', 'OXY', 'OZ', 'OZK', 'PAA', 'PAAS', 'PAC', 'PACB', 'PACI', 'PACK', 'PACW', 'PAG', 'PAGP', 'PAGS', 'PAHC', 'PAI', 'PAK', 'PALI', 'PALL', 'PALT', 'PAM', 'PANL', 'PANW', 'PAR', 'PARA', 'PARAA', 'PARR', 'PASG', 'PATH', 'PATI', 'PATK', 'PAVM', 'PAVS', 'PAX', 'PAXS', 'PAY', 'PAYC', 'PAYO', 'PAYS', 'PAYX', 'PB', 'PBA', 'PBAX', 'PBBK', 'PBD', 'PBE', 'PBF', 'PBFS', 'PBH', 'PBHC', 'PBI', 'PBJ', 'PBLA', 'PBP', 'PBPB', 'PBR', 'PBT', 'PBTS', 'PBW', 'PBYI', 'PCAR', 'PCB', 'PCCT', 'PCEF', 'PCF', 'PCG', 'PCH', 'PCK', 'PCM', 'PCN', 'PCOR', 'PCQ', 'PCRX', 'PCSA', 'PCT', 'PCTI', 'PCTY', 'PCVX', 'PCY', 'PCYG', 'PCYO', 'PD', 'PDCO', 'PDD', 'PDEX', 'PDFS', 'PDI', 'PDLB', 'PDM', 'PDN', 'PDO', 'PDS', 'PDSB', 'PDT', 'PEAK', 'PEB', 'PEBK', 'PEBO', 'PECO', 'PED', 'PEG', 'PEGA', 'PEGR', 'PEGY', 'PEJ', 'PEN', 'PENN', 'PEO', 'PEP', 'PEPG', 'PEPL', 'PERF', 'PERI', 'PESI', 'PET', 'PETQ', 'PETS', 'PETV', 'PETZ', 'PEV', 'PEX', 'PFBC', 'PFC', 'PFD', 'PFE', 'PFG', 'PFGC', 'PFIE', 'PFIG', 'PFIN', 'PFIS', 'PFL', 'PFLT', 'PFMT', 'PFN', 'PFO', 'PFS', 'PFSI', 'PFSW', 'PFTA', 'PFX', 'PFXF', 'PG', 'PGAL', 'PGC', 'PGEN', 'PGF', 'PGHY', 'PGNY', 'PGP', 'PGR', 'PGRE', 'PGRU', 'PGSS', 'PGTI', 'PGX', 'PGY', 'PGZ', 'PH', 'PHAR', 'PHAT', 'PHB', 'PHD', 'PHDG', 'PHG', 'PHGE', 'PHI', 'PHIN', 'PHIO', 'PHK', 'PHM', 'PHR', 'PHT', 'PHUN', 'PHVS', 'PHX', 'PHXM', 'PHYS', 'PHYT', 'PI', 'PICB', 'PICK', 'PII', 'PIII', 'PIK', 'PILL', 'PIM', 'PIN', 'PINC', 'PINE', 'PINS', 'PIPR', 'PIRS', 'PIXY', 'PJP', 'PJT', 'PK', 'PKB', 'PKBK', 'PKE', 'PKG', 'PKOH', 'PKST', 'PKX', 'PL', 'PLAB', 'PLAG', 'PLAO', 'PLAY', 'PLBC', 'PLBY', 'PLCE', 'PLD', 'PLG', 'PLL', 'PLM', 'PLMI', 'PLMR', 'PLNT', 'PLOW', 'PLPC', 'PLRX', 'PLSE', 'PLTK', 'PLTN', 'PLTR', 'PLUG', 'PLUR', 'PLUS', 'PLX', 'PLXS', 'PLYA', 'PLYM', 'PM', 'PMCB', 'PMD', 'PMF', 'PMGM', 'PML', 'PMM', 'PMN', 'PMO', 'PMT', 'PMTS', 'PMVP', 'PMX', 'PNAC', 'PNBK', 'PNC', 'PNF', 'PNFP', 'PNI', 'PNM', 'PNNT', 'PNR', 'PNRG', 'PNT', 'PNTG', 'PNW', 'POAI', 'POCI', 'PODC', 'PODD', 'POET', 'POL', 'POLA', 'POOL', 'POR', 'PORT', 'POST', 'POWA', 'POWI', 'POWL', 'POWW', 'PPA', 'PPBI', 'PPBT', 'PPC', 'PPG', 'PPHP', 'PPIH', 'PPL', 'PPLT', 'PPSI', 'PPT', 'PPTA', 'PPYA', 'PR', 'PRA', 'PRAA', 'PRAX', 'PRCH', 'PRCT', 'PRDO', 'PRDS', 'PRE', 'PRF', 'PRFT', 'PRFX', 'PRG', 'PRGO', 'PRGS', 'PRI', 'PRIM', 'PRK', 'PRLB', 'PRLD', 'PRLH', 'PRM', 'PRME', 'PRMW', 'PRNT', 'PRO', 'PROC', 'PROF', 'PROK', 'PROV', 'PRPC', 'PRPH', 'PRPL', 'PRPO', 'PRQR', 'PRSO', 'PRSR', 'PRST', 'PRT', 'PRTA', 'PRTC', 'PRTG', 'PRTH', 'PRTS', 'PRU', 'PRVA', 'PRZO', 'PSA', 'PSEC', 'PSF', 'PSFE', 'PSHG', 'PSI', 'PSK', 'PSLV', 'PSMT', 'PSN', 'PSNL', 'PSNY', 'PSNYW', 'PSO', 'PSP', 'PSQ', 'PSQH', 'PSR', 'PST', 'PSTG', 'PSTL', 'PSTV', 'PSTX', 'PSX', 'PT', 'PTA', 'PTC', 'PTCT', 'PTEN', 'PTGX', 'PTHR', 'PTIX', 'PTLC', 'PTLO', 'PTMC', 'PTMN', 'PTN', 'PTON', 'PTPI', 'PTRS', 'PTSI', 'PTVE', 'PTWO', 'PTY', 'PUBM', 'PUCK', 'PUK', 'PULM', 'PUMP', 'PUYI', 'PVBC', 'PVH', 'PVI', 'PVL', 'PW', 'PWB', 'PWFL', 'PWM', 'PWOD', 'PWP', 'PWR', 'PWSC', 'PWUP', 'PWV', 'PWZ', 'PX', 'PXD', 'PXDT', 'PXE', 'PXF', 'PXH', 'PXJ', 'PXLW', 'PXMD', 'PXS', 'PYCR', 'PYN', 'PYPD', 'PYPL', 'PYR', 'PYXS', 'PZA', 'PZC', 'PZG', 'PZT', 'PZZA', 'QAI', 'QBTS', 'QCOM', 'QCRH', 'QD', 'QDEF', 'QDEL', 'QDF', 'QDRO', 'QEFA', 'QEMM', 'QFIN', 'QFTA', 'QGEN', 'QH', 'QID', 'QIPT', 'QLC', 'QLD', 'QLGN', 'QLI', 'QLTA', 'QLYS', 'QMCO', 'QNCX', 'QNRX', 'QNST', 'QOMO', 'QQQX', 'QRHC', 'QRTEA', 'QRTEB', 'QRVO', 'QS', 'QSG', 'QSI', 'QSR', 'QTRX', 'QTWO', 'QUAD', 'QUAL', 'QUBT', 'QUIK', 'QURE', 'QUS', 'QVAL', 'QWLD', 'R', 'RA', 'RACE', 'RAD', 'RAIL', 'RAIN', 'RAMP', 'RAND', 'RANI', 'RAPT', 'RARE', 'RAVE', 'RAVI', 'RAYA', 'RBA', 'RBB', 'RBBN', 'RBC', 'RBCAA', 'RBKB', 'RBLD', 'RBLX', 'RBOT', 'RBT', 'RC', 'RCAC', 'RCAT', 'RCEL', 'RCFA', 'RCG', 'RCI', 'RCKT', 'RCKY', 'RCL', 'RCLF', 'RCM', 'RCMT', 'RCON', 'RCRT', 'RCS', 'RCUS', 'RDCM', 'RDFN', 'RDHL', 'RDI', 'RDIB', 'RDIV', 'RDN', 'RDNT', 'RDOG', 'RDUS', 'RDVT', 'RDW', 'RDWR', 'RDY', 'RDZN', 'REAL', 'REAX', 'REBN', 'REE', 'REET', 'REFI', 'REFR', 'REG', 'REGL', 'REGN', 'REI', 'REK', 'REKR', 'RELI', 'RELL', 'RELX', 'RELY', 'REM', 'REMX', 'RENB', 'RENE', 'RENT', 'REPL', 'REPX', 'RERE', 'RES', 'RESP', 'RETL', 'RETO', 'REVB', 'REVG', 'REW', 'REX', 'REXR', 'REYN', 'REZ', 'REZI', 'RF', 'RFAC', 'RFG', 'RFI', 'RFIL', 'RFM', 'RFMZ', 'RFV', 'RGA', 'RGC', 'RGCO', 'RGEN', 'RGF', 'RGLD', 'RGLS', 'RGNX', 'RGP', 'RGR', 'RGS', 'RGT', 'RGTI', 'RH', 'RHE', 'RHI', 'RHP', 'RIBT', 'RICK', 'RIG', 'RIGL', 'RIGS', 'RILY', 'RINF', 'RIO', 'RIOT', 'RITM', 'RIV', 'RIVN', 'RJF', 'RKDA', 'RKLB', 'RKT', 'RL', 'RLAY', 'RLGT', 'RLI', 'RLJ', 'RLMD', 'RLTY', 'RLX', 'RLY', 'RLYB', 'RM', 'RMAX', 'RMBI', 'RMBL', 'RMBS', 'RMCF', 'RMD', 'RMGC', 'RMI', 'RMM', 'RMMZ', 'RMNI', 'RMR', 'RMT', 'RMTI', 'RNA', 'RNAZ', 'RNG', 'RNGR', 'RNLX', 'RNP', 'RNR', 'RNST', 'RNW', 'RNXT', 'ROAD', 'ROAM', 'ROCK', 'ROCL', 'RODM', 'ROG', 'ROIC', 'ROIV', 'ROK', 'ROKU', 'ROL', 'ROM', 'ROOF', 'ROOT', 'ROP', 'ROSC', 'ROSE', 'ROSS', 'ROST', 'ROUS', 'ROVR', 'RPAY', 'RPD', 'RPG', 'RPHM', 'RPID', 'RPM', 'RPRX', 'RPT', 'RPTX', 'RPV', 'RQI', 'RRAC', 'RRBI', 'RRC', 'RRGB', 'RRR', 'RRX', 'RS', 'RSF', 'RSG', 'RSI', 'RSKD', 'RSLS', 'RSP', 'RSPD', 'RSPF', 'RSPG', 'RSPH', 'RSPM', 'RSPN', 'RSPR', 'RSPS', 'RSPT', 'RSPU', 'RSSS', 'RSVR', 'RTC', 'RTO', 'RTX', 'RUM', 'RUN', 'RUSHA', 'RUSHB', 'RVLP', 'RVLV', 'RVMD', 'RVNC', 'RVNU', 'RVP', 'RVPH', 'RVSB', 'RVSN', 'RVT', 'RVTY', 'RVYL', 'RWAY', 'RWJ', 'RWK', 'RWL', 'RWLK', 'RWM', 'RWO', 'RWOD', 'RWR', 'RWT', 'RWX', 'RXD', 'RXI', 'RXL', 'RXO', 'RXRX', 'RXST', 'RXT', 'RY', 'RYAAY', 'RYAM', 'RYAN', 'RYI', 'RYJ', 'RYN', 'RYTM', 'RYZB', 'RZB', 'RZG', 'RZLT', 'RZV', 'S', 'SA', 'SAA', 'SABR', 'SABS', 'SACH', 'SAFE', 'SAFT', 'SAGA', 'SAGE', 'SAH', 'SAI', 'SAIA', 'SAIC', 'SALM', 'SAM', 'SAMA', 'SAMAU', 'SAMG', 'SAN', 'SANA', 'SANG', 'SANM', 'SANW', 'SAP', 'SAR', 'SASI', 'SASR', 'SATL', 'SATS', 'SATX', 'SAVA', 'SAVE', 'SB', 'SBAC', 'SBB', 'SBCF', 'SBET', 'SBEV', 'SBFG', 'SBFM', 'SBGI', 'SBH', 'SBI', 'SBIO', 'SBLK', 'SBOW', 'SBR', 'SBRA', 'SBS', 'SBSI', 'SBSW', 'SBT', 'SBUX', 'SBXC', 'SCAQ', 'SCC', 'SCCO', 'SCD', 'SCHA', 'SCHB', 'SCHC', 'SCHD', 'SCHE', 'SCHF', 'SCHG', 'SCHH', 'SCHL', 'SCHM', 'SCHO', 'SCHP', 'SCHR', 'SCHV', 'SCHW', 'SCHX', 'SCHZ', 'SCI', 'SCJ', 'SCKT', 'SCL', 'SCLX', 'SCM', 'SCNI', 'SCO', 'SCOR', 'SCPH', 'SCPL', 'SCRM', 'SCS', 'SCSC', 'SCTL', 'SCU', 'SCVL', 'SCWO', 'SCWX', 'SCX', 'SCYX', 'SD', 'SDA', 'SDAC', 'SDC', 'SDD', 'SDEM', 'SDGR', 'SDHY', 'SDIG', 'SDIV', 'SDOG', 'SDOT', 'SDOW', 'SDP', 'SDPI', 'SDRL', 'SDS', 'SDY', 'SE', 'SEAS', 'SEAT', 'SEB', 'SECO', 'SEDA', 'SEDG', 'SEE', 'SEED', 'SEEL', 'SEER', 'SEF', 'SEIC', 'SELB', 'SELF', 'SEM', 'SEMR', 'SENEA', 'SENEB', 'SENS', 'SEPA', 'SERA', 'SES', 'SEVN', 'SEZL', 'SF', 'SFBC', 'SFBS', 'SFE', 'SFIX', 'SFL', 'SFM', 'SFNC', 'SFR', 'SFST', 'SFT', 'SFWL', 'SG', 'SGA', 'SGBX', 'SGC', 'SGDJ', 'SGDM', 'SGE', 'SGEN', 'SGH', 'SGHC', 'SGHT', 'SGII', 'SGLY', 'SGMA', 'SGML', 'SGMO', 'SGMT', 'SGOL', 'SGRP', 'SGRY', 'SGTX', 'SGU', 'SH', 'SHAK', 'SHAP', 'SHBI', 'SHC', 'SHCO', 'SHCR', 'SHEL', 'SHEN', 'SHFS', 'SHG', 'SHIP', 'SHLS', 'SHLT', 'SHM', 'SHO', 'SHOO', 'SHOP', 'SHOT', 'SHPH', 'SHPW', 'SHUA', 'SHW', 'SHYD', 'SHYF', 'SHYG', 'SIBN', 'SID', 'SIDU', 'SIEB', 'SIEN', 'SIF', 'SIFY', 'SIG', 'SIGA', 'SIGI', 'SII', 'SIJ', 'SIL', 'SILC', 'SILJ', 'SILK', 'SILO', 'SILV', 'SIM', 'SIMO', 'SINT', 'SIRI', 'SISI', 'SITC', 'SITE', 'SITM', 'SIVR', 'SIX', 'SIZE', 'SJ', 'SJB', 'SJM', 'SJNK', 'SJT', 'SJW', 'SKE', 'SKF', 'SKGR', 'SKIL', 'SKIN', 'SKLZ', 'SKM', 'SKT', 'SKWD', 'SKX', 'SKY', 'SKYH', 'SKYT', 'SKYW', 'SKYX', 'SLAB', 'SLAC', 'SLAM', 'SLB', 'SLCA', 'SLDB', 'SLDP', 'SLF', 'SLG', 'SLGC', 'SLGL', 'SLGN', 'SLI', 'SLM', 'SLMBP', 'SLN', 'SLNA', 'SLND', 'SLNG', 'SLNH', 'SLNO', 'SLP', 'SLQT', 'SLRC', 'SLRN', 'SLRX', 'SLS', 'SLV', 'SLVM', 'SLVP', 'SLVR', 'SLX', 'SLYG', 'SLYV', 'SM', 'SMAP', 'SMAR', 'SMB', 'SMBC', 'SMBK', 'SMCI', 'SMDD', 'SMDV', 'SMFG', 'SMFL', 'SMG', 'SMHI', 'SMID', 'SMIN', 'SMLF', 'SMLP', 'SMLR', 'SMLV', 'SMMF', 'SMMT', 'SMMU', 'SMN', 'SMOG', 'SMP', 'SMPL', 'SMR', 'SMRT', 'SMSI', 'SMTC', 'SMTI', 'SMWB', 'SMX', 'SN', 'SNA', 'SNAL', 'SNAP', 'SNAX', 'SNBR', 'SNCE', 'SNCR', 'SNCY', 'SND', 'SNDA', 'SNDL', 'SNDR', 'SNDX', 'SNES', 'SNEX', 'SNFCA', 'SNGX', 'SNMP', 'SNN', 'SNOA', 'SNOW', 'SNPO', 'SNPS', 'SNPX', 'SNSE', 'SNT', 'SNTG', 'SNTI', 'SNV', 'SNX', 'SNY', 'SO', 'SOBR', 'SOFI', 'SOFO', 'SOHO', 'SOHOB', 'SOHON', 'SOHOO', 'SOHU', 'SOI', 'SOL', 'SOLO', 'SON', 'SOND', 'SONM', 'SONN', 'SONO', 'SONX', 'SONY', 'SOPA', 'SOPH', 'SOR', 'SOS', 'SOTK', 'SOUN', 'SOVO', 'SOXL', 'SOXS', 'SOYB', 'SP', 'SPAB', 'SPB', 'SPBO', 'SPCB', 'SPCE', 'SPDN', 'SPDW', 'SPE', 'SPEM', 'SPEU', 'SPFF', 'SPFI', 'SPG', 'SPGC', 'SPGI', 'SPGM', 'SPGP', 'SPH', 'SPHB', 'SPHD', 'SPHQ', 'SPHR', 'SPHY', 'SPI', 'SPIB', 'SPIP', 'SPIR', 'SPLB', 'SPLG', 'SPLK', 'SPLP', 'SPLV', 'SPMB', 'SPMD', 'SPMO', 'SPNS', 'SPNT', 'SPOK', 'SPOT', 'SPPL', 'SPR', 'SPRB', 'SPRC', 'SPRO', 'SPRU', 'SPRY', 'SPSB', 'SPSC', 'SPSM', 'SPT', 'SPTI', 'SPTL', 'SPTM', 'SPTN', 'SPTS', 'SPUU', 'SPVM', 'SPVU', 'SPWH', 'SPWR', 'SPXC', 'SPXE', 'SPXL', 'SPXN', 'SPXS', 'SPXT', 'SPXU', 'SPXV', 'SPXX', 'SPY', 'SPYD', 'SPYG', 'SPYV', 'SQ', 'SQFT', 'SQL', 'SQM', 'SQNS', 'SQSP', 'SR', 'SRAD', 'SRBK', 'SRC', 'SRCE', 'SRCL', 'SRDX', 'SRE', 'SRFM', 'SRG', 'SRI', 'SRL', 'SRLN', 'SRM', 'SRPT', 'SRRK', 'SRS', 'SRT', 'SRTS', 'SRTY', 'SRV', 'SRZN', 'SSB', 'SSBI', 'SSBK', 'SSD', 'SSG', 'SSIC', 'SSKN', 'SSL', 'SSNC', 'SSNT', 'SSO', 'SSP', 'SSRM', 'SSSS', 'SST', 'SSTI', 'SSTK', 'SSU', 'SSY', 'SSYS', 'ST', 'STAA', 'STAF', 'STAG', 'STBA', 'STBX', 'STC', 'STCN', 'STE', 'STEL', 'STEM', 'STEP', 'STER', 'STEW', 'STG', 'STGW', 'STHO', 'STIM', 'STIP', 'STIX', 'STK', 'STKH', 'STKL', 'STKS', 'STLA', 'STLD', 'STM', 'STN', 'STNE', 'STNG', 'STOK', 'STPZ', 'STR', 'STRA', 'STRC', 'STRL', 'STRM', 'STRO', 'STRR', 'STRS', 'STRT', 'STRW', 'STSS', 'STT', 'STTK', 'STVN', 'STWD', 'STX', 'STXS', 'STZ', 'SU', 'SUAC', 'SUB', 'SUI', 'SUM', 'SUN', 'SUNW', 'SUP', 'SUPN', 'SUPV', 'SURE', 'SURG', 'SUSA', 'SUZ', 'SVC', 'SVFD', 'SVII', 'SVM', 'SVRA', 'SVRE', 'SVT', 'SVV', 'SVVC', 'SVXY', 'SWAG', 'SWAV', 'SWBI', 'SWI', 'SWIM', 'SWIN', 'SWK', 'SWKH', 'SWKS', 'SWN', 'SWSS', 'SWTX', 'SWVL', 'SWX', 'SWZ', 'SXC', 'SXI', 'SXT', 'SXTC', 'SXTP', 'SY', 'SYBT', 'SYBX', 'SYF', 'SYK', 'SYLD', 'SYM', 'SYNA', 'SYNH', 'SYPR', 'SYRA', 'SYRS', 'SYT', 'SYTA', 'SYY', 'SZK', 'SZZL', 'T', 'TAC', 'TACT', 'TAGS', 'TAIT', 'TAK', 'TAL', 'TALK', 'TALO', 'TALS', 'TAN', 'TANH', 'TAOP', 'TAP', 'TARA', 'TARO', 'TARS', 'TASK', 'TAST', 'TATT', 'TAYD', 'TBBK', 'TBCP', 'TBF', 'TBI', 'TBIO', 'TBLA', 'TBLD', 'TBLT', 'TBMC', 'TBNK', 'TBPH', 'TBT', 'TBX', 'TC', 'TCBC', 'TCBI', 'TCBK', 'TCBP', 'TCBS', 'TCBX', 'TCI', 'TCJH', 'TCMD', 'TCN', 'TCOM', 'TCON', 'TCPC', 'TCRT', 'TCRX', 'TCS', 'TCX', 'TD', 'TDC', 'TDCX', 'TDF', 'TDG', 'TDOC', 'TDS', 'TDTF', 'TDTT', 'TDUP', 'TDW', 'TDY', 'TEAF', 'TEAM', 'TECH', 'TECK', 'TECL', 'TECS', 'TECTP', 'TEDU', 'TEF', 'TEI', 'TEL', 'TELA', 'TELL', 'TENB', 'TENK', 'TENX', 'TEO', 'TER', 'TERN', 'TETE', 'TEVA', 'TEX', 'TFC', 'TFFP', 'TFI', 'TFII', 'TFIN', 'TFLO', 'TFPM', 'TFSL', 'TFX', 'TG', 'TGAA', 'TGAN', 'TGB', 'TGH', 'TGI', 'TGL', 'TGLS', 'TGNA', 'TGS', 'TGT', 'TGTX', 'TGVC', 'TH', 'THAR', 'THC', 'THCH', 'THCP', 'THD', 'THFF', 'THG', 'THM', 'THMO', 'THO', 'THQ', 'THR', 'THRD', 'THRM', 'THRN', 'THRX', 'THRY', 'THS', 'THTX', 'THW', 'TIGO', 'TIGR', 'TIL', 'TILE', 'TILT', 'TIMB', 'TIO', 'TIP', 'TIPX', 'TIPZ', 'TIRX', 'TISI', 'TITN', 'TIVC', 'TIXT', 'TJX', 'TK', 'TKAT', 'TKC', 'TKLF', 'TKNO', 'TKO', 'TKR', 'TLF', 'TLGY', 'TLH', 'TLIS', 'TLK', 'TLRY', 'TLS', 'TLSA', 'TLSI', 'TLT', 'TLTD', 'TLTE', 'TLYS', 'TM', 'TMBR', 'TMC', 'TMCI', 'TMDX', 'TME', 'TMF', 'TMHC', 'TMKR', 'TMO', 'TMP', 'TMPO', 'TMQ', 'TMST', 'TMTC', 'TMUS', 'TMV', 'TNA', 'TNC', 'TNDM', 'TNET', 'TNGX', 'TNK', 'TNL', 'TNON', 'TNP', 'TNXP', 'TNYA', 'TOI', 'TOK', 'TOL', 'TOLZ', 'TOMZ', 'TOON', 'TOP', 'TOPS', 'TORO', 'TOST', 'TOTL', 'TOUR', 'TOVX', 'TOWN', 'TPB', 'TPC', 'TPCS', 'TPET', 'TPG', 'TPH', 'TPHS', 'TPIC', 'TPL', 'TPR', 'TPST', 'TPVG', 'TPX', 'TPYP', 'TPZ', 'TR', 'TRC', 'TRCA', 'TRDA', 'TREE', 'TREX', 'TRGP', 'TRHC', 'TRI', 'TRIB', 'TRIN', 'TRIP', 'TRIS', 'TRKA', 'TRMB', 'TRMD', 'TRMK', 'TRMR', 'TRN', 'TRNO', 'TRNR', 'TRNS', 'TRON', 'TROO', 'TROW', 'TROX', 'TRP', 'TRS', 'TRST', 'TRT', 'TRTL', 'TRTN', 'TRTX', 'TRU', 'TRUE', 'TRUP', 'TRV', 'TRVG', 'TRVI', 'TRVN', 'TRX', 'TS', 'TSAT', 'TSBK', 'TSBX', 'TSCO', 'TSE', 'TSEM', 'TSHA', 'TSI', 'TSLA', 'TSLX', 'TSM', 'TSN', 'TSP', 'TSQ', 'TSRI', 'TSVT', 'TTC', 'TTD', 'TTE', 'TTEC', 'TTEK', 'TTGT', 'TTI', 'TTMI', 'TTNP', 'TTOO', 'TTP', 'TTSH', 'TTT', 'TTWO', 'TU', 'TUP', 'TURB', 'TURN', 'TUSK', 'TUYA', 'TV', 'TVC', 'TVE', 'TVTX', 'TW', 'TWCB', 'TWI', 'TWIN', 'TWKS', 'TWLO', 'TWLV', 'TWM', 'TWN', 'TWNK', 'TWO', 'TWOA', 'TWOU', 'TWST', 'TX', 'TXG', 'TXMD', 'TXN', 'TXO', 'TXRH', 'TXT', 'TY', 'TYD', 'TYG', 'TYGO', 'TYL', 'TYO', 'TYRA', 'TZA', 'TZOO', 'U', 'UA', 'UAA', 'UAL', 'UAMY', 'UAN', 'UAVS', 'UBA', 'UBCP', 'UBER', 'UBFO', 'UBP', 'UBR', 'UBS', 'UBSI', 'UBT', 'UBX', 'UCAR', 'UCBI', 'UCC', 'UCL', 'UCO', 'UCTT', 'UDIV', 'UDMY', 'UDN', 'UDOW', 'UDR', 'UE', 'UEC', 'UEIC', 'UFAB', 'UFCS', 'UFI', 'UFPI', 'UFPT', 'UG', 'UGA', 'UGE', 'UGI', 'UGL', 'UGP', 'UGRO', 'UHAL', 'UHG', 'UHS', 'UHT', 'UI', 'UIS', 'UJB', 'UK', 'UL', 'ULBI', 'ULCC', 'ULE', 'ULH', 'ULST', 'ULTA', 'UMBF', 'UMC', 'UMDD', 'UMH', 'UNB', 'UNCY', 'UNF', 'UNFI', 'UNG', 'UNH', 'UNL', 'UNM', 'UNP', 'UNTY', 'UONE', 'UONEK', 'UP', 'UPBD', 'UPC', 'UPH', 'UPLD', 'UPRO', 'UPS', 'UPST', 'UPTD', 'UPV', 'UPW', 'UPWK', 'UPXI', 'URA', 'URBN', 'URE', 'URG', 'URGN', 'URI', 'UROY', 'URTH', 'URTY', 'USA', 'USAC', 'USAP', 'USAS', 'USAU', 'USB', 'USCB', 'USCI', 'USCT', 'USD', 'USDP', 'USDU', 'USEA', 'USEG', 'USFD', 'USFR', 'USGO', 'USIG', 'USIO', 'USL', 'USLM', 'USM', 'USMV', 'USNA', 'USO', 'USPH', 'USPX', 'USRT', 'UST', 'UTAA', 'UTES', 'UTF', 'UTG', 'UTHR', 'UTI', 'UTL', 'UTMD', 'UTRS', 'UTSI', 'UTZ', 'UUP', 'UUU', 'UUUU', 'UVE', 'UVSP', 'UVV', 'UVXY', 'UWM', 'UWMC', 'UXI', 'UXIN', 'UYG', 'UYM', 'V', 'VABK', 'VAC', 'VACC', 'VAL', 'VALE', 'VALN', 'VALU', 'VAMO', 'VANI', 'VAPO', 'VAQC', 'VATE', 'VAW', 'VAXX', 'VB', 'VBF', 'VBFC', 'VBIV', 'VBK', 'VBLT', 'VBNK', 'VBOC', 'VBR', 'VBTX', 'VC', 'VCEL', 'VCIG', 'VCNX', 'VCR', 'VCSA', 'VCTR', 'VCV', 'VCXA', 'VCXB', 'VCYT', 'VDC', 'VDE', 'VEA', 'VECO', 'VEDU', 'VEEE', 'VEEV', 'VEGA', 'VEGI', 'VEL', 'VEON', 'VERA', 'VERB', 'VERI', 'VERO', 'VERU', 'VERV', 'VERX', 'VERY', 'VET', 'VEU', 'VEV', 'VFC', 'VFF', 'VFH', 'VFL', 'VFS', 'VGAS', 'VGI', 'VGK', 'VGM', 'VGR', 'VGT', 'VGZ', 'VHAQ', 'VHC', 'VHI', 'VHNA', 'VHT', 'VIA', 'VIAO', 'VICI', 'VIEW', 'VIG', 'VIGL', 'VII', 'VINC', 'VINE', 'VINO', 'VINP', 'VIOG', 'VIOO', 'VIOT', 'VIOV', 'VIPS', 'VIR', 'VIRC', 'VIRI', 'VIRT', 'VIRX', 'VIS', 'VISL', 'VIST', 'VITL', 'VIV', 'VIVK', 'VIXM', 'VIXY', 'VJET', 'VKI', 'VKQ', 'VKTX', 'VLCN', 'VLD', 'VLGEA', 'VLN', 'VLO', 'VLRS', 'VLT', 'VLU', 'VLUE', 'VLY', 'VLYPP', 'VMAR', 'VMC', 'VMCA', 'VMD', 'VMEO', 'VMI', 'VMO', 'VMW', 'VNCE', 'VNDA', 'VNET', 'VNLA', 'VNM', 'VNO', 'VNOM', 'VNQ', 'VNRX', 'VNT', 'VO', 'VOC', 'VOD', 'VOE', 'VOO', 'VOOG', 'VOOV', 'VOR', 'VOT', 'VOX', 'VOXR', 'VOXX', 'VOYA', 'VPG', 'VPL', 'VPU', 'VPV', 'VQS', 'VRA', 'VRAR', 'VRAX', 'VRCA', 'VRDN', 'VRE', 'VREX', 'VRM', 'VRME', 'VRNA', 'VRNS', 'VRNT', 'VRP', 'VRPX', 'VRRM', 'VRSK', 'VRSN', 'VRT', 'VRTS', 'VRTV', 'VRTX', 'VSAC', 'VSAT', 'VSCO', 'VSEC', 'VSH', 'VSME', 'VSS', 'VST', 'VSTA', 'VSTM', 'VSTO', 'VT', 'VTEB', 'VTEX', 'VTGN', 'VTI', 'VTIP', 'VTLE', 'VTMX', 'VTN', 'VTNR', 'VTOL', 'VTR', 'VTRS', 'VTRU', 'VTS', 'VTSI', 'VTV', 'VTVT', 'VTYX', 'VUG', 'VUZI', 'VV', 'VVI', 'VVOS', 'VVPR', 'VVR', 'VVV', 'VWE', 'VWO', 'VWOB', 'VXF', 'VXRT', 'VYGR', 'VYM', 'VYNE', 'VZ', 'VZIO', 'VZLA', 'W', 'WAB', 'WABC', 'WAFD', 'WAFU', 'WAL', 'WALD', 'WASH', 'WAT', 'WATT', 'WAVD', 'WAVE', 'WAVS', 'WB', 'WBA', 'WBD', 'WBIF', 'WBIG', 'WBIL', 'WBS', 'WBX', 'WCC', 'WCN', 'WD', 'WDAY', 'WDC', 'WDFC', 'WDH', 'WDI', 'WDIV', 'WDS', 'WE', 'WEA', 'WEAT', 'WEAV', 'WEC', 'WEL', 'WELL', 'WEN', 'WERN', 'WES', 'WEST', 'WETG', 'WEX', 'WEYS', 'WF', 'WFC', 'WFCF', 'WFG', 'WFRD', 'WGO', 'WGS', 'WH', 'WHD', 'WHF', 'WHG', 'WHLM', 'WHLR', 'WHLRD', 'WHLRP', 'WHR', 'WIA', 'WILC', 'WIMI', 'WINA', 'WING', 'WINT', 'WINV', 'WIP', 'WIRE', 'WISA', 'WISH', 'WIT', 'WIW', 'WIX', 'WK', 'WKC', 'WKEY', 'WKHS', 'WKME', 'WKSP', 'WLDN', 'WLDS', 'WLFC', 'WLGS', 'WLK', 'WLKP', 'WLY', 'WLYB', 'WM', 'WMB', 'WMC', 'WMG', 'WMK', 'WMPN', 'WMS', 'WMT', 'WNC', 'WNEB', 'WNNR', 'WNS', 'WNW', 'WOLF', 'WOOF', 'WOR', 'WORX', 'WOW', 'WPC', 'WPM', 'WPP', 'WPRT', 'WPS', 'WRAC', 'WRAP', 'WRB', 'WRBY', 'WRK', 'WRLD', 'WRN', 'WRNT', 'WSBC', 'WSBF', 'WSC', 'WSFS', 'WSM', 'WSO', 'WSR', 'WST', 'WT', 'WTBA', 'WTER', 'WTFC', 'WTFCM', 'WTI', 'WTM', 'WTMA', 'WTMF', 'WTO', 'WTRE', 'WTRG', 'WTS', 'WTT', 'WTTR', 'WTV', 'WTW', 'WU', 'WULF', 'WVE', 'WVVI', 'WVVIP', 'WWAC', 'WWD', 'WWE', 'WWR', 'WWW', 'WY', 'WYNN', 'WYY', 'X', 'XAIR', 'XAR', 'XBI', 'XBIO', 'XBIT', 'XCEM', 'XCUR', 'XEL', 'XELA', 'XELB', 'XENE', 'XERS', 'XES', 'XFIN', 'XFLT', 'XFOR', 'XGN', 'XHB', 'XHE', 'XHR', 'XHS', 'XIN', 'XLB', 'XLE', 'XLF', 'XLG', 'XLI', 'XLK', 'XLO', 'XLP', 'XLRE', 'XLU', 'XLV', 'XLY', 'XME', 'XMHQ', 'XMLV', 'XMMO', 'XMPT', 'XMTR', 'XMVM', 'XNCR', 'XNET', 'XNTK', 'XOM', 'XOMA', 'XOP', 'XOS', 'XP', 'XPAX', 'XPDB', 'XPEL', 'XPER', 'XPEV', 'XPH', 'XPL', 'XPO', 'XPOF', 'XPON', 'XPP', 'XPRO', 'XRAY', 'XRLV', 'XRT', 'XRTX', 'XRX', 'XSD', 'XSLV', 'XSMO', 'XSOE', 'XSVM', 'XSW', 'XTL', 'XTLB', 'XTN', 'XTNT', 'XWEL', 'XXII', 'XYF', 'XYL', 'XYLD', 'YALA', 'YANG', 'YCBD', 'YCL', 'YCS', 'YELP', 'YETI', 'YEXT', 'YGF', 'YGMZ', 'YHGJ', 'YINN', 'YJ', 'YLD', 'YMAB', 'YMM', 'YORW', 'YOSH', 'YOTA', 'YOU', 'YPF', 'YQ', 'YRD', 'YS', 'YSG', 'YTEN', 'YTRA', 'YUM', 'YUMC', 'YXI', 'YY', 'YYY', 'Z', 'ZAPP', 'ZBH', 'ZBRA', 'ZCMD', 'ZD', 'ZDGE', 'ZENV', 'ZEPP', 'ZETA', 'ZEUS', 'ZEV', 'ZFOX', 'ZG', 'ZGN', 'ZH', 'ZI', 'ZIM', 'ZIMV', 'ZING', 'ZION', 'ZIP', 'ZIVO', 'ZJYL', 'ZKIN', 'ZLAB', 'ZLS', 'ZM', 'ZNTL', 'ZOM', 'ZROZ', 'ZS', 'ZSL', 'ZTEK', 'ZTO', 'ZTR', 'ZTS', 'ZUMZ', 'ZUO', 'ZURA', 'ZVIA', 'ZVRA', 'ZVSA', 'ZWS', 'ZYME', 'ZYNE', 'ZYXI']\n",
      "Processing batch 1 of 74...\n",
      "Processing A...\n",
      "Processing AA...\n",
      "Processing AAC...\n"
     ]
    },
    {
     "name": "stderr",
     "output_type": "stream",
     "text": [
      "$AAC: possibly delisted; no price data found  (period=5y) (Yahoo error = \"No data found, symbol may be delisted\")\n"
     ]
    },
    {
     "name": "stdout",
     "output_type": "stream",
     "text": [
      "Processing AACG...\n",
      "Processing AACI...\n"
     ]
    },
    {
     "name": "stderr",
     "output_type": "stream",
     "text": [
      "$AACI: possibly delisted; no price data found  (period=5y) (Yahoo error = \"No data found, symbol may be delisted\")\n",
      "AACT: Period '5y' is invalid, must be one of ['1d', '5d', '1mo', '3mo', '6mo', '1y', '2y', 'ytd', 'max']\n"
     ]
    },
    {
     "name": "stdout",
     "output_type": "stream",
     "text": [
      "Processing AACT...\n",
      "Processing AADI...\n",
      "Processing AAIC...\n"
     ]
    },
    {
     "name": "stderr",
     "output_type": "stream",
     "text": [
      "$AAIC: possibly delisted; no price data found  (period=5y) (Yahoo error = \"No data found, symbol may be delisted\")\n"
     ]
    },
    {
     "name": "stdout",
     "output_type": "stream",
     "text": [
      "Processing AAL...\n",
      "Processing AAMC...\n"
     ]
    },
    {
     "name": "stderr",
     "output_type": "stream",
     "text": [
      "$AAMC: possibly delisted; no price data found  (period=5y) (Yahoo error = \"No data found, symbol may be delisted\")\n"
     ]
    },
    {
     "name": "stdout",
     "output_type": "stream",
     "text": [
      "Processing AAME...\n",
      "Processing AAN...\n",
      "Processing AAOI...\n",
      "Processing AAON...\n",
      "Processing AAP...\n",
      "Processing AAPL...\n",
      "Processing AAT...\n",
      "Processing AAU...\n"
     ]
    },
    {
     "name": "stderr",
     "output_type": "stream",
     "text": [
      "$AAU: possibly delisted; no price data found  (period=5y) (Yahoo error = \"No data found, symbol may be delisted\")\n"
     ]
    },
    {
     "name": "stdout",
     "output_type": "stream",
     "text": [
      "Processing AB...\n",
      "Processing ABBV...\n",
      "Processing ABC...\n"
     ]
    },
    {
     "name": "stderr",
     "output_type": "stream",
     "text": [
      "$ABC: possibly delisted; no price data found  (period=5y) (Yahoo error = \"No data found, symbol may be delisted\")\n"
     ]
    },
    {
     "name": "stdout",
     "output_type": "stream",
     "text": [
      "Processing ABCB...\n",
      "Processing ABCL...\n",
      "Processing ABCM...\n"
     ]
    },
    {
     "name": "stderr",
     "output_type": "stream",
     "text": [
      "$ABCM: possibly delisted; no price data found  (period=5y) (Yahoo error = \"No data found, symbol may be delisted\")\n"
     ]
    },
    {
     "name": "stdout",
     "output_type": "stream",
     "text": [
      "Processing ABEO...\n",
      "Processing ABEV...\n",
      "Processing ABG...\n",
      "Processing ABIO...\n"
     ]
    },
    {
     "name": "stderr",
     "output_type": "stream",
     "text": [
      "$ABIO: possibly delisted; no price data found  (period=5y) (Yahoo error = \"No data found, symbol may be delisted\")\n"
     ]
    },
    {
     "name": "stdout",
     "output_type": "stream",
     "text": [
      "Processing ABL...\n"
     ]
    },
    {
     "name": "stderr",
     "output_type": "stream",
     "text": [
      "ABLV: Period '5y' is invalid, must be one of ['1d', '5d', '1mo', '3mo', '6mo', '1y', '2y', 'ytd', 'max']\n"
     ]
    },
    {
     "name": "stdout",
     "output_type": "stream",
     "text": [
      "Processing ABLV...\n",
      "Processing ABM...\n",
      "Processing ABNB...\n",
      "Processing ABOS...\n",
      "Processing ABR...\n",
      "Processing ABSI...\n",
      "Processing ABST...\n"
     ]
    },
    {
     "name": "stderr",
     "output_type": "stream",
     "text": [
      "$ABST: possibly delisted; no price data found  (period=5y) (Yahoo error = \"No data found, symbol may be delisted\")\n"
     ]
    },
    {
     "name": "stdout",
     "output_type": "stream",
     "text": [
      "Processing ABT...\n",
      "Processing ABUS...\n",
      "Processing ABVC...\n",
      "Processing AC...\n",
      "Processing ACA...\n",
      "Processing ACAB...\n",
      "Processing ACAC...\n",
      "Processing ACAD...\n",
      "Processing ACAH...\n"
     ]
    },
    {
     "name": "stderr",
     "output_type": "stream",
     "text": [
      "$ACAH: possibly delisted; no price data found  (period=5y) (Yahoo error = \"No data found, symbol may be delisted\")\n"
     ]
    },
    {
     "name": "stdout",
     "output_type": "stream",
     "text": [
      "Processing ACAQ...\n"
     ]
    },
    {
     "name": "stderr",
     "output_type": "stream",
     "text": [
      "$ACAQ: possibly delisted; no price data found  (period=5y) (Yahoo error = \"No data found, symbol may be delisted\")\n"
     ]
    },
    {
     "name": "stdout",
     "output_type": "stream",
     "text": [
      "Processing ACAX...\n"
     ]
    },
    {
     "name": "stderr",
     "output_type": "stream",
     "text": [
      "$ACAX: possibly delisted; no price data found  (period=5y) (Yahoo error = \"No data found, symbol may be delisted\")\n"
     ]
    },
    {
     "name": "stdout",
     "output_type": "stream",
     "text": [
      "Processing ACB...\n",
      "Processing ACBA...\n"
     ]
    },
    {
     "name": "stderr",
     "output_type": "stream",
     "text": [
      "$ACBA: possibly delisted; no price data found  (period=5y) (Yahoo error = \"No data found, symbol may be delisted\")\n"
     ]
    },
    {
     "name": "stdout",
     "output_type": "stream",
     "text": [
      "Processing ACCD...\n",
      "Processing ACCO...\n",
      "Processing ACDC...\n",
      "Processing ACEL...\n",
      "Processing ACER...\n"
     ]
    },
    {
     "name": "stderr",
     "output_type": "stream",
     "text": [
      "$ACER: possibly delisted; no price data found  (period=5y) (Yahoo error = \"No data found, symbol may be delisted\")\n"
     ]
    },
    {
     "name": "stdout",
     "output_type": "stream",
     "text": [
      "Processing ACET...\n",
      "Processing ACGL...\n",
      "Processing ACGLO...\n",
      "Processing ACGN...\n"
     ]
    },
    {
     "name": "stderr",
     "output_type": "stream",
     "text": [
      "$ACGN: possibly delisted; no price data found  (period=5y) (Yahoo error = \"No data found, symbol may be delisted\")\n"
     ]
    },
    {
     "name": "stdout",
     "output_type": "stream",
     "text": [
      "Processing ACHC...\n"
     ]
    },
    {
     "ename": "KeyboardInterrupt",
     "evalue": "",
     "output_type": "error",
     "traceback": [
      "\u001B[0;31m---------------------------------------------------------------------------\u001B[0m",
      "\u001B[0;31mKeyboardInterrupt\u001B[0m                         Traceback (most recent call last)",
      "Cell \u001B[0;32mIn[2], line 135\u001B[0m\n\u001B[1;32m    132\u001B[0m fetched_tickers \u001B[38;5;241m=\u001B[39m get_tickers()\n\u001B[1;32m    134\u001B[0m \u001B[38;5;66;03m# Process tickers in batches\u001B[39;00m\n\u001B[0;32m--> 135\u001B[0m \u001B[43mprocess_tickers_in_batches\u001B[49m\u001B[43m(\u001B[49m\u001B[43mfetched_tickers\u001B[49m\u001B[43m,\u001B[49m\u001B[43m \u001B[49m\u001B[43mbatch_size\u001B[49m\u001B[38;5;241;43m=\u001B[39;49m\u001B[38;5;241;43m100\u001B[39;49m\u001B[43m)\u001B[49m\n\u001B[1;32m    136\u001B[0m \u001B[38;5;28mprint\u001B[39m(\u001B[38;5;124m\"\u001B[39m\u001B[38;5;124mDataset creation complete!\u001B[39m\u001B[38;5;124m\"\u001B[39m)\n",
      "Cell \u001B[0;32mIn[2], line 113\u001B[0m, in \u001B[0;36mprocess_tickers_in_batches\u001B[0;34m(tickers, batch_size, output_file, months)\u001B[0m\n\u001B[1;32m    110\u001B[0m \u001B[38;5;28mprint\u001B[39m(\u001B[38;5;124mf\u001B[39m\u001B[38;5;124m\"\u001B[39m\u001B[38;5;124mProcessing batch \u001B[39m\u001B[38;5;132;01m{\u001B[39;00mi\u001B[38;5;250m \u001B[39m\u001B[38;5;241m/\u001B[39m\u001B[38;5;241m/\u001B[39m\u001B[38;5;250m \u001B[39mbatch_size\u001B[38;5;250m \u001B[39m\u001B[38;5;241m+\u001B[39m\u001B[38;5;250m \u001B[39m\u001B[38;5;241m1\u001B[39m\u001B[38;5;132;01m}\u001B[39;00m\u001B[38;5;124m of \u001B[39m\u001B[38;5;132;01m{\u001B[39;00m\u001B[38;5;28mlen\u001B[39m(tickers)\u001B[38;5;250m \u001B[39m\u001B[38;5;241m/\u001B[39m\u001B[38;5;241m/\u001B[39m\u001B[38;5;250m \u001B[39mbatch_size\u001B[38;5;250m \u001B[39m\u001B[38;5;241m+\u001B[39m\u001B[38;5;250m \u001B[39m\u001B[38;5;241m1\u001B[39m\u001B[38;5;132;01m}\u001B[39;00m\u001B[38;5;124m...\u001B[39m\u001B[38;5;124m\"\u001B[39m)\n\u001B[1;32m    112\u001B[0m \u001B[38;5;66;03m# Process the batch using the existing method\u001B[39;00m\n\u001B[0;32m--> 113\u001B[0m batch_data \u001B[38;5;241m=\u001B[39m \u001B[43mcreate_real_dataset\u001B[49m\u001B[43m(\u001B[49m\u001B[43mbatch\u001B[49m\u001B[43m,\u001B[49m\u001B[43m \u001B[49m\u001B[43mmonths\u001B[49m\u001B[38;5;241;43m=\u001B[39;49m\u001B[43mmonths\u001B[49m\u001B[43m)\u001B[49m\n\u001B[1;32m    115\u001B[0m \u001B[38;5;66;03m# Save the batch to the output file\u001B[39;00m\n\u001B[1;32m    116\u001B[0m \u001B[38;5;28;01mif\u001B[39;00m \u001B[38;5;129;01mnot\u001B[39;00m batch_data\u001B[38;5;241m.\u001B[39mempty:\n",
      "Cell \u001B[0;32mIn[2], line 87\u001B[0m, in \u001B[0;36mcreate_real_dataset\u001B[0;34m(tickers, months)\u001B[0m\n\u001B[1;32m     84\u001B[0m     \u001B[38;5;28;01mcontinue\u001B[39;00m\n\u001B[1;32m     86\u001B[0m \u001B[38;5;66;03m# Fetch business description\u001B[39;00m\n\u001B[0;32m---> 87\u001B[0m description \u001B[38;5;241m=\u001B[39m \u001B[43mfetch_business_description\u001B[49m\u001B[43m(\u001B[49m\u001B[43mticker\u001B[49m\u001B[43m)\u001B[49m\n\u001B[1;32m     89\u001B[0m \u001B[38;5;66;03m# Extract static features\u001B[39;00m\n\u001B[1;32m     90\u001B[0m market_size \u001B[38;5;241m=\u001B[39m fetch_market_size(ticker)\n",
      "Cell \u001B[0;32mIn[2], line 22\u001B[0m, in \u001B[0;36mfetch_business_description\u001B[0;34m(ticker)\u001B[0m\n\u001B[1;32m     20\u001B[0m \u001B[38;5;28;01mtry\u001B[39;00m:\n\u001B[1;32m     21\u001B[0m     stock \u001B[38;5;241m=\u001B[39m yf\u001B[38;5;241m.\u001B[39mTicker(ticker)\n\u001B[0;32m---> 22\u001B[0m     description \u001B[38;5;241m=\u001B[39m \u001B[43mstock\u001B[49m\u001B[38;5;241;43m.\u001B[39;49m\u001B[43minfo\u001B[49m\u001B[38;5;241m.\u001B[39mget(\u001B[38;5;124m\"\u001B[39m\u001B[38;5;124mlongBusinessSummary\u001B[39m\u001B[38;5;124m\"\u001B[39m, \u001B[38;5;124m\"\u001B[39m\u001B[38;5;124mNo description available.\u001B[39m\u001B[38;5;124m\"\u001B[39m)\n\u001B[1;32m     23\u001B[0m     \u001B[38;5;28;01mreturn\u001B[39;00m description\n\u001B[1;32m     24\u001B[0m \u001B[38;5;28;01mexcept\u001B[39;00m \u001B[38;5;167;01mException\u001B[39;00m \u001B[38;5;28;01mas\u001B[39;00m e:\n",
      "File \u001B[0;32m~/Documents/AIR-Project/venv/lib/python3.12/site-packages/yfinance/ticker.py:159\u001B[0m, in \u001B[0;36mTicker.info\u001B[0;34m(self)\u001B[0m\n\u001B[1;32m    157\u001B[0m \u001B[38;5;129m@property\u001B[39m\n\u001B[1;32m    158\u001B[0m \u001B[38;5;28;01mdef\u001B[39;00m \u001B[38;5;21minfo\u001B[39m(\u001B[38;5;28mself\u001B[39m) \u001B[38;5;241m-\u001B[39m\u001B[38;5;241m>\u001B[39m \u001B[38;5;28mdict\u001B[39m:\n\u001B[0;32m--> 159\u001B[0m     \u001B[38;5;28;01mreturn\u001B[39;00m \u001B[38;5;28;43mself\u001B[39;49m\u001B[38;5;241;43m.\u001B[39;49m\u001B[43mget_info\u001B[49m\u001B[43m(\u001B[49m\u001B[43m)\u001B[49m\n",
      "File \u001B[0;32m~/Documents/AIR-Project/venv/lib/python3.12/site-packages/yfinance/base.py:229\u001B[0m, in \u001B[0;36mTickerBase.get_info\u001B[0;34m(self, proxy)\u001B[0m\n\u001B[1;32m    227\u001B[0m \u001B[38;5;28;01mdef\u001B[39;00m \u001B[38;5;21mget_info\u001B[39m(\u001B[38;5;28mself\u001B[39m, proxy\u001B[38;5;241m=\u001B[39m\u001B[38;5;28;01mNone\u001B[39;00m) \u001B[38;5;241m-\u001B[39m\u001B[38;5;241m>\u001B[39m \u001B[38;5;28mdict\u001B[39m:\n\u001B[1;32m    228\u001B[0m     \u001B[38;5;28mself\u001B[39m\u001B[38;5;241m.\u001B[39m_quote\u001B[38;5;241m.\u001B[39mproxy \u001B[38;5;241m=\u001B[39m proxy \u001B[38;5;129;01mor\u001B[39;00m \u001B[38;5;28mself\u001B[39m\u001B[38;5;241m.\u001B[39mproxy\n\u001B[0;32m--> 229\u001B[0m     data \u001B[38;5;241m=\u001B[39m \u001B[38;5;28;43mself\u001B[39;49m\u001B[38;5;241;43m.\u001B[39;49m\u001B[43m_quote\u001B[49m\u001B[38;5;241;43m.\u001B[39;49m\u001B[43minfo\u001B[49m\n\u001B[1;32m    230\u001B[0m     \u001B[38;5;28;01mreturn\u001B[39;00m data\n",
      "File \u001B[0;32m~/Documents/AIR-Project/venv/lib/python3.12/site-packages/yfinance/scrapers/quote.py:508\u001B[0m, in \u001B[0;36mQuote.info\u001B[0;34m(self)\u001B[0m\n\u001B[1;32m    505\u001B[0m \u001B[38;5;129m@property\u001B[39m\n\u001B[1;32m    506\u001B[0m \u001B[38;5;28;01mdef\u001B[39;00m \u001B[38;5;21minfo\u001B[39m(\u001B[38;5;28mself\u001B[39m) \u001B[38;5;241m-\u001B[39m\u001B[38;5;241m>\u001B[39m \u001B[38;5;28mdict\u001B[39m:\n\u001B[1;32m    507\u001B[0m     \u001B[38;5;28;01mif\u001B[39;00m \u001B[38;5;28mself\u001B[39m\u001B[38;5;241m.\u001B[39m_info \u001B[38;5;129;01mis\u001B[39;00m \u001B[38;5;28;01mNone\u001B[39;00m:\n\u001B[0;32m--> 508\u001B[0m         \u001B[38;5;28;43mself\u001B[39;49m\u001B[38;5;241;43m.\u001B[39;49m\u001B[43m_fetch_info\u001B[49m\u001B[43m(\u001B[49m\u001B[38;5;28;43mself\u001B[39;49m\u001B[38;5;241;43m.\u001B[39;49m\u001B[43mproxy\u001B[49m\u001B[43m)\u001B[49m\n\u001B[1;32m    509\u001B[0m         \u001B[38;5;28mself\u001B[39m\u001B[38;5;241m.\u001B[39m_fetch_complementary(\u001B[38;5;28mself\u001B[39m\u001B[38;5;241m.\u001B[39mproxy)\n\u001B[1;32m    511\u001B[0m     \u001B[38;5;28;01mreturn\u001B[39;00m \u001B[38;5;28mself\u001B[39m\u001B[38;5;241m.\u001B[39m_info\n",
      "File \u001B[0;32m~/Documents/AIR-Project/venv/lib/python3.12/site-packages/yfinance/scrapers/quote.py:598\u001B[0m, in \u001B[0;36mQuote._fetch_info\u001B[0;34m(self, proxy)\u001B[0m\n\u001B[1;32m    596\u001B[0m \u001B[38;5;28mself\u001B[39m\u001B[38;5;241m.\u001B[39m_already_fetched \u001B[38;5;241m=\u001B[39m \u001B[38;5;28;01mTrue\u001B[39;00m\n\u001B[1;32m    597\u001B[0m modules \u001B[38;5;241m=\u001B[39m [\u001B[38;5;124m'\u001B[39m\u001B[38;5;124mfinancialData\u001B[39m\u001B[38;5;124m'\u001B[39m, \u001B[38;5;124m'\u001B[39m\u001B[38;5;124mquoteType\u001B[39m\u001B[38;5;124m'\u001B[39m, \u001B[38;5;124m'\u001B[39m\u001B[38;5;124mdefaultKeyStatistics\u001B[39m\u001B[38;5;124m'\u001B[39m, \u001B[38;5;124m'\u001B[39m\u001B[38;5;124massetProfile\u001B[39m\u001B[38;5;124m'\u001B[39m, \u001B[38;5;124m'\u001B[39m\u001B[38;5;124msummaryDetail\u001B[39m\u001B[38;5;124m'\u001B[39m]\n\u001B[0;32m--> 598\u001B[0m result \u001B[38;5;241m=\u001B[39m \u001B[38;5;28;43mself\u001B[39;49m\u001B[38;5;241;43m.\u001B[39;49m\u001B[43m_fetch\u001B[49m\u001B[43m(\u001B[49m\u001B[43mproxy\u001B[49m\u001B[43m,\u001B[49m\u001B[43m \u001B[49m\u001B[43mmodules\u001B[49m\u001B[38;5;241;43m=\u001B[39;49m\u001B[43mmodules\u001B[49m\u001B[43m)\u001B[49m\n\u001B[1;32m    599\u001B[0m \u001B[38;5;28;01mif\u001B[39;00m result \u001B[38;5;129;01mis\u001B[39;00m \u001B[38;5;28;01mNone\u001B[39;00m:\n\u001B[1;32m    600\u001B[0m     \u001B[38;5;28mself\u001B[39m\u001B[38;5;241m.\u001B[39m_info \u001B[38;5;241m=\u001B[39m {}\n",
      "File \u001B[0;32m~/Documents/AIR-Project/venv/lib/python3.12/site-packages/yfinance/scrapers/quote.py:587\u001B[0m, in \u001B[0;36mQuote._fetch\u001B[0;34m(self, proxy, modules)\u001B[0m\n\u001B[1;32m    585\u001B[0m params_dict \u001B[38;5;241m=\u001B[39m {\u001B[38;5;124m\"\u001B[39m\u001B[38;5;124mmodules\u001B[39m\u001B[38;5;124m\"\u001B[39m: modules, \u001B[38;5;124m\"\u001B[39m\u001B[38;5;124mcorsDomain\u001B[39m\u001B[38;5;124m\"\u001B[39m: \u001B[38;5;124m\"\u001B[39m\u001B[38;5;124mfinance.yahoo.com\u001B[39m\u001B[38;5;124m\"\u001B[39m, \u001B[38;5;124m\"\u001B[39m\u001B[38;5;124mformatted\u001B[39m\u001B[38;5;124m\"\u001B[39m: \u001B[38;5;124m\"\u001B[39m\u001B[38;5;124mfalse\u001B[39m\u001B[38;5;124m\"\u001B[39m, \u001B[38;5;124m\"\u001B[39m\u001B[38;5;124msymbol\u001B[39m\u001B[38;5;124m\"\u001B[39m: \u001B[38;5;28mself\u001B[39m\u001B[38;5;241m.\u001B[39m_symbol}\n\u001B[1;32m    586\u001B[0m \u001B[38;5;28;01mtry\u001B[39;00m:\n\u001B[0;32m--> 587\u001B[0m     result \u001B[38;5;241m=\u001B[39m \u001B[38;5;28;43mself\u001B[39;49m\u001B[38;5;241;43m.\u001B[39;49m\u001B[43m_data\u001B[49m\u001B[38;5;241;43m.\u001B[39;49m\u001B[43mget_raw_json\u001B[49m\u001B[43m(\u001B[49m\u001B[43m_QUOTE_SUMMARY_URL_\u001B[49m\u001B[43m \u001B[49m\u001B[38;5;241;43m+\u001B[39;49m\u001B[43m \u001B[49m\u001B[38;5;124;43mf\u001B[39;49m\u001B[38;5;124;43m\"\u001B[39;49m\u001B[38;5;124;43m/\u001B[39;49m\u001B[38;5;132;43;01m{\u001B[39;49;00m\u001B[38;5;28;43mself\u001B[39;49m\u001B[38;5;241;43m.\u001B[39;49m\u001B[43m_symbol\u001B[49m\u001B[38;5;132;43;01m}\u001B[39;49;00m\u001B[38;5;124;43m\"\u001B[39;49m\u001B[43m,\u001B[49m\u001B[43m \u001B[49m\u001B[43muser_agent_headers\u001B[49m\u001B[38;5;241;43m=\u001B[39;49m\u001B[38;5;28;43mself\u001B[39;49m\u001B[38;5;241;43m.\u001B[39;49m\u001B[43m_data\u001B[49m\u001B[38;5;241;43m.\u001B[39;49m\u001B[43muser_agent_headers\u001B[49m\u001B[43m,\u001B[49m\u001B[43m \u001B[49m\u001B[43mparams\u001B[49m\u001B[38;5;241;43m=\u001B[39;49m\u001B[43mparams_dict\u001B[49m\u001B[43m,\u001B[49m\u001B[43m \u001B[49m\u001B[43mproxy\u001B[49m\u001B[38;5;241;43m=\u001B[39;49m\u001B[43mproxy\u001B[49m\u001B[43m)\u001B[49m\n\u001B[1;32m    588\u001B[0m \u001B[38;5;28;01mexcept\u001B[39;00m requests\u001B[38;5;241m.\u001B[39mexceptions\u001B[38;5;241m.\u001B[39mHTTPError \u001B[38;5;28;01mas\u001B[39;00m e:\n\u001B[1;32m    589\u001B[0m     utils\u001B[38;5;241m.\u001B[39mget_yf_logger()\u001B[38;5;241m.\u001B[39merror(\u001B[38;5;28mstr\u001B[39m(e))\n",
      "File \u001B[0;32m~/Documents/AIR-Project/venv/lib/python3.12/site-packages/yfinance/data.py:410\u001B[0m, in \u001B[0;36mYfData.get_raw_json\u001B[0;34m(self, url, user_agent_headers, params, proxy, timeout)\u001B[0m\n\u001B[1;32m    408\u001B[0m \u001B[38;5;28;01mdef\u001B[39;00m \u001B[38;5;21mget_raw_json\u001B[39m(\u001B[38;5;28mself\u001B[39m, url, user_agent_headers\u001B[38;5;241m=\u001B[39m\u001B[38;5;28;01mNone\u001B[39;00m, params\u001B[38;5;241m=\u001B[39m\u001B[38;5;28;01mNone\u001B[39;00m, proxy\u001B[38;5;241m=\u001B[39m\u001B[38;5;28;01mNone\u001B[39;00m, timeout\u001B[38;5;241m=\u001B[39m\u001B[38;5;241m30\u001B[39m):\n\u001B[1;32m    409\u001B[0m     utils\u001B[38;5;241m.\u001B[39mget_yf_logger()\u001B[38;5;241m.\u001B[39mdebug(\u001B[38;5;124mf\u001B[39m\u001B[38;5;124m'\u001B[39m\u001B[38;5;124mget_raw_json(): \u001B[39m\u001B[38;5;132;01m{\u001B[39;00murl\u001B[38;5;132;01m}\u001B[39;00m\u001B[38;5;124m'\u001B[39m)\n\u001B[0;32m--> 410\u001B[0m     response \u001B[38;5;241m=\u001B[39m \u001B[38;5;28;43mself\u001B[39;49m\u001B[38;5;241;43m.\u001B[39;49m\u001B[43mget\u001B[49m\u001B[43m(\u001B[49m\u001B[43murl\u001B[49m\u001B[43m,\u001B[49m\u001B[43m \u001B[49m\u001B[43muser_agent_headers\u001B[49m\u001B[38;5;241;43m=\u001B[39;49m\u001B[43muser_agent_headers\u001B[49m\u001B[43m,\u001B[49m\u001B[43m \u001B[49m\u001B[43mparams\u001B[49m\u001B[38;5;241;43m=\u001B[39;49m\u001B[43mparams\u001B[49m\u001B[43m,\u001B[49m\u001B[43m \u001B[49m\u001B[43mproxy\u001B[49m\u001B[38;5;241;43m=\u001B[39;49m\u001B[43mproxy\u001B[49m\u001B[43m,\u001B[49m\u001B[43m \u001B[49m\u001B[43mtimeout\u001B[49m\u001B[38;5;241;43m=\u001B[39;49m\u001B[43mtimeout\u001B[49m\u001B[43m)\u001B[49m\n\u001B[1;32m    411\u001B[0m     response\u001B[38;5;241m.\u001B[39mraise_for_status()\n\u001B[1;32m    412\u001B[0m     \u001B[38;5;28;01mreturn\u001B[39;00m response\u001B[38;5;241m.\u001B[39mjson()\n",
      "File \u001B[0;32m~/Documents/AIR-Project/venv/lib/python3.12/site-packages/yfinance/utils.py:104\u001B[0m, in \u001B[0;36mlog_indent_decorator.<locals>.wrapper\u001B[0;34m(*args, **kwargs)\u001B[0m\n\u001B[1;32m    101\u001B[0m logger\u001B[38;5;241m.\u001B[39mdebug(\u001B[38;5;124mf\u001B[39m\u001B[38;5;124m'\u001B[39m\u001B[38;5;124mEntering \u001B[39m\u001B[38;5;132;01m{\u001B[39;00mfunc\u001B[38;5;241m.\u001B[39m\u001B[38;5;18m__name__\u001B[39m\u001B[38;5;132;01m}\u001B[39;00m\u001B[38;5;124m()\u001B[39m\u001B[38;5;124m'\u001B[39m)\n\u001B[1;32m    103\u001B[0m \u001B[38;5;28;01mwith\u001B[39;00m IndentationContext():\n\u001B[0;32m--> 104\u001B[0m     result \u001B[38;5;241m=\u001B[39m \u001B[43mfunc\u001B[49m\u001B[43m(\u001B[49m\u001B[38;5;241;43m*\u001B[39;49m\u001B[43margs\u001B[49m\u001B[43m,\u001B[49m\u001B[43m \u001B[49m\u001B[38;5;241;43m*\u001B[39;49m\u001B[38;5;241;43m*\u001B[39;49m\u001B[43mkwargs\u001B[49m\u001B[43m)\u001B[49m\n\u001B[1;32m    106\u001B[0m logger\u001B[38;5;241m.\u001B[39mdebug(\u001B[38;5;124mf\u001B[39m\u001B[38;5;124m'\u001B[39m\u001B[38;5;124mExiting \u001B[39m\u001B[38;5;132;01m{\u001B[39;00mfunc\u001B[38;5;241m.\u001B[39m\u001B[38;5;18m__name__\u001B[39m\u001B[38;5;132;01m}\u001B[39;00m\u001B[38;5;124m()\u001B[39m\u001B[38;5;124m'\u001B[39m)\n\u001B[1;32m    107\u001B[0m \u001B[38;5;28;01mreturn\u001B[39;00m result\n",
      "File \u001B[0;32m~/Documents/AIR-Project/venv/lib/python3.12/site-packages/yfinance/data.py:333\u001B[0m, in \u001B[0;36mYfData.get\u001B[0;34m(self, url, user_agent_headers, params, proxy, timeout)\u001B[0m\n\u001B[1;32m    331\u001B[0m \u001B[38;5;129m@utils\u001B[39m\u001B[38;5;241m.\u001B[39mlog_indent_decorator\n\u001B[1;32m    332\u001B[0m \u001B[38;5;28;01mdef\u001B[39;00m \u001B[38;5;21mget\u001B[39m(\u001B[38;5;28mself\u001B[39m, url, user_agent_headers\u001B[38;5;241m=\u001B[39m\u001B[38;5;28;01mNone\u001B[39;00m, params\u001B[38;5;241m=\u001B[39m\u001B[38;5;28;01mNone\u001B[39;00m, proxy\u001B[38;5;241m=\u001B[39m\u001B[38;5;28;01mNone\u001B[39;00m, timeout\u001B[38;5;241m=\u001B[39m\u001B[38;5;241m30\u001B[39m):\n\u001B[0;32m--> 333\u001B[0m     \u001B[38;5;28;01mreturn\u001B[39;00m \u001B[38;5;28;43mself\u001B[39;49m\u001B[38;5;241;43m.\u001B[39;49m\u001B[43m_make_request\u001B[49m\u001B[43m(\u001B[49m\u001B[43murl\u001B[49m\u001B[43m,\u001B[49m\u001B[43m \u001B[49m\u001B[43mrequest_method\u001B[49m\u001B[43m \u001B[49m\u001B[38;5;241;43m=\u001B[39;49m\u001B[43m \u001B[49m\u001B[38;5;28;43mself\u001B[39;49m\u001B[38;5;241;43m.\u001B[39;49m\u001B[43m_session\u001B[49m\u001B[38;5;241;43m.\u001B[39;49m\u001B[43mget\u001B[49m\u001B[43m,\u001B[49m\u001B[43m \u001B[49m\u001B[43muser_agent_headers\u001B[49m\u001B[38;5;241;43m=\u001B[39;49m\u001B[43muser_agent_headers\u001B[49m\u001B[43m,\u001B[49m\u001B[43m \u001B[49m\u001B[43mparams\u001B[49m\u001B[38;5;241;43m=\u001B[39;49m\u001B[43mparams\u001B[49m\u001B[43m,\u001B[49m\u001B[43m \u001B[49m\u001B[43mproxy\u001B[49m\u001B[38;5;241;43m=\u001B[39;49m\u001B[43mproxy\u001B[49m\u001B[43m,\u001B[49m\u001B[43m \u001B[49m\u001B[43mtimeout\u001B[49m\u001B[38;5;241;43m=\u001B[39;49m\u001B[43mtimeout\u001B[49m\u001B[43m)\u001B[49m\n",
      "File \u001B[0;32m~/Documents/AIR-Project/venv/lib/python3.12/site-packages/yfinance/utils.py:104\u001B[0m, in \u001B[0;36mlog_indent_decorator.<locals>.wrapper\u001B[0;34m(*args, **kwargs)\u001B[0m\n\u001B[1;32m    101\u001B[0m logger\u001B[38;5;241m.\u001B[39mdebug(\u001B[38;5;124mf\u001B[39m\u001B[38;5;124m'\u001B[39m\u001B[38;5;124mEntering \u001B[39m\u001B[38;5;132;01m{\u001B[39;00mfunc\u001B[38;5;241m.\u001B[39m\u001B[38;5;18m__name__\u001B[39m\u001B[38;5;132;01m}\u001B[39;00m\u001B[38;5;124m()\u001B[39m\u001B[38;5;124m'\u001B[39m)\n\u001B[1;32m    103\u001B[0m \u001B[38;5;28;01mwith\u001B[39;00m IndentationContext():\n\u001B[0;32m--> 104\u001B[0m     result \u001B[38;5;241m=\u001B[39m \u001B[43mfunc\u001B[49m\u001B[43m(\u001B[49m\u001B[38;5;241;43m*\u001B[39;49m\u001B[43margs\u001B[49m\u001B[43m,\u001B[49m\u001B[43m \u001B[49m\u001B[38;5;241;43m*\u001B[39;49m\u001B[38;5;241;43m*\u001B[39;49m\u001B[43mkwargs\u001B[49m\u001B[43m)\u001B[49m\n\u001B[1;32m    106\u001B[0m logger\u001B[38;5;241m.\u001B[39mdebug(\u001B[38;5;124mf\u001B[39m\u001B[38;5;124m'\u001B[39m\u001B[38;5;124mExiting \u001B[39m\u001B[38;5;132;01m{\u001B[39;00mfunc\u001B[38;5;241m.\u001B[39m\u001B[38;5;18m__name__\u001B[39m\u001B[38;5;132;01m}\u001B[39;00m\u001B[38;5;124m()\u001B[39m\u001B[38;5;124m'\u001B[39m)\n\u001B[1;32m    107\u001B[0m \u001B[38;5;28;01mreturn\u001B[39;00m result\n",
      "File \u001B[0;32m~/Documents/AIR-Project/venv/lib/python3.12/site-packages/yfinance/data.py:378\u001B[0m, in \u001B[0;36mYfData._make_request\u001B[0;34m(self, url, request_method, user_agent_headers, body, params, proxy, timeout)\u001B[0m\n\u001B[1;32m    375\u001B[0m \u001B[38;5;28;01mif\u001B[39;00m body:\n\u001B[1;32m    376\u001B[0m     request_args[\u001B[38;5;124m'\u001B[39m\u001B[38;5;124mjson\u001B[39m\u001B[38;5;124m'\u001B[39m] \u001B[38;5;241m=\u001B[39m body\n\u001B[0;32m--> 378\u001B[0m response \u001B[38;5;241m=\u001B[39m \u001B[43mrequest_method\u001B[49m\u001B[43m(\u001B[49m\u001B[38;5;241;43m*\u001B[39;49m\u001B[38;5;241;43m*\u001B[39;49m\u001B[43mrequest_args\u001B[49m\u001B[43m)\u001B[49m\n\u001B[1;32m    379\u001B[0m utils\u001B[38;5;241m.\u001B[39mget_yf_logger()\u001B[38;5;241m.\u001B[39mdebug(\u001B[38;5;124mf\u001B[39m\u001B[38;5;124m'\u001B[39m\u001B[38;5;124mresponse code=\u001B[39m\u001B[38;5;132;01m{\u001B[39;00mresponse\u001B[38;5;241m.\u001B[39mstatus_code\u001B[38;5;132;01m}\u001B[39;00m\u001B[38;5;124m'\u001B[39m)\n\u001B[1;32m    380\u001B[0m \u001B[38;5;28;01mif\u001B[39;00m response\u001B[38;5;241m.\u001B[39mstatus_code \u001B[38;5;241m>\u001B[39m\u001B[38;5;241m=\u001B[39m \u001B[38;5;241m400\u001B[39m:\n\u001B[1;32m    381\u001B[0m     \u001B[38;5;66;03m# Retry with other cookie strategy\u001B[39;00m\n",
      "File \u001B[0;32m~/Documents/AIR-Project/venv/lib/python3.12/site-packages/requests/sessions.py:602\u001B[0m, in \u001B[0;36mSession.get\u001B[0;34m(self, url, **kwargs)\u001B[0m\n\u001B[1;32m    594\u001B[0m \u001B[38;5;250m\u001B[39m\u001B[38;5;124mr\u001B[39m\u001B[38;5;124;03m\"\"\"Sends a GET request. Returns :class:`Response` object.\u001B[39;00m\n\u001B[1;32m    595\u001B[0m \n\u001B[1;32m    596\u001B[0m \u001B[38;5;124;03m:param url: URL for the new :class:`Request` object.\u001B[39;00m\n\u001B[1;32m    597\u001B[0m \u001B[38;5;124;03m:param \\*\\*kwargs: Optional arguments that ``request`` takes.\u001B[39;00m\n\u001B[1;32m    598\u001B[0m \u001B[38;5;124;03m:rtype: requests.Response\u001B[39;00m\n\u001B[1;32m    599\u001B[0m \u001B[38;5;124;03m\"\"\"\u001B[39;00m\n\u001B[1;32m    601\u001B[0m kwargs\u001B[38;5;241m.\u001B[39msetdefault(\u001B[38;5;124m\"\u001B[39m\u001B[38;5;124mallow_redirects\u001B[39m\u001B[38;5;124m\"\u001B[39m, \u001B[38;5;28;01mTrue\u001B[39;00m)\n\u001B[0;32m--> 602\u001B[0m \u001B[38;5;28;01mreturn\u001B[39;00m \u001B[38;5;28;43mself\u001B[39;49m\u001B[38;5;241;43m.\u001B[39;49m\u001B[43mrequest\u001B[49m\u001B[43m(\u001B[49m\u001B[38;5;124;43m\"\u001B[39;49m\u001B[38;5;124;43mGET\u001B[39;49m\u001B[38;5;124;43m\"\u001B[39;49m\u001B[43m,\u001B[49m\u001B[43m \u001B[49m\u001B[43murl\u001B[49m\u001B[43m,\u001B[49m\u001B[43m \u001B[49m\u001B[38;5;241;43m*\u001B[39;49m\u001B[38;5;241;43m*\u001B[39;49m\u001B[43mkwargs\u001B[49m\u001B[43m)\u001B[49m\n",
      "File \u001B[0;32m~/Documents/AIR-Project/venv/lib/python3.12/site-packages/requests/sessions.py:589\u001B[0m, in \u001B[0;36mSession.request\u001B[0;34m(self, method, url, params, data, headers, cookies, files, auth, timeout, allow_redirects, proxies, hooks, stream, verify, cert, json)\u001B[0m\n\u001B[1;32m    584\u001B[0m send_kwargs \u001B[38;5;241m=\u001B[39m {\n\u001B[1;32m    585\u001B[0m     \u001B[38;5;124m\"\u001B[39m\u001B[38;5;124mtimeout\u001B[39m\u001B[38;5;124m\"\u001B[39m: timeout,\n\u001B[1;32m    586\u001B[0m     \u001B[38;5;124m\"\u001B[39m\u001B[38;5;124mallow_redirects\u001B[39m\u001B[38;5;124m\"\u001B[39m: allow_redirects,\n\u001B[1;32m    587\u001B[0m }\n\u001B[1;32m    588\u001B[0m send_kwargs\u001B[38;5;241m.\u001B[39mupdate(settings)\n\u001B[0;32m--> 589\u001B[0m resp \u001B[38;5;241m=\u001B[39m \u001B[38;5;28;43mself\u001B[39;49m\u001B[38;5;241;43m.\u001B[39;49m\u001B[43msend\u001B[49m\u001B[43m(\u001B[49m\u001B[43mprep\u001B[49m\u001B[43m,\u001B[49m\u001B[43m \u001B[49m\u001B[38;5;241;43m*\u001B[39;49m\u001B[38;5;241;43m*\u001B[39;49m\u001B[43msend_kwargs\u001B[49m\u001B[43m)\u001B[49m\n\u001B[1;32m    591\u001B[0m \u001B[38;5;28;01mreturn\u001B[39;00m resp\n",
      "File \u001B[0;32m~/Documents/AIR-Project/venv/lib/python3.12/site-packages/requests/sessions.py:703\u001B[0m, in \u001B[0;36mSession.send\u001B[0;34m(self, request, **kwargs)\u001B[0m\n\u001B[1;32m    700\u001B[0m start \u001B[38;5;241m=\u001B[39m preferred_clock()\n\u001B[1;32m    702\u001B[0m \u001B[38;5;66;03m# Send the request\u001B[39;00m\n\u001B[0;32m--> 703\u001B[0m r \u001B[38;5;241m=\u001B[39m \u001B[43madapter\u001B[49m\u001B[38;5;241;43m.\u001B[39;49m\u001B[43msend\u001B[49m\u001B[43m(\u001B[49m\u001B[43mrequest\u001B[49m\u001B[43m,\u001B[49m\u001B[43m \u001B[49m\u001B[38;5;241;43m*\u001B[39;49m\u001B[38;5;241;43m*\u001B[39;49m\u001B[43mkwargs\u001B[49m\u001B[43m)\u001B[49m\n\u001B[1;32m    705\u001B[0m \u001B[38;5;66;03m# Total elapsed time of the request (approximately)\u001B[39;00m\n\u001B[1;32m    706\u001B[0m elapsed \u001B[38;5;241m=\u001B[39m preferred_clock() \u001B[38;5;241m-\u001B[39m start\n",
      "File \u001B[0;32m~/Documents/AIR-Project/venv/lib/python3.12/site-packages/requests/adapters.py:667\u001B[0m, in \u001B[0;36mHTTPAdapter.send\u001B[0;34m(self, request, stream, timeout, verify, cert, proxies)\u001B[0m\n\u001B[1;32m    664\u001B[0m     timeout \u001B[38;5;241m=\u001B[39m TimeoutSauce(connect\u001B[38;5;241m=\u001B[39mtimeout, read\u001B[38;5;241m=\u001B[39mtimeout)\n\u001B[1;32m    666\u001B[0m \u001B[38;5;28;01mtry\u001B[39;00m:\n\u001B[0;32m--> 667\u001B[0m     resp \u001B[38;5;241m=\u001B[39m \u001B[43mconn\u001B[49m\u001B[38;5;241;43m.\u001B[39;49m\u001B[43murlopen\u001B[49m\u001B[43m(\u001B[49m\n\u001B[1;32m    668\u001B[0m \u001B[43m        \u001B[49m\u001B[43mmethod\u001B[49m\u001B[38;5;241;43m=\u001B[39;49m\u001B[43mrequest\u001B[49m\u001B[38;5;241;43m.\u001B[39;49m\u001B[43mmethod\u001B[49m\u001B[43m,\u001B[49m\n\u001B[1;32m    669\u001B[0m \u001B[43m        \u001B[49m\u001B[43murl\u001B[49m\u001B[38;5;241;43m=\u001B[39;49m\u001B[43murl\u001B[49m\u001B[43m,\u001B[49m\n\u001B[1;32m    670\u001B[0m \u001B[43m        \u001B[49m\u001B[43mbody\u001B[49m\u001B[38;5;241;43m=\u001B[39;49m\u001B[43mrequest\u001B[49m\u001B[38;5;241;43m.\u001B[39;49m\u001B[43mbody\u001B[49m\u001B[43m,\u001B[49m\n\u001B[1;32m    671\u001B[0m \u001B[43m        \u001B[49m\u001B[43mheaders\u001B[49m\u001B[38;5;241;43m=\u001B[39;49m\u001B[43mrequest\u001B[49m\u001B[38;5;241;43m.\u001B[39;49m\u001B[43mheaders\u001B[49m\u001B[43m,\u001B[49m\n\u001B[1;32m    672\u001B[0m \u001B[43m        \u001B[49m\u001B[43mredirect\u001B[49m\u001B[38;5;241;43m=\u001B[39;49m\u001B[38;5;28;43;01mFalse\u001B[39;49;00m\u001B[43m,\u001B[49m\n\u001B[1;32m    673\u001B[0m \u001B[43m        \u001B[49m\u001B[43massert_same_host\u001B[49m\u001B[38;5;241;43m=\u001B[39;49m\u001B[38;5;28;43;01mFalse\u001B[39;49;00m\u001B[43m,\u001B[49m\n\u001B[1;32m    674\u001B[0m \u001B[43m        \u001B[49m\u001B[43mpreload_content\u001B[49m\u001B[38;5;241;43m=\u001B[39;49m\u001B[38;5;28;43;01mFalse\u001B[39;49;00m\u001B[43m,\u001B[49m\n\u001B[1;32m    675\u001B[0m \u001B[43m        \u001B[49m\u001B[43mdecode_content\u001B[49m\u001B[38;5;241;43m=\u001B[39;49m\u001B[38;5;28;43;01mFalse\u001B[39;49;00m\u001B[43m,\u001B[49m\n\u001B[1;32m    676\u001B[0m \u001B[43m        \u001B[49m\u001B[43mretries\u001B[49m\u001B[38;5;241;43m=\u001B[39;49m\u001B[38;5;28;43mself\u001B[39;49m\u001B[38;5;241;43m.\u001B[39;49m\u001B[43mmax_retries\u001B[49m\u001B[43m,\u001B[49m\n\u001B[1;32m    677\u001B[0m \u001B[43m        \u001B[49m\u001B[43mtimeout\u001B[49m\u001B[38;5;241;43m=\u001B[39;49m\u001B[43mtimeout\u001B[49m\u001B[43m,\u001B[49m\n\u001B[1;32m    678\u001B[0m \u001B[43m        \u001B[49m\u001B[43mchunked\u001B[49m\u001B[38;5;241;43m=\u001B[39;49m\u001B[43mchunked\u001B[49m\u001B[43m,\u001B[49m\n\u001B[1;32m    679\u001B[0m \u001B[43m    \u001B[49m\u001B[43m)\u001B[49m\n\u001B[1;32m    681\u001B[0m \u001B[38;5;28;01mexcept\u001B[39;00m (ProtocolError, \u001B[38;5;167;01mOSError\u001B[39;00m) \u001B[38;5;28;01mas\u001B[39;00m err:\n\u001B[1;32m    682\u001B[0m     \u001B[38;5;28;01mraise\u001B[39;00m \u001B[38;5;167;01mConnectionError\u001B[39;00m(err, request\u001B[38;5;241m=\u001B[39mrequest)\n",
      "File \u001B[0;32m~/Documents/AIR-Project/venv/lib/python3.12/site-packages/urllib3/connectionpool.py:789\u001B[0m, in \u001B[0;36mHTTPConnectionPool.urlopen\u001B[0;34m(self, method, url, body, headers, retries, redirect, assert_same_host, timeout, pool_timeout, release_conn, chunked, body_pos, preload_content, decode_content, **response_kw)\u001B[0m\n\u001B[1;32m    786\u001B[0m response_conn \u001B[38;5;241m=\u001B[39m conn \u001B[38;5;28;01mif\u001B[39;00m \u001B[38;5;129;01mnot\u001B[39;00m release_conn \u001B[38;5;28;01melse\u001B[39;00m \u001B[38;5;28;01mNone\u001B[39;00m\n\u001B[1;32m    788\u001B[0m \u001B[38;5;66;03m# Make the request on the HTTPConnection object\u001B[39;00m\n\u001B[0;32m--> 789\u001B[0m response \u001B[38;5;241m=\u001B[39m \u001B[38;5;28;43mself\u001B[39;49m\u001B[38;5;241;43m.\u001B[39;49m\u001B[43m_make_request\u001B[49m\u001B[43m(\u001B[49m\n\u001B[1;32m    790\u001B[0m \u001B[43m    \u001B[49m\u001B[43mconn\u001B[49m\u001B[43m,\u001B[49m\n\u001B[1;32m    791\u001B[0m \u001B[43m    \u001B[49m\u001B[43mmethod\u001B[49m\u001B[43m,\u001B[49m\n\u001B[1;32m    792\u001B[0m \u001B[43m    \u001B[49m\u001B[43murl\u001B[49m\u001B[43m,\u001B[49m\n\u001B[1;32m    793\u001B[0m \u001B[43m    \u001B[49m\u001B[43mtimeout\u001B[49m\u001B[38;5;241;43m=\u001B[39;49m\u001B[43mtimeout_obj\u001B[49m\u001B[43m,\u001B[49m\n\u001B[1;32m    794\u001B[0m \u001B[43m    \u001B[49m\u001B[43mbody\u001B[49m\u001B[38;5;241;43m=\u001B[39;49m\u001B[43mbody\u001B[49m\u001B[43m,\u001B[49m\n\u001B[1;32m    795\u001B[0m \u001B[43m    \u001B[49m\u001B[43mheaders\u001B[49m\u001B[38;5;241;43m=\u001B[39;49m\u001B[43mheaders\u001B[49m\u001B[43m,\u001B[49m\n\u001B[1;32m    796\u001B[0m \u001B[43m    \u001B[49m\u001B[43mchunked\u001B[49m\u001B[38;5;241;43m=\u001B[39;49m\u001B[43mchunked\u001B[49m\u001B[43m,\u001B[49m\n\u001B[1;32m    797\u001B[0m \u001B[43m    \u001B[49m\u001B[43mretries\u001B[49m\u001B[38;5;241;43m=\u001B[39;49m\u001B[43mretries\u001B[49m\u001B[43m,\u001B[49m\n\u001B[1;32m    798\u001B[0m \u001B[43m    \u001B[49m\u001B[43mresponse_conn\u001B[49m\u001B[38;5;241;43m=\u001B[39;49m\u001B[43mresponse_conn\u001B[49m\u001B[43m,\u001B[49m\n\u001B[1;32m    799\u001B[0m \u001B[43m    \u001B[49m\u001B[43mpreload_content\u001B[49m\u001B[38;5;241;43m=\u001B[39;49m\u001B[43mpreload_content\u001B[49m\u001B[43m,\u001B[49m\n\u001B[1;32m    800\u001B[0m \u001B[43m    \u001B[49m\u001B[43mdecode_content\u001B[49m\u001B[38;5;241;43m=\u001B[39;49m\u001B[43mdecode_content\u001B[49m\u001B[43m,\u001B[49m\n\u001B[1;32m    801\u001B[0m \u001B[43m    \u001B[49m\u001B[38;5;241;43m*\u001B[39;49m\u001B[38;5;241;43m*\u001B[39;49m\u001B[43mresponse_kw\u001B[49m\u001B[43m,\u001B[49m\n\u001B[1;32m    802\u001B[0m \u001B[43m\u001B[49m\u001B[43m)\u001B[49m\n\u001B[1;32m    804\u001B[0m \u001B[38;5;66;03m# Everything went great!\u001B[39;00m\n\u001B[1;32m    805\u001B[0m clean_exit \u001B[38;5;241m=\u001B[39m \u001B[38;5;28;01mTrue\u001B[39;00m\n",
      "File \u001B[0;32m~/Documents/AIR-Project/venv/lib/python3.12/site-packages/urllib3/connectionpool.py:536\u001B[0m, in \u001B[0;36mHTTPConnectionPool._make_request\u001B[0;34m(self, conn, method, url, body, headers, retries, timeout, chunked, response_conn, preload_content, decode_content, enforce_content_length)\u001B[0m\n\u001B[1;32m    534\u001B[0m \u001B[38;5;66;03m# Receive the response from the server\u001B[39;00m\n\u001B[1;32m    535\u001B[0m \u001B[38;5;28;01mtry\u001B[39;00m:\n\u001B[0;32m--> 536\u001B[0m     response \u001B[38;5;241m=\u001B[39m \u001B[43mconn\u001B[49m\u001B[38;5;241;43m.\u001B[39;49m\u001B[43mgetresponse\u001B[49m\u001B[43m(\u001B[49m\u001B[43m)\u001B[49m\n\u001B[1;32m    537\u001B[0m \u001B[38;5;28;01mexcept\u001B[39;00m (BaseSSLError, \u001B[38;5;167;01mOSError\u001B[39;00m) \u001B[38;5;28;01mas\u001B[39;00m e:\n\u001B[1;32m    538\u001B[0m     \u001B[38;5;28mself\u001B[39m\u001B[38;5;241m.\u001B[39m_raise_timeout(err\u001B[38;5;241m=\u001B[39me, url\u001B[38;5;241m=\u001B[39murl, timeout_value\u001B[38;5;241m=\u001B[39mread_timeout)\n",
      "File \u001B[0;32m~/Documents/AIR-Project/venv/lib/python3.12/site-packages/urllib3/connection.py:507\u001B[0m, in \u001B[0;36mHTTPConnection.getresponse\u001B[0;34m(self)\u001B[0m\n\u001B[1;32m    504\u001B[0m \u001B[38;5;28;01mfrom\u001B[39;00m \u001B[38;5;21;01m.\u001B[39;00m\u001B[38;5;21;01mresponse\u001B[39;00m \u001B[38;5;28;01mimport\u001B[39;00m HTTPResponse\n\u001B[1;32m    506\u001B[0m \u001B[38;5;66;03m# Get the response from http.client.HTTPConnection\u001B[39;00m\n\u001B[0;32m--> 507\u001B[0m httplib_response \u001B[38;5;241m=\u001B[39m \u001B[38;5;28;43msuper\u001B[39;49m\u001B[43m(\u001B[49m\u001B[43m)\u001B[49m\u001B[38;5;241;43m.\u001B[39;49m\u001B[43mgetresponse\u001B[49m\u001B[43m(\u001B[49m\u001B[43m)\u001B[49m\n\u001B[1;32m    509\u001B[0m \u001B[38;5;28;01mtry\u001B[39;00m:\n\u001B[1;32m    510\u001B[0m     assert_header_parsing(httplib_response\u001B[38;5;241m.\u001B[39mmsg)\n",
      "File \u001B[0;32m/usr/lib/python3.12/http/client.py:1428\u001B[0m, in \u001B[0;36mHTTPConnection.getresponse\u001B[0;34m(self)\u001B[0m\n\u001B[1;32m   1426\u001B[0m \u001B[38;5;28;01mtry\u001B[39;00m:\n\u001B[1;32m   1427\u001B[0m     \u001B[38;5;28;01mtry\u001B[39;00m:\n\u001B[0;32m-> 1428\u001B[0m         \u001B[43mresponse\u001B[49m\u001B[38;5;241;43m.\u001B[39;49m\u001B[43mbegin\u001B[49m\u001B[43m(\u001B[49m\u001B[43m)\u001B[49m\n\u001B[1;32m   1429\u001B[0m     \u001B[38;5;28;01mexcept\u001B[39;00m \u001B[38;5;167;01mConnectionError\u001B[39;00m:\n\u001B[1;32m   1430\u001B[0m         \u001B[38;5;28mself\u001B[39m\u001B[38;5;241m.\u001B[39mclose()\n",
      "File \u001B[0;32m/usr/lib/python3.12/http/client.py:331\u001B[0m, in \u001B[0;36mHTTPResponse.begin\u001B[0;34m(self)\u001B[0m\n\u001B[1;32m    329\u001B[0m \u001B[38;5;66;03m# read until we get a non-100 response\u001B[39;00m\n\u001B[1;32m    330\u001B[0m \u001B[38;5;28;01mwhile\u001B[39;00m \u001B[38;5;28;01mTrue\u001B[39;00m:\n\u001B[0;32m--> 331\u001B[0m     version, status, reason \u001B[38;5;241m=\u001B[39m \u001B[38;5;28;43mself\u001B[39;49m\u001B[38;5;241;43m.\u001B[39;49m\u001B[43m_read_status\u001B[49m\u001B[43m(\u001B[49m\u001B[43m)\u001B[49m\n\u001B[1;32m    332\u001B[0m     \u001B[38;5;28;01mif\u001B[39;00m status \u001B[38;5;241m!=\u001B[39m CONTINUE:\n\u001B[1;32m    333\u001B[0m         \u001B[38;5;28;01mbreak\u001B[39;00m\n",
      "File \u001B[0;32m/usr/lib/python3.12/http/client.py:292\u001B[0m, in \u001B[0;36mHTTPResponse._read_status\u001B[0;34m(self)\u001B[0m\n\u001B[1;32m    291\u001B[0m \u001B[38;5;28;01mdef\u001B[39;00m \u001B[38;5;21m_read_status\u001B[39m(\u001B[38;5;28mself\u001B[39m):\n\u001B[0;32m--> 292\u001B[0m     line \u001B[38;5;241m=\u001B[39m \u001B[38;5;28mstr\u001B[39m(\u001B[38;5;28;43mself\u001B[39;49m\u001B[38;5;241;43m.\u001B[39;49m\u001B[43mfp\u001B[49m\u001B[38;5;241;43m.\u001B[39;49m\u001B[43mreadline\u001B[49m\u001B[43m(\u001B[49m\u001B[43m_MAXLINE\u001B[49m\u001B[43m \u001B[49m\u001B[38;5;241;43m+\u001B[39;49m\u001B[43m \u001B[49m\u001B[38;5;241;43m1\u001B[39;49m\u001B[43m)\u001B[49m, \u001B[38;5;124m\"\u001B[39m\u001B[38;5;124miso-8859-1\u001B[39m\u001B[38;5;124m\"\u001B[39m)\n\u001B[1;32m    293\u001B[0m     \u001B[38;5;28;01mif\u001B[39;00m \u001B[38;5;28mlen\u001B[39m(line) \u001B[38;5;241m>\u001B[39m _MAXLINE:\n\u001B[1;32m    294\u001B[0m         \u001B[38;5;28;01mraise\u001B[39;00m LineTooLong(\u001B[38;5;124m\"\u001B[39m\u001B[38;5;124mstatus line\u001B[39m\u001B[38;5;124m\"\u001B[39m)\n",
      "File \u001B[0;32m/usr/lib/python3.12/socket.py:707\u001B[0m, in \u001B[0;36mSocketIO.readinto\u001B[0;34m(self, b)\u001B[0m\n\u001B[1;32m    705\u001B[0m \u001B[38;5;28;01mwhile\u001B[39;00m \u001B[38;5;28;01mTrue\u001B[39;00m:\n\u001B[1;32m    706\u001B[0m     \u001B[38;5;28;01mtry\u001B[39;00m:\n\u001B[0;32m--> 707\u001B[0m         \u001B[38;5;28;01mreturn\u001B[39;00m \u001B[38;5;28;43mself\u001B[39;49m\u001B[38;5;241;43m.\u001B[39;49m\u001B[43m_sock\u001B[49m\u001B[38;5;241;43m.\u001B[39;49m\u001B[43mrecv_into\u001B[49m\u001B[43m(\u001B[49m\u001B[43mb\u001B[49m\u001B[43m)\u001B[49m\n\u001B[1;32m    708\u001B[0m     \u001B[38;5;28;01mexcept\u001B[39;00m timeout:\n\u001B[1;32m    709\u001B[0m         \u001B[38;5;28mself\u001B[39m\u001B[38;5;241m.\u001B[39m_timeout_occurred \u001B[38;5;241m=\u001B[39m \u001B[38;5;28;01mTrue\u001B[39;00m\n",
      "File \u001B[0;32m/usr/lib/python3.12/ssl.py:1252\u001B[0m, in \u001B[0;36mSSLSocket.recv_into\u001B[0;34m(self, buffer, nbytes, flags)\u001B[0m\n\u001B[1;32m   1248\u001B[0m     \u001B[38;5;28;01mif\u001B[39;00m flags \u001B[38;5;241m!=\u001B[39m \u001B[38;5;241m0\u001B[39m:\n\u001B[1;32m   1249\u001B[0m         \u001B[38;5;28;01mraise\u001B[39;00m \u001B[38;5;167;01mValueError\u001B[39;00m(\n\u001B[1;32m   1250\u001B[0m           \u001B[38;5;124m\"\u001B[39m\u001B[38;5;124mnon-zero flags not allowed in calls to recv_into() on \u001B[39m\u001B[38;5;132;01m%s\u001B[39;00m\u001B[38;5;124m\"\u001B[39m \u001B[38;5;241m%\u001B[39m\n\u001B[1;32m   1251\u001B[0m           \u001B[38;5;28mself\u001B[39m\u001B[38;5;241m.\u001B[39m\u001B[38;5;18m__class__\u001B[39m)\n\u001B[0;32m-> 1252\u001B[0m     \u001B[38;5;28;01mreturn\u001B[39;00m \u001B[38;5;28;43mself\u001B[39;49m\u001B[38;5;241;43m.\u001B[39;49m\u001B[43mread\u001B[49m\u001B[43m(\u001B[49m\u001B[43mnbytes\u001B[49m\u001B[43m,\u001B[49m\u001B[43m \u001B[49m\u001B[43mbuffer\u001B[49m\u001B[43m)\u001B[49m\n\u001B[1;32m   1253\u001B[0m \u001B[38;5;28;01melse\u001B[39;00m:\n\u001B[1;32m   1254\u001B[0m     \u001B[38;5;28;01mreturn\u001B[39;00m \u001B[38;5;28msuper\u001B[39m()\u001B[38;5;241m.\u001B[39mrecv_into(buffer, nbytes, flags)\n",
      "File \u001B[0;32m/usr/lib/python3.12/ssl.py:1104\u001B[0m, in \u001B[0;36mSSLSocket.read\u001B[0;34m(self, len, buffer)\u001B[0m\n\u001B[1;32m   1102\u001B[0m \u001B[38;5;28;01mtry\u001B[39;00m:\n\u001B[1;32m   1103\u001B[0m     \u001B[38;5;28;01mif\u001B[39;00m buffer \u001B[38;5;129;01mis\u001B[39;00m \u001B[38;5;129;01mnot\u001B[39;00m \u001B[38;5;28;01mNone\u001B[39;00m:\n\u001B[0;32m-> 1104\u001B[0m         \u001B[38;5;28;01mreturn\u001B[39;00m \u001B[38;5;28;43mself\u001B[39;49m\u001B[38;5;241;43m.\u001B[39;49m\u001B[43m_sslobj\u001B[49m\u001B[38;5;241;43m.\u001B[39;49m\u001B[43mread\u001B[49m\u001B[43m(\u001B[49m\u001B[38;5;28;43mlen\u001B[39;49m\u001B[43m,\u001B[49m\u001B[43m \u001B[49m\u001B[43mbuffer\u001B[49m\u001B[43m)\u001B[49m\n\u001B[1;32m   1105\u001B[0m     \u001B[38;5;28;01melse\u001B[39;00m:\n\u001B[1;32m   1106\u001B[0m         \u001B[38;5;28;01mreturn\u001B[39;00m \u001B[38;5;28mself\u001B[39m\u001B[38;5;241m.\u001B[39m_sslobj\u001B[38;5;241m.\u001B[39mread(\u001B[38;5;28mlen\u001B[39m)\n",
      "\u001B[0;31mKeyboardInterrupt\u001B[0m: "
     ]
    }
   ],
   "execution_count": 2
  }
 ],
 "metadata": {
  "kernelspec": {
   "display_name": "Python 3",
   "language": "python",
   "name": "python3"
  },
  "language_info": {
   "codemirror_mode": {
    "name": "ipython",
    "version": 2
   },
   "file_extension": ".py",
   "mimetype": "text/x-python",
   "name": "python",
   "nbconvert_exporter": "python",
   "pygments_lexer": "ipython2",
   "version": "2.7.6"
  }
 },
 "nbformat": 4,
 "nbformat_minor": 5
}
