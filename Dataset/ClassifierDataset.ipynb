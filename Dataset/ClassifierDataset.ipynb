{
 "cells": [
  {
   "metadata": {},
   "cell_type": "markdown",
   "source": [
    "# Dataset\n",
    "We will create our own dataset here that we can then use to train our fine tuned model.\n",
    "\n",
    "1. Import the base dataset from HuggingFace."
   ],
   "id": "cb33cf8731211318"
  },
  {
   "cell_type": "code",
   "id": "initial_id",
   "metadata": {
    "collapsed": true,
    "ExecuteTime": {
     "end_time": "2024-11-21T19:19:19.273706Z",
     "start_time": "2024-11-21T19:19:15.936893Z"
    }
   },
   "source": [
    "from datasets import load_dataset\n",
    "\n",
    "# Load the dataset\n",
    "dataset = load_dataset(\"shortbread/tickers\", split=\"train\")\n",
    "\n",
    "# Select only the required columns and rename 'long_business_summary' to 'idea'\n",
    "dataset = dataset.remove_columns([col for col in dataset.column_names if col not in ['symbol', 'name', 'close', 'volume', 'market_cap', 'long_business_summary']])\n",
    "dataset = dataset.rename_column(\"long_business_summary\", \"idea\")\n",
    "\n",
    "# Display a few rows of the filtered and renamed dataset\n",
    "print(dataset)\n"
   ],
   "outputs": [
    {
     "name": "stdout",
     "output_type": "stream",
     "text": [
      "Dataset({\n",
      "    features: ['symbol', 'name', 'close', 'volume', 'market_cap', 'idea'],\n",
      "    num_rows: 7314\n",
      "})\n"
     ]
    }
   ],
   "execution_count": 3
  },
  {
   "metadata": {
    "ExecuteTime": {
     "end_time": "2024-11-21T19:21:14.112693Z",
     "start_time": "2024-11-21T19:19:19.358839Z"
    }
   },
   "cell_type": "code",
   "source": [
    "import pandas as pd\n",
    "from pandas import DataFrame\n",
    "import yfinance as yf\n",
    "import time\n",
    "import os\n",
    "\n",
    "# Ensure the \"Data\" folder exists\n",
    "os.makedirs(\"Data\", exist_ok=True)\n",
    "\n",
    "df = dataset.to_pandas()\n",
    "\n",
    "# Parameters for date range and batch size\n",
    "start_date = \"2020-01-01\"\n",
    "end_date = \"2023-01-01\"\n",
    "batch_size = 50  # Adjust batch size based on rate limits\n",
    "\n",
    "# Limit dataset for testing\n",
    "df = df[-100:]\n",
    "\n",
    "# Initialize an empty list to store all data in the desired format\n",
    "all_data = DataFrame(columns=['Ticker', 'Idea', 'StockPrice', 'StockPriceDevelopment',\n",
    "                              'MarketCap', 'Volume'])\n",
    "\n",
    "# Fetch data in batches\n",
    "index = 0\n",
    "for i in range(0, len(df), batch_size):\n",
    "    batch = df.iloc[i:i + batch_size]\n",
    "    intermediate_index = 0\n",
    "    for _, row in batch.iterrows():\n",
    "        index = i * batch_size + intermediate_index\n",
    "        intermediate_index += 1\n",
    "        \n",
    "        symbol = row['symbol']  # Access the ticker symbol\n",
    "\n",
    "        try:\n",
    "\n",
    "            if any(value == 'nan' for value in [row['idea'], row['close'], row['market_cap'], row['volume']]):\n",
    "                print(f\"Skipping {symbol} due to NaN values.\")\n",
    "                continue\n",
    "                \n",
    "            # Fetch historical stock data for the ticker\n",
    "            stock_data = yf.download(symbol, start=start_date, end=end_date, interval=\"1d\")\n",
    "\n",
    "            # Skip tickers with no data\n",
    "            if stock_data.empty:\n",
    "                print(f\"No data found for {symbol}. Skipping.\")\n",
    "                continue\n",
    "\n",
    "            stock_price_development = ((stock_data['Close'].iloc[-1].item() - stock_data['Close'].iloc[0].item()) / stock_data['Close'].iloc[0].item()) * 100\n",
    "        \n",
    "        # Calculate stock price development as the percentage change over time\n",
    "            entry = [\n",
    "                row['symbol'], # Ticker\n",
    "                row['idea'],\n",
    "                stock_data['Close'].iloc[-1].item() if stock_data['Close'] is not None else row['close'],\n",
    "                stock_price_development,\n",
    "                row['market_cap'],\n",
    "                row['volume'],\n",
    "            ]\n",
    "\n",
    "            if any(pd.isna(value) for value in entry):\n",
    "                print(f\"Skipping {symbol} due to NaN values.\")\n",
    "                continue\n",
    "            \n",
    "            # Append this company's enriched data to all_data list\n",
    "            # pd.concat([DataFrame([entry], columns = all_data.columns), all_data], ignore_index=True)\n",
    "            all_data.loc[index] = entry\n",
    "\n",
    "            # Delay to avoid hitting rate limits\n",
    "            time.sleep(0.5)\n",
    "\n",
    "        except Exception as e:\n",
    "            print(f\"Failed to fetch data for {symbol}: {e}\")\n",
    "\n",
    "    # Delay between batches to avoid rate limiting\n",
    "    time.sleep(2)\n",
    "\n",
    "all_data.to_csv('Data/company_stock_prices.csv', index=False)\n",
    "\n",
    "print(\"Data collection complete. Final CSV file saved in 'Data/company_stock_prices.csv'\")\n"
   ],
   "id": "167db4d8dd7117",
   "outputs": [
    {
     "name": "stderr",
     "output_type": "stream",
     "text": [
      "[*********************100%***********************]  1 of 1 completed\n",
      "[*********************100%***********************]  1 of 1 completed\n",
      "[*********************100%***********************]  1 of 1 completed\n",
      "[*********************100%***********************]  1 of 1 completed\n",
      "[*********************100%***********************]  1 of 1 completed\n",
      "[*********************100%***********************]  1 of 1 completed\n",
      "[*********************100%***********************]  1 of 1 completed\n",
      "[*********************100%***********************]  1 of 1 completed\n",
      "[*********************100%***********************]  1 of 1 completed\n",
      "[*********************100%***********************]  1 of 1 completed\n",
      "[*********************100%***********************]  1 of 1 completed\n",
      "[*********************100%***********************]  1 of 1 completed\n",
      "[*********************100%***********************]  1 of 1 completed\n",
      "[*********************100%***********************]  1 of 1 completed\n",
      "[*********************100%***********************]  1 of 1 completed\n",
      "[*********************100%***********************]  1 of 1 completed\n",
      "[*********************100%***********************]  1 of 1 completed\n",
      "[*********************100%***********************]  1 of 1 completed\n",
      "[*********************100%***********************]  1 of 1 completed\n",
      "[*********************100%***********************]  1 of 1 completed\n",
      "[*********************100%***********************]  1 of 1 completed\n",
      "[*********************100%***********************]  1 of 1 completed\n",
      "[*********************100%***********************]  1 of 1 completed\n",
      "[*********************100%***********************]  1 of 1 completed\n",
      "[*********************100%***********************]  1 of 1 completed\n",
      "[*********************100%***********************]  1 of 1 completed\n",
      "[*********************100%***********************]  1 of 1 completed\n"
     ]
    },
    {
     "name": "stdout",
     "output_type": "stream",
     "text": [
      "Skipping YELP due to NaN values.\n"
     ]
    },
    {
     "name": "stderr",
     "output_type": "stream",
     "text": [
      "[*********************100%***********************]  1 of 1 completed\n",
      "[*********************100%***********************]  1 of 1 completed\n",
      "[*********************100%***********************]  1 of 1 completed\n",
      "\n",
      "1 Failed download:\n",
      "['YGF']: YFTzMissingError('$%ticker%: possibly delisted; no timezone found')\n",
      "[*********************100%***********************]  1 of 1 completed\n"
     ]
    },
    {
     "name": "stdout",
     "output_type": "stream",
     "text": [
      "No data found for YGF. Skipping.\n"
     ]
    },
    {
     "name": "stderr",
     "output_type": "stream",
     "text": [
      "[*********************100%***********************]  1 of 1 completed\n",
      "[*********************100%***********************]  1 of 1 completed\n",
      "[*********************100%***********************]  1 of 1 completed\n",
      "[*********************100%***********************]  1 of 1 completed\n",
      "[*********************100%***********************]  1 of 1 completed\n",
      "[*********************100%***********************]  1 of 1 completed\n",
      "[*********************100%***********************]  1 of 1 completed\n"
     ]
    },
    {
     "name": "stdout",
     "output_type": "stream",
     "text": [
      "Skipping YORW due to NaN values.\n"
     ]
    },
    {
     "name": "stderr",
     "output_type": "stream",
     "text": [
      "[*********************100%***********************]  1 of 1 completed\n",
      "[*********************100%***********************]  1 of 1 completed\n",
      "[*********************100%***********************]  1 of 1 completed\n",
      "[*********************100%***********************]  1 of 1 completed\n",
      "[*********************100%***********************]  1 of 1 completed\n",
      "[*********************100%***********************]  1 of 1 completed\n",
      "[*********************100%***********************]  1 of 1 completed\n",
      "\n",
      "1 Failed download:\n",
      "['YS']: YFTzMissingError('$%ticker%: possibly delisted; no timezone found')\n"
     ]
    },
    {
     "name": "stdout",
     "output_type": "stream",
     "text": [
      "No data found for YS. Skipping.\n"
     ]
    },
    {
     "name": "stderr",
     "output_type": "stream",
     "text": [
      "[*********************100%***********************]  1 of 1 completed\n",
      "[*********************100%***********************]  1 of 1 completed\n",
      "[*********************100%***********************]  1 of 1 completed\n",
      "[*********************100%***********************]  1 of 1 completed\n",
      "[*********************100%***********************]  1 of 1 completed\n",
      "[*********************100%***********************]  1 of 1 completed\n",
      "[*********************100%***********************]  1 of 1 completed\n"
     ]
    },
    {
     "name": "stdout",
     "output_type": "stream",
     "text": [
      "Skipping YY due to NaN values.\n"
     ]
    },
    {
     "name": "stderr",
     "output_type": "stream",
     "text": [
      "[*********************100%***********************]  1 of 1 completed\n",
      "[*********************100%***********************]  1 of 1 completed\n",
      "[*********************100%***********************]  1 of 1 completed\n",
      "[*********************100%***********************]  1 of 1 completed\n",
      "[*********************100%***********************]  1 of 1 completed\n",
      "[*********************100%***********************]  1 of 1 completed\n",
      "[*********************100%***********************]  1 of 1 completed\n",
      "[*********************100%***********************]  1 of 1 completed\n",
      "[*********************100%***********************]  1 of 1 completed\n",
      "[*********************100%***********************]  1 of 1 completed\n",
      "[*********************100%***********************]  1 of 1 completed\n",
      "[*********************100%***********************]  1 of 1 completed\n",
      "[*********************100%***********************]  1 of 1 completed\n",
      "\n",
      "1 Failed download:\n",
      "['ZEV']: YFTzMissingError('$%ticker%: possibly delisted; no timezone found')\n"
     ]
    },
    {
     "name": "stdout",
     "output_type": "stream",
     "text": [
      "No data found for ZEV. Skipping.\n"
     ]
    },
    {
     "name": "stderr",
     "output_type": "stream",
     "text": [
      "[*********************100%***********************]  1 of 1 completed\n",
      "\n",
      "1 Failed download:\n",
      "['ZFOX']: YFTzMissingError('$%ticker%: possibly delisted; no timezone found')\n",
      "[*********************100%***********************]  1 of 1 completed\n"
     ]
    },
    {
     "name": "stdout",
     "output_type": "stream",
     "text": [
      "No data found for ZFOX. Skipping.\n"
     ]
    },
    {
     "name": "stderr",
     "output_type": "stream",
     "text": [
      "[*********************100%***********************]  1 of 1 completed\n",
      "[*********************100%***********************]  1 of 1 completed\n",
      "[*********************100%***********************]  1 of 1 completed\n",
      "[*********************100%***********************]  1 of 1 completed\n",
      "[*********************100%***********************]  1 of 1 completed\n",
      "[*********************100%***********************]  1 of 1 completed\n",
      "\n",
      "1 Failed download:\n",
      "['ZING']: YFTzMissingError('$%ticker%: possibly delisted; no timezone found')\n",
      "[*********************100%***********************]  1 of 1 completed\n"
     ]
    },
    {
     "name": "stdout",
     "output_type": "stream",
     "text": [
      "No data found for ZING. Skipping.\n"
     ]
    },
    {
     "name": "stderr",
     "output_type": "stream",
     "text": [
      "[*********************100%***********************]  1 of 1 completed\n",
      "[*********************100%***********************]  1 of 1 completed\n",
      "[*********************100%***********************]  1 of 1 completed\n",
      "\n",
      "1 Failed download:\n",
      "['ZJYL']: YFPricesMissingError('$%ticker%: possibly delisted; no price data found  (1d 2020-01-01 -> 2023-01-01) (Yahoo error = \"Data doesn\\'t exist for startDate = 1577854800, endDate = 1672549200\")')\n",
      "[*********************100%***********************]  1 of 1 completed\n"
     ]
    },
    {
     "name": "stdout",
     "output_type": "stream",
     "text": [
      "No data found for ZJYL. Skipping.\n"
     ]
    },
    {
     "name": "stderr",
     "output_type": "stream",
     "text": [
      "[*********************100%***********************]  1 of 1 completed\n",
      "[*********************100%***********************]  1 of 1 completed\n",
      "\n",
      "1 Failed download:\n",
      "['ZLS']: YFTzMissingError('$%ticker%: possibly delisted; no timezone found')\n"
     ]
    },
    {
     "name": "stdout",
     "output_type": "stream",
     "text": [
      "No data found for ZLS. Skipping.\n"
     ]
    },
    {
     "name": "stderr",
     "output_type": "stream",
     "text": [
      "[*********************100%***********************]  1 of 1 completed\n",
      "[*********************100%***********************]  1 of 1 completed\n",
      "[*********************100%***********************]  1 of 1 completed\n",
      "[*********************100%***********************]  1 of 1 completed\n",
      "[*********************100%***********************]  1 of 1 completed\n",
      "[*********************100%***********************]  1 of 1 completed\n",
      "[*********************100%***********************]  1 of 1 completed\n",
      "[*********************100%***********************]  1 of 1 completed\n",
      "[*********************100%***********************]  1 of 1 completed\n",
      "[*********************100%***********************]  1 of 1 completed\n",
      "[*********************100%***********************]  1 of 1 completed\n",
      "[*********************100%***********************]  1 of 1 completed\n",
      "[*********************100%***********************]  1 of 1 completed\n",
      "\n",
      "1 Failed download:\n",
      "['ZURA']: YFPricesMissingError('$%ticker%: possibly delisted; no price data found  (1d 2020-01-01 -> 2023-01-01) (Yahoo error = \"Data doesn\\'t exist for startDate = 1577854800, endDate = 1672549200\")')\n"
     ]
    },
    {
     "name": "stdout",
     "output_type": "stream",
     "text": [
      "No data found for ZURA. Skipping.\n"
     ]
    },
    {
     "name": "stderr",
     "output_type": "stream",
     "text": [
      "[*********************100%***********************]  1 of 1 completed\n",
      "[*********************100%***********************]  1 of 1 completed\n",
      "[*********************100%***********************]  1 of 1 completed\n",
      "[*********************100%***********************]  1 of 1 completed\n",
      "[*********************100%***********************]  1 of 1 completed\n",
      "[*********************100%***********************]  1 of 1 completed\n",
      "\n",
      "1 Failed download:\n",
      "['ZYNE']: YFTzMissingError('$%ticker%: possibly delisted; no timezone found')\n",
      "[*********************100%***********************]  1 of 1 completed\n"
     ]
    },
    {
     "name": "stdout",
     "output_type": "stream",
     "text": [
      "No data found for ZYNE. Skipping.\n",
      "Data collection complete. Final CSV file saved in 'Data/company_stock_prices.csv'\n"
     ]
    }
   ],
   "execution_count": 4
  },
  {
   "metadata": {},
   "cell_type": "markdown",
   "source": "2. Now we can use the tickers (2. column) form the imported dataset to use the yfinance api to fetch stock data on the companies:",
   "id": "260ed9a480a068dd"
  },
  {
   "metadata": {},
   "cell_type": "markdown",
   "source": [
    "### Now we have fetched the data we need to calculate initial scores for our sample data. \n",
    "\n",
    "## Initial Score Calculation\n",
    "We have the three properties of a company that should affect the final score of its initial idea:\n",
    "- Current StockPrice\n",
    "- StockPrice development over the last few years\n",
    "- MarketCap\n",
    "- Volume\n",
    "\n",
    "The **current stock price** is an indecator for the relevance of an idea, allthough its not enough on its own, since an idea might have been revolutionary some decades ago, when the business established itself. Therefore the stockprice development comes in handy, as it indicates if the company has grown in recent times. New and innovative firms are more likely to have experienced an growth in the past years. If we set in relation to the market cap and the companys valume we get a more detailed overview on how relevant and successful the core idea of an company would be nowadays.\n",
    "\n",
    "So i have come up with the following relations:\n",
    "\n",
    "### Initial Function: Creative Relevance Score\n",
    "\n",
    "This function combines **recent growth**, **market stability**, and **market confidence** to create a balanced score for a company's relevance and success:\n",
    "\n",
    "- **Recent Growth**: Emphasizes companies with strong recent stock price growth and trading volume, highlighting momentum in the market.\n",
    "- **Market Presence**: Rewards companies with high stock price and market cap but adjusts for extremely high or low stock prices, which might signal volatility or overvaluation.\n",
    "- **Market Confidence**: A combined measure of stock price and market cap, weighted by recent stock price growth to favor companies with both high value and growth.\n",
    "\n",
    "**Formula**:\n",
    "$$\n",
    "\\text{Score} = 10 \\times \\left( 0.4 \\times \\sqrt{\\max(D_{norm} \\times V_{norm}, 0)} + 0.3 \\times \\frac{M_{norm} \\times S_{norm}}{1 + |S_{norm} - 0.5|} + 0.3 \\times (S_{norm} + M_{norm}) \\times (0.5 + 0.5 \\times D_{norm}) \\right)\n",
    "$$\n",
    "\n",
    "- **Normalization**: Each component is normalized to avoid extreme values, ensuring a balanced score between 0 and 10.\n",
    "- **Safeguards**: The formula includes protections against invalid operations (e.g., taking the square root of negative values) by setting minimum values to prevent `NaN` or infinity results."
   ],
   "id": "186001cc03f9dee5"
  },
  {
   "metadata": {
    "ExecuteTime": {
     "end_time": "2024-11-21T19:21:14.148610Z",
     "start_time": "2024-11-21T19:21:14.143651Z"
    }
   },
   "cell_type": "code",
   "source": [
    "import numpy as np\n",
    "\n",
    "# Define the creative relevance score function\n",
    "def creative_relevance_score(stock_price, stock_price_dev, market_cap, volume,\n",
    "                             S_max=1000, M_max=2e12, V_max=1e9, epsilon=1e-9):\n",
    "    # Normalize each component\n",
    "    S_norm = min(stock_price, S_max) / S_max\n",
    "    D_norm = min(stock_price_dev, 100) / 100\n",
    "    M_norm = np.log(market_cap + 1) / np.log(M_max)  # Adding 1 to avoid log(0)\n",
    "    V_norm = np.log(volume + 1) / np.log(V_max)      # Adding 1 to avoid log(0)\n",
    "\n",
    "    # Safeguard against any negative or NaN values\n",
    "    D_norm = max(D_norm, 0)  # Ensure D_norm is not negative\n",
    "    V_norm = max(V_norm, 0)  # Ensure V_norm is not negative\n",
    "\n",
    "    # Calculate each component's contribution with safeguards\n",
    "    recent_growth = np.sqrt(max(D_norm * V_norm, 0))  # Avoid sqrt of negative\n",
    "    market_presence = (M_norm * S_norm) / (1 + abs(S_norm - 0.5))  # Adjusted for extreme prices\n",
    "    market_confidence = (S_norm + M_norm) * (0.5 + 0.5 * D_norm)  # Weighted by stock growth\n",
    "\n",
    "    # Final score with weights\n",
    "    score = 10 * (0.4 * recent_growth + 0.3 * market_presence + 0.3 * market_confidence)\n",
    "    print(\"Final Score: \" + str(score))\n",
    "    return max(0, min(score, 10))  # Ensure the score is within [0, 10] Ensure the score is within [0, 10]\n",
    "\n",
    "# Example usage\n",
    "score = creative_relevance_score(stock_price=150, stock_price_dev=50, market_cap=5e11, volume=1e8)\n",
    "print(\"Creative Relevance Score:\", score)\n",
    "\n",
    "\n"
   ],
   "id": "ba064050f80f58cd",
   "outputs": [
    {
     "name": "stdout",
     "output_type": "stream",
     "text": [
      "Final Score: 5.461061674436522\n",
      "Creative Relevance Score: 5.461061674436522\n"
     ]
    }
   ],
   "execution_count": 5
  },
  {
   "metadata": {},
   "cell_type": "markdown",
   "source": [
    "### Formula 1: Growth-Adjusted Market Confidence\n",
    "\n",
    "This formula emphasizes **market stability** and **growth potential**:\n",
    "- **Growth-Adjusted Market Presence**: Highlights high stock price and market cap, adjusted by growth to favor companies with balanced growth.\n",
    "- **Recent Growth**: Captures recent market excitement by emphasizing strong growth and high trading volume.\n",
    "- **Market Cap-Volume Interaction**: Rewards companies with both stability (high market cap) and high volume, indicating established interest.\n",
    "\n",
    "**Formula**:\n",
    "$$\n",
    "\\text{Score} = 10 \\times \\left( 0.5 \\times \\frac{S_{norm} \\times M_{norm}}{1 + |D_{norm} - 0.5|} + 0.3 \\times \\sqrt{D_{norm} \\times V_{norm}} + 0.2 \\times (M_{norm} \\times V_{norm})² \\right)\n",
    "$$"
   ],
   "id": "37eceb5c0c24d609"
  },
  {
   "metadata": {
    "ExecuteTime": {
     "end_time": "2024-11-21T19:21:14.197687Z",
     "start_time": "2024-11-21T19:21:14.194033Z"
    }
   },
   "cell_type": "code",
   "source": [
    "def alternative_score_1(stock_price, stock_price_dev, market_cap, volume,\n",
    "                        S_max=1000, M_max=2e12, V_max=1e9):\n",
    "    S_norm = min(stock_price, S_max) / S_max\n",
    "    D_norm = min(stock_price_dev, 100) / 100\n",
    "    M_norm = np.log(market_cap + 1) / np.log(M_max)\n",
    "    V_norm = np.log(volume + 1) / np.log(V_max)\n",
    "\n",
    "    growth_adjusted_presence = (S_norm * M_norm) / (1 + abs(D_norm - 0.5))\n",
    "    recent_growth = np.sqrt(max(D_norm * V_norm, 0))\n",
    "    market_cap_volume = (M_norm * V_norm) * (M_norm * V_norm)\n",
    "\n",
    "    score = 10 * (0.5 * growth_adjusted_presence + 0.3 * recent_growth + 0.2 * market_cap_volume)\n",
    "    return max(0, min(score, 10))\n"
   ],
   "id": "81c97822b92cd12",
   "outputs": [],
   "execution_count": 6
  },
  {
   "metadata": {},
   "cell_type": "markdown",
   "source": [
    "### Formula 2: Stability and Interest Ratio\n",
    "\n",
    "This formula uses **ratios** to balance **current stability** and **market interest**:\n",
    "- **Stability-Interest Ratio**: Rewards companies with high stability (stock price and market cap), moderated by trading volume.\n",
    "- **Growth Emphasis**: Directly highlights recent stock price growth as an indicator of market excitement.\n",
    "- **Stability and Interest Interaction**: Rewards companies with both high market cap and volume, favoring established companies with active interest.\n",
    "\n",
    "**Formula**:\n",
    "$$\n",
    "\\text{Score} = 10 \\times \\left( 0.4 \\times \\frac{S_{norm} \\times M_{norm}}{1 + |V_{norm} - 0.5|} + 0.4 \\times D_{norm} + 0.2 \\times \\sqrt{M_{norm} \\times V_{norm}} \\right)\n",
    "$$\n"
   ],
   "id": "ff2e23a95f944fb4"
  },
  {
   "metadata": {
    "ExecuteTime": {
     "end_time": "2024-11-21T19:21:14.252400Z",
     "start_time": "2024-11-21T19:21:14.248771Z"
    }
   },
   "cell_type": "code",
   "source": [
    "def alternative_score_2(stock_price, stock_price_dev, market_cap, volume,\n",
    "                        S_max=1000, M_max=2e12, V_max=1e9):\n",
    "    S_norm = min(stock_price, S_max) / S_max\n",
    "    D_norm = min(stock_price_dev, 100) / 100\n",
    "    M_norm = np.log(market_cap + 1) / np.log(M_max)\n",
    "    V_norm = np.log(volume + 1) / np.log(V_max)\n",
    "\n",
    "    stability_interest_ratio = (S_norm * M_norm) / (1 + abs(V_norm - 0.5))\n",
    "    growth_emphasis = D_norm\n",
    "    stability_interest_interaction = np.sqrt(M_norm * V_norm)\n",
    "\n",
    "    score = 10 * (0.4 * stability_interest_ratio + 0.4 * growth_emphasis + 0.2 * stability_interest_interaction)\n",
    "    return max(0, min(score, 10))\n"
   ],
   "id": "cdb4c6ec78fc1661",
   "outputs": [],
   "execution_count": 7
  },
  {
   "metadata": {},
   "cell_type": "markdown",
   "source": [
    "### Formula 3: Momentum and Legacy\n",
    "\n",
    "This formula emphasizes **momentum** by weighing **recent growth** and **trading volume** more heavily, while acknowledging **market cap** and **current stock price** for stability:\n",
    "- **Stock Price and Market Cap Weighting**: Balances stock price and market cap, representing a company’s legacy and current market position.\n",
    "- **Momentum Factor**: Highlights companies with strong recent growth and volume, capturing momentum.\n",
    "- **Adjusted Growth Factor**: Rewards high-growth companies but tempers the effect if market cap significantly deviates, ensuring a preference for stable growth.\n",
    "\n",
    "**Formula**:\n",
    "$$\n",
    "\\text{Score} = 10 \\times \\left( (0.25 \\times S_{norm} + 0.25 \\times M_{norm})^{1 + D_{norm}} + 0.3 \\times \\sqrt{D_{norm} \\times V_{norm}} + 0.2 \\times \\frac{D_{norm} \\times S_{norm}}{1 + |M_{norm} - 0.5|} \\right)\n",
    "$$\n"
   ],
   "id": "2a6bfce77198fd11"
  },
  {
   "metadata": {
    "ExecuteTime": {
     "end_time": "2024-11-21T19:21:14.305990Z",
     "start_time": "2024-11-21T19:21:14.300087Z"
    }
   },
   "cell_type": "code",
   "source": [
    "import math\n",
    "def alternative_score_3(stock_price, stock_price_dev, market_cap, volume,\n",
    "                        S_max=1000, M_max=2e12, V_max=1e9):\n",
    "    S_norm = min(stock_price, S_max) / S_max\n",
    "    D_norm = min(stock_price_dev, 100) / 100\n",
    "    M_norm = np.log(market_cap + 1) / np.log(M_max)\n",
    "    V_norm = np.log(volume + 1) / np.log(V_max)\n",
    "\n",
    "    stock_price_market_cap_weighting = 0.25 * S_norm + 0.25 * M_norm\n",
    "    momentum_factor = np.sqrt(max(D_norm * V_norm, 0))\n",
    "    adjusted_growth_factor = (D_norm * S_norm) / (1 + abs(M_norm - 0.5))\n",
    "\n",
    "    score = 10 * (math.pow(stock_price_market_cap_weighting, 1 + D_norm) + 0.3 * momentum_factor + 0.2 * adjusted_growth_factor)\n",
    "    return max(0, min(score, 10))\n"
   ],
   "id": "fb841a1c828e8134",
   "outputs": [],
   "execution_count": 8
  },
  {
   "metadata": {},
   "cell_type": "markdown",
   "source": "##### We will use this function now to create a final dataset with the idea, which we use the company description for, and the according score.",
   "id": "ff80087007518bb1"
  },
  {
   "metadata": {
    "ExecuteTime": {
     "end_time": "2024-11-21T19:21:14.370564Z",
     "start_time": "2024-11-21T19:21:14.352314Z"
    }
   },
   "cell_type": "code",
   "source": [
    "import os\n",
    "import pandas as pd\n",
    "os.makedirs(\"Data\", exist_ok=True)\n",
    "\n",
    "input_filepath = 'Data/company_stock_prices.csv'\n",
    "df = pd.read_csv(input_filepath)\n",
    "\n",
    "# Ensure numeric types and handle missing values\n",
    "df[['StockPrice', 'StockPriceDevelopment', 'MarketCap', 'Volume']] = df[\n",
    "    ['StockPrice', 'StockPriceDevelopment', 'MarketCap', 'Volume']\n",
    "].apply(pd.to_numeric, errors='coerce').fillna(0)  # COnvert to numeric\n",
    "\n",
    "# Calculate scores and prepare the output DataFrame\n",
    "output_data = {\n",
    "    'index': range(len(df)),  # Simple counter for each row\n",
    "    'Idea': df['Idea'],       # Directly from input CSV\n",
    "    'Score': df.apply(lambda row: alternative_score_3(\n",
    "        row['StockPrice'], row['StockPriceDevelopment'], row['MarketCap'], row['Volume']), axis=1)  # Apply the scoring function\n",
    "}\n",
    "\n",
    "# Create the output DataFrame\n",
    "output_df = pd.DataFrame(output_data)\n",
    "\n",
    "# Save the results to a new CSV file\n",
    "output_filepath = 'Data/final_dataset.csv'\n",
    "output_df.to_csv(output_filepath, index=False)\n",
    "\n",
    "print(f\"Data collection complete. Final CSV file saved in '{output_filepath}'\")"
   ],
   "id": "d0b4f67fb4ba8c0a",
   "outputs": [
    {
     "name": "stdout",
     "output_type": "stream",
     "text": [
      "Data collection complete. Final CSV file saved in 'Data/final_dataset.csv'\n"
     ]
    }
   ],
   "execution_count": 9
  }
 ],
 "metadata": {
  "kernelspec": {
   "display_name": "Python 3",
   "language": "python",
   "name": "python3"
  },
  "language_info": {
   "codemirror_mode": {
    "name": "ipython",
    "version": 2
   },
   "file_extension": ".py",
   "mimetype": "text/x-python",
   "name": "python",
   "nbconvert_exporter": "python",
   "pygments_lexer": "ipython2",
   "version": "2.7.6"
  }
 },
 "nbformat": 4,
 "nbformat_minor": 5
}
