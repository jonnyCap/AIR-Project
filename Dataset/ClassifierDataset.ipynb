{
 "cells": [
  {
   "metadata": {},
   "cell_type": "markdown",
   "source": [
    "# Dataset\n",
    "We will create our own dataset here that we can then use to train our fine tuned model.\n",
    "\n",
    "1. Import the base dataset from HuggingFace."
   ],
   "id": "cb33cf8731211318"
  },
  {
   "cell_type": "code",
   "id": "initial_id",
   "metadata": {
    "collapsed": true,
    "ExecuteTime": {
     "end_time": "2025-01-07T15:21:09.803855Z",
     "start_time": "2025-01-07T15:21:08.291968Z"
    }
   },
   "source": [
    "from datasets import load_dataset\n",
    "\n",
    "# Load the dataset\n",
    "dataset = load_dataset(\"shortbread/tickers\", split=\"train\")\n",
    "\n",
    "# Select only the required columns and rename 'long_business_summary' to 'idea'\n",
    "dataset = dataset.remove_columns([col for col in dataset.column_names if col not in ['symbol', 'name', 'close', 'volume', 'market_cap', 'long_business_summary']])\n",
    "dataset = dataset.rename_column(\"long_business_summary\", \"idea\")\n",
    "\n",
    "# Display a few rows of the filtered and renamed dataset\n",
    "print(dataset)\n"
   ],
   "outputs": [
    {
     "name": "stdout",
     "output_type": "stream",
     "text": [
      "Dataset({\n",
      "    features: ['symbol', 'name', 'close', 'volume', 'market_cap', 'idea'],\n",
      "    num_rows: 7314\n",
      "})\n"
     ]
    }
   ],
   "execution_count": 53
  },
  {
   "metadata": {
    "ExecuteTime": {
     "end_time": "2025-01-07T16:40:48.002174Z",
     "start_time": "2025-01-07T15:21:09.821507Z"
    }
   },
   "cell_type": "code",
   "source": [
    "import pandas as pd\n",
    "from pandas import DataFrame\n",
    "import yfinance as yf\n",
    "import time\n",
    "import os\n",
    "\n",
    "# Ensure the \"Data\" folder exists\n",
    "os.makedirs(\"Data\", exist_ok=True)\n",
    "\n",
    "df = dataset.to_pandas()\n",
    "\n",
    "# Parameters for date range and batch size\n",
    "start_date = \"2020-01-01\"\n",
    "end_date = \"2023-01-01\"\n",
    "batch_size = 50  # Adjust batch size based on rate limits\n",
    "\n",
    "# Limit dataset for testing\n",
    "# df = df[-50:]\n",
    "\n",
    "# Initialize an empty list to store all data in the desired format\n",
    "all_data = DataFrame(columns=['Ticker', 'Idea', 'StockPrice', 'StockPriceDevelopment',\n",
    "                              'MarketCap', 'Volume', 'Historical'])\n",
    "\n",
    "# Fetch data in batches\n",
    "index = 0\n",
    "for i in range(0, len(df), batch_size):\n",
    "    batch = df.iloc[i:i + batch_size]\n",
    "    intermediate_index = 0\n",
    "    for _, row in batch.iterrows():\n",
    "        index = i * batch_size + intermediate_index\n",
    "        intermediate_index += 1\n",
    "        \n",
    "        symbol = row['symbol']  # Access the ticker symbol\n",
    "        if not symbol:\n",
    "            continue\n",
    "\n",
    "        try:\n",
    "            # Fetch historical stock data at a monthly interval\n",
    "            stock = yf.Ticker(symbol)\n",
    "            periods = [\"1y\", \"6mo\", \"1mo\"]  # Periods to try\n",
    "            hist = None\n",
    "\n",
    "            # Try different periods to fetch data\n",
    "            for period in periods:\n",
    "                hist = stock.history(period=period, interval=\"1mo\")\n",
    "                if not hist.empty:\n",
    "                    break  # Exit loop if data is found\n",
    "\n",
    "            if hist.empty:  # If no data found after all retries\n",
    "                print(f\"No data found for {symbol} after retries. Skipping.\")\n",
    "                continue\n",
    "\n",
    "            # Get the last 12 months of monthly closing prices\n",
    "            last_12_months_prices = hist['Close'].dropna().tail(12).tolist()\n",
    "\n",
    "            # Calculate stock price development as the percentage change over time\n",
    "            stock_price_development = ((hist['Close'].iloc[-1] - hist['Close'].iloc[0]) / hist['Close'].iloc[0]) * 100\n",
    "\n",
    "            # Prepare the entry\n",
    "            entry = [\n",
    "                row['symbol'],  # Ticker\n",
    "                row['idea'] or stock.info.get(\"longBusinessSummary\", None),\n",
    "                hist['Close'].iloc[-1] if not hist['Close'].isna().any() else row['close'],\n",
    "                stock_price_development,\n",
    "                row['market_cap'],\n",
    "                row['volume'],\n",
    "                last_12_months_prices,  # Add historical column with actual prices\n",
    "            ]\n",
    "\n",
    "            if any(pd.isna(value) for value in entry[:-1]):  # Exclude the historical array from NaN check\n",
    "                print(f\"Skipping {symbol} due to NaN values.\")\n",
    "                continue\n",
    "\n",
    "            # Append this company's enriched data to all_data list or DataFrame\n",
    "            all_data.loc[index] = entry\n",
    "\n",
    "            # Delay to avoid hitting rate limits\n",
    "            time.sleep(0.1)\n",
    "\n",
    "        except Exception as e:\n",
    "            print(f\"Failed to fetch data for {symbol}: {e}\")\n",
    "            time.sleep(0.1)\n",
    "\n",
    "    # Delay between batches to avoid rate limiting\n",
    "    time.sleep(2)\n",
    "\n",
    "all_data.to_csv('Data/entire_company_stock_prices.csv', index=False)\n",
    "\n",
    "print(\"Data collection complete. Final CSV file saved in 'Data/entire_company_stock_prices.csv'\")\n"
   ],
   "id": "167db4d8dd7117",
   "outputs": [
    {
     "name": "stderr",
     "output_type": "stream",
     "text": [
      "$AAC: possibly delisted; no price data found  (period=1y) (Yahoo error = \"No data found, symbol may be delisted\")\n",
      "$AAC: possibly delisted; no price data found  (period=6mo) (Yahoo error = \"No data found, symbol may be delisted\")\n",
      "$AAC: possibly delisted; no price data found  (period=1mo) (Yahoo error = \"No data found, symbol may be delisted\")\n"
     ]
    },
    {
     "name": "stdout",
     "output_type": "stream",
     "text": [
      "No data found for AAC after retries. Skipping.\n"
     ]
    },
    {
     "name": "stderr",
     "output_type": "stream",
     "text": [
      "$AACI: possibly delisted; no price data found  (period=1y) (Yahoo error = \"No data found, symbol may be delisted\")\n",
      "$AACI: possibly delisted; no price data found  (period=6mo) (Yahoo error = \"No data found, symbol may be delisted\")\n",
      "$AACI: possibly delisted; no price data found  (period=1mo) (Yahoo error = \"No data found, symbol may be delisted\")\n"
     ]
    },
    {
     "name": "stdout",
     "output_type": "stream",
     "text": [
      "No data found for AACI after retries. Skipping.\n"
     ]
    },
    {
     "name": "stderr",
     "output_type": "stream",
     "text": [
      "$AAIC: possibly delisted; no price data found  (period=1y) (Yahoo error = \"No data found, symbol may be delisted\")\n",
      "$AAIC: possibly delisted; no price data found  (period=6mo) (Yahoo error = \"No data found, symbol may be delisted\")\n",
      "$AAIC: possibly delisted; no price data found  (period=1mo) (Yahoo error = \"No data found, symbol may be delisted\")\n"
     ]
    },
    {
     "name": "stdout",
     "output_type": "stream",
     "text": [
      "No data found for AAIC after retries. Skipping.\n"
     ]
    },
    {
     "name": "stderr",
     "output_type": "stream",
     "text": [
      "$AAMC: possibly delisted; no price data found  (period=1y) (Yahoo error = \"No data found, symbol may be delisted\")\n",
      "$AAMC: possibly delisted; no price data found  (period=6mo) (Yahoo error = \"No data found, symbol may be delisted\")\n",
      "$AAMC: possibly delisted; no price data found  (period=1mo) (Yahoo error = \"No data found, symbol may be delisted\")\n"
     ]
    },
    {
     "name": "stdout",
     "output_type": "stream",
     "text": [
      "No data found for AAMC after retries. Skipping.\n"
     ]
    },
    {
     "name": "stderr",
     "output_type": "stream",
     "text": [
      "$AAN: possibly delisted; no price data found  (period=1y) (Yahoo error = \"No data found, symbol may be delisted\")\n",
      "$AAN: possibly delisted; no price data found  (period=6mo) (Yahoo error = \"No data found, symbol may be delisted\")\n",
      "$AAN: possibly delisted; no price data found  (period=1mo) (Yahoo error = \"No data found, symbol may be delisted\")\n"
     ]
    },
    {
     "name": "stdout",
     "output_type": "stream",
     "text": [
      "No data found for AAN after retries. Skipping.\n"
     ]
    },
    {
     "name": "stderr",
     "output_type": "stream",
     "text": [
      "$AAU: possibly delisted; no price data found  (period=1y) (Yahoo error = \"No data found, symbol may be delisted\")\n",
      "$AAU: possibly delisted; no price data found  (period=6mo) (Yahoo error = \"No data found, symbol may be delisted\")\n",
      "$AAU: possibly delisted; no price data found  (period=1mo) (Yahoo error = \"No data found, symbol may be delisted\")\n"
     ]
    },
    {
     "name": "stdout",
     "output_type": "stream",
     "text": [
      "No data found for AAU after retries. Skipping.\n"
     ]
    },
    {
     "name": "stderr",
     "output_type": "stream",
     "text": [
      "$ABC: possibly delisted; no price data found  (period=1y) (Yahoo error = \"No data found, symbol may be delisted\")\n",
      "$ABC: possibly delisted; no price data found  (period=6mo) (Yahoo error = \"No data found, symbol may be delisted\")\n",
      "$ABC: possibly delisted; no price data found  (period=1mo) (Yahoo error = \"No data found, symbol may be delisted\")\n"
     ]
    },
    {
     "name": "stdout",
     "output_type": "stream",
     "text": [
      "No data found for ABC after retries. Skipping.\n"
     ]
    },
    {
     "name": "stderr",
     "output_type": "stream",
     "text": [
      "$ABCM: possibly delisted; no price data found  (period=1y) (Yahoo error = \"No data found, symbol may be delisted\")\n",
      "$ABCM: possibly delisted; no price data found  (period=6mo) (Yahoo error = \"No data found, symbol may be delisted\")\n",
      "$ABCM: possibly delisted; no price data found  (period=1mo) (Yahoo error = \"No data found, symbol may be delisted\")\n"
     ]
    },
    {
     "name": "stdout",
     "output_type": "stream",
     "text": [
      "No data found for ABCM after retries. Skipping.\n"
     ]
    },
    {
     "name": "stderr",
     "output_type": "stream",
     "text": [
      "$ABIO: possibly delisted; no price data found  (period=1y) (Yahoo error = \"No data found, symbol may be delisted\")\n",
      "$ABIO: possibly delisted; no price data found  (period=6mo) (Yahoo error = \"No data found, symbol may be delisted\")\n",
      "$ABIO: possibly delisted; no price data found  (period=1mo) (Yahoo error = \"No data found, symbol may be delisted\")\n"
     ]
    },
    {
     "name": "stdout",
     "output_type": "stream",
     "text": [
      "No data found for ABIO after retries. Skipping.\n"
     ]
    },
    {
     "name": "stderr",
     "output_type": "stream",
     "text": [
      "$ABST: possibly delisted; no price data found  (period=1y) (Yahoo error = \"No data found, symbol may be delisted\")\n",
      "$ABST: possibly delisted; no price data found  (period=6mo) (Yahoo error = \"No data found, symbol may be delisted\")\n",
      "$ABST: possibly delisted; no price data found  (period=1mo) (Yahoo error = \"No data found, symbol may be delisted\")\n"
     ]
    },
    {
     "name": "stdout",
     "output_type": "stream",
     "text": [
      "No data found for ABST after retries. Skipping.\n"
     ]
    },
    {
     "name": "stderr",
     "output_type": "stream",
     "text": [
      "$ACAC: possibly delisted; no price data found  (period=1y) (Yahoo error = \"No data found, symbol may be delisted\")\n",
      "$ACAC: possibly delisted; no price data found  (period=6mo) (Yahoo error = \"No data found, symbol may be delisted\")\n",
      "$ACAC: possibly delisted; no price data found  (period=1mo) (Yahoo error = \"No data found, symbol may be delisted\")\n"
     ]
    },
    {
     "name": "stdout",
     "output_type": "stream",
     "text": [
      "No data found for ACAC after retries. Skipping.\n"
     ]
    },
    {
     "name": "stderr",
     "output_type": "stream",
     "text": [
      "$ACAH: possibly delisted; no price data found  (period=1y) (Yahoo error = \"No data found, symbol may be delisted\")\n",
      "$ACAH: possibly delisted; no price data found  (period=6mo) (Yahoo error = \"No data found, symbol may be delisted\")\n",
      "$ACAH: possibly delisted; no price data found  (period=1mo) (Yahoo error = \"No data found, symbol may be delisted\")\n"
     ]
    },
    {
     "name": "stdout",
     "output_type": "stream",
     "text": [
      "No data found for ACAH after retries. Skipping.\n"
     ]
    },
    {
     "name": "stderr",
     "output_type": "stream",
     "text": [
      "$ACAQ: possibly delisted; no price data found  (period=1y) (Yahoo error = \"No data found, symbol may be delisted\")\n",
      "$ACAQ: possibly delisted; no price data found  (period=6mo) (Yahoo error = \"No data found, symbol may be delisted\")\n",
      "$ACAQ: possibly delisted; no price data found  (period=1mo) (Yahoo error = \"No data found, symbol may be delisted\")\n"
     ]
    },
    {
     "name": "stdout",
     "output_type": "stream",
     "text": [
      "No data found for ACAQ after retries. Skipping.\n"
     ]
    },
    {
     "name": "stderr",
     "output_type": "stream",
     "text": [
      "$ACAX: possibly delisted; no price data found  (period=1y) (Yahoo error = \"No data found, symbol may be delisted\")\n",
      "$ACAX: possibly delisted; no price data found  (period=6mo) (Yahoo error = \"No data found, symbol may be delisted\")\n",
      "$ACAX: possibly delisted; no price data found  (period=1mo) (Yahoo error = \"No data found, symbol may be delisted\")\n"
     ]
    },
    {
     "name": "stdout",
     "output_type": "stream",
     "text": [
      "No data found for ACAX after retries. Skipping.\n"
     ]
    },
    {
     "name": "stderr",
     "output_type": "stream",
     "text": [
      "$ACBA: possibly delisted; no price data found  (period=1y) (Yahoo error = \"No data found, symbol may be delisted\")\n",
      "$ACBA: possibly delisted; no price data found  (period=6mo) (Yahoo error = \"No data found, symbol may be delisted\")\n",
      "$ACBA: possibly delisted; no price data found  (period=1mo) (Yahoo error = \"No data found, symbol may be delisted\")\n"
     ]
    },
    {
     "name": "stdout",
     "output_type": "stream",
     "text": [
      "No data found for ACBA after retries. Skipping.\n"
     ]
    },
    {
     "name": "stderr",
     "output_type": "stream",
     "text": [
      "$ACER: possibly delisted; no price data found  (period=1y) (Yahoo error = \"No data found, symbol may be delisted\")\n",
      "$ACER: possibly delisted; no price data found  (period=6mo) (Yahoo error = \"No data found, symbol may be delisted\")\n",
      "$ACER: possibly delisted; no price data found  (period=1mo) (Yahoo error = \"No data found, symbol may be delisted\")\n"
     ]
    },
    {
     "name": "stdout",
     "output_type": "stream",
     "text": [
      "No data found for ACER after retries. Skipping.\n"
     ]
    },
    {
     "name": "stderr",
     "output_type": "stream",
     "text": [
      "$ACGN: possibly delisted; no price data found  (period=1y) (Yahoo error = \"No data found, symbol may be delisted\")\n",
      "$ACGN: possibly delisted; no price data found  (period=6mo) (Yahoo error = \"No data found, symbol may be delisted\")\n",
      "$ACGN: possibly delisted; no price data found  (period=1mo) (Yahoo error = \"No data found, symbol may be delisted\")\n"
     ]
    },
    {
     "name": "stdout",
     "output_type": "stream",
     "text": [
      "No data found for ACGN after retries. Skipping.\n"
     ]
    },
    {
     "name": "stderr",
     "output_type": "stream",
     "text": [
      "$ACOR: possibly delisted; no price data found  (period=1y) (Yahoo error = \"No data found, symbol may be delisted\")\n",
      "$ACOR: possibly delisted; no price data found  (period=6mo) (Yahoo error = \"No data found, symbol may be delisted\")\n",
      "$ACOR: possibly delisted; no price data found  (period=1mo) (Yahoo error = \"No data found, symbol may be delisted\")\n"
     ]
    },
    {
     "name": "stdout",
     "output_type": "stream",
     "text": [
      "No data found for ACOR after retries. Skipping.\n"
     ]
    },
    {
     "name": "stderr",
     "output_type": "stream",
     "text": [
      "$ACRO: possibly delisted; no price data found  (period=1y) (Yahoo error = \"No data found, symbol may be delisted\")\n",
      "$ACRO: possibly delisted; no price data found  (period=6mo) (Yahoo error = \"No data found, symbol may be delisted\")\n",
      "$ACRO: possibly delisted; no price data found  (period=1mo) (Yahoo error = \"No data found, symbol may be delisted\")\n"
     ]
    },
    {
     "name": "stdout",
     "output_type": "stream",
     "text": [
      "No data found for ACRO after retries. Skipping.\n"
     ]
    },
    {
     "name": "stderr",
     "output_type": "stream",
     "text": [
      "$ACRX: possibly delisted; no price data found  (period=1y) (Yahoo error = \"No data found, symbol may be delisted\")\n",
      "$ACRX: possibly delisted; no price data found  (period=6mo) (Yahoo error = \"No data found, symbol may be delisted\")\n",
      "$ACRX: possibly delisted; no price data found  (period=1mo) (Yahoo error = \"No data found, symbol may be delisted\")\n"
     ]
    },
    {
     "name": "stdout",
     "output_type": "stream",
     "text": [
      "No data found for ACRX after retries. Skipping.\n"
     ]
    },
    {
     "name": "stderr",
     "output_type": "stream",
     "text": [
      "$ACST: possibly delisted; no price data found  (period=1y) (Yahoo error = \"No data found, symbol may be delisted\")\n",
      "$ACST: possibly delisted; no price data found  (period=6mo) (Yahoo error = \"No data found, symbol may be delisted\")\n",
      "$ACST: possibly delisted; no price data found  (period=1mo) (Yahoo error = \"No data found, symbol may be delisted\")\n"
     ]
    },
    {
     "name": "stdout",
     "output_type": "stream",
     "text": [
      "No data found for ACST after retries. Skipping.\n"
     ]
    },
    {
     "name": "stderr",
     "output_type": "stream",
     "text": [
      "$ADER: possibly delisted; no price data found  (period=1y) (Yahoo error = \"No data found, symbol may be delisted\")\n",
      "$ADER: possibly delisted; no price data found  (period=6mo) (Yahoo error = \"No data found, symbol may be delisted\")\n",
      "$ADER: possibly delisted; no price data found  (period=1mo) (Yahoo error = \"No data found, symbol may be delisted\")\n"
     ]
    },
    {
     "name": "stdout",
     "output_type": "stream",
     "text": [
      "No data found for ADER after retries. Skipping.\n"
     ]
    },
    {
     "name": "stderr",
     "output_type": "stream",
     "text": [
      "$ADES: possibly delisted; no price data found  (period=1y) (Yahoo error = \"No data found, symbol may be delisted\")\n",
      "$ADES: possibly delisted; no price data found  (period=6mo) (Yahoo error = \"No data found, symbol may be delisted\")\n",
      "$ADES: possibly delisted; no price data found  (period=1mo) (Yahoo error = \"No data found, symbol may be delisted\")\n"
     ]
    },
    {
     "name": "stdout",
     "output_type": "stream",
     "text": [
      "No data found for ADES after retries. Skipping.\n"
     ]
    },
    {
     "name": "stderr",
     "output_type": "stream",
     "text": [
      "$ADEX: possibly delisted; no price data found  (period=1y) (Yahoo error = \"No data found, symbol may be delisted\")\n",
      "$ADEX: possibly delisted; no price data found  (period=6mo) (Yahoo error = \"No data found, symbol may be delisted\")\n",
      "$ADEX: possibly delisted; no price data found  (period=1mo) (Yahoo error = \"No data found, symbol may be delisted\")\n"
     ]
    },
    {
     "name": "stdout",
     "output_type": "stream",
     "text": [
      "No data found for ADEX after retries. Skipping.\n"
     ]
    },
    {
     "name": "stderr",
     "output_type": "stream",
     "text": [
      "$ADMP: possibly delisted; no price data found  (period=1y) (Yahoo error = \"No data found, symbol may be delisted\")\n",
      "$ADMP: possibly delisted; no price data found  (period=6mo) (Yahoo error = \"No data found, symbol may be delisted\")\n",
      "$ADMP: possibly delisted; no price data found  (period=1mo) (Yahoo error = \"No data found, symbol may be delisted\")\n"
     ]
    },
    {
     "name": "stdout",
     "output_type": "stream",
     "text": [
      "No data found for ADMP after retries. Skipping.\n"
     ]
    },
    {
     "name": "stderr",
     "output_type": "stream",
     "text": [
      "$ADOC: possibly delisted; no price data found  (period=1y) (Yahoo error = \"No data found, symbol may be delisted\")\n",
      "$ADOC: possibly delisted; no price data found  (period=6mo) (Yahoo error = \"No data found, symbol may be delisted\")\n",
      "$ADOC: possibly delisted; no price data found  (period=1mo) (Yahoo error = \"No data found, symbol may be delisted\")\n"
     ]
    },
    {
     "name": "stdout",
     "output_type": "stream",
     "text": [
      "No data found for ADOC after retries. Skipping.\n"
     ]
    },
    {
     "name": "stderr",
     "output_type": "stream",
     "text": [
      "$ADRT: possibly delisted; no price data found  (period=1y) (Yahoo error = \"No data found, symbol may be delisted\")\n",
      "$ADRT: possibly delisted; no price data found  (period=6mo) (Yahoo error = \"No data found, symbol may be delisted\")\n",
      "$ADRT: possibly delisted; no price data found  (period=1mo) (Yahoo error = \"No data found, symbol may be delisted\")\n"
     ]
    },
    {
     "name": "stdout",
     "output_type": "stream",
     "text": [
      "No data found for ADRT after retries. Skipping.\n"
     ]
    },
    {
     "name": "stderr",
     "output_type": "stream",
     "text": [
      "$ADTH: possibly delisted; no price data found  (period=1y) (Yahoo error = \"No data found, symbol may be delisted\")\n",
      "$ADTH: possibly delisted; no price data found  (period=6mo) (Yahoo error = \"No data found, symbol may be delisted\")\n",
      "$ADTH: possibly delisted; no price data found  (period=1mo) (Yahoo error = \"No data found, symbol may be delisted\")\n"
     ]
    },
    {
     "name": "stdout",
     "output_type": "stream",
     "text": [
      "No data found for ADTH after retries. Skipping.\n"
     ]
    },
    {
     "name": "stderr",
     "output_type": "stream",
     "text": [
      "$AEL: possibly delisted; no price data found  (period=1y) (Yahoo error = \"No data found, symbol may be delisted\")\n",
      "$AEL: possibly delisted; no price data found  (period=6mo) (Yahoo error = \"No data found, symbol may be delisted\")\n",
      "$AEL: possibly delisted; no price data found  (period=1mo) (Yahoo error = \"No data found, symbol may be delisted\")\n"
     ]
    },
    {
     "name": "stdout",
     "output_type": "stream",
     "text": [
      "No data found for AEL after retries. Skipping.\n"
     ]
    },
    {
     "name": "stderr",
     "output_type": "stream",
     "text": [
      "$AENZ: possibly delisted; no price data found  (period=1y) (Yahoo error = \"No data found, symbol may be delisted\")\n",
      "$AENZ: possibly delisted; no price data found  (period=6mo) (Yahoo error = \"No data found, symbol may be delisted\")\n",
      "$AENZ: possibly delisted; no price data found  (period=1mo) (Yahoo error = \"No data found, symbol may be delisted\")\n"
     ]
    },
    {
     "name": "stdout",
     "output_type": "stream",
     "text": [
      "No data found for AENZ after retries. Skipping.\n"
     ]
    },
    {
     "name": "stderr",
     "output_type": "stream",
     "text": [
      "$AEY: possibly delisted; no price data found  (period=1y) (Yahoo error = \"No data found, symbol may be delisted\")\n",
      "$AEY: possibly delisted; no price data found  (period=6mo) (Yahoo error = \"No data found, symbol may be delisted\")\n",
      "$AEY: possibly delisted; no price data found  (period=1mo) (Yahoo error = \"No data found, symbol may be delisted\")\n"
     ]
    },
    {
     "name": "stdout",
     "output_type": "stream",
     "text": [
      "No data found for AEY after retries. Skipping.\n"
     ]
    },
    {
     "name": "stderr",
     "output_type": "stream",
     "text": [
      "$AEZS: possibly delisted; no price data found  (period=1y) (Yahoo error = \"No data found, symbol may be delisted\")\n",
      "$AEZS: possibly delisted; no price data found  (period=6mo) (Yahoo error = \"No data found, symbol may be delisted\")\n",
      "$AEZS: possibly delisted; no price data found  (period=1mo) (Yahoo error = \"No data found, symbol may be delisted\")\n"
     ]
    },
    {
     "name": "stdout",
     "output_type": "stream",
     "text": [
      "No data found for AEZS after retries. Skipping.\n"
     ]
    },
    {
     "name": "stderr",
     "output_type": "stream",
     "text": [
      "$AFT: possibly delisted; no price data found  (period=1y) (Yahoo error = \"No data found, symbol may be delisted\")\n",
      "$AFT: possibly delisted; no price data found  (period=6mo) (Yahoo error = \"No data found, symbol may be delisted\")\n",
      "$AFT: possibly delisted; no price data found  (period=1mo) (Yahoo error = \"No data found, symbol may be delisted\")\n"
     ]
    },
    {
     "name": "stdout",
     "output_type": "stream",
     "text": [
      "No data found for AFT after retries. Skipping.\n"
     ]
    },
    {
     "name": "stderr",
     "output_type": "stream",
     "text": [
      "$AFTR: possibly delisted; no price data found  (period=1y) (Yahoo error = \"No data found, symbol may be delisted\")\n",
      "$AFTR: possibly delisted; no price data found  (period=6mo) (Yahoo error = \"No data found, symbol may be delisted\")\n",
      "$AFTR: possibly delisted; no price data found  (period=1mo) (Yahoo error = \"No data found, symbol may be delisted\")\n"
     ]
    },
    {
     "name": "stdout",
     "output_type": "stream",
     "text": [
      "No data found for AFTR after retries. Skipping.\n"
     ]
    },
    {
     "name": "stderr",
     "output_type": "stream",
     "text": [
      "$AGAC: possibly delisted; no price data found  (period=1y) (Yahoo error = \"No data found, symbol may be delisted\")\n",
      "$AGAC: possibly delisted; no price data found  (period=6mo) (Yahoo error = \"No data found, symbol may be delisted\")\n",
      "$AGAC: possibly delisted; no price data found  (period=1mo) (Yahoo error = \"No data found, symbol may be delisted\")\n"
     ]
    },
    {
     "name": "stdout",
     "output_type": "stream",
     "text": [
      "No data found for AGAC after retries. Skipping.\n"
     ]
    },
    {
     "name": "stderr",
     "output_type": "stream",
     "text": [
      "$AGBA: possibly delisted; no price data found  (period=1y) (Yahoo error = \"No data found, symbol may be delisted\")\n",
      "$AGBA: possibly delisted; no price data found  (period=6mo) (Yahoo error = \"No data found, symbol may be delisted\")\n",
      "$AGBA: possibly delisted; no price data found  (period=1mo) (Yahoo error = \"No data found, symbol may be delisted\")\n"
     ]
    },
    {
     "name": "stdout",
     "output_type": "stream",
     "text": [
      "No data found for AGBA after retries. Skipping.\n",
      "Skipping AGD due to NaN values.\n"
     ]
    },
    {
     "name": "stderr",
     "output_type": "stream",
     "text": [
      "$AGE: possibly delisted; no price data found  (period=1y) (Yahoo error = \"No data found, symbol may be delisted\")\n",
      "$AGE: possibly delisted; no price data found  (period=6mo) (Yahoo error = \"No data found, symbol may be delisted\")\n",
      "$AGE: possibly delisted; no price data found  (period=1mo) (Yahoo error = \"No data found, symbol may be delisted\")\n"
     ]
    },
    {
     "name": "stdout",
     "output_type": "stream",
     "text": [
      "No data found for AGE after retries. Skipping.\n"
     ]
    },
    {
     "name": "stderr",
     "output_type": "stream",
     "text": [
      "$AGIL: possibly delisted; no price data found  (period=1y) (Yahoo error = \"No data found, symbol may be delisted\")\n",
      "$AGIL: possibly delisted; no price data found  (period=6mo) (Yahoo error = \"No data found, symbol may be delisted\")\n",
      "$AGIL: possibly delisted; no price data found  (period=1mo) (Yahoo error = \"No data found, symbol may be delisted\")\n"
     ]
    },
    {
     "name": "stdout",
     "output_type": "stream",
     "text": [
      "No data found for AGIL after retries. Skipping.\n"
     ]
    },
    {
     "name": "stderr",
     "output_type": "stream",
     "text": [
      "$AGLE: possibly delisted; no price data found  (period=1y) (Yahoo error = \"No data found, symbol may be delisted\")\n",
      "$AGLE: possibly delisted; no price data found  (period=6mo) (Yahoo error = \"No data found, symbol may be delisted\")\n",
      "$AGLE: possibly delisted; no price data found  (period=1mo) (Yahoo error = \"No data found, symbol may be delisted\")\n"
     ]
    },
    {
     "name": "stdout",
     "output_type": "stream",
     "text": [
      "No data found for AGLE after retries. Skipping.\n"
     ]
    },
    {
     "name": "stderr",
     "output_type": "stream",
     "text": [
      "$AGRX: possibly delisted; no price data found  (period=1y) (Yahoo error = \"No data found, symbol may be delisted\")\n",
      "$AGRX: possibly delisted; no price data found  (period=6mo) (Yahoo error = \"No data found, symbol may be delisted\")\n",
      "$AGRX: possibly delisted; no price data found  (period=1mo) (Yahoo error = \"No data found, symbol may be delisted\")\n"
     ]
    },
    {
     "name": "stdout",
     "output_type": "stream",
     "text": [
      "No data found for AGRX after retries. Skipping.\n"
     ]
    },
    {
     "name": "stderr",
     "output_type": "stream",
     "text": [
      "$AGTI: possibly delisted; no price data found  (period=1y) (Yahoo error = \"No data found, symbol may be delisted\")\n",
      "$AGTI: possibly delisted; no price data found  (period=6mo) (Yahoo error = \"No data found, symbol may be delisted\")\n",
      "$AGTI: possibly delisted; no price data found  (period=1mo) (Yahoo error = \"No data found, symbol may be delisted\")\n"
     ]
    },
    {
     "name": "stdout",
     "output_type": "stream",
     "text": [
      "No data found for AGTI after retries. Skipping.\n"
     ]
    },
    {
     "name": "stderr",
     "output_type": "stream",
     "text": [
      "$AIF: possibly delisted; no price data found  (period=1y) (Yahoo error = \"No data found, symbol may be delisted\")\n",
      "$AIF: possibly delisted; no price data found  (period=6mo) (Yahoo error = \"No data found, symbol may be delisted\")\n",
      "$AIF: possibly delisted; no price data found  (period=1mo) (Yahoo error = \"No data found, symbol may be delisted\")\n"
     ]
    },
    {
     "name": "stdout",
     "output_type": "stream",
     "text": [
      "No data found for AIF after retries. Skipping.\n"
     ]
    },
    {
     "name": "stderr",
     "output_type": "stream",
     "text": [
      "$AIH: possibly delisted; no price data found  (period=1y) (Yahoo error = \"No data found, symbol may be delisted\")\n",
      "$AIH: possibly delisted; no price data found  (period=6mo) (Yahoo error = \"No data found, symbol may be delisted\")\n",
      "$AIH: possibly delisted; no price data found  (period=1mo) (Yahoo error = \"No data found, symbol may be delisted\")\n"
     ]
    },
    {
     "name": "stdout",
     "output_type": "stream",
     "text": [
      "No data found for AIH after retries. Skipping.\n"
     ]
    },
    {
     "name": "stderr",
     "output_type": "stream",
     "text": [
      "$AINC: possibly delisted; no price data found  (period=1y) (Yahoo error = \"No data found, symbol may be delisted\")\n",
      "$AINC: possibly delisted; no price data found  (period=6mo) (Yahoo error = \"No data found, symbol may be delisted\")\n",
      "$AINC: possibly delisted; no price data found  (period=1mo) (Yahoo error = \"No data found, symbol may be delisted\")\n"
     ]
    },
    {
     "name": "stdout",
     "output_type": "stream",
     "text": [
      "No data found for AINC after retries. Skipping.\n",
      "Skipping AIO due to NaN values.\n"
     ]
    },
    {
     "name": "stderr",
     "output_type": "stream",
     "text": [
      "$AIRC: possibly delisted; no price data found  (period=1y) (Yahoo error = \"No data found, symbol may be delisted\")\n",
      "$AIRC: possibly delisted; no price data found  (period=6mo) (Yahoo error = \"No data found, symbol may be delisted\")\n",
      "$AIRC: possibly delisted; no price data found  (period=1mo) (Yahoo error = \"No data found, symbol may be delisted\")\n"
     ]
    },
    {
     "name": "stdout",
     "output_type": "stream",
     "text": [
      "No data found for AIRC after retries. Skipping.\n"
     ]
    },
    {
     "name": "stderr",
     "output_type": "stream",
     "text": [
      "$AIU: possibly delisted; no price data found  (period=1y) (Yahoo error = \"No data found, symbol may be delisted\")\n",
      "$AIU: possibly delisted; no price data found  (period=6mo) (Yahoo error = \"No data found, symbol may be delisted\")\n",
      "$AIU: possibly delisted; no price data found  (period=1mo) (Yahoo error = \"No data found, symbol may be delisted\")\n"
     ]
    },
    {
     "name": "stdout",
     "output_type": "stream",
     "text": [
      "No data found for AIU after retries. Skipping.\n"
     ]
    },
    {
     "name": "stderr",
     "output_type": "stream",
     "text": [
      "$AKLI: possibly delisted; no price data found  (period=1y) (Yahoo error = \"No data found, symbol may be delisted\")\n",
      "$AKLI: possibly delisted; no price data found  (period=6mo) (Yahoo error = \"No data found, symbol may be delisted\")\n",
      "$AKLI: possibly delisted; no price data found  (period=1mo) (Yahoo error = \"No data found, symbol may be delisted\")\n"
     ]
    },
    {
     "name": "stdout",
     "output_type": "stream",
     "text": [
      "No data found for AKLI after retries. Skipping.\n"
     ]
    },
    {
     "name": "stderr",
     "output_type": "stream",
     "text": [
      "$AKU: possibly delisted; no price data found  (period=1y) (Yahoo error = \"No data found, symbol may be delisted\")\n",
      "$AKU: possibly delisted; no price data found  (period=6mo) (Yahoo error = \"No data found, symbol may be delisted\")\n",
      "$AKU: possibly delisted; no price data found  (period=1mo) (Yahoo error = \"No data found, symbol may be delisted\")\n"
     ]
    },
    {
     "name": "stdout",
     "output_type": "stream",
     "text": [
      "No data found for AKU after retries. Skipping.\n"
     ]
    },
    {
     "name": "stderr",
     "output_type": "stream",
     "text": [
      "$ALCC: possibly delisted; no price data found  (period=1y) (Yahoo error = \"No data found, symbol may be delisted\")\n",
      "$ALCC: possibly delisted; no price data found  (period=6mo) (Yahoo error = \"No data found, symbol may be delisted\")\n",
      "$ALCC: possibly delisted; no price data found  (period=1mo) (Yahoo error = \"No data found, symbol may be delisted\")\n"
     ]
    },
    {
     "name": "stdout",
     "output_type": "stream",
     "text": [
      "No data found for ALCC after retries. Skipping.\n"
     ]
    },
    {
     "name": "stderr",
     "output_type": "stream",
     "text": [
      "$ALIM: possibly delisted; no price data found  (period=1y) (Yahoo error = \"No data found, symbol may be delisted\")\n",
      "$ALIM: possibly delisted; no price data found  (period=6mo) (Yahoo error = \"No data found, symbol may be delisted\")\n",
      "$ALIM: possibly delisted; no price data found  (period=1mo) (Yahoo error = \"No data found, symbol may be delisted\")\n"
     ]
    },
    {
     "name": "stdout",
     "output_type": "stream",
     "text": [
      "No data found for ALIM after retries. Skipping.\n"
     ]
    },
    {
     "name": "stderr",
     "output_type": "stream",
     "text": [
      "$ALLG: possibly delisted; no price data found  (period=1y) (Yahoo error = \"No data found, symbol may be delisted\")\n",
      "$ALLG: possibly delisted; no price data found  (period=6mo) (Yahoo error = \"No data found, symbol may be delisted\")\n",
      "$ALLG: possibly delisted; no price data found  (period=1mo) (Yahoo error = \"No data found, symbol may be delisted\")\n"
     ]
    },
    {
     "name": "stdout",
     "output_type": "stream",
     "text": [
      "No data found for ALLG after retries. Skipping.\n"
     ]
    },
    {
     "name": "stderr",
     "output_type": "stream",
     "text": [
      "$ALOR: possibly delisted; no price data found  (period=1y) (Yahoo error = \"No data found, symbol may be delisted\")\n",
      "$ALOR: possibly delisted; no price data found  (period=6mo) (Yahoo error = \"No data found, symbol may be delisted\")\n",
      "$ALOR: possibly delisted; no price data found  (period=1mo) (Yahoo error = \"No data found, symbol may be delisted\")\n"
     ]
    },
    {
     "name": "stdout",
     "output_type": "stream",
     "text": [
      "No data found for ALOR after retries. Skipping.\n"
     ]
    },
    {
     "name": "stderr",
     "output_type": "stream",
     "text": [
      "$ALPA: possibly delisted; no price data found  (period=1y) (Yahoo error = \"No data found, symbol may be delisted\")\n",
      "$ALPA: possibly delisted; no price data found  (period=6mo) (Yahoo error = \"No data found, symbol may be delisted\")\n",
      "$ALPA: possibly delisted; no price data found  (period=1mo) (Yahoo error = \"No data found, symbol may be delisted\")\n"
     ]
    },
    {
     "name": "stdout",
     "output_type": "stream",
     "text": [
      "No data found for ALPA after retries. Skipping.\n"
     ]
    },
    {
     "name": "stderr",
     "output_type": "stream",
     "text": [
      "$ALPN: possibly delisted; no price data found  (period=1y) (Yahoo error = \"No data found, symbol may be delisted\")\n",
      "$ALPN: possibly delisted; no price data found  (period=6mo) (Yahoo error = \"No data found, symbol may be delisted\")\n",
      "$ALPN: possibly delisted; no price data found  (period=1mo) (Yahoo error = \"No data found, symbol may be delisted\")\n"
     ]
    },
    {
     "name": "stdout",
     "output_type": "stream",
     "text": [
      "No data found for ALPN after retries. Skipping.\n"
     ]
    },
    {
     "name": "stderr",
     "output_type": "stream",
     "text": [
      "ALPS: Period '1y' is invalid, must be one of ['1d', '5d']\n",
      "ALPS: Period '6mo' is invalid, must be one of ['1d', '5d']\n",
      "ALPS: Period '1mo' is invalid, must be one of ['1d', '5d']\n"
     ]
    },
    {
     "name": "stdout",
     "output_type": "stream",
     "text": [
      "No data found for ALPS after retries. Skipping.\n"
     ]
    },
    {
     "name": "stderr",
     "output_type": "stream",
     "text": [
      "$ALTU: possibly delisted; no price data found  (period=1y) (Yahoo error = \"No data found, symbol may be delisted\")\n",
      "$ALTU: possibly delisted; no price data found  (period=6mo) (Yahoo error = \"No data found, symbol may be delisted\")\n",
      "$ALTU: possibly delisted; no price data found  (period=1mo) (Yahoo error = \"No data found, symbol may be delisted\")\n"
     ]
    },
    {
     "name": "stdout",
     "output_type": "stream",
     "text": [
      "No data found for ALTU after retries. Skipping.\n"
     ]
    },
    {
     "name": "stderr",
     "output_type": "stream",
     "text": [
      "$ALYA: possibly delisted; no price data found  (period=1y) (Yahoo error = \"No data found, symbol may be delisted\")\n",
      "$ALYA: possibly delisted; no price data found  (period=6mo) (Yahoo error = \"No data found, symbol may be delisted\")\n",
      "$ALYA: possibly delisted; no price data found  (period=1mo) (Yahoo error = \"No data found, symbol may be delisted\")\n"
     ]
    },
    {
     "name": "stdout",
     "output_type": "stream",
     "text": [
      "No data found for ALYA after retries. Skipping.\n"
     ]
    },
    {
     "name": "stderr",
     "output_type": "stream",
     "text": [
      "$AMAM: possibly delisted; no price data found  (period=1y) (Yahoo error = \"No data found, symbol may be delisted\")\n",
      "$AMAM: possibly delisted; no price data found  (period=6mo) (Yahoo error = \"No data found, symbol may be delisted\")\n",
      "$AMAM: possibly delisted; no price data found  (period=1mo) (Yahoo error = \"No data found, symbol may be delisted\")\n"
     ]
    },
    {
     "name": "stdout",
     "output_type": "stream",
     "text": [
      "No data found for AMAM after retries. Skipping.\n"
     ]
    },
    {
     "name": "stderr",
     "output_type": "stream",
     "text": [
      "$AMAO: possibly delisted; no price data found  (period=1y) (Yahoo error = \"No data found, symbol may be delisted\")\n",
      "$AMAO: possibly delisted; no price data found  (period=6mo) (Yahoo error = \"No data found, symbol may be delisted\")\n",
      "$AMAO: possibly delisted; no price data found  (period=1mo) (Yahoo error = \"No data found, symbol may be delisted\")\n"
     ]
    },
    {
     "name": "stdout",
     "output_type": "stream",
     "text": [
      "No data found for AMAO after retries. Skipping.\n"
     ]
    },
    {
     "name": "stderr",
     "output_type": "stream",
     "text": [
      "$AMEH: possibly delisted; no price data found  (period=1y) (Yahoo error = \"No data found, symbol may be delisted\")\n",
      "$AMEH: possibly delisted; no price data found  (period=6mo) (Yahoo error = \"No data found, symbol may be delisted\")\n",
      "$AMEH: possibly delisted; no price data found  (period=1mo) (Yahoo error = \"No data found, symbol may be delisted\")\n"
     ]
    },
    {
     "name": "stdout",
     "output_type": "stream",
     "text": [
      "No data found for AMEH after retries. Skipping.\n"
     ]
    },
    {
     "name": "stderr",
     "output_type": "stream",
     "text": [
      "$AMK: possibly delisted; no price data found  (period=1y) (Yahoo error = \"No data found, symbol may be delisted\")\n",
      "$AMK: possibly delisted; no price data found  (period=6mo) (Yahoo error = \"No data found, symbol may be delisted\")\n",
      "$AMK: possibly delisted; no price data found  (period=1mo) (Yahoo error = \"No data found, symbol may be delisted\")\n"
     ]
    },
    {
     "name": "stdout",
     "output_type": "stream",
     "text": [
      "No data found for AMK after retries. Skipping.\n"
     ]
    },
    {
     "name": "stderr",
     "output_type": "stream",
     "text": [
      "$AMNB: possibly delisted; no price data found  (period=1y) (Yahoo error = \"No data found, symbol may be delisted\")\n",
      "$AMNB: possibly delisted; no price data found  (period=6mo) (Yahoo error = \"No data found, symbol may be delisted\")\n",
      "$AMNB: possibly delisted; no price data found  (period=1mo) (Yahoo error = \"No data found, symbol may be delisted\")\n"
     ]
    },
    {
     "name": "stdout",
     "output_type": "stream",
     "text": [
      "No data found for AMNB after retries. Skipping.\n"
     ]
    },
    {
     "name": "stderr",
     "output_type": "stream",
     "text": [
      "$AMOT: possibly delisted; no price data found  (period=1y) (Yahoo error = \"No data found, symbol may be delisted\")\n",
      "$AMOT: possibly delisted; no price data found  (period=6mo) (Yahoo error = \"No data found, symbol may be delisted\")\n",
      "$AMOT: possibly delisted; no price data found  (period=1mo) (Yahoo error = \"No data found, symbol may be delisted\")\n"
     ]
    },
    {
     "name": "stdout",
     "output_type": "stream",
     "text": [
      "No data found for AMOT after retries. Skipping.\n"
     ]
    },
    {
     "name": "stderr",
     "output_type": "stream",
     "text": [
      "AMRS: Period '1y' is invalid, must be one of ['1d', '5d']\n",
      "AMRS: Period '6mo' is invalid, must be one of ['1d', '5d']\n",
      "AMRS: Period '1mo' is invalid, must be one of ['1d', '5d']\n"
     ]
    },
    {
     "name": "stdout",
     "output_type": "stream",
     "text": [
      "No data found for AMRS after retries. Skipping.\n"
     ]
    },
    {
     "name": "stderr",
     "output_type": "stream",
     "text": [
      "$AMSWA: possibly delisted; no price data found  (period=1y) (Yahoo error = \"No data found, symbol may be delisted\")\n",
      "$AMSWA: possibly delisted; no price data found  (period=6mo) (Yahoo error = \"No data found, symbol may be delisted\")\n",
      "$AMSWA: possibly delisted; no price data found  (period=1mo) (Yahoo error = \"No data found, symbol may be delisted\")\n"
     ]
    },
    {
     "name": "stdout",
     "output_type": "stream",
     "text": [
      "No data found for AMSWA after retries. Skipping.\n"
     ]
    },
    {
     "name": "stderr",
     "output_type": "stream",
     "text": [
      "$AMTI: possibly delisted; no price data found  (period=1y) (Yahoo error = \"No data found, symbol may be delisted\")\n",
      "$AMTI: possibly delisted; no price data found  (period=6mo) (Yahoo error = \"No data found, symbol may be delisted\")\n",
      "$AMTI: possibly delisted; no price data found  (period=1mo) (Yahoo error = \"No data found, symbol may be delisted\")\n"
     ]
    },
    {
     "name": "stdout",
     "output_type": "stream",
     "text": [
      "No data found for AMTI after retries. Skipping.\n"
     ]
    },
    {
     "name": "stderr",
     "output_type": "stream",
     "text": [
      "$ANZU: possibly delisted; no price data found  (period=1y) (Yahoo error = \"No data found, symbol may be delisted\")\n",
      "$ANZU: possibly delisted; no price data found  (period=6mo) (Yahoo error = \"No data found, symbol may be delisted\")\n",
      "$ANZU: possibly delisted; no price data found  (period=1mo) (Yahoo error = \"No data found, symbol may be delisted\")\n"
     ]
    },
    {
     "name": "stdout",
     "output_type": "stream",
     "text": [
      "No data found for ANZU after retries. Skipping.\n"
     ]
    },
    {
     "name": "stderr",
     "output_type": "stream",
     "text": [
      "AONC: Period '1y' is invalid, must be one of ['1d', '5d', '1mo', '3mo', '6mo', 'ytd', 'max']\n",
      "$APAC: possibly delisted; no price data found  (period=1y) (Yahoo error = \"No data found, symbol may be delisted\")\n",
      "$APAC: possibly delisted; no price data found  (period=6mo) (Yahoo error = \"No data found, symbol may be delisted\")\n",
      "$APAC: possibly delisted; no price data found  (period=1mo) (Yahoo error = \"No data found, symbol may be delisted\")\n"
     ]
    },
    {
     "name": "stdout",
     "output_type": "stream",
     "text": [
      "No data found for APAC after retries. Skipping.\n"
     ]
    },
    {
     "name": "stderr",
     "output_type": "stream",
     "text": [
      "$APCA: possibly delisted; no price data found  (period=1y) (Yahoo error = \"No data found, symbol may be delisted\")\n",
      "$APCA: possibly delisted; no price data found  (period=6mo) (Yahoo error = \"No data found, symbol may be delisted\")\n",
      "$APCA: possibly delisted; no price data found  (period=1mo) (Yahoo error = \"No data found, symbol may be delisted\")\n"
     ]
    },
    {
     "name": "stdout",
     "output_type": "stream",
     "text": [
      "No data found for APCA after retries. Skipping.\n"
     ]
    },
    {
     "name": "stderr",
     "output_type": "stream",
     "text": [
      "$APE: possibly delisted; no price data found  (period=1y) (Yahoo error = \"No data found, symbol may be delisted\")\n",
      "$APE: possibly delisted; no price data found  (period=6mo) (Yahoo error = \"No data found, symbol may be delisted\")\n",
      "$APE: possibly delisted; no price data found  (period=1mo) (Yahoo error = \"No data found, symbol may be delisted\")\n"
     ]
    },
    {
     "name": "stdout",
     "output_type": "stream",
     "text": [
      "No data found for APE after retries. Skipping.\n"
     ]
    },
    {
     "name": "stderr",
     "output_type": "stream",
     "text": [
      "$APGB: possibly delisted; no price data found  (period=1y) (Yahoo error = \"No data found, symbol may be delisted\")\n",
      "$APGB: possibly delisted; no price data found  (period=6mo) (Yahoo error = \"No data found, symbol may be delisted\")\n",
      "$APGB: possibly delisted; no price data found  (period=1mo) (Yahoo error = \"No data found, symbol may be delisted\")\n"
     ]
    },
    {
     "name": "stdout",
     "output_type": "stream",
     "text": [
      "No data found for APGB after retries. Skipping.\n"
     ]
    },
    {
     "name": "stderr",
     "output_type": "stream",
     "text": [
      "$APGN: possibly delisted; no price data found  (period=1y) (Yahoo error = \"No data found, symbol may be delisted\")\n",
      "$APGN: possibly delisted; no price data found  (period=6mo) (Yahoo error = \"No data found, symbol may be delisted\")\n",
      "$APGN: possibly delisted; no price data found  (period=1mo) (Yahoo error = \"No data found, symbol may be delisted\")\n"
     ]
    },
    {
     "name": "stdout",
     "output_type": "stream",
     "text": [
      "No data found for APGN after retries. Skipping.\n",
      "Skipping APLMW due to NaN values.\n"
     ]
    },
    {
     "name": "stderr",
     "output_type": "stream",
     "text": [
      "$APMI: possibly delisted; no price data found  (period=1y) (Yahoo error = \"No data found, symbol may be delisted\")\n",
      "$APMI: possibly delisted; no price data found  (period=6mo) (Yahoo error = \"No data found, symbol may be delisted\")\n",
      "$APMI: possibly delisted; no price data found  (period=1mo) (Yahoo error = \"No data found, symbol may be delisted\")\n"
     ]
    },
    {
     "name": "stdout",
     "output_type": "stream",
     "text": [
      "No data found for APMI after retries. Skipping.\n"
     ]
    },
    {
     "name": "stderr",
     "output_type": "stream",
     "text": [
      "$APPH: possibly delisted; no price data found  (period=1y) (Yahoo error = \"No data found, symbol may be delisted\")\n",
      "$APPH: possibly delisted; no price data found  (period=6mo) (Yahoo error = \"No data found, symbol may be delisted\")\n",
      "$APPH: possibly delisted; no price data found  (period=1mo) (Yahoo error = \"No data found, symbol may be delisted\")\n"
     ]
    },
    {
     "name": "stdout",
     "output_type": "stream",
     "text": [
      "No data found for APPH after retries. Skipping.\n"
     ]
    },
    {
     "name": "stderr",
     "output_type": "stream",
     "text": [
      "$APRN: possibly delisted; no price data found  (period=1y) (Yahoo error = \"No data found, symbol may be delisted\")\n",
      "$APRN: possibly delisted; no price data found  (period=6mo) (Yahoo error = \"No data found, symbol may be delisted\")\n",
      "$APRN: possibly delisted; no price data found  (period=1mo) (Yahoo error = \"No data found, symbol may be delisted\")\n"
     ]
    },
    {
     "name": "stdout",
     "output_type": "stream",
     "text": [
      "No data found for APRN after retries. Skipping.\n"
     ]
    },
    {
     "name": "stderr",
     "output_type": "stream",
     "text": [
      "$APTM: possibly delisted; no price data found  (period=1y) (Yahoo error = \"No data found, symbol may be delisted\")\n",
      "$APTM: possibly delisted; no price data found  (period=6mo) (Yahoo error = \"No data found, symbol may be delisted\")\n",
      "$APTM: possibly delisted; no price data found  (period=1mo) (Yahoo error = \"No data found, symbol may be delisted\")\n"
     ]
    },
    {
     "name": "stdout",
     "output_type": "stream",
     "text": [
      "No data found for APTM after retries. Skipping.\n"
     ]
    },
    {
     "name": "stderr",
     "output_type": "stream",
     "text": [
      "$ARAV: possibly delisted; no price data found  (period=1y) (Yahoo error = \"No data found, symbol may be delisted\")\n",
      "$ARAV: possibly delisted; no price data found  (period=6mo) (Yahoo error = \"No data found, symbol may be delisted\")\n",
      "$ARAV: possibly delisted; no price data found  (period=1mo) (Yahoo error = \"No data found, symbol may be delisted\")\n"
     ]
    },
    {
     "name": "stdout",
     "output_type": "stream",
     "text": [
      "No data found for ARAV after retries. Skipping.\n"
     ]
    },
    {
     "name": "stderr",
     "output_type": "stream",
     "text": [
      "$ARBG: possibly delisted; no price data found  (period=1y) (Yahoo error = \"No data found, symbol may be delisted\")\n",
      "$ARBG: possibly delisted; no price data found  (period=6mo) (Yahoo error = \"No data found, symbol may be delisted\")\n",
      "$ARBG: possibly delisted; no price data found  (period=1mo) (Yahoo error = \"No data found, symbol may be delisted\")\n"
     ]
    },
    {
     "name": "stdout",
     "output_type": "stream",
     "text": [
      "No data found for ARBG after retries. Skipping.\n"
     ]
    },
    {
     "name": "stderr",
     "output_type": "stream",
     "text": [
      "$ARCE: possibly delisted; no price data found  (period=1y) (Yahoo error = \"No data found, symbol may be delisted\")\n",
      "$ARCE: possibly delisted; no price data found  (period=6mo) (Yahoo error = \"No data found, symbol may be delisted\")\n",
      "$ARCE: possibly delisted; no price data found  (period=1mo) (Yahoo error = \"No data found, symbol may be delisted\")\n"
     ]
    },
    {
     "name": "stdout",
     "output_type": "stream",
     "text": [
      "No data found for ARCE after retries. Skipping.\n"
     ]
    },
    {
     "name": "stderr",
     "output_type": "stream",
     "text": [
      "$ARGO: possibly delisted; no price data found  (period=1y) (Yahoo error = \"No data found, symbol may be delisted\")\n",
      "$ARGO: possibly delisted; no price data found  (period=6mo) (Yahoo error = \"No data found, symbol may be delisted\")\n",
      "$ARGO: possibly delisted; no price data found  (period=1mo) (Yahoo error = \"No data found, symbol may be delisted\")\n"
     ]
    },
    {
     "name": "stdout",
     "output_type": "stream",
     "text": [
      "No data found for ARGO after retries. Skipping.\n"
     ]
    },
    {
     "name": "stderr",
     "output_type": "stream",
     "text": [
      "$ARIZ: possibly delisted; no price data found  (period=1y) (Yahoo error = \"No data found, symbol may be delisted\")\n",
      "$ARIZ: possibly delisted; no price data found  (period=6mo) (Yahoo error = \"No data found, symbol may be delisted\")\n",
      "$ARIZ: possibly delisted; no price data found  (period=1mo) (Yahoo error = \"No data found, symbol may be delisted\")\n"
     ]
    },
    {
     "name": "stdout",
     "output_type": "stream",
     "text": [
      "No data found for ARIZ after retries. Skipping.\n"
     ]
    },
    {
     "name": "stderr",
     "output_type": "stream",
     "text": [
      "$ARNC: possibly delisted; no price data found  (period=1y) (Yahoo error = \"No data found, symbol may be delisted\")\n",
      "$ARNC: possibly delisted; no price data found  (period=6mo) (Yahoo error = \"No data found, symbol may be delisted\")\n",
      "$ARNC: possibly delisted; no price data found  (period=1mo) (Yahoo error = \"No data found, symbol may be delisted\")\n"
     ]
    },
    {
     "name": "stdout",
     "output_type": "stream",
     "text": [
      "No data found for ARNC after retries. Skipping.\n"
     ]
    },
    {
     "name": "stderr",
     "output_type": "stream",
     "text": [
      "ARRW: Period '1y' is invalid, must be one of ['1d', '5d']\n",
      "ARRW: Period '6mo' is invalid, must be one of ['1d', '5d']\n",
      "ARRW: Period '1mo' is invalid, must be one of ['1d', '5d']\n"
     ]
    },
    {
     "name": "stdout",
     "output_type": "stream",
     "text": [
      "No data found for ARRW after retries. Skipping.\n"
     ]
    },
    {
     "name": "stderr",
     "output_type": "stream",
     "text": [
      "$ARTE: possibly delisted; no price data found  (period=1y) (Yahoo error = \"No data found, symbol may be delisted\")\n",
      "$ARTE: possibly delisted; no price data found  (period=6mo) (Yahoo error = \"No data found, symbol may be delisted\")\n",
      "$ARTE: possibly delisted; no price data found  (period=1mo) (Yahoo error = \"No data found, symbol may be delisted\")\n"
     ]
    },
    {
     "name": "stdout",
     "output_type": "stream",
     "text": [
      "No data found for ARTE after retries. Skipping.\n"
     ]
    },
    {
     "name": "stderr",
     "output_type": "stream",
     "text": [
      "$ARVL: possibly delisted; no price data found  (period=1y) (Yahoo error = \"No data found, symbol may be delisted\")\n",
      "$ARVL: possibly delisted; no price data found  (period=6mo) (Yahoo error = \"No data found, symbol may be delisted\")\n",
      "$ARVL: possibly delisted; no price data found  (period=1mo) (Yahoo error = \"No data found, symbol may be delisted\")\n"
     ]
    },
    {
     "name": "stdout",
     "output_type": "stream",
     "text": [
      "No data found for ARVL after retries. Skipping.\n"
     ]
    },
    {
     "name": "stderr",
     "output_type": "stream",
     "text": [
      "$ARYD: possibly delisted; no price data found  (period=1y) (Yahoo error = \"No data found, symbol may be delisted\")\n",
      "$ARYD: possibly delisted; no price data found  (period=6mo) (Yahoo error = \"No data found, symbol may be delisted\")\n",
      "$ARYD: possibly delisted; no price data found  (period=1mo) (Yahoo error = \"No data found, symbol may be delisted\")\n"
     ]
    },
    {
     "name": "stdout",
     "output_type": "stream",
     "text": [
      "No data found for ARYD after retries. Skipping.\n"
     ]
    },
    {
     "name": "stderr",
     "output_type": "stream",
     "text": [
      "$ARYE: possibly delisted; no price data found  (period=1y) (Yahoo error = \"No data found, symbol may be delisted\")\n",
      "$ARYE: possibly delisted; no price data found  (period=6mo) (Yahoo error = \"No data found, symbol may be delisted\")\n",
      "$ARYE: possibly delisted; no price data found  (period=1mo) (Yahoo error = \"No data found, symbol may be delisted\")\n"
     ]
    },
    {
     "name": "stdout",
     "output_type": "stream",
     "text": [
      "No data found for ARYE after retries. Skipping.\n"
     ]
    },
    {
     "name": "stderr",
     "output_type": "stream",
     "text": [
      "$ASCA: possibly delisted; no price data found  (period=1y) (Yahoo error = \"No data found, symbol may be delisted\")\n",
      "$ASCA: possibly delisted; no price data found  (period=6mo) (Yahoo error = \"No data found, symbol may be delisted\")\n",
      "$ASCA: possibly delisted; no price data found  (period=1mo) (Yahoo error = \"No data found, symbol may be delisted\")\n"
     ]
    },
    {
     "name": "stdout",
     "output_type": "stream",
     "text": [
      "No data found for ASCA after retries. Skipping.\n",
      "Skipping ASGI due to NaN values.\n"
     ]
    },
    {
     "name": "stderr",
     "output_type": "stream",
     "text": [
      "$ASLN: possibly delisted; no price data found  (period=1y) (Yahoo error = \"No data found, symbol may be delisted\")\n",
      "$ASLN: possibly delisted; no price data found  (period=6mo) (Yahoo error = \"No data found, symbol may be delisted\")\n",
      "$ASLN: possibly delisted; no price data found  (period=1mo) (Yahoo error = \"No data found, symbol may be delisted\")\n"
     ]
    },
    {
     "name": "stdout",
     "output_type": "stream",
     "text": [
      "No data found for ASLN after retries. Skipping.\n"
     ]
    },
    {
     "name": "stderr",
     "output_type": "stream",
     "text": [
      "$ASPA: possibly delisted; no price data found  (period=1y) (Yahoo error = \"No data found, symbol may be delisted\")\n",
      "$ASPA: possibly delisted; no price data found  (period=6mo) (Yahoo error = \"No data found, symbol may be delisted\")\n",
      "$ASPA: possibly delisted; no price data found  (period=1mo) (Yahoo error = \"No data found, symbol may be delisted\")\n"
     ]
    },
    {
     "name": "stdout",
     "output_type": "stream",
     "text": [
      "No data found for ASPA after retries. Skipping.\n"
     ]
    },
    {
     "name": "stderr",
     "output_type": "stream",
     "text": [
      "$ASTR: possibly delisted; no price data found  (period=1y) (Yahoo error = \"No data found, symbol may be delisted\")\n",
      "$ASTR: possibly delisted; no price data found  (period=6mo) (Yahoo error = \"No data found, symbol may be delisted\")\n",
      "$ASTR: possibly delisted; no price data found  (period=1mo) (Yahoo error = \"No data found, symbol may be delisted\")\n"
     ]
    },
    {
     "name": "stdout",
     "output_type": "stream",
     "text": [
      "No data found for ASTR after retries. Skipping.\n"
     ]
    },
    {
     "name": "stderr",
     "output_type": "stream",
     "text": [
      "$ASXC: possibly delisted; no price data found  (period=1y) (Yahoo error = \"No data found, symbol may be delisted\")\n",
      "$ASXC: possibly delisted; no price data found  (period=6mo) (Yahoo error = \"No data found, symbol may be delisted\")\n",
      "$ASXC: possibly delisted; no price data found  (period=1mo) (Yahoo error = \"No data found, symbol may be delisted\")\n"
     ]
    },
    {
     "name": "stdout",
     "output_type": "stream",
     "text": [
      "No data found for ASXC after retries. Skipping.\n"
     ]
    },
    {
     "name": "stderr",
     "output_type": "stream",
     "text": [
      "$ATAK: possibly delisted; no price data found  (period=1y) (Yahoo error = \"No data found, symbol may be delisted\")\n",
      "$ATAK: possibly delisted; no price data found  (period=6mo) (Yahoo error = \"No data found, symbol may be delisted\")\n",
      "$ATAK: possibly delisted; no price data found  (period=1mo) (Yahoo error = \"No data found, symbol may be delisted\")\n"
     ]
    },
    {
     "name": "stdout",
     "output_type": "stream",
     "text": [
      "No data found for ATAK after retries. Skipping.\n"
     ]
    },
    {
     "name": "stderr",
     "output_type": "stream",
     "text": [
      "$ATAQ: possibly delisted; no price data found  (period=1y) (Yahoo error = \"No data found, symbol may be delisted\")\n",
      "$ATAQ: possibly delisted; no price data found  (period=6mo) (Yahoo error = \"No data found, symbol may be delisted\")\n",
      "$ATAQ: possibly delisted; no price data found  (period=1mo) (Yahoo error = \"No data found, symbol may be delisted\")\n"
     ]
    },
    {
     "name": "stdout",
     "output_type": "stream",
     "text": [
      "No data found for ATAQ after retries. Skipping.\n"
     ]
    },
    {
     "name": "stderr",
     "output_type": "stream",
     "text": [
      "$ATHX: possibly delisted; no price data found  (period=1y)\n",
      "$ATHX: possibly delisted; no price data found  (period=6mo)\n",
      "$ATHX: possibly delisted; no price data found  (period=1mo)\n"
     ]
    },
    {
     "name": "stdout",
     "output_type": "stream",
     "text": [
      "No data found for ATHX after retries. Skipping.\n"
     ]
    },
    {
     "name": "stderr",
     "output_type": "stream",
     "text": [
      "$ATRI: possibly delisted; no price data found  (period=1y) (Yahoo error = \"No data found, symbol may be delisted\")\n",
      "$ATRI: possibly delisted; no price data found  (period=6mo) (Yahoo error = \"No data found, symbol may be delisted\")\n",
      "$ATRI: possibly delisted; no price data found  (period=1mo) (Yahoo error = \"No data found, symbol may be delisted\")\n"
     ]
    },
    {
     "name": "stdout",
     "output_type": "stream",
     "text": [
      "No data found for ATRI after retries. Skipping.\n"
     ]
    },
    {
     "name": "stderr",
     "output_type": "stream",
     "text": [
      "$ATTO: possibly delisted; no price data found  (period=1y) (Yahoo error = \"No data found, symbol may be delisted\")\n",
      "$ATTO: possibly delisted; no price data found  (period=6mo) (Yahoo error = \"No data found, symbol may be delisted\")\n",
      "$ATTO: possibly delisted; no price data found  (period=1mo) (Yahoo error = \"No data found, symbol may be delisted\")\n"
     ]
    },
    {
     "name": "stdout",
     "output_type": "stream",
     "text": [
      "No data found for ATTO after retries. Skipping.\n"
     ]
    },
    {
     "name": "stderr",
     "output_type": "stream",
     "text": [
      "$ATVI: possibly delisted; no price data found  (period=1y) (Yahoo error = \"No data found, symbol may be delisted\")\n",
      "$ATVI: possibly delisted; no price data found  (period=6mo) (Yahoo error = \"No data found, symbol may be delisted\")\n",
      "$ATVI: possibly delisted; no price data found  (period=1mo) (Yahoo error = \"No data found, symbol may be delisted\")\n"
     ]
    },
    {
     "name": "stdout",
     "output_type": "stream",
     "text": [
      "No data found for ATVI after retries. Skipping.\n"
     ]
    },
    {
     "name": "stderr",
     "output_type": "stream",
     "text": [
      "$AUGX: possibly delisted; no price data found  (period=1y) (Yahoo error = \"No data found, symbol may be delisted\")\n",
      "$AUGX: possibly delisted; no price data found  (period=6mo) (Yahoo error = \"No data found, symbol may be delisted\")\n",
      "$AUGX: possibly delisted; no price data found  (period=1mo) (Yahoo error = \"No data found, symbol may be delisted\")\n"
     ]
    },
    {
     "name": "stdout",
     "output_type": "stream",
     "text": [
      "No data found for AUGX after retries. Skipping.\n"
     ]
    },
    {
     "name": "stderr",
     "output_type": "stream",
     "text": [
      "$AULT: possibly delisted; no price data found  (period=1y) (Yahoo error = \"No data found, symbol may be delisted\")\n",
      "$AULT: possibly delisted; no price data found  (period=6mo) (Yahoo error = \"No data found, symbol may be delisted\")\n",
      "$AULT: possibly delisted; no price data found  (period=1mo) (Yahoo error = \"No data found, symbol may be delisted\")\n"
     ]
    },
    {
     "name": "stdout",
     "output_type": "stream",
     "text": [
      "No data found for AULT after retries. Skipping.\n"
     ]
    },
    {
     "name": "stderr",
     "output_type": "stream",
     "text": [
      "$AURC: possibly delisted; no price data found  (period=1y) (Yahoo error = \"No data found, symbol may be delisted\")\n",
      "$AURC: possibly delisted; no price data found  (period=6mo) (Yahoo error = \"No data found, symbol may be delisted\")\n",
      "$AURC: possibly delisted; no price data found  (period=1mo) (Yahoo error = \"No data found, symbol may be delisted\")\n"
     ]
    },
    {
     "name": "stdout",
     "output_type": "stream",
     "text": [
      "No data found for AURC after retries. Skipping.\n"
     ]
    },
    {
     "name": "stderr",
     "output_type": "stream",
     "text": [
      "$AUVI: possibly delisted; no price data found  (period=1y) (Yahoo error = \"No data found, symbol may be delisted\")\n",
      "$AUVI: possibly delisted; no price data found  (period=6mo) (Yahoo error = \"No data found, symbol may be delisted\")\n",
      "$AUVI: possibly delisted; no price data found  (period=1mo) (Yahoo error = \"No data found, symbol may be delisted\")\n"
     ]
    },
    {
     "name": "stdout",
     "output_type": "stream",
     "text": [
      "No data found for AUVI after retries. Skipping.\n"
     ]
    },
    {
     "name": "stderr",
     "output_type": "stream",
     "text": [
      "$AVHI: possibly delisted; no price data found  (period=1y) (Yahoo error = \"No data found, symbol may be delisted\")\n",
      "$AVHI: possibly delisted; no price data found  (period=6mo) (Yahoo error = \"No data found, symbol may be delisted\")\n",
      "$AVHI: possibly delisted; no price data found  (period=1mo) (Yahoo error = \"No data found, symbol may be delisted\")\n"
     ]
    },
    {
     "name": "stdout",
     "output_type": "stream",
     "text": [
      "No data found for AVHI after retries. Skipping.\n"
     ]
    },
    {
     "name": "stderr",
     "output_type": "stream",
     "text": [
      "$AVID: possibly delisted; no price data found  (period=1y) (Yahoo error = \"No data found, symbol may be delisted\")\n",
      "$AVID: possibly delisted; no price data found  (period=6mo) (Yahoo error = \"No data found, symbol may be delisted\")\n",
      "$AVID: possibly delisted; no price data found  (period=1mo) (Yahoo error = \"No data found, symbol may be delisted\")\n"
     ]
    },
    {
     "name": "stdout",
     "output_type": "stream",
     "text": [
      "No data found for AVID after retries. Skipping.\n"
     ]
    },
    {
     "name": "stderr",
     "output_type": "stream",
     "text": [
      "$AVRO: possibly delisted; no price data found  (period=1y) (Yahoo error = \"No data found, symbol may be delisted\")\n",
      "$AVRO: possibly delisted; no price data found  (period=6mo) (Yahoo error = \"No data found, symbol may be delisted\")\n",
      "$AVRO: possibly delisted; no price data found  (period=1mo) (Yahoo error = \"No data found, symbol may be delisted\")\n"
     ]
    },
    {
     "name": "stdout",
     "output_type": "stream",
     "text": [
      "No data found for AVRO after retries. Skipping.\n"
     ]
    },
    {
     "name": "stderr",
     "output_type": "stream",
     "text": [
      "AVTA: Period '1y' is invalid, must be one of ['1d', '5d']\n",
      "AVTA: Period '6mo' is invalid, must be one of ['1d', '5d']\n",
      "AVTA: Period '1mo' is invalid, must be one of ['1d', '5d']\n"
     ]
    },
    {
     "name": "stdout",
     "output_type": "stream",
     "text": [
      "No data found for AVTA after retries. Skipping.\n"
     ]
    },
    {
     "name": "stderr",
     "output_type": "stream",
     "text": [
      "$AXLA: possibly delisted; no price data found  (period=1y) (Yahoo error = \"No data found, symbol may be delisted\")\n",
      "$AXLA: possibly delisted; no price data found  (period=6mo) (Yahoo error = \"No data found, symbol may be delisted\")\n",
      "$AXLA: possibly delisted; no price data found  (period=1mo) (Yahoo error = \"No data found, symbol may be delisted\")\n"
     ]
    },
    {
     "name": "stdout",
     "output_type": "stream",
     "text": [
      "No data found for AXLA after retries. Skipping.\n"
     ]
    },
    {
     "name": "stderr",
     "output_type": "stream",
     "text": [
      "$AYX: possibly delisted; no price data found  (period=1y) (Yahoo error = \"No data found, symbol may be delisted\")\n",
      "$AYX: possibly delisted; no price data found  (period=6mo) (Yahoo error = \"No data found, symbol may be delisted\")\n",
      "$AYX: possibly delisted; no price data found  (period=1mo) (Yahoo error = \"No data found, symbol may be delisted\")\n"
     ]
    },
    {
     "name": "stdout",
     "output_type": "stream",
     "text": [
      "No data found for AYX after retries. Skipping.\n"
     ]
    },
    {
     "name": "stderr",
     "output_type": "stream",
     "text": [
      "$AZYO: possibly delisted; no price data found  (period=1y) (Yahoo error = \"No data found, symbol may be delisted\")\n",
      "$AZYO: possibly delisted; no price data found  (period=6mo) (Yahoo error = \"No data found, symbol may be delisted\")\n",
      "$AZYO: possibly delisted; no price data found  (period=1mo) (Yahoo error = \"No data found, symbol may be delisted\")\n"
     ]
    },
    {
     "name": "stdout",
     "output_type": "stream",
     "text": [
      "No data found for AZYO after retries. Skipping.\n"
     ]
    },
    {
     "name": "stderr",
     "output_type": "stream",
     "text": [
      "$BACA: possibly delisted; no price data found  (period=1y) (Yahoo error = \"No data found, symbol may be delisted\")\n",
      "$BACA: possibly delisted; no price data found  (period=6mo) (Yahoo error = \"No data found, symbol may be delisted\")\n",
      "$BACA: possibly delisted; no price data found  (period=1mo) (Yahoo error = \"No data found, symbol may be delisted\")\n"
     ]
    },
    {
     "name": "stdout",
     "output_type": "stream",
     "text": [
      "No data found for BACA after retries. Skipping.\n",
      "Skipping BCAT due to NaN values.\n"
     ]
    },
    {
     "name": "stderr",
     "output_type": "stream",
     "text": [
      "$BCEL: possibly delisted; no price data found  (period=1y) (Yahoo error = \"No data found, symbol may be delisted\")\n",
      "$BCEL: possibly delisted; no price data found  (period=6mo) (Yahoo error = \"No data found, symbol may be delisted\")\n",
      "$BCEL: possibly delisted; no price data found  (period=1mo) (Yahoo error = \"No data found, symbol may be delisted\")\n"
     ]
    },
    {
     "name": "stdout",
     "output_type": "stream",
     "text": [
      "No data found for BCEL after retries. Skipping.\n"
     ]
    },
    {
     "name": "stderr",
     "output_type": "stream",
     "text": [
      "BETS: Period '1y' is invalid, must be one of ['1d', '5d']\n",
      "BETS: Period '6mo' is invalid, must be one of ['1d', '5d']\n",
      "BETS: Period '1mo' is invalid, must be one of ['1d', '5d']\n"
     ]
    },
    {
     "name": "stdout",
     "output_type": "stream",
     "text": [
      "No data found for BETS after retries. Skipping.\n"
     ]
    },
    {
     "name": "stderr",
     "output_type": "stream",
     "text": [
      "$BGRY: possibly delisted; no price data found  (period=1y) (Yahoo error = \"No data found, symbol may be delisted\")\n",
      "$BGRY: possibly delisted; no price data found  (period=6mo) (Yahoo error = \"No data found, symbol may be delisted\")\n",
      "$BGRY: possibly delisted; no price data found  (period=1mo) (Yahoo error = \"No data found, symbol may be delisted\")\n"
     ]
    },
    {
     "name": "stdout",
     "output_type": "stream",
     "text": [
      "No data found for BGRY after retries. Skipping.\n",
      "Skipping BHFAL due to NaN values.\n"
     ]
    },
    {
     "name": "stderr",
     "output_type": "stream",
     "text": [
      "$BHG: possibly delisted; no price data found  (period=1y) (Yahoo error = \"No data found, symbol may be delisted\")\n",
      "$BHG: possibly delisted; no price data found  (period=6mo) (Yahoo error = \"No data found, symbol may be delisted\")\n",
      "$BHG: possibly delisted; no price data found  (period=1mo) (Yahoo error = \"No data found, symbol may be delisted\")\n"
     ]
    },
    {
     "name": "stdout",
     "output_type": "stream",
     "text": [
      "No data found for BHG after retries. Skipping.\n"
     ]
    },
    {
     "name": "stderr",
     "output_type": "stream",
     "text": [
      "$BIG: possibly delisted; no price data found  (period=1y) (Yahoo error = \"No data found, symbol may be delisted\")\n",
      "$BIG: possibly delisted; no price data found  (period=6mo) (Yahoo error = \"No data found, symbol may be delisted\")\n",
      "$BIG: possibly delisted; no price data found  (period=1mo) (Yahoo error = \"No data found, symbol may be delisted\")\n"
     ]
    },
    {
     "name": "stdout",
     "output_type": "stream",
     "text": [
      "No data found for BIG after retries. Skipping.\n"
     ]
    },
    {
     "name": "stderr",
     "output_type": "stream",
     "text": [
      "$BIOC: possibly delisted; no price data found  (period=1y) (Yahoo error = \"No data found, symbol may be delisted\")\n",
      "$BIOC: possibly delisted; no price data found  (period=6mo) (Yahoo error = \"No data found, symbol may be delisted\")\n",
      "$BIOC: possibly delisted; no price data found  (period=1mo) (Yahoo error = \"No data found, symbol may be delisted\")\n"
     ]
    },
    {
     "name": "stdout",
     "output_type": "stream",
     "text": [
      "No data found for BIOC after retries. Skipping.\n"
     ]
    },
    {
     "name": "stderr",
     "output_type": "stream",
     "text": [
      "$BIOL: possibly delisted; no price data found  (period=1y) (Yahoo error = \"No data found, symbol may be delisted\")\n",
      "$BIOL: possibly delisted; no price data found  (period=6mo) (Yahoo error = \"No data found, symbol may be delisted\")\n",
      "$BIOL: possibly delisted; no price data found  (period=1mo) (Yahoo error = \"No data found, symbol may be delisted\")\n"
     ]
    },
    {
     "name": "stdout",
     "output_type": "stream",
     "text": [
      "No data found for BIOL after retries. Skipping.\n"
     ]
    },
    {
     "name": "stderr",
     "output_type": "stream",
     "text": [
      "$BIOS: possibly delisted; no price data found  (period=1y) (Yahoo error = \"No data found, symbol may be delisted\")\n",
      "$BIOS: possibly delisted; no price data found  (period=6mo) (Yahoo error = \"No data found, symbol may be delisted\")\n",
      "$BIOS: possibly delisted; no price data found  (period=1mo) (Yahoo error = \"No data found, symbol may be delisted\")\n"
     ]
    },
    {
     "name": "stdout",
     "output_type": "stream",
     "text": [
      "No data found for BIOS after retries. Skipping.\n"
     ]
    },
    {
     "name": "stderr",
     "output_type": "stream",
     "text": [
      "$BITE: possibly delisted; no price data found  (period=1y) (Yahoo error = \"No data found, symbol may be delisted\")\n",
      "$BITE: possibly delisted; no price data found  (period=6mo) (Yahoo error = \"No data found, symbol may be delisted\")\n",
      "$BITE: possibly delisted; no price data found  (period=1mo) (Yahoo error = \"No data found, symbol may be delisted\")\n"
     ]
    },
    {
     "name": "stdout",
     "output_type": "stream",
     "text": [
      "No data found for BITE after retries. Skipping.\n"
     ]
    },
    {
     "name": "stderr",
     "output_type": "stream",
     "text": [
      "$BKCC: possibly delisted; no price data found  (period=1y) (Yahoo error = \"No data found, symbol may be delisted\")\n",
      "$BKCC: possibly delisted; no price data found  (period=6mo) (Yahoo error = \"No data found, symbol may be delisted\")\n",
      "$BKCC: possibly delisted; no price data found  (period=1mo) (Yahoo error = \"No data found, symbol may be delisted\")\n"
     ]
    },
    {
     "name": "stdout",
     "output_type": "stream",
     "text": [
      "No data found for BKCC after retries. Skipping.\n"
     ]
    },
    {
     "name": "stderr",
     "output_type": "stream",
     "text": [
      "$BKI: possibly delisted; no price data found  (period=1y) (Yahoo error = \"No data found, symbol may be delisted\")\n",
      "$BKI: possibly delisted; no price data found  (period=6mo) (Yahoo error = \"No data found, symbol may be delisted\")\n",
      "$BKI: possibly delisted; no price data found  (period=1mo) (Yahoo error = \"No data found, symbol may be delisted\")\n"
     ]
    },
    {
     "name": "stdout",
     "output_type": "stream",
     "text": [
      "No data found for BKI after retries. Skipping.\n"
     ]
    },
    {
     "name": "stderr",
     "output_type": "stream",
     "text": [
      "$BLNG: possibly delisted; no price data found  (period=1y) (Yahoo error = \"No data found, symbol may be delisted\")\n",
      "$BLNG: possibly delisted; no price data found  (period=6mo) (Yahoo error = \"No data found, symbol may be delisted\")\n",
      "$BLNG: possibly delisted; no price data found  (period=1mo) (Yahoo error = \"No data found, symbol may be delisted\")\n"
     ]
    },
    {
     "name": "stdout",
     "output_type": "stream",
     "text": [
      "No data found for BLNG after retries. Skipping.\n"
     ]
    },
    {
     "name": "stderr",
     "output_type": "stream",
     "text": [
      "$BLUA: possibly delisted; no price data found  (period=1y) (Yahoo error = \"No data found, symbol may be delisted\")\n",
      "$BLUA: possibly delisted; no price data found  (period=6mo) (Yahoo error = \"No data found, symbol may be delisted\")\n",
      "$BLUA: possibly delisted; no price data found  (period=1mo) (Yahoo error = \"No data found, symbol may be delisted\")\n"
     ]
    },
    {
     "name": "stdout",
     "output_type": "stream",
     "text": [
      "No data found for BLUA after retries. Skipping.\n"
     ]
    },
    {
     "name": "stderr",
     "output_type": "stream",
     "text": [
      "$BMAC: possibly delisted; no price data found  (period=1y) (Yahoo error = \"No data found, symbol may be delisted\")\n",
      "$BMAC: possibly delisted; no price data found  (period=6mo) (Yahoo error = \"No data found, symbol may be delisted\")\n",
      "$BMAC: possibly delisted; no price data found  (period=1mo) (Yahoo error = \"No data found, symbol may be delisted\")\n"
     ]
    },
    {
     "name": "stdout",
     "output_type": "stream",
     "text": [
      "No data found for BMAC after retries. Skipping.\n",
      "Skipping BMEZ due to NaN values.\n"
     ]
    },
    {
     "name": "stderr",
     "output_type": "stream",
     "text": [
      "$BNMV: possibly delisted; no price data found  (period=1y) (Yahoo error = \"No data found, symbol may be delisted\")\n",
      "$BNMV: possibly delisted; no price data found  (period=6mo) (Yahoo error = \"No data found, symbol may be delisted\")\n",
      "$BNMV: possibly delisted; no price data found  (period=1mo) (Yahoo error = \"No data found, symbol may be delisted\")\n"
     ]
    },
    {
     "name": "stdout",
     "output_type": "stream",
     "text": [
      "No data found for BNMV after retries. Skipping.\n"
     ]
    },
    {
     "name": "stderr",
     "output_type": "stream",
     "text": [
      "$BNRE: possibly delisted; no price data found  (period=1y) (Yahoo error = \"No data found, symbol may be delisted\")\n",
      "$BNRE: possibly delisted; no price data found  (period=6mo) (Yahoo error = \"No data found, symbol may be delisted\")\n",
      "$BNRE: possibly delisted; no price data found  (period=1mo) (Yahoo error = \"No data found, symbol may be delisted\")\n"
     ]
    },
    {
     "name": "stdout",
     "output_type": "stream",
     "text": [
      "No data found for BNRE after retries. Skipping.\n"
     ]
    },
    {
     "name": "stderr",
     "output_type": "stream",
     "text": [
      "$BOAC: possibly delisted; no price data found  (period=1y) (Yahoo error = \"No data found, symbol may be delisted\")\n",
      "$BOAC: possibly delisted; no price data found  (period=6mo) (Yahoo error = \"No data found, symbol may be delisted\")\n",
      "$BOAC: possibly delisted; no price data found  (period=1mo) (Yahoo error = \"No data found, symbol may be delisted\")\n"
     ]
    },
    {
     "name": "stdout",
     "output_type": "stream",
     "text": [
      "No data found for BOAC after retries. Skipping.\n"
     ]
    },
    {
     "name": "stderr",
     "output_type": "stream",
     "text": [
      "$BODY: possibly delisted; no price data found  (period=1y) (Yahoo error = \"No data found, symbol may be delisted\")\n",
      "$BODY: possibly delisted; no price data found  (period=6mo) (Yahoo error = \"No data found, symbol may be delisted\")\n",
      "$BODY: possibly delisted; no price data found  (period=1mo) (Yahoo error = \"No data found, symbol may be delisted\")\n"
     ]
    },
    {
     "name": "stdout",
     "output_type": "stream",
     "text": [
      "No data found for BODY after retries. Skipping.\n"
     ]
    },
    {
     "name": "stderr",
     "output_type": "stream",
     "text": [
      "$BPTS: possibly delisted; no price data found  (period=1y) (Yahoo error = \"No data found, symbol may be delisted\")\n",
      "$BPTS: possibly delisted; no price data found  (period=6mo) (Yahoo error = \"No data found, symbol may be delisted\")\n",
      "$BPTS: possibly delisted; no price data found  (period=1mo) (Yahoo error = \"No data found, symbol may be delisted\")\n"
     ]
    },
    {
     "name": "stdout",
     "output_type": "stream",
     "text": [
      "No data found for BPTS after retries. Skipping.\n"
     ]
    },
    {
     "name": "stderr",
     "output_type": "stream",
     "text": [
      "$BRD: possibly delisted; no price data found  (period=1y) (Yahoo error = \"No data found, symbol may be delisted\")\n",
      "$BRD: possibly delisted; no price data found  (period=6mo) (Yahoo error = \"No data found, symbol may be delisted\")\n",
      "$BRD: possibly delisted; no price data found  (period=1mo) (Yahoo error = \"No data found, symbol may be delisted\")\n"
     ]
    },
    {
     "name": "stdout",
     "output_type": "stream",
     "text": [
      "No data found for BRD after retries. Skipping.\n"
     ]
    },
    {
     "name": "stderr",
     "output_type": "stream",
     "text": [
      "$BRDS: possibly delisted; no price data found  (period=1y) (Yahoo error = \"No data found, symbol may be delisted\")\n",
      "$BRDS: possibly delisted; no price data found  (period=6mo) (Yahoo error = \"No data found, symbol may be delisted\")\n",
      "$BRDS: possibly delisted; no price data found  (period=1mo) (Yahoo error = \"No data found, symbol may be delisted\")\n"
     ]
    },
    {
     "name": "stdout",
     "output_type": "stream",
     "text": [
      "No data found for BRDS after retries. Skipping.\n"
     ]
    },
    {
     "name": "stderr",
     "output_type": "stream",
     "text": [
      "$BREZ: possibly delisted; no price data found  (period=1y) (Yahoo error = \"No data found, symbol may be delisted\")\n",
      "$BREZ: possibly delisted; no price data found  (period=6mo) (Yahoo error = \"No data found, symbol may be delisted\")\n",
      "$BREZ: possibly delisted; no price data found  (period=1mo) (Yahoo error = \"No data found, symbol may be delisted\")\n"
     ]
    },
    {
     "name": "stdout",
     "output_type": "stream",
     "text": [
      "No data found for BREZ after retries. Skipping.\n"
     ]
    },
    {
     "name": "stderr",
     "output_type": "stream",
     "text": [
      "$BRLI: possibly delisted; no price data found  (period=1y) (Yahoo error = \"No data found, symbol may be delisted\")\n",
      "$BRLI: possibly delisted; no price data found  (period=6mo) (Yahoo error = \"No data found, symbol may be delisted\")\n",
      "$BRLI: possibly delisted; no price data found  (period=1mo) (Yahoo error = \"No data found, symbol may be delisted\")\n"
     ]
    },
    {
     "name": "stdout",
     "output_type": "stream",
     "text": [
      "No data found for BRLI after retries. Skipping.\n"
     ]
    },
    {
     "name": "stderr",
     "output_type": "stream",
     "text": [
      "$BRP: possibly delisted; no price data found  (period=1y) (Yahoo error = \"No data found, symbol may be delisted\")\n",
      "$BRP: possibly delisted; no price data found  (period=6mo) (Yahoo error = \"No data found, symbol may be delisted\")\n",
      "$BRP: possibly delisted; no price data found  (period=1mo) (Yahoo error = \"No data found, symbol may be delisted\")\n"
     ]
    },
    {
     "name": "stdout",
     "output_type": "stream",
     "text": [
      "No data found for BRP after retries. Skipping.\n"
     ]
    },
    {
     "name": "stderr",
     "output_type": "stream",
     "text": [
      "$BRQS: possibly delisted; no price data found  (period=1y) (Yahoo error = \"No data found, symbol may be delisted\")\n",
      "$BRQS: possibly delisted; no price data found  (period=6mo) (Yahoo error = \"No data found, symbol may be delisted\")\n",
      "$BRQS: possibly delisted; no price data found  (period=1mo) (Yahoo error = \"No data found, symbol may be delisted\")\n"
     ]
    },
    {
     "name": "stdout",
     "output_type": "stream",
     "text": [
      "No data found for BRQS after retries. Skipping.\n"
     ]
    },
    {
     "name": "stderr",
     "output_type": "stream",
     "text": [
      "$BRSH: possibly delisted; no price data found  (period=1y) (Yahoo error = \"No data found, symbol may be delisted\")\n",
      "$BRSH: possibly delisted; no price data found  (period=6mo) (Yahoo error = \"No data found, symbol may be delisted\")\n",
      "$BRSH: possibly delisted; no price data found  (period=1mo) (Yahoo error = \"No data found, symbol may be delisted\")\n"
     ]
    },
    {
     "name": "stdout",
     "output_type": "stream",
     "text": [
      "No data found for BRSH after retries. Skipping.\n"
     ]
    },
    {
     "name": "stderr",
     "output_type": "stream",
     "text": [
      "$BSAQ: possibly delisted; no price data found  (period=1y) (Yahoo error = \"No data found, symbol may be delisted\")\n",
      "$BSAQ: possibly delisted; no price data found  (period=6mo) (Yahoo error = \"No data found, symbol may be delisted\")\n",
      "$BSAQ: possibly delisted; no price data found  (period=1mo) (Yahoo error = \"No data found, symbol may be delisted\")\n"
     ]
    },
    {
     "name": "stdout",
     "output_type": "stream",
     "text": [
      "No data found for BSAQ after retries. Skipping.\n"
     ]
    },
    {
     "name": "stderr",
     "output_type": "stream",
     "text": [
      "$BSQR: possibly delisted; no price data found  (period=1y) (Yahoo error = \"No data found, symbol may be delisted\")\n",
      "$BSQR: possibly delisted; no price data found  (period=6mo) (Yahoo error = \"No data found, symbol may be delisted\")\n",
      "$BSQR: possibly delisted; no price data found  (period=1mo) (Yahoo error = \"No data found, symbol may be delisted\")\n"
     ]
    },
    {
     "name": "stdout",
     "output_type": "stream",
     "text": [
      "No data found for BSQR after retries. Skipping.\n"
     ]
    },
    {
     "name": "stderr",
     "output_type": "stream",
     "text": [
      "$BTB: possibly delisted; no price data found  (period=1y) (Yahoo error = \"No data found, symbol may be delisted\")\n",
      "$BTB: possibly delisted; no price data found  (period=6mo) (Yahoo error = \"No data found, symbol may be delisted\")\n",
      "$BTB: possibly delisted; no price data found  (period=1mo) (Yahoo error = \"No data found, symbol may be delisted\")\n"
     ]
    },
    {
     "name": "stdout",
     "output_type": "stream",
     "text": [
      "No data found for BTB after retries. Skipping.\n"
     ]
    },
    {
     "name": "stderr",
     "output_type": "stream",
     "text": [
      "$BTWN: possibly delisted; no price data found  (period=1y) (Yahoo error = \"No data found, symbol may be delisted\")\n",
      "$BTWN: possibly delisted; no price data found  (period=6mo) (Yahoo error = \"No data found, symbol may be delisted\")\n",
      "$BTWN: possibly delisted; no price data found  (period=1mo) (Yahoo error = \"No data found, symbol may be delisted\")\n"
     ]
    },
    {
     "name": "stdout",
     "output_type": "stream",
     "text": [
      "No data found for BTWN after retries. Skipping.\n"
     ]
    },
    {
     "name": "stderr",
     "output_type": "stream",
     "text": [
      "$BVH: possibly delisted; no price data found  (period=1y) (Yahoo error = \"No data found, symbol may be delisted\")\n",
      "$BVH: possibly delisted; no price data found  (period=6mo) (Yahoo error = \"No data found, symbol may be delisted\")\n",
      "$BVH: possibly delisted; no price data found  (period=1mo) (Yahoo error = \"No data found, symbol may be delisted\")\n"
     ]
    },
    {
     "name": "stdout",
     "output_type": "stream",
     "text": [
      "No data found for BVH after retries. Skipping.\n"
     ]
    },
    {
     "name": "stderr",
     "output_type": "stream",
     "text": [
      "$BVXV: possibly delisted; no price data found  (period=1y) (Yahoo error = \"No data found, symbol may be delisted\")\n",
      "$BVXV: possibly delisted; no price data found  (period=6mo) (Yahoo error = \"No data found, symbol may be delisted\")\n",
      "$BVXV: possibly delisted; no price data found  (period=1mo) (Yahoo error = \"No data found, symbol may be delisted\")\n"
     ]
    },
    {
     "name": "stdout",
     "output_type": "stream",
     "text": [
      "No data found for BVXV after retries. Skipping.\n"
     ]
    },
    {
     "name": "stderr",
     "output_type": "stream",
     "text": [
      "$BWAC: possibly delisted; no price data found  (period=1y)\n",
      "$BWAC: possibly delisted; no price data found  (period=6mo)\n",
      "$BWAC: possibly delisted; no price data found  (period=1mo)\n"
     ]
    },
    {
     "name": "stdout",
     "output_type": "stream",
     "text": [
      "No data found for BWAC after retries. Skipping.\n"
     ]
    },
    {
     "name": "stderr",
     "output_type": "stream",
     "text": [
      "$BWAQ: possibly delisted; no price data found  (period=1y) (Yahoo error = \"No data found, symbol may be delisted\")\n",
      "$BWAQ: possibly delisted; no price data found  (period=6mo) (Yahoo error = \"No data found, symbol may be delisted\")\n",
      "$BWAQ: possibly delisted; no price data found  (period=1mo) (Yahoo error = \"No data found, symbol may be delisted\")\n"
     ]
    },
    {
     "name": "stdout",
     "output_type": "stream",
     "text": [
      "No data found for BWAQ after retries. Skipping.\n"
     ]
    },
    {
     "name": "stderr",
     "output_type": "stream",
     "text": [
      "$BWC: possibly delisted; no price data found  (period=1y) (Yahoo error = \"No data found, symbol may be delisted\")\n",
      "$BWC: possibly delisted; no price data found  (period=6mo) (Yahoo error = \"No data found, symbol may be delisted\")\n",
      "$BWC: possibly delisted; no price data found  (period=1mo) (Yahoo error = \"No data found, symbol may be delisted\")\n"
     ]
    },
    {
     "name": "stdout",
     "output_type": "stream",
     "text": [
      "No data found for BWC after retries. Skipping.\n"
     ]
    },
    {
     "name": "stderr",
     "output_type": "stream",
     "text": [
      "$BWV: possibly delisted; no price data found  (period=1y) (Yahoo error = \"No data found, symbol may be delisted\")\n",
      "$BWV: possibly delisted; no price data found  (period=6mo) (Yahoo error = \"No data found, symbol may be delisted\")\n",
      "$BWV: possibly delisted; no price data found  (period=1mo) (Yahoo error = \"No data found, symbol may be delisted\")\n"
     ]
    },
    {
     "name": "stdout",
     "output_type": "stream",
     "text": [
      "No data found for BWV after retries. Skipping.\n"
     ]
    },
    {
     "name": "stderr",
     "output_type": "stream",
     "text": [
      "$BXRX: possibly delisted; no price data found  (period=1y)\n",
      "$BXRX: possibly delisted; no price data found  (period=6mo)\n",
      "$BXRX: possibly delisted; no price data found  (period=1mo)\n"
     ]
    },
    {
     "name": "stdout",
     "output_type": "stream",
     "text": [
      "No data found for BXRX after retries. Skipping.\n"
     ]
    },
    {
     "name": "stderr",
     "output_type": "stream",
     "text": [
      "$BYN: possibly delisted; no price data found  (period=1y) (Yahoo error = \"No data found, symbol may be delisted\")\n",
      "$BYN: possibly delisted; no price data found  (period=6mo) (Yahoo error = \"No data found, symbol may be delisted\")\n",
      "$BYN: possibly delisted; no price data found  (period=1mo) (Yahoo error = \"No data found, symbol may be delisted\")\n"
     ]
    },
    {
     "name": "stdout",
     "output_type": "stream",
     "text": [
      "No data found for BYN after retries. Skipping.\n"
     ]
    },
    {
     "name": "stderr",
     "output_type": "stream",
     "text": [
      "$BYTS: possibly delisted; no price data found  (period=1y) (Yahoo error = \"No data found, symbol may be delisted\")\n",
      "$BYTS: possibly delisted; no price data found  (period=6mo) (Yahoo error = \"No data found, symbol may be delisted\")\n",
      "$BYTS: possibly delisted; no price data found  (period=1mo) (Yahoo error = \"No data found, symbol may be delisted\")\n"
     ]
    },
    {
     "name": "stdout",
     "output_type": "stream",
     "text": [
      "No data found for BYTS after retries. Skipping.\n"
     ]
    },
    {
     "name": "stderr",
     "output_type": "stream",
     "text": [
      "$CACO: possibly delisted; no price data found  (period=1y) (Yahoo error = \"No data found, symbol may be delisted\")\n",
      "$CACO: possibly delisted; no price data found  (period=6mo) (Yahoo error = \"No data found, symbol may be delisted\")\n",
      "$CACO: possibly delisted; no price data found  (period=1mo) (Yahoo error = \"No data found, symbol may be delisted\")\n"
     ]
    },
    {
     "name": "stdout",
     "output_type": "stream",
     "text": [
      "No data found for CACO after retries. Skipping.\n"
     ]
    },
    {
     "name": "stderr",
     "output_type": "stream",
     "text": [
      "$CALB: possibly delisted; no price data found  (period=1y) (Yahoo error = \"No data found, symbol may be delisted\")\n",
      "$CALB: possibly delisted; no price data found  (period=6mo) (Yahoo error = \"No data found, symbol may be delisted\")\n",
      "$CALB: possibly delisted; no price data found  (period=1mo) (Yahoo error = \"No data found, symbol may be delisted\")\n"
     ]
    },
    {
     "name": "stdout",
     "output_type": "stream",
     "text": [
      "No data found for CALB after retries. Skipping.\n"
     ]
    },
    {
     "name": "stderr",
     "output_type": "stream",
     "text": [
      "$CALT: possibly delisted; no price data found  (period=1y) (Yahoo error = \"No data found, symbol may be delisted\")\n",
      "$CALT: possibly delisted; no price data found  (period=6mo) (Yahoo error = \"No data found, symbol may be delisted\")\n",
      "$CALT: possibly delisted; no price data found  (period=1mo) (Yahoo error = \"No data found, symbol may be delisted\")\n"
     ]
    },
    {
     "name": "stdout",
     "output_type": "stream",
     "text": [
      "No data found for CALT after retries. Skipping.\n"
     ]
    },
    {
     "name": "stderr",
     "output_type": "stream",
     "text": [
      "CAMP: Period '1y' is invalid, must be one of ['1d', '5d', '1mo', '3mo', 'ytd', 'max']\n",
      "CAMP: Period '6mo' is invalid, must be one of ['1d', '5d', '1mo', '3mo', 'ytd', 'max']\n",
      "$CANO: possibly delisted; no price data found  (period=1y) (Yahoo error = \"No data found, symbol may be delisted\")\n",
      "$CANO: possibly delisted; no price data found  (period=6mo) (Yahoo error = \"No data found, symbol may be delisted\")\n",
      "$CANO: possibly delisted; no price data found  (period=1mo) (Yahoo error = \"No data found, symbol may be delisted\")\n"
     ]
    },
    {
     "name": "stdout",
     "output_type": "stream",
     "text": [
      "No data found for CANO after retries. Skipping.\n"
     ]
    },
    {
     "name": "stderr",
     "output_type": "stream",
     "text": [
      "$CASA: possibly delisted; no price data found  (period=1y) (Yahoo error = \"No data found, symbol may be delisted\")\n",
      "$CASA: possibly delisted; no price data found  (period=6mo) (Yahoo error = \"No data found, symbol may be delisted\")\n",
      "$CASA: possibly delisted; no price data found  (period=1mo) (Yahoo error = \"No data found, symbol may be delisted\")\n"
     ]
    },
    {
     "name": "stdout",
     "output_type": "stream",
     "text": [
      "No data found for CASA after retries. Skipping.\n",
      "Skipping CATC due to NaN values.\n"
     ]
    },
    {
     "name": "stderr",
     "output_type": "stream",
     "text": [
      "$CBAY: possibly delisted; no price data found  (period=1y) (Yahoo error = \"No data found, symbol may be delisted\")\n",
      "$CBAY: possibly delisted; no price data found  (period=6mo) (Yahoo error = \"No data found, symbol may be delisted\")\n",
      "$CBAY: possibly delisted; no price data found  (period=1mo) (Yahoo error = \"No data found, symbol may be delisted\")\n"
     ]
    },
    {
     "name": "stdout",
     "output_type": "stream",
     "text": [
      "No data found for CBAY after retries. Skipping.\n"
     ]
    },
    {
     "name": "stderr",
     "output_type": "stream",
     "text": [
      "$CBD: possibly delisted; no price data found  (period=1y) (Yahoo error = \"No data found, symbol may be delisted\")\n",
      "$CBD: possibly delisted; no price data found  (period=6mo) (Yahoo error = \"No data found, symbol may be delisted\")\n",
      "$CBD: possibly delisted; no price data found  (period=1mo) (Yahoo error = \"No data found, symbol may be delisted\")\n"
     ]
    },
    {
     "name": "stdout",
     "output_type": "stream",
     "text": [
      "No data found for CBD after retries. Skipping.\n"
     ]
    },
    {
     "name": "stderr",
     "output_type": "stream",
     "text": [
      "$CBH: possibly delisted; no price data found  (period=1y) (Yahoo error = \"No data found, symbol may be delisted\")\n",
      "$CBH: possibly delisted; no price data found  (period=6mo) (Yahoo error = \"No data found, symbol may be delisted\")\n",
      "$CBH: possibly delisted; no price data found  (period=1mo) (Yahoo error = \"No data found, symbol may be delisted\")\n"
     ]
    },
    {
     "name": "stdout",
     "output_type": "stream",
     "text": [
      "No data found for CBH after retries. Skipping.\n"
     ]
    },
    {
     "name": "stderr",
     "output_type": "stream",
     "text": [
      "$CBIO: possibly delisted; no price data found  (period=1y) (Yahoo error = \"No data found, symbol may be delisted\")\n",
      "$CBIO: possibly delisted; no price data found  (period=6mo) (Yahoo error = \"No data found, symbol may be delisted\")\n",
      "$CBIO: possibly delisted; no price data found  (period=1mo) (Yahoo error = \"No data found, symbol may be delisted\")\n"
     ]
    },
    {
     "name": "stdout",
     "output_type": "stream",
     "text": [
      "No data found for CBIO after retries. Skipping.\n"
     ]
    },
    {
     "name": "stderr",
     "output_type": "stream",
     "text": [
      "$CCAI: possibly delisted; no price data found  (period=1y) (Yahoo error = \"No data found, symbol may be delisted\")\n",
      "$CCAI: possibly delisted; no price data found  (period=6mo) (Yahoo error = \"No data found, symbol may be delisted\")\n",
      "$CCAI: possibly delisted; no price data found  (period=1mo) (Yahoo error = \"No data found, symbol may be delisted\")\n"
     ]
    },
    {
     "name": "stdout",
     "output_type": "stream",
     "text": [
      "No data found for CCAI after retries. Skipping.\n"
     ]
    },
    {
     "name": "stderr",
     "output_type": "stream",
     "text": [
      "$CCF: possibly delisted; no price data found  (period=1y) (Yahoo error = \"No data found, symbol may be delisted\")\n",
      "$CCF: possibly delisted; no price data found  (period=6mo) (Yahoo error = \"No data found, symbol may be delisted\")\n",
      "$CCF: possibly delisted; no price data found  (period=1mo) (Yahoo error = \"No data found, symbol may be delisted\")\n"
     ]
    },
    {
     "name": "stdout",
     "output_type": "stream",
     "text": [
      "No data found for CCF after retries. Skipping.\n"
     ]
    },
    {
     "name": "stderr",
     "output_type": "stream",
     "text": [
      "$CCLP: possibly delisted; no price data found  (period=1y) (Yahoo error = \"No data found, symbol may be delisted\")\n",
      "$CCLP: possibly delisted; no price data found  (period=6mo) (Yahoo error = \"No data found, symbol may be delisted\")\n",
      "$CCLP: possibly delisted; no price data found  (period=1mo) (Yahoo error = \"No data found, symbol may be delisted\")\n"
     ]
    },
    {
     "name": "stdout",
     "output_type": "stream",
     "text": [
      "No data found for CCLP after retries. Skipping.\n"
     ]
    },
    {
     "name": "stderr",
     "output_type": "stream",
     "text": [
      "$CCV: possibly delisted; no price data found  (period=1y) (Yahoo error = \"No data found, symbol may be delisted\")\n",
      "$CCV: possibly delisted; no price data found  (period=6mo) (Yahoo error = \"No data found, symbol may be delisted\")\n",
      "$CCV: possibly delisted; no price data found  (period=1mo) (Yahoo error = \"No data found, symbol may be delisted\")\n"
     ]
    },
    {
     "name": "stdout",
     "output_type": "stream",
     "text": [
      "No data found for CCV after retries. Skipping.\n"
     ]
    },
    {
     "name": "stderr",
     "output_type": "stream",
     "text": [
      "$CCVI: possibly delisted; no price data found  (period=1y) (Yahoo error = \"No data found, symbol may be delisted\")\n",
      "$CCVI: possibly delisted; no price data found  (period=6mo) (Yahoo error = \"No data found, symbol may be delisted\")\n",
      "$CCVI: possibly delisted; no price data found  (period=1mo) (Yahoo error = \"No data found, symbol may be delisted\")\n"
     ]
    },
    {
     "name": "stdout",
     "output_type": "stream",
     "text": [
      "No data found for CCVI after retries. Skipping.\n",
      "Skipping CCZ due to NaN values.\n"
     ]
    },
    {
     "name": "stderr",
     "output_type": "stream",
     "text": [
      "$CD: possibly delisted; no price data found  (period=1y) (Yahoo error = \"No data found, symbol may be delisted\")\n",
      "$CD: possibly delisted; no price data found  (period=6mo) (Yahoo error = \"No data found, symbol may be delisted\")\n",
      "$CD: possibly delisted; no price data found  (period=1mo) (Yahoo error = \"No data found, symbol may be delisted\")\n"
     ]
    },
    {
     "name": "stdout",
     "output_type": "stream",
     "text": [
      "No data found for CD after retries. Skipping.\n"
     ]
    },
    {
     "name": "stderr",
     "output_type": "stream",
     "text": [
      "$CDAQ: possibly delisted; no price data found  (period=1y) (Yahoo error = \"No data found, symbol may be delisted\")\n",
      "$CDAQ: possibly delisted; no price data found  (period=6mo) (Yahoo error = \"No data found, symbol may be delisted\")\n",
      "$CDAQ: possibly delisted; no price data found  (period=1mo) (Yahoo error = \"No data found, symbol may be delisted\")\n"
     ]
    },
    {
     "name": "stdout",
     "output_type": "stream",
     "text": [
      "No data found for CDAQ after retries. Skipping.\n"
     ]
    },
    {
     "name": "stderr",
     "output_type": "stream",
     "text": [
      "$CDAY: possibly delisted; no price data found  (period=1y) (Yahoo error = \"No data found, symbol may be delisted\")\n",
      "$CDAY: possibly delisted; no price data found  (period=6mo) (Yahoo error = \"No data found, symbol may be delisted\")\n",
      "$CDAY: possibly delisted; no price data found  (period=1mo) (Yahoo error = \"No data found, symbol may be delisted\")\n"
     ]
    },
    {
     "name": "stdout",
     "output_type": "stream",
     "text": [
      "No data found for CDAY after retries. Skipping.\n"
     ]
    },
    {
     "name": "stderr",
     "output_type": "stream",
     "text": [
      "$CEI: possibly delisted; no price data found  (period=1y) (Yahoo error = \"No data found, symbol may be delisted\")\n",
      "$CEI: possibly delisted; no price data found  (period=6mo) (Yahoo error = \"No data found, symbol may be delisted\")\n",
      "$CEI: possibly delisted; no price data found  (period=1mo) (Yahoo error = \"No data found, symbol may be delisted\")\n"
     ]
    },
    {
     "name": "stdout",
     "output_type": "stream",
     "text": [
      "No data found for CEI after retries. Skipping.\n"
     ]
    },
    {
     "name": "stderr",
     "output_type": "stream",
     "text": [
      "$CELL: possibly delisted; no price data found  (period=1y) (Yahoo error = \"No data found, symbol may be delisted\")\n",
      "$CELL: possibly delisted; no price data found  (period=6mo) (Yahoo error = \"No data found, symbol may be delisted\")\n",
      "$CELL: possibly delisted; no price data found  (period=1mo) (Yahoo error = \"No data found, symbol may be delisted\")\n"
     ]
    },
    {
     "name": "stdout",
     "output_type": "stream",
     "text": [
      "No data found for CELL after retries. Skipping.\n"
     ]
    },
    {
     "name": "stderr",
     "output_type": "stream",
     "text": [
      "$CEM: possibly delisted; no price data found  (period=1y) (Yahoo error = \"No data found, symbol may be delisted\")\n",
      "$CEM: possibly delisted; no price data found  (period=6mo) (Yahoo error = \"No data found, symbol may be delisted\")\n",
      "$CEM: possibly delisted; no price data found  (period=1mo) (Yahoo error = \"No data found, symbol may be delisted\")\n"
     ]
    },
    {
     "name": "stdout",
     "output_type": "stream",
     "text": [
      "No data found for CEM after retries. Skipping.\n"
     ]
    },
    {
     "name": "stderr",
     "output_type": "stream",
     "text": [
      "$CEN: possibly delisted; no price data found  (period=1y) (Yahoo error = \"No data found, symbol may be delisted\")\n",
      "$CEN: possibly delisted; no price data found  (period=6mo) (Yahoo error = \"No data found, symbol may be delisted\")\n",
      "$CEN: possibly delisted; no price data found  (period=1mo) (Yahoo error = \"No data found, symbol may be delisted\")\n"
     ]
    },
    {
     "name": "stdout",
     "output_type": "stream",
     "text": [
      "No data found for CEN after retries. Skipping.\n"
     ]
    },
    {
     "name": "stderr",
     "output_type": "stream",
     "text": [
      "$CEQP: possibly delisted; no price data found  (period=1y) (Yahoo error = \"No data found, symbol may be delisted\")\n",
      "$CEQP: possibly delisted; no price data found  (period=6mo) (Yahoo error = \"No data found, symbol may be delisted\")\n",
      "$CEQP: possibly delisted; no price data found  (period=1mo) (Yahoo error = \"No data found, symbol may be delisted\")\n"
     ]
    },
    {
     "name": "stdout",
     "output_type": "stream",
     "text": [
      "No data found for CEQP after retries. Skipping.\n"
     ]
    },
    {
     "name": "stderr",
     "output_type": "stream",
     "text": [
      "$CERE: possibly delisted; no price data found  (period=1y) (Yahoo error = \"No data found, symbol may be delisted\")\n",
      "$CERE: possibly delisted; no price data found  (period=6mo) (Yahoo error = \"No data found, symbol may be delisted\")\n",
      "$CERE: possibly delisted; no price data found  (period=1mo) (Yahoo error = \"No data found, symbol may be delisted\")\n"
     ]
    },
    {
     "name": "stdout",
     "output_type": "stream",
     "text": [
      "No data found for CERE after retries. Skipping.\n"
     ]
    },
    {
     "name": "stderr",
     "output_type": "stream",
     "text": [
      "$CETU: possibly delisted; no price data found  (period=1y) (Yahoo error = \"No data found, symbol may be delisted\")\n",
      "$CETU: possibly delisted; no price data found  (period=6mo) (Yahoo error = \"No data found, symbol may be delisted\")\n",
      "$CETU: possibly delisted; no price data found  (period=1mo) (Yahoo error = \"No data found, symbol may be delisted\")\n"
     ]
    },
    {
     "name": "stdout",
     "output_type": "stream",
     "text": [
      "No data found for CETU after retries. Skipping.\n"
     ]
    },
    {
     "name": "stderr",
     "output_type": "stream",
     "text": [
      "$CFFE: possibly delisted; no price data found  (period=1y) (Yahoo error = \"No data found, symbol may be delisted\")\n",
      "$CFFE: possibly delisted; no price data found  (period=6mo) (Yahoo error = \"No data found, symbol may be delisted\")\n",
      "$CFFE: possibly delisted; no price data found  (period=1mo) (Yahoo error = \"No data found, symbol may be delisted\")\n"
     ]
    },
    {
     "name": "stdout",
     "output_type": "stream",
     "text": [
      "No data found for CFFE after retries. Skipping.\n"
     ]
    },
    {
     "name": "stderr",
     "output_type": "stream",
     "text": [
      "$CFIV: possibly delisted; no price data found  (period=1y) (Yahoo error = \"No data found, symbol may be delisted\")\n",
      "$CFIV: possibly delisted; no price data found  (period=6mo) (Yahoo error = \"No data found, symbol may be delisted\")\n",
      "$CFIV: possibly delisted; no price data found  (period=1mo) (Yahoo error = \"No data found, symbol may be delisted\")\n"
     ]
    },
    {
     "name": "stdout",
     "output_type": "stream",
     "text": [
      "No data found for CFIV after retries. Skipping.\n"
     ]
    },
    {
     "name": "stderr",
     "output_type": "stream",
     "text": [
      "$CFMS: possibly delisted; no price data found  (period=1y) (Yahoo error = \"No data found, symbol may be delisted\")\n",
      "$CFMS: possibly delisted; no price data found  (period=6mo) (Yahoo error = \"No data found, symbol may be delisted\")\n",
      "$CFMS: possibly delisted; no price data found  (period=1mo) (Yahoo error = \"No data found, symbol may be delisted\")\n"
     ]
    },
    {
     "name": "stdout",
     "output_type": "stream",
     "text": [
      "No data found for CFMS after retries. Skipping.\n"
     ]
    },
    {
     "name": "stderr",
     "output_type": "stream",
     "text": [
      "$CFRX: possibly delisted; no price data found  (period=1y)\n",
      "$CFRX: possibly delisted; no price data found  (period=6mo)\n",
      "$CFRX: possibly delisted; no price data found  (period=1mo)\n"
     ]
    },
    {
     "name": "stdout",
     "output_type": "stream",
     "text": [
      "No data found for CFRX after retries. Skipping.\n"
     ]
    },
    {
     "name": "stderr",
     "output_type": "stream",
     "text": [
      "$CGRN: possibly delisted; no price data found  (period=1y) (Yahoo error = \"No data found, symbol may be delisted\")\n",
      "$CGRN: possibly delisted; no price data found  (period=6mo) (Yahoo error = \"No data found, symbol may be delisted\")\n",
      "$CGRN: possibly delisted; no price data found  (period=1mo) (Yahoo error = \"No data found, symbol may be delisted\")\n"
     ]
    },
    {
     "name": "stdout",
     "output_type": "stream",
     "text": [
      "No data found for CGRN after retries. Skipping.\n"
     ]
    },
    {
     "name": "stderr",
     "output_type": "stream",
     "text": [
      "$CHAA: possibly delisted; no price data found  (period=1y) (Yahoo error = \"No data found, symbol may be delisted\")\n",
      "$CHAA: possibly delisted; no price data found  (period=6mo) (Yahoo error = \"No data found, symbol may be delisted\")\n",
      "$CHAA: possibly delisted; no price data found  (period=1mo) (Yahoo error = \"No data found, symbol may be delisted\")\n"
     ]
    },
    {
     "name": "stdout",
     "output_type": "stream",
     "text": [
      "No data found for CHAA after retries. Skipping.\n"
     ]
    },
    {
     "name": "stderr",
     "output_type": "stream",
     "text": [
      "$CHEA: possibly delisted; no price data found  (period=1y) (Yahoo error = \"No data found, symbol may be delisted\")\n",
      "$CHEA: possibly delisted; no price data found  (period=6mo) (Yahoo error = \"No data found, symbol may be delisted\")\n",
      "$CHEA: possibly delisted; no price data found  (period=1mo) (Yahoo error = \"No data found, symbol may be delisted\")\n"
     ]
    },
    {
     "name": "stdout",
     "output_type": "stream",
     "text": [
      "No data found for CHEA after retries. Skipping.\n"
     ]
    },
    {
     "name": "stderr",
     "output_type": "stream",
     "text": [
      "$CHK: possibly delisted; no price data found  (period=1y) (Yahoo error = \"No data found, symbol may be delisted\")\n",
      "$CHK: possibly delisted; no price data found  (period=6mo) (Yahoo error = \"No data found, symbol may be delisted\")\n",
      "$CHK: possibly delisted; no price data found  (period=1mo) (Yahoo error = \"No data found, symbol may be delisted\")\n"
     ]
    },
    {
     "name": "stdout",
     "output_type": "stream",
     "text": [
      "No data found for CHK after retries. Skipping.\n"
     ]
    },
    {
     "name": "stderr",
     "output_type": "stream",
     "text": [
      "$CHS: possibly delisted; no price data found  (period=1y) (Yahoo error = \"No data found, symbol may be delisted\")\n",
      "$CHS: possibly delisted; no price data found  (period=6mo) (Yahoo error = \"No data found, symbol may be delisted\")\n",
      "$CHS: possibly delisted; no price data found  (period=1mo) (Yahoo error = \"No data found, symbol may be delisted\")\n"
     ]
    },
    {
     "name": "stdout",
     "output_type": "stream",
     "text": [
      "No data found for CHS after retries. Skipping.\n"
     ]
    },
    {
     "name": "stderr",
     "output_type": "stream",
     "text": [
      "$CHUY: possibly delisted; no price data found  (period=1y) (Yahoo error = \"No data found, symbol may be delisted\")\n",
      "$CHUY: possibly delisted; no price data found  (period=6mo) (Yahoo error = \"No data found, symbol may be delisted\")\n",
      "$CHUY: possibly delisted; no price data found  (period=1mo) (Yahoo error = \"No data found, symbol may be delisted\")\n"
     ]
    },
    {
     "name": "stdout",
     "output_type": "stream",
     "text": [
      "No data found for CHUY after retries. Skipping.\n"
     ]
    },
    {
     "name": "stderr",
     "output_type": "stream",
     "text": [
      "$CIR: possibly delisted; no price data found  (period=1y) (Yahoo error = \"No data found, symbol may be delisted\")\n",
      "$CIR: possibly delisted; no price data found  (period=6mo) (Yahoo error = \"No data found, symbol may be delisted\")\n",
      "$CIR: possibly delisted; no price data found  (period=1mo) (Yahoo error = \"No data found, symbol may be delisted\")\n"
     ]
    },
    {
     "name": "stdout",
     "output_type": "stream",
     "text": [
      "No data found for CIR after retries. Skipping.\n"
     ]
    },
    {
     "name": "stderr",
     "output_type": "stream",
     "text": [
      "$CLAY: possibly delisted; no price data found  (period=1y) (Yahoo error = \"No data found, symbol may be delisted\")\n",
      "$CLAY: possibly delisted; no price data found  (period=6mo) (Yahoo error = \"No data found, symbol may be delisted\")\n",
      "$CLAY: possibly delisted; no price data found  (period=1mo) (Yahoo error = \"No data found, symbol may be delisted\")\n"
     ]
    },
    {
     "name": "stdout",
     "output_type": "stream",
     "text": [
      "No data found for CLAY after retries. Skipping.\n",
      "Skipping CLBR due to NaN values.\n"
     ]
    },
    {
     "name": "stderr",
     "output_type": "stream",
     "text": [
      "$CLIN: possibly delisted; no price data found  (period=1y) (Yahoo error = \"No data found, symbol may be delisted\")\n",
      "$CLIN: possibly delisted; no price data found  (period=6mo) (Yahoo error = \"No data found, symbol may be delisted\")\n",
      "$CLIN: possibly delisted; no price data found  (period=1mo) (Yahoo error = \"No data found, symbol may be delisted\")\n"
     ]
    },
    {
     "name": "stdout",
     "output_type": "stream",
     "text": [
      "No data found for CLIN after retries. Skipping.\n"
     ]
    },
    {
     "name": "stderr",
     "output_type": "stream",
     "text": [
      "$CNDB: possibly delisted; no price data found  (period=1y) (Yahoo error = \"No data found, symbol may be delisted\")\n",
      "$CNDB: possibly delisted; no price data found  (period=6mo) (Yahoo error = \"No data found, symbol may be delisted\")\n",
      "$CNDB: possibly delisted; no price data found  (period=1mo) (Yahoo error = \"No data found, symbol may be delisted\")\n"
     ]
    },
    {
     "name": "stdout",
     "output_type": "stream",
     "text": [
      "No data found for CNDB after retries. Skipping.\n"
     ]
    },
    {
     "name": "stderr",
     "output_type": "stream",
     "text": [
      "$CNHI: possibly delisted; no price data found  (period=1y) (Yahoo error = \"No data found, symbol may be delisted\")\n",
      "$CNHI: possibly delisted; no price data found  (period=6mo) (Yahoo error = \"No data found, symbol may be delisted\")\n",
      "$CNHI: possibly delisted; no price data found  (period=1mo) (Yahoo error = \"No data found, symbol may be delisted\")\n"
     ]
    },
    {
     "name": "stdout",
     "output_type": "stream",
     "text": [
      "No data found for CNHI after retries. Skipping.\n"
     ]
    },
    {
     "name": "stderr",
     "output_type": "stream",
     "text": [
      "$CNXA: possibly delisted; no price data found  (period=1y) (Yahoo error = \"No data found, symbol may be delisted\")\n",
      "$CNXA: possibly delisted; no price data found  (period=6mo) (Yahoo error = \"No data found, symbol may be delisted\")\n",
      "$CNXA: possibly delisted; no price data found  (period=1mo) (Yahoo error = \"No data found, symbol may be delisted\")\n"
     ]
    },
    {
     "name": "stdout",
     "output_type": "stream",
     "text": [
      "No data found for CNXA after retries. Skipping.\n"
     ]
    },
    {
     "name": "stderr",
     "output_type": "stream",
     "text": [
      "$CONN: possibly delisted; no price data found  (period=1y) (Yahoo error = \"No data found, symbol may be delisted\")\n",
      "$CONN: possibly delisted; no price data found  (period=6mo) (Yahoo error = \"No data found, symbol may be delisted\")\n",
      "$CONN: possibly delisted; no price data found  (period=1mo) (Yahoo error = \"No data found, symbol may be delisted\")\n"
     ]
    },
    {
     "name": "stdout",
     "output_type": "stream",
     "text": [
      "No data found for CONN after retries. Skipping.\n"
     ]
    },
    {
     "name": "stderr",
     "output_type": "stream",
     "text": [
      "$CONX: possibly delisted; no price data found  (period=1y) (Yahoo error = \"No data found, symbol may be delisted\")\n",
      "$CONX: possibly delisted; no price data found  (period=6mo) (Yahoo error = \"No data found, symbol may be delisted\")\n",
      "$CONX: possibly delisted; no price data found  (period=1mo) (Yahoo error = \"No data found, symbol may be delisted\")\n"
     ]
    },
    {
     "name": "stdout",
     "output_type": "stream",
     "text": [
      "No data found for CONX after retries. Skipping.\n"
     ]
    },
    {
     "name": "stderr",
     "output_type": "stream",
     "text": [
      "$COOL: possibly delisted; no price data found  (period=1y) (Yahoo error = \"No data found, symbol may be delisted\")\n",
      "$COOL: possibly delisted; no price data found  (period=6mo) (Yahoo error = \"No data found, symbol may be delisted\")\n",
      "$COOL: possibly delisted; no price data found  (period=1mo) (Yahoo error = \"No data found, symbol may be delisted\")\n"
     ]
    },
    {
     "name": "stdout",
     "output_type": "stream",
     "text": [
      "No data found for COOL after retries. Skipping.\n"
     ]
    },
    {
     "name": "stderr",
     "output_type": "stream",
     "text": [
      "$CORR: possibly delisted; no price data found  (period=1y) (Yahoo error = \"No data found, symbol may be delisted\")\n",
      "$CORR: possibly delisted; no price data found  (period=6mo) (Yahoo error = \"No data found, symbol may be delisted\")\n",
      "$CORR: possibly delisted; no price data found  (period=1mo) (Yahoo error = \"No data found, symbol may be delisted\")\n"
     ]
    },
    {
     "name": "stdout",
     "output_type": "stream",
     "text": [
      "No data found for CORR after retries. Skipping.\n"
     ]
    },
    {
     "name": "stderr",
     "output_type": "stream",
     "text": [
      "$CPAA: possibly delisted; no price data found  (period=1y) (Yahoo error = \"No data found, symbol may be delisted\")\n",
      "$CPAA: possibly delisted; no price data found  (period=6mo) (Yahoo error = \"No data found, symbol may be delisted\")\n",
      "$CPAA: possibly delisted; no price data found  (period=1mo) (Yahoo error = \"No data found, symbol may be delisted\")\n"
     ]
    },
    {
     "name": "stdout",
     "output_type": "stream",
     "text": [
      "No data found for CPAA after retries. Skipping.\n"
     ]
    },
    {
     "name": "stderr",
     "output_type": "stream",
     "text": [
      "$CPE: possibly delisted; no price data found  (period=1y) (Yahoo error = \"No data found, symbol may be delisted\")\n",
      "$CPE: possibly delisted; no price data found  (period=6mo) (Yahoo error = \"No data found, symbol may be delisted\")\n",
      "$CPE: possibly delisted; no price data found  (period=1mo) (Yahoo error = \"No data found, symbol may be delisted\")\n"
     ]
    },
    {
     "name": "stdout",
     "output_type": "stream",
     "text": [
      "No data found for CPE after retries. Skipping.\n"
     ]
    },
    {
     "name": "stderr",
     "output_type": "stream",
     "text": [
      "$CPG: possibly delisted; no price data found  (period=1y) (Yahoo error = \"No data found, symbol may be delisted\")\n",
      "$CPG: possibly delisted; no price data found  (period=6mo) (Yahoo error = \"No data found, symbol may be delisted\")\n",
      "$CPG: possibly delisted; no price data found  (period=1mo) (Yahoo error = \"No data found, symbol may be delisted\")\n"
     ]
    },
    {
     "name": "stdout",
     "output_type": "stream",
     "text": [
      "No data found for CPG after retries. Skipping.\n"
     ]
    },
    {
     "name": "stderr",
     "output_type": "stream",
     "text": [
      "$CPLP: possibly delisted; no price data found  (period=1y) (Yahoo error = \"No data found, symbol may be delisted\")\n",
      "$CPLP: possibly delisted; no price data found  (period=6mo) (Yahoo error = \"No data found, symbol may be delisted\")\n",
      "$CPLP: possibly delisted; no price data found  (period=1mo) (Yahoo error = \"No data found, symbol may be delisted\")\n"
     ]
    },
    {
     "name": "stdout",
     "output_type": "stream",
     "text": [
      "No data found for CPLP after retries. Skipping.\n"
     ]
    },
    {
     "name": "stderr",
     "output_type": "stream",
     "text": [
      "$CPSI: possibly delisted; no price data found  (period=1y) (Yahoo error = \"No data found, symbol may be delisted\")\n",
      "$CPSI: possibly delisted; no price data found  (period=6mo) (Yahoo error = \"No data found, symbol may be delisted\")\n",
      "$CPSI: possibly delisted; no price data found  (period=1mo) (Yahoo error = \"No data found, symbol may be delisted\")\n"
     ]
    },
    {
     "name": "stdout",
     "output_type": "stream",
     "text": [
      "No data found for CPSI after retries. Skipping.\n"
     ]
    },
    {
     "name": "stderr",
     "output_type": "stream",
     "text": [
      "$CPTK: possibly delisted; no price data found  (period=1y) (Yahoo error = \"No data found, symbol may be delisted\")\n",
      "$CPTK: possibly delisted; no price data found  (period=6mo) (Yahoo error = \"No data found, symbol may be delisted\")\n",
      "$CPTK: possibly delisted; no price data found  (period=1mo) (Yahoo error = \"No data found, symbol may be delisted\")\n"
     ]
    },
    {
     "name": "stdout",
     "output_type": "stream",
     "text": [
      "No data found for CPTK after retries. Skipping.\n"
     ]
    },
    {
     "name": "stderr",
     "output_type": "stream",
     "text": [
      "$CPUH: possibly delisted; no price data found  (period=1y) (Yahoo error = \"No data found, symbol may be delisted\")\n",
      "$CPUH: possibly delisted; no price data found  (period=6mo) (Yahoo error = \"No data found, symbol may be delisted\")\n",
      "$CPUH: possibly delisted; no price data found  (period=1mo) (Yahoo error = \"No data found, symbol may be delisted\")\n"
     ]
    },
    {
     "name": "stdout",
     "output_type": "stream",
     "text": [
      "No data found for CPUH after retries. Skipping.\n",
      "Skipping CPZ due to NaN values.\n"
     ]
    },
    {
     "name": "stderr",
     "output_type": "stream",
     "text": [
      "$CRGE: possibly delisted; no price data found  (period=1y)\n",
      "$CRGE: possibly delisted; no price data found  (period=6mo)\n",
      "$CRGE: possibly delisted; no price data found  (period=1mo)\n"
     ]
    },
    {
     "name": "stdout",
     "output_type": "stream",
     "text": [
      "No data found for CRGE after retries. Skipping.\n"
     ]
    },
    {
     "name": "stderr",
     "output_type": "stream",
     "text": [
      "$CSTA: possibly delisted; no price data found  (period=1y) (Yahoo error = \"No data found, symbol may be delisted\")\n",
      "$CSTA: possibly delisted; no price data found  (period=6mo) (Yahoo error = \"No data found, symbol may be delisted\")\n",
      "$CSTA: possibly delisted; no price data found  (period=1mo) (Yahoo error = \"No data found, symbol may be delisted\")\n"
     ]
    },
    {
     "name": "stdout",
     "output_type": "stream",
     "text": [
      "No data found for CSTA after retries. Skipping.\n"
     ]
    },
    {
     "name": "stderr",
     "output_type": "stream",
     "text": [
      "$CSTR: possibly delisted; no price data found  (period=1y) (Yahoo error = \"No data found, symbol may be delisted\")\n",
      "$CSTR: possibly delisted; no price data found  (period=6mo) (Yahoo error = \"No data found, symbol may be delisted\")\n",
      "$CSTR: possibly delisted; no price data found  (period=1mo) (Yahoo error = \"No data found, symbol may be delisted\")\n"
     ]
    },
    {
     "name": "stdout",
     "output_type": "stream",
     "text": [
      "No data found for CSTR after retries. Skipping.\n"
     ]
    },
    {
     "name": "stderr",
     "output_type": "stream",
     "text": [
      "$CTG: possibly delisted; no price data found  (period=1y) (Yahoo error = \"No data found, symbol may be delisted\")\n",
      "$CTG: possibly delisted; no price data found  (period=6mo) (Yahoo error = \"No data found, symbol may be delisted\")\n",
      "$CTG: possibly delisted; no price data found  (period=1mo) (Yahoo error = \"No data found, symbol may be delisted\")\n"
     ]
    },
    {
     "name": "stdout",
     "output_type": "stream",
     "text": [
      "No data found for CTG after retries. Skipping.\n"
     ]
    },
    {
     "name": "stderr",
     "output_type": "stream",
     "text": [
      "$CTIB: possibly delisted; no price data found  (period=1y) (Yahoo error = \"No data found, symbol may be delisted\")\n",
      "$CTIB: possibly delisted; no price data found  (period=6mo) (Yahoo error = \"No data found, symbol may be delisted\")\n",
      "$CTIB: possibly delisted; no price data found  (period=1mo) (Yahoo error = \"No data found, symbol may be delisted\")\n"
     ]
    },
    {
     "name": "stdout",
     "output_type": "stream",
     "text": [
      "No data found for CTIB after retries. Skipping.\n"
     ]
    },
    {
     "name": "stderr",
     "output_type": "stream",
     "text": [
      "$CTR: possibly delisted; no price data found  (period=1y) (Yahoo error = \"No data found, symbol may be delisted\")\n",
      "$CTR: possibly delisted; no price data found  (period=6mo) (Yahoo error = \"No data found, symbol may be delisted\")\n",
      "$CTR: possibly delisted; no price data found  (period=1mo) (Yahoo error = \"No data found, symbol may be delisted\")\n"
     ]
    },
    {
     "name": "stdout",
     "output_type": "stream",
     "text": [
      "No data found for CTR after retries. Skipping.\n"
     ]
    },
    {
     "name": "stderr",
     "output_type": "stream",
     "text": [
      "$CURO: possibly delisted; no price data found  (period=1y) (Yahoo error = \"No data found, symbol may be delisted\")\n",
      "$CURO: possibly delisted; no price data found  (period=6mo) (Yahoo error = \"No data found, symbol may be delisted\")\n",
      "$CURO: possibly delisted; no price data found  (period=1mo) (Yahoo error = \"No data found, symbol may be delisted\")\n"
     ]
    },
    {
     "name": "stdout",
     "output_type": "stream",
     "text": [
      "No data found for CURO after retries. Skipping.\n"
     ]
    },
    {
     "name": "stderr",
     "output_type": "stream",
     "text": [
      "$CVCY: possibly delisted; no price data found  (period=1y) (Yahoo error = \"No data found, symbol may be delisted\")\n",
      "$CVCY: possibly delisted; no price data found  (period=6mo) (Yahoo error = \"No data found, symbol may be delisted\")\n",
      "$CVCY: possibly delisted; no price data found  (period=1mo) (Yahoo error = \"No data found, symbol may be delisted\")\n"
     ]
    },
    {
     "name": "stdout",
     "output_type": "stream",
     "text": [
      "No data found for CVCY after retries. Skipping.\n"
     ]
    },
    {
     "name": "stderr",
     "output_type": "stream",
     "text": [
      "$CVII: possibly delisted; no price data found  (period=1y) (Yahoo error = \"No data found, symbol may be delisted\")\n",
      "$CVII: possibly delisted; no price data found  (period=6mo) (Yahoo error = \"No data found, symbol may be delisted\")\n",
      "$CVII: possibly delisted; no price data found  (period=1mo) (Yahoo error = \"No data found, symbol may be delisted\")\n"
     ]
    },
    {
     "name": "stdout",
     "output_type": "stream",
     "text": [
      "No data found for CVII after retries. Skipping.\n"
     ]
    },
    {
     "name": "stderr",
     "output_type": "stream",
     "text": [
      "$CVLY: possibly delisted; no price data found  (period=1y) (Yahoo error = \"No data found, symbol may be delisted\")\n",
      "$CVLY: possibly delisted; no price data found  (period=6mo) (Yahoo error = \"No data found, symbol may be delisted\")\n",
      "$CVLY: possibly delisted; no price data found  (period=1mo) (Yahoo error = \"No data found, symbol may be delisted\")\n"
     ]
    },
    {
     "name": "stdout",
     "output_type": "stream",
     "text": [
      "No data found for CVLY after retries. Skipping.\n"
     ]
    },
    {
     "name": "stderr",
     "output_type": "stream",
     "text": [
      "$CXAC: possibly delisted; no price data found  (period=1y) (Yahoo error = \"No data found, symbol may be delisted\")\n",
      "$CXAC: possibly delisted; no price data found  (period=6mo) (Yahoo error = \"No data found, symbol may be delisted\")\n",
      "$CXAC: possibly delisted; no price data found  (period=1mo) (Yahoo error = \"No data found, symbol may be delisted\")\n"
     ]
    },
    {
     "name": "stdout",
     "output_type": "stream",
     "text": [
      "No data found for CXAC after retries. Skipping.\n"
     ]
    },
    {
     "name": "stderr",
     "output_type": "stream",
     "text": [
      "$CYB: possibly delisted; no price data found  (period=1y)\n",
      "$CYB: possibly delisted; no price data found  (period=6mo)\n",
      "$CYB: possibly delisted; no price data found  (period=1mo)\n"
     ]
    },
    {
     "name": "stdout",
     "output_type": "stream",
     "text": [
      "No data found for CYB after retries. Skipping.\n"
     ]
    },
    {
     "name": "stderr",
     "output_type": "stream",
     "text": [
      "$CYT: possibly delisted; no price data found  (period=1y) (Yahoo error = \"No data found, symbol may be delisted\")\n",
      "$CYT: possibly delisted; no price data found  (period=6mo) (Yahoo error = \"No data found, symbol may be delisted\")\n",
      "$CYT: possibly delisted; no price data found  (period=1mo) (Yahoo error = \"No data found, symbol may be delisted\")\n"
     ]
    },
    {
     "name": "stdout",
     "output_type": "stream",
     "text": [
      "No data found for CYT after retries. Skipping.\n"
     ]
    },
    {
     "name": "stderr",
     "output_type": "stream",
     "text": [
      "$CZOO: possibly delisted; no price data found  (period=1y) (Yahoo error = \"No data found, symbol may be delisted\")\n",
      "$CZOO: possibly delisted; no price data found  (period=6mo) (Yahoo error = \"No data found, symbol may be delisted\")\n",
      "$CZOO: possibly delisted; no price data found  (period=1mo) (Yahoo error = \"No data found, symbol may be delisted\")\n"
     ]
    },
    {
     "name": "stdout",
     "output_type": "stream",
     "text": [
      "No data found for CZOO after retries. Skipping.\n"
     ]
    },
    {
     "name": "stderr",
     "output_type": "stream",
     "text": [
      "$DALS: possibly delisted; no price data found  (period=1y) (Yahoo error = \"No data found, symbol may be delisted\")\n",
      "$DALS: possibly delisted; no price data found  (period=6mo) (Yahoo error = \"No data found, symbol may be delisted\")\n",
      "$DALS: possibly delisted; no price data found  (period=1mo) (Yahoo error = \"No data found, symbol may be delisted\")\n"
     ]
    },
    {
     "name": "stdout",
     "output_type": "stream",
     "text": [
      "No data found for DALS after retries. Skipping.\n"
     ]
    },
    {
     "name": "stderr",
     "output_type": "stream",
     "text": [
      "$DBTX: possibly delisted; no price data found  (period=1y) (Yahoo error = \"No data found, symbol may be delisted\")\n",
      "$DBTX: possibly delisted; no price data found  (period=6mo) (Yahoo error = \"No data found, symbol may be delisted\")\n",
      "$DBTX: possibly delisted; no price data found  (period=1mo) (Yahoo error = \"No data found, symbol may be delisted\")\n"
     ]
    },
    {
     "name": "stdout",
     "output_type": "stream",
     "text": [
      "No data found for DBTX after retries. Skipping.\n",
      "Skipping DCF due to NaN values.\n"
     ]
    },
    {
     "name": "stderr",
     "output_type": "stream",
     "text": [
      "$DCPH: possibly delisted; no price data found  (period=1y) (Yahoo error = \"No data found, symbol may be delisted\")\n",
      "$DCPH: possibly delisted; no price data found  (period=6mo) (Yahoo error = \"No data found, symbol may be delisted\")\n",
      "$DCPH: possibly delisted; no price data found  (period=1mo) (Yahoo error = \"No data found, symbol may be delisted\")\n"
     ]
    },
    {
     "name": "stdout",
     "output_type": "stream",
     "text": [
      "No data found for DCPH after retries. Skipping.\n"
     ]
    },
    {
     "name": "stderr",
     "output_type": "stream",
     "text": [
      "$DEN: possibly delisted; no price data found  (period=1y) (Yahoo error = \"No data found, symbol may be delisted\")\n",
      "$DEN: possibly delisted; no price data found  (period=6mo) (Yahoo error = \"No data found, symbol may be delisted\")\n",
      "$DEN: possibly delisted; no price data found  (period=1mo) (Yahoo error = \"No data found, symbol may be delisted\")\n"
     ]
    },
    {
     "name": "stdout",
     "output_type": "stream",
     "text": [
      "No data found for DEN after retries. Skipping.\n"
     ]
    },
    {
     "name": "stderr",
     "output_type": "stream",
     "text": [
      "$DFFN: possibly delisted; no price data found  (period=1y) (Yahoo error = \"No data found, symbol may be delisted\")\n",
      "$DFFN: possibly delisted; no price data found  (period=6mo) (Yahoo error = \"No data found, symbol may be delisted\")\n",
      "$DFFN: possibly delisted; no price data found  (period=1mo) (Yahoo error = \"No data found, symbol may be delisted\")\n"
     ]
    },
    {
     "name": "stdout",
     "output_type": "stream",
     "text": [
      "No data found for DFFN after retries. Skipping.\n"
     ]
    },
    {
     "name": "stderr",
     "output_type": "stream",
     "text": [
      "$DHAC: possibly delisted; no price data found  (period=1y) (Yahoo error = \"No data found, symbol may be delisted\")\n",
      "$DHAC: possibly delisted; no price data found  (period=6mo) (Yahoo error = \"No data found, symbol may be delisted\")\n",
      "$DHAC: possibly delisted; no price data found  (period=1mo) (Yahoo error = \"No data found, symbol may be delisted\")\n"
     ]
    },
    {
     "name": "stdout",
     "output_type": "stream",
     "text": [
      "No data found for DHAC after retries. Skipping.\n"
     ]
    },
    {
     "name": "stderr",
     "output_type": "stream",
     "text": [
      "$DHCA: possibly delisted; no price data found  (period=1y) (Yahoo error = \"No data found, symbol may be delisted\")\n",
      "$DHCA: possibly delisted; no price data found  (period=6mo) (Yahoo error = \"No data found, symbol may be delisted\")\n",
      "$DHCA: possibly delisted; no price data found  (period=1mo) (Yahoo error = \"No data found, symbol may be delisted\")\n"
     ]
    },
    {
     "name": "stdout",
     "output_type": "stream",
     "text": [
      "No data found for DHCA after retries. Skipping.\n"
     ]
    },
    {
     "name": "stderr",
     "output_type": "stream",
     "text": [
      "$DICE: possibly delisted; no price data found  (period=1y) (Yahoo error = \"No data found, symbol may be delisted\")\n",
      "$DICE: possibly delisted; no price data found  (period=6mo) (Yahoo error = \"No data found, symbol may be delisted\")\n",
      "$DICE: possibly delisted; no price data found  (period=1mo) (Yahoo error = \"No data found, symbol may be delisted\")\n"
     ]
    },
    {
     "name": "stdout",
     "output_type": "stream",
     "text": [
      "No data found for DICE after retries. Skipping.\n"
     ]
    },
    {
     "name": "stderr",
     "output_type": "stream",
     "text": [
      "$DISA: possibly delisted; no price data found  (period=1y) (Yahoo error = \"No data found, symbol may be delisted\")\n",
      "$DISA: possibly delisted; no price data found  (period=6mo) (Yahoo error = \"No data found, symbol may be delisted\")\n",
      "$DISA: possibly delisted; no price data found  (period=1mo) (Yahoo error = \"No data found, symbol may be delisted\")\n"
     ]
    },
    {
     "name": "stdout",
     "output_type": "stream",
     "text": [
      "No data found for DISA after retries. Skipping.\n"
     ]
    },
    {
     "name": "stderr",
     "output_type": "stream",
     "text": [
      "$DISH: possibly delisted; no price data found  (period=1y) (Yahoo error = \"No data found, symbol may be delisted\")\n",
      "$DISH: possibly delisted; no price data found  (period=6mo) (Yahoo error = \"No data found, symbol may be delisted\")\n",
      "$DISH: possibly delisted; no price data found  (period=1mo) (Yahoo error = \"No data found, symbol may be delisted\")\n"
     ]
    },
    {
     "name": "stdout",
     "output_type": "stream",
     "text": [
      "No data found for DISH after retries. Skipping.\n"
     ]
    },
    {
     "name": "stderr",
     "output_type": "stream",
     "text": [
      "$DKDCA: possibly delisted; no price data found  (period=1y) (Yahoo error = \"No data found, symbol may be delisted\")\n",
      "$DKDCA: possibly delisted; no price data found  (period=6mo) (Yahoo error = \"No data found, symbol may be delisted\")\n",
      "$DKDCA: possibly delisted; no price data found  (period=1mo) (Yahoo error = \"No data found, symbol may be delisted\")\n"
     ]
    },
    {
     "name": "stdout",
     "output_type": "stream",
     "text": [
      "No data found for DKDCA after retries. Skipping.\n"
     ]
    },
    {
     "name": "stderr",
     "output_type": "stream",
     "text": [
      "$DLA: possibly delisted; no price data found  (period=1y) (Yahoo error = \"No data found, symbol may be delisted\")\n",
      "$DLA: possibly delisted; no price data found  (period=6mo) (Yahoo error = \"No data found, symbol may be delisted\")\n",
      "$DLA: possibly delisted; no price data found  (period=1mo) (Yahoo error = \"No data found, symbol may be delisted\")\n"
     ]
    },
    {
     "name": "stdout",
     "output_type": "stream",
     "text": [
      "No data found for DLA after retries. Skipping.\n",
      "Skipping DLY due to NaN values.\n"
     ]
    },
    {
     "name": "stderr",
     "output_type": "stream",
     "text": [
      "$DMAQ: possibly delisted; no price data found  (period=1y) (Yahoo error = \"No data found, symbol may be delisted\")\n",
      "$DMAQ: possibly delisted; no price data found  (period=6mo) (Yahoo error = \"No data found, symbol may be delisted\")\n",
      "$DMAQ: possibly delisted; no price data found  (period=1mo) (Yahoo error = \"No data found, symbol may be delisted\")\n"
     ]
    },
    {
     "name": "stdout",
     "output_type": "stream",
     "text": [
      "No data found for DMAQ after retries. Skipping.\n"
     ]
    },
    {
     "name": "stderr",
     "output_type": "stream",
     "text": [
      "$DMK: possibly delisted; no price data found  (period=1y)\n",
      "$DMK: possibly delisted; no price data found  (period=6mo)\n",
      "$DMK: possibly delisted; no price data found  (period=1mo)\n"
     ]
    },
    {
     "name": "stdout",
     "output_type": "stream",
     "text": [
      "No data found for DMK after retries. Skipping.\n"
     ]
    },
    {
     "name": "stderr",
     "output_type": "stream",
     "text": [
      "$DMS: possibly delisted; no price data found  (period=1y) (Yahoo error = \"No data found, symbol may be delisted\")\n",
      "$DMS: possibly delisted; no price data found  (period=6mo) (Yahoo error = \"No data found, symbol may be delisted\")\n",
      "$DMS: possibly delisted; no price data found  (period=1mo) (Yahoo error = \"No data found, symbol may be delisted\")\n"
     ]
    },
    {
     "name": "stdout",
     "output_type": "stream",
     "text": [
      "No data found for DMS after retries. Skipping.\n"
     ]
    },
    {
     "name": "stderr",
     "output_type": "stream",
     "text": [
      "$DMTK: possibly delisted; no price data found  (period=1y) (Yahoo error = \"No data found, symbol may be delisted\")\n",
      "$DMTK: possibly delisted; no price data found  (period=6mo) (Yahoo error = \"No data found, symbol may be delisted\")\n",
      "$DMTK: possibly delisted; no price data found  (period=1mo) (Yahoo error = \"No data found, symbol may be delisted\")\n"
     ]
    },
    {
     "name": "stdout",
     "output_type": "stream",
     "text": [
      "No data found for DMTK after retries. Skipping.\n"
     ]
    },
    {
     "name": "stderr",
     "output_type": "stream",
     "text": [
      "$DO: possibly delisted; no price data found  (period=1y) (Yahoo error = \"No data found, symbol may be delisted\")\n",
      "$DO: possibly delisted; no price data found  (period=6mo) (Yahoo error = \"No data found, symbol may be delisted\")\n",
      "$DO: possibly delisted; no price data found  (period=1mo) (Yahoo error = \"No data found, symbol may be delisted\")\n"
     ]
    },
    {
     "name": "stdout",
     "output_type": "stream",
     "text": [
      "No data found for DO after retries. Skipping.\n"
     ]
    },
    {
     "name": "stderr",
     "output_type": "stream",
     "text": [
      "$DOMA: possibly delisted; no price data found  (period=1y) (Yahoo error = \"No data found, symbol may be delisted\")\n",
      "$DOMA: possibly delisted; no price data found  (period=6mo) (Yahoo error = \"No data found, symbol may be delisted\")\n",
      "$DOMA: possibly delisted; no price data found  (period=1mo) (Yahoo error = \"No data found, symbol may be delisted\")\n"
     ]
    },
    {
     "name": "stdout",
     "output_type": "stream",
     "text": [
      "No data found for DOMA after retries. Skipping.\n"
     ]
    },
    {
     "name": "stderr",
     "output_type": "stream",
     "text": [
      "$DOOR: possibly delisted; no price data found  (period=1y) (Yahoo error = \"No data found, symbol may be delisted\")\n",
      "$DOOR: possibly delisted; no price data found  (period=6mo) (Yahoo error = \"No data found, symbol may be delisted\")\n",
      "$DOOR: possibly delisted; no price data found  (period=1mo) (Yahoo error = \"No data found, symbol may be delisted\")\n"
     ]
    },
    {
     "name": "stdout",
     "output_type": "stream",
     "text": [
      "No data found for DOOR after retries. Skipping.\n"
     ]
    },
    {
     "name": "stderr",
     "output_type": "stream",
     "text": [
      "$DPSI: possibly delisted; no price data found  (period=1y) (Yahoo error = \"No data found, symbol may be delisted\")\n",
      "$DPSI: possibly delisted; no price data found  (period=6mo) (Yahoo error = \"No data found, symbol may be delisted\")\n",
      "$DPSI: possibly delisted; no price data found  (period=1mo) (Yahoo error = \"No data found, symbol may be delisted\")\n"
     ]
    },
    {
     "name": "stdout",
     "output_type": "stream",
     "text": [
      "No data found for DPSI after retries. Skipping.\n"
     ]
    },
    {
     "name": "stderr",
     "output_type": "stream",
     "text": [
      "$DRQ: possibly delisted; no price data found  (period=1y) (Yahoo error = \"No data found, symbol may be delisted\")\n",
      "$DRQ: possibly delisted; no price data found  (period=6mo) (Yahoo error = \"No data found, symbol may be delisted\")\n",
      "$DRQ: possibly delisted; no price data found  (period=1mo) (Yahoo error = \"No data found, symbol may be delisted\")\n"
     ]
    },
    {
     "name": "stdout",
     "output_type": "stream",
     "text": [
      "No data found for DRQ after retries. Skipping.\n"
     ]
    },
    {
     "name": "stderr",
     "output_type": "stream",
     "text": [
      "$DRTT: possibly delisted; no price data found  (period=1y) (Yahoo error = \"No data found, symbol may be delisted\")\n",
      "$DRTT: possibly delisted; no price data found  (period=6mo) (Yahoo error = \"No data found, symbol may be delisted\")\n",
      "$DRTT: possibly delisted; no price data found  (period=1mo) (Yahoo error = \"No data found, symbol may be delisted\")\n"
     ]
    },
    {
     "name": "stdout",
     "output_type": "stream",
     "text": [
      "No data found for DRTT after retries. Skipping.\n"
     ]
    },
    {
     "name": "stderr",
     "output_type": "stream",
     "text": [
      "$DSKE: possibly delisted; no price data found  (period=1y) (Yahoo error = \"No data found, symbol may be delisted\")\n",
      "$DSKE: possibly delisted; no price data found  (period=6mo) (Yahoo error = \"No data found, symbol may be delisted\")\n",
      "$DSKE: possibly delisted; no price data found  (period=1mo) (Yahoo error = \"No data found, symbol may be delisted\")\n"
     ]
    },
    {
     "name": "stdout",
     "output_type": "stream",
     "text": [
      "No data found for DSKE after retries. Skipping.\n"
     ]
    },
    {
     "name": "stderr",
     "output_type": "stream",
     "text": [
      "$DTOC: possibly delisted; no price data found  (period=1y) (Yahoo error = \"No data found, symbol may be delisted\")\n",
      "$DTOC: possibly delisted; no price data found  (period=6mo) (Yahoo error = \"No data found, symbol may be delisted\")\n",
      "$DTOC: possibly delisted; no price data found  (period=1mo) (Yahoo error = \"No data found, symbol may be delisted\")\n"
     ]
    },
    {
     "name": "stdout",
     "output_type": "stream",
     "text": [
      "No data found for DTOC after retries. Skipping.\n"
     ]
    },
    {
     "name": "stderr",
     "output_type": "stream",
     "text": [
      "$DUNE: possibly delisted; no price data found  (period=1y) (Yahoo error = \"No data found, symbol may be delisted\")\n",
      "$DUNE: possibly delisted; no price data found  (period=6mo) (Yahoo error = \"No data found, symbol may be delisted\")\n",
      "$DUNE: possibly delisted; no price data found  (period=1mo) (Yahoo error = \"No data found, symbol may be delisted\")\n"
     ]
    },
    {
     "name": "stdout",
     "output_type": "stream",
     "text": [
      "No data found for DUNE after retries. Skipping.\n"
     ]
    },
    {
     "name": "stderr",
     "output_type": "stream",
     "text": [
      "$DWAC: possibly delisted; no price data found  (period=1y) (Yahoo error = \"No data found, symbol may be delisted\")\n",
      "$DWAC: possibly delisted; no price data found  (period=6mo) (Yahoo error = \"No data found, symbol may be delisted\")\n",
      "$DWAC: possibly delisted; no price data found  (period=1mo) (Yahoo error = \"No data found, symbol may be delisted\")\n"
     ]
    },
    {
     "name": "stdout",
     "output_type": "stream",
     "text": [
      "No data found for DWAC after retries. Skipping.\n"
     ]
    },
    {
     "name": "stderr",
     "output_type": "stream",
     "text": [
      "$DXF: possibly delisted; no price data found  (period=1y) (Yahoo error = \"No data found, symbol may be delisted\")\n",
      "$DXF: possibly delisted; no price data found  (period=6mo) (Yahoo error = \"No data found, symbol may be delisted\")\n",
      "$DXF: possibly delisted; no price data found  (period=1mo) (Yahoo error = \"No data found, symbol may be delisted\")\n"
     ]
    },
    {
     "name": "stdout",
     "output_type": "stream",
     "text": [
      "No data found for DXF after retries. Skipping.\n"
     ]
    },
    {
     "name": "stderr",
     "output_type": "stream",
     "text": [
      "$EAC: possibly delisted; no price data found  (period=1y) (Yahoo error = \"No data found, symbol may be delisted\")\n",
      "$EAC: possibly delisted; no price data found  (period=6mo) (Yahoo error = \"No data found, symbol may be delisted\")\n",
      "$EAC: possibly delisted; no price data found  (period=1mo) (Yahoo error = \"No data found, symbol may be delisted\")\n"
     ]
    },
    {
     "name": "stdout",
     "output_type": "stream",
     "text": [
      "No data found for EAC after retries. Skipping.\n"
     ]
    },
    {
     "name": "stderr",
     "output_type": "stream",
     "text": [
      "$EAR: possibly delisted; no price data found  (period=1y) (Yahoo error = \"No data found, symbol may be delisted\")\n",
      "$EAR: possibly delisted; no price data found  (period=6mo) (Yahoo error = \"No data found, symbol may be delisted\")\n",
      "$EAR: possibly delisted; no price data found  (period=1mo) (Yahoo error = \"No data found, symbol may be delisted\")\n"
     ]
    },
    {
     "name": "stdout",
     "output_type": "stream",
     "text": [
      "No data found for EAR after retries. Skipping.\n"
     ]
    },
    {
     "name": "stderr",
     "output_type": "stream",
     "text": [
      "$EBIX: possibly delisted; no price data found  (period=1y) (Yahoo error = \"No data found, symbol may be delisted\")\n",
      "$EBIX: possibly delisted; no price data found  (period=6mo) (Yahoo error = \"No data found, symbol may be delisted\")\n",
      "$EBIX: possibly delisted; no price data found  (period=1mo) (Yahoo error = \"No data found, symbol may be delisted\")\n"
     ]
    },
    {
     "name": "stdout",
     "output_type": "stream",
     "text": [
      "No data found for EBIX after retries. Skipping.\n",
      "Skipping ECAT due to NaN values.\n"
     ]
    },
    {
     "name": "stderr",
     "output_type": "stream",
     "text": [
      "$EDI: possibly delisted; no price data found  (period=1y) (Yahoo error = \"No data found, symbol may be delisted\")\n",
      "$EDI: possibly delisted; no price data found  (period=6mo) (Yahoo error = \"No data found, symbol may be delisted\")\n",
      "$EDI: possibly delisted; no price data found  (period=1mo) (Yahoo error = \"No data found, symbol may be delisted\")\n"
     ]
    },
    {
     "name": "stdout",
     "output_type": "stream",
     "text": [
      "No data found for EDI after retries. Skipping.\n"
     ]
    },
    {
     "name": "stderr",
     "output_type": "stream",
     "text": [
      "$EDTX: possibly delisted; no price data found  (period=1y) (Yahoo error = \"No data found, symbol may be delisted\")\n",
      "$EDTX: possibly delisted; no price data found  (period=6mo) (Yahoo error = \"No data found, symbol may be delisted\")\n",
      "$EDTX: possibly delisted; no price data found  (period=1mo) (Yahoo error = \"No data found, symbol may be delisted\")\n"
     ]
    },
    {
     "name": "stdout",
     "output_type": "stream",
     "text": [
      "No data found for EDTX after retries. Skipping.\n"
     ]
    },
    {
     "name": "stderr",
     "output_type": "stream",
     "text": [
      "$EDTXU: possibly delisted; no price data found  (period=1y) (Yahoo error = \"No data found, symbol may be delisted\")\n",
      "$EDTXU: possibly delisted; no price data found  (period=6mo) (Yahoo error = \"No data found, symbol may be delisted\")\n",
      "$EDTXU: possibly delisted; no price data found  (period=1mo) (Yahoo error = \"No data found, symbol may be delisted\")\n"
     ]
    },
    {
     "name": "stdout",
     "output_type": "stream",
     "text": [
      "No data found for EDTXU after retries. Skipping.\n"
     ]
    },
    {
     "name": "stderr",
     "output_type": "stream",
     "text": [
      "$EFHT: possibly delisted; no price data found  (period=1y) (Yahoo error = \"No data found, symbol may be delisted\")\n",
      "$EFHT: possibly delisted; no price data found  (period=6mo) (Yahoo error = \"No data found, symbol may be delisted\")\n",
      "$EFHT: possibly delisted; no price data found  (period=1mo) (Yahoo error = \"No data found, symbol may be delisted\")\n"
     ]
    },
    {
     "name": "stdout",
     "output_type": "stream",
     "text": [
      "No data found for EFHT after retries. Skipping.\n"
     ]
    },
    {
     "name": "stderr",
     "output_type": "stream",
     "text": [
      "$EGGF: possibly delisted; no price data found  (period=1y) (Yahoo error = \"No data found, symbol may be delisted\")\n",
      "$EGGF: possibly delisted; no price data found  (period=6mo) (Yahoo error = \"No data found, symbol may be delisted\")\n",
      "$EGGF: possibly delisted; no price data found  (period=1mo) (Yahoo error = \"No data found, symbol may be delisted\")\n"
     ]
    },
    {
     "name": "stdout",
     "output_type": "stream",
     "text": [
      "No data found for EGGF after retries. Skipping.\n"
     ]
    },
    {
     "name": "stderr",
     "output_type": "stream",
     "text": [
      "$EGIO: possibly delisted; no price data found  (period=1y) (Yahoo error = \"No data found, symbol may be delisted\")\n",
      "$EGIO: possibly delisted; no price data found  (period=6mo) (Yahoo error = \"No data found, symbol may be delisted\")\n",
      "$EGIO: possibly delisted; no price data found  (period=1mo) (Yahoo error = \"No data found, symbol may be delisted\")\n"
     ]
    },
    {
     "name": "stdout",
     "output_type": "stream",
     "text": [
      "No data found for EGIO after retries. Skipping.\n"
     ]
    },
    {
     "name": "stderr",
     "output_type": "stream",
     "text": [
      "$EGLE: possibly delisted; no price data found  (period=1y) (Yahoo error = \"No data found, symbol may be delisted\")\n",
      "$EGLE: possibly delisted; no price data found  (period=6mo) (Yahoo error = \"No data found, symbol may be delisted\")\n",
      "$EGLE: possibly delisted; no price data found  (period=1mo) (Yahoo error = \"No data found, symbol may be delisted\")\n"
     ]
    },
    {
     "name": "stdout",
     "output_type": "stream",
     "text": [
      "No data found for EGLE after retries. Skipping.\n"
     ]
    },
    {
     "name": "stderr",
     "output_type": "stream",
     "text": [
      "$EGLX: possibly delisted; no price data found  (period=1y) (Yahoo error = \"No data found, symbol may be delisted\")\n",
      "$EGLX: possibly delisted; no price data found  (period=6mo) (Yahoo error = \"No data found, symbol may be delisted\")\n",
      "$EGLX: possibly delisted; no price data found  (period=1mo) (Yahoo error = \"No data found, symbol may be delisted\")\n"
     ]
    },
    {
     "name": "stdout",
     "output_type": "stream",
     "text": [
      "No data found for EGLX after retries. Skipping.\n"
     ]
    },
    {
     "name": "stderr",
     "output_type": "stream",
     "text": [
      "$ELIQ: possibly delisted; no price data found  (period=1y) (Yahoo error = \"No data found, symbol may be delisted\")\n",
      "$ELIQ: possibly delisted; no price data found  (period=6mo) (Yahoo error = \"No data found, symbol may be delisted\")\n",
      "$ELIQ: possibly delisted; no price data found  (period=1mo) (Yahoo error = \"No data found, symbol may be delisted\")\n"
     ]
    },
    {
     "name": "stdout",
     "output_type": "stream",
     "text": [
      "No data found for ELIQ after retries. Skipping.\n"
     ]
    },
    {
     "name": "stderr",
     "output_type": "stream",
     "text": [
      "$ELYM: possibly delisted; no price data found  (period=1y) (Yahoo error = \"No data found, symbol may be delisted\")\n",
      "$ELYM: possibly delisted; no price data found  (period=6mo) (Yahoo error = \"No data found, symbol may be delisted\")\n",
      "$ELYM: possibly delisted; no price data found  (period=1mo) (Yahoo error = \"No data found, symbol may be delisted\")\n"
     ]
    },
    {
     "name": "stdout",
     "output_type": "stream",
     "text": [
      "No data found for ELYM after retries. Skipping.\n"
     ]
    },
    {
     "name": "stderr",
     "output_type": "stream",
     "text": [
      "$EMAN: possibly delisted; no price data found  (period=1y) (Yahoo error = \"No data found, symbol may be delisted\")\n",
      "$EMAN: possibly delisted; no price data found  (period=6mo) (Yahoo error = \"No data found, symbol may be delisted\")\n",
      "$EMAN: possibly delisted; no price data found  (period=1mo) (Yahoo error = \"No data found, symbol may be delisted\")\n"
     ]
    },
    {
     "name": "stdout",
     "output_type": "stream",
     "text": [
      "No data found for EMAN after retries. Skipping.\n"
     ]
    },
    {
     "name": "stderr",
     "output_type": "stream",
     "text": [
      "$EMBK: possibly delisted; no price data found  (period=1y) (Yahoo error = \"No data found, symbol may be delisted\")\n",
      "$EMBK: possibly delisted; no price data found  (period=6mo) (Yahoo error = \"No data found, symbol may be delisted\")\n",
      "$EMBK: possibly delisted; no price data found  (period=1mo) (Yahoo error = \"No data found, symbol may be delisted\")\n"
     ]
    },
    {
     "name": "stdout",
     "output_type": "stream",
     "text": [
      "No data found for EMBK after retries. Skipping.\n"
     ]
    },
    {
     "name": "stderr",
     "output_type": "stream",
     "text": [
      "$EMLD: possibly delisted; no price data found  (period=1y) (Yahoo error = \"No data found, symbol may be delisted\")\n",
      "$EMLD: possibly delisted; no price data found  (period=6mo) (Yahoo error = \"No data found, symbol may be delisted\")\n",
      "$EMLD: possibly delisted; no price data found  (period=1mo) (Yahoo error = \"No data found, symbol may be delisted\")\n"
     ]
    },
    {
     "name": "stdout",
     "output_type": "stream",
     "text": [
      "No data found for EMLD after retries. Skipping.\n"
     ]
    },
    {
     "name": "stderr",
     "output_type": "stream",
     "text": [
      "$ENCP: possibly delisted; no price data found  (period=1y) (Yahoo error = \"No data found, symbol may be delisted\")\n",
      "$ENCP: possibly delisted; no price data found  (period=6mo) (Yahoo error = \"No data found, symbol may be delisted\")\n",
      "$ENCP: possibly delisted; no price data found  (period=1mo) (Yahoo error = \"No data found, symbol may be delisted\")\n"
     ]
    },
    {
     "name": "stdout",
     "output_type": "stream",
     "text": [
      "No data found for ENCP after retries. Skipping.\n"
     ]
    },
    {
     "name": "stderr",
     "output_type": "stream",
     "text": [
      "$ENER: possibly delisted; no price data found  (period=1y) (Yahoo error = \"No data found, symbol may be delisted\")\n",
      "$ENER: possibly delisted; no price data found  (period=6mo) (Yahoo error = \"No data found, symbol may be delisted\")\n",
      "$ENER: possibly delisted; no price data found  (period=1mo) (Yahoo error = \"No data found, symbol may be delisted\")\n"
     ]
    },
    {
     "name": "stdout",
     "output_type": "stream",
     "text": [
      "No data found for ENER after retries. Skipping.\n"
     ]
    },
    {
     "name": "stderr",
     "output_type": "stream",
     "text": [
      "$ENTF: possibly delisted; no price data found  (period=1y) (Yahoo error = \"No data found, symbol may be delisted\")\n",
      "$ENTF: possibly delisted; no price data found  (period=6mo) (Yahoo error = \"No data found, symbol may be delisted\")\n",
      "$ENTF: possibly delisted; no price data found  (period=1mo) (Yahoo error = \"No data found, symbol may be delisted\")\n"
     ]
    },
    {
     "name": "stdout",
     "output_type": "stream",
     "text": [
      "No data found for ENTF after retries. Skipping.\n"
     ]
    },
    {
     "name": "stderr",
     "output_type": "stream",
     "text": [
      "$EQRX: possibly delisted; no price data found  (period=1y) (Yahoo error = \"No data found, symbol may be delisted\")\n",
      "$EQRX: possibly delisted; no price data found  (period=6mo) (Yahoo error = \"No data found, symbol may be delisted\")\n",
      "$EQRX: possibly delisted; no price data found  (period=1mo) (Yahoo error = \"No data found, symbol may be delisted\")\n"
     ]
    },
    {
     "name": "stdout",
     "output_type": "stream",
     "text": [
      "No data found for EQRX after retries. Skipping.\n"
     ]
    },
    {
     "name": "stderr",
     "output_type": "stream",
     "text": [
      "$ERF: possibly delisted; no price data found  (period=1y) (Yahoo error = \"No data found, symbol may be delisted\")\n",
      "$ERF: possibly delisted; no price data found  (period=6mo) (Yahoo error = \"No data found, symbol may be delisted\")\n",
      "$ERF: possibly delisted; no price data found  (period=1mo) (Yahoo error = \"No data found, symbol may be delisted\")\n"
     ]
    },
    {
     "name": "stdout",
     "output_type": "stream",
     "text": [
      "No data found for ERF after retries. Skipping.\n"
     ]
    },
    {
     "name": "stderr",
     "output_type": "stream",
     "text": [
      "$ESAC: possibly delisted; no price data found  (period=1y) (Yahoo error = \"No data found, symbol may be delisted\")\n",
      "$ESAC: possibly delisted; no price data found  (period=6mo) (Yahoo error = \"No data found, symbol may be delisted\")\n",
      "$ESAC: possibly delisted; no price data found  (period=1mo) (Yahoo error = \"No data found, symbol may be delisted\")\n"
     ]
    },
    {
     "name": "stdout",
     "output_type": "stream",
     "text": [
      "No data found for ESAC after retries. Skipping.\n"
     ]
    },
    {
     "name": "stderr",
     "output_type": "stream",
     "text": [
      "$ESMT: possibly delisted; no price data found  (period=1y) (Yahoo error = \"No data found, symbol may be delisted\")\n",
      "$ESMT: possibly delisted; no price data found  (period=6mo) (Yahoo error = \"No data found, symbol may be delisted\")\n",
      "$ESMT: possibly delisted; no price data found  (period=1mo) (Yahoo error = \"No data found, symbol may be delisted\")\n"
     ]
    },
    {
     "name": "stdout",
     "output_type": "stream",
     "text": [
      "No data found for ESMT after retries. Skipping.\n"
     ]
    },
    {
     "name": "stderr",
     "output_type": "stream",
     "text": [
      "$ESTE: possibly delisted; no price data found  (period=1y) (Yahoo error = \"No data found, symbol may be delisted\")\n",
      "$ESTE: possibly delisted; no price data found  (period=6mo) (Yahoo error = \"No data found, symbol may be delisted\")\n",
      "$ESTE: possibly delisted; no price data found  (period=1mo) (Yahoo error = \"No data found, symbol may be delisted\")\n"
     ]
    },
    {
     "name": "stdout",
     "output_type": "stream",
     "text": [
      "No data found for ESTE after retries. Skipping.\n"
     ]
    },
    {
     "name": "stderr",
     "output_type": "stream",
     "text": [
      "$ETAO: possibly delisted; no price data found  (period=1y) (Yahoo error = \"No data found, symbol may be delisted\")\n",
      "$ETAO: possibly delisted; no price data found  (period=6mo) (Yahoo error = \"No data found, symbol may be delisted\")\n",
      "$ETAO: possibly delisted; no price data found  (period=1mo) (Yahoo error = \"No data found, symbol may be delisted\")\n"
     ]
    },
    {
     "name": "stdout",
     "output_type": "stream",
     "text": [
      "No data found for ETAO after retries. Skipping.\n"
     ]
    },
    {
     "name": "stderr",
     "output_type": "stream",
     "text": [
      "$ETRN: possibly delisted; no price data found  (period=1y) (Yahoo error = \"No data found, symbol may be delisted\")\n",
      "$ETRN: possibly delisted; no price data found  (period=6mo) (Yahoo error = \"No data found, symbol may be delisted\")\n",
      "$ETRN: possibly delisted; no price data found  (period=1mo) (Yahoo error = \"No data found, symbol may be delisted\")\n"
     ]
    },
    {
     "name": "stdout",
     "output_type": "stream",
     "text": [
      "No data found for ETRN after retries. Skipping.\n"
     ]
    },
    {
     "name": "stderr",
     "output_type": "stream",
     "text": [
      "$EURN: possibly delisted; no price data found  (period=1y) (Yahoo error = \"No data found, symbol may be delisted\")\n",
      "$EURN: possibly delisted; no price data found  (period=6mo) (Yahoo error = \"No data found, symbol may be delisted\")\n",
      "$EURN: possibly delisted; no price data found  (period=1mo) (Yahoo error = \"No data found, symbol may be delisted\")\n"
     ]
    },
    {
     "name": "stdout",
     "output_type": "stream",
     "text": [
      "No data found for EURN after retries. Skipping.\n"
     ]
    },
    {
     "name": "stderr",
     "output_type": "stream",
     "text": [
      "$EVBG: possibly delisted; no price data found  (period=1y) (Yahoo error = \"No data found, symbol may be delisted\")\n",
      "$EVBG: possibly delisted; no price data found  (period=6mo) (Yahoo error = \"No data found, symbol may be delisted\")\n",
      "$EVBG: possibly delisted; no price data found  (period=1mo) (Yahoo error = \"No data found, symbol may be delisted\")\n"
     ]
    },
    {
     "name": "stdout",
     "output_type": "stream",
     "text": [
      "No data found for EVBG after retries. Skipping.\n"
     ]
    },
    {
     "name": "stderr",
     "output_type": "stream",
     "text": [
      "$EWGS: possibly delisted; no price data found  (period=1y)\n",
      "$EWGS: possibly delisted; no price data found  (period=6mo)\n",
      "$EWGS: possibly delisted; no price data found  (period=1mo)\n"
     ]
    },
    {
     "name": "stdout",
     "output_type": "stream",
     "text": [
      "No data found for EWGS after retries. Skipping.\n"
     ]
    },
    {
     "name": "stderr",
     "output_type": "stream",
     "text": [
      "$EXPR: possibly delisted; no price data found  (period=1y) (Yahoo error = \"No data found, symbol may be delisted\")\n",
      "$EXPR: possibly delisted; no price data found  (period=6mo) (Yahoo error = \"No data found, symbol may be delisted\")\n",
      "$EXPR: possibly delisted; no price data found  (period=1mo) (Yahoo error = \"No data found, symbol may be delisted\")\n"
     ]
    },
    {
     "name": "stdout",
     "output_type": "stream",
     "text": [
      "No data found for EXPR after retries. Skipping.\n"
     ]
    },
    {
     "name": "stderr",
     "output_type": "stream",
     "text": [
      "FACT: Period '1y' is invalid, must be one of ['1d', '5d', '1mo', 'ytd', 'max']\n",
      "FACT: Period '6mo' is invalid, must be one of ['1d', '5d', '1mo', 'ytd', 'max']\n"
     ]
    },
    {
     "name": "stdout",
     "output_type": "stream",
     "text": [
      "Skipping FACT due to NaN values.\n"
     ]
    },
    {
     "name": "stderr",
     "output_type": "stream",
     "text": [
      "$FAM: possibly delisted; no price data found  (period=1y) (Yahoo error = \"No data found, symbol may be delisted\")\n",
      "$FAM: possibly delisted; no price data found  (period=6mo) (Yahoo error = \"No data found, symbol may be delisted\")\n",
      "$FAM: possibly delisted; no price data found  (period=1mo) (Yahoo error = \"No data found, symbol may be delisted\")\n"
     ]
    },
    {
     "name": "stdout",
     "output_type": "stream",
     "text": [
      "No data found for FAM after retries. Skipping.\n"
     ]
    },
    {
     "name": "stderr",
     "output_type": "stream",
     "text": [
      "$FANH: possibly delisted; no price data found  (period=1y) (Yahoo error = \"No data found, symbol may be delisted\")\n",
      "$FANH: possibly delisted; no price data found  (period=6mo) (Yahoo error = \"No data found, symbol may be delisted\")\n",
      "$FANH: possibly delisted; no price data found  (period=1mo) (Yahoo error = \"No data found, symbol may be delisted\")\n"
     ]
    },
    {
     "name": "stdout",
     "output_type": "stream",
     "text": [
      "No data found for FANH after retries. Skipping.\n"
     ]
    },
    {
     "name": "stderr",
     "output_type": "stream",
     "text": [
      "$FATH: possibly delisted; no price data found  (period=1y) (Yahoo error = \"No data found, symbol may be delisted\")\n",
      "$FATH: possibly delisted; no price data found  (period=6mo) (Yahoo error = \"No data found, symbol may be delisted\")\n",
      "$FATH: possibly delisted; no price data found  (period=1mo) (Yahoo error = \"No data found, symbol may be delisted\")\n"
     ]
    },
    {
     "name": "stdout",
     "output_type": "stream",
     "text": [
      "No data found for FATH after retries. Skipping.\n"
     ]
    },
    {
     "name": "stderr",
     "output_type": "stream",
     "text": [
      "$FATP: possibly delisted; no price data found  (period=1y) (Yahoo error = \"No data found, symbol may be delisted\")\n",
      "$FATP: possibly delisted; no price data found  (period=6mo) (Yahoo error = \"No data found, symbol may be delisted\")\n",
      "$FATP: possibly delisted; no price data found  (period=1mo) (Yahoo error = \"No data found, symbol may be delisted\")\n"
     ]
    },
    {
     "name": "stdout",
     "output_type": "stream",
     "text": [
      "No data found for FATP after retries. Skipping.\n"
     ]
    },
    {
     "name": "stderr",
     "output_type": "stream",
     "text": [
      "$FAZE: possibly delisted; no price data found  (period=1y) (Yahoo error = \"No data found, symbol may be delisted\")\n",
      "$FAZE: possibly delisted; no price data found  (period=6mo) (Yahoo error = \"No data found, symbol may be delisted\")\n",
      "$FAZE: possibly delisted; no price data found  (period=1mo) (Yahoo error = \"No data found, symbol may be delisted\")\n"
     ]
    },
    {
     "name": "stdout",
     "output_type": "stream",
     "text": [
      "No data found for FAZE after retries. Skipping.\n"
     ]
    },
    {
     "name": "stderr",
     "output_type": "stream",
     "text": [
      "$FEN: possibly delisted; no price data found  (period=1y) (Yahoo error = \"No data found, symbol may be delisted\")\n",
      "$FEN: possibly delisted; no price data found  (period=6mo) (Yahoo error = \"No data found, symbol may be delisted\")\n",
      "$FEN: possibly delisted; no price data found  (period=1mo) (Yahoo error = \"No data found, symbol may be delisted\")\n"
     ]
    },
    {
     "name": "stdout",
     "output_type": "stream",
     "text": [
      "No data found for FEN after retries. Skipping.\n"
     ]
    },
    {
     "name": "stderr",
     "output_type": "stream",
     "text": [
      "$FEXD: possibly delisted; no price data found  (period=1y) (Yahoo error = \"No data found, symbol may be delisted\")\n",
      "$FEXD: possibly delisted; no price data found  (period=6mo) (Yahoo error = \"No data found, symbol may be delisted\")\n",
      "$FEXD: possibly delisted; no price data found  (period=1mo) (Yahoo error = \"No data found, symbol may be delisted\")\n"
     ]
    },
    {
     "name": "stdout",
     "output_type": "stream",
     "text": [
      "No data found for FEXD after retries. Skipping.\n"
     ]
    },
    {
     "name": "stderr",
     "output_type": "stream",
     "text": [
      "$FGH: possibly delisted; no price data found  (period=1y) (Yahoo error = \"No data found, symbol may be delisted\")\n",
      "$FGH: possibly delisted; no price data found  (period=6mo) (Yahoo error = \"No data found, symbol may be delisted\")\n",
      "$FGH: possibly delisted; no price data found  (period=1mo) (Yahoo error = \"No data found, symbol may be delisted\")\n"
     ]
    },
    {
     "name": "stdout",
     "output_type": "stream",
     "text": [
      "No data found for FGH after retries. Skipping.\n"
     ]
    },
    {
     "name": "stderr",
     "output_type": "stream",
     "text": [
      "$FGMC: possibly delisted; no price data found  (period=1y)\n",
      "$FGMC: possibly delisted; no price data found  (period=6mo)\n",
      "$FGMC: possibly delisted; no price data found  (period=1mo)\n"
     ]
    },
    {
     "name": "stdout",
     "output_type": "stream",
     "text": [
      "No data found for FGMC after retries. Skipping.\n"
     ]
    },
    {
     "name": "stderr",
     "output_type": "stream",
     "text": [
      "$FIAC: possibly delisted; no price data found  (period=1y) (Yahoo error = \"No data found, symbol may be delisted\")\n",
      "$FIAC: possibly delisted; no price data found  (period=6mo) (Yahoo error = \"No data found, symbol may be delisted\")\n",
      "$FIAC: possibly delisted; no price data found  (period=1mo) (Yahoo error = \"No data found, symbol may be delisted\")\n"
     ]
    },
    {
     "name": "stdout",
     "output_type": "stream",
     "text": [
      "No data found for FIAC after retries. Skipping.\n"
     ]
    },
    {
     "name": "stderr",
     "output_type": "stream",
     "text": [
      "$FICV: possibly delisted; no price data found  (period=1y) (Yahoo error = \"No data found, symbol may be delisted\")\n",
      "$FICV: possibly delisted; no price data found  (period=6mo) (Yahoo error = \"No data found, symbol may be delisted\")\n",
      "$FICV: possibly delisted; no price data found  (period=1mo) (Yahoo error = \"No data found, symbol may be delisted\")\n"
     ]
    },
    {
     "name": "stdout",
     "output_type": "stream",
     "text": [
      "No data found for FICV after retries. Skipping.\n"
     ]
    },
    {
     "name": "stderr",
     "output_type": "stream",
     "text": [
      "$FIF: possibly delisted; no price data found  (period=1y) (Yahoo error = \"No data found, symbol may be delisted\")\n",
      "$FIF: possibly delisted; no price data found  (period=6mo) (Yahoo error = \"No data found, symbol may be delisted\")\n",
      "$FIF: possibly delisted; no price data found  (period=1mo) (Yahoo error = \"No data found, symbol may be delisted\")\n"
     ]
    },
    {
     "name": "stdout",
     "output_type": "stream",
     "text": [
      "No data found for FIF after retries. Skipping.\n",
      "Skipping FINS due to NaN values.\n"
     ]
    },
    {
     "name": "stderr",
     "output_type": "stream",
     "text": [
      "$FIXX: possibly delisted; no price data found  (period=1y) (Yahoo error = \"No data found, symbol may be delisted\")\n",
      "$FIXX: possibly delisted; no price data found  (period=6mo) (Yahoo error = \"No data found, symbol may be delisted\")\n",
      "$FIXX: possibly delisted; no price data found  (period=1mo) (Yahoo error = \"No data found, symbol may be delisted\")\n"
     ]
    },
    {
     "name": "stdout",
     "output_type": "stream",
     "text": [
      "No data found for FIXX after retries. Skipping.\n"
     ]
    },
    {
     "name": "stderr",
     "output_type": "stream",
     "text": [
      "$FLAG: possibly delisted; no price data found  (period=1y) (Yahoo error = \"No data found, symbol may be delisted\")\n",
      "$FLAG: possibly delisted; no price data found  (period=6mo) (Yahoo error = \"No data found, symbol may be delisted\")\n",
      "$FLAG: possibly delisted; no price data found  (period=1mo) (Yahoo error = \"No data found, symbol may be delisted\")\n"
     ]
    },
    {
     "name": "stdout",
     "output_type": "stream",
     "text": [
      "No data found for FLAG after retries. Skipping.\n"
     ]
    },
    {
     "name": "stderr",
     "output_type": "stream",
     "text": [
      "$FLFV: possibly delisted; no price data found  (period=1y) (Yahoo error = \"No data found, symbol may be delisted\")\n",
      "$FLFV: possibly delisted; no price data found  (period=6mo) (Yahoo error = \"No data found, symbol may be delisted\")\n",
      "$FLFV: possibly delisted; no price data found  (period=1mo) (Yahoo error = \"No data found, symbol may be delisted\")\n"
     ]
    },
    {
     "name": "stdout",
     "output_type": "stream",
     "text": [
      "No data found for FLFV after retries. Skipping.\n"
     ]
    },
    {
     "name": "stderr",
     "output_type": "stream",
     "text": [
      "$FLJ: possibly delisted; no price data found  (period=1y) (Yahoo error = \"No data found, symbol may be delisted\")\n",
      "$FLJ: possibly delisted; no price data found  (period=6mo) (Yahoo error = \"No data found, symbol may be delisted\")\n",
      "$FLJ: possibly delisted; no price data found  (period=1mo) (Yahoo error = \"No data found, symbol may be delisted\")\n"
     ]
    },
    {
     "name": "stdout",
     "output_type": "stream",
     "text": [
      "No data found for FLJ after retries. Skipping.\n"
     ]
    },
    {
     "name": "stderr",
     "output_type": "stream",
     "text": [
      "$FLME: possibly delisted; no price data found  (period=1y) (Yahoo error = \"No data found, symbol may be delisted\")\n",
      "$FLME: possibly delisted; no price data found  (period=6mo) (Yahoo error = \"No data found, symbol may be delisted\")\n",
      "$FLME: possibly delisted; no price data found  (period=1mo) (Yahoo error = \"No data found, symbol may be delisted\")\n"
     ]
    },
    {
     "name": "stdout",
     "output_type": "stream",
     "text": [
      "No data found for FLME after retries. Skipping.\n"
     ]
    },
    {
     "name": "stderr",
     "output_type": "stream",
     "text": [
      "$FLT: possibly delisted; no price data found  (period=1y) (Yahoo error = \"No data found, symbol may be delisted\")\n",
      "$FLT: possibly delisted; no price data found  (period=6mo) (Yahoo error = \"No data found, symbol may be delisted\")\n",
      "$FLT: possibly delisted; no price data found  (period=1mo) (Yahoo error = \"No data found, symbol may be delisted\")\n"
     ]
    },
    {
     "name": "stdout",
     "output_type": "stream",
     "text": [
      "No data found for FLT after retries. Skipping.\n"
     ]
    },
    {
     "name": "stderr",
     "output_type": "stream",
     "text": [
      "$FNCB: possibly delisted; no price data found  (period=1y) (Yahoo error = \"No data found, symbol may be delisted\")\n",
      "$FNCB: possibly delisted; no price data found  (period=6mo) (Yahoo error = \"No data found, symbol may be delisted\")\n",
      "$FNCB: possibly delisted; no price data found  (period=1mo) (Yahoo error = \"No data found, symbol may be delisted\")\n"
     ]
    },
    {
     "name": "stdout",
     "output_type": "stream",
     "text": [
      "No data found for FNCB after retries. Skipping.\n"
     ]
    },
    {
     "name": "stderr",
     "output_type": "stream",
     "text": [
      "$FOCS: possibly delisted; no price data found  (period=1y) (Yahoo error = \"No data found, symbol may be delisted\")\n",
      "$FOCS: possibly delisted; no price data found  (period=6mo) (Yahoo error = \"No data found, symbol may be delisted\")\n",
      "$FOCS: possibly delisted; no price data found  (period=1mo) (Yahoo error = \"No data found, symbol may be delisted\")\n"
     ]
    },
    {
     "name": "stdout",
     "output_type": "stream",
     "text": [
      "No data found for FOCS after retries. Skipping.\n"
     ]
    },
    {
     "name": "stderr",
     "output_type": "stream",
     "text": [
      "$FORG: possibly delisted; no price data found  (period=1y) (Yahoo error = \"No data found, symbol may be delisted\")\n",
      "$FORG: possibly delisted; no price data found  (period=6mo) (Yahoo error = \"No data found, symbol may be delisted\")\n",
      "$FORG: possibly delisted; no price data found  (period=1mo) (Yahoo error = \"No data found, symbol may be delisted\")\n"
     ]
    },
    {
     "name": "stdout",
     "output_type": "stream",
     "text": [
      "No data found for FORG after retries. Skipping.\n"
     ]
    },
    {
     "name": "stderr",
     "output_type": "stream",
     "text": [
      "$FPL: possibly delisted; no price data found  (period=1y) (Yahoo error = \"No data found, symbol may be delisted\")\n",
      "$FPL: possibly delisted; no price data found  (period=6mo) (Yahoo error = \"No data found, symbol may be delisted\")\n",
      "$FPL: possibly delisted; no price data found  (period=1mo) (Yahoo error = \"No data found, symbol may be delisted\")\n"
     ]
    },
    {
     "name": "stdout",
     "output_type": "stream",
     "text": [
      "No data found for FPL after retries. Skipping.\n"
     ]
    },
    {
     "name": "stderr",
     "output_type": "stream",
     "text": [
      "$FRBK: possibly delisted; no price data found  (period=1y) (Yahoo error = \"No data found, symbol may be delisted\")\n",
      "$FRBK: possibly delisted; no price data found  (period=6mo) (Yahoo error = \"No data found, symbol may be delisted\")\n",
      "$FRBK: possibly delisted; no price data found  (period=1mo) (Yahoo error = \"No data found, symbol may be delisted\")\n"
     ]
    },
    {
     "name": "stdout",
     "output_type": "stream",
     "text": [
      "No data found for FRBK after retries. Skipping.\n"
     ]
    },
    {
     "name": "stderr",
     "output_type": "stream",
     "text": [
      "$FRBN: possibly delisted; no price data found  (period=1y) (Yahoo error = \"No data found, symbol may be delisted\")\n",
      "$FRBN: possibly delisted; no price data found  (period=6mo) (Yahoo error = \"No data found, symbol may be delisted\")\n",
      "$FRBN: possibly delisted; no price data found  (period=1mo) (Yahoo error = \"No data found, symbol may be delisted\")\n"
     ]
    },
    {
     "name": "stdout",
     "output_type": "stream",
     "text": [
      "No data found for FRBN after retries. Skipping.\n"
     ]
    },
    {
     "name": "stderr",
     "output_type": "stream",
     "text": [
      "$FREE: possibly delisted; no price data found  (period=1y) (Yahoo error = \"No data found, symbol may be delisted\")\n",
      "$FREE: possibly delisted; no price data found  (period=6mo) (Yahoo error = \"No data found, symbol may be delisted\")\n",
      "$FREE: possibly delisted; no price data found  (period=1mo) (Yahoo error = \"No data found, symbol may be delisted\")\n"
     ]
    },
    {
     "name": "stdout",
     "output_type": "stream",
     "text": [
      "No data found for FREE after retries. Skipping.\n"
     ]
    },
    {
     "name": "stderr",
     "output_type": "stream",
     "text": [
      "$FREQ: possibly delisted; no price data found  (period=1y) (Yahoo error = \"No data found, symbol may be delisted\")\n",
      "$FREQ: possibly delisted; no price data found  (period=6mo) (Yahoo error = \"No data found, symbol may be delisted\")\n",
      "$FREQ: possibly delisted; no price data found  (period=1mo) (Yahoo error = \"No data found, symbol may be delisted\")\n"
     ]
    },
    {
     "name": "stdout",
     "output_type": "stream",
     "text": [
      "No data found for FREQ after retries. Skipping.\n"
     ]
    },
    {
     "name": "stderr",
     "output_type": "stream",
     "text": [
      "$FRG: possibly delisted; no price data found  (period=1y)\n",
      "$FRG: possibly delisted; no price data found  (period=6mo)\n",
      "$FRG: possibly delisted; no price data found  (period=1mo)\n"
     ]
    },
    {
     "name": "stdout",
     "output_type": "stream",
     "text": [
      "No data found for FRG after retries. Skipping.\n"
     ]
    },
    {
     "name": "stderr",
     "output_type": "stream",
     "text": [
      "$FRGI: possibly delisted; no price data found  (period=1y) (Yahoo error = \"No data found, symbol may be delisted\")\n",
      "$FRGI: possibly delisted; no price data found  (period=6mo) (Yahoo error = \"No data found, symbol may be delisted\")\n",
      "$FRGI: possibly delisted; no price data found  (period=1mo) (Yahoo error = \"No data found, symbol may be delisted\")\n"
     ]
    },
    {
     "name": "stdout",
     "output_type": "stream",
     "text": [
      "No data found for FRGI after retries. Skipping.\n"
     ]
    },
    {
     "name": "stderr",
     "output_type": "stream",
     "text": [
      "$FRLN: possibly delisted; no price data found  (period=1y) (Yahoo error = \"No data found, symbol may be delisted\")\n",
      "$FRLN: possibly delisted; no price data found  (period=6mo) (Yahoo error = \"No data found, symbol may be delisted\")\n",
      "$FRLN: possibly delisted; no price data found  (period=1mo) (Yahoo error = \"No data found, symbol may be delisted\")\n"
     ]
    },
    {
     "name": "stdout",
     "output_type": "stream",
     "text": [
      "No data found for FRLN after retries. Skipping.\n"
     ]
    },
    {
     "name": "stderr",
     "output_type": "stream",
     "text": [
      "$FRXB: possibly delisted; no price data found  (period=1y) (Yahoo error = \"No data found, symbol may be delisted\")\n",
      "$FRXB: possibly delisted; no price data found  (period=6mo) (Yahoo error = \"No data found, symbol may be delisted\")\n",
      "$FRXB: possibly delisted; no price data found  (period=1mo) (Yahoo error = \"No data found, symbol may be delisted\")\n"
     ]
    },
    {
     "name": "stdout",
     "output_type": "stream",
     "text": [
      "No data found for FRXB after retries. Skipping.\n"
     ]
    },
    {
     "name": "stderr",
     "output_type": "stream",
     "text": [
      "$FSD: possibly delisted; no price data found  (period=1y) (Yahoo error = \"No data found, symbol may be delisted\")\n",
      "$FSD: possibly delisted; no price data found  (period=6mo) (Yahoo error = \"No data found, symbol may be delisted\")\n",
      "$FSD: possibly delisted; no price data found  (period=1mo) (Yahoo error = \"No data found, symbol may be delisted\")\n"
     ]
    },
    {
     "name": "stdout",
     "output_type": "stream",
     "text": [
      "No data found for FSD after retries. Skipping.\n"
     ]
    },
    {
     "name": "stderr",
     "output_type": "stream",
     "text": [
      "$FSNB: possibly delisted; no price data found  (period=1y) (Yahoo error = \"No data found, symbol may be delisted\")\n",
      "$FSNB: possibly delisted; no price data found  (period=6mo) (Yahoo error = \"No data found, symbol may be delisted\")\n",
      "$FSNB: possibly delisted; no price data found  (period=1mo) (Yahoo error = \"No data found, symbol may be delisted\")\n"
     ]
    },
    {
     "name": "stdout",
     "output_type": "stream",
     "text": [
      "No data found for FSNB after retries. Skipping.\n"
     ]
    },
    {
     "name": "stderr",
     "output_type": "stream",
     "text": [
      "$FSR: possibly delisted; no price data found  (period=1y) (Yahoo error = \"No data found, symbol may be delisted\")\n",
      "$FSR: possibly delisted; no price data found  (period=6mo) (Yahoo error = \"No data found, symbol may be delisted\")\n",
      "$FSR: possibly delisted; no price data found  (period=1mo) (Yahoo error = \"No data found, symbol may be delisted\")\n"
     ]
    },
    {
     "name": "stdout",
     "output_type": "stream",
     "text": [
      "No data found for FSR after retries. Skipping.\n"
     ]
    },
    {
     "name": "stderr",
     "output_type": "stream",
     "text": [
      "$FTCH: possibly delisted; no price data found  (period=1y) (Yahoo error = \"No data found, symbol may be delisted\")\n",
      "$FTCH: possibly delisted; no price data found  (period=6mo) (Yahoo error = \"No data found, symbol may be delisted\")\n",
      "$FTCH: possibly delisted; no price data found  (period=1mo) (Yahoo error = \"No data found, symbol may be delisted\")\n"
     ]
    },
    {
     "name": "stdout",
     "output_type": "stream",
     "text": [
      "No data found for FTCH after retries. Skipping.\n",
      "Skipping FTHY due to NaN values.\n"
     ]
    },
    {
     "name": "stderr",
     "output_type": "stream",
     "text": [
      "$FUSN: possibly delisted; no price data found  (period=1y) (Yahoo error = \"No data found, symbol may be delisted\")\n",
      "$FUSN: possibly delisted; no price data found  (period=6mo) (Yahoo error = \"No data found, symbol may be delisted\")\n",
      "$FUSN: possibly delisted; no price data found  (period=1mo) (Yahoo error = \"No data found, symbol may be delisted\")\n"
     ]
    },
    {
     "name": "stdout",
     "output_type": "stream",
     "text": [
      "No data found for FUSN after retries. Skipping.\n"
     ]
    },
    {
     "name": "stderr",
     "output_type": "stream",
     "text": [
      "$FWAC: possibly delisted; no price data found  (period=1y) (Yahoo error = \"No data found, symbol may be delisted\")\n",
      "$FWAC: possibly delisted; no price data found  (period=6mo) (Yahoo error = \"No data found, symbol may be delisted\")\n",
      "$FWAC: possibly delisted; no price data found  (period=1mo) (Yahoo error = \"No data found, symbol may be delisted\")\n"
     ]
    },
    {
     "name": "stdout",
     "output_type": "stream",
     "text": [
      "No data found for FWAC after retries. Skipping.\n"
     ]
    },
    {
     "name": "stderr",
     "output_type": "stream",
     "text": [
      "$FWBI: possibly delisted; no price data found  (period=1y) (Yahoo error = \"No data found, symbol may be delisted\")\n",
      "$FWBI: possibly delisted; no price data found  (period=6mo) (Yahoo error = \"No data found, symbol may be delisted\")\n",
      "$FWBI: possibly delisted; no price data found  (period=1mo) (Yahoo error = \"No data found, symbol may be delisted\")\n"
     ]
    },
    {
     "name": "stdout",
     "output_type": "stream",
     "text": [
      "No data found for FWBI after retries. Skipping.\n",
      "Skipping FXE due to NaN values.\n"
     ]
    },
    {
     "name": "stderr",
     "output_type": "stream",
     "text": [
      "$FZT: possibly delisted; no price data found  (period=1y) (Yahoo error = \"No data found, symbol may be delisted\")\n",
      "$FZT: possibly delisted; no price data found  (period=6mo) (Yahoo error = \"No data found, symbol may be delisted\")\n",
      "$FZT: possibly delisted; no price data found  (period=1mo) (Yahoo error = \"No data found, symbol may be delisted\")\n"
     ]
    },
    {
     "name": "stdout",
     "output_type": "stream",
     "text": [
      "No data found for FZT after retries. Skipping.\n"
     ]
    },
    {
     "name": "stderr",
     "output_type": "stream",
     "text": [
      "$GAMC: possibly delisted; no price data found  (period=1y) (Yahoo error = \"No data found, symbol may be delisted\")\n",
      "$GAMC: possibly delisted; no price data found  (period=6mo) (Yahoo error = \"No data found, symbol may be delisted\")\n",
      "$GAMC: possibly delisted; no price data found  (period=1mo) (Yahoo error = \"No data found, symbol may be delisted\")\n"
     ]
    },
    {
     "name": "stdout",
     "output_type": "stream",
     "text": [
      "No data found for GAMC after retries. Skipping.\n"
     ]
    },
    {
     "name": "stderr",
     "output_type": "stream",
     "text": [
      "$GBNH: possibly delisted; no price data found  (period=1y) (Yahoo error = \"No data found, symbol may be delisted\")\n",
      "$GBNH: possibly delisted; no price data found  (period=6mo) (Yahoo error = \"No data found, symbol may be delisted\")\n",
      "$GBNH: possibly delisted; no price data found  (period=1mo) (Yahoo error = \"No data found, symbol may be delisted\")\n"
     ]
    },
    {
     "name": "stdout",
     "output_type": "stream",
     "text": [
      "No data found for GBNH after retries. Skipping.\n"
     ]
    },
    {
     "name": "stderr",
     "output_type": "stream",
     "text": [
      "$GDNR: possibly delisted; no price data found  (period=1y) (Yahoo error = \"No data found, symbol may be delisted\")\n",
      "$GDNR: possibly delisted; no price data found  (period=6mo) (Yahoo error = \"No data found, symbol may be delisted\")\n",
      "$GDNR: possibly delisted; no price data found  (period=1mo) (Yahoo error = \"No data found, symbol may be delisted\")\n"
     ]
    },
    {
     "name": "stdout",
     "output_type": "stream",
     "text": [
      "No data found for GDNR after retries. Skipping.\n"
     ]
    },
    {
     "name": "stderr",
     "output_type": "stream",
     "text": [
      "$GEHI: possibly delisted; no price data found  (period=1y) (Yahoo error = \"No data found, symbol may be delisted\")\n",
      "$GEHI: possibly delisted; no price data found  (period=6mo) (Yahoo error = \"No data found, symbol may be delisted\")\n",
      "$GEHI: possibly delisted; no price data found  (period=1mo) (Yahoo error = \"No data found, symbol may be delisted\")\n"
     ]
    },
    {
     "name": "stdout",
     "output_type": "stream",
     "text": [
      "No data found for GEHI after retries. Skipping.\n"
     ]
    },
    {
     "name": "stderr",
     "output_type": "stream",
     "text": [
      "$GENQ: possibly delisted; no price data found  (period=1y)\n",
      "$GENQ: possibly delisted; no price data found  (period=6mo)\n",
      "$GENQ: possibly delisted; no price data found  (period=1mo)\n"
     ]
    },
    {
     "name": "stdout",
     "output_type": "stream",
     "text": [
      "No data found for GENQ after retries. Skipping.\n"
     ]
    },
    {
     "name": "stderr",
     "output_type": "stream",
     "text": [
      "$GFGD: possibly delisted; no price data found  (period=1y) (Yahoo error = \"No data found, symbol may be delisted\")\n",
      "$GFGD: possibly delisted; no price data found  (period=6mo) (Yahoo error = \"No data found, symbol may be delisted\")\n",
      "$GFGD: possibly delisted; no price data found  (period=1mo) (Yahoo error = \"No data found, symbol may be delisted\")\n"
     ]
    },
    {
     "name": "stdout",
     "output_type": "stream",
     "text": [
      "No data found for GFGD after retries. Skipping.\n"
     ]
    },
    {
     "name": "stderr",
     "output_type": "stream",
     "text": [
      "$GFOR: possibly delisted; no price data found  (period=1y) (Yahoo error = \"No data found, symbol may be delisted\")\n",
      "$GFOR: possibly delisted; no price data found  (period=6mo) (Yahoo error = \"No data found, symbol may be delisted\")\n",
      "$GFOR: possibly delisted; no price data found  (period=1mo) (Yahoo error = \"No data found, symbol may be delisted\")\n"
     ]
    },
    {
     "name": "stdout",
     "output_type": "stream",
     "text": [
      "No data found for GFOR after retries. Skipping.\n"
     ]
    },
    {
     "name": "stderr",
     "output_type": "stream",
     "text": [
      "$GFX: possibly delisted; no price data found  (period=1y) (Yahoo error = \"No data found, symbol may be delisted\")\n",
      "$GFX: possibly delisted; no price data found  (period=6mo) (Yahoo error = \"No data found, symbol may be delisted\")\n",
      "$GFX: possibly delisted; no price data found  (period=1mo) (Yahoo error = \"No data found, symbol may be delisted\")\n"
     ]
    },
    {
     "name": "stdout",
     "output_type": "stream",
     "text": [
      "No data found for GFX after retries. Skipping.\n"
     ]
    },
    {
     "name": "stderr",
     "output_type": "stream",
     "text": [
      "$GGAA: possibly delisted; no price data found  (period=1y) (Yahoo error = \"No data found, symbol may be delisted\")\n",
      "$GGAA: possibly delisted; no price data found  (period=6mo) (Yahoo error = \"No data found, symbol may be delisted\")\n",
      "$GGAA: possibly delisted; no price data found  (period=1mo) (Yahoo error = \"No data found, symbol may be delisted\")\n"
     ]
    },
    {
     "name": "stdout",
     "output_type": "stream",
     "text": [
      "No data found for GGAA after retries. Skipping.\n"
     ]
    },
    {
     "name": "stderr",
     "output_type": "stream",
     "text": [
      "$GGE: possibly delisted; no price data found  (period=1y) (Yahoo error = \"No data found, symbol may be delisted\")\n",
      "$GGE: possibly delisted; no price data found  (period=6mo) (Yahoo error = \"No data found, symbol may be delisted\")\n",
      "$GGE: possibly delisted; no price data found  (period=1mo) (Yahoo error = \"No data found, symbol may be delisted\")\n"
     ]
    },
    {
     "name": "stdout",
     "output_type": "stream",
     "text": [
      "No data found for GGE after retries. Skipping.\n"
     ]
    },
    {
     "name": "stderr",
     "output_type": "stream",
     "text": [
      "$GHL: possibly delisted; no price data found  (period=1y) (Yahoo error = \"No data found, symbol may be delisted\")\n",
      "$GHL: possibly delisted; no price data found  (period=6mo) (Yahoo error = \"No data found, symbol may be delisted\")\n",
      "$GHL: possibly delisted; no price data found  (period=1mo) (Yahoo error = \"No data found, symbol may be delisted\")\n"
     ]
    },
    {
     "name": "stdout",
     "output_type": "stream",
     "text": [
      "No data found for GHL after retries. Skipping.\n"
     ]
    },
    {
     "name": "stderr",
     "output_type": "stream",
     "text": [
      "$GIA: possibly delisted; no price data found  (period=1y) (Yahoo error = \"No data found, symbol may be delisted\")\n",
      "$GIA: possibly delisted; no price data found  (period=6mo) (Yahoo error = \"No data found, symbol may be delisted\")\n",
      "$GIA: possibly delisted; no price data found  (period=1mo) (Yahoo error = \"No data found, symbol may be delisted\")\n"
     ]
    },
    {
     "name": "stdout",
     "output_type": "stream",
     "text": [
      "No data found for GIA after retries. Skipping.\n"
     ]
    },
    {
     "name": "stderr",
     "output_type": "stream",
     "text": [
      "$GIM: possibly delisted; no price data found  (period=1y) (Yahoo error = \"No data found, symbol may be delisted\")\n",
      "$GIM: possibly delisted; no price data found  (period=6mo) (Yahoo error = \"No data found, symbol may be delisted\")\n",
      "$GIM: possibly delisted; no price data found  (period=1mo) (Yahoo error = \"No data found, symbol may be delisted\")\n"
     ]
    },
    {
     "name": "stdout",
     "output_type": "stream",
     "text": [
      "No data found for GIM after retries. Skipping.\n"
     ]
    },
    {
     "name": "stderr",
     "output_type": "stream",
     "text": [
      "$GLG: possibly delisted; no price data found  (period=1y) (Yahoo error = \"No data found, symbol may be delisted\")\n",
      "$GLG: possibly delisted; no price data found  (period=6mo) (Yahoo error = \"No data found, symbol may be delisted\")\n",
      "$GLG: possibly delisted; no price data found  (period=1mo) (Yahoo error = \"No data found, symbol may be delisted\")\n"
     ]
    },
    {
     "name": "stdout",
     "output_type": "stream",
     "text": [
      "No data found for GLG after retries. Skipping.\n"
     ]
    },
    {
     "name": "stderr",
     "output_type": "stream",
     "text": [
      "$GLOP: possibly delisted; no price data found  (period=1y) (Yahoo error = \"No data found, symbol may be delisted\")\n",
      "$GLOP: possibly delisted; no price data found  (period=6mo) (Yahoo error = \"No data found, symbol may be delisted\")\n",
      "$GLOP: possibly delisted; no price data found  (period=1mo) (Yahoo error = \"No data found, symbol may be delisted\")\n"
     ]
    },
    {
     "name": "stdout",
     "output_type": "stream",
     "text": [
      "No data found for GLOP after retries. Skipping.\n"
     ]
    },
    {
     "name": "stderr",
     "output_type": "stream",
     "text": [
      "$GMVD: possibly delisted; no price data found  (period=1y) (Yahoo error = \"No data found, symbol may be delisted\")\n",
      "$GMVD: possibly delisted; no price data found  (period=6mo) (Yahoo error = \"No data found, symbol may be delisted\")\n",
      "$GMVD: possibly delisted; no price data found  (period=1mo) (Yahoo error = \"No data found, symbol may be delisted\")\n"
     ]
    },
    {
     "name": "stdout",
     "output_type": "stream",
     "text": [
      "No data found for GMVD after retries. Skipping.\n"
     ]
    },
    {
     "name": "stderr",
     "output_type": "stream",
     "text": [
      "$GOL: possibly delisted; no price data found  (period=1y) (Yahoo error = \"No data found, symbol may be delisted\")\n",
      "$GOL: possibly delisted; no price data found  (period=6mo) (Yahoo error = \"No data found, symbol may be delisted\")\n",
      "$GOL: possibly delisted; no price data found  (period=1mo) (Yahoo error = \"No data found, symbol may be delisted\")\n"
     ]
    },
    {
     "name": "stdout",
     "output_type": "stream",
     "text": [
      "No data found for GOL after retries. Skipping.\n",
      "Skipping GOODO due to NaN values.\n"
     ]
    },
    {
     "name": "stderr",
     "output_type": "stream",
     "text": [
      "$GPAC: possibly delisted; no price data found  (period=1y) (Yahoo error = \"No data found, symbol may be delisted\")\n",
      "$GPAC: possibly delisted; no price data found  (period=6mo) (Yahoo error = \"No data found, symbol may be delisted\")\n",
      "$GPAC: possibly delisted; no price data found  (period=1mo) (Yahoo error = \"No data found, symbol may be delisted\")\n"
     ]
    },
    {
     "name": "stdout",
     "output_type": "stream",
     "text": [
      "No data found for GPAC after retries. Skipping.\n"
     ]
    },
    {
     "name": "stderr",
     "output_type": "stream",
     "text": [
      "$GPP: possibly delisted; no price data found  (period=1y) (Yahoo error = \"No data found, symbol may be delisted\")\n",
      "$GPP: possibly delisted; no price data found  (period=6mo) (Yahoo error = \"No data found, symbol may be delisted\")\n",
      "$GPP: possibly delisted; no price data found  (period=1mo) (Yahoo error = \"No data found, symbol may be delisted\")\n"
     ]
    },
    {
     "name": "stdout",
     "output_type": "stream",
     "text": [
      "No data found for GPP after retries. Skipping.\n"
     ]
    },
    {
     "name": "stderr",
     "output_type": "stream",
     "text": [
      "$GPS: possibly delisted; no price data found  (period=1y) (Yahoo error = \"No data found, symbol may be delisted\")\n",
      "$GPS: possibly delisted; no price data found  (period=6mo) (Yahoo error = \"No data found, symbol may be delisted\")\n",
      "$GPS: possibly delisted; no price data found  (period=1mo) (Yahoo error = \"No data found, symbol may be delisted\")\n"
     ]
    },
    {
     "name": "stdout",
     "output_type": "stream",
     "text": [
      "No data found for GPS after retries. Skipping.\n"
     ]
    },
    {
     "name": "stderr",
     "output_type": "stream",
     "text": [
      "$GRCL: possibly delisted; no price data found  (period=1y) (Yahoo error = \"No data found, symbol may be delisted\")\n",
      "$GRCL: possibly delisted; no price data found  (period=6mo) (Yahoo error = \"No data found, symbol may be delisted\")\n",
      "$GRCL: possibly delisted; no price data found  (period=1mo) (Yahoo error = \"No data found, symbol may be delisted\")\n"
     ]
    },
    {
     "name": "stdout",
     "output_type": "stream",
     "text": [
      "No data found for GRCL after retries. Skipping.\n"
     ]
    },
    {
     "name": "stderr",
     "output_type": "stream",
     "text": [
      "$GRIL: possibly delisted; no price data found  (period=1y) (Yahoo error = \"No data found, symbol may be delisted\")\n",
      "$GRIL: possibly delisted; no price data found  (period=6mo) (Yahoo error = \"No data found, symbol may be delisted\")\n",
      "$GRIL: possibly delisted; no price data found  (period=1mo) (Yahoo error = \"No data found, symbol may be delisted\")\n"
     ]
    },
    {
     "name": "stdout",
     "output_type": "stream",
     "text": [
      "No data found for GRIL after retries. Skipping.\n"
     ]
    },
    {
     "name": "stderr",
     "output_type": "stream",
     "text": [
      "$GRIN: possibly delisted; no price data found  (period=1y) (Yahoo error = \"No data found, symbol may be delisted\")\n",
      "$GRIN: possibly delisted; no price data found  (period=6mo) (Yahoo error = \"No data found, symbol may be delisted\")\n",
      "$GRIN: possibly delisted; no price data found  (period=1mo) (Yahoo error = \"No data found, symbol may be delisted\")\n"
     ]
    },
    {
     "name": "stdout",
     "output_type": "stream",
     "text": [
      "No data found for GRIN after retries. Skipping.\n"
     ]
    },
    {
     "name": "stderr",
     "output_type": "stream",
     "text": [
      "$GRNA: possibly delisted; no price data found  (period=1y) (Yahoo error = \"No data found, symbol may be delisted\")\n",
      "$GRNA: possibly delisted; no price data found  (period=6mo) (Yahoo error = \"No data found, symbol may be delisted\")\n",
      "$GRNA: possibly delisted; no price data found  (period=1mo) (Yahoo error = \"No data found, symbol may be delisted\")\n"
     ]
    },
    {
     "name": "stdout",
     "output_type": "stream",
     "text": [
      "No data found for GRNA after retries. Skipping.\n"
     ]
    },
    {
     "name": "stderr",
     "output_type": "stream",
     "text": [
      "$GRPH: possibly delisted; no price data found  (period=1y) (Yahoo error = \"No data found, symbol may be delisted\")\n",
      "$GRPH: possibly delisted; no price data found  (period=6mo) (Yahoo error = \"No data found, symbol may be delisted\")\n",
      "$GRPH: possibly delisted; no price data found  (period=1mo) (Yahoo error = \"No data found, symbol may be delisted\")\n"
     ]
    },
    {
     "name": "stdout",
     "output_type": "stream",
     "text": [
      "No data found for GRPH after retries. Skipping.\n"
     ]
    },
    {
     "name": "stderr",
     "output_type": "stream",
     "text": [
      "$GRTS: possibly delisted; no price data found  (period=1y) (Yahoo error = \"No data found, symbol may be delisted\")\n",
      "$GRTS: possibly delisted; no price data found  (period=6mo) (Yahoo error = \"No data found, symbol may be delisted\")\n",
      "$GRTS: possibly delisted; no price data found  (period=1mo) (Yahoo error = \"No data found, symbol may be delisted\")\n"
     ]
    },
    {
     "name": "stdout",
     "output_type": "stream",
     "text": [
      "No data found for GRTS after retries. Skipping.\n"
     ]
    },
    {
     "name": "stderr",
     "output_type": "stream",
     "text": [
      "$GSD: possibly delisted; no price data found  (period=1y) (Yahoo error = \"No data found, symbol may be delisted\")\n",
      "$GSD: possibly delisted; no price data found  (period=6mo) (Yahoo error = \"No data found, symbol may be delisted\")\n",
      "$GSD: possibly delisted; no price data found  (period=1mo) (Yahoo error = \"No data found, symbol may be delisted\")\n"
     ]
    },
    {
     "name": "stdout",
     "output_type": "stream",
     "text": [
      "No data found for GSD after retries. Skipping.\n"
     ]
    },
    {
     "name": "stderr",
     "output_type": "stream",
     "text": [
      "$GSMG: possibly delisted; no price data found  (period=1y) (Yahoo error = \"No data found, symbol may be delisted\")\n",
      "$GSMG: possibly delisted; no price data found  (period=6mo) (Yahoo error = \"No data found, symbol may be delisted\")\n",
      "$GSMG: possibly delisted; no price data found  (period=1mo) (Yahoo error = \"No data found, symbol may be delisted\")\n"
     ]
    },
    {
     "name": "stdout",
     "output_type": "stream",
     "text": [
      "No data found for GSMG after retries. Skipping.\n"
     ]
    },
    {
     "name": "stderr",
     "output_type": "stream",
     "text": [
      "$GTAC: possibly delisted; no price data found  (period=1y) (Yahoo error = \"No data found, symbol may be delisted\")\n",
      "$GTAC: possibly delisted; no price data found  (period=6mo) (Yahoo error = \"No data found, symbol may be delisted\")\n",
      "$GTAC: possibly delisted; no price data found  (period=1mo) (Yahoo error = \"No data found, symbol may be delisted\")\n"
     ]
    },
    {
     "name": "stdout",
     "output_type": "stream",
     "text": [
      "No data found for GTAC after retries. Skipping.\n"
     ]
    },
    {
     "name": "stderr",
     "output_type": "stream",
     "text": [
      "$GTH: possibly delisted; no price data found  (period=1y) (Yahoo error = \"No data found, symbol may be delisted\")\n",
      "$GTH: possibly delisted; no price data found  (period=6mo) (Yahoo error = \"No data found, symbol may be delisted\")\n",
      "$GTH: possibly delisted; no price data found  (period=1mo) (Yahoo error = \"No data found, symbol may be delisted\")\n"
     ]
    },
    {
     "name": "stdout",
     "output_type": "stream",
     "text": [
      "No data found for GTH after retries. Skipping.\n"
     ]
    },
    {
     "name": "stderr",
     "output_type": "stream",
     "text": [
      "$GTHX: possibly delisted; no price data found  (period=1y) (Yahoo error = \"No data found, symbol may be delisted\")\n",
      "$GTHX: possibly delisted; no price data found  (period=6mo) (Yahoo error = \"No data found, symbol may be delisted\")\n",
      "$GTHX: possibly delisted; no price data found  (period=1mo) (Yahoo error = \"No data found, symbol may be delisted\")\n"
     ]
    },
    {
     "name": "stdout",
     "output_type": "stream",
     "text": [
      "No data found for GTHX after retries. Skipping.\n",
      "Skipping GUG due to NaN values.\n"
     ]
    },
    {
     "name": "stderr",
     "output_type": "stream",
     "text": [
      "$GVP: possibly delisted; no price data found  (period=1y) (Yahoo error = \"No data found, symbol may be delisted\")\n",
      "$GVP: possibly delisted; no price data found  (period=6mo) (Yahoo error = \"No data found, symbol may be delisted\")\n",
      "$GVP: possibly delisted; no price data found  (period=1mo) (Yahoo error = \"No data found, symbol may be delisted\")\n"
     ]
    },
    {
     "name": "stdout",
     "output_type": "stream",
     "text": [
      "No data found for GVP after retries. Skipping.\n"
     ]
    },
    {
     "name": "stderr",
     "output_type": "stream",
     "text": [
      "$HA: possibly delisted; no price data found  (period=1y) (Yahoo error = \"No data found, symbol may be delisted\")\n",
      "$HA: possibly delisted; no price data found  (period=6mo) (Yahoo error = \"No data found, symbol may be delisted\")\n",
      "$HA: possibly delisted; no price data found  (period=1mo) (Yahoo error = \"No data found, symbol may be delisted\")\n"
     ]
    },
    {
     "name": "stdout",
     "output_type": "stream",
     "text": [
      "No data found for HA after retries. Skipping.\n"
     ]
    },
    {
     "name": "stderr",
     "output_type": "stream",
     "text": [
      "$HARP: possibly delisted; no price data found  (period=1y) (Yahoo error = \"No data found, symbol may be delisted\")\n",
      "$HARP: possibly delisted; no price data found  (period=6mo) (Yahoo error = \"No data found, symbol may be delisted\")\n",
      "$HARP: possibly delisted; no price data found  (period=1mo) (Yahoo error = \"No data found, symbol may be delisted\")\n"
     ]
    },
    {
     "name": "stdout",
     "output_type": "stream",
     "text": [
      "No data found for HARP after retries. Skipping.\n"
     ]
    },
    {
     "name": "stderr",
     "output_type": "stream",
     "text": [
      "$HCCI: possibly delisted; no price data found  (period=1y) (Yahoo error = \"No data found, symbol may be delisted\")\n",
      "$HCCI: possibly delisted; no price data found  (period=6mo) (Yahoo error = \"No data found, symbol may be delisted\")\n",
      "$HCCI: possibly delisted; no price data found  (period=1mo) (Yahoo error = \"No data found, symbol may be delisted\")\n"
     ]
    },
    {
     "name": "stdout",
     "output_type": "stream",
     "text": [
      "No data found for HCCI after retries. Skipping.\n"
     ]
    },
    {
     "name": "stderr",
     "output_type": "stream",
     "text": [
      "$HCDI: possibly delisted; no price data found  (period=1y) (Yahoo error = \"No data found, symbol may be delisted\")\n",
      "$HCDI: possibly delisted; no price data found  (period=6mo) (Yahoo error = \"No data found, symbol may be delisted\")\n",
      "$HCDI: possibly delisted; no price data found  (period=1mo) (Yahoo error = \"No data found, symbol may be delisted\")\n"
     ]
    },
    {
     "name": "stdout",
     "output_type": "stream",
     "text": [
      "No data found for HCDI after retries. Skipping.\n"
     ]
    },
    {
     "name": "stderr",
     "output_type": "stream",
     "text": [
      "$HCMA: possibly delisted; no price data found  (period=1y) (Yahoo error = \"No data found, symbol may be delisted\")\n",
      "$HCMA: possibly delisted; no price data found  (period=6mo) (Yahoo error = \"No data found, symbol may be delisted\")\n",
      "$HCMA: possibly delisted; no price data found  (period=1mo) (Yahoo error = \"No data found, symbol may be delisted\")\n"
     ]
    },
    {
     "name": "stdout",
     "output_type": "stream",
     "text": [
      "No data found for HCMA after retries. Skipping.\n",
      "Skipping HCXY due to NaN values.\n"
     ]
    },
    {
     "name": "stderr",
     "output_type": "stream",
     "text": [
      "$HEP: possibly delisted; no price data found  (period=1y) (Yahoo error = \"No data found, symbol may be delisted\")\n",
      "$HEP: possibly delisted; no price data found  (period=6mo) (Yahoo error = \"No data found, symbol may be delisted\")\n",
      "$HEP: possibly delisted; no price data found  (period=1mo) (Yahoo error = \"No data found, symbol may be delisted\")\n"
     ]
    },
    {
     "name": "stdout",
     "output_type": "stream",
     "text": [
      "No data found for HEP after retries. Skipping.\n"
     ]
    },
    {
     "name": "stderr",
     "output_type": "stream",
     "text": [
      "$HEWC: possibly delisted; no price data found  (period=1y)\n",
      "$HEWC: possibly delisted; no price data found  (period=6mo)\n",
      "$HEWC: possibly delisted; no price data found  (period=1mo)\n"
     ]
    },
    {
     "name": "stdout",
     "output_type": "stream",
     "text": [
      "No data found for HEWC after retries. Skipping.\n"
     ]
    },
    {
     "name": "stderr",
     "output_type": "stream",
     "text": [
      "$HEWU: possibly delisted; no price data found  (period=1y)\n",
      "$HEWU: possibly delisted; no price data found  (period=6mo)\n",
      "$HEWU: possibly delisted; no price data found  (period=1mo)\n"
     ]
    },
    {
     "name": "stdout",
     "output_type": "stream",
     "text": [
      "No data found for HEWU after retries. Skipping.\n"
     ]
    },
    {
     "name": "stderr",
     "output_type": "stream",
     "text": [
      "$HGEN: possibly delisted; no price data found  (period=1y)\n",
      "$HGEN: possibly delisted; no price data found  (period=6mo)\n",
      "$HGEN: possibly delisted; no price data found  (period=1mo)\n"
     ]
    },
    {
     "name": "stdout",
     "output_type": "stream",
     "text": [
      "No data found for HGEN after retries. Skipping.\n",
      "Skipping HGLB due to NaN values.\n"
     ]
    },
    {
     "name": "stderr",
     "output_type": "stream",
     "text": [
      "$HHC: possibly delisted; no price data found  (period=1y) (Yahoo error = \"No data found, symbol may be delisted\")\n",
      "$HHC: possibly delisted; no price data found  (period=6mo) (Yahoo error = \"No data found, symbol may be delisted\")\n",
      "$HHC: possibly delisted; no price data found  (period=1mo) (Yahoo error = \"No data found, symbol may be delisted\")\n"
     ]
    },
    {
     "name": "stdout",
     "output_type": "stream",
     "text": [
      "No data found for HHC after retries. Skipping.\n"
     ]
    },
    {
     "name": "stderr",
     "output_type": "stream",
     "text": [
      "$HHLA: possibly delisted; no price data found  (period=1y) (Yahoo error = \"No data found, symbol may be delisted\")\n",
      "$HHLA: possibly delisted; no price data found  (period=6mo) (Yahoo error = \"No data found, symbol may be delisted\")\n",
      "$HHLA: possibly delisted; no price data found  (period=1mo) (Yahoo error = \"No data found, symbol may be delisted\")\n"
     ]
    },
    {
     "name": "stdout",
     "output_type": "stream",
     "text": [
      "No data found for HHLA after retries. Skipping.\n"
     ]
    },
    {
     "name": "stderr",
     "output_type": "stream",
     "text": [
      "$HHRS: possibly delisted; no price data found  (period=1y) (Yahoo error = \"No data found, symbol may be delisted\")\n",
      "$HHRS: possibly delisted; no price data found  (period=6mo) (Yahoo error = \"No data found, symbol may be delisted\")\n",
      "$HHRS: possibly delisted; no price data found  (period=1mo) (Yahoo error = \"No data found, symbol may be delisted\")\n"
     ]
    },
    {
     "name": "stdout",
     "output_type": "stream",
     "text": [
      "No data found for HHRS after retries. Skipping.\n"
     ]
    },
    {
     "name": "stderr",
     "output_type": "stream",
     "text": [
      "$HIBB: possibly delisted; no price data found  (period=1y) (Yahoo error = \"No data found, symbol may be delisted\")\n",
      "$HIBB: possibly delisted; no price data found  (period=6mo) (Yahoo error = \"No data found, symbol may be delisted\")\n",
      "$HIBB: possibly delisted; no price data found  (period=1mo) (Yahoo error = \"No data found, symbol may be delisted\")\n"
     ]
    },
    {
     "name": "stdout",
     "output_type": "stream",
     "text": [
      "No data found for HIBB after retries. Skipping.\n"
     ]
    },
    {
     "name": "stderr",
     "output_type": "stream",
     "text": [
      "$HILS: possibly delisted; no price data found  (period=1y) (Yahoo error = \"No data found, symbol may be delisted\")\n",
      "$HILS: possibly delisted; no price data found  (period=6mo) (Yahoo error = \"No data found, symbol may be delisted\")\n",
      "$HILS: possibly delisted; no price data found  (period=1mo) (Yahoo error = \"No data found, symbol may be delisted\")\n"
     ]
    },
    {
     "name": "stdout",
     "output_type": "stream",
     "text": [
      "No data found for HILS after retries. Skipping.\n"
     ]
    },
    {
     "name": "stderr",
     "output_type": "stream",
     "text": [
      "$HLTH: possibly delisted; no price data found  (period=1y) (Yahoo error = \"No data found, symbol may be delisted\")\n",
      "$HLTH: possibly delisted; no price data found  (period=6mo) (Yahoo error = \"No data found, symbol may be delisted\")\n",
      "$HLTH: possibly delisted; no price data found  (period=1mo) (Yahoo error = \"No data found, symbol may be delisted\")\n"
     ]
    },
    {
     "name": "stdout",
     "output_type": "stream",
     "text": [
      "No data found for HLTH after retries. Skipping.\n"
     ]
    },
    {
     "name": "stderr",
     "output_type": "stream",
     "text": [
      "$HMA: possibly delisted; no price data found  (period=1y) (Yahoo error = \"No data found, symbol may be delisted\")\n",
      "$HMA: possibly delisted; no price data found  (period=6mo) (Yahoo error = \"No data found, symbol may be delisted\")\n",
      "$HMA: possibly delisted; no price data found  (period=1mo) (Yahoo error = \"No data found, symbol may be delisted\")\n"
     ]
    },
    {
     "name": "stdout",
     "output_type": "stream",
     "text": [
      "No data found for HMA after retries. Skipping.\n"
     ]
    },
    {
     "name": "stderr",
     "output_type": "stream",
     "text": [
      "$HMAC: possibly delisted; no price data found  (period=1y) (Yahoo error = \"No data found, symbol may be delisted\")\n",
      "$HMAC: possibly delisted; no price data found  (period=6mo) (Yahoo error = \"No data found, symbol may be delisted\")\n",
      "$HMAC: possibly delisted; no price data found  (period=1mo) (Yahoo error = \"No data found, symbol may be delisted\")\n"
     ]
    },
    {
     "name": "stdout",
     "output_type": "stream",
     "text": [
      "No data found for HMAC after retries. Skipping.\n"
     ]
    },
    {
     "name": "stderr",
     "output_type": "stream",
     "text": [
      "$HMNF: possibly delisted; no price data found  (period=1y) (Yahoo error = \"No data found, symbol may be delisted\")\n",
      "$HMNF: possibly delisted; no price data found  (period=6mo) (Yahoo error = \"No data found, symbol may be delisted\")\n",
      "$HMNF: possibly delisted; no price data found  (period=1mo) (Yahoo error = \"No data found, symbol may be delisted\")\n"
     ]
    },
    {
     "name": "stdout",
     "output_type": "stream",
     "text": [
      "No data found for HMNF after retries. Skipping.\n"
     ]
    },
    {
     "name": "stderr",
     "output_type": "stream",
     "text": [
      "$HMPT: possibly delisted; no price data found  (period=1y) (Yahoo error = \"No data found, symbol may be delisted\")\n",
      "$HMPT: possibly delisted; no price data found  (period=6mo) (Yahoo error = \"No data found, symbol may be delisted\")\n",
      "$HMPT: possibly delisted; no price data found  (period=1mo) (Yahoo error = \"No data found, symbol may be delisted\")\n"
     ]
    },
    {
     "name": "stdout",
     "output_type": "stream",
     "text": [
      "No data found for HMPT after retries. Skipping.\n"
     ]
    },
    {
     "name": "stderr",
     "output_type": "stream",
     "text": [
      "$HNRA: possibly delisted; no price data found  (period=1y) (Yahoo error = \"No data found, symbol may be delisted\")\n",
      "$HNRA: possibly delisted; no price data found  (period=6mo) (Yahoo error = \"No data found, symbol may be delisted\")\n",
      "$HNRA: possibly delisted; no price data found  (period=1mo) (Yahoo error = \"No data found, symbol may be delisted\")\n"
     ]
    },
    {
     "name": "stdout",
     "output_type": "stream",
     "text": [
      "No data found for HNRA after retries. Skipping.\n"
     ]
    },
    {
     "name": "stderr",
     "output_type": "stream",
     "text": [
      "$HOLI: possibly delisted; no price data found  (period=1y) (Yahoo error = \"No data found, symbol may be delisted\")\n",
      "$HOLI: possibly delisted; no price data found  (period=6mo) (Yahoo error = \"No data found, symbol may be delisted\")\n",
      "$HOLI: possibly delisted; no price data found  (period=1mo) (Yahoo error = \"No data found, symbol may be delisted\")\n"
     ]
    },
    {
     "name": "stdout",
     "output_type": "stream",
     "text": [
      "No data found for HOLI after retries. Skipping.\n"
     ]
    },
    {
     "name": "stderr",
     "output_type": "stream",
     "text": [
      "$HPLT: possibly delisted; no price data found  (period=1y) (Yahoo error = \"No data found, symbol may be delisted\")\n",
      "$HPLT: possibly delisted; no price data found  (period=6mo) (Yahoo error = \"No data found, symbol may be delisted\")\n",
      "$HPLT: possibly delisted; no price data found  (period=1mo) (Yahoo error = \"No data found, symbol may be delisted\")\n"
     ]
    },
    {
     "name": "stdout",
     "output_type": "stream",
     "text": [
      "No data found for HPLT after retries. Skipping.\n"
     ]
    },
    {
     "name": "stderr",
     "output_type": "stream",
     "text": [
      "$HRT: possibly delisted; no price data found  (period=1y) (Yahoo error = \"No data found, symbol may be delisted\")\n",
      "$HRT: possibly delisted; no price data found  (period=6mo) (Yahoo error = \"No data found, symbol may be delisted\")\n",
      "$HRT: possibly delisted; no price data found  (period=1mo) (Yahoo error = \"No data found, symbol may be delisted\")\n"
     ]
    },
    {
     "name": "stdout",
     "output_type": "stream",
     "text": [
      "No data found for HRT after retries. Skipping.\n"
     ]
    },
    {
     "name": "stderr",
     "output_type": "stream",
     "text": [
      "$HT: possibly delisted; no price data found  (period=1y) (Yahoo error = \"No data found, symbol may be delisted\")\n",
      "$HT: possibly delisted; no price data found  (period=6mo) (Yahoo error = \"No data found, symbol may be delisted\")\n",
      "$HT: possibly delisted; no price data found  (period=1mo) (Yahoo error = \"No data found, symbol may be delisted\")\n"
     ]
    },
    {
     "name": "stdout",
     "output_type": "stream",
     "text": [
      "No data found for HT after retries. Skipping.\n"
     ]
    },
    {
     "name": "stderr",
     "output_type": "stream",
     "text": [
      "$HTY: possibly delisted; no price data found  (period=1y) (Yahoo error = \"No data found, symbol may be delisted\")\n",
      "$HTY: possibly delisted; no price data found  (period=6mo) (Yahoo error = \"No data found, symbol may be delisted\")\n",
      "$HTY: possibly delisted; no price data found  (period=1mo) (Yahoo error = \"No data found, symbol may be delisted\")\n"
     ]
    },
    {
     "name": "stdout",
     "output_type": "stream",
     "text": [
      "No data found for HTY after retries. Skipping.\n"
     ]
    },
    {
     "name": "stderr",
     "output_type": "stream",
     "text": [
      "$HUGE: possibly delisted; no price data found  (period=1y) (Yahoo error = \"No data found, symbol may be delisted\")\n",
      "$HUGE: possibly delisted; no price data found  (period=6mo) (Yahoo error = \"No data found, symbol may be delisted\")\n",
      "$HUGE: possibly delisted; no price data found  (period=1mo) (Yahoo error = \"No data found, symbol may be delisted\")\n"
     ]
    },
    {
     "name": "stdout",
     "output_type": "stream",
     "text": [
      "No data found for HUGE after retries. Skipping.\n"
     ]
    },
    {
     "name": "stderr",
     "output_type": "stream",
     "text": [
      "$HWEL: possibly delisted; no price data found  (period=1y) (Yahoo error = \"No data found, symbol may be delisted\")\n",
      "$HWEL: possibly delisted; no price data found  (period=6mo) (Yahoo error = \"No data found, symbol may be delisted\")\n",
      "$HWEL: possibly delisted; no price data found  (period=1mo) (Yahoo error = \"No data found, symbol may be delisted\")\n"
     ]
    },
    {
     "name": "stdout",
     "output_type": "stream",
     "text": [
      "No data found for HWEL after retries. Skipping.\n"
     ]
    },
    {
     "name": "stderr",
     "output_type": "stream",
     "text": [
      "$HYW: possibly delisted; no price data found  (period=1y) (Yahoo error = \"No data found, symbol may be delisted\")\n",
      "$HYW: possibly delisted; no price data found  (period=6mo) (Yahoo error = \"No data found, symbol may be delisted\")\n",
      "$HYW: possibly delisted; no price data found  (period=1mo) (Yahoo error = \"No data found, symbol may be delisted\")\n"
     ]
    },
    {
     "name": "stdout",
     "output_type": "stream",
     "text": [
      "No data found for HYW after retries. Skipping.\n"
     ]
    },
    {
     "name": "stderr",
     "output_type": "stream",
     "text": [
      "$HZNP: possibly delisted; no price data found  (period=1y)\n",
      "$HZNP: possibly delisted; no price data found  (period=6mo)\n",
      "$HZNP: possibly delisted; no price data found  (period=1mo)\n"
     ]
    },
    {
     "name": "stdout",
     "output_type": "stream",
     "text": [
      "No data found for HZNP after retries. Skipping.\n"
     ]
    },
    {
     "name": "stderr",
     "output_type": "stream",
     "text": [
      "$ICD: possibly delisted; no price data found  (period=1y) (Yahoo error = \"No data found, symbol may be delisted\")\n",
      "$ICD: possibly delisted; no price data found  (period=6mo) (Yahoo error = \"No data found, symbol may be delisted\")\n",
      "$ICD: possibly delisted; no price data found  (period=1mo) (Yahoo error = \"No data found, symbol may be delisted\")\n"
     ]
    },
    {
     "name": "stdout",
     "output_type": "stream",
     "text": [
      "No data found for ICD after retries. Skipping.\n"
     ]
    },
    {
     "name": "stderr",
     "output_type": "stream",
     "text": [
      "$ICNC: possibly delisted; no price data found  (period=1y) (Yahoo error = \"No data found, symbol may be delisted\")\n",
      "$ICNC: possibly delisted; no price data found  (period=6mo) (Yahoo error = \"No data found, symbol may be delisted\")\n",
      "$ICNC: possibly delisted; no price data found  (period=1mo) (Yahoo error = \"No data found, symbol may be delisted\")\n"
     ]
    },
    {
     "name": "stdout",
     "output_type": "stream",
     "text": [
      "No data found for ICNC after retries. Skipping.\n"
     ]
    },
    {
     "name": "stderr",
     "output_type": "stream",
     "text": [
      "$ICPT: possibly delisted; no price data found  (period=1y) (Yahoo error = \"No data found, symbol may be delisted\")\n",
      "$ICPT: possibly delisted; no price data found  (period=6mo) (Yahoo error = \"No data found, symbol may be delisted\")\n",
      "$ICPT: possibly delisted; no price data found  (period=1mo) (Yahoo error = \"No data found, symbol may be delisted\")\n"
     ]
    },
    {
     "name": "stdout",
     "output_type": "stream",
     "text": [
      "No data found for ICPT after retries. Skipping.\n"
     ]
    },
    {
     "name": "stderr",
     "output_type": "stream",
     "text": [
      "$ICVX: possibly delisted; no price data found  (period=1y) (Yahoo error = \"No data found, symbol may be delisted\")\n",
      "$ICVX: possibly delisted; no price data found  (period=6mo) (Yahoo error = \"No data found, symbol may be delisted\")\n",
      "$ICVX: possibly delisted; no price data found  (period=1mo) (Yahoo error = \"No data found, symbol may be delisted\")\n"
     ]
    },
    {
     "name": "stdout",
     "output_type": "stream",
     "text": [
      "No data found for ICVX after retries. Skipping.\n"
     ]
    },
    {
     "name": "stderr",
     "output_type": "stream",
     "text": [
      "$ID: possibly delisted; no price data found  (period=1y) (Yahoo error = \"No data found, symbol may be delisted\")\n",
      "$ID: possibly delisted; no price data found  (period=6mo) (Yahoo error = \"No data found, symbol may be delisted\")\n",
      "$ID: possibly delisted; no price data found  (period=1mo) (Yahoo error = \"No data found, symbol may be delisted\")\n"
     ]
    },
    {
     "name": "stdout",
     "output_type": "stream",
     "text": [
      "No data found for ID after retries. Skipping.\n"
     ]
    },
    {
     "name": "stderr",
     "output_type": "stream",
     "text": [
      "$IDBA: possibly delisted; no price data found  (period=1y) (Yahoo error = \"No data found, symbol may be delisted\")\n",
      "$IDBA: possibly delisted; no price data found  (period=6mo) (Yahoo error = \"No data found, symbol may be delisted\")\n",
      "$IDBA: possibly delisted; no price data found  (period=1mo) (Yahoo error = \"No data found, symbol may be delisted\")\n"
     ]
    },
    {
     "name": "stdout",
     "output_type": "stream",
     "text": [
      "No data found for IDBA after retries. Skipping.\n"
     ]
    },
    {
     "name": "stderr",
     "output_type": "stream",
     "text": [
      "$IFIN: possibly delisted; no price data found  (period=1y) (Yahoo error = \"No data found, symbol may be delisted\")\n",
      "$IFIN: possibly delisted; no price data found  (period=6mo) (Yahoo error = \"No data found, symbol may be delisted\")\n",
      "$IFIN: possibly delisted; no price data found  (period=1mo) (Yahoo error = \"No data found, symbol may be delisted\")\n"
     ]
    },
    {
     "name": "stdout",
     "output_type": "stream",
     "text": [
      "No data found for IFIN after retries. Skipping.\n"
     ]
    },
    {
     "name": "stderr",
     "output_type": "stream",
     "text": [
      "$IHIT: possibly delisted; no price data found  (period=1y) (Yahoo error = \"No data found, symbol may be delisted\")\n",
      "$IHIT: possibly delisted; no price data found  (period=6mo) (Yahoo error = \"No data found, symbol may be delisted\")\n",
      "$IHIT: possibly delisted; no price data found  (period=1mo) (Yahoo error = \"No data found, symbol may be delisted\")\n"
     ]
    },
    {
     "name": "stdout",
     "output_type": "stream",
     "text": [
      "No data found for IHIT after retries. Skipping.\n",
      "Skipping IHTA due to NaN values.\n"
     ]
    },
    {
     "name": "stderr",
     "output_type": "stream",
     "text": [
      "$ILLM: possibly delisted; no price data found  (period=1y) (Yahoo error = \"No data found, symbol may be delisted\")\n",
      "$ILLM: possibly delisted; no price data found  (period=6mo) (Yahoo error = \"No data found, symbol may be delisted\")\n",
      "$ILLM: possibly delisted; no price data found  (period=1mo) (Yahoo error = \"No data found, symbol may be delisted\")\n"
     ]
    },
    {
     "name": "stdout",
     "output_type": "stream",
     "text": [
      "No data found for ILLM after retries. Skipping.\n"
     ]
    },
    {
     "name": "stderr",
     "output_type": "stream",
     "text": [
      "$IMGN: possibly delisted; no price data found  (period=1y) (Yahoo error = \"No data found, symbol may be delisted\")\n",
      "$IMGN: possibly delisted; no price data found  (period=6mo) (Yahoo error = \"No data found, symbol may be delisted\")\n",
      "$IMGN: possibly delisted; no price data found  (period=1mo) (Yahoo error = \"No data found, symbol may be delisted\")\n"
     ]
    },
    {
     "name": "stdout",
     "output_type": "stream",
     "text": [
      "No data found for IMGN after retries. Skipping.\n"
     ]
    },
    {
     "name": "stderr",
     "output_type": "stream",
     "text": [
      "$IMPL: possibly delisted; no price data found  (period=1y) (Yahoo error = \"No data found, symbol may be delisted\")\n",
      "$IMPL: possibly delisted; no price data found  (period=6mo) (Yahoo error = \"No data found, symbol may be delisted\")\n",
      "$IMPL: possibly delisted; no price data found  (period=1mo) (Yahoo error = \"No data found, symbol may be delisted\")\n"
     ]
    },
    {
     "name": "stdout",
     "output_type": "stream",
     "text": [
      "No data found for IMPL after retries. Skipping.\n"
     ]
    },
    {
     "name": "stderr",
     "output_type": "stream",
     "text": [
      "$INFI: possibly delisted; no price data found  (period=1y) (Yahoo error = \"No data found, symbol may be delisted\")\n",
      "$INFI: possibly delisted; no price data found  (period=6mo) (Yahoo error = \"No data found, symbol may be delisted\")\n",
      "$INFI: possibly delisted; no price data found  (period=1mo) (Yahoo error = \"No data found, symbol may be delisted\")\n"
     ]
    },
    {
     "name": "stdout",
     "output_type": "stream",
     "text": [
      "No data found for INFI after retries. Skipping.\n"
     ]
    },
    {
     "name": "stderr",
     "output_type": "stream",
     "text": [
      "$INPX: possibly delisted; no price data found  (period=1y) (Yahoo error = \"No data found, symbol may be delisted\")\n",
      "$INPX: possibly delisted; no price data found  (period=6mo) (Yahoo error = \"No data found, symbol may be delisted\")\n",
      "$INPX: possibly delisted; no price data found  (period=1mo) (Yahoo error = \"No data found, symbol may be delisted\")\n"
     ]
    },
    {
     "name": "stdout",
     "output_type": "stream",
     "text": [
      "No data found for INPX after retries. Skipping.\n"
     ]
    },
    {
     "name": "stderr",
     "output_type": "stream",
     "text": [
      "$INVO: possibly delisted; no price data found  (period=1y) (Yahoo error = \"No data found, symbol may be delisted\")\n",
      "$INVO: possibly delisted; no price data found  (period=6mo) (Yahoo error = \"No data found, symbol may be delisted\")\n",
      "$INVO: possibly delisted; no price data found  (period=1mo) (Yahoo error = \"No data found, symbol may be delisted\")\n"
     ]
    },
    {
     "name": "stdout",
     "output_type": "stream",
     "text": [
      "No data found for INVO after retries. Skipping.\n"
     ]
    },
    {
     "name": "stderr",
     "output_type": "stream",
     "text": [
      "$IOAC: possibly delisted; no price data found  (period=1y) (Yahoo error = \"No data found, symbol may be delisted\")\n",
      "$IOAC: possibly delisted; no price data found  (period=6mo) (Yahoo error = \"No data found, symbol may be delisted\")\n",
      "$IOAC: possibly delisted; no price data found  (period=1mo) (Yahoo error = \"No data found, symbol may be delisted\")\n"
     ]
    },
    {
     "name": "stdout",
     "output_type": "stream",
     "text": [
      "No data found for IOAC after retries. Skipping.\n"
     ]
    },
    {
     "name": "stderr",
     "output_type": "stream",
     "text": [
      "$IPVF: possibly delisted; no price data found  (period=1y) (Yahoo error = \"No data found, symbol may be delisted\")\n",
      "$IPVF: possibly delisted; no price data found  (period=6mo) (Yahoo error = \"No data found, symbol may be delisted\")\n",
      "$IPVF: possibly delisted; no price data found  (period=1mo) (Yahoo error = \"No data found, symbol may be delisted\")\n"
     ]
    },
    {
     "name": "stdout",
     "output_type": "stream",
     "text": [
      "No data found for IPVF after retries. Skipping.\n"
     ]
    },
    {
     "name": "stderr",
     "output_type": "stream",
     "text": [
      "$IRNT: possibly delisted; no price data found  (period=1y) (Yahoo error = \"No data found, symbol may be delisted\")\n",
      "$IRNT: possibly delisted; no price data found  (period=6mo) (Yahoo error = \"No data found, symbol may be delisted\")\n",
      "$IRNT: possibly delisted; no price data found  (period=1mo) (Yahoo error = \"No data found, symbol may be delisted\")\n"
     ]
    },
    {
     "name": "stdout",
     "output_type": "stream",
     "text": [
      "No data found for IRNT after retries. Skipping.\n"
     ]
    },
    {
     "name": "stderr",
     "output_type": "stream",
     "text": [
      "$ISIG: possibly delisted; no price data found  (period=1y) (Yahoo error = \"No data found, symbol may be delisted\")\n",
      "$ISIG: possibly delisted; no price data found  (period=6mo) (Yahoo error = \"No data found, symbol may be delisted\")\n",
      "$ISIG: possibly delisted; no price data found  (period=1mo) (Yahoo error = \"No data found, symbol may be delisted\")\n"
     ]
    },
    {
     "name": "stdout",
     "output_type": "stream",
     "text": [
      "No data found for ISIG after retries. Skipping.\n"
     ]
    },
    {
     "name": "stderr",
     "output_type": "stream",
     "text": [
      "$ISUN: possibly delisted; no price data found  (period=1y) (Yahoo error = \"No data found, symbol may be delisted\")\n",
      "$ISUN: possibly delisted; no price data found  (period=6mo) (Yahoo error = \"No data found, symbol may be delisted\")\n",
      "$ISUN: possibly delisted; no price data found  (period=1mo) (Yahoo error = \"No data found, symbol may be delisted\")\n"
     ]
    },
    {
     "name": "stdout",
     "output_type": "stream",
     "text": [
      "No data found for ISUN after retries. Skipping.\n"
     ]
    },
    {
     "name": "stderr",
     "output_type": "stream",
     "text": [
      "$ITAQ: possibly delisted; no price data found  (period=1y) (Yahoo error = \"No data found, symbol may be delisted\")\n",
      "$ITAQ: possibly delisted; no price data found  (period=6mo) (Yahoo error = \"No data found, symbol may be delisted\")\n",
      "$ITAQ: possibly delisted; no price data found  (period=1mo) (Yahoo error = \"No data found, symbol may be delisted\")\n"
     ]
    },
    {
     "name": "stdout",
     "output_type": "stream",
     "text": [
      "No data found for ITAQ after retries. Skipping.\n"
     ]
    },
    {
     "name": "stderr",
     "output_type": "stream",
     "text": [
      "$ITCL: possibly delisted; no price data found  (period=1y) (Yahoo error = \"No data found, symbol may be delisted\")\n",
      "$ITCL: possibly delisted; no price data found  (period=6mo) (Yahoo error = \"No data found, symbol may be delisted\")\n",
      "$ITCL: possibly delisted; no price data found  (period=1mo) (Yahoo error = \"No data found, symbol may be delisted\")\n"
     ]
    },
    {
     "name": "stdout",
     "output_type": "stream",
     "text": [
      "No data found for ITCL after retries. Skipping.\n"
     ]
    },
    {
     "name": "stderr",
     "output_type": "stream",
     "text": [
      "$ITI: possibly delisted; no price data found  (period=1y) (Yahoo error = \"No data found, symbol may be delisted\")\n",
      "$ITI: possibly delisted; no price data found  (period=6mo) (Yahoo error = \"No data found, symbol may be delisted\")\n",
      "$ITI: possibly delisted; no price data found  (period=1mo) (Yahoo error = \"No data found, symbol may be delisted\")\n"
     ]
    },
    {
     "name": "stdout",
     "output_type": "stream",
     "text": [
      "No data found for ITI after retries. Skipping.\n"
     ]
    },
    {
     "name": "stderr",
     "output_type": "stream",
     "text": [
      "$JAN: possibly delisted; no price data found  (period=1y) (Yahoo error = \"No data found, symbol may be delisted\")\n",
      "$JAN: possibly delisted; no price data found  (period=6mo) (Yahoo error = \"No data found, symbol may be delisted\")\n",
      "$JAN: possibly delisted; no price data found  (period=1mo) (Yahoo error = \"No data found, symbol may be delisted\")\n"
     ]
    },
    {
     "name": "stdout",
     "output_type": "stream",
     "text": [
      "No data found for JAN after retries. Skipping.\n"
     ]
    },
    {
     "name": "stderr",
     "output_type": "stream",
     "text": [
      "$JAQC: possibly delisted; no price data found  (period=1y) (Yahoo error = \"No data found, symbol may be delisted\")\n",
      "$JAQC: possibly delisted; no price data found  (period=6mo) (Yahoo error = \"No data found, symbol may be delisted\")\n",
      "$JAQC: possibly delisted; no price data found  (period=1mo) (Yahoo error = \"No data found, symbol may be delisted\")\n"
     ]
    },
    {
     "name": "stdout",
     "output_type": "stream",
     "text": [
      "No data found for JAQC after retries. Skipping.\n"
     ]
    },
    {
     "name": "stderr",
     "output_type": "stream",
     "text": [
      "$JCTCF: possibly delisted; no price data found  (period=1y) (Yahoo error = \"No data found, symbol may be delisted\")\n",
      "$JCTCF: possibly delisted; no price data found  (period=6mo) (Yahoo error = \"No data found, symbol may be delisted\")\n",
      "$JCTCF: possibly delisted; no price data found  (period=1mo) (Yahoo error = \"No data found, symbol may be delisted\")\n"
     ]
    },
    {
     "name": "stdout",
     "output_type": "stream",
     "text": [
      "No data found for JCTCF after retries. Skipping.\n"
     ]
    },
    {
     "name": "stderr",
     "output_type": "stream",
     "text": [
      "$JGGC: possibly delisted; no price data found  (period=1y) (Yahoo error = \"No data found, symbol may be delisted\")\n",
      "$JGGC: possibly delisted; no price data found  (period=6mo) (Yahoo error = \"No data found, symbol may be delisted\")\n",
      "$JGGC: possibly delisted; no price data found  (period=1mo) (Yahoo error = \"No data found, symbol may be delisted\")\n"
     ]
    },
    {
     "name": "stdout",
     "output_type": "stream",
     "text": [
      "No data found for JGGC after retries. Skipping.\n"
     ]
    },
    {
     "name": "stderr",
     "output_type": "stream",
     "text": [
      "$JHAA: possibly delisted; no price data found  (period=1y) (Yahoo error = \"No data found, symbol may be delisted\")\n",
      "$JHAA: possibly delisted; no price data found  (period=6mo) (Yahoo error = \"No data found, symbol may be delisted\")\n",
      "$JHAA: possibly delisted; no price data found  (period=1mo) (Yahoo error = \"No data found, symbol may be delisted\")\n"
     ]
    },
    {
     "name": "stdout",
     "output_type": "stream",
     "text": [
      "No data found for JHAA after retries. Skipping.\n"
     ]
    },
    {
     "name": "stderr",
     "output_type": "stream",
     "text": [
      "$JOAN: possibly delisted; no price data found  (period=1y) (Yahoo error = \"No data found, symbol may be delisted\")\n",
      "$JOAN: possibly delisted; no price data found  (period=6mo) (Yahoo error = \"No data found, symbol may be delisted\")\n",
      "$JOAN: possibly delisted; no price data found  (period=1mo) (Yahoo error = \"No data found, symbol may be delisted\")\n"
     ]
    },
    {
     "name": "stdout",
     "output_type": "stream",
     "text": [
      "No data found for JOAN after retries. Skipping.\n"
     ]
    },
    {
     "name": "stderr",
     "output_type": "stream",
     "text": [
      "$JPS: possibly delisted; no price data found  (period=1y) (Yahoo error = \"No data found, symbol may be delisted\")\n",
      "$JPS: possibly delisted; no price data found  (period=6mo) (Yahoo error = \"No data found, symbol may be delisted\")\n",
      "$JPS: possibly delisted; no price data found  (period=1mo) (Yahoo error = \"No data found, symbol may be delisted\")\n"
     ]
    },
    {
     "name": "stdout",
     "output_type": "stream",
     "text": [
      "No data found for JPS after retries. Skipping.\n"
     ]
    },
    {
     "name": "stderr",
     "output_type": "stream",
     "text": [
      "$JPT: possibly delisted; no price data found  (period=1y) (Yahoo error = \"No data found, symbol may be delisted\")\n",
      "$JPT: possibly delisted; no price data found  (period=6mo) (Yahoo error = \"No data found, symbol may be delisted\")\n",
      "$JPT: possibly delisted; no price data found  (period=1mo) (Yahoo error = \"No data found, symbol may be delisted\")\n"
     ]
    },
    {
     "name": "stdout",
     "output_type": "stream",
     "text": [
      "No data found for JPT after retries. Skipping.\n"
     ]
    },
    {
     "name": "stderr",
     "output_type": "stream",
     "text": [
      "$JRO: possibly delisted; no price data found  (period=1y) (Yahoo error = \"No data found, symbol may be delisted\")\n",
      "$JRO: possibly delisted; no price data found  (period=6mo) (Yahoo error = \"No data found, symbol may be delisted\")\n",
      "$JRO: possibly delisted; no price data found  (period=1mo) (Yahoo error = \"No data found, symbol may be delisted\")\n"
     ]
    },
    {
     "name": "stdout",
     "output_type": "stream",
     "text": [
      "No data found for JRO after retries. Skipping.\n"
     ]
    },
    {
     "name": "stderr",
     "output_type": "stream",
     "text": [
      "$JSD: possibly delisted; no price data found  (period=1y) (Yahoo error = \"No data found, symbol may be delisted\")\n",
      "$JSD: possibly delisted; no price data found  (period=6mo) (Yahoo error = \"No data found, symbol may be delisted\")\n",
      "$JSD: possibly delisted; no price data found  (period=1mo) (Yahoo error = \"No data found, symbol may be delisted\")\n"
     ]
    },
    {
     "name": "stdout",
     "output_type": "stream",
     "text": [
      "No data found for JSD after retries. Skipping.\n"
     ]
    },
    {
     "name": "stderr",
     "output_type": "stream",
     "text": [
      "$JT: possibly delisted; no price data found  (period=1y) (Yahoo error = \"No data found, symbol may be delisted\")\n",
      "$JT: possibly delisted; no price data found  (period=6mo) (Yahoo error = \"No data found, symbol may be delisted\")\n",
      "$JT: possibly delisted; no price data found  (period=1mo) (Yahoo error = \"No data found, symbol may be delisted\")\n"
     ]
    },
    {
     "name": "stdout",
     "output_type": "stream",
     "text": [
      "No data found for JT after retries. Skipping.\n"
     ]
    },
    {
     "name": "stderr",
     "output_type": "stream",
     "text": [
      "$JUN: possibly delisted; no price data found  (period=1y) (Yahoo error = \"No data found, symbol may be delisted\")\n",
      "$JUN: possibly delisted; no price data found  (period=6mo) (Yahoo error = \"No data found, symbol may be delisted\")\n",
      "$JUN: possibly delisted; no price data found  (period=1mo) (Yahoo error = \"No data found, symbol may be delisted\")\n"
     ]
    },
    {
     "name": "stdout",
     "output_type": "stream",
     "text": [
      "No data found for JUN after retries. Skipping.\n"
     ]
    },
    {
     "name": "stderr",
     "output_type": "stream",
     "text": [
      "$JUPW: possibly delisted; no price data found  (period=1y) (Yahoo error = \"No data found, symbol may be delisted\")\n",
      "$JUPW: possibly delisted; no price data found  (period=6mo) (Yahoo error = \"No data found, symbol may be delisted\")\n",
      "$JUPW: possibly delisted; no price data found  (period=1mo) (Yahoo error = \"No data found, symbol may be delisted\")\n"
     ]
    },
    {
     "name": "stdout",
     "output_type": "stream",
     "text": [
      "No data found for JUPW after retries. Skipping.\n"
     ]
    },
    {
     "name": "stderr",
     "output_type": "stream",
     "text": [
      "$JWSM: possibly delisted; no price data found  (period=1y) (Yahoo error = \"No data found, symbol may be delisted\")\n",
      "$JWSM: possibly delisted; no price data found  (period=6mo) (Yahoo error = \"No data found, symbol may be delisted\")\n",
      "$JWSM: possibly delisted; no price data found  (period=1mo) (Yahoo error = \"No data found, symbol may be delisted\")\n"
     ]
    },
    {
     "name": "stdout",
     "output_type": "stream",
     "text": [
      "No data found for JWSM after retries. Skipping.\n"
     ]
    },
    {
     "name": "stderr",
     "output_type": "stream",
     "text": [
      "$KA: possibly delisted; no price data found  (period=1y) (Yahoo error = \"No data found, symbol may be delisted\")\n",
      "$KA: possibly delisted; no price data found  (period=6mo) (Yahoo error = \"No data found, symbol may be delisted\")\n",
      "$KA: possibly delisted; no price data found  (period=1mo) (Yahoo error = \"No data found, symbol may be delisted\")\n"
     ]
    },
    {
     "name": "stdout",
     "output_type": "stream",
     "text": [
      "No data found for KA after retries. Skipping.\n"
     ]
    },
    {
     "name": "stderr",
     "output_type": "stream",
     "text": [
      "$KAMN: possibly delisted; no price data found  (period=1y) (Yahoo error = \"No data found, symbol may be delisted\")\n",
      "$KAMN: possibly delisted; no price data found  (period=6mo) (Yahoo error = \"No data found, symbol may be delisted\")\n",
      "$KAMN: possibly delisted; no price data found  (period=1mo) (Yahoo error = \"No data found, symbol may be delisted\")\n"
     ]
    },
    {
     "name": "stdout",
     "output_type": "stream",
     "text": [
      "No data found for KAMN after retries. Skipping.\n"
     ]
    },
    {
     "name": "stderr",
     "output_type": "stream",
     "text": [
      "$KCGI: possibly delisted; no price data found  (period=1y) (Yahoo error = \"No data found, symbol may be delisted\")\n",
      "$KCGI: possibly delisted; no price data found  (period=6mo) (Yahoo error = \"No data found, symbol may be delisted\")\n",
      "$KCGI: possibly delisted; no price data found  (period=1mo) (Yahoo error = \"No data found, symbol may be delisted\")\n"
     ]
    },
    {
     "name": "stdout",
     "output_type": "stream",
     "text": [
      "No data found for KCGI after retries. Skipping.\n"
     ]
    },
    {
     "name": "stderr",
     "output_type": "stream",
     "text": [
      "$KDNY: possibly delisted; no price data found  (period=1y) (Yahoo error = \"No data found, symbol may be delisted\")\n",
      "$KDNY: possibly delisted; no price data found  (period=6mo) (Yahoo error = \"No data found, symbol may be delisted\")\n",
      "$KDNY: possibly delisted; no price data found  (period=1mo) (Yahoo error = \"No data found, symbol may be delisted\")\n"
     ]
    },
    {
     "name": "stdout",
     "output_type": "stream",
     "text": [
      "No data found for KDNY after retries. Skipping.\n"
     ]
    },
    {
     "name": "stderr",
     "output_type": "stream",
     "text": [
      "$KERN: possibly delisted; no price data found  (period=1y) (Yahoo error = \"No data found, symbol may be delisted\")\n",
      "$KERN: possibly delisted; no price data found  (period=6mo) (Yahoo error = \"No data found, symbol may be delisted\")\n",
      "$KERN: possibly delisted; no price data found  (period=1mo) (Yahoo error = \"No data found, symbol may be delisted\")\n"
     ]
    },
    {
     "name": "stdout",
     "output_type": "stream",
     "text": [
      "No data found for KERN after retries. Skipping.\n"
     ]
    },
    {
     "name": "stderr",
     "output_type": "stream",
     "text": [
      "$KFYP: possibly delisted; no price data found  (period=1y)\n",
      "$KFYP: possibly delisted; no price data found  (period=6mo)\n",
      "$KFYP: possibly delisted; no price data found  (period=1mo)\n"
     ]
    },
    {
     "name": "stdout",
     "output_type": "stream",
     "text": [
      "No data found for KFYP after retries. Skipping.\n"
     ]
    },
    {
     "name": "stderr",
     "output_type": "stream",
     "text": [
      "$KIQ: possibly delisted; no price data found  (period=1y) (Yahoo error = \"No data found, symbol may be delisted\")\n",
      "$KIQ: possibly delisted; no price data found  (period=6mo) (Yahoo error = \"No data found, symbol may be delisted\")\n",
      "$KIQ: possibly delisted; no price data found  (period=1mo) (Yahoo error = \"No data found, symbol may be delisted\")\n"
     ]
    },
    {
     "name": "stdout",
     "output_type": "stream",
     "text": [
      "No data found for KIQ after retries. Skipping.\n"
     ]
    },
    {
     "name": "stderr",
     "output_type": "stream",
     "text": [
      "$KLR: possibly delisted; no price data found  (period=1y) (Yahoo error = \"No data found, symbol may be delisted\")\n",
      "$KLR: possibly delisted; no price data found  (period=6mo) (Yahoo error = \"No data found, symbol may be delisted\")\n",
      "$KLR: possibly delisted; no price data found  (period=1mo) (Yahoo error = \"No data found, symbol may be delisted\")\n"
     ]
    },
    {
     "name": "stdout",
     "output_type": "stream",
     "text": [
      "No data found for KLR after retries. Skipping.\n"
     ]
    },
    {
     "name": "stderr",
     "output_type": "stream",
     "text": [
      "$KMF: possibly delisted; no price data found  (period=1y) (Yahoo error = \"No data found, symbol may be delisted\")\n",
      "$KMF: possibly delisted; no price data found  (period=6mo) (Yahoo error = \"No data found, symbol may be delisted\")\n",
      "$KMF: possibly delisted; no price data found  (period=1mo) (Yahoo error = \"No data found, symbol may be delisted\")\n"
     ]
    },
    {
     "name": "stdout",
     "output_type": "stream",
     "text": [
      "No data found for KMF after retries. Skipping.\n"
     ]
    },
    {
     "name": "stderr",
     "output_type": "stream",
     "text": [
      "$KNSW: possibly delisted; no price data found  (period=1y) (Yahoo error = \"No data found, symbol may be delisted\")\n",
      "$KNSW: possibly delisted; no price data found  (period=6mo) (Yahoo error = \"No data found, symbol may be delisted\")\n",
      "$KNSW: possibly delisted; no price data found  (period=1mo) (Yahoo error = \"No data found, symbol may be delisted\")\n"
     ]
    },
    {
     "name": "stdout",
     "output_type": "stream",
     "text": [
      "No data found for KNSW after retries. Skipping.\n"
     ]
    },
    {
     "name": "stderr",
     "output_type": "stream",
     "text": [
      "$KNTE: possibly delisted; no price data found  (period=1y) (Yahoo error = \"No data found, symbol may be delisted\")\n",
      "$KNTE: possibly delisted; no price data found  (period=6mo) (Yahoo error = \"No data found, symbol may be delisted\")\n",
      "$KNTE: possibly delisted; no price data found  (period=1mo) (Yahoo error = \"No data found, symbol may be delisted\")\n"
     ]
    },
    {
     "name": "stdout",
     "output_type": "stream",
     "text": [
      "No data found for KNTE after retries. Skipping.\n"
     ]
    },
    {
     "name": "stderr",
     "output_type": "stream",
     "text": [
      "$KRNL: possibly delisted; no price data found  (period=1y) (Yahoo error = \"No data found, symbol may be delisted\")\n",
      "$KRNL: possibly delisted; no price data found  (period=6mo) (Yahoo error = \"No data found, symbol may be delisted\")\n",
      "$KRNL: possibly delisted; no price data found  (period=1mo) (Yahoo error = \"No data found, symbol may be delisted\")\n"
     ]
    },
    {
     "name": "stdout",
     "output_type": "stream",
     "text": [
      "No data found for KRNL after retries. Skipping.\n"
     ]
    },
    {
     "name": "stderr",
     "output_type": "stream",
     "text": [
      "$KRTX: possibly delisted; no price data found  (period=1y) (Yahoo error = \"No data found, symbol may be delisted\")\n",
      "$KRTX: possibly delisted; no price data found  (period=6mo) (Yahoo error = \"No data found, symbol may be delisted\")\n",
      "$KRTX: possibly delisted; no price data found  (period=1mo) (Yahoo error = \"No data found, symbol may be delisted\")\n"
     ]
    },
    {
     "name": "stdout",
     "output_type": "stream",
     "text": [
      "No data found for KRTX after retries. Skipping.\n"
     ]
    },
    {
     "name": "stderr",
     "output_type": "stream",
     "text": [
      "$KTRA: possibly delisted; no price data found  (period=1y) (Yahoo error = \"No data found, symbol may be delisted\")\n",
      "$KTRA: possibly delisted; no price data found  (period=6mo) (Yahoo error = \"No data found, symbol may be delisted\")\n",
      "$KTRA: possibly delisted; no price data found  (period=1mo) (Yahoo error = \"No data found, symbol may be delisted\")\n"
     ]
    },
    {
     "name": "stdout",
     "output_type": "stream",
     "text": [
      "No data found for KTRA after retries. Skipping.\n"
     ]
    },
    {
     "name": "stderr",
     "output_type": "stream",
     "text": [
      "$KVSA: possibly delisted; no price data found  (period=1y) (Yahoo error = \"No data found, symbol may be delisted\")\n",
      "$KVSA: possibly delisted; no price data found  (period=6mo) (Yahoo error = \"No data found, symbol may be delisted\")\n",
      "$KVSA: possibly delisted; no price data found  (period=1mo) (Yahoo error = \"No data found, symbol may be delisted\")\n"
     ]
    },
    {
     "name": "stdout",
     "output_type": "stream",
     "text": [
      "No data found for KVSA after retries. Skipping.\n"
     ]
    },
    {
     "name": "stderr",
     "output_type": "stream",
     "text": [
      "$KYCH: possibly delisted; no price data found  (period=1y)\n",
      "$KYCH: possibly delisted; no price data found  (period=6mo)\n",
      "$KYCH: possibly delisted; no price data found  (period=1mo)\n"
     ]
    },
    {
     "name": "stdout",
     "output_type": "stream",
     "text": [
      "No data found for KYCH after retries. Skipping.\n"
     ]
    },
    {
     "name": "stderr",
     "output_type": "stream",
     "text": [
      "$LABP: possibly delisted; no price data found  (period=1y) (Yahoo error = \"No data found, symbol may be delisted\")\n",
      "$LABP: possibly delisted; no price data found  (period=6mo) (Yahoo error = \"No data found, symbol may be delisted\")\n",
      "$LABP: possibly delisted; no price data found  (period=1mo) (Yahoo error = \"No data found, symbol may be delisted\")\n"
     ]
    },
    {
     "name": "stdout",
     "output_type": "stream",
     "text": [
      "No data found for LABP after retries. Skipping.\n"
     ]
    },
    {
     "name": "stderr",
     "output_type": "stream",
     "text": [
      "$LAZY: possibly delisted; no price data found  (period=1y) (Yahoo error = \"No data found, symbol may be delisted\")\n",
      "$LAZY: possibly delisted; no price data found  (period=6mo) (Yahoo error = \"No data found, symbol may be delisted\")\n",
      "$LAZY: possibly delisted; no price data found  (period=1mo) (Yahoo error = \"No data found, symbol may be delisted\")\n"
     ]
    },
    {
     "name": "stdout",
     "output_type": "stream",
     "text": [
      "No data found for LAZY after retries. Skipping.\n"
     ]
    },
    {
     "name": "stderr",
     "output_type": "stream",
     "text": [
      "$LBBB: possibly delisted; no price data found  (period=1y) (Yahoo error = \"No data found, symbol may be delisted\")\n",
      "$LBBB: possibly delisted; no price data found  (period=6mo) (Yahoo error = \"No data found, symbol may be delisted\")\n",
      "$LBBB: possibly delisted; no price data found  (period=1mo) (Yahoo error = \"No data found, symbol may be delisted\")\n"
     ]
    },
    {
     "name": "stdout",
     "output_type": "stream",
     "text": [
      "No data found for LBBB after retries. Skipping.\n"
     ]
    },
    {
     "name": "stderr",
     "output_type": "stream",
     "text": [
      "$LBC: possibly delisted; no price data found  (period=1y) (Yahoo error = \"No data found, symbol may be delisted\")\n",
      "$LBC: possibly delisted; no price data found  (period=6mo) (Yahoo error = \"No data found, symbol may be delisted\")\n",
      "$LBC: possibly delisted; no price data found  (period=1mo) (Yahoo error = \"No data found, symbol may be delisted\")\n"
     ]
    },
    {
     "name": "stdout",
     "output_type": "stream",
     "text": [
      "No data found for LBC after retries. Skipping.\n"
     ]
    },
    {
     "name": "stderr",
     "output_type": "stream",
     "text": [
      "$LCA: possibly delisted; no price data found  (period=1y) (Yahoo error = \"No data found, symbol may be delisted\")\n",
      "$LCA: possibly delisted; no price data found  (period=6mo) (Yahoo error = \"No data found, symbol may be delisted\")\n",
      "$LCA: possibly delisted; no price data found  (period=1mo) (Yahoo error = \"No data found, symbol may be delisted\")\n"
     ]
    },
    {
     "name": "stdout",
     "output_type": "stream",
     "text": [
      "No data found for LCA after retries. Skipping.\n"
     ]
    },
    {
     "name": "stderr",
     "output_type": "stream",
     "text": [
      "$LCAA: possibly delisted; no price data found  (period=1y) (Yahoo error = \"No data found, symbol may be delisted\")\n",
      "$LCAA: possibly delisted; no price data found  (period=6mo) (Yahoo error = \"No data found, symbol may be delisted\")\n",
      "$LCAA: possibly delisted; no price data found  (period=1mo) (Yahoo error = \"No data found, symbol may be delisted\")\n"
     ]
    },
    {
     "name": "stdout",
     "output_type": "stream",
     "text": [
      "No data found for LCAA after retries. Skipping.\n"
     ]
    },
    {
     "name": "stderr",
     "output_type": "stream",
     "text": [
      "$LCW: possibly delisted; no price data found  (period=1y) (Yahoo error = \"No data found, symbol may be delisted\")\n",
      "$LCW: possibly delisted; no price data found  (period=6mo) (Yahoo error = \"No data found, symbol may be delisted\")\n",
      "$LCW: possibly delisted; no price data found  (period=1mo) (Yahoo error = \"No data found, symbol may be delisted\")\n"
     ]
    },
    {
     "name": "stdout",
     "output_type": "stream",
     "text": [
      "No data found for LCW after retries. Skipping.\n",
      "Skipping LDP due to NaN values.\n"
     ]
    },
    {
     "name": "stderr",
     "output_type": "stream",
     "text": [
      "$LEJU: possibly delisted; no price data found  (period=1y) (Yahoo error = \"No data found, symbol may be delisted\")\n",
      "$LEJU: possibly delisted; no price data found  (period=6mo) (Yahoo error = \"No data found, symbol may be delisted\")\n",
      "$LEJU: possibly delisted; no price data found  (period=1mo) (Yahoo error = \"No data found, symbol may be delisted\")\n"
     ]
    },
    {
     "name": "stdout",
     "output_type": "stream",
     "text": [
      "No data found for LEJU after retries. Skipping.\n"
     ]
    },
    {
     "name": "stderr",
     "output_type": "stream",
     "text": [
      "$LFAC: possibly delisted; no price data found  (period=1y) (Yahoo error = \"No data found, symbol may be delisted\")\n",
      "$LFAC: possibly delisted; no price data found  (period=6mo) (Yahoo error = \"No data found, symbol may be delisted\")\n",
      "$LFAC: possibly delisted; no price data found  (period=1mo) (Yahoo error = \"No data found, symbol may be delisted\")\n"
     ]
    },
    {
     "name": "stdout",
     "output_type": "stream",
     "text": [
      "No data found for LFAC after retries. Skipping.\n"
     ]
    },
    {
     "name": "stderr",
     "output_type": "stream",
     "text": [
      "$LGST: possibly delisted; no price data found  (period=1y) (Yahoo error = \"No data found, symbol may be delisted\")\n",
      "$LGST: possibly delisted; no price data found  (period=6mo) (Yahoo error = \"No data found, symbol may be delisted\")\n",
      "$LGST: possibly delisted; no price data found  (period=1mo) (Yahoo error = \"No data found, symbol may be delisted\")\n"
     ]
    },
    {
     "name": "stdout",
     "output_type": "stream",
     "text": [
      "No data found for LGST after retries. Skipping.\n"
     ]
    },
    {
     "name": "stderr",
     "output_type": "stream",
     "text": [
      "$LGVC: possibly delisted; no price data found  (period=1y) (Yahoo error = \"No data found, symbol may be delisted\")\n",
      "$LGVC: possibly delisted; no price data found  (period=6mo) (Yahoo error = \"No data found, symbol may be delisted\")\n",
      "$LGVC: possibly delisted; no price data found  (period=1mo) (Yahoo error = \"No data found, symbol may be delisted\")\n"
     ]
    },
    {
     "name": "stdout",
     "output_type": "stream",
     "text": [
      "No data found for LGVC after retries. Skipping.\n"
     ]
    },
    {
     "name": "stderr",
     "output_type": "stream",
     "text": [
      "$LHC: possibly delisted; no price data found  (period=1y) (Yahoo error = \"No data found, symbol may be delisted\")\n",
      "$LHC: possibly delisted; no price data found  (period=6mo) (Yahoo error = \"No data found, symbol may be delisted\")\n",
      "$LHC: possibly delisted; no price data found  (period=1mo) (Yahoo error = \"No data found, symbol may be delisted\")\n"
     ]
    },
    {
     "name": "stdout",
     "output_type": "stream",
     "text": [
      "No data found for LHC after retries. Skipping.\n"
     ]
    },
    {
     "name": "stderr",
     "output_type": "stream",
     "text": [
      "$LIBY: possibly delisted; no price data found  (period=1y) (Yahoo error = \"No data found, symbol may be delisted\")\n",
      "$LIBY: possibly delisted; no price data found  (period=6mo) (Yahoo error = \"No data found, symbol may be delisted\")\n",
      "$LIBY: possibly delisted; no price data found  (period=1mo) (Yahoo error = \"No data found, symbol may be delisted\")\n"
     ]
    },
    {
     "name": "stdout",
     "output_type": "stream",
     "text": [
      "No data found for LIBY after retries. Skipping.\n"
     ]
    },
    {
     "name": "stderr",
     "output_type": "stream",
     "text": [
      "$LIFE: possibly delisted; no price data found  (period=1y) (Yahoo error = \"No data found, symbol may be delisted\")\n",
      "$LIFE: possibly delisted; no price data found  (period=6mo) (Yahoo error = \"No data found, symbol may be delisted\")\n",
      "$LIFE: possibly delisted; no price data found  (period=1mo) (Yahoo error = \"No data found, symbol may be delisted\")\n"
     ]
    },
    {
     "name": "stdout",
     "output_type": "stream",
     "text": [
      "No data found for LIFE after retries. Skipping.\n"
     ]
    },
    {
     "name": "stderr",
     "output_type": "stream",
     "text": [
      "$LIVB: possibly delisted; no price data found  (period=1y) (Yahoo error = \"No data found, symbol may be delisted\")\n",
      "$LIVB: possibly delisted; no price data found  (period=6mo) (Yahoo error = \"No data found, symbol may be delisted\")\n",
      "$LIVB: possibly delisted; no price data found  (period=1mo) (Yahoo error = \"No data found, symbol may be delisted\")\n"
     ]
    },
    {
     "name": "stdout",
     "output_type": "stream",
     "text": [
      "No data found for LIVB after retries. Skipping.\n"
     ]
    },
    {
     "name": "stderr",
     "output_type": "stream",
     "text": [
      "$LIZI: possibly delisted; no price data found  (period=1y) (Yahoo error = \"No data found, symbol may be delisted\")\n",
      "$LIZI: possibly delisted; no price data found  (period=6mo) (Yahoo error = \"No data found, symbol may be delisted\")\n",
      "$LIZI: possibly delisted; no price data found  (period=1mo) (Yahoo error = \"No data found, symbol may be delisted\")\n"
     ]
    },
    {
     "name": "stdout",
     "output_type": "stream",
     "text": [
      "No data found for LIZI after retries. Skipping.\n"
     ]
    },
    {
     "name": "stderr",
     "output_type": "stream",
     "text": [
      "$LL: possibly delisted; no price data found  (period=1y) (Yahoo error = \"No data found, symbol may be delisted\")\n",
      "$LL: possibly delisted; no price data found  (period=6mo) (Yahoo error = \"No data found, symbol may be delisted\")\n",
      "$LL: possibly delisted; no price data found  (period=1mo) (Yahoo error = \"No data found, symbol may be delisted\")\n"
     ]
    },
    {
     "name": "stdout",
     "output_type": "stream",
     "text": [
      "No data found for LL after retries. Skipping.\n"
     ]
    },
    {
     "name": "stderr",
     "output_type": "stream",
     "text": [
      "$LLAP: possibly delisted; no price data found  (period=1y) (Yahoo error = \"No data found, symbol may be delisted\")\n",
      "$LLAP: possibly delisted; no price data found  (period=6mo) (Yahoo error = \"No data found, symbol may be delisted\")\n",
      "$LLAP: possibly delisted; no price data found  (period=1mo) (Yahoo error = \"No data found, symbol may be delisted\")\n"
     ]
    },
    {
     "name": "stdout",
     "output_type": "stream",
     "text": [
      "No data found for LLAP after retries. Skipping.\n"
     ]
    },
    {
     "name": "stderr",
     "output_type": "stream",
     "text": [
      "$LMDX: possibly delisted; no price data found  (period=1y)\n",
      "$LMDX: possibly delisted; no price data found  (period=6mo)\n",
      "$LMDX: possibly delisted; no price data found  (period=1mo)\n"
     ]
    },
    {
     "name": "stdout",
     "output_type": "stream",
     "text": [
      "No data found for LMDX after retries. Skipping.\n"
     ]
    },
    {
     "name": "stderr",
     "output_type": "stream",
     "text": [
      "$LMNL: possibly delisted; no price data found  (period=1y) (Yahoo error = \"No data found, symbol may be delisted\")\n",
      "$LMNL: possibly delisted; no price data found  (period=6mo) (Yahoo error = \"No data found, symbol may be delisted\")\n",
      "$LMNL: possibly delisted; no price data found  (period=1mo) (Yahoo error = \"No data found, symbol may be delisted\")\n"
     ]
    },
    {
     "name": "stdout",
     "output_type": "stream",
     "text": [
      "No data found for LMNL after retries. Skipping.\n"
     ]
    },
    {
     "name": "stderr",
     "output_type": "stream",
     "text": [
      "$LOCC: possibly delisted; no price data found  (period=1y) (Yahoo error = \"No data found, symbol may be delisted\")\n",
      "$LOCC: possibly delisted; no price data found  (period=6mo) (Yahoo error = \"No data found, symbol may be delisted\")\n",
      "$LOCC: possibly delisted; no price data found  (period=1mo) (Yahoo error = \"No data found, symbol may be delisted\")\n"
     ]
    },
    {
     "name": "stdout",
     "output_type": "stream",
     "text": [
      "No data found for LOCC after retries. Skipping.\n"
     ]
    },
    {
     "name": "stderr",
     "output_type": "stream",
     "text": [
      "$LOV: possibly delisted; no price data found  (period=1y) (Yahoo error = \"No data found, symbol may be delisted\")\n",
      "$LOV: possibly delisted; no price data found  (period=6mo) (Yahoo error = \"No data found, symbol may be delisted\")\n",
      "$LOV: possibly delisted; no price data found  (period=1mo) (Yahoo error = \"No data found, symbol may be delisted\")\n"
     ]
    },
    {
     "name": "stdout",
     "output_type": "stream",
     "text": [
      "No data found for LOV after retries. Skipping.\n"
     ]
    },
    {
     "name": "stderr",
     "output_type": "stream",
     "text": [
      "$LSDI: possibly delisted; no price data found  (period=1y) (Yahoo error = \"No data found, symbol may be delisted\")\n",
      "$LSDI: possibly delisted; no price data found  (period=6mo) (Yahoo error = \"No data found, symbol may be delisted\")\n",
      "$LSDI: possibly delisted; no price data found  (period=1mo) (Yahoo error = \"No data found, symbol may be delisted\")\n"
     ]
    },
    {
     "name": "stdout",
     "output_type": "stream",
     "text": [
      "No data found for LSDI after retries. Skipping.\n"
     ]
    },
    {
     "name": "stderr",
     "output_type": "stream",
     "text": [
      "$LSI: possibly delisted; no price data found  (period=1y) (Yahoo error = \"No data found, symbol may be delisted\")\n",
      "$LSI: possibly delisted; no price data found  (period=6mo) (Yahoo error = \"No data found, symbol may be delisted\")\n",
      "$LSI: possibly delisted; no price data found  (period=1mo) (Yahoo error = \"No data found, symbol may be delisted\")\n"
     ]
    },
    {
     "name": "stdout",
     "output_type": "stream",
     "text": [
      "No data found for LSI after retries. Skipping.\n"
     ]
    },
    {
     "name": "stderr",
     "output_type": "stream",
     "text": [
      "$LSXMA: possibly delisted; no price data found  (period=1y) (Yahoo error = \"No data found, symbol may be delisted\")\n",
      "$LSXMA: possibly delisted; no price data found  (period=6mo) (Yahoo error = \"No data found, symbol may be delisted\")\n",
      "$LSXMA: possibly delisted; no price data found  (period=1mo) (Yahoo error = \"No data found, symbol may be delisted\")\n"
     ]
    },
    {
     "name": "stdout",
     "output_type": "stream",
     "text": [
      "No data found for LSXMA after retries. Skipping.\n"
     ]
    },
    {
     "name": "stderr",
     "output_type": "stream",
     "text": [
      "$LSXMB: possibly delisted; no price data found  (period=1y) (Yahoo error = \"No data found, symbol may be delisted\")\n",
      "$LSXMB: possibly delisted; no price data found  (period=6mo) (Yahoo error = \"No data found, symbol may be delisted\")\n",
      "$LSXMB: possibly delisted; no price data found  (period=1mo) (Yahoo error = \"No data found, symbol may be delisted\")\n"
     ]
    },
    {
     "name": "stdout",
     "output_type": "stream",
     "text": [
      "No data found for LSXMB after retries. Skipping.\n"
     ]
    },
    {
     "name": "stderr",
     "output_type": "stream",
     "text": [
      "$LSXMK: possibly delisted; no price data found  (period=1y) (Yahoo error = \"No data found, symbol may be delisted\")\n",
      "$LSXMK: possibly delisted; no price data found  (period=6mo) (Yahoo error = \"No data found, symbol may be delisted\")\n",
      "$LSXMK: possibly delisted; no price data found  (period=1mo) (Yahoo error = \"No data found, symbol may be delisted\")\n"
     ]
    },
    {
     "name": "stdout",
     "output_type": "stream",
     "text": [
      "No data found for LSXMK after retries. Skipping.\n"
     ]
    },
    {
     "name": "stderr",
     "output_type": "stream",
     "text": [
      "$LTHM: possibly delisted; no price data found  (period=1y) (Yahoo error = \"No data found, symbol may be delisted\")\n",
      "$LTHM: possibly delisted; no price data found  (period=6mo) (Yahoo error = \"No data found, symbol may be delisted\")\n",
      "$LTHM: possibly delisted; no price data found  (period=1mo) (Yahoo error = \"No data found, symbol may be delisted\")\n"
     ]
    },
    {
     "name": "stdout",
     "output_type": "stream",
     "text": [
      "No data found for LTHM after retries. Skipping.\n"
     ]
    },
    {
     "name": "stderr",
     "output_type": "stream",
     "text": [
      "$LVOX: possibly delisted; no price data found  (period=1y) (Yahoo error = \"No data found, symbol may be delisted\")\n",
      "$LVOX: possibly delisted; no price data found  (period=6mo) (Yahoo error = \"No data found, symbol may be delisted\")\n",
      "$LVOX: possibly delisted; no price data found  (period=1mo) (Yahoo error = \"No data found, symbol may be delisted\")\n"
     ]
    },
    {
     "name": "stdout",
     "output_type": "stream",
     "text": [
      "No data found for LVOX after retries. Skipping.\n"
     ]
    },
    {
     "name": "stderr",
     "output_type": "stream",
     "text": [
      "$MACA: possibly delisted; no price data found  (period=1y) (Yahoo error = \"No data found, symbol may be delisted\")\n",
      "$MACA: possibly delisted; no price data found  (period=6mo) (Yahoo error = \"No data found, symbol may be delisted\")\n",
      "$MACA: possibly delisted; no price data found  (period=1mo) (Yahoo error = \"No data found, symbol may be delisted\")\n"
     ]
    },
    {
     "name": "stdout",
     "output_type": "stream",
     "text": [
      "No data found for MACA after retries. Skipping.\n"
     ]
    },
    {
     "name": "stderr",
     "output_type": "stream",
     "text": [
      "$MACK: possibly delisted; no price data found  (period=1y) (Yahoo error = \"No data found, symbol may be delisted\")\n",
      "$MACK: possibly delisted; no price data found  (period=6mo) (Yahoo error = \"No data found, symbol may be delisted\")\n",
      "$MACK: possibly delisted; no price data found  (period=1mo) (Yahoo error = \"No data found, symbol may be delisted\")\n"
     ]
    },
    {
     "name": "stdout",
     "output_type": "stream",
     "text": [
      "No data found for MACK after retries. Skipping.\n",
      "Skipping MATX due to NaN values.\n"
     ]
    },
    {
     "name": "stderr",
     "output_type": "stream",
     "text": [
      "$MBAC: possibly delisted; no price data found  (period=1y) (Yahoo error = \"No data found, symbol may be delisted\")\n",
      "$MBAC: possibly delisted; no price data found  (period=6mo) (Yahoo error = \"No data found, symbol may be delisted\")\n",
      "$MBAC: possibly delisted; no price data found  (period=1mo) (Yahoo error = \"No data found, symbol may be delisted\")\n"
     ]
    },
    {
     "name": "stdout",
     "output_type": "stream",
     "text": [
      "No data found for MBAC after retries. Skipping.\n"
     ]
    },
    {
     "name": "stderr",
     "output_type": "stream",
     "text": [
      "$MBINP: possibly delisted; no price data found  (period=1y) (Yahoo error = \"No data found, symbol may be delisted\")\n",
      "$MBINP: possibly delisted; no price data found  (period=6mo) (Yahoo error = \"No data found, symbol may be delisted\")\n",
      "$MBINP: possibly delisted; no price data found  (period=1mo) (Yahoo error = \"No data found, symbol may be delisted\")\n"
     ]
    },
    {
     "name": "stdout",
     "output_type": "stream",
     "text": [
      "No data found for MBINP after retries. Skipping.\n"
     ]
    },
    {
     "name": "stderr",
     "output_type": "stream",
     "text": [
      "$MBSC: possibly delisted; no price data found  (period=1y) (Yahoo error = \"No data found, symbol may be delisted\")\n",
      "$MBSC: possibly delisted; no price data found  (period=6mo) (Yahoo error = \"No data found, symbol may be delisted\")\n",
      "$MBSC: possibly delisted; no price data found  (period=1mo) (Yahoo error = \"No data found, symbol may be delisted\")\n"
     ]
    },
    {
     "name": "stdout",
     "output_type": "stream",
     "text": [
      "No data found for MBSC after retries. Skipping.\n"
     ]
    },
    {
     "name": "stderr",
     "output_type": "stream",
     "text": [
      "$MBTC: possibly delisted; no price data found  (period=1y) (Yahoo error = \"No data found, symbol may be delisted\")\n",
      "$MBTC: possibly delisted; no price data found  (period=6mo) (Yahoo error = \"No data found, symbol may be delisted\")\n",
      "$MBTC: possibly delisted; no price data found  (period=1mo) (Yahoo error = \"No data found, symbol may be delisted\")\n"
     ]
    },
    {
     "name": "stdout",
     "output_type": "stream",
     "text": [
      "No data found for MBTC after retries. Skipping.\n"
     ]
    },
    {
     "name": "stderr",
     "output_type": "stream",
     "text": [
      "$MCAC: possibly delisted; no price data found  (period=1y) (Yahoo error = \"No data found, symbol may be delisted\")\n",
      "$MCAC: possibly delisted; no price data found  (period=6mo) (Yahoo error = \"No data found, symbol may be delisted\")\n",
      "$MCAC: possibly delisted; no price data found  (period=1mo) (Yahoo error = \"No data found, symbol may be delisted\")\n"
     ]
    },
    {
     "name": "stdout",
     "output_type": "stream",
     "text": [
      "No data found for MCAC after retries. Skipping.\n"
     ]
    },
    {
     "name": "stderr",
     "output_type": "stream",
     "text": [
      "$MCAF: possibly delisted; no price data found  (period=1y) (Yahoo error = \"No data found, symbol may be delisted\")\n",
      "$MCAF: possibly delisted; no price data found  (period=6mo) (Yahoo error = \"No data found, symbol may be delisted\")\n",
      "$MCAF: possibly delisted; no price data found  (period=1mo) (Yahoo error = \"No data found, symbol may be delisted\")\n"
     ]
    },
    {
     "name": "stdout",
     "output_type": "stream",
     "text": [
      "No data found for MCAF after retries. Skipping.\n"
     ]
    },
    {
     "name": "stderr",
     "output_type": "stream",
     "text": [
      "$MCBC: possibly delisted; no price data found  (period=1y) (Yahoo error = \"No data found, symbol may be delisted\")\n",
      "$MCBC: possibly delisted; no price data found  (period=6mo) (Yahoo error = \"No data found, symbol may be delisted\")\n",
      "$MCBC: possibly delisted; no price data found  (period=1mo) (Yahoo error = \"No data found, symbol may be delisted\")\n"
     ]
    },
    {
     "name": "stdout",
     "output_type": "stream",
     "text": [
      "No data found for MCBC after retries. Skipping.\n"
     ]
    },
    {
     "name": "stderr",
     "output_type": "stream",
     "text": [
      "$MCLD: possibly delisted; no price data found  (period=1y)\n",
      "$MCLD: possibly delisted; no price data found  (period=6mo)\n",
      "$MCLD: possibly delisted; no price data found  (period=1mo)\n"
     ]
    },
    {
     "name": "stdout",
     "output_type": "stream",
     "text": [
      "No data found for MCLD after retries. Skipping.\n",
      "Skipping MCR due to NaN values.\n",
      "Skipping MCS due to NaN values.\n"
     ]
    },
    {
     "name": "stderr",
     "output_type": "stream",
     "text": [
      "$MDC: possibly delisted; no price data found  (period=1y) (Yahoo error = \"No data found, symbol may be delisted\")\n",
      "$MDC: possibly delisted; no price data found  (period=6mo) (Yahoo error = \"No data found, symbol may be delisted\")\n",
      "$MDC: possibly delisted; no price data found  (period=1mo) (Yahoo error = \"No data found, symbol may be delisted\")\n"
     ]
    },
    {
     "name": "stdout",
     "output_type": "stream",
     "text": [
      "No data found for MDC after retries. Skipping.\n"
     ]
    },
    {
     "name": "stderr",
     "output_type": "stream",
     "text": [
      "$MDGS: possibly delisted; no price data found  (period=1y) (Yahoo error = \"No data found, symbol may be delisted\")\n",
      "$MDGS: possibly delisted; no price data found  (period=6mo) (Yahoo error = \"No data found, symbol may be delisted\")\n",
      "$MDGS: possibly delisted; no price data found  (period=1mo) (Yahoo error = \"No data found, symbol may be delisted\")\n"
     ]
    },
    {
     "name": "stdout",
     "output_type": "stream",
     "text": [
      "No data found for MDGS after retries. Skipping.\n"
     ]
    },
    {
     "name": "stderr",
     "output_type": "stream",
     "text": [
      "$MDNA: possibly delisted; no price data found  (period=1y)\n",
      "$MDNA: possibly delisted; no price data found  (period=6mo)\n",
      "$MDNA: possibly delisted; no price data found  (period=1mo)\n"
     ]
    },
    {
     "name": "stdout",
     "output_type": "stream",
     "text": [
      "No data found for MDNA after retries. Skipping.\n"
     ]
    },
    {
     "name": "stderr",
     "output_type": "stream",
     "text": [
      "$MDVL: possibly delisted; no price data found  (period=1y) (Yahoo error = \"No data found, symbol may be delisted\")\n",
      "$MDVL: possibly delisted; no price data found  (period=6mo) (Yahoo error = \"No data found, symbol may be delisted\")\n",
      "$MDVL: possibly delisted; no price data found  (period=1mo) (Yahoo error = \"No data found, symbol may be delisted\")\n"
     ]
    },
    {
     "name": "stdout",
     "output_type": "stream",
     "text": [
      "No data found for MDVL after retries. Skipping.\n"
     ]
    },
    {
     "name": "stderr",
     "output_type": "stream",
     "text": [
      "$MDWT: possibly delisted; no price data found  (period=1y) (Yahoo error = \"No data found, symbol may be delisted\")\n",
      "$MDWT: possibly delisted; no price data found  (period=6mo) (Yahoo error = \"No data found, symbol may be delisted\")\n",
      "$MDWT: possibly delisted; no price data found  (period=1mo) (Yahoo error = \"No data found, symbol may be delisted\")\n"
     ]
    },
    {
     "name": "stdout",
     "output_type": "stream",
     "text": [
      "No data found for MDWT after retries. Skipping.\n"
     ]
    },
    {
     "name": "stderr",
     "output_type": "stream",
     "text": [
      "$MEDS: possibly delisted; no price data found  (period=1y) (Yahoo error = \"No data found, symbol may be delisted\")\n",
      "$MEDS: possibly delisted; no price data found  (period=6mo) (Yahoo error = \"No data found, symbol may be delisted\")\n",
      "$MEDS: possibly delisted; no price data found  (period=1mo) (Yahoo error = \"No data found, symbol may be delisted\")\n"
     ]
    },
    {
     "name": "stdout",
     "output_type": "stream",
     "text": [
      "No data found for MEDS after retries. Skipping.\n",
      "Skipping MEGI due to NaN values.\n"
     ]
    },
    {
     "name": "stderr",
     "output_type": "stream",
     "text": [
      "$METX: possibly delisted; no price data found  (period=1y) (Yahoo error = \"No data found, symbol may be delisted\")\n",
      "$METX: possibly delisted; no price data found  (period=6mo) (Yahoo error = \"No data found, symbol may be delisted\")\n",
      "$METX: possibly delisted; no price data found  (period=1mo) (Yahoo error = \"No data found, symbol may be delisted\")\n",
      "$MF: possibly delisted; no price data found  (period=1y)\n",
      "$MF: possibly delisted; no price data found  (period=6mo)\n"
     ]
    },
    {
     "name": "stdout",
     "output_type": "stream",
     "text": [
      "No data found for METX after retries. Skipping.\n"
     ]
    },
    {
     "name": "stderr",
     "output_type": "stream",
     "text": [
      "$MF: possibly delisted; no price data found  (period=1mo)\n"
     ]
    },
    {
     "name": "stdout",
     "output_type": "stream",
     "text": [
      "No data found for MF after retries. Skipping.\n"
     ]
    },
    {
     "name": "stderr",
     "output_type": "stream",
     "text": [
      "$MFD: possibly delisted; no price data found  (period=1y) (Yahoo error = \"No data found, symbol may be delisted\")\n",
      "$MFD: possibly delisted; no price data found  (period=6mo) (Yahoo error = \"No data found, symbol may be delisted\")\n",
      "$MFD: possibly delisted; no price data found  (period=1mo) (Yahoo error = \"No data found, symbol may be delisted\")\n"
     ]
    },
    {
     "name": "stdout",
     "output_type": "stream",
     "text": [
      "No data found for MFD after retries. Skipping.\n"
     ]
    },
    {
     "name": "stderr",
     "output_type": "stream",
     "text": [
      "$MFV: possibly delisted; no price data found  (period=1y) (Yahoo error = \"No data found, symbol may be delisted\")\n",
      "$MFV: possibly delisted; no price data found  (period=6mo) (Yahoo error = \"No data found, symbol may be delisted\")\n",
      "$MFV: possibly delisted; no price data found  (period=1mo) (Yahoo error = \"No data found, symbol may be delisted\")\n"
     ]
    },
    {
     "name": "stdout",
     "output_type": "stream",
     "text": [
      "No data found for MFV after retries. Skipping.\n"
     ]
    },
    {
     "name": "stderr",
     "output_type": "stream",
     "text": [
      "$MGTA: possibly delisted; no price data found  (period=1y) (Yahoo error = \"No data found, symbol may be delisted\")\n",
      "$MGTA: possibly delisted; no price data found  (period=6mo) (Yahoo error = \"No data found, symbol may be delisted\")\n",
      "$MGTA: possibly delisted; no price data found  (period=1mo) (Yahoo error = \"No data found, symbol may be delisted\")\n"
     ]
    },
    {
     "name": "stdout",
     "output_type": "stream",
     "text": [
      "No data found for MGTA after retries. Skipping.\n",
      "Skipping MHLA due to NaN values.\n"
     ]
    },
    {
     "name": "stderr",
     "output_type": "stream",
     "text": [
      "$MICS: possibly delisted; no price data found  (period=1y) (Yahoo error = \"No data found, symbol may be delisted\")\n",
      "$MICS: possibly delisted; no price data found  (period=6mo) (Yahoo error = \"No data found, symbol may be delisted\")\n",
      "$MICS: possibly delisted; no price data found  (period=1mo) (Yahoo error = \"No data found, symbol may be delisted\")\n"
     ]
    },
    {
     "name": "stdout",
     "output_type": "stream",
     "text": [
      "No data found for MICS after retries. Skipping.\n"
     ]
    },
    {
     "name": "stderr",
     "output_type": "stream",
     "text": [
      "$MIMO: possibly delisted; no price data found  (period=1y) (Yahoo error = \"No data found, symbol may be delisted\")\n",
      "$MIMO: possibly delisted; no price data found  (period=6mo) (Yahoo error = \"No data found, symbol may be delisted\")\n",
      "$MIMO: possibly delisted; no price data found  (period=1mo) (Yahoo error = \"No data found, symbol may be delisted\")\n"
     ]
    },
    {
     "name": "stdout",
     "output_type": "stream",
     "text": [
      "No data found for MIMO after retries. Skipping.\n"
     ]
    },
    {
     "name": "stderr",
     "output_type": "stream",
     "text": [
      "$MINDP: possibly delisted; no price data found  (period=1y) (Yahoo error = \"No data found, symbol may be delisted\")\n",
      "$MINDP: possibly delisted; no price data found  (period=6mo) (Yahoo error = \"No data found, symbol may be delisted\")\n",
      "$MINDP: possibly delisted; no price data found  (period=1mo) (Yahoo error = \"No data found, symbol may be delisted\")\n"
     ]
    },
    {
     "name": "stdout",
     "output_type": "stream",
     "text": [
      "No data found for MINDP after retries. Skipping.\n",
      "Skipping MIO due to NaN values.\n"
     ]
    },
    {
     "name": "stderr",
     "output_type": "stream",
     "text": [
      "$MIRO: possibly delisted; no price data found  (period=1y) (Yahoo error = \"No data found, symbol may be delisted\")\n",
      "$MIRO: possibly delisted; no price data found  (period=6mo) (Yahoo error = \"No data found, symbol may be delisted\")\n",
      "$MIRO: possibly delisted; no price data found  (period=1mo) (Yahoo error = \"No data found, symbol may be delisted\")\n"
     ]
    },
    {
     "name": "stdout",
     "output_type": "stream",
     "text": [
      "No data found for MIRO after retries. Skipping.\n"
     ]
    },
    {
     "name": "stderr",
     "output_type": "stream",
     "text": [
      "$MIXT: possibly delisted; no price data found  (period=1y) (Yahoo error = \"No data found, symbol may be delisted\")\n",
      "$MIXT: possibly delisted; no price data found  (period=6mo) (Yahoo error = \"No data found, symbol may be delisted\")\n",
      "$MIXT: possibly delisted; no price data found  (period=1mo) (Yahoo error = \"No data found, symbol may be delisted\")\n"
     ]
    },
    {
     "name": "stdout",
     "output_type": "stream",
     "text": [
      "No data found for MIXT after retries. Skipping.\n"
     ]
    },
    {
     "name": "stderr",
     "output_type": "stream",
     "text": [
      "$MKUL: possibly delisted; no price data found  (period=1y) (Yahoo error = \"No data found, symbol may be delisted\")\n",
      "$MKUL: possibly delisted; no price data found  (period=6mo) (Yahoo error = \"No data found, symbol may be delisted\")\n",
      "$MKUL: possibly delisted; no price data found  (period=1mo) (Yahoo error = \"No data found, symbol may be delisted\")\n"
     ]
    },
    {
     "name": "stdout",
     "output_type": "stream",
     "text": [
      "No data found for MKUL after retries. Skipping.\n"
     ]
    },
    {
     "name": "stderr",
     "output_type": "stream",
     "text": [
      "$MLPO: possibly delisted; no price data found  (period=1y)\n",
      "$MLPO: possibly delisted; no price data found  (period=6mo)\n",
      "$MLPO: possibly delisted; no price data found  (period=1mo)\n"
     ]
    },
    {
     "name": "stdout",
     "output_type": "stream",
     "text": [
      "No data found for MLPO after retries. Skipping.\n"
     ]
    },
    {
     "name": "stderr",
     "output_type": "stream",
     "text": [
      "$MLVF: possibly delisted; no price data found  (period=1y) (Yahoo error = \"No data found, symbol may be delisted\")\n",
      "$MLVF: possibly delisted; no price data found  (period=6mo) (Yahoo error = \"No data found, symbol may be delisted\")\n",
      "$MLVF: possibly delisted; no price data found  (period=1mo) (Yahoo error = \"No data found, symbol may be delisted\")\n"
     ]
    },
    {
     "name": "stdout",
     "output_type": "stream",
     "text": [
      "No data found for MLVF after retries. Skipping.\n"
     ]
    },
    {
     "name": "stderr",
     "output_type": "stream",
     "text": [
      "$MMAT: possibly delisted; no price data found  (period=1y) (Yahoo error = \"No data found, symbol may be delisted\")\n",
      "$MMAT: possibly delisted; no price data found  (period=6mo) (Yahoo error = \"No data found, symbol may be delisted\")\n",
      "$MMAT: possibly delisted; no price data found  (period=1mo) (Yahoo error = \"No data found, symbol may be delisted\")\n"
     ]
    },
    {
     "name": "stdout",
     "output_type": "stream",
     "text": [
      "No data found for MMAT after retries. Skipping.\n"
     ]
    },
    {
     "name": "stderr",
     "output_type": "stream",
     "text": [
      "$MMMB: possibly delisted; no price data found  (period=1y) (Yahoo error = \"No data found, symbol may be delisted\")\n",
      "$MMMB: possibly delisted; no price data found  (period=6mo) (Yahoo error = \"No data found, symbol may be delisted\")\n",
      "$MMMB: possibly delisted; no price data found  (period=1mo) (Yahoo error = \"No data found, symbol may be delisted\")\n"
     ]
    },
    {
     "name": "stdout",
     "output_type": "stream",
     "text": [
      "No data found for MMMB after retries. Skipping.\n"
     ]
    },
    {
     "name": "stderr",
     "output_type": "stream",
     "text": [
      "$MMP: possibly delisted; no price data found  (period=1y) (Yahoo error = \"No data found, symbol may be delisted\")\n",
      "$MMP: possibly delisted; no price data found  (period=6mo) (Yahoo error = \"No data found, symbol may be delisted\")\n",
      "$MMP: possibly delisted; no price data found  (period=1mo) (Yahoo error = \"No data found, symbol may be delisted\")\n"
     ]
    },
    {
     "name": "stdout",
     "output_type": "stream",
     "text": [
      "No data found for MMP after retries. Skipping.\n"
     ]
    },
    {
     "name": "stderr",
     "output_type": "stream",
     "text": [
      "$MNP: possibly delisted; no price data found  (period=1y) (Yahoo error = \"No data found, symbol may be delisted\")\n",
      "$MNP: possibly delisted; no price data found  (period=6mo) (Yahoo error = \"No data found, symbol may be delisted\")\n",
      "$MNP: possibly delisted; no price data found  (period=1mo) (Yahoo error = \"No data found, symbol may be delisted\")\n"
     ]
    },
    {
     "name": "stdout",
     "output_type": "stream",
     "text": [
      "No data found for MNP after retries. Skipping.\n"
     ]
    },
    {
     "name": "stderr",
     "output_type": "stream",
     "text": [
      "$MOBV: possibly delisted; no price data found  (period=1y) (Yahoo error = \"No data found, symbol may be delisted\")\n",
      "$MOBV: possibly delisted; no price data found  (period=6mo) (Yahoo error = \"No data found, symbol may be delisted\")\n",
      "$MOBV: possibly delisted; no price data found  (period=1mo) (Yahoo error = \"No data found, symbol may be delisted\")\n"
     ]
    },
    {
     "name": "stdout",
     "output_type": "stream",
     "text": [
      "No data found for MOBV after retries. Skipping.\n"
     ]
    },
    {
     "name": "stderr",
     "output_type": "stream",
     "text": [
      "$MODN: possibly delisted; no price data found  (period=1y) (Yahoo error = \"No data found, symbol may be delisted\")\n",
      "$MODN: possibly delisted; no price data found  (period=6mo) (Yahoo error = \"No data found, symbol may be delisted\")\n",
      "$MODN: possibly delisted; no price data found  (period=1mo) (Yahoo error = \"No data found, symbol may be delisted\")\n"
     ]
    },
    {
     "name": "stdout",
     "output_type": "stream",
     "text": [
      "No data found for MODN after retries. Skipping.\n"
     ]
    },
    {
     "name": "stderr",
     "output_type": "stream",
     "text": [
      "$MOR: possibly delisted; no price data found  (period=1y) (Yahoo error = \"No data found, symbol may be delisted\")\n",
      "$MOR: possibly delisted; no price data found  (period=6mo) (Yahoo error = \"No data found, symbol may be delisted\")\n",
      "$MOR: possibly delisted; no price data found  (period=1mo) (Yahoo error = \"No data found, symbol may be delisted\")\n"
     ]
    },
    {
     "name": "stdout",
     "output_type": "stream",
     "text": [
      "No data found for MOR after retries. Skipping.\n"
     ]
    },
    {
     "name": "stderr",
     "output_type": "stream",
     "text": [
      "$MORF: possibly delisted; no price data found  (period=1y) (Yahoo error = \"No data found, symbol may be delisted\")\n",
      "$MORF: possibly delisted; no price data found  (period=6mo) (Yahoo error = \"No data found, symbol may be delisted\")\n",
      "$MORF: possibly delisted; no price data found  (period=1mo) (Yahoo error = \"No data found, symbol may be delisted\")\n"
     ]
    },
    {
     "name": "stdout",
     "output_type": "stream",
     "text": [
      "No data found for MORF after retries. Skipping.\n"
     ]
    },
    {
     "name": "stderr",
     "output_type": "stream",
     "text": [
      "$MOXC: possibly delisted; no price data found  (period=1y) (Yahoo error = \"No data found, symbol may be delisted\")\n",
      "$MOXC: possibly delisted; no price data found  (period=6mo) (Yahoo error = \"No data found, symbol may be delisted\")\n",
      "$MOXC: possibly delisted; no price data found  (period=1mo) (Yahoo error = \"No data found, symbol may be delisted\")\n"
     ]
    },
    {
     "name": "stdout",
     "output_type": "stream",
     "text": [
      "No data found for MOXC after retries. Skipping.\n"
     ]
    },
    {
     "name": "stderr",
     "output_type": "stream",
     "text": [
      "$MRDB: possibly delisted; no price data found  (period=1y) (Yahoo error = \"No data found, symbol may be delisted\")\n",
      "$MRDB: possibly delisted; no price data found  (period=6mo) (Yahoo error = \"No data found, symbol may be delisted\")\n",
      "$MRDB: possibly delisted; no price data found  (period=1mo) (Yahoo error = \"No data found, symbol may be delisted\")\n"
     ]
    },
    {
     "name": "stdout",
     "output_type": "stream",
     "text": [
      "No data found for MRDB after retries. Skipping.\n"
     ]
    },
    {
     "name": "stderr",
     "output_type": "stream",
     "text": [
      "$MRTX: possibly delisted; no price data found  (period=1y) (Yahoo error = \"No data found, symbol may be delisted\")\n",
      "$MRTX: possibly delisted; no price data found  (period=6mo) (Yahoo error = \"No data found, symbol may be delisted\")\n",
      "$MRTX: possibly delisted; no price data found  (period=1mo) (Yahoo error = \"No data found, symbol may be delisted\")\n"
     ]
    },
    {
     "name": "stdout",
     "output_type": "stream",
     "text": [
      "No data found for MRTX after retries. Skipping.\n"
     ]
    },
    {
     "name": "stderr",
     "output_type": "stream",
     "text": [
      "$MTAC: possibly delisted; no price data found  (period=1y) (Yahoo error = \"No data found, symbol may be delisted\")\n",
      "$MTAC: possibly delisted; no price data found  (period=6mo) (Yahoo error = \"No data found, symbol may be delisted\")\n",
      "$MTAC: possibly delisted; no price data found  (period=1mo) (Yahoo error = \"No data found, symbol may be delisted\")\n"
     ]
    },
    {
     "name": "stdout",
     "output_type": "stream",
     "text": [
      "No data found for MTAC after retries. Skipping.\n"
     ]
    },
    {
     "name": "stderr",
     "output_type": "stream",
     "text": [
      "$MTBL: possibly delisted; no price data found  (period=1y) (Yahoo error = \"No data found, symbol may be delisted\")\n",
      "$MTBL: possibly delisted; no price data found  (period=6mo) (Yahoo error = \"No data found, symbol may be delisted\")\n",
      "$MTBL: possibly delisted; no price data found  (period=1mo) (Yahoo error = \"No data found, symbol may be delisted\")\n"
     ]
    },
    {
     "name": "stdout",
     "output_type": "stream",
     "text": [
      "No data found for MTBL after retries. Skipping.\n"
     ]
    },
    {
     "name": "stderr",
     "output_type": "stream",
     "text": [
      "$MTRY: possibly delisted; no price data found  (period=1y) (Yahoo error = \"No data found, symbol may be delisted\")\n",
      "$MTRY: possibly delisted; no price data found  (period=6mo) (Yahoo error = \"No data found, symbol may be delisted\")\n",
      "$MTRY: possibly delisted; no price data found  (period=1mo) (Yahoo error = \"No data found, symbol may be delisted\")\n"
     ]
    },
    {
     "name": "stdout",
     "output_type": "stream",
     "text": [
      "No data found for MTRY after retries. Skipping.\n"
     ]
    },
    {
     "name": "stderr",
     "output_type": "stream",
     "text": [
      "$MURF: possibly delisted; no price data found  (period=1y) (Yahoo error = \"No data found, symbol may be delisted\")\n",
      "$MURF: possibly delisted; no price data found  (period=6mo) (Yahoo error = \"No data found, symbol may be delisted\")\n",
      "$MURF: possibly delisted; no price data found  (period=1mo) (Yahoo error = \"No data found, symbol may be delisted\")\n"
     ]
    },
    {
     "name": "stdout",
     "output_type": "stream",
     "text": [
      "No data found for MURF after retries. Skipping.\n"
     ]
    },
    {
     "name": "stderr",
     "output_type": "stream",
     "text": [
      "$MYMD: possibly delisted; no price data found  (period=1y) (Yahoo error = \"No data found, symbol may be delisted\")\n",
      "$MYMD: possibly delisted; no price data found  (period=6mo) (Yahoo error = \"No data found, symbol may be delisted\")\n",
      "$MYMD: possibly delisted; no price data found  (period=1mo) (Yahoo error = \"No data found, symbol may be delisted\")\n"
     ]
    },
    {
     "name": "stdout",
     "output_type": "stream",
     "text": [
      "No data found for MYMD after retries. Skipping.\n"
     ]
    },
    {
     "name": "stderr",
     "output_type": "stream",
     "text": [
      "$NATI: possibly delisted; no price data found  (period=1y) (Yahoo error = \"No data found, symbol may be delisted\")\n",
      "$NATI: possibly delisted; no price data found  (period=6mo) (Yahoo error = \"No data found, symbol may be delisted\")\n",
      "$NATI: possibly delisted; no price data found  (period=1mo) (Yahoo error = \"No data found, symbol may be delisted\")\n"
     ]
    },
    {
     "name": "stdout",
     "output_type": "stream",
     "text": [
      "No data found for NATI after retries. Skipping.\n"
     ]
    },
    {
     "name": "stderr",
     "output_type": "stream",
     "text": [
      "$NBO: possibly delisted; no price data found  (period=1y) (Yahoo error = \"No data found, symbol may be delisted\")\n",
      "$NBO: possibly delisted; no price data found  (period=6mo) (Yahoo error = \"No data found, symbol may be delisted\")\n",
      "$NBO: possibly delisted; no price data found  (period=1mo) (Yahoo error = \"No data found, symbol may be delisted\")\n"
     ]
    },
    {
     "name": "stdout",
     "output_type": "stream",
     "text": [
      "No data found for NBO after retries. Skipping.\n"
     ]
    },
    {
     "name": "stderr",
     "output_type": "stream",
     "text": [
      "$NBSE: possibly delisted; no price data found  (period=1y) (Yahoo error = \"No data found, symbol may be delisted\")\n",
      "$NBSE: possibly delisted; no price data found  (period=6mo) (Yahoo error = \"No data found, symbol may be delisted\")\n",
      "$NBSE: possibly delisted; no price data found  (period=1mo) (Yahoo error = \"No data found, symbol may be delisted\")\n"
     ]
    },
    {
     "name": "stdout",
     "output_type": "stream",
     "text": [
      "No data found for NBSE after retries. Skipping.\n"
     ]
    },
    {
     "name": "stderr",
     "output_type": "stream",
     "text": [
      "$NBW: possibly delisted; no price data found  (period=1y) (Yahoo error = \"No data found, symbol may be delisted\")\n",
      "$NBW: possibly delisted; no price data found  (period=6mo) (Yahoo error = \"No data found, symbol may be delisted\")\n",
      "$NBW: possibly delisted; no price data found  (period=1mo) (Yahoo error = \"No data found, symbol may be delisted\")\n"
     ]
    },
    {
     "name": "stdout",
     "output_type": "stream",
     "text": [
      "No data found for NBW after retries. Skipping.\n",
      "Skipping NBXG due to NaN values.\n"
     ]
    },
    {
     "name": "stderr",
     "output_type": "stream",
     "text": [
      "$NCAC: possibly delisted; no price data found  (period=1y) (Yahoo error = \"No data found, symbol may be delisted\")\n",
      "$NCAC: possibly delisted; no price data found  (period=6mo) (Yahoo error = \"No data found, symbol may be delisted\")\n",
      "$NCAC: possibly delisted; no price data found  (period=1mo) (Yahoo error = \"No data found, symbol may be delisted\")\n"
     ]
    },
    {
     "name": "stdout",
     "output_type": "stream",
     "text": [
      "No data found for NCAC after retries. Skipping.\n"
     ]
    },
    {
     "name": "stderr",
     "output_type": "stream",
     "text": [
      "$NCR: possibly delisted; no price data found  (period=1y) (Yahoo error = \"No data found, symbol may be delisted\")\n",
      "$NCR: possibly delisted; no price data found  (period=6mo) (Yahoo error = \"No data found, symbol may be delisted\")\n",
      "$NCR: possibly delisted; no price data found  (period=1mo) (Yahoo error = \"No data found, symbol may be delisted\")\n"
     ]
    },
    {
     "name": "stdout",
     "output_type": "stream",
     "text": [
      "No data found for NCR after retries. Skipping.\n",
      "Skipping NDMO due to NaN values.\n"
     ]
    },
    {
     "name": "stderr",
     "output_type": "stream",
     "text": [
      "$NEPT: possibly delisted; no price data found  (period=1y) (Yahoo error = \"No data found, symbol may be delisted\")\n",
      "$NEPT: possibly delisted; no price data found  (period=6mo) (Yahoo error = \"No data found, symbol may be delisted\")\n",
      "$NEPT: possibly delisted; no price data found  (period=1mo) (Yahoo error = \"No data found, symbol may be delisted\")\n"
     ]
    },
    {
     "name": "stdout",
     "output_type": "stream",
     "text": [
      "No data found for NEPT after retries. Skipping.\n"
     ]
    },
    {
     "name": "stderr",
     "output_type": "stream",
     "text": [
      "$NETC: possibly delisted; no price data found  (period=1y) (Yahoo error = \"No data found, symbol may be delisted\")\n",
      "$NETC: possibly delisted; no price data found  (period=6mo) (Yahoo error = \"No data found, symbol may be delisted\")\n",
      "$NETC: possibly delisted; no price data found  (period=1mo) (Yahoo error = \"No data found, symbol may be delisted\")\n"
     ]
    },
    {
     "name": "stdout",
     "output_type": "stream",
     "text": [
      "No data found for NETC after retries. Skipping.\n"
     ]
    },
    {
     "name": "stderr",
     "output_type": "stream",
     "text": [
      "$NETI: possibly delisted; no price data found  (period=1y) (Yahoo error = \"No data found, symbol may be delisted\")\n",
      "$NETI: possibly delisted; no price data found  (period=6mo) (Yahoo error = \"No data found, symbol may be delisted\")\n",
      "$NETI: possibly delisted; no price data found  (period=1mo) (Yahoo error = \"No data found, symbol may be delisted\")\n"
     ]
    },
    {
     "name": "stdout",
     "output_type": "stream",
     "text": [
      "No data found for NETI after retries. Skipping.\n"
     ]
    },
    {
     "name": "stderr",
     "output_type": "stream",
     "text": [
      "$NEWR: possibly delisted; no price data found  (period=1y) (Yahoo error = \"No data found, symbol may be delisted\")\n",
      "$NEWR: possibly delisted; no price data found  (period=6mo) (Yahoo error = \"No data found, symbol may be delisted\")\n",
      "$NEWR: possibly delisted; no price data found  (period=1mo) (Yahoo error = \"No data found, symbol may be delisted\")\n"
     ]
    },
    {
     "name": "stdout",
     "output_type": "stream",
     "text": [
      "No data found for NEWR after retries. Skipping.\n"
     ]
    },
    {
     "name": "stderr",
     "output_type": "stream",
     "text": [
      "$NFNT: possibly delisted; no price data found  (period=1y) (Yahoo error = \"No data found, symbol may be delisted\")\n",
      "$NFNT: possibly delisted; no price data found  (period=6mo) (Yahoo error = \"No data found, symbol may be delisted\")\n",
      "$NFNT: possibly delisted; no price data found  (period=1mo) (Yahoo error = \"No data found, symbol may be delisted\")\n"
     ]
    },
    {
     "name": "stdout",
     "output_type": "stream",
     "text": [
      "No data found for NFNT after retries. Skipping.\n"
     ]
    },
    {
     "name": "stderr",
     "output_type": "stream",
     "text": [
      "$NFTG: possibly delisted; no price data found  (period=1y) (Yahoo error = \"No data found, symbol may be delisted\")\n",
      "$NFTG: possibly delisted; no price data found  (period=6mo) (Yahoo error = \"No data found, symbol may be delisted\")\n",
      "$NFTG: possibly delisted; no price data found  (period=1mo) (Yahoo error = \"No data found, symbol may be delisted\")\n"
     ]
    },
    {
     "name": "stdout",
     "output_type": "stream",
     "text": [
      "No data found for NFTG after retries. Skipping.\n"
     ]
    },
    {
     "name": "stderr",
     "output_type": "stream",
     "text": [
      "$NFYS: possibly delisted; no price data found  (period=1y) (Yahoo error = \"No data found, symbol may be delisted\")\n",
      "$NFYS: possibly delisted; no price data found  (period=6mo) (Yahoo error = \"No data found, symbol may be delisted\")\n",
      "$NFYS: possibly delisted; no price data found  (period=1mo) (Yahoo error = \"No data found, symbol may be delisted\")\n"
     ]
    },
    {
     "name": "stdout",
     "output_type": "stream",
     "text": [
      "No data found for NFYS after retries. Skipping.\n"
     ]
    },
    {
     "name": "stderr",
     "output_type": "stream",
     "text": [
      "$NGM: possibly delisted; no price data found  (period=1y) (Yahoo error = \"No data found, symbol may be delisted\")\n",
      "$NGM: possibly delisted; no price data found  (period=6mo) (Yahoo error = \"No data found, symbol may be delisted\")\n",
      "$NGM: possibly delisted; no price data found  (period=1mo) (Yahoo error = \"No data found, symbol may be delisted\")\n"
     ]
    },
    {
     "name": "stdout",
     "output_type": "stream",
     "text": [
      "No data found for NGM after retries. Skipping.\n"
     ]
    },
    {
     "name": "stderr",
     "output_type": "stream",
     "text": [
      "$NGMS: possibly delisted; no price data found  (period=1y) (Yahoo error = \"No data found, symbol may be delisted\")\n",
      "$NGMS: possibly delisted; no price data found  (period=6mo) (Yahoo error = \"No data found, symbol may be delisted\")\n",
      "$NGMS: possibly delisted; no price data found  (period=1mo) (Yahoo error = \"No data found, symbol may be delisted\")\n"
     ]
    },
    {
     "name": "stdout",
     "output_type": "stream",
     "text": [
      "No data found for NGMS after retries. Skipping.\n"
     ]
    },
    {
     "name": "stderr",
     "output_type": "stream",
     "text": [
      "$NHWK: possibly delisted; no price data found  (period=1y) (Yahoo error = \"No data found, symbol may be delisted\")\n",
      "$NHWK: possibly delisted; no price data found  (period=6mo) (Yahoo error = \"No data found, symbol may be delisted\")\n",
      "$NHWK: possibly delisted; no price data found  (period=1mo) (Yahoo error = \"No data found, symbol may be delisted\")\n"
     ]
    },
    {
     "name": "stdout",
     "output_type": "stream",
     "text": [
      "No data found for NHWK after retries. Skipping.\n"
     ]
    },
    {
     "name": "stderr",
     "output_type": "stream",
     "text": [
      "$NICK: possibly delisted; no price data found  (period=1y) (Yahoo error = \"No data found, symbol may be delisted\")\n",
      "$NICK: possibly delisted; no price data found  (period=6mo) (Yahoo error = \"No data found, symbol may be delisted\")\n",
      "$NICK: possibly delisted; no price data found  (period=1mo) (Yahoo error = \"No data found, symbol may be delisted\")\n"
     ]
    },
    {
     "name": "stdout",
     "output_type": "stream",
     "text": [
      "No data found for NICK after retries. Skipping.\n"
     ]
    },
    {
     "name": "stderr",
     "output_type": "stream",
     "text": [
      "$NIR: possibly delisted; no price data found  (period=1y)\n",
      "$NIR: possibly delisted; no price data found  (period=6mo)\n",
      "$NIR: possibly delisted; no price data found  (period=1mo)\n"
     ]
    },
    {
     "name": "stdout",
     "output_type": "stream",
     "text": [
      "No data found for NIR after retries. Skipping.\n"
     ]
    },
    {
     "name": "stderr",
     "output_type": "stream",
     "text": [
      "$NLS: possibly delisted; no price data found  (period=1y) (Yahoo error = \"No data found, symbol may be delisted\")\n",
      "$NLS: possibly delisted; no price data found  (period=6mo) (Yahoo error = \"No data found, symbol may be delisted\")\n",
      "$NLS: possibly delisted; no price data found  (period=1mo) (Yahoo error = \"No data found, symbol may be delisted\")\n"
     ]
    },
    {
     "name": "stdout",
     "output_type": "stream",
     "text": [
      "No data found for NLS after retries. Skipping.\n"
     ]
    },
    {
     "name": "stderr",
     "output_type": "stream",
     "text": [
      "$NLTX: possibly delisted; no price data found  (period=1y) (Yahoo error = \"No data found, symbol may be delisted\")\n",
      "$NLTX: possibly delisted; no price data found  (period=6mo) (Yahoo error = \"No data found, symbol may be delisted\")\n",
      "$NLTX: possibly delisted; no price data found  (period=1mo) (Yahoo error = \"No data found, symbol may be delisted\")\n"
     ]
    },
    {
     "name": "stdout",
     "output_type": "stream",
     "text": [
      "No data found for NLTX after retries. Skipping.\n"
     ]
    },
    {
     "name": "stderr",
     "output_type": "stream",
     "text": [
      "$NM: possibly delisted; no price data found  (period=1y) (Yahoo error = \"No data found, symbol may be delisted\")\n",
      "$NM: possibly delisted; no price data found  (period=6mo) (Yahoo error = \"No data found, symbol may be delisted\")\n",
      "$NM: possibly delisted; no price data found  (period=1mo) (Yahoo error = \"No data found, symbol may be delisted\")\n"
     ]
    },
    {
     "name": "stdout",
     "output_type": "stream",
     "text": [
      "No data found for NM after retries. Skipping.\n",
      "Skipping NMAI due to NaN values.\n",
      "Skipping NMCO due to NaN values.\n"
     ]
    },
    {
     "name": "stderr",
     "output_type": "stream",
     "text": [
      "$NOGN: possibly delisted; no price data found  (period=1y)\n",
      "$NOGN: possibly delisted; no price data found  (period=6mo)\n",
      "$NOGN: possibly delisted; no price data found  (period=1mo)\n"
     ]
    },
    {
     "name": "stdout",
     "output_type": "stream",
     "text": [
      "No data found for NOGN after retries. Skipping.\n"
     ]
    },
    {
     "name": "stderr",
     "output_type": "stream",
     "text": [
      "$NRAC: possibly delisted; no price data found  (period=1y) (Yahoo error = \"No data found, symbol may be delisted\")\n",
      "$NRAC: possibly delisted; no price data found  (period=6mo) (Yahoo error = \"No data found, symbol may be delisted\")\n",
      "$NRAC: possibly delisted; no price data found  (period=1mo) (Yahoo error = \"No data found, symbol may be delisted\")\n"
     ]
    },
    {
     "name": "stdout",
     "output_type": "stream",
     "text": [
      "No data found for NRAC after retries. Skipping.\n"
     ]
    },
    {
     "name": "stderr",
     "output_type": "stream",
     "text": [
      "$NRGX: possibly delisted; no price data found  (period=1y) (Yahoo error = \"No data found, symbol may be delisted\")\n",
      "$NRGX: possibly delisted; no price data found  (period=6mo) (Yahoo error = \"No data found, symbol may be delisted\")\n",
      "$NRGX: possibly delisted; no price data found  (period=1mo) (Yahoo error = \"No data found, symbol may be delisted\")\n"
     ]
    },
    {
     "name": "stdout",
     "output_type": "stream",
     "text": [
      "No data found for NRGX after retries. Skipping.\n"
     ]
    },
    {
     "name": "stderr",
     "output_type": "stream",
     "text": [
      "$NS: possibly delisted; no price data found  (period=1y) (Yahoo error = \"No data found, symbol may be delisted\")\n",
      "$NS: possibly delisted; no price data found  (period=6mo) (Yahoo error = \"No data found, symbol may be delisted\")\n",
      "$NS: possibly delisted; no price data found  (period=1mo) (Yahoo error = \"No data found, symbol may be delisted\")\n"
     ]
    },
    {
     "name": "stdout",
     "output_type": "stream",
     "text": [
      "No data found for NS after retries. Skipping.\n"
     ]
    },
    {
     "name": "stderr",
     "output_type": "stream",
     "text": [
      "$NSL: possibly delisted; no price data found  (period=1y) (Yahoo error = \"No data found, symbol may be delisted\")\n",
      "$NSL: possibly delisted; no price data found  (period=6mo) (Yahoo error = \"No data found, symbol may be delisted\")\n",
      "$NSL: possibly delisted; no price data found  (period=1mo) (Yahoo error = \"No data found, symbol may be delisted\")\n"
     ]
    },
    {
     "name": "stdout",
     "output_type": "stream",
     "text": [
      "No data found for NSL after retries. Skipping.\n"
     ]
    },
    {
     "name": "stderr",
     "output_type": "stream",
     "text": [
      "$NSS: possibly delisted; no price data found  (period=1y) (Yahoo error = \"No data found, symbol may be delisted\")\n",
      "$NSS: possibly delisted; no price data found  (period=6mo) (Yahoo error = \"No data found, symbol may be delisted\")\n",
      "$NSS: possibly delisted; no price data found  (period=1mo) (Yahoo error = \"No data found, symbol may be delisted\")\n"
     ]
    },
    {
     "name": "stdout",
     "output_type": "stream",
     "text": [
      "No data found for NSS after retries. Skipping.\n"
     ]
    },
    {
     "name": "stderr",
     "output_type": "stream",
     "text": [
      "$NTCO: possibly delisted; no price data found  (period=1y) (Yahoo error = \"No data found, symbol may be delisted\")\n",
      "$NTCO: possibly delisted; no price data found  (period=6mo) (Yahoo error = \"No data found, symbol may be delisted\")\n",
      "$NTCO: possibly delisted; no price data found  (period=1mo) (Yahoo error = \"No data found, symbol may be delisted\")\n"
     ]
    },
    {
     "name": "stdout",
     "output_type": "stream",
     "text": [
      "No data found for NTCO after retries. Skipping.\n"
     ]
    },
    {
     "name": "stderr",
     "output_type": "stream",
     "text": [
      "$NUBI: possibly delisted; no price data found  (period=1y) (Yahoo error = \"No data found, symbol may be delisted\")\n",
      "$NUBI: possibly delisted; no price data found  (period=6mo) (Yahoo error = \"No data found, symbol may be delisted\")\n",
      "$NUBI: possibly delisted; no price data found  (period=1mo) (Yahoo error = \"No data found, symbol may be delisted\")\n"
     ]
    },
    {
     "name": "stdout",
     "output_type": "stream",
     "text": [
      "No data found for NUBI after retries. Skipping.\n"
     ]
    },
    {
     "name": "stderr",
     "output_type": "stream",
     "text": [
      "$NUVA: possibly delisted; no price data found  (period=1y) (Yahoo error = \"No data found, symbol may be delisted\")\n",
      "$NUVA: possibly delisted; no price data found  (period=6mo) (Yahoo error = \"No data found, symbol may be delisted\")\n",
      "$NUVA: possibly delisted; no price data found  (period=1mo) (Yahoo error = \"No data found, symbol may be delisted\")\n"
     ]
    },
    {
     "name": "stdout",
     "output_type": "stream",
     "text": [
      "No data found for NUVA after retries. Skipping.\n"
     ]
    },
    {
     "name": "stderr",
     "output_type": "stream",
     "text": [
      "$NUZE: possibly delisted; no price data found  (period=1y) (Yahoo error = \"No data found, symbol may be delisted\")\n",
      "$NUZE: possibly delisted; no price data found  (period=6mo) (Yahoo error = \"No data found, symbol may be delisted\")\n",
      "$NUZE: possibly delisted; no price data found  (period=1mo) (Yahoo error = \"No data found, symbol may be delisted\")\n"
     ]
    },
    {
     "name": "stdout",
     "output_type": "stream",
     "text": [
      "No data found for NUZE after retries. Skipping.\n"
     ]
    },
    {
     "name": "stderr",
     "output_type": "stream",
     "text": [
      "$NVIV: possibly delisted; no price data found  (period=1y) (Yahoo error = \"No data found, symbol may be delisted\")\n",
      "$NVIV: possibly delisted; no price data found  (period=6mo) (Yahoo error = \"No data found, symbol may be delisted\")\n",
      "$NVIV: possibly delisted; no price data found  (period=1mo) (Yahoo error = \"No data found, symbol may be delisted\")\n"
     ]
    },
    {
     "name": "stdout",
     "output_type": "stream",
     "text": [
      "No data found for NVIV after retries. Skipping.\n"
     ]
    },
    {
     "name": "stderr",
     "output_type": "stream",
     "text": [
      "$NVTA: possibly delisted; no price data found  (period=1y) (Yahoo error = \"No data found, symbol may be delisted\")\n",
      "$NVTA: possibly delisted; no price data found  (period=6mo) (Yahoo error = \"No data found, symbol may be delisted\")\n",
      "$NVTA: possibly delisted; no price data found  (period=1mo) (Yahoo error = \"No data found, symbol may be delisted\")\n"
     ]
    },
    {
     "name": "stdout",
     "output_type": "stream",
     "text": [
      "No data found for NVTA after retries. Skipping.\n"
     ]
    },
    {
     "name": "stderr",
     "output_type": "stream",
     "text": [
      "$NWLI: possibly delisted; no price data found  (period=1y) (Yahoo error = \"No data found, symbol may be delisted\")\n",
      "$NWLI: possibly delisted; no price data found  (period=6mo) (Yahoo error = \"No data found, symbol may be delisted\")\n",
      "$NWLI: possibly delisted; no price data found  (period=1mo) (Yahoo error = \"No data found, symbol may be delisted\")\n"
     ]
    },
    {
     "name": "stdout",
     "output_type": "stream",
     "text": [
      "No data found for NWLI after retries. Skipping.\n"
     ]
    },
    {
     "name": "stderr",
     "output_type": "stream",
     "text": [
      "$NXGN: possibly delisted; no price data found  (period=1y) (Yahoo error = \"No data found, symbol may be delisted\")\n",
      "$NXGN: possibly delisted; no price data found  (period=6mo) (Yahoo error = \"No data found, symbol may be delisted\")\n",
      "$NXGN: possibly delisted; no price data found  (period=1mo) (Yahoo error = \"No data found, symbol may be delisted\")\n"
     ]
    },
    {
     "name": "stdout",
     "output_type": "stream",
     "text": [
      "No data found for NXGN after retries. Skipping.\n"
     ]
    },
    {
     "name": "stderr",
     "output_type": "stream",
     "text": [
      "$NYCB: possibly delisted; no price data found  (period=1y) (Yahoo error = \"No data found, symbol may be delisted\")\n",
      "$NYCB: possibly delisted; no price data found  (period=6mo) (Yahoo error = \"No data found, symbol may be delisted\")\n",
      "$NYCB: possibly delisted; no price data found  (period=1mo) (Yahoo error = \"No data found, symbol may be delisted\")\n"
     ]
    },
    {
     "name": "stdout",
     "output_type": "stream",
     "text": [
      "No data found for NYCB after retries. Skipping.\n"
     ]
    },
    {
     "name": "stderr",
     "output_type": "stream",
     "text": [
      "$OCN: possibly delisted; no price data found  (period=1y) (Yahoo error = \"No data found, symbol may be delisted\")\n",
      "$OCN: possibly delisted; no price data found  (period=6mo) (Yahoo error = \"No data found, symbol may be delisted\")\n",
      "$OCN: possibly delisted; no price data found  (period=1mo) (Yahoo error = \"No data found, symbol may be delisted\")\n"
     ]
    },
    {
     "name": "stdout",
     "output_type": "stream",
     "text": [
      "No data found for OCN after retries. Skipping.\n"
     ]
    },
    {
     "name": "stderr",
     "output_type": "stream",
     "text": [
      "$OCUP: possibly delisted; no price data found  (period=1y) (Yahoo error = \"No data found, symbol may be delisted\")\n",
      "$OCUP: possibly delisted; no price data found  (period=6mo) (Yahoo error = \"No data found, symbol may be delisted\")\n",
      "$OCUP: possibly delisted; no price data found  (period=1mo) (Yahoo error = \"No data found, symbol may be delisted\")\n"
     ]
    },
    {
     "name": "stdout",
     "output_type": "stream",
     "text": [
      "No data found for OCUP after retries. Skipping.\n"
     ]
    },
    {
     "name": "stderr",
     "output_type": "stream",
     "text": [
      "$OFC: possibly delisted; no price data found  (period=1y) (Yahoo error = \"No data found, symbol may be delisted\")\n",
      "$OFC: possibly delisted; no price data found  (period=6mo) (Yahoo error = \"No data found, symbol may be delisted\")\n",
      "$OFC: possibly delisted; no price data found  (period=1mo) (Yahoo error = \"No data found, symbol may be delisted\")\n"
     ]
    },
    {
     "name": "stdout",
     "output_type": "stream",
     "text": [
      "No data found for OFC after retries. Skipping.\n"
     ]
    },
    {
     "name": "stderr",
     "output_type": "stream",
     "text": [
      "$OHAA: possibly delisted; no price data found  (period=1y) (Yahoo error = \"No data found, symbol may be delisted\")\n",
      "$OHAA: possibly delisted; no price data found  (period=6mo) (Yahoo error = \"No data found, symbol may be delisted\")\n",
      "$OHAA: possibly delisted; no price data found  (period=1mo) (Yahoo error = \"No data found, symbol may be delisted\")\n"
     ]
    },
    {
     "name": "stdout",
     "output_type": "stream",
     "text": [
      "No data found for OHAA after retries. Skipping.\n"
     ]
    },
    {
     "name": "stderr",
     "output_type": "stream",
     "text": [
      "$OLIT: possibly delisted; no price data found  (period=1y) (Yahoo error = \"No data found, symbol may be delisted\")\n",
      "$OLIT: possibly delisted; no price data found  (period=6mo) (Yahoo error = \"No data found, symbol may be delisted\")\n",
      "$OLIT: possibly delisted; no price data found  (period=1mo) (Yahoo error = \"No data found, symbol may be delisted\")\n"
     ]
    },
    {
     "name": "stdout",
     "output_type": "stream",
     "text": [
      "No data found for OLIT after retries. Skipping.\n"
     ]
    },
    {
     "name": "stderr",
     "output_type": "stream",
     "text": [
      "$OLK: possibly delisted; no price data found  (period=1y) (Yahoo error = \"No data found, symbol may be delisted\")\n",
      "$OLK: possibly delisted; no price data found  (period=6mo) (Yahoo error = \"No data found, symbol may be delisted\")\n",
      "$OLK: possibly delisted; no price data found  (period=1mo) (Yahoo error = \"No data found, symbol may be delisted\")\n"
     ]
    },
    {
     "name": "stdout",
     "output_type": "stream",
     "text": [
      "No data found for OLK after retries. Skipping.\n"
     ]
    },
    {
     "name": "stderr",
     "output_type": "stream",
     "text": [
      "$ONTX: possibly delisted; no price data found  (period=1y) (Yahoo error = \"No data found, symbol may be delisted\")\n",
      "$ONTX: possibly delisted; no price data found  (period=6mo) (Yahoo error = \"No data found, symbol may be delisted\")\n",
      "$ONTX: possibly delisted; no price data found  (period=1mo) (Yahoo error = \"No data found, symbol may be delisted\")\n"
     ]
    },
    {
     "name": "stdout",
     "output_type": "stream",
     "text": [
      "No data found for ONTX after retries. Skipping.\n"
     ]
    },
    {
     "name": "stderr",
     "output_type": "stream",
     "text": [
      "$ONYX: possibly delisted; no price data found  (period=1y) (Yahoo error = \"No data found, symbol may be delisted\")\n",
      "$ONYX: possibly delisted; no price data found  (period=6mo) (Yahoo error = \"No data found, symbol may be delisted\")\n",
      "$ONYX: possibly delisted; no price data found  (period=1mo) (Yahoo error = \"No data found, symbol may be delisted\")\n"
     ]
    },
    {
     "name": "stdout",
     "output_type": "stream",
     "text": [
      "No data found for ONYX after retries. Skipping.\n"
     ]
    },
    {
     "name": "stderr",
     "output_type": "stream",
     "text": [
      "$OPA: possibly delisted; no price data found  (period=1y) (Yahoo error = \"No data found, symbol may be delisted\")\n",
      "$OPA: possibly delisted; no price data found  (period=6mo) (Yahoo error = \"No data found, symbol may be delisted\")\n",
      "$OPA: possibly delisted; no price data found  (period=1mo) (Yahoo error = \"No data found, symbol may be delisted\")\n"
     ]
    },
    {
     "name": "stdout",
     "output_type": "stream",
     "text": [
      "No data found for OPA after retries. Skipping.\n"
     ]
    },
    {
     "name": "stderr",
     "output_type": "stream",
     "text": [
      "$ORAN: possibly delisted; no price data found  (period=1y) (Yahoo error = \"No data found, symbol may be delisted\")\n",
      "$ORAN: possibly delisted; no price data found  (period=6mo) (Yahoo error = \"No data found, symbol may be delisted\")\n",
      "$ORAN: possibly delisted; no price data found  (period=1mo) (Yahoo error = \"No data found, symbol may be delisted\")\n"
     ]
    },
    {
     "name": "stdout",
     "output_type": "stream",
     "text": [
      "No data found for ORAN after retries. Skipping.\n"
     ]
    },
    {
     "name": "stderr",
     "output_type": "stream",
     "text": [
      "$ORTX: possibly delisted; no price data found  (period=1y) (Yahoo error = \"No data found, symbol may be delisted\")\n",
      "$ORTX: possibly delisted; no price data found  (period=6mo) (Yahoo error = \"No data found, symbol may be delisted\")\n",
      "$ORTX: possibly delisted; no price data found  (period=1mo) (Yahoo error = \"No data found, symbol may be delisted\")\n"
     ]
    },
    {
     "name": "stdout",
     "output_type": "stream",
     "text": [
      "No data found for ORTX after retries. Skipping.\n"
     ]
    },
    {
     "name": "stderr",
     "output_type": "stream",
     "text": [
      "$OSG: possibly delisted; no price data found  (period=1y) (Yahoo error = \"No data found, symbol may be delisted\")\n",
      "$OSG: possibly delisted; no price data found  (period=6mo) (Yahoo error = \"No data found, symbol may be delisted\")\n",
      "$OSG: possibly delisted; no price data found  (period=1mo) (Yahoo error = \"No data found, symbol may be delisted\")\n"
     ]
    },
    {
     "name": "stdout",
     "output_type": "stream",
     "text": [
      "No data found for OSG after retries. Skipping.\n"
     ]
    },
    {
     "name": "stderr",
     "output_type": "stream",
     "text": [
      "$OSTK: possibly delisted; no price data found  (period=1y)\n",
      "$OSTK: possibly delisted; no price data found  (period=6mo)\n",
      "$OSTK: possibly delisted; no price data found  (period=1mo)\n"
     ]
    },
    {
     "name": "stdout",
     "output_type": "stream",
     "text": [
      "No data found for OSTK after retries. Skipping.\n"
     ]
    },
    {
     "name": "stderr",
     "output_type": "stream",
     "text": [
      "$OTEC: possibly delisted; no price data found  (period=1y) (Yahoo error = \"No data found, symbol may be delisted\")\n",
      "$OTEC: possibly delisted; no price data found  (period=6mo) (Yahoo error = \"No data found, symbol may be delisted\")\n",
      "$OTEC: possibly delisted; no price data found  (period=1mo) (Yahoo error = \"No data found, symbol may be delisted\")\n"
     ]
    },
    {
     "name": "stdout",
     "output_type": "stream",
     "text": [
      "No data found for OTEC after retries. Skipping.\n"
     ]
    },
    {
     "name": "stderr",
     "output_type": "stream",
     "text": [
      "$OTMO: possibly delisted; no price data found  (period=1y) (Yahoo error = \"No data found, symbol may be delisted\")\n",
      "$OTMO: possibly delisted; no price data found  (period=6mo) (Yahoo error = \"No data found, symbol may be delisted\")\n",
      "$OTMO: possibly delisted; no price data found  (period=1mo) (Yahoo error = \"No data found, symbol may be delisted\")\n"
     ]
    },
    {
     "name": "stdout",
     "output_type": "stream",
     "text": [
      "No data found for OTMO after retries. Skipping.\n",
      "Skipping OUNZ due to NaN values.\n"
     ]
    },
    {
     "name": "stderr",
     "output_type": "stream",
     "text": [
      "OXBRW: Period '1y' is invalid, must be one of ['1d', '5d']\n",
      "OXBRW: Period '6mo' is invalid, must be one of ['1d', '5d']\n",
      "OXBRW: Period '1mo' is invalid, must be one of ['1d', '5d']\n"
     ]
    },
    {
     "name": "stdout",
     "output_type": "stream",
     "text": [
      "No data found for OXBRW after retries. Skipping.\n"
     ]
    },
    {
     "name": "stderr",
     "output_type": "stream",
     "text": [
      "$OXLCM: possibly delisted; no price data found  (period=1y) (Yahoo error = \"No data found, symbol may be delisted\")\n",
      "$OXLCM: possibly delisted; no price data found  (period=6mo) (Yahoo error = \"No data found, symbol may be delisted\")\n",
      "$OXLCM: possibly delisted; no price data found  (period=1mo) (Yahoo error = \"No data found, symbol may be delisted\")\n"
     ]
    },
    {
     "name": "stdout",
     "output_type": "stream",
     "text": [
      "No data found for OXLCM after retries. Skipping.\n"
     ]
    },
    {
     "name": "stderr",
     "output_type": "stream",
     "text": [
      "$OXUS: possibly delisted; no price data found  (period=1y) (Yahoo error = \"No data found, symbol may be delisted\")\n",
      "$OXUS: possibly delisted; no price data found  (period=6mo) (Yahoo error = \"No data found, symbol may be delisted\")\n",
      "$OXUS: possibly delisted; no price data found  (period=1mo) (Yahoo error = \"No data found, symbol may be delisted\")\n"
     ]
    },
    {
     "name": "stdout",
     "output_type": "stream",
     "text": [
      "No data found for OXUS after retries. Skipping.\n"
     ]
    },
    {
     "name": "stderr",
     "output_type": "stream",
     "text": [
      "$PACI: possibly delisted; no price data found  (period=1y) (Yahoo error = \"No data found, symbol may be delisted\")\n",
      "$PACI: possibly delisted; no price data found  (period=6mo) (Yahoo error = \"No data found, symbol may be delisted\")\n",
      "$PACI: possibly delisted; no price data found  (period=1mo) (Yahoo error = \"No data found, symbol may be delisted\")\n"
     ]
    },
    {
     "name": "stdout",
     "output_type": "stream",
     "text": [
      "No data found for PACI after retries. Skipping.\n"
     ]
    },
    {
     "name": "stderr",
     "output_type": "stream",
     "text": [
      "$PACW: possibly delisted; no price data found  (period=1y) (Yahoo error = \"No data found, symbol may be delisted\")\n",
      "$PACW: possibly delisted; no price data found  (period=6mo) (Yahoo error = \"No data found, symbol may be delisted\")\n",
      "$PACW: possibly delisted; no price data found  (period=1mo) (Yahoo error = \"No data found, symbol may be delisted\")\n"
     ]
    },
    {
     "name": "stdout",
     "output_type": "stream",
     "text": [
      "No data found for PACW after retries. Skipping.\n"
     ]
    },
    {
     "name": "stderr",
     "output_type": "stream",
     "text": [
      "$PATI: possibly delisted; no price data found  (period=1y) (Yahoo error = \"No data found, symbol may be delisted\")\n",
      "$PATI: possibly delisted; no price data found  (period=6mo) (Yahoo error = \"No data found, symbol may be delisted\")\n",
      "$PATI: possibly delisted; no price data found  (period=1mo) (Yahoo error = \"No data found, symbol may be delisted\")\n"
     ]
    },
    {
     "name": "stdout",
     "output_type": "stream",
     "text": [
      "No data found for PATI after retries. Skipping.\n"
     ]
    },
    {
     "name": "stderr",
     "output_type": "stream",
     "text": [
      "$PBAX: possibly delisted; no price data found  (period=1y) (Yahoo error = \"No data found, symbol may be delisted\")\n",
      "$PBAX: possibly delisted; no price data found  (period=6mo) (Yahoo error = \"No data found, symbol may be delisted\")\n",
      "$PBAX: possibly delisted; no price data found  (period=1mo) (Yahoo error = \"No data found, symbol may be delisted\")\n"
     ]
    },
    {
     "name": "stdout",
     "output_type": "stream",
     "text": [
      "No data found for PBAX after retries. Skipping.\n"
     ]
    },
    {
     "name": "stderr",
     "output_type": "stream",
     "text": [
      "$PBTS: possibly delisted; no price data found  (period=1y) (Yahoo error = \"No data found, symbol may be delisted\")\n",
      "$PBTS: possibly delisted; no price data found  (period=6mo) (Yahoo error = \"No data found, symbol may be delisted\")\n",
      "$PBTS: possibly delisted; no price data found  (period=1mo) (Yahoo error = \"No data found, symbol may be delisted\")\n"
     ]
    },
    {
     "name": "stdout",
     "output_type": "stream",
     "text": [
      "No data found for PBTS after retries. Skipping.\n"
     ]
    },
    {
     "name": "stderr",
     "output_type": "stream",
     "text": [
      "$PCCT: possibly delisted; no price data found  (period=1y) (Yahoo error = \"No data found, symbol may be delisted\")\n",
      "$PCCT: possibly delisted; no price data found  (period=6mo) (Yahoo error = \"No data found, symbol may be delisted\")\n",
      "$PCCT: possibly delisted; no price data found  (period=1mo) (Yahoo error = \"No data found, symbol may be delisted\")\n"
     ]
    },
    {
     "name": "stdout",
     "output_type": "stream",
     "text": [
      "No data found for PCCT after retries. Skipping.\n"
     ]
    },
    {
     "name": "stderr",
     "output_type": "stream",
     "text": [
      "$PCTI: possibly delisted; no price data found  (period=1y) (Yahoo error = \"No data found, symbol may be delisted\")\n",
      "$PCTI: possibly delisted; no price data found  (period=6mo) (Yahoo error = \"No data found, symbol may be delisted\")\n",
      "$PCTI: possibly delisted; no price data found  (period=1mo) (Yahoo error = \"No data found, symbol may be delisted\")\n"
     ]
    },
    {
     "name": "stdout",
     "output_type": "stream",
     "text": [
      "No data found for PCTI after retries. Skipping.\n"
     ]
    },
    {
     "name": "stderr",
     "output_type": "stream",
     "text": [
      "$PCYG: possibly delisted; no price data found  (period=1y)\n",
      "$PCYG: possibly delisted; no price data found  (period=6mo)\n",
      "$PCYG: possibly delisted; no price data found  (period=1mo)\n"
     ]
    },
    {
     "name": "stdout",
     "output_type": "stream",
     "text": [
      "No data found for PCYG after retries. Skipping.\n",
      "Skipping PDO due to NaN values.\n"
     ]
    },
    {
     "name": "stderr",
     "output_type": "stream",
     "text": [
      "$PEAK: possibly delisted; no price data found  (period=1y) (Yahoo error = \"No data found, symbol may be delisted\")\n",
      "$PEAK: possibly delisted; no price data found  (period=6mo) (Yahoo error = \"No data found, symbol may be delisted\")\n",
      "$PEAK: possibly delisted; no price data found  (period=1mo) (Yahoo error = \"No data found, symbol may be delisted\")\n"
     ]
    },
    {
     "name": "stdout",
     "output_type": "stream",
     "text": [
      "No data found for PEAK after retries. Skipping.\n"
     ]
    },
    {
     "name": "stderr",
     "output_type": "stream",
     "text": [
      "$PEGR: possibly delisted; no price data found  (period=1y) (Yahoo error = \"No data found, symbol may be delisted\")\n",
      "$PEGR: possibly delisted; no price data found  (period=6mo) (Yahoo error = \"No data found, symbol may be delisted\")\n",
      "$PEGR: possibly delisted; no price data found  (period=1mo) (Yahoo error = \"No data found, symbol may be delisted\")\n"
     ]
    },
    {
     "name": "stdout",
     "output_type": "stream",
     "text": [
      "No data found for PEGR after retries. Skipping.\n"
     ]
    },
    {
     "name": "stderr",
     "output_type": "stream",
     "text": [
      "$PEPL: possibly delisted; no price data found  (period=1y) (Yahoo error = \"No data found, symbol may be delisted\")\n",
      "$PEPL: possibly delisted; no price data found  (period=6mo) (Yahoo error = \"No data found, symbol may be delisted\")\n",
      "$PEPL: possibly delisted; no price data found  (period=1mo) (Yahoo error = \"No data found, symbol may be delisted\")\n"
     ]
    },
    {
     "name": "stdout",
     "output_type": "stream",
     "text": [
      "No data found for PEPL after retries. Skipping.\n"
     ]
    },
    {
     "name": "stderr",
     "output_type": "stream",
     "text": [
      "$PETQ: possibly delisted; no price data found  (period=1y) (Yahoo error = \"No data found, symbol may be delisted\")\n",
      "$PETQ: possibly delisted; no price data found  (period=6mo) (Yahoo error = \"No data found, symbol may be delisted\")\n",
      "$PETQ: possibly delisted; no price data found  (period=1mo) (Yahoo error = \"No data found, symbol may be delisted\")\n"
     ]
    },
    {
     "name": "stdout",
     "output_type": "stream",
     "text": [
      "No data found for PETQ after retries. Skipping.\n"
     ]
    },
    {
     "name": "stderr",
     "output_type": "stream",
     "text": [
      "$PFIN: possibly delisted; no price data found  (period=1y) (Yahoo error = \"No data found, symbol may be delisted\")\n",
      "$PFIN: possibly delisted; no price data found  (period=6mo) (Yahoo error = \"No data found, symbol may be delisted\")\n",
      "$PFIN: possibly delisted; no price data found  (period=1mo) (Yahoo error = \"No data found, symbol may be delisted\")\n"
     ]
    },
    {
     "name": "stdout",
     "output_type": "stream",
     "text": [
      "No data found for PFIN after retries. Skipping.\n"
     ]
    },
    {
     "name": "stderr",
     "output_type": "stream",
     "text": [
      "$PFSW: possibly delisted; no price data found  (period=1y) (Yahoo error = \"No data found, symbol may be delisted\")\n",
      "$PFSW: possibly delisted; no price data found  (period=6mo) (Yahoo error = \"No data found, symbol may be delisted\")\n",
      "$PFSW: possibly delisted; no price data found  (period=1mo) (Yahoo error = \"No data found, symbol may be delisted\")\n"
     ]
    },
    {
     "name": "stdout",
     "output_type": "stream",
     "text": [
      "No data found for PFSW after retries. Skipping.\n"
     ]
    },
    {
     "name": "stderr",
     "output_type": "stream",
     "text": [
      "$PGSS: possibly delisted; no price data found  (period=1y) (Yahoo error = \"No data found, symbol may be delisted\")\n",
      "$PGSS: possibly delisted; no price data found  (period=6mo) (Yahoo error = \"No data found, symbol may be delisted\")\n",
      "$PGSS: possibly delisted; no price data found  (period=1mo) (Yahoo error = \"No data found, symbol may be delisted\")\n"
     ]
    },
    {
     "name": "stdout",
     "output_type": "stream",
     "text": [
      "No data found for PGSS after retries. Skipping.\n"
     ]
    },
    {
     "name": "stderr",
     "output_type": "stream",
     "text": [
      "$PGTI: possibly delisted; no price data found  (period=1y) (Yahoo error = \"No data found, symbol may be delisted\")\n",
      "$PGTI: possibly delisted; no price data found  (period=6mo) (Yahoo error = \"No data found, symbol may be delisted\")\n",
      "$PGTI: possibly delisted; no price data found  (period=1mo) (Yahoo error = \"No data found, symbol may be delisted\")\n"
     ]
    },
    {
     "name": "stdout",
     "output_type": "stream",
     "text": [
      "No data found for PGTI after retries. Skipping.\n"
     ]
    },
    {
     "name": "stderr",
     "output_type": "stream",
     "text": [
      "$PHXM: possibly delisted; no price data found  (period=1y) (Yahoo error = \"No data found, symbol may be delisted\")\n",
      "$PHXM: possibly delisted; no price data found  (period=6mo) (Yahoo error = \"No data found, symbol may be delisted\")\n",
      "$PHXM: possibly delisted; no price data found  (period=1mo) (Yahoo error = \"No data found, symbol may be delisted\")\n"
     ]
    },
    {
     "name": "stdout",
     "output_type": "stream",
     "text": [
      "No data found for PHXM after retries. Skipping.\n",
      "Skipping PHYS due to NaN values.\n"
     ]
    },
    {
     "name": "stderr",
     "output_type": "stream",
     "text": [
      "$PHYT: possibly delisted; no price data found  (period=1y) (Yahoo error = \"No data found, symbol may be delisted\")\n",
      "$PHYT: possibly delisted; no price data found  (period=6mo) (Yahoo error = \"No data found, symbol may be delisted\")\n",
      "$PHYT: possibly delisted; no price data found  (period=1mo) (Yahoo error = \"No data found, symbol may be delisted\")\n"
     ]
    },
    {
     "name": "stdout",
     "output_type": "stream",
     "text": [
      "No data found for PHYT after retries. Skipping.\n"
     ]
    },
    {
     "name": "stderr",
     "output_type": "stream",
     "text": [
      "$PLM: possibly delisted; no price data found  (period=1y) (Yahoo error = \"No data found, symbol may be delisted\")\n",
      "$PLM: possibly delisted; no price data found  (period=6mo) (Yahoo error = \"No data found, symbol may be delisted\")\n",
      "$PLM: possibly delisted; no price data found  (period=1mo) (Yahoo error = \"No data found, symbol may be delisted\")\n"
     ]
    },
    {
     "name": "stdout",
     "output_type": "stream",
     "text": [
      "No data found for PLM after retries. Skipping.\n"
     ]
    },
    {
     "name": "stderr",
     "output_type": "stream",
     "text": [
      "$PLMI: possibly delisted; no price data found  (period=1y) (Yahoo error = \"No data found, symbol may be delisted\")\n",
      "$PLMI: possibly delisted; no price data found  (period=6mo) (Yahoo error = \"No data found, symbol may be delisted\")\n",
      "$PLMI: possibly delisted; no price data found  (period=1mo) (Yahoo error = \"No data found, symbol may be delisted\")\n"
     ]
    },
    {
     "name": "stdout",
     "output_type": "stream",
     "text": [
      "No data found for PLMI after retries. Skipping.\n"
     ]
    },
    {
     "name": "stderr",
     "output_type": "stream",
     "text": [
      "$PLTN: possibly delisted; no price data found  (period=1y) (Yahoo error = \"No data found, symbol may be delisted\")\n",
      "$PLTN: possibly delisted; no price data found  (period=6mo) (Yahoo error = \"No data found, symbol may be delisted\")\n",
      "$PLTN: possibly delisted; no price data found  (period=1mo) (Yahoo error = \"No data found, symbol may be delisted\")\n"
     ]
    },
    {
     "name": "stdout",
     "output_type": "stream",
     "text": [
      "No data found for PLTN after retries. Skipping.\n"
     ]
    },
    {
     "name": "stderr",
     "output_type": "stream",
     "text": [
      "$PMGM: possibly delisted; no price data found  (period=1y) (Yahoo error = \"No data found, symbol may be delisted\")\n",
      "$PMGM: possibly delisted; no price data found  (period=6mo) (Yahoo error = \"No data found, symbol may be delisted\")\n",
      "$PMGM: possibly delisted; no price data found  (period=1mo) (Yahoo error = \"No data found, symbol may be delisted\")\n"
     ]
    },
    {
     "name": "stdout",
     "output_type": "stream",
     "text": [
      "No data found for PMGM after retries. Skipping.\n"
     ]
    },
    {
     "name": "stderr",
     "output_type": "stream",
     "text": [
      "$PNAC: possibly delisted; no price data found  (period=1y) (Yahoo error = \"No data found, symbol may be delisted\")\n",
      "$PNAC: possibly delisted; no price data found  (period=6mo) (Yahoo error = \"No data found, symbol may be delisted\")\n",
      "$PNAC: possibly delisted; no price data found  (period=1mo) (Yahoo error = \"No data found, symbol may be delisted\")\n"
     ]
    },
    {
     "name": "stdout",
     "output_type": "stream",
     "text": [
      "No data found for PNAC after retries. Skipping.\n"
     ]
    },
    {
     "name": "stderr",
     "output_type": "stream",
     "text": [
      "$PNM: possibly delisted; no price data found  (period=1y) (Yahoo error = \"No data found, symbol may be delisted\")\n",
      "$PNM: possibly delisted; no price data found  (period=6mo) (Yahoo error = \"No data found, symbol may be delisted\")\n",
      "$PNM: possibly delisted; no price data found  (period=1mo) (Yahoo error = \"No data found, symbol may be delisted\")\n"
     ]
    },
    {
     "name": "stdout",
     "output_type": "stream",
     "text": [
      "No data found for PNM after retries. Skipping.\n"
     ]
    },
    {
     "name": "stderr",
     "output_type": "stream",
     "text": [
      "$PNT: possibly delisted; no price data found  (period=1y) (Yahoo error = \"No data found, symbol may be delisted\")\n",
      "$PNT: possibly delisted; no price data found  (period=6mo) (Yahoo error = \"No data found, symbol may be delisted\")\n",
      "$PNT: possibly delisted; no price data found  (period=1mo) (Yahoo error = \"No data found, symbol may be delisted\")\n"
     ]
    },
    {
     "name": "stdout",
     "output_type": "stream",
     "text": [
      "No data found for PNT after retries. Skipping.\n"
     ]
    },
    {
     "name": "stderr",
     "output_type": "stream",
     "text": [
      "$POL: possibly delisted; no price data found  (period=1y) (Yahoo error = \"No data found, symbol may be delisted\")\n",
      "$POL: possibly delisted; no price data found  (period=6mo) (Yahoo error = \"No data found, symbol may be delisted\")\n",
      "$POL: possibly delisted; no price data found  (period=1mo) (Yahoo error = \"No data found, symbol may be delisted\")\n"
     ]
    },
    {
     "name": "stdout",
     "output_type": "stream",
     "text": [
      "No data found for POL after retries. Skipping.\n"
     ]
    },
    {
     "name": "stderr",
     "output_type": "stream",
     "text": [
      "PORT: Period '1y' is invalid, must be one of ['1d', '5d', '1mo', '3mo', '6mo', 'ytd', 'max']\n",
      "$PPHP: possibly delisted; no price data found  (period=1y) (Yahoo error = \"No data found, symbol may be delisted\")\n",
      "$PPHP: possibly delisted; no price data found  (period=6mo) (Yahoo error = \"No data found, symbol may be delisted\")\n",
      "$PPHP: possibly delisted; no price data found  (period=1mo) (Yahoo error = \"No data found, symbol may be delisted\")\n"
     ]
    },
    {
     "name": "stdout",
     "output_type": "stream",
     "text": [
      "No data found for PPHP after retries. Skipping.\n"
     ]
    },
    {
     "name": "stderr",
     "output_type": "stream",
     "text": [
      "$PRDS: possibly delisted; no price data found  (period=1y) (Yahoo error = \"No data found, symbol may be delisted\")\n",
      "$PRDS: possibly delisted; no price data found  (period=6mo) (Yahoo error = \"No data found, symbol may be delisted\")\n",
      "$PRDS: possibly delisted; no price data found  (period=1mo) (Yahoo error = \"No data found, symbol may be delisted\")\n"
     ]
    },
    {
     "name": "stdout",
     "output_type": "stream",
     "text": [
      "No data found for PRDS after retries. Skipping.\n"
     ]
    },
    {
     "name": "stderr",
     "output_type": "stream",
     "text": [
      "$PRFT: possibly delisted; no price data found  (period=1y) (Yahoo error = \"No data found, symbol may be delisted\")\n",
      "$PRFT: possibly delisted; no price data found  (period=6mo) (Yahoo error = \"No data found, symbol may be delisted\")\n",
      "$PRFT: possibly delisted; no price data found  (period=1mo) (Yahoo error = \"No data found, symbol may be delisted\")\n"
     ]
    },
    {
     "name": "stdout",
     "output_type": "stream",
     "text": [
      "No data found for PRFT after retries. Skipping.\n"
     ]
    },
    {
     "name": "stderr",
     "output_type": "stream",
     "text": [
      "$PRPC: possibly delisted; no price data found  (period=1y) (Yahoo error = \"No data found, symbol may be delisted\")\n",
      "$PRPC: possibly delisted; no price data found  (period=6mo) (Yahoo error = \"No data found, symbol may be delisted\")\n",
      "$PRPC: possibly delisted; no price data found  (period=1mo) (Yahoo error = \"No data found, symbol may be delisted\")\n"
     ]
    },
    {
     "name": "stdout",
     "output_type": "stream",
     "text": [
      "No data found for PRPC after retries. Skipping.\n"
     ]
    },
    {
     "name": "stderr",
     "output_type": "stream",
     "text": [
      "$PRSR: possibly delisted; no price data found  (period=1y)\n",
      "$PRSR: possibly delisted; no price data found  (period=6mo)\n",
      "$PRSR: possibly delisted; no price data found  (period=1mo)\n"
     ]
    },
    {
     "name": "stdout",
     "output_type": "stream",
     "text": [
      "No data found for PRSR after retries. Skipping.\n",
      "Skipping PSLV due to NaN values.\n"
     ]
    },
    {
     "name": "stderr",
     "output_type": "stream",
     "text": [
      "$PTHR: possibly delisted; no price data found  (period=1y) (Yahoo error = \"No data found, symbol may be delisted\")\n",
      "$PTHR: possibly delisted; no price data found  (period=6mo) (Yahoo error = \"No data found, symbol may be delisted\")\n",
      "$PTHR: possibly delisted; no price data found  (period=1mo) (Yahoo error = \"No data found, symbol may be delisted\")\n"
     ]
    },
    {
     "name": "stdout",
     "output_type": "stream",
     "text": [
      "No data found for PTHR after retries. Skipping.\n"
     ]
    },
    {
     "name": "stderr",
     "output_type": "stream",
     "text": [
      "$PTRS: possibly delisted; no price data found  (period=1y) (Yahoo error = \"No data found, symbol may be delisted\")\n",
      "$PTRS: possibly delisted; no price data found  (period=6mo) (Yahoo error = \"No data found, symbol may be delisted\")\n",
      "$PTRS: possibly delisted; no price data found  (period=1mo) (Yahoo error = \"No data found, symbol may be delisted\")\n"
     ]
    },
    {
     "name": "stdout",
     "output_type": "stream",
     "text": [
      "No data found for PTRS after retries. Skipping.\n"
     ]
    },
    {
     "name": "stderr",
     "output_type": "stream",
     "text": [
      "$PTWO: possibly delisted; no price data found  (period=1y) (Yahoo error = \"No data found, symbol may be delisted\")\n",
      "$PTWO: possibly delisted; no price data found  (period=6mo) (Yahoo error = \"No data found, symbol may be delisted\")\n",
      "$PTWO: possibly delisted; no price data found  (period=1mo) (Yahoo error = \"No data found, symbol may be delisted\")\n"
     ]
    },
    {
     "name": "stdout",
     "output_type": "stream",
     "text": [
      "No data found for PTWO after retries. Skipping.\n"
     ]
    },
    {
     "name": "stderr",
     "output_type": "stream",
     "text": [
      "$PUYI: possibly delisted; no price data found  (period=1y) (Yahoo error = \"No data found, symbol may be delisted\")\n",
      "$PUYI: possibly delisted; no price data found  (period=6mo) (Yahoo error = \"No data found, symbol may be delisted\")\n",
      "$PUYI: possibly delisted; no price data found  (period=1mo) (Yahoo error = \"No data found, symbol may be delisted\")\n"
     ]
    },
    {
     "name": "stdout",
     "output_type": "stream",
     "text": [
      "No data found for PUYI after retries. Skipping.\n"
     ]
    },
    {
     "name": "stderr",
     "output_type": "stream",
     "text": [
      "$PWFL: possibly delisted; no price data found  (period=1y) (Yahoo error = \"No data found, symbol may be delisted\")\n",
      "$PWFL: possibly delisted; no price data found  (period=6mo) (Yahoo error = \"No data found, symbol may be delisted\")\n",
      "$PWFL: possibly delisted; no price data found  (period=1mo) (Yahoo error = \"No data found, symbol may be delisted\")\n"
     ]
    },
    {
     "name": "stdout",
     "output_type": "stream",
     "text": [
      "No data found for PWFL after retries. Skipping.\n"
     ]
    },
    {
     "name": "stderr",
     "output_type": "stream",
     "text": [
      "$PWSC: possibly delisted; no price data found  (period=1y) (Yahoo error = \"No data found, symbol may be delisted\")\n",
      "$PWSC: possibly delisted; no price data found  (period=6mo) (Yahoo error = \"No data found, symbol may be delisted\")\n",
      "$PWSC: possibly delisted; no price data found  (period=1mo) (Yahoo error = \"No data found, symbol may be delisted\")\n"
     ]
    },
    {
     "name": "stdout",
     "output_type": "stream",
     "text": [
      "No data found for PWSC after retries. Skipping.\n"
     ]
    },
    {
     "name": "stderr",
     "output_type": "stream",
     "text": [
      "$PXD: possibly delisted; no price data found  (period=1y) (Yahoo error = \"No data found, symbol may be delisted\")\n",
      "$PXD: possibly delisted; no price data found  (period=6mo) (Yahoo error = \"No data found, symbol may be delisted\")\n",
      "$PXD: possibly delisted; no price data found  (period=1mo) (Yahoo error = \"No data found, symbol may be delisted\")\n"
     ]
    },
    {
     "name": "stdout",
     "output_type": "stream",
     "text": [
      "No data found for PXD after retries. Skipping.\n"
     ]
    },
    {
     "name": "stderr",
     "output_type": "stream",
     "text": [
      "$PYR: possibly delisted; no price data found  (period=1y)\n",
      "$PYR: possibly delisted; no price data found  (period=6mo)\n",
      "$PYR: possibly delisted; no price data found  (period=1mo)\n"
     ]
    },
    {
     "name": "stdout",
     "output_type": "stream",
     "text": [
      "No data found for PYR after retries. Skipping.\n"
     ]
    },
    {
     "name": "stderr",
     "output_type": "stream",
     "text": [
      "$QDRO: possibly delisted; no price data found  (period=1y) (Yahoo error = \"No data found, symbol may be delisted\")\n",
      "$QDRO: possibly delisted; no price data found  (period=6mo) (Yahoo error = \"No data found, symbol may be delisted\")\n",
      "$QDRO: possibly delisted; no price data found  (period=1mo) (Yahoo error = \"No data found, symbol may be delisted\")\n"
     ]
    },
    {
     "name": "stdout",
     "output_type": "stream",
     "text": [
      "No data found for QDRO after retries. Skipping.\n"
     ]
    },
    {
     "name": "stderr",
     "output_type": "stream",
     "text": [
      "$QFTA: possibly delisted; no price data found  (period=1y) (Yahoo error = \"No data found, symbol may be delisted\")\n",
      "$QFTA: possibly delisted; no price data found  (period=6mo) (Yahoo error = \"No data found, symbol may be delisted\")\n",
      "$QFTA: possibly delisted; no price data found  (period=1mo) (Yahoo error = \"No data found, symbol may be delisted\")\n"
     ]
    },
    {
     "name": "stdout",
     "output_type": "stream",
     "text": [
      "No data found for QFTA after retries. Skipping.\n"
     ]
    },
    {
     "name": "stderr",
     "output_type": "stream",
     "text": [
      "$QLI: possibly delisted; no price data found  (period=1y) (Yahoo error = \"No data found, symbol may be delisted\")\n",
      "$QLI: possibly delisted; no price data found  (period=6mo) (Yahoo error = \"No data found, symbol may be delisted\")\n",
      "$QLI: possibly delisted; no price data found  (period=1mo) (Yahoo error = \"No data found, symbol may be delisted\")\n"
     ]
    },
    {
     "name": "stdout",
     "output_type": "stream",
     "text": [
      "No data found for QLI after retries. Skipping.\n"
     ]
    },
    {
     "name": "stderr",
     "output_type": "stream",
     "text": [
      "$RAD: possibly delisted; no price data found  (period=1y) (Yahoo error = \"No data found, symbol may be delisted\")\n",
      "$RAD: possibly delisted; no price data found  (period=6mo) (Yahoo error = \"No data found, symbol may be delisted\")\n",
      "$RAD: possibly delisted; no price data found  (period=1mo) (Yahoo error = \"No data found, symbol may be delisted\")\n"
     ]
    },
    {
     "name": "stdout",
     "output_type": "stream",
     "text": [
      "No data found for RAD after retries. Skipping.\n"
     ]
    },
    {
     "name": "stderr",
     "output_type": "stream",
     "text": [
      "RAIN: Period '1y' is invalid, must be one of ['1d', '5d', '1mo', 'ytd', 'max']\n",
      "RAIN: Period '6mo' is invalid, must be one of ['1d', '5d', '1mo', 'ytd', 'max']\n",
      "$RBT: possibly delisted; no price data found  (period=1y) (Yahoo error = \"No data found, symbol may be delisted\")\n",
      "$RBT: possibly delisted; no price data found  (period=6mo) (Yahoo error = \"No data found, symbol may be delisted\")\n",
      "$RBT: possibly delisted; no price data found  (period=1mo) (Yahoo error = \"No data found, symbol may be delisted\")\n"
     ]
    },
    {
     "name": "stdout",
     "output_type": "stream",
     "text": [
      "No data found for RBT after retries. Skipping.\n"
     ]
    },
    {
     "name": "stderr",
     "output_type": "stream",
     "text": [
      "$RCAC: possibly delisted; no price data found  (period=1y)\n",
      "$RCAC: possibly delisted; no price data found  (period=6mo)\n",
      "$RCAC: possibly delisted; no price data found  (period=1mo)\n"
     ]
    },
    {
     "name": "stdout",
     "output_type": "stream",
     "text": [
      "No data found for RCAC after retries. Skipping.\n"
     ]
    },
    {
     "name": "stderr",
     "output_type": "stream",
     "text": [
      "$RCLF: possibly delisted; no price data found  (period=1y) (Yahoo error = \"No data found, symbol may be delisted\")\n",
      "$RCLF: possibly delisted; no price data found  (period=6mo) (Yahoo error = \"No data found, symbol may be delisted\")\n",
      "$RCLF: possibly delisted; no price data found  (period=1mo) (Yahoo error = \"No data found, symbol may be delisted\")\n"
     ]
    },
    {
     "name": "stdout",
     "output_type": "stream",
     "text": [
      "No data found for RCLF after retries. Skipping.\n"
     ]
    },
    {
     "name": "stderr",
     "output_type": "stream",
     "text": [
      "$RCRT: possibly delisted; no price data found  (period=1y) (Yahoo error = \"No data found, symbol may be delisted\")\n",
      "$RCRT: possibly delisted; no price data found  (period=6mo) (Yahoo error = \"No data found, symbol may be delisted\")\n",
      "$RCRT: possibly delisted; no price data found  (period=1mo) (Yahoo error = \"No data found, symbol may be delisted\")\n"
     ]
    },
    {
     "name": "stdout",
     "output_type": "stream",
     "text": [
      "No data found for RCRT after retries. Skipping.\n",
      "Skipping RFM due to NaN values.\n",
      "Skipping RFMZ due to NaN values.\n"
     ]
    },
    {
     "name": "stderr",
     "output_type": "stream",
     "text": [
      "$RMGC: possibly delisted; no price data found  (period=1y) (Yahoo error = \"No data found, symbol may be delisted\")\n",
      "$RMGC: possibly delisted; no price data found  (period=6mo) (Yahoo error = \"No data found, symbol may be delisted\")\n",
      "$RMGC: possibly delisted; no price data found  (period=1mo) (Yahoo error = \"No data found, symbol may be delisted\")\n"
     ]
    },
    {
     "name": "stdout",
     "output_type": "stream",
     "text": [
      "No data found for RMGC after retries. Skipping.\n",
      "Skipping RMI due to NaN values.\n",
      "Skipping RMMZ due to NaN values.\n"
     ]
    },
    {
     "name": "stderr",
     "output_type": "stream",
     "text": [
      "$RNLX: possibly delisted; no price data found  (period=1y) (Yahoo error = \"No data found, symbol may be delisted\")\n",
      "$RNLX: possibly delisted; no price data found  (period=6mo) (Yahoo error = \"No data found, symbol may be delisted\")\n",
      "$RNLX: possibly delisted; no price data found  (period=1mo) (Yahoo error = \"No data found, symbol may be delisted\")\n"
     ]
    },
    {
     "name": "stdout",
     "output_type": "stream",
     "text": [
      "No data found for RNLX after retries. Skipping.\n"
     ]
    },
    {
     "name": "stderr",
     "output_type": "stream",
     "text": [
      "$ROSE: possibly delisted; no price data found  (period=1y) (Yahoo error = \"No data found, symbol may be delisted\")\n",
      "$ROSE: possibly delisted; no price data found  (period=6mo) (Yahoo error = \"No data found, symbol may be delisted\")\n",
      "$ROSE: possibly delisted; no price data found  (period=1mo) (Yahoo error = \"No data found, symbol may be delisted\")\n"
     ]
    },
    {
     "name": "stdout",
     "output_type": "stream",
     "text": [
      "No data found for ROSE after retries. Skipping.\n"
     ]
    },
    {
     "name": "stderr",
     "output_type": "stream",
     "text": [
      "$ROSS: possibly delisted; no price data found  (period=1y) (Yahoo error = \"No data found, symbol may be delisted\")\n",
      "$ROSS: possibly delisted; no price data found  (period=6mo) (Yahoo error = \"No data found, symbol may be delisted\")\n",
      "$ROSS: possibly delisted; no price data found  (period=1mo) (Yahoo error = \"No data found, symbol may be delisted\")\n"
     ]
    },
    {
     "name": "stdout",
     "output_type": "stream",
     "text": [
      "No data found for ROSS after retries. Skipping.\n"
     ]
    },
    {
     "name": "stderr",
     "output_type": "stream",
     "text": [
      "$ROVR: possibly delisted; no price data found  (period=1y) (Yahoo error = \"No data found, symbol may be delisted\")\n",
      "$ROVR: possibly delisted; no price data found  (period=6mo) (Yahoo error = \"No data found, symbol may be delisted\")\n",
      "$ROVR: possibly delisted; no price data found  (period=1mo) (Yahoo error = \"No data found, symbol may be delisted\")\n"
     ]
    },
    {
     "name": "stdout",
     "output_type": "stream",
     "text": [
      "No data found for ROVR after retries. Skipping.\n"
     ]
    },
    {
     "name": "stderr",
     "output_type": "stream",
     "text": [
      "$RPHM: possibly delisted; no price data found  (period=1y) (Yahoo error = \"No data found, symbol may be delisted\")\n",
      "$RPHM: possibly delisted; no price data found  (period=6mo) (Yahoo error = \"No data found, symbol may be delisted\")\n",
      "$RPHM: possibly delisted; no price data found  (period=1mo) (Yahoo error = \"No data found, symbol may be delisted\")\n"
     ]
    },
    {
     "name": "stdout",
     "output_type": "stream",
     "text": [
      "No data found for RPHM after retries. Skipping.\n"
     ]
    },
    {
     "name": "stderr",
     "output_type": "stream",
     "text": [
      "$RRAC: possibly delisted; no price data found  (period=1y) (Yahoo error = \"No data found, symbol may be delisted\")\n",
      "$RRAC: possibly delisted; no price data found  (period=6mo) (Yahoo error = \"No data found, symbol may be delisted\")\n",
      "$RRAC: possibly delisted; no price data found  (period=1mo) (Yahoo error = \"No data found, symbol may be delisted\")\n"
     ]
    },
    {
     "name": "stdout",
     "output_type": "stream",
     "text": [
      "No data found for RRAC after retries. Skipping.\n",
      "Skipping RSF due to NaN values.\n",
      "Skipping RSG due to NaN values.\n"
     ]
    },
    {
     "name": "stderr",
     "output_type": "stream",
     "text": [
      "$RVLP: possibly delisted; no price data found  (period=1y) (Yahoo error = \"No data found, symbol may be delisted\")\n",
      "$RVLP: possibly delisted; no price data found  (period=6mo) (Yahoo error = \"No data found, symbol may be delisted\")\n",
      "$RVLP: possibly delisted; no price data found  (period=1mo) (Yahoo error = \"No data found, symbol may be delisted\")\n"
     ]
    },
    {
     "name": "stdout",
     "output_type": "stream",
     "text": [
      "No data found for RVLP after retries. Skipping.\n",
      "Skipping RVYL due to NaN values.\n"
     ]
    },
    {
     "name": "stderr",
     "output_type": "stream",
     "text": [
      "$RWLK: possibly delisted; no price data found  (period=1y) (Yahoo error = \"No data found, symbol may be delisted\")\n",
      "$RWLK: possibly delisted; no price data found  (period=6mo) (Yahoo error = \"No data found, symbol may be delisted\")\n",
      "$RWLK: possibly delisted; no price data found  (period=1mo) (Yahoo error = \"No data found, symbol may be delisted\")\n"
     ]
    },
    {
     "name": "stdout",
     "output_type": "stream",
     "text": [
      "No data found for RWLK after retries. Skipping.\n"
     ]
    },
    {
     "name": "stderr",
     "output_type": "stream",
     "text": [
      "$RWOD: possibly delisted; no price data found  (period=1y) (Yahoo error = \"No data found, symbol may be delisted\")\n",
      "$RWOD: possibly delisted; no price data found  (period=6mo) (Yahoo error = \"No data found, symbol may be delisted\")\n",
      "$RWOD: possibly delisted; no price data found  (period=1mo) (Yahoo error = \"No data found, symbol may be delisted\")\n"
     ]
    },
    {
     "name": "stdout",
     "output_type": "stream",
     "text": [
      "No data found for RWOD after retries. Skipping.\n"
     ]
    },
    {
     "name": "stderr",
     "output_type": "stream",
     "text": [
      "$RYZB: possibly delisted; no price data found  (period=1y) (Yahoo error = \"No data found, symbol may be delisted\")\n",
      "$RYZB: possibly delisted; no price data found  (period=6mo) (Yahoo error = \"No data found, symbol may be delisted\")\n",
      "$RYZB: possibly delisted; no price data found  (period=1mo) (Yahoo error = \"No data found, symbol may be delisted\")\n"
     ]
    },
    {
     "name": "stdout",
     "output_type": "stream",
     "text": [
      "No data found for RYZB after retries. Skipping.\n"
     ]
    },
    {
     "name": "stderr",
     "output_type": "stream",
     "text": [
      "$SAGA: possibly delisted; no price data found  (period=1y) (Yahoo error = \"No data found, symbol may be delisted\")\n",
      "$SAGA: possibly delisted; no price data found  (period=6mo) (Yahoo error = \"No data found, symbol may be delisted\")\n",
      "$SAGA: possibly delisted; no price data found  (period=1mo) (Yahoo error = \"No data found, symbol may be delisted\")\n"
     ]
    },
    {
     "name": "stdout",
     "output_type": "stream",
     "text": [
      "No data found for SAGA after retries. Skipping.\n"
     ]
    },
    {
     "name": "stderr",
     "output_type": "stream",
     "text": [
      "$SAI: possibly delisted; no price data found  (period=1y) (Yahoo error = \"No data found, symbol may be delisted\")\n",
      "$SAI: possibly delisted; no price data found  (period=6mo) (Yahoo error = \"No data found, symbol may be delisted\")\n",
      "$SAI: possibly delisted; no price data found  (period=1mo) (Yahoo error = \"No data found, symbol may be delisted\")\n"
     ]
    },
    {
     "name": "stdout",
     "output_type": "stream",
     "text": [
      "No data found for SAI after retries. Skipping.\n"
     ]
    },
    {
     "name": "stderr",
     "output_type": "stream",
     "text": [
      "$SAMA: possibly delisted; no price data found  (period=1y) (Yahoo error = \"No data found, symbol may be delisted\")\n",
      "$SAMA: possibly delisted; no price data found  (period=6mo) (Yahoo error = \"No data found, symbol may be delisted\")\n",
      "$SAMA: possibly delisted; no price data found  (period=1mo) (Yahoo error = \"No data found, symbol may be delisted\")\n"
     ]
    },
    {
     "name": "stdout",
     "output_type": "stream",
     "text": [
      "No data found for SAMA after retries. Skipping.\n"
     ]
    },
    {
     "name": "stderr",
     "output_type": "stream",
     "text": [
      "$SAMAU: possibly delisted; no price data found  (period=1y) (Yahoo error = \"No data found, symbol may be delisted\")\n",
      "$SAMAU: possibly delisted; no price data found  (period=6mo) (Yahoo error = \"No data found, symbol may be delisted\")\n",
      "$SAMAU: possibly delisted; no price data found  (period=1mo) (Yahoo error = \"No data found, symbol may be delisted\")\n"
     ]
    },
    {
     "name": "stdout",
     "output_type": "stream",
     "text": [
      "No data found for SAMAU after retries. Skipping.\n"
     ]
    },
    {
     "name": "stderr",
     "output_type": "stream",
     "text": [
      "$SASI: possibly delisted; no price data found  (period=1y) (Yahoo error = \"No data found, symbol may be delisted\")\n",
      "$SASI: possibly delisted; no price data found  (period=6mo) (Yahoo error = \"No data found, symbol may be delisted\")\n",
      "$SASI: possibly delisted; no price data found  (period=1mo) (Yahoo error = \"No data found, symbol may be delisted\")\n"
     ]
    },
    {
     "name": "stdout",
     "output_type": "stream",
     "text": [
      "No data found for SASI after retries. Skipping.\n"
     ]
    },
    {
     "name": "stderr",
     "output_type": "stream",
     "text": [
      "$SBOW: possibly delisted; no price data found  (period=1y) (Yahoo error = \"No data found, symbol may be delisted\")\n",
      "$SBOW: possibly delisted; no price data found  (period=6mo) (Yahoo error = \"No data found, symbol may be delisted\")\n",
      "$SBOW: possibly delisted; no price data found  (period=1mo) (Yahoo error = \"No data found, symbol may be delisted\")\n"
     ]
    },
    {
     "name": "stdout",
     "output_type": "stream",
     "text": [
      "No data found for SBOW after retries. Skipping.\n"
     ]
    },
    {
     "name": "stderr",
     "output_type": "stream",
     "text": [
      "$SBXC: possibly delisted; no price data found  (period=1y) (Yahoo error = \"No data found, symbol may be delisted\")\n",
      "$SBXC: possibly delisted; no price data found  (period=6mo) (Yahoo error = \"No data found, symbol may be delisted\")\n",
      "$SBXC: possibly delisted; no price data found  (period=1mo) (Yahoo error = \"No data found, symbol may be delisted\")\n"
     ]
    },
    {
     "name": "stdout",
     "output_type": "stream",
     "text": [
      "No data found for SBXC after retries. Skipping.\n"
     ]
    },
    {
     "name": "stderr",
     "output_type": "stream",
     "text": [
      "$SCAQ: possibly delisted; no price data found  (period=1y) (Yahoo error = \"No data found, symbol may be delisted\")\n",
      "$SCAQ: possibly delisted; no price data found  (period=6mo) (Yahoo error = \"No data found, symbol may be delisted\")\n",
      "$SCAQ: possibly delisted; no price data found  (period=1mo) (Yahoo error = \"No data found, symbol may be delisted\")\n"
     ]
    },
    {
     "name": "stdout",
     "output_type": "stream",
     "text": [
      "No data found for SCAQ after retries. Skipping.\n"
     ]
    },
    {
     "name": "stderr",
     "output_type": "stream",
     "text": [
      "$SCPL: possibly delisted; no price data found  (period=1y) (Yahoo error = \"No data found, symbol may be delisted\")\n",
      "$SCPL: possibly delisted; no price data found  (period=6mo) (Yahoo error = \"No data found, symbol may be delisted\")\n",
      "$SCPL: possibly delisted; no price data found  (period=1mo) (Yahoo error = \"No data found, symbol may be delisted\")\n"
     ]
    },
    {
     "name": "stdout",
     "output_type": "stream",
     "text": [
      "No data found for SCPL after retries. Skipping.\n"
     ]
    },
    {
     "name": "stderr",
     "output_type": "stream",
     "text": [
      "$SCRM: possibly delisted; no price data found  (period=1y) (Yahoo error = \"No data found, symbol may be delisted\")\n",
      "$SCRM: possibly delisted; no price data found  (period=6mo) (Yahoo error = \"No data found, symbol may be delisted\")\n",
      "$SCRM: possibly delisted; no price data found  (period=1mo) (Yahoo error = \"No data found, symbol may be delisted\")\n"
     ]
    },
    {
     "name": "stdout",
     "output_type": "stream",
     "text": [
      "No data found for SCRM after retries. Skipping.\n"
     ]
    },
    {
     "name": "stderr",
     "output_type": "stream",
     "text": [
      "$SCTL: possibly delisted; no price data found  (period=1y) (Yahoo error = \"No data found, symbol may be delisted\")\n",
      "$SCTL: possibly delisted; no price data found  (period=6mo) (Yahoo error = \"No data found, symbol may be delisted\")\n",
      "$SCTL: possibly delisted; no price data found  (period=1mo) (Yahoo error = \"No data found, symbol may be delisted\")\n"
     ]
    },
    {
     "name": "stdout",
     "output_type": "stream",
     "text": [
      "No data found for SCTL after retries. Skipping.\n"
     ]
    },
    {
     "name": "stderr",
     "output_type": "stream",
     "text": [
      "$SCU: possibly delisted; no price data found  (period=1y) (Yahoo error = \"No data found, symbol may be delisted\")\n",
      "$SCU: possibly delisted; no price data found  (period=6mo) (Yahoo error = \"No data found, symbol may be delisted\")\n",
      "$SCU: possibly delisted; no price data found  (period=1mo) (Yahoo error = \"No data found, symbol may be delisted\")\n"
     ]
    },
    {
     "name": "stdout",
     "output_type": "stream",
     "text": [
      "No data found for SCU after retries. Skipping.\n"
     ]
    },
    {
     "name": "stderr",
     "output_type": "stream",
     "text": [
      "$SCX: possibly delisted; no price data found  (period=1y) (Yahoo error = \"No data found, symbol may be delisted\")\n",
      "$SCX: possibly delisted; no price data found  (period=6mo) (Yahoo error = \"No data found, symbol may be delisted\")\n",
      "$SCX: possibly delisted; no price data found  (period=1mo) (Yahoo error = \"No data found, symbol may be delisted\")\n"
     ]
    },
    {
     "name": "stdout",
     "output_type": "stream",
     "text": [
      "No data found for SCX after retries. Skipping.\n"
     ]
    },
    {
     "name": "stderr",
     "output_type": "stream",
     "text": [
      "$SDAC: possibly delisted; no price data found  (period=1y) (Yahoo error = \"No data found, symbol may be delisted\")\n",
      "$SDAC: possibly delisted; no price data found  (period=6mo) (Yahoo error = \"No data found, symbol may be delisted\")\n",
      "$SDAC: possibly delisted; no price data found  (period=1mo) (Yahoo error = \"No data found, symbol may be delisted\")\n"
     ]
    },
    {
     "name": "stdout",
     "output_type": "stream",
     "text": [
      "No data found for SDAC after retries. Skipping.\n"
     ]
    },
    {
     "name": "stderr",
     "output_type": "stream",
     "text": [
      "$SDC: possibly delisted; no price data found  (period=1y) (Yahoo error = \"No data found, symbol may be delisted\")\n",
      "$SDC: possibly delisted; no price data found  (period=6mo) (Yahoo error = \"No data found, symbol may be delisted\")\n",
      "$SDC: possibly delisted; no price data found  (period=1mo) (Yahoo error = \"No data found, symbol may be delisted\")\n"
     ]
    },
    {
     "name": "stdout",
     "output_type": "stream",
     "text": [
      "No data found for SDC after retries. Skipping.\n",
      "Skipping SDHY due to NaN values.\n"
     ]
    },
    {
     "name": "stderr",
     "output_type": "stream",
     "text": [
      "$SDPI: possibly delisted; no price data found  (period=1y) (Yahoo error = \"No data found, symbol may be delisted\")\n",
      "$SDPI: possibly delisted; no price data found  (period=6mo) (Yahoo error = \"No data found, symbol may be delisted\")\n",
      "$SDPI: possibly delisted; no price data found  (period=1mo) (Yahoo error = \"No data found, symbol may be delisted\")\n"
     ]
    },
    {
     "name": "stdout",
     "output_type": "stream",
     "text": [
      "No data found for SDPI after retries. Skipping.\n"
     ]
    },
    {
     "name": "stderr",
     "output_type": "stream",
     "text": [
      "$SEAS: possibly delisted; no price data found  (period=1y) (Yahoo error = \"No data found, symbol may be delisted\")\n",
      "$SEAS: possibly delisted; no price data found  (period=6mo) (Yahoo error = \"No data found, symbol may be delisted\")\n",
      "$SEAS: possibly delisted; no price data found  (period=1mo) (Yahoo error = \"No data found, symbol may be delisted\")\n"
     ]
    },
    {
     "name": "stdout",
     "output_type": "stream",
     "text": [
      "No data found for SEAS after retries. Skipping.\n"
     ]
    },
    {
     "name": "stderr",
     "output_type": "stream",
     "text": [
      "$SEDA: possibly delisted; no price data found  (period=1y) (Yahoo error = \"No data found, symbol may be delisted\")\n",
      "$SEDA: possibly delisted; no price data found  (period=6mo) (Yahoo error = \"No data found, symbol may be delisted\")\n",
      "$SEDA: possibly delisted; no price data found  (period=1mo) (Yahoo error = \"No data found, symbol may be delisted\")\n"
     ]
    },
    {
     "name": "stdout",
     "output_type": "stream",
     "text": [
      "No data found for SEDA after retries. Skipping.\n"
     ]
    },
    {
     "name": "stderr",
     "output_type": "stream",
     "text": [
      "$SELB: possibly delisted; no price data found  (period=1y) (Yahoo error = \"No data found, symbol may be delisted\")\n",
      "$SELB: possibly delisted; no price data found  (period=6mo) (Yahoo error = \"No data found, symbol may be delisted\")\n",
      "$SELB: possibly delisted; no price data found  (period=1mo) (Yahoo error = \"No data found, symbol may be delisted\")\n"
     ]
    },
    {
     "name": "stdout",
     "output_type": "stream",
     "text": [
      "No data found for SELB after retries. Skipping.\n",
      "Skipping SEMR due to NaN values.\n"
     ]
    },
    {
     "name": "stderr",
     "output_type": "stream",
     "text": [
      "$SEPA: possibly delisted; no price data found  (period=1y) (Yahoo error = \"No data found, symbol may be delisted\")\n",
      "$SEPA: possibly delisted; no price data found  (period=6mo) (Yahoo error = \"No data found, symbol may be delisted\")\n",
      "$SEPA: possibly delisted; no price data found  (period=1mo) (Yahoo error = \"No data found, symbol may be delisted\")\n"
     ]
    },
    {
     "name": "stdout",
     "output_type": "stream",
     "text": [
      "No data found for SEPA after retries. Skipping.\n",
      "Skipping SFBS due to NaN values.\n"
     ]
    },
    {
     "name": "stderr",
     "output_type": "stream",
     "text": [
      "$SFE: possibly delisted; no price data found  (period=1y) (Yahoo error = \"No data found, symbol may be delisted\")\n",
      "$SFE: possibly delisted; no price data found  (period=6mo) (Yahoo error = \"No data found, symbol may be delisted\")\n",
      "$SFE: possibly delisted; no price data found  (period=1mo) (Yahoo error = \"No data found, symbol may be delisted\")\n"
     ]
    },
    {
     "name": "stdout",
     "output_type": "stream",
     "text": [
      "No data found for SFE after retries. Skipping.\n"
     ]
    },
    {
     "name": "stderr",
     "output_type": "stream",
     "text": [
      "$SFR: possibly delisted; no price data found  (period=1y)\n",
      "$SFR: possibly delisted; no price data found  (period=6mo)\n",
      "$SFR: possibly delisted; no price data found  (period=1mo)\n"
     ]
    },
    {
     "name": "stdout",
     "output_type": "stream",
     "text": [
      "No data found for SFR after retries. Skipping.\n"
     ]
    },
    {
     "name": "stderr",
     "output_type": "stream",
     "text": [
      "$SFT: possibly delisted; no price data found  (period=1y)\n",
      "$SFT: possibly delisted; no price data found  (period=6mo)\n",
      "$SFT: possibly delisted; no price data found  (period=1mo)\n"
     ]
    },
    {
     "name": "stdout",
     "output_type": "stream",
     "text": [
      "No data found for SFT after retries. Skipping.\n"
     ]
    },
    {
     "name": "stderr",
     "output_type": "stream",
     "text": [
      "$SGE: possibly delisted; no price data found  (period=1y) (Yahoo error = \"No data found, symbol may be delisted\")\n",
      "$SGE: possibly delisted; no price data found  (period=6mo) (Yahoo error = \"No data found, symbol may be delisted\")\n",
      "$SGE: possibly delisted; no price data found  (period=1mo) (Yahoo error = \"No data found, symbol may be delisted\")\n"
     ]
    },
    {
     "name": "stdout",
     "output_type": "stream",
     "text": [
      "No data found for SGE after retries. Skipping.\n"
     ]
    },
    {
     "name": "stderr",
     "output_type": "stream",
     "text": [
      "$SGEN: possibly delisted; no price data found  (period=1y) (Yahoo error = \"No data found, symbol may be delisted\")\n",
      "$SGEN: possibly delisted; no price data found  (period=6mo) (Yahoo error = \"No data found, symbol may be delisted\")\n",
      "$SGEN: possibly delisted; no price data found  (period=1mo) (Yahoo error = \"No data found, symbol may be delisted\")\n"
     ]
    },
    {
     "name": "stdout",
     "output_type": "stream",
     "text": [
      "No data found for SGEN after retries. Skipping.\n"
     ]
    },
    {
     "name": "stderr",
     "output_type": "stream",
     "text": [
      "$SGH: possibly delisted; no price data found  (period=1y) (Yahoo error = \"No data found, symbol may be delisted\")\n",
      "$SGH: possibly delisted; no price data found  (period=6mo) (Yahoo error = \"No data found, symbol may be delisted\")\n",
      "$SGH: possibly delisted; no price data found  (period=1mo) (Yahoo error = \"No data found, symbol may be delisted\")\n"
     ]
    },
    {
     "name": "stdout",
     "output_type": "stream",
     "text": [
      "No data found for SGH after retries. Skipping.\n"
     ]
    },
    {
     "name": "stderr",
     "output_type": "stream",
     "text": [
      "$SGII: possibly delisted; no price data found  (period=1y)\n",
      "$SGII: possibly delisted; no price data found  (period=6mo)\n",
      "$SGII: possibly delisted; no price data found  (period=1mo)\n"
     ]
    },
    {
     "name": "stdout",
     "output_type": "stream",
     "text": [
      "No data found for SGII after retries. Skipping.\n"
     ]
    },
    {
     "name": "stderr",
     "output_type": "stream",
     "text": [
      "$SGTX: possibly delisted; no price data found  (period=1y) (Yahoo error = \"No data found, symbol may be delisted\")\n",
      "$SGTX: possibly delisted; no price data found  (period=6mo) (Yahoo error = \"No data found, symbol may be delisted\")\n",
      "$SGTX: possibly delisted; no price data found  (period=1mo) (Yahoo error = \"No data found, symbol may be delisted\")\n"
     ]
    },
    {
     "name": "stdout",
     "output_type": "stream",
     "text": [
      "No data found for SGTX after retries. Skipping.\n"
     ]
    },
    {
     "name": "stderr",
     "output_type": "stream",
     "text": [
      "$SHAP: possibly delisted; no price data found  (period=1y) (Yahoo error = \"No data found, symbol may be delisted\")\n",
      "$SHAP: possibly delisted; no price data found  (period=6mo) (Yahoo error = \"No data found, symbol may be delisted\")\n",
      "$SHAP: possibly delisted; no price data found  (period=1mo) (Yahoo error = \"No data found, symbol may be delisted\")\n"
     ]
    },
    {
     "name": "stdout",
     "output_type": "stream",
     "text": [
      "No data found for SHAP after retries. Skipping.\n"
     ]
    },
    {
     "name": "stderr",
     "output_type": "stream",
     "text": [
      "$SHCR: possibly delisted; no price data found  (period=1y) (Yahoo error = \"No data found, symbol may be delisted\")\n",
      "$SHCR: possibly delisted; no price data found  (period=6mo) (Yahoo error = \"No data found, symbol may be delisted\")\n",
      "$SHCR: possibly delisted; no price data found  (period=1mo) (Yahoo error = \"No data found, symbol may be delisted\")\n"
     ]
    },
    {
     "name": "stdout",
     "output_type": "stream",
     "text": [
      "No data found for SHCR after retries. Skipping.\n",
      "Skipping SHG due to NaN values.\n"
     ]
    },
    {
     "name": "stderr",
     "output_type": "stream",
     "text": [
      "$SHUA: possibly delisted; no price data found  (period=1y) (Yahoo error = \"No data found, symbol may be delisted\")\n",
      "$SHUA: possibly delisted; no price data found  (period=6mo) (Yahoo error = \"No data found, symbol may be delisted\")\n",
      "$SHUA: possibly delisted; no price data found  (period=1mo) (Yahoo error = \"No data found, symbol may be delisted\")\n"
     ]
    },
    {
     "name": "stdout",
     "output_type": "stream",
     "text": [
      "No data found for SHUA after retries. Skipping.\n"
     ]
    },
    {
     "name": "stderr",
     "output_type": "stream",
     "text": [
      "$SIEN: possibly delisted; no price data found  (period=1y) (Yahoo error = \"No data found, symbol may be delisted\")\n",
      "$SIEN: possibly delisted; no price data found  (period=6mo) (Yahoo error = \"No data found, symbol may be delisted\")\n",
      "$SIEN: possibly delisted; no price data found  (period=1mo) (Yahoo error = \"No data found, symbol may be delisted\")\n"
     ]
    },
    {
     "name": "stdout",
     "output_type": "stream",
     "text": [
      "No data found for SIEN after retries. Skipping.\n",
      "Skipping SIGI due to NaN values.\n"
     ]
    },
    {
     "name": "stderr",
     "output_type": "stream",
     "text": [
      "$SILK: possibly delisted; no price data found  (period=1y) (Yahoo error = \"No data found, symbol may be delisted\")\n",
      "$SILK: possibly delisted; no price data found  (period=6mo) (Yahoo error = \"No data found, symbol may be delisted\")\n",
      "$SILK: possibly delisted; no price data found  (period=1mo) (Yahoo error = \"No data found, symbol may be delisted\")\n"
     ]
    },
    {
     "name": "stdout",
     "output_type": "stream",
     "text": [
      "No data found for SILK after retries. Skipping.\n"
     ]
    },
    {
     "name": "stderr",
     "output_type": "stream",
     "text": [
      "$SIX: possibly delisted; no price data found  (period=1y) (Yahoo error = \"No data found, symbol may be delisted\")\n",
      "$SIX: possibly delisted; no price data found  (period=6mo) (Yahoo error = \"No data found, symbol may be delisted\")\n",
      "$SIX: possibly delisted; no price data found  (period=1mo) (Yahoo error = \"No data found, symbol may be delisted\")\n"
     ]
    },
    {
     "name": "stdout",
     "output_type": "stream",
     "text": [
      "No data found for SIX after retries. Skipping.\n",
      "Skipping SJW due to NaN values.\n",
      "Skipping SKYX due to NaN values.\n"
     ]
    },
    {
     "name": "stderr",
     "output_type": "stream",
     "text": [
      "$SLAC: possibly delisted; no price data found  (period=1y) (Yahoo error = \"No data found, symbol may be delisted\")\n",
      "$SLAC: possibly delisted; no price data found  (period=6mo) (Yahoo error = \"No data found, symbol may be delisted\")\n",
      "$SLAC: possibly delisted; no price data found  (period=1mo) (Yahoo error = \"No data found, symbol may be delisted\")\n"
     ]
    },
    {
     "name": "stdout",
     "output_type": "stream",
     "text": [
      "No data found for SLAC after retries. Skipping.\n"
     ]
    },
    {
     "name": "stderr",
     "output_type": "stream",
     "text": [
      "$SLAM: possibly delisted; no price data found  (period=1y) (Yahoo error = \"No data found, symbol may be delisted\")\n",
      "$SLAM: possibly delisted; no price data found  (period=6mo) (Yahoo error = \"No data found, symbol may be delisted\")\n",
      "$SLAM: possibly delisted; no price data found  (period=1mo) (Yahoo error = \"No data found, symbol may be delisted\")\n"
     ]
    },
    {
     "name": "stdout",
     "output_type": "stream",
     "text": [
      "No data found for SLAM after retries. Skipping.\n"
     ]
    },
    {
     "name": "stderr",
     "output_type": "stream",
     "text": [
      "$SLCA: possibly delisted; no price data found  (period=1y) (Yahoo error = \"No data found, symbol may be delisted\")\n",
      "$SLCA: possibly delisted; no price data found  (period=6mo) (Yahoo error = \"No data found, symbol may be delisted\")\n",
      "$SLCA: possibly delisted; no price data found  (period=1mo) (Yahoo error = \"No data found, symbol may be delisted\")\n"
     ]
    },
    {
     "name": "stdout",
     "output_type": "stream",
     "text": [
      "No data found for SLCA after retries. Skipping.\n"
     ]
    },
    {
     "name": "stderr",
     "output_type": "stream",
     "text": [
      "$SLGC: possibly delisted; no price data found  (period=1y) (Yahoo error = \"No data found, symbol may be delisted\")\n",
      "$SLGC: possibly delisted; no price data found  (period=6mo) (Yahoo error = \"No data found, symbol may be delisted\")\n",
      "$SLGC: possibly delisted; no price data found  (period=1mo) (Yahoo error = \"No data found, symbol may be delisted\")\n"
     ]
    },
    {
     "name": "stdout",
     "output_type": "stream",
     "text": [
      "No data found for SLGC after retries. Skipping.\n",
      "Skipping SLGN due to NaN values.\n"
     ]
    },
    {
     "name": "stderr",
     "output_type": "stream",
     "text": [
      "$SLNA: possibly delisted; no price data found  (period=1y) (Yahoo error = \"No data found, symbol may be delisted\")\n",
      "$SLNA: possibly delisted; no price data found  (period=6mo) (Yahoo error = \"No data found, symbol may be delisted\")\n",
      "$SLNA: possibly delisted; no price data found  (period=1mo) (Yahoo error = \"No data found, symbol may be delisted\")\n"
     ]
    },
    {
     "name": "stdout",
     "output_type": "stream",
     "text": [
      "No data found for SLNA after retries. Skipping.\n",
      "Skipping SLNH due to NaN values.\n",
      "Skipping SLVP due to NaN values.\n"
     ]
    },
    {
     "name": "stderr",
     "output_type": "stream",
     "text": [
      "$SLVR: possibly delisted; no price data found  (period=1y) (Yahoo error = \"No data found, symbol may be delisted\")\n",
      "$SLVR: possibly delisted; no price data found  (period=6mo) (Yahoo error = \"No data found, symbol may be delisted\")\n",
      "$SLVR: possibly delisted; no price data found  (period=1mo) (Yahoo error = \"No data found, symbol may be delisted\")\n"
     ]
    },
    {
     "name": "stdout",
     "output_type": "stream",
     "text": [
      "No data found for SLVR after retries. Skipping.\n"
     ]
    },
    {
     "name": "stderr",
     "output_type": "stream",
     "text": [
      "SMAP: Period '1y' is invalid, must be one of ['1d', '5d', '1mo', '3mo', 'ytd', 'max']\n",
      "SMAP: Period '6mo' is invalid, must be one of ['1d', '5d', '1mo', '3mo', 'ytd', 'max']\n",
      "$SMLP: possibly delisted; no price data found  (period=1y) (Yahoo error = \"No data found, symbol may be delisted\")\n",
      "$SMLP: possibly delisted; no price data found  (period=6mo) (Yahoo error = \"No data found, symbol may be delisted\")\n",
      "$SMLP: possibly delisted; no price data found  (period=1mo) (Yahoo error = \"No data found, symbol may be delisted\")\n"
     ]
    },
    {
     "name": "stdout",
     "output_type": "stream",
     "text": [
      "No data found for SMLP after retries. Skipping.\n"
     ]
    },
    {
     "name": "stderr",
     "output_type": "stream",
     "text": [
      "$SMMF: possibly delisted; no price data found  (period=1y) (Yahoo error = \"No data found, symbol may be delisted\")\n",
      "$SMMF: possibly delisted; no price data found  (period=6mo) (Yahoo error = \"No data found, symbol may be delisted\")\n",
      "$SMMF: possibly delisted; no price data found  (period=1mo) (Yahoo error = \"No data found, symbol may be delisted\")\n"
     ]
    },
    {
     "name": "stdout",
     "output_type": "stream",
     "text": [
      "No data found for SMMF after retries. Skipping.\n",
      "Skipping SMOG due to NaN values.\n",
      "Skipping SNAL due to NaN values.\n"
     ]
    },
    {
     "name": "stderr",
     "output_type": "stream",
     "text": [
      "$SNCE: possibly delisted; no price data found  (period=1y) (Yahoo error = \"No data found, symbol may be delisted\")\n",
      "$SNCE: possibly delisted; no price data found  (period=6mo) (Yahoo error = \"No data found, symbol may be delisted\")\n",
      "$SNCE: possibly delisted; no price data found  (period=1mo) (Yahoo error = \"No data found, symbol may be delisted\")\n"
     ]
    },
    {
     "name": "stdout",
     "output_type": "stream",
     "text": [
      "No data found for SNCE after retries. Skipping.\n"
     ]
    },
    {
     "name": "stderr",
     "output_type": "stream",
     "text": [
      "$SNMP: possibly delisted; no price data found  (period=1y) (Yahoo error = \"No data found, symbol may be delisted\")\n",
      "$SNMP: possibly delisted; no price data found  (period=6mo) (Yahoo error = \"No data found, symbol may be delisted\")\n",
      "$SNMP: possibly delisted; no price data found  (period=1mo) (Yahoo error = \"No data found, symbol may be delisted\")\n"
     ]
    },
    {
     "name": "stdout",
     "output_type": "stream",
     "text": [
      "No data found for SNMP after retries. Skipping.\n"
     ]
    },
    {
     "name": "stderr",
     "output_type": "stream",
     "text": [
      "$SNPO: possibly delisted; no price data found  (period=1y) (Yahoo error = \"No data found, symbol may be delisted\")\n",
      "$SNPO: possibly delisted; no price data found  (period=6mo) (Yahoo error = \"No data found, symbol may be delisted\")\n",
      "$SNPO: possibly delisted; no price data found  (period=1mo) (Yahoo error = \"No data found, symbol may be delisted\")\n"
     ]
    },
    {
     "name": "stdout",
     "output_type": "stream",
     "text": [
      "No data found for SNPO after retries. Skipping.\n"
     ]
    },
    {
     "name": "stderr",
     "output_type": "stream",
     "text": [
      "$SOI: possibly delisted; no price data found  (period=1y) (Yahoo error = \"No data found, symbol may be delisted\")\n",
      "$SOI: possibly delisted; no price data found  (period=6mo) (Yahoo error = \"No data found, symbol may be delisted\")\n",
      "$SOI: possibly delisted; no price data found  (period=1mo) (Yahoo error = \"No data found, symbol may be delisted\")\n"
     ]
    },
    {
     "name": "stdout",
     "output_type": "stream",
     "text": [
      "No data found for SOI after retries. Skipping.\n"
     ]
    },
    {
     "name": "stderr",
     "output_type": "stream",
     "text": [
      "$SOLO: possibly delisted; no price data found  (period=1y) (Yahoo error = \"No data found, symbol may be delisted\")\n",
      "$SOLO: possibly delisted; no price data found  (period=6mo) (Yahoo error = \"No data found, symbol may be delisted\")\n",
      "$SOLO: possibly delisted; no price data found  (period=1mo) (Yahoo error = \"No data found, symbol may be delisted\")\n"
     ]
    },
    {
     "name": "stdout",
     "output_type": "stream",
     "text": [
      "No data found for SOLO after retries. Skipping.\n"
     ]
    },
    {
     "name": "stderr",
     "output_type": "stream",
     "text": [
      "SONX: Period '1y' is invalid, must be one of ['1d', '5d', '1mo', '3mo', 'ytd', 'max']\n",
      "SONX: Period '6mo' is invalid, must be one of ['1d', '5d', '1mo', '3mo', 'ytd', 'max']\n"
     ]
    },
    {
     "name": "stdout",
     "output_type": "stream",
     "text": [
      "Skipping SOPH due to NaN values.\n"
     ]
    },
    {
     "name": "stderr",
     "output_type": "stream",
     "text": [
      "$SOVO: possibly delisted; no price data found  (period=1y) (Yahoo error = \"No data found, symbol may be delisted\")\n",
      "$SOVO: possibly delisted; no price data found  (period=6mo) (Yahoo error = \"No data found, symbol may be delisted\")\n",
      "$SOVO: possibly delisted; no price data found  (period=1mo) (Yahoo error = \"No data found, symbol may be delisted\")\n"
     ]
    },
    {
     "name": "stdout",
     "output_type": "stream",
     "text": [
      "No data found for SOVO after retries. Skipping.\n"
     ]
    },
    {
     "name": "stderr",
     "output_type": "stream",
     "text": [
      "$SP: possibly delisted; no price data found  (period=1y) (Yahoo error = \"No data found, symbol may be delisted\")\n",
      "$SP: possibly delisted; no price data found  (period=6mo) (Yahoo error = \"No data found, symbol may be delisted\")\n",
      "$SP: possibly delisted; no price data found  (period=1mo) (Yahoo error = \"No data found, symbol may be delisted\")\n"
     ]
    },
    {
     "name": "stdout",
     "output_type": "stream",
     "text": [
      "No data found for SP after retries. Skipping.\n",
      "Skipping SPDW due to NaN values.\n",
      "Skipping SPGP due to NaN values.\n"
     ]
    },
    {
     "name": "stderr",
     "output_type": "stream",
     "text": [
      "$SPLK: possibly delisted; no price data found  (period=1y) (Yahoo error = \"No data found, symbol may be delisted\")\n",
      "$SPLK: possibly delisted; no price data found  (period=6mo) (Yahoo error = \"No data found, symbol may be delisted\")\n",
      "$SPLK: possibly delisted; no price data found  (period=1mo) (Yahoo error = \"No data found, symbol may be delisted\")\n"
     ]
    },
    {
     "name": "stdout",
     "output_type": "stream",
     "text": [
      "No data found for SPLK after retries. Skipping.\n"
     ]
    },
    {
     "name": "stderr",
     "output_type": "stream",
     "text": [
      "$SPWR: possibly delisted; no price data found  (period=1y) (Yahoo error = \"No data found, symbol may be delisted\")\n",
      "$SPWR: possibly delisted; no price data found  (period=6mo) (Yahoo error = \"No data found, symbol may be delisted\")\n",
      "$SPWR: possibly delisted; no price data found  (period=1mo) (Yahoo error = \"No data found, symbol may be delisted\")\n"
     ]
    },
    {
     "name": "stdout",
     "output_type": "stream",
     "text": [
      "No data found for SPWR after retries. Skipping.\n"
     ]
    },
    {
     "name": "stderr",
     "output_type": "stream",
     "text": [
      "$SQL: possibly delisted; no price data found  (period=1y) (Yahoo error = \"No data found, symbol may be delisted\")\n",
      "$SQL: possibly delisted; no price data found  (period=6mo) (Yahoo error = \"No data found, symbol may be delisted\")\n",
      "$SQL: possibly delisted; no price data found  (period=1mo) (Yahoo error = \"No data found, symbol may be delisted\")\n"
     ]
    },
    {
     "name": "stdout",
     "output_type": "stream",
     "text": [
      "No data found for SQL after retries. Skipping.\n"
     ]
    },
    {
     "name": "stderr",
     "output_type": "stream",
     "text": [
      "$SQSP: possibly delisted; no price data found  (period=1y) (Yahoo error = \"No data found, symbol may be delisted\")\n",
      "$SQSP: possibly delisted; no price data found  (period=6mo) (Yahoo error = \"No data found, symbol may be delisted\")\n",
      "$SQSP: possibly delisted; no price data found  (period=1mo) (Yahoo error = \"No data found, symbol may be delisted\")\n"
     ]
    },
    {
     "name": "stdout",
     "output_type": "stream",
     "text": [
      "No data found for SQSP after retries. Skipping.\n"
     ]
    },
    {
     "name": "stderr",
     "output_type": "stream",
     "text": [
      "$SRC: possibly delisted; no price data found  (period=1y) (Yahoo error = \"No data found, symbol may be delisted\")\n",
      "$SRC: possibly delisted; no price data found  (period=6mo) (Yahoo error = \"No data found, symbol may be delisted\")\n",
      "$SRC: possibly delisted; no price data found  (period=1mo) (Yahoo error = \"No data found, symbol may be delisted\")\n"
     ]
    },
    {
     "name": "stdout",
     "output_type": "stream",
     "text": [
      "No data found for SRC after retries. Skipping.\n"
     ]
    },
    {
     "name": "stderr",
     "output_type": "stream",
     "text": [
      "$SRT: possibly delisted; no price data found  (period=1y) (Yahoo error = \"No data found, symbol may be delisted\")\n",
      "$SRT: possibly delisted; no price data found  (period=6mo) (Yahoo error = \"No data found, symbol may be delisted\")\n",
      "$SRT: possibly delisted; no price data found  (period=1mo) (Yahoo error = \"No data found, symbol may be delisted\")\n"
     ]
    },
    {
     "name": "stdout",
     "output_type": "stream",
     "text": [
      "No data found for SRT after retries. Skipping.\n"
     ]
    },
    {
     "name": "stderr",
     "output_type": "stream",
     "text": [
      "$SSIC: possibly delisted; no price data found  (period=1y) (Yahoo error = \"No data found, symbol may be delisted\")\n",
      "$SSIC: possibly delisted; no price data found  (period=6mo) (Yahoo error = \"No data found, symbol may be delisted\")\n",
      "$SSIC: possibly delisted; no price data found  (period=1mo) (Yahoo error = \"No data found, symbol may be delisted\")\n"
     ]
    },
    {
     "name": "stdout",
     "output_type": "stream",
     "text": [
      "No data found for SSIC after retries. Skipping.\n"
     ]
    },
    {
     "name": "stderr",
     "output_type": "stream",
     "text": [
      "$SSNT: possibly delisted; no price data found  (period=1y) (Yahoo error = \"No data found, symbol may be delisted\")\n",
      "$SSNT: possibly delisted; no price data found  (period=6mo) (Yahoo error = \"No data found, symbol may be delisted\")\n",
      "$SSNT: possibly delisted; no price data found  (period=1mo) (Yahoo error = \"No data found, symbol may be delisted\")\n"
     ]
    },
    {
     "name": "stdout",
     "output_type": "stream",
     "text": [
      "No data found for SSNT after retries. Skipping.\n"
     ]
    },
    {
     "name": "stderr",
     "output_type": "stream",
     "text": [
      "$SSU: possibly delisted; no price data found  (period=1y) (Yahoo error = \"No data found, symbol may be delisted\")\n",
      "$SSU: possibly delisted; no price data found  (period=6mo) (Yahoo error = \"No data found, symbol may be delisted\")\n",
      "$SSU: possibly delisted; no price data found  (period=1mo) (Yahoo error = \"No data found, symbol may be delisted\")\n"
     ]
    },
    {
     "name": "stdout",
     "output_type": "stream",
     "text": [
      "No data found for SSU after retries. Skipping.\n",
      "Skipping STAG due to NaN values.\n",
      "Skipping STIM due to NaN values.\n"
     ]
    },
    {
     "name": "stderr",
     "output_type": "stream",
     "text": [
      "$STIX: possibly delisted; no price data found  (period=1y) (Yahoo error = \"No data found, symbol may be delisted\")\n",
      "$STIX: possibly delisted; no price data found  (period=6mo) (Yahoo error = \"No data found, symbol may be delisted\")\n",
      "$STIX: possibly delisted; no price data found  (period=1mo) (Yahoo error = \"No data found, symbol may be delisted\")\n"
     ]
    },
    {
     "name": "stdout",
     "output_type": "stream",
     "text": [
      "No data found for STIX after retries. Skipping.\n",
      "Skipping STPZ due to NaN values.\n"
     ]
    },
    {
     "name": "stderr",
     "output_type": "stream",
     "text": [
      "$STRC: possibly delisted; no price data found  (period=1y) (Yahoo error = \"No data found, symbol may be delisted\")\n",
      "$STRC: possibly delisted; no price data found  (period=6mo) (Yahoo error = \"No data found, symbol may be delisted\")\n",
      "$STRC: possibly delisted; no price data found  (period=1mo) (Yahoo error = \"No data found, symbol may be delisted\")\n"
     ]
    },
    {
     "name": "stdout",
     "output_type": "stream",
     "text": [
      "No data found for STRC after retries. Skipping.\n",
      "Skipping SUN due to NaN values.\n"
     ]
    },
    {
     "name": "stderr",
     "output_type": "stream",
     "text": [
      "$SUNW: possibly delisted; no price data found  (period=1y) (Yahoo error = \"No data found, symbol may be delisted\")\n",
      "$SUNW: possibly delisted; no price data found  (period=6mo) (Yahoo error = \"No data found, symbol may be delisted\")\n",
      "$SUNW: possibly delisted; no price data found  (period=1mo) (Yahoo error = \"No data found, symbol may be delisted\")\n"
     ]
    },
    {
     "name": "stdout",
     "output_type": "stream",
     "text": [
      "No data found for SUNW after retries. Skipping.\n"
     ]
    },
    {
     "name": "stderr",
     "output_type": "stream",
     "text": [
      "$SVFD: possibly delisted; no price data found  (period=1y) (Yahoo error = \"No data found, symbol may be delisted\")\n",
      "$SVFD: possibly delisted; no price data found  (period=6mo) (Yahoo error = \"No data found, symbol may be delisted\")\n",
      "$SVFD: possibly delisted; no price data found  (period=1mo) (Yahoo error = \"No data found, symbol may be delisted\")\n"
     ]
    },
    {
     "name": "stdout",
     "output_type": "stream",
     "text": [
      "No data found for SVFD after retries. Skipping.\n"
     ]
    },
    {
     "name": "stderr",
     "output_type": "stream",
     "text": [
      "$SWAV: possibly delisted; no price data found  (period=1y) (Yahoo error = \"No data found, symbol may be delisted\")\n",
      "$SWAV: possibly delisted; no price data found  (period=6mo) (Yahoo error = \"No data found, symbol may be delisted\")\n",
      "$SWAV: possibly delisted; no price data found  (period=1mo) (Yahoo error = \"No data found, symbol may be delisted\")\n"
     ]
    },
    {
     "name": "stdout",
     "output_type": "stream",
     "text": [
      "No data found for SWAV after retries. Skipping.\n"
     ]
    },
    {
     "name": "stderr",
     "output_type": "stream",
     "text": [
      "$SWN: possibly delisted; no price data found  (period=1y) (Yahoo error = \"No data found, symbol may be delisted\")\n",
      "$SWN: possibly delisted; no price data found  (period=6mo) (Yahoo error = \"No data found, symbol may be delisted\")\n",
      "$SWN: possibly delisted; no price data found  (period=1mo) (Yahoo error = \"No data found, symbol may be delisted\")\n"
     ]
    },
    {
     "name": "stdout",
     "output_type": "stream",
     "text": [
      "No data found for SWN after retries. Skipping.\n"
     ]
    },
    {
     "name": "stderr",
     "output_type": "stream",
     "text": [
      "$SYNH: possibly delisted; no price data found  (period=1y) (Yahoo error = \"No data found, symbol may be delisted\")\n",
      "$SYNH: possibly delisted; no price data found  (period=6mo) (Yahoo error = \"No data found, symbol may be delisted\")\n",
      "$SYNH: possibly delisted; no price data found  (period=1mo) (Yahoo error = \"No data found, symbol may be delisted\")\n"
     ]
    },
    {
     "name": "stdout",
     "output_type": "stream",
     "text": [
      "No data found for SYNH after retries. Skipping.\n"
     ]
    },
    {
     "name": "stderr",
     "output_type": "stream",
     "text": [
      "$SZZL: possibly delisted; no price data found  (period=1y) (Yahoo error = \"No data found, symbol may be delisted\")\n",
      "$SZZL: possibly delisted; no price data found  (period=6mo) (Yahoo error = \"No data found, symbol may be delisted\")\n",
      "$SZZL: possibly delisted; no price data found  (period=1mo) (Yahoo error = \"No data found, symbol may be delisted\")\n"
     ]
    },
    {
     "name": "stdout",
     "output_type": "stream",
     "text": [
      "No data found for SZZL after retries. Skipping.\n"
     ]
    },
    {
     "name": "stderr",
     "output_type": "stream",
     "text": [
      "$TALS: possibly delisted; no price data found  (period=1y) (Yahoo error = \"No data found, symbol may be delisted\")\n",
      "$TALS: possibly delisted; no price data found  (period=6mo) (Yahoo error = \"No data found, symbol may be delisted\")\n",
      "$TALS: possibly delisted; no price data found  (period=1mo) (Yahoo error = \"No data found, symbol may be delisted\")\n"
     ]
    },
    {
     "name": "stdout",
     "output_type": "stream",
     "text": [
      "No data found for TALS after retries. Skipping.\n",
      "Skipping TAP due to NaN values.\n"
     ]
    },
    {
     "name": "stderr",
     "output_type": "stream",
     "text": [
      "$TARO: possibly delisted; no price data found  (period=1y) (Yahoo error = \"No data found, symbol may be delisted\")\n",
      "$TARO: possibly delisted; no price data found  (period=6mo) (Yahoo error = \"No data found, symbol may be delisted\")\n",
      "$TARO: possibly delisted; no price data found  (period=1mo) (Yahoo error = \"No data found, symbol may be delisted\")\n"
     ]
    },
    {
     "name": "stdout",
     "output_type": "stream",
     "text": [
      "No data found for TARO after retries. Skipping.\n"
     ]
    },
    {
     "name": "stderr",
     "output_type": "stream",
     "text": [
      "$TAST: possibly delisted; no price data found  (period=1y) (Yahoo error = \"No data found, symbol may be delisted\")\n",
      "$TAST: possibly delisted; no price data found  (period=6mo) (Yahoo error = \"No data found, symbol may be delisted\")\n",
      "$TAST: possibly delisted; no price data found  (period=1mo) (Yahoo error = \"No data found, symbol may be delisted\")\n"
     ]
    },
    {
     "name": "stdout",
     "output_type": "stream",
     "text": [
      "No data found for TAST after retries. Skipping.\n"
     ]
    },
    {
     "name": "stderr",
     "output_type": "stream",
     "text": [
      "$TBCP: possibly delisted; no price data found  (period=1y) (Yahoo error = \"No data found, symbol may be delisted\")\n",
      "$TBCP: possibly delisted; no price data found  (period=6mo) (Yahoo error = \"No data found, symbol may be delisted\")\n",
      "$TBCP: possibly delisted; no price data found  (period=1mo) (Yahoo error = \"No data found, symbol may be delisted\")\n"
     ]
    },
    {
     "name": "stdout",
     "output_type": "stream",
     "text": [
      "No data found for TBCP after retries. Skipping.\n",
      "Skipping TBLA due to NaN values.\n",
      "Skipping TBLD due to NaN values.\n"
     ]
    },
    {
     "name": "stderr",
     "output_type": "stream",
     "text": [
      "TCBC: Period '1y' is invalid, must be one of ['1d', '5d', '1mo', '3mo', '6mo', 'ytd', 'max']\n",
      "$TCJH: possibly delisted; no price data found  (period=1y) (Yahoo error = \"No data found, symbol may be delisted\")\n",
      "$TCJH: possibly delisted; no price data found  (period=6mo) (Yahoo error = \"No data found, symbol may be delisted\")\n",
      "$TCJH: possibly delisted; no price data found  (period=1mo) (Yahoo error = \"No data found, symbol may be delisted\")\n"
     ]
    },
    {
     "name": "stdout",
     "output_type": "stream",
     "text": [
      "No data found for TCJH after retries. Skipping.\n"
     ]
    },
    {
     "name": "stderr",
     "output_type": "stream",
     "text": [
      "$TCN: possibly delisted; no price data found  (period=1y) (Yahoo error = \"No data found, symbol may be delisted\")\n",
      "$TCN: possibly delisted; no price data found  (period=6mo) (Yahoo error = \"No data found, symbol may be delisted\")\n",
      "$TCN: possibly delisted; no price data found  (period=1mo) (Yahoo error = \"No data found, symbol may be delisted\")\n"
     ]
    },
    {
     "name": "stdout",
     "output_type": "stream",
     "text": [
      "No data found for TCN after retries. Skipping.\n"
     ]
    },
    {
     "name": "stderr",
     "output_type": "stream",
     "text": [
      "$TDCX: possibly delisted; no price data found  (period=1y) (Yahoo error = \"No data found, symbol may be delisted\")\n",
      "$TDCX: possibly delisted; no price data found  (period=6mo) (Yahoo error = \"No data found, symbol may be delisted\")\n",
      "$TDCX: possibly delisted; no price data found  (period=1mo) (Yahoo error = \"No data found, symbol may be delisted\")\n"
     ]
    },
    {
     "name": "stdout",
     "output_type": "stream",
     "text": [
      "No data found for TDCX after retries. Skipping.\n"
     ]
    },
    {
     "name": "stderr",
     "output_type": "stream",
     "text": [
      "$TEDU: possibly delisted; no price data found  (period=1y) (Yahoo error = \"No data found, symbol may be delisted\")\n",
      "$TEDU: possibly delisted; no price data found  (period=6mo) (Yahoo error = \"No data found, symbol may be delisted\")\n",
      "$TEDU: possibly delisted; no price data found  (period=1mo) (Yahoo error = \"No data found, symbol may be delisted\")\n"
     ]
    },
    {
     "name": "stdout",
     "output_type": "stream",
     "text": [
      "No data found for TEDU after retries. Skipping.\n"
     ]
    },
    {
     "name": "stderr",
     "output_type": "stream",
     "text": [
      "$TELL: possibly delisted; no price data found  (period=1y) (Yahoo error = \"No data found, symbol may be delisted\")\n",
      "$TELL: possibly delisted; no price data found  (period=6mo) (Yahoo error = \"No data found, symbol may be delisted\")\n",
      "$TELL: possibly delisted; no price data found  (period=1mo) (Yahoo error = \"No data found, symbol may be delisted\")\n"
     ]
    },
    {
     "name": "stdout",
     "output_type": "stream",
     "text": [
      "No data found for TELL after retries. Skipping.\n"
     ]
    },
    {
     "name": "stderr",
     "output_type": "stream",
     "text": [
      "$TENK: possibly delisted; no price data found  (period=1y) (Yahoo error = \"No data found, symbol may be delisted\")\n",
      "$TENK: possibly delisted; no price data found  (period=6mo) (Yahoo error = \"No data found, symbol may be delisted\")\n",
      "$TENK: possibly delisted; no price data found  (period=1mo) (Yahoo error = \"No data found, symbol may be delisted\")\n"
     ]
    },
    {
     "name": "stdout",
     "output_type": "stream",
     "text": [
      "No data found for TENK after retries. Skipping.\n",
      "Skipping TEO due to NaN values.\n"
     ]
    },
    {
     "name": "stderr",
     "output_type": "stream",
     "text": [
      "$TGAN: possibly delisted; no price data found  (period=1y) (Yahoo error = \"No data found, symbol may be delisted\")\n",
      "$TGAN: possibly delisted; no price data found  (period=6mo) (Yahoo error = \"No data found, symbol may be delisted\")\n",
      "$TGAN: possibly delisted; no price data found  (period=1mo) (Yahoo error = \"No data found, symbol may be delisted\")\n"
     ]
    },
    {
     "name": "stdout",
     "output_type": "stream",
     "text": [
      "No data found for TGAN after retries. Skipping.\n"
     ]
    },
    {
     "name": "stderr",
     "output_type": "stream",
     "text": [
      "$TGH: possibly delisted; no price data found  (period=1y) (Yahoo error = \"No data found, symbol may be delisted\")\n",
      "$TGH: possibly delisted; no price data found  (period=6mo) (Yahoo error = \"No data found, symbol may be delisted\")\n",
      "$TGH: possibly delisted; no price data found  (period=1mo) (Yahoo error = \"No data found, symbol may be delisted\")\n"
     ]
    },
    {
     "name": "stdout",
     "output_type": "stream",
     "text": [
      "No data found for TGH after retries. Skipping.\n"
     ]
    },
    {
     "name": "stderr",
     "output_type": "stream",
     "text": [
      "$TGVC: possibly delisted; no price data found  (period=1y) (Yahoo error = \"No data found, symbol may be delisted\")\n",
      "$TGVC: possibly delisted; no price data found  (period=6mo) (Yahoo error = \"No data found, symbol may be delisted\")\n",
      "$TGVC: possibly delisted; no price data found  (period=1mo) (Yahoo error = \"No data found, symbol may be delisted\")\n"
     ]
    },
    {
     "name": "stdout",
     "output_type": "stream",
     "text": [
      "No data found for TGVC after retries. Skipping.\n"
     ]
    },
    {
     "name": "stderr",
     "output_type": "stream",
     "text": [
      "$THRN: possibly delisted; no price data found  (period=1y) (Yahoo error = \"No data found, symbol may be delisted\")\n",
      "$THRN: possibly delisted; no price data found  (period=6mo) (Yahoo error = \"No data found, symbol may be delisted\")\n",
      "$THRN: possibly delisted; no price data found  (period=1mo) (Yahoo error = \"No data found, symbol may be delisted\")\n"
     ]
    },
    {
     "name": "stdout",
     "output_type": "stream",
     "text": [
      "No data found for THRN after retries. Skipping.\n"
     ]
    },
    {
     "name": "stderr",
     "output_type": "stream",
     "text": [
      "$THRX: possibly delisted; no price data found  (period=1y) (Yahoo error = \"No data found, symbol may be delisted\")\n",
      "$THRX: possibly delisted; no price data found  (period=6mo) (Yahoo error = \"No data found, symbol may be delisted\")\n",
      "$THRX: possibly delisted; no price data found  (period=1mo) (Yahoo error = \"No data found, symbol may be delisted\")\n"
     ]
    },
    {
     "name": "stdout",
     "output_type": "stream",
     "text": [
      "No data found for THRX after retries. Skipping.\n"
     ]
    },
    {
     "name": "stderr",
     "output_type": "stream",
     "text": [
      "$TKAT: possibly delisted; no price data found  (period=1y) (Yahoo error = \"No data found, symbol may be delisted\")\n",
      "$TKAT: possibly delisted; no price data found  (period=6mo) (Yahoo error = \"No data found, symbol may be delisted\")\n",
      "$TKAT: possibly delisted; no price data found  (period=1mo) (Yahoo error = \"No data found, symbol may be delisted\")\n"
     ]
    },
    {
     "name": "stdout",
     "output_type": "stream",
     "text": [
      "No data found for TKAT after retries. Skipping.\n"
     ]
    },
    {
     "name": "stderr",
     "output_type": "stream",
     "text": [
      "$TMBR: possibly delisted; no price data found  (period=1y) (Yahoo error = \"No data found, symbol may be delisted\")\n",
      "$TMBR: possibly delisted; no price data found  (period=6mo) (Yahoo error = \"No data found, symbol may be delisted\")\n",
      "$TMBR: possibly delisted; no price data found  (period=1mo) (Yahoo error = \"No data found, symbol may be delisted\")\n"
     ]
    },
    {
     "name": "stdout",
     "output_type": "stream",
     "text": [
      "No data found for TMBR after retries. Skipping.\n",
      "Skipping TMHC due to NaN values.\n"
     ]
    },
    {
     "name": "stderr",
     "output_type": "stream",
     "text": [
      "$TMKR: possibly delisted; no price data found  (period=1y) (Yahoo error = \"No data found, symbol may be delisted\")\n",
      "$TMKR: possibly delisted; no price data found  (period=6mo) (Yahoo error = \"No data found, symbol may be delisted\")\n",
      "$TMKR: possibly delisted; no price data found  (period=1mo) (Yahoo error = \"No data found, symbol may be delisted\")\n"
     ]
    },
    {
     "name": "stdout",
     "output_type": "stream",
     "text": [
      "No data found for TMKR after retries. Skipping.\n"
     ]
    },
    {
     "name": "stderr",
     "output_type": "stream",
     "text": [
      "$TMPO: possibly delisted; no price data found  (period=1y)\n",
      "$TMPO: possibly delisted; no price data found  (period=6mo)\n",
      "$TMPO: possibly delisted; no price data found  (period=1mo)\n"
     ]
    },
    {
     "name": "stdout",
     "output_type": "stream",
     "text": [
      "No data found for TMPO after retries. Skipping.\n"
     ]
    },
    {
     "name": "stderr",
     "output_type": "stream",
     "text": [
      "$TMST: possibly delisted; no price data found  (period=1y) (Yahoo error = \"No data found, symbol may be delisted\")\n",
      "$TMST: possibly delisted; no price data found  (period=6mo) (Yahoo error = \"No data found, symbol may be delisted\")\n",
      "$TMST: possibly delisted; no price data found  (period=1mo) (Yahoo error = \"No data found, symbol may be delisted\")\n"
     ]
    },
    {
     "name": "stdout",
     "output_type": "stream",
     "text": [
      "No data found for TMST after retries. Skipping.\n",
      "Skipping TNET due to NaN values.\n"
     ]
    },
    {
     "name": "stderr",
     "output_type": "stream",
     "text": [
      "$TNP: possibly delisted; no price data found  (period=1y) (Yahoo error = \"No data found, symbol may be delisted\")\n",
      "$TNP: possibly delisted; no price data found  (period=6mo) (Yahoo error = \"No data found, symbol may be delisted\")\n",
      "$TNP: possibly delisted; no price data found  (period=1mo) (Yahoo error = \"No data found, symbol may be delisted\")\n"
     ]
    },
    {
     "name": "stdout",
     "output_type": "stream",
     "text": [
      "No data found for TNP after retries. Skipping.\n",
      "Skipping TOMZ due to NaN values.\n"
     ]
    },
    {
     "name": "stderr",
     "output_type": "stream",
     "text": [
      "$TRCA: possibly delisted; no price data found  (period=1y) (Yahoo error = \"No data found, symbol may be delisted\")\n",
      "$TRCA: possibly delisted; no price data found  (period=6mo) (Yahoo error = \"No data found, symbol may be delisted\")\n",
      "$TRCA: possibly delisted; no price data found  (period=1mo) (Yahoo error = \"No data found, symbol may be delisted\")\n"
     ]
    },
    {
     "name": "stdout",
     "output_type": "stream",
     "text": [
      "No data found for TRCA after retries. Skipping.\n"
     ]
    },
    {
     "name": "stderr",
     "output_type": "stream",
     "text": [
      "$TRHC: possibly delisted; no price data found  (period=1y) (Yahoo error = \"No data found, symbol may be delisted\")\n",
      "$TRHC: possibly delisted; no price data found  (period=6mo) (Yahoo error = \"No data found, symbol may be delisted\")\n",
      "$TRHC: possibly delisted; no price data found  (period=1mo) (Yahoo error = \"No data found, symbol may be delisted\")\n"
     ]
    },
    {
     "name": "stdout",
     "output_type": "stream",
     "text": [
      "No data found for TRHC after retries. Skipping.\n"
     ]
    },
    {
     "name": "stderr",
     "output_type": "stream",
     "text": [
      "$TRIS: possibly delisted; no price data found  (period=1y) (Yahoo error = \"No data found, symbol may be delisted\")\n",
      "$TRIS: possibly delisted; no price data found  (period=6mo) (Yahoo error = \"No data found, symbol may be delisted\")\n",
      "$TRIS: possibly delisted; no price data found  (period=1mo) (Yahoo error = \"No data found, symbol may be delisted\")\n"
     ]
    },
    {
     "name": "stdout",
     "output_type": "stream",
     "text": [
      "No data found for TRIS after retries. Skipping.\n"
     ]
    },
    {
     "name": "stderr",
     "output_type": "stream",
     "text": [
      "$TRKA: possibly delisted; no price data found  (period=1y) (Yahoo error = \"No data found, symbol may be delisted\")\n",
      "$TRKA: possibly delisted; no price data found  (period=6mo) (Yahoo error = \"No data found, symbol may be delisted\")\n",
      "$TRKA: possibly delisted; no price data found  (period=1mo) (Yahoo error = \"No data found, symbol may be delisted\")\n"
     ]
    },
    {
     "name": "stdout",
     "output_type": "stream",
     "text": [
      "No data found for TRKA after retries. Skipping.\n"
     ]
    },
    {
     "name": "stderr",
     "output_type": "stream",
     "text": [
      "$TRMR: possibly delisted; no price data found  (period=1y) (Yahoo error = \"No data found, symbol may be delisted\")\n",
      "$TRMR: possibly delisted; no price data found  (period=6mo) (Yahoo error = \"No data found, symbol may be delisted\")\n",
      "$TRMR: possibly delisted; no price data found  (period=1mo) (Yahoo error = \"No data found, symbol may be delisted\")\n"
     ]
    },
    {
     "name": "stdout",
     "output_type": "stream",
     "text": [
      "No data found for TRMR after retries. Skipping.\n"
     ]
    },
    {
     "name": "stderr",
     "output_type": "stream",
     "text": [
      "$TRON: possibly delisted; no price data found  (period=1y) (Yahoo error = \"No data found, symbol may be delisted\")\n",
      "$TRON: possibly delisted; no price data found  (period=6mo) (Yahoo error = \"No data found, symbol may be delisted\")\n",
      "$TRON: possibly delisted; no price data found  (period=1mo) (Yahoo error = \"No data found, symbol may be delisted\")\n"
     ]
    },
    {
     "name": "stdout",
     "output_type": "stream",
     "text": [
      "No data found for TRON after retries. Skipping.\n"
     ]
    },
    {
     "name": "stderr",
     "output_type": "stream",
     "text": [
      "$TRTL: possibly delisted; no price data found  (period=1y) (Yahoo error = \"No data found, symbol may be delisted\")\n",
      "$TRTL: possibly delisted; no price data found  (period=6mo) (Yahoo error = \"No data found, symbol may be delisted\")\n",
      "$TRTL: possibly delisted; no price data found  (period=1mo)\n"
     ]
    },
    {
     "name": "stdout",
     "output_type": "stream",
     "text": [
      "No data found for TRTL after retries. Skipping.\n"
     ]
    },
    {
     "name": "stderr",
     "output_type": "stream",
     "text": [
      "$TRTN: possibly delisted; no price data found  (period=1y) (Yahoo error = \"No data found, symbol may be delisted\")\n",
      "$TRTN: possibly delisted; no price data found  (period=6mo) (Yahoo error = \"No data found, symbol may be delisted\")\n",
      "$TRTN: possibly delisted; no price data found  (period=1mo) (Yahoo error = \"No data found, symbol may be delisted\")\n"
     ]
    },
    {
     "name": "stdout",
     "output_type": "stream",
     "text": [
      "No data found for TRTN after retries. Skipping.\n"
     ]
    },
    {
     "name": "stderr",
     "output_type": "stream",
     "text": [
      "$TSP: possibly delisted; no price data found  (period=1y) (Yahoo error = \"No data found, symbol may be delisted\")\n",
      "$TSP: possibly delisted; no price data found  (period=6mo) (Yahoo error = \"No data found, symbol may be delisted\")\n",
      "$TSP: possibly delisted; no price data found  (period=1mo) (Yahoo error = \"No data found, symbol may be delisted\")\n"
     ]
    },
    {
     "name": "stdout",
     "output_type": "stream",
     "text": [
      "No data found for TSP after retries. Skipping.\n"
     ]
    },
    {
     "name": "stderr",
     "output_type": "stream",
     "text": [
      "$TSRI: possibly delisted; no price data found  (period=1y) (Yahoo error = \"No data found, symbol may be delisted\")\n",
      "$TSRI: possibly delisted; no price data found  (period=6mo) (Yahoo error = \"No data found, symbol may be delisted\")\n",
      "$TSRI: possibly delisted; no price data found  (period=1mo) (Yahoo error = \"No data found, symbol may be delisted\")\n"
     ]
    },
    {
     "name": "stdout",
     "output_type": "stream",
     "text": [
      "No data found for TSRI after retries. Skipping.\n"
     ]
    },
    {
     "name": "stderr",
     "output_type": "stream",
     "text": [
      "$TUP: possibly delisted; no price data found  (period=1y) (Yahoo error = \"No data found, symbol may be delisted\")\n",
      "$TUP: possibly delisted; no price data found  (period=6mo) (Yahoo error = \"No data found, symbol may be delisted\")\n",
      "$TUP: possibly delisted; no price data found  (period=1mo) (Yahoo error = \"No data found, symbol may be delisted\")\n"
     ]
    },
    {
     "name": "stdout",
     "output_type": "stream",
     "text": [
      "No data found for TUP after retries. Skipping.\n",
      "Skipping TVE due to NaN values.\n"
     ]
    },
    {
     "name": "stderr",
     "output_type": "stream",
     "text": [
      "$TWCB: possibly delisted; no price data found  (period=1y) (Yahoo error = \"No data found, symbol may be delisted\")\n",
      "$TWCB: possibly delisted; no price data found  (period=6mo) (Yahoo error = \"No data found, symbol may be delisted\")\n",
      "$TWCB: possibly delisted; no price data found  (period=1mo) (Yahoo error = \"No data found, symbol may be delisted\")\n"
     ]
    },
    {
     "name": "stdout",
     "output_type": "stream",
     "text": [
      "No data found for TWCB after retries. Skipping.\n",
      "Skipping TWI due to NaN values.\n"
     ]
    },
    {
     "name": "stderr",
     "output_type": "stream",
     "text": [
      "$TWLV: possibly delisted; no price data found  (period=1y) (Yahoo error = \"No data found, symbol may be delisted\")\n",
      "$TWLV: possibly delisted; no price data found  (period=6mo) (Yahoo error = \"No data found, symbol may be delisted\")\n",
      "$TWLV: possibly delisted; no price data found  (period=1mo) (Yahoo error = \"No data found, symbol may be delisted\")\n"
     ]
    },
    {
     "name": "stdout",
     "output_type": "stream",
     "text": [
      "No data found for TWLV after retries. Skipping.\n"
     ]
    },
    {
     "name": "stderr",
     "output_type": "stream",
     "text": [
      "$TWNK: possibly delisted; no price data found  (period=1y) (Yahoo error = \"No data found, symbol may be delisted\")\n",
      "$TWNK: possibly delisted; no price data found  (period=6mo) (Yahoo error = \"No data found, symbol may be delisted\")\n",
      "$TWNK: possibly delisted; no price data found  (period=1mo) (Yahoo error = \"No data found, symbol may be delisted\")\n"
     ]
    },
    {
     "name": "stdout",
     "output_type": "stream",
     "text": [
      "No data found for TWNK after retries. Skipping.\n"
     ]
    },
    {
     "name": "stderr",
     "output_type": "stream",
     "text": [
      "$TWOA: possibly delisted; no price data found  (period=1y) (Yahoo error = \"No data found, symbol may be delisted\")\n",
      "$TWOA: possibly delisted; no price data found  (period=6mo) (Yahoo error = \"No data found, symbol may be delisted\")\n",
      "$TWOA: possibly delisted; no price data found  (period=1mo) (Yahoo error = \"No data found, symbol may be delisted\")\n"
     ]
    },
    {
     "name": "stdout",
     "output_type": "stream",
     "text": [
      "No data found for TWOA after retries. Skipping.\n"
     ]
    },
    {
     "name": "stderr",
     "output_type": "stream",
     "text": [
      "$TWOU: possibly delisted; no price data found  (period=1y) (Yahoo error = \"No data found, symbol may be delisted\")\n",
      "$TWOU: possibly delisted; no price data found  (period=6mo) (Yahoo error = \"No data found, symbol may be delisted\")\n",
      "$TWOU: possibly delisted; no price data found  (period=1mo) (Yahoo error = \"No data found, symbol may be delisted\")\n"
     ]
    },
    {
     "name": "stdout",
     "output_type": "stream",
     "text": [
      "No data found for TWOU after retries. Skipping.\n",
      "Skipping TXMD due to NaN values.\n"
     ]
    },
    {
     "name": "stderr",
     "output_type": "stream",
     "text": [
      "$UBA: possibly delisted; no price data found  (period=1y) (Yahoo error = \"No data found, symbol may be delisted\")\n",
      "$UBA: possibly delisted; no price data found  (period=6mo) (Yahoo error = \"No data found, symbol may be delisted\")\n",
      "$UBA: possibly delisted; no price data found  (period=1mo) (Yahoo error = \"No data found, symbol may be delisted\")\n"
     ]
    },
    {
     "name": "stdout",
     "output_type": "stream",
     "text": [
      "No data found for UBA after retries. Skipping.\n",
      "Skipping UBER due to NaN values.\n"
     ]
    },
    {
     "name": "stderr",
     "output_type": "stream",
     "text": [
      "$UBP: possibly delisted; no price data found  (period=1y) (Yahoo error = \"No data found, symbol may be delisted\")\n",
      "$UBP: possibly delisted; no price data found  (period=6mo) (Yahoo error = \"No data found, symbol may be delisted\")\n",
      "$UBP: possibly delisted; no price data found  (period=1mo) (Yahoo error = \"No data found, symbol may be delisted\")\n"
     ]
    },
    {
     "name": "stdout",
     "output_type": "stream",
     "text": [
      "No data found for UBP after retries. Skipping.\n"
     ]
    },
    {
     "name": "stderr",
     "output_type": "stream",
     "text": [
      "$UCBI: possibly delisted; no price data found  (period=1y) (Yahoo error = \"No data found, symbol may be delisted\")\n",
      "$UCBI: possibly delisted; no price data found  (period=6mo) (Yahoo error = \"No data found, symbol may be delisted\")\n",
      "$UCBI: possibly delisted; no price data found  (period=1mo) (Yahoo error = \"No data found, symbol may be delisted\")\n"
     ]
    },
    {
     "name": "stdout",
     "output_type": "stream",
     "text": [
      "No data found for UCBI after retries. Skipping.\n"
     ]
    },
    {
     "name": "stderr",
     "output_type": "stream",
     "text": [
      "$UFAB: possibly delisted; no price data found  (period=1y) (Yahoo error = \"No data found, symbol may be delisted\")\n",
      "$UFAB: possibly delisted; no price data found  (period=6mo) (Yahoo error = \"No data found, symbol may be delisted\")\n",
      "$UFAB: possibly delisted; no price data found  (period=1mo) (Yahoo error = \"No data found, symbol may be delisted\")\n"
     ]
    },
    {
     "name": "stdout",
     "output_type": "stream",
     "text": [
      "No data found for UFAB after retries. Skipping.\n",
      "Skipping UHAL due to NaN values.\n",
      "Skipping ULCC due to NaN values.\n"
     ]
    },
    {
     "name": "stderr",
     "output_type": "stream",
     "text": [
      "$UPH: possibly delisted; no price data found  (period=1y) (Yahoo error = \"No data found, symbol may be delisted\")\n",
      "$UPH: possibly delisted; no price data found  (period=6mo) (Yahoo error = \"No data found, symbol may be delisted\")\n",
      "$UPH: possibly delisted; no price data found  (period=1mo) (Yahoo error = \"No data found, symbol may be delisted\")\n"
     ]
    },
    {
     "name": "stdout",
     "output_type": "stream",
     "text": [
      "No data found for UPH after retries. Skipping.\n"
     ]
    },
    {
     "name": "stderr",
     "output_type": "stream",
     "text": [
      "$UPTD: possibly delisted; no price data found  (period=1y) (Yahoo error = \"No data found, symbol may be delisted\")\n",
      "$UPTD: possibly delisted; no price data found  (period=6mo) (Yahoo error = \"No data found, symbol may be delisted\")\n",
      "$UPTD: possibly delisted; no price data found  (period=1mo) (Yahoo error = \"No data found, symbol may be delisted\")\n"
     ]
    },
    {
     "name": "stdout",
     "output_type": "stream",
     "text": [
      "No data found for UPTD after retries. Skipping.\n"
     ]
    },
    {
     "name": "stderr",
     "output_type": "stream",
     "text": [
      "$UTAA: possibly delisted; no price data found  (period=1y) (Yahoo error = \"No data found, symbol may be delisted\")\n",
      "$UTAA: possibly delisted; no price data found  (period=6mo) (Yahoo error = \"No data found, symbol may be delisted\")\n",
      "$UTAA: possibly delisted; no price data found  (period=1mo) (Yahoo error = \"No data found, symbol may be delisted\")\n"
     ]
    },
    {
     "name": "stdout",
     "output_type": "stream",
     "text": [
      "No data found for UTAA after retries. Skipping.\n",
      "Skipping V due to NaN values.\n"
     ]
    },
    {
     "name": "stderr",
     "output_type": "stream",
     "text": [
      "$VACC: possibly delisted; no price data found  (period=1y) (Yahoo error = \"No data found, symbol may be delisted\")\n",
      "$VACC: possibly delisted; no price data found  (period=6mo) (Yahoo error = \"No data found, symbol may be delisted\")\n",
      "$VACC: possibly delisted; no price data found  (period=1mo) (Yahoo error = \"No data found, symbol may be delisted\")\n"
     ]
    },
    {
     "name": "stdout",
     "output_type": "stream",
     "text": [
      "No data found for VACC after retries. Skipping.\n",
      "Skipping VALE due to NaN values.\n"
     ]
    },
    {
     "name": "stderr",
     "output_type": "stream",
     "text": [
      "$VAPO: possibly delisted; no price data found  (period=1y) (Yahoo error = \"No data found, symbol may be delisted\")\n",
      "$VAPO: possibly delisted; no price data found  (period=6mo) (Yahoo error = \"No data found, symbol may be delisted\")\n",
      "$VAPO: possibly delisted; no price data found  (period=1mo) (Yahoo error = \"No data found, symbol may be delisted\")\n"
     ]
    },
    {
     "name": "stdout",
     "output_type": "stream",
     "text": [
      "No data found for VAPO after retries. Skipping.\n"
     ]
    },
    {
     "name": "stderr",
     "output_type": "stream",
     "text": [
      "$VAQC: possibly delisted; no price data found  (period=1y) (Yahoo error = \"No data found, symbol may be delisted\")\n",
      "$VAQC: possibly delisted; no price data found  (period=6mo) (Yahoo error = \"No data found, symbol may be delisted\")\n",
      "$VAQC: possibly delisted; no price data found  (period=1mo) (Yahoo error = \"No data found, symbol may be delisted\")\n"
     ]
    },
    {
     "name": "stdout",
     "output_type": "stream",
     "text": [
      "No data found for VAQC after retries. Skipping.\n",
      "Skipping VBF due to NaN values.\n"
     ]
    },
    {
     "name": "stderr",
     "output_type": "stream",
     "text": [
      "$VBIV: possibly delisted; no price data found  (period=1y) (Yahoo error = \"No data found, symbol may be delisted\")\n",
      "$VBIV: possibly delisted; no price data found  (period=6mo) (Yahoo error = \"No data found, symbol may be delisted\")\n",
      "$VBIV: possibly delisted; no price data found  (period=1mo) (Yahoo error = \"No data found, symbol may be delisted\")\n"
     ]
    },
    {
     "name": "stdout",
     "output_type": "stream",
     "text": [
      "No data found for VBIV after retries. Skipping.\n"
     ]
    },
    {
     "name": "stderr",
     "output_type": "stream",
     "text": [
      "$VBLT: possibly delisted; no price data found  (period=1y) (Yahoo error = \"No data found, symbol may be delisted\")\n",
      "$VBLT: possibly delisted; no price data found  (period=6mo) (Yahoo error = \"No data found, symbol may be delisted\")\n",
      "$VBLT: possibly delisted; no price data found  (period=1mo) (Yahoo error = \"No data found, symbol may be delisted\")\n"
     ]
    },
    {
     "name": "stdout",
     "output_type": "stream",
     "text": [
      "No data found for VBLT after retries. Skipping.\n"
     ]
    },
    {
     "name": "stderr",
     "output_type": "stream",
     "text": [
      "$VBOC: possibly delisted; no price data found  (period=1y) (Yahoo error = \"No data found, symbol may be delisted\")\n",
      "$VBOC: possibly delisted; no price data found  (period=6mo) (Yahoo error = \"No data found, symbol may be delisted\")\n",
      "$VBOC: possibly delisted; no price data found  (period=1mo) (Yahoo error = \"No data found, symbol may be delisted\")\n"
     ]
    },
    {
     "name": "stdout",
     "output_type": "stream",
     "text": [
      "No data found for VBOC after retries. Skipping.\n"
     ]
    },
    {
     "name": "stderr",
     "output_type": "stream",
     "text": [
      "$VCXA: possibly delisted; no price data found  (period=1y) (Yahoo error = \"No data found, symbol may be delisted\")\n",
      "$VCXA: possibly delisted; no price data found  (period=6mo) (Yahoo error = \"No data found, symbol may be delisted\")\n",
      "$VCXA: possibly delisted; no price data found  (period=1mo) (Yahoo error = \"No data found, symbol may be delisted\")\n"
     ]
    },
    {
     "name": "stdout",
     "output_type": "stream",
     "text": [
      "No data found for VCXA after retries. Skipping.\n"
     ]
    },
    {
     "name": "stderr",
     "output_type": "stream",
     "text": [
      "$VCXB: possibly delisted; no price data found  (period=1y) (Yahoo error = \"No data found, symbol may be delisted\")\n",
      "$VCXB: possibly delisted; no price data found  (period=6mo) (Yahoo error = \"No data found, symbol may be delisted\")\n",
      "$VCXB: possibly delisted; no price data found  (period=1mo) (Yahoo error = \"No data found, symbol may be delisted\")\n"
     ]
    },
    {
     "name": "stdout",
     "output_type": "stream",
     "text": [
      "No data found for VCXB after retries. Skipping.\n"
     ]
    },
    {
     "name": "stderr",
     "output_type": "stream",
     "text": [
      "$VEDU: possibly delisted; no price data found  (period=1y) (Yahoo error = \"No data found, symbol may be delisted\")\n",
      "$VEDU: possibly delisted; no price data found  (period=6mo) (Yahoo error = \"No data found, symbol may be delisted\")\n",
      "$VEDU: possibly delisted; no price data found  (period=1mo) (Yahoo error = \"No data found, symbol may be delisted\")\n"
     ]
    },
    {
     "name": "stdout",
     "output_type": "stream",
     "text": [
      "No data found for VEDU after retries. Skipping.\n",
      "Skipping VEL due to NaN values.\n"
     ]
    },
    {
     "name": "stderr",
     "output_type": "stream",
     "text": [
      "$VERY: possibly delisted; no price data found  (period=1y) (Yahoo error = \"No data found, symbol may be delisted\")\n",
      "$VERY: possibly delisted; no price data found  (period=6mo) (Yahoo error = \"No data found, symbol may be delisted\")\n",
      "$VERY: possibly delisted; no price data found  (period=1mo) (Yahoo error = \"No data found, symbol may be delisted\")\n"
     ]
    },
    {
     "name": "stdout",
     "output_type": "stream",
     "text": [
      "No data found for VERY after retries. Skipping.\n"
     ]
    },
    {
     "name": "stderr",
     "output_type": "stream",
     "text": [
      "$VEV: possibly delisted; no price data found  (period=1y) (Yahoo error = \"No data found, symbol may be delisted\")\n",
      "$VEV: possibly delisted; no price data found  (period=6mo) (Yahoo error = \"No data found, symbol may be delisted\")\n",
      "$VEV: possibly delisted; no price data found  (period=1mo) (Yahoo error = \"No data found, symbol may be delisted\")\n"
     ]
    },
    {
     "name": "stdout",
     "output_type": "stream",
     "text": [
      "No data found for VEV after retries. Skipping.\n"
     ]
    },
    {
     "name": "stderr",
     "output_type": "stream",
     "text": [
      "$VGR: possibly delisted; no price data found  (period=1y) (Yahoo error = \"No data found, symbol may be delisted\")\n",
      "$VGR: possibly delisted; no price data found  (period=6mo) (Yahoo error = \"No data found, symbol may be delisted\")\n",
      "$VGR: possibly delisted; no price data found  (period=1mo) (Yahoo error = \"No data found, symbol may be delisted\")\n"
     ]
    },
    {
     "name": "stdout",
     "output_type": "stream",
     "text": [
      "No data found for VGR after retries. Skipping.\n"
     ]
    },
    {
     "name": "stderr",
     "output_type": "stream",
     "text": [
      "$VHNA: possibly delisted; no price data found  (period=1y) (Yahoo error = \"No data found, symbol may be delisted\")\n",
      "$VHNA: possibly delisted; no price data found  (period=6mo) (Yahoo error = \"No data found, symbol may be delisted\")\n",
      "$VHNA: possibly delisted; no price data found  (period=1mo) (Yahoo error = \"No data found, symbol may be delisted\")\n"
     ]
    },
    {
     "name": "stdout",
     "output_type": "stream",
     "text": [
      "No data found for VHNA after retries. Skipping.\n"
     ]
    },
    {
     "name": "stderr",
     "output_type": "stream",
     "text": [
      "$VIA: possibly delisted; no price data found  (period=1y) (Yahoo error = \"No data found, symbol may be delisted\")\n",
      "$VIA: possibly delisted; no price data found  (period=6mo) (Yahoo error = \"No data found, symbol may be delisted\")\n",
      "$VIA: possibly delisted; no price data found  (period=1mo) (Yahoo error = \"No data found, symbol may be delisted\")\n"
     ]
    },
    {
     "name": "stdout",
     "output_type": "stream",
     "text": [
      "No data found for VIA after retries. Skipping.\n"
     ]
    },
    {
     "name": "stderr",
     "output_type": "stream",
     "text": [
      "$VIAO: possibly delisted; no price data found  (period=1y) (Yahoo error = \"No data found, symbol may be delisted\")\n",
      "$VIAO: possibly delisted; no price data found  (period=6mo) (Yahoo error = \"No data found, symbol may be delisted\")\n",
      "$VIAO: possibly delisted; no price data found  (period=1mo) (Yahoo error = \"No data found, symbol may be delisted\")\n"
     ]
    },
    {
     "name": "stdout",
     "output_type": "stream",
     "text": [
      "No data found for VIAO after retries. Skipping.\n"
     ]
    },
    {
     "name": "stderr",
     "output_type": "stream",
     "text": [
      "$VII: possibly delisted; no price data found  (period=1y) (Yahoo error = \"No data found, symbol may be delisted\")\n",
      "$VII: possibly delisted; no price data found  (period=6mo) (Yahoo error = \"No data found, symbol may be delisted\")\n",
      "$VII: possibly delisted; no price data found  (period=1mo) (Yahoo error = \"No data found, symbol may be delisted\")\n"
     ]
    },
    {
     "name": "stdout",
     "output_type": "stream",
     "text": [
      "No data found for VII after retries. Skipping.\n"
     ]
    },
    {
     "name": "stderr",
     "output_type": "stream",
     "text": [
      "$VIRI: possibly delisted; no price data found  (period=1y) (Yahoo error = \"No data found, symbol may be delisted\")\n",
      "$VIRI: possibly delisted; no price data found  (period=6mo) (Yahoo error = \"No data found, symbol may be delisted\")\n",
      "$VIRI: possibly delisted; no price data found  (period=1mo) (Yahoo error = \"No data found, symbol may be delisted\")\n"
     ]
    },
    {
     "name": "stdout",
     "output_type": "stream",
     "text": [
      "No data found for VIRI after retries. Skipping.\n"
     ]
    },
    {
     "name": "stderr",
     "output_type": "stream",
     "text": [
      "$VJET: possibly delisted; no price data found  (period=1y) (Yahoo error = \"No data found, symbol may be delisted\")\n",
      "$VJET: possibly delisted; no price data found  (period=6mo) (Yahoo error = \"No data found, symbol may be delisted\")\n",
      "$VJET: possibly delisted; no price data found  (period=1mo) (Yahoo error = \"No data found, symbol may be delisted\")\n"
     ]
    },
    {
     "name": "stdout",
     "output_type": "stream",
     "text": [
      "No data found for VJET after retries. Skipping.\n"
     ]
    },
    {
     "name": "stderr",
     "output_type": "stream",
     "text": [
      "$VLD: possibly delisted; no price data found  (period=1y) (Yahoo error = \"No data found, symbol may be delisted\")\n",
      "$VLD: possibly delisted; no price data found  (period=6mo) (Yahoo error = \"No data found, symbol may be delisted\")\n",
      "$VLD: possibly delisted; no price data found  (period=1mo) (Yahoo error = \"No data found, symbol may be delisted\")\n"
     ]
    },
    {
     "name": "stdout",
     "output_type": "stream",
     "text": [
      "No data found for VLD after retries. Skipping.\n"
     ]
    },
    {
     "name": "stderr",
     "output_type": "stream",
     "text": [
      "$VMW: possibly delisted; no price data found  (period=1y) (Yahoo error = \"No data found, symbol may be delisted\")\n",
      "$VMW: possibly delisted; no price data found  (period=6mo) (Yahoo error = \"No data found, symbol may be delisted\")\n",
      "$VMW: possibly delisted; no price data found  (period=1mo) (Yahoo error = \"No data found, symbol may be delisted\")\n"
     ]
    },
    {
     "name": "stdout",
     "output_type": "stream",
     "text": [
      "No data found for VMW after retries. Skipping.\n",
      "Skipping VNO due to NaN values.\n"
     ]
    },
    {
     "name": "stderr",
     "output_type": "stream",
     "text": [
      "$VQS: possibly delisted; no price data found  (period=1y) (Yahoo error = \"No data found, symbol may be delisted\")\n",
      "$VQS: possibly delisted; no price data found  (period=6mo) (Yahoo error = \"No data found, symbol may be delisted\")\n",
      "$VQS: possibly delisted; no price data found  (period=1mo) (Yahoo error = \"No data found, symbol may be delisted\")\n"
     ]
    },
    {
     "name": "stdout",
     "output_type": "stream",
     "text": [
      "No data found for VQS after retries. Skipping.\n",
      "Skipping VRAR due to NaN values.\n",
      "Skipping VRP due to NaN values.\n"
     ]
    },
    {
     "name": "stderr",
     "output_type": "stream",
     "text": [
      "$VRTV: possibly delisted; no price data found  (period=1y) (Yahoo error = \"No data found, symbol may be delisted\")\n",
      "$VRTV: possibly delisted; no price data found  (period=6mo) (Yahoo error = \"No data found, symbol may be delisted\")\n",
      "$VRTV: possibly delisted; no price data found  (period=1mo) (Yahoo error = \"No data found, symbol may be delisted\")\n"
     ]
    },
    {
     "name": "stdout",
     "output_type": "stream",
     "text": [
      "No data found for VRTV after retries. Skipping.\n"
     ]
    },
    {
     "name": "stderr",
     "output_type": "stream",
     "text": [
      "$VSAC: possibly delisted; no price data found  (period=1y) (Yahoo error = \"No data found, symbol may be delisted\")\n",
      "$VSAC: possibly delisted; no price data found  (period=6mo) (Yahoo error = \"No data found, symbol may be delisted\")\n",
      "$VSAC: possibly delisted; no price data found  (period=1mo) (Yahoo error = \"No data found, symbol may be delisted\")\n"
     ]
    },
    {
     "name": "stdout",
     "output_type": "stream",
     "text": [
      "No data found for VSAC after retries. Skipping.\n"
     ]
    },
    {
     "name": "stderr",
     "output_type": "stream",
     "text": [
      "$VTNR: possibly delisted; no price data found  (period=1y) (Yahoo error = \"No data found, symbol may be delisted\")\n",
      "$VTNR: possibly delisted; no price data found  (period=6mo) (Yahoo error = \"No data found, symbol may be delisted\")\n",
      "$VTNR: possibly delisted; no price data found  (period=1mo) (Yahoo error = \"No data found, symbol may be delisted\")\n"
     ]
    },
    {
     "name": "stdout",
     "output_type": "stream",
     "text": [
      "No data found for VTNR after retries. Skipping.\n"
     ]
    },
    {
     "name": "stderr",
     "output_type": "stream",
     "text": [
      "$VTRU: possibly delisted; no price data found  (period=1y) (Yahoo error = \"No data found, symbol may be delisted\")\n",
      "$VTRU: possibly delisted; no price data found  (period=6mo) (Yahoo error = \"No data found, symbol may be delisted\")\n",
      "$VTRU: possibly delisted; no price data found  (period=1mo) (Yahoo error = \"No data found, symbol may be delisted\")\n"
     ]
    },
    {
     "name": "stdout",
     "output_type": "stream",
     "text": [
      "No data found for VTRU after retries. Skipping.\n"
     ]
    },
    {
     "name": "stderr",
     "output_type": "stream",
     "text": [
      "$VWE: possibly delisted; no price data found  (period=1y) (Yahoo error = \"No data found, symbol may be delisted\")\n",
      "$VWE: possibly delisted; no price data found  (period=6mo) (Yahoo error = \"No data found, symbol may be delisted\")\n",
      "$VWE: possibly delisted; no price data found  (period=1mo) (Yahoo error = \"No data found, symbol may be delisted\")\n"
     ]
    },
    {
     "name": "stdout",
     "output_type": "stream",
     "text": [
      "No data found for VWE after retries. Skipping.\n"
     ]
    },
    {
     "name": "stderr",
     "output_type": "stream",
     "text": [
      "$WAVD: possibly delisted; no price data found  (period=1y) (Yahoo error = \"No data found, symbol may be delisted\")\n",
      "$WAVD: possibly delisted; no price data found  (period=6mo) (Yahoo error = \"No data found, symbol may be delisted\")\n",
      "$WAVD: possibly delisted; no price data found  (period=1mo) (Yahoo error = \"No data found, symbol may be delisted\")\n"
     ]
    },
    {
     "name": "stdout",
     "output_type": "stream",
     "text": [
      "No data found for WAVD after retries. Skipping.\n",
      "Skipping WAVE due to NaN values.\n",
      "Skipping WAVS due to NaN values.\n",
      "Skipping WDI due to NaN values.\n"
     ]
    },
    {
     "name": "stderr",
     "output_type": "stream",
     "text": [
      "$WE: possibly delisted; no price data found  (period=1y) (Yahoo error = \"No data found, symbol may be delisted\")\n",
      "$WE: possibly delisted; no price data found  (period=6mo) (Yahoo error = \"No data found, symbol may be delisted\")\n",
      "$WE: possibly delisted; no price data found  (period=1mo) (Yahoo error = \"No data found, symbol may be delisted\")\n"
     ]
    },
    {
     "name": "stdout",
     "output_type": "stream",
     "text": [
      "No data found for WE after retries. Skipping.\n",
      "Skipping WEAT due to NaN values.\n"
     ]
    },
    {
     "name": "stderr",
     "output_type": "stream",
     "text": [
      "$WETG: possibly delisted; no price data found  (period=1y) (Yahoo error = \"No data found, symbol may be delisted\")\n",
      "$WETG: possibly delisted; no price data found  (period=6mo) (Yahoo error = \"No data found, symbol may be delisted\")\n",
      "$WETG: possibly delisted; no price data found  (period=1mo) (Yahoo error = \"No data found, symbol may be delisted\")\n"
     ]
    },
    {
     "name": "stdout",
     "output_type": "stream",
     "text": [
      "No data found for WETG after retries. Skipping.\n",
      "Skipping WIA due to NaN values.\n"
     ]
    },
    {
     "name": "stderr",
     "output_type": "stream",
     "text": [
      "$WIRE: possibly delisted; no price data found  (period=1y) (Yahoo error = \"No data found, symbol may be delisted\")\n",
      "$WIRE: possibly delisted; no price data found  (period=6mo) (Yahoo error = \"No data found, symbol may be delisted\")\n",
      "$WIRE: possibly delisted; no price data found  (period=1mo) (Yahoo error = \"No data found, symbol may be delisted\")\n"
     ]
    },
    {
     "name": "stdout",
     "output_type": "stream",
     "text": [
      "No data found for WIRE after retries. Skipping.\n"
     ]
    },
    {
     "name": "stderr",
     "output_type": "stream",
     "text": [
      "$WISH: possibly delisted; no price data found  (period=1y) (Yahoo error = \"No data found, symbol may be delisted\")\n",
      "$WISH: possibly delisted; no price data found  (period=6mo) (Yahoo error = \"No data found, symbol may be delisted\")\n",
      "$WISH: possibly delisted; no price data found  (period=1mo) (Yahoo error = \"No data found, symbol may be delisted\")\n"
     ]
    },
    {
     "name": "stdout",
     "output_type": "stream",
     "text": [
      "No data found for WISH after retries. Skipping.\n"
     ]
    },
    {
     "name": "stderr",
     "output_type": "stream",
     "text": [
      "$WKME: possibly delisted; no price data found  (period=1y) (Yahoo error = \"No data found, symbol may be delisted\")\n",
      "$WKME: possibly delisted; no price data found  (period=6mo) (Yahoo error = \"No data found, symbol may be delisted\")\n",
      "$WKME: possibly delisted; no price data found  (period=1mo) (Yahoo error = \"No data found, symbol may be delisted\")\n"
     ]
    },
    {
     "name": "stdout",
     "output_type": "stream",
     "text": [
      "No data found for WKME after retries. Skipping.\n",
      "Skipping WLGS due to NaN values.\n"
     ]
    },
    {
     "name": "stderr",
     "output_type": "stream",
     "text": [
      "$WMC: possibly delisted; no price data found  (period=1y) (Yahoo error = \"No data found, symbol may be delisted\")\n",
      "$WMC: possibly delisted; no price data found  (period=6mo) (Yahoo error = \"No data found, symbol may be delisted\")\n",
      "$WMC: possibly delisted; no price data found  (period=1mo) (Yahoo error = \"No data found, symbol may be delisted\")\n"
     ]
    },
    {
     "name": "stdout",
     "output_type": "stream",
     "text": [
      "No data found for WMC after retries. Skipping.\n"
     ]
    },
    {
     "name": "stderr",
     "output_type": "stream",
     "text": [
      "$WNNR: possibly delisted; no price data found  (period=1y) (Yahoo error = \"No data found, symbol may be delisted\")\n",
      "$WNNR: possibly delisted; no price data found  (period=6mo) (Yahoo error = \"No data found, symbol may be delisted\")\n",
      "$WNNR: possibly delisted; no price data found  (period=1mo) (Yahoo error = \"No data found, symbol may be delisted\")\n"
     ]
    },
    {
     "name": "stdout",
     "output_type": "stream",
     "text": [
      "No data found for WNNR after retries. Skipping.\n"
     ]
    },
    {
     "name": "stderr",
     "output_type": "stream",
     "text": [
      "$WRAC: possibly delisted; no price data found  (period=1y) (Yahoo error = \"No data found, symbol may be delisted\")\n",
      "$WRAC: possibly delisted; no price data found  (period=6mo) (Yahoo error = \"No data found, symbol may be delisted\")\n",
      "$WRAC: possibly delisted; no price data found  (period=1mo) (Yahoo error = \"No data found, symbol may be delisted\")\n"
     ]
    },
    {
     "name": "stdout",
     "output_type": "stream",
     "text": [
      "No data found for WRAC after retries. Skipping.\n"
     ]
    },
    {
     "name": "stderr",
     "output_type": "stream",
     "text": [
      "$WRK: possibly delisted; no price data found  (period=1y) (Yahoo error = \"No data found, symbol may be delisted\")\n",
      "$WRK: possibly delisted; no price data found  (period=6mo) (Yahoo error = \"No data found, symbol may be delisted\")\n",
      "$WRK: possibly delisted; no price data found  (period=1mo) (Yahoo error = \"No data found, symbol may be delisted\")\n"
     ]
    },
    {
     "name": "stdout",
     "output_type": "stream",
     "text": [
      "No data found for WRK after retries. Skipping.\n"
     ]
    },
    {
     "name": "stderr",
     "output_type": "stream",
     "text": [
      "$WRNT: possibly delisted; no price data found  (period=1y) (Yahoo error = \"No data found, symbol may be delisted\")\n",
      "$WRNT: possibly delisted; no price data found  (period=6mo) (Yahoo error = \"No data found, symbol may be delisted\")\n",
      "$WRNT: possibly delisted; no price data found  (period=1mo) (Yahoo error = \"No data found, symbol may be delisted\")\n"
     ]
    },
    {
     "name": "stdout",
     "output_type": "stream",
     "text": [
      "No data found for WRNT after retries. Skipping.\n",
      "Skipping WTMF due to NaN values.\n"
     ]
    },
    {
     "name": "stderr",
     "output_type": "stream",
     "text": [
      "$WTT: possibly delisted; no price data found  (period=1y) (Yahoo error = \"No data found, symbol may be delisted\")\n",
      "$WTT: possibly delisted; no price data found  (period=6mo) (Yahoo error = \"No data found, symbol may be delisted\")\n",
      "$WTT: possibly delisted; no price data found  (period=1mo) (Yahoo error = \"No data found, symbol may be delisted\")\n"
     ]
    },
    {
     "name": "stdout",
     "output_type": "stream",
     "text": [
      "No data found for WTT after retries. Skipping.\n"
     ]
    },
    {
     "name": "stderr",
     "output_type": "stream",
     "text": [
      "$WWAC: possibly delisted; no price data found  (period=1y) (Yahoo error = \"No data found, symbol may be delisted\")\n",
      "$WWAC: possibly delisted; no price data found  (period=6mo) (Yahoo error = \"No data found, symbol may be delisted\")\n",
      "$WWAC: possibly delisted; no price data found  (period=1mo) (Yahoo error = \"No data found, symbol may be delisted\")\n"
     ]
    },
    {
     "name": "stdout",
     "output_type": "stream",
     "text": [
      "No data found for WWAC after retries. Skipping.\n"
     ]
    },
    {
     "name": "stderr",
     "output_type": "stream",
     "text": [
      "$WWE: possibly delisted; no price data found  (period=1y) (Yahoo error = \"No data found, symbol may be delisted\")\n",
      "$WWE: possibly delisted; no price data found  (period=6mo) (Yahoo error = \"No data found, symbol may be delisted\")\n",
      "$WWE: possibly delisted; no price data found  (period=1mo) (Yahoo error = \"No data found, symbol may be delisted\")\n"
     ]
    },
    {
     "name": "stdout",
     "output_type": "stream",
     "text": [
      "No data found for WWE after retries. Skipping.\n",
      "Skipping XCEM due to NaN values.\n"
     ]
    },
    {
     "name": "stderr",
     "output_type": "stream",
     "text": [
      "$XFIN: possibly delisted; no price data found  (period=1y) (Yahoo error = \"No data found, symbol may be delisted\")\n",
      "$XFIN: possibly delisted; no price data found  (period=6mo) (Yahoo error = \"No data found, symbol may be delisted\")\n",
      "$XFIN: possibly delisted; no price data found  (period=1mo) (Yahoo error = \"No data found, symbol may be delisted\")\n"
     ]
    },
    {
     "name": "stdout",
     "output_type": "stream",
     "text": [
      "No data found for XFIN after retries. Skipping.\n",
      "Skipping XFLT due to NaN values.\n"
     ]
    },
    {
     "name": "stderr",
     "output_type": "stream",
     "text": [
      "$XPAX: possibly delisted; no price data found  (period=1y) (Yahoo error = \"No data found, symbol may be delisted\")\n",
      "$XPAX: possibly delisted; no price data found  (period=6mo) (Yahoo error = \"No data found, symbol may be delisted\")\n",
      "$XPAX: possibly delisted; no price data found  (period=1mo) (Yahoo error = \"No data found, symbol may be delisted\")\n"
     ]
    },
    {
     "name": "stdout",
     "output_type": "stream",
     "text": [
      "No data found for XPAX after retries. Skipping.\n"
     ]
    },
    {
     "name": "stderr",
     "output_type": "stream",
     "text": [
      "$XPDB: possibly delisted; no price data found  (period=1y) (Yahoo error = \"No data found, symbol may be delisted\")\n",
      "$XPDB: possibly delisted; no price data found  (period=6mo) (Yahoo error = \"No data found, symbol may be delisted\")\n",
      "$XPDB: possibly delisted; no price data found  (period=1mo) (Yahoo error = \"No data found, symbol may be delisted\")\n"
     ]
    },
    {
     "name": "stdout",
     "output_type": "stream",
     "text": [
      "No data found for XPDB after retries. Skipping.\n",
      "Skipping YELP due to NaN values.\n"
     ]
    },
    {
     "name": "stderr",
     "output_type": "stream",
     "text": [
      "$YGF: possibly delisted; no price data found  (period=1y) (Yahoo error = \"No data found, symbol may be delisted\")\n",
      "$YGF: possibly delisted; no price data found  (period=6mo) (Yahoo error = \"No data found, symbol may be delisted\")\n",
      "$YGF: possibly delisted; no price data found  (period=1mo) (Yahoo error = \"No data found, symbol may be delisted\")\n"
     ]
    },
    {
     "name": "stdout",
     "output_type": "stream",
     "text": [
      "No data found for YGF after retries. Skipping.\n",
      "Skipping YORW due to NaN values.\n"
     ]
    },
    {
     "name": "stderr",
     "output_type": "stream",
     "text": [
      "$YS: possibly delisted; no price data found  (period=1y) (Yahoo error = \"No data found, symbol may be delisted\")\n",
      "$YS: possibly delisted; no price data found  (period=6mo) (Yahoo error = \"No data found, symbol may be delisted\")\n",
      "$YS: possibly delisted; no price data found  (period=1mo) (Yahoo error = \"No data found, symbol may be delisted\")\n"
     ]
    },
    {
     "name": "stdout",
     "output_type": "stream",
     "text": [
      "No data found for YS after retries. Skipping.\n",
      "Skipping YY due to NaN values.\n"
     ]
    },
    {
     "name": "stderr",
     "output_type": "stream",
     "text": [
      "$ZEV: possibly delisted; no price data found  (period=1y) (Yahoo error = \"No data found, symbol may be delisted\")\n",
      "$ZEV: possibly delisted; no price data found  (period=6mo) (Yahoo error = \"No data found, symbol may be delisted\")\n",
      "$ZEV: possibly delisted; no price data found  (period=1mo) (Yahoo error = \"No data found, symbol may be delisted\")\n"
     ]
    },
    {
     "name": "stdout",
     "output_type": "stream",
     "text": [
      "No data found for ZEV after retries. Skipping.\n"
     ]
    },
    {
     "name": "stderr",
     "output_type": "stream",
     "text": [
      "$ZFOX: possibly delisted; no price data found  (period=1y) (Yahoo error = \"No data found, symbol may be delisted\")\n",
      "$ZFOX: possibly delisted; no price data found  (period=6mo) (Yahoo error = \"No data found, symbol may be delisted\")\n",
      "$ZFOX: possibly delisted; no price data found  (period=1mo) (Yahoo error = \"No data found, symbol may be delisted\")\n"
     ]
    },
    {
     "name": "stdout",
     "output_type": "stream",
     "text": [
      "No data found for ZFOX after retries. Skipping.\n"
     ]
    },
    {
     "name": "stderr",
     "output_type": "stream",
     "text": [
      "$ZING: possibly delisted; no price data found  (period=1y) (Yahoo error = \"No data found, symbol may be delisted\")\n",
      "$ZING: possibly delisted; no price data found  (period=6mo) (Yahoo error = \"No data found, symbol may be delisted\")\n",
      "$ZING: possibly delisted; no price data found  (period=1mo) (Yahoo error = \"No data found, symbol may be delisted\")\n"
     ]
    },
    {
     "name": "stdout",
     "output_type": "stream",
     "text": [
      "No data found for ZING after retries. Skipping.\n"
     ]
    },
    {
     "name": "stderr",
     "output_type": "stream",
     "text": [
      "$ZLS: possibly delisted; no price data found  (period=1y) (Yahoo error = \"No data found, symbol may be delisted\")\n",
      "$ZLS: possibly delisted; no price data found  (period=6mo) (Yahoo error = \"No data found, symbol may be delisted\")\n",
      "$ZLS: possibly delisted; no price data found  (period=1mo) (Yahoo error = \"No data found, symbol may be delisted\")\n"
     ]
    },
    {
     "name": "stdout",
     "output_type": "stream",
     "text": [
      "No data found for ZLS after retries. Skipping.\n"
     ]
    },
    {
     "name": "stderr",
     "output_type": "stream",
     "text": [
      "$ZYNE: possibly delisted; no price data found  (period=1y) (Yahoo error = \"No data found, symbol may be delisted\")\n",
      "$ZYNE: possibly delisted; no price data found  (period=6mo) (Yahoo error = \"No data found, symbol may be delisted\")\n",
      "$ZYNE: possibly delisted; no price data found  (period=1mo) (Yahoo error = \"No data found, symbol may be delisted\")\n"
     ]
    },
    {
     "name": "stdout",
     "output_type": "stream",
     "text": [
      "No data found for ZYNE after retries. Skipping.\n",
      "Data collection complete. Final CSV file saved in 'Data/entire_company_stock_prices.csv'\n"
     ]
    }
   ],
   "execution_count": 54
  },
  {
   "metadata": {},
   "cell_type": "markdown",
   "source": "2. Now we can use the tickers (2. column) form the imported dataset to use the yfinance api to fetch stock data on the companies:",
   "id": "260ed9a480a068dd"
  },
  {
   "metadata": {},
   "cell_type": "markdown",
   "source": [
    "### Now we have fetched the data we need to calculate initial scores for our sample data. \n",
    "\n",
    "## Initial Score Calculation\n",
    "We have the three properties of a company that should affect the final score of its initial idea:\n",
    "- Current StockPrice\n",
    "- StockPrice development over the last few years\n",
    "- MarketCap\n",
    "- Volume\n",
    "\n",
    "The **current stock price** is an indecator for the relevance of an idea, allthough its not enough on its own, since an idea might have been revolutionary some decades ago, when the business established itself. Therefore the stockprice development comes in handy, as it indicates if the company has grown in recent times. New and innovative firms are more likely to have experienced an growth in the past years. If we set in relation to the market cap and the companys valume we get a more detailed overview on how relevant and successful the core idea of an company would be nowadays.\n",
    "\n",
    "So i have come up with the following relations:\n",
    "\n",
    "### Initial Function: Creative Relevance Score\n",
    "\n",
    "This function combines **recent growth**, **market stability**, and **market confidence** to create a balanced score for a company's relevance and success:\n",
    "\n",
    "- **Recent Growth**: Emphasizes companies with strong recent stock price growth and trading volume, highlighting momentum in the market.\n",
    "- **Market Presence**: Rewards companies with high stock price and market cap but adjusts for extremely high or low stock prices, which might signal volatility or overvaluation.\n",
    "- **Market Confidence**: A combined measure of stock price and market cap, weighted by recent stock price growth to favor companies with both high value and growth.\n",
    "\n",
    "**Formula**:\n",
    "$$\n",
    "\\text{Score} = 10 \\times \\left( 0.4 \\times \\sqrt{\\max(D_{norm} \\times V_{norm}, 0)} + 0.3 \\times \\frac{M_{norm} \\times S_{norm}}{1 + |S_{norm} - 0.5|} + 0.3 \\times (S_{norm} + M_{norm}) \\times (0.5 + 0.5 \\times D_{norm}) \\right)\n",
    "$$\n",
    "\n",
    "- **Normalization**: Each component is normalized to avoid extreme values, ensuring a balanced score between 0 and 10.\n",
    "- **Safeguards**: The formula includes protections against invalid operations (e.g., taking the square root of negative values) by setting minimum values to prevent `NaN` or infinity results."
   ],
   "id": "186001cc03f9dee5"
  },
  {
   "metadata": {
    "ExecuteTime": {
     "end_time": "2025-01-07T16:40:48.069475Z",
     "start_time": "2025-01-07T16:40:48.061958Z"
    }
   },
   "cell_type": "code",
   "source": [
    "import numpy as np\n",
    "\n",
    "# Define the creative relevance score function\n",
    "def creative_relevance_score(stock_price, stock_price_dev, market_cap, volume,\n",
    "                             S_max=1000, M_max=2e12, V_max=1e9, epsilon=1e-9):\n",
    "    # Normalize each component\n",
    "    S_norm = min(stock_price, S_max) / S_max\n",
    "    D_norm = min(stock_price_dev, 100) / 100\n",
    "    M_norm = np.log(market_cap + 1) / np.log(M_max)  # Adding 1 to avoid log(0)\n",
    "    V_norm = np.log(volume + 1) / np.log(V_max)      # Adding 1 to avoid log(0)\n",
    "\n",
    "    # Safeguard against any negative or NaN values\n",
    "    D_norm = max(D_norm, 0)  # Ensure D_norm is not negative\n",
    "    V_norm = max(V_norm, 0)  # Ensure V_norm is not negative\n",
    "\n",
    "    # Calculate each component's contribution with safeguards\n",
    "    recent_growth = np.sqrt(max(D_norm * V_norm, 0))  # Avoid sqrt of negative\n",
    "    market_presence = (M_norm * S_norm) / (1 + abs(S_norm - 0.5))  # Adjusted for extreme prices\n",
    "    market_confidence = (S_norm + M_norm) * (0.5 + 0.5 * D_norm)  # Weighted by stock growth\n",
    "\n",
    "    # Final score with weights\n",
    "    score = 10 * (0.4 * recent_growth + 0.3 * market_presence + 0.3 * market_confidence)\n",
    "    print(\"Final Score: \" + str(score))\n",
    "    return max(0, min(score, 10))  # Ensure the score is within [0, 10] Ensure the score is within [0, 10]\n",
    "\n",
    "# Example usage\n",
    "score = creative_relevance_score(stock_price=150, stock_price_dev=50, market_cap=5e11, volume=1e8)\n",
    "print(\"Creative Relevance Score:\", score)\n",
    "\n",
    "\n"
   ],
   "id": "ba064050f80f58cd",
   "outputs": [
    {
     "name": "stdout",
     "output_type": "stream",
     "text": [
      "Final Score: 5.461061674436522\n",
      "Creative Relevance Score: 5.461061674436522\n"
     ]
    }
   ],
   "execution_count": 55
  },
  {
   "metadata": {},
   "cell_type": "markdown",
   "source": [
    "### Formula 1: Growth-Adjusted Market Confidence\n",
    "\n",
    "This formula emphasizes **market stability** and **growth potential**:\n",
    "- **Growth-Adjusted Market Presence**: Highlights high stock price and market cap, adjusted by growth to favor companies with balanced growth.\n",
    "- **Recent Growth**: Captures recent market excitement by emphasizing strong growth and high trading volume.\n",
    "- **Market Cap-Volume Interaction**: Rewards companies with both stability (high market cap) and high volume, indicating established interest.\n",
    "\n",
    "**Formula**:\n",
    "$$\n",
    "\\text{Score} = \\left( 0.5 \\times \\frac{S_{norm} \\times M_{norm}}{0.75 + |D_{norm} - 0.5|} + 0.35 \\times \\sqrt{D_{norm} \\times V_{norm}} + 0.25 \\times (M_{norm} \\times V_{norm})² \\right)\n",
    "$$"
   ],
   "id": "37eceb5c0c24d609"
  },
  {
   "metadata": {
    "ExecuteTime": {
     "end_time": "2025-01-07T17:00:58.845325Z",
     "start_time": "2025-01-07T17:00:58.842105Z"
    }
   },
   "cell_type": "code",
   "source": [
    "def alternative_score_1(stock_price, stock_price_dev, market_cap, volume,\n",
    "                        S_max=1000, M_max=2e12, V_max=1e9):\n",
    "    S_norm = min(stock_price, S_max) / S_max\n",
    "    D_norm = min(stock_price_dev, 100) / 100\n",
    "    M_norm = np.log(market_cap + 1) / np.log(M_max)\n",
    "    V_norm = np.log(volume + 1) / np.log(V_max)\n",
    "\n",
    "    growth_adjusted_presence = (S_norm * M_norm) / (0.75 + abs(D_norm - 0.5))\n",
    "    recent_growth = np.sqrt(max(D_norm * V_norm, 0))\n",
    "    market_cap_volume = (M_norm * V_norm) * (M_norm * V_norm)\n",
    "\n",
    "    score = (0.5 * growth_adjusted_presence + 0.35 * recent_growth + 0.25 * market_cap_volume)\n",
    "    return max(0, min(score, 1))\n"
   ],
   "id": "81c97822b92cd12",
   "outputs": [],
   "execution_count": 64
  },
  {
   "metadata": {},
   "cell_type": "markdown",
   "source": [
    "### Formula 2: Stability and Interest Ratio\n",
    "\n",
    "This formula uses **ratios** to balance **current stability** and **market interest**:\n",
    "- **Stability-Interest Ratio**: Rewards companies with high stability (stock price and market cap), moderated by trading volume.\n",
    "- **Growth Emphasis**: Directly highlights recent stock price growth as an indicator of market excitement.\n",
    "- **Stability and Interest Interaction**: Rewards companies with both high market cap and volume, favoring established companies with active interest.\n",
    "\n",
    "**Formula**:\n",
    "$$\n",
    "\\text{Score} = \\left( 0.4 \\times \\frac{S_{norm} \\times M_{norm}}{0.8 + |V_{norm} - 0.5|} + 0.4 \\times D_{norm} + 0.4 \\times \\sqrt{M_{norm} \\times V_{norm}} \\right)\n",
    "$$\n"
   ],
   "id": "ff2e23a95f944fb4"
  },
  {
   "metadata": {
    "ExecuteTime": {
     "end_time": "2025-01-07T17:02:53.612198Z",
     "start_time": "2025-01-07T17:02:53.608780Z"
    }
   },
   "cell_type": "code",
   "source": [
    "def alternative_score_2(stock_price, stock_price_dev, market_cap, volume,\n",
    "                        S_max=1000, M_max=2e12, V_max=1e9):\n",
    "    S_norm = min(stock_price, S_max) / S_max\n",
    "    D_norm = min(stock_price_dev, 100) / 100\n",
    "    M_norm = np.log(market_cap + 1) / np.log(M_max)\n",
    "    V_norm = np.log(volume + 1) / np.log(V_max)\n",
    "\n",
    "    stability_interest_ratio = (S_norm * M_norm) / (0.8 + abs(V_norm - 0.5))\n",
    "    growth_emphasis = D_norm\n",
    "    stability_interest_interaction = np.sqrt(M_norm * V_norm)\n",
    "\n",
    "    score = (0.4 * stability_interest_ratio + 0.4 * growth_emphasis + 0.4 * stability_interest_interaction)\n",
    "    return max(0, min(score, 1))\n"
   ],
   "id": "cdb4c6ec78fc1661",
   "outputs": [],
   "execution_count": 68
  },
  {
   "metadata": {},
   "cell_type": "markdown",
   "source": [
    "### Formula 3: Momentum and Legacy\n",
    "\n",
    "This formula emphasizes **momentum** by weighing **recent growth** and **trading volume** more heavily, while acknowledging **market cap** and **current stock price** for stability:\n",
    "- **Stock Price and Market Cap Weighting**: Balances stock price and market cap, representing a company’s legacy and current market position.\n",
    "- **Momentum Factor**: Highlights companies with strong recent growth and volume, capturing momentum.\n",
    "- **Adjusted Growth Factor**: Rewards high-growth companies but tempers the effect if market cap significantly deviates, ensuring a preference for stable growth.\n",
    "\n",
    "**Formula**:\n",
    "$$\n",
    "\\text{Score} = \\left( (0.25 \\times S_{norm} + 0.25 \\times M_{norm})^{1 + D_{norm}} + 0.3 \\times \\sqrt{D_{norm} \\times V_{norm}} + 0.2 \\times \\frac{D_{norm} \\times S_{norm}}{1 + |M_{norm} - 0.5|} \\right)\n",
    "$$\n"
   ],
   "id": "2a6bfce77198fd11"
  },
  {
   "metadata": {
    "ExecuteTime": {
     "end_time": "2025-01-07T16:40:48.250325Z",
     "start_time": "2025-01-07T16:40:48.246566Z"
    }
   },
   "cell_type": "code",
   "source": [
    "import math\n",
    "def alternative_score_3(stock_price, stock_price_dev, market_cap, volume,\n",
    "                        S_max=1000, M_max=2e12, V_max=1e9):\n",
    "    S_norm = min(stock_price, S_max) / S_max\n",
    "    D_norm = min(stock_price_dev, 100) / 100\n",
    "    M_norm = np.log(market_cap + 1) / np.log(M_max)\n",
    "    V_norm = np.log(volume + 1) / np.log(V_max)\n",
    "\n",
    "    stock_price_market_cap_weighting = 0.25 * S_norm + 0.25 * M_norm\n",
    "    momentum_factor = np.sqrt(max(D_norm * V_norm, 0))\n",
    "    adjusted_growth_factor = (D_norm * S_norm) / (1 + abs(M_norm - 0.5))\n",
    "\n",
    "    score = (math.pow(stock_price_market_cap_weighting, 1 + D_norm) + 0.3 * momentum_factor + 0.2 * adjusted_growth_factor)\n",
    "    return max(0, min(score, 1))\n"
   ],
   "id": "fb841a1c828e8134",
   "outputs": [],
   "execution_count": 58
  },
  {
   "metadata": {},
   "cell_type": "markdown",
   "source": [
    "### Formula 4: Historical Performance and Momentum\n",
    "\n",
    "This formula integrates **historical performance** metrics into the scoring, emphasizing a stock's **consistency**, **momentum**, and **volatility** over the last 12 months. By incorporating these factors alongside **current stock metrics**, the formula offers a comprehensive evaluation of both short-term momentum and long-term stability:\n",
    "- **Stock Price and Market Cap Weighting**: Balances the stock price and market cap to reflect the company's current market position and valuation.\n",
    "- **Momentum Factor**: Rewards stocks with strong recent growth and high trading volume.\n",
    "- **Adjusted Growth Factor**: Encourages stable growth by penalizing large deviations in market cap compared to other metrics.\n",
    "- **Historical Metrics**:\n",
    "  - **Momentum**: Captures the overall trend of the past 12 months by comparing the first and last monthly performances.\n",
    "  - **Volatility**: Penalizes stocks with high price fluctuations to favor stable performers.\n",
    "  - **Positive Months**: Rewards stocks with a consistent positive performance across the year.\n",
    "\n",
    "**Formula**:\n",
    "$$\n",
    "\\text{Score} = \\left( (0.25 \\times S_{norm} + 0.25 \\times M_{norm})^{1 + D_{norm}} + 0.3 \\times \\sqrt{D_{norm} \\times V_{norm}} + 0.2 \\times \\frac{D_{norm} \\times S_{norm}}{1 + |M_{norm} - 0.5|} + 0.5 \\times \\text{Historical Weighting} \\right)\n",
    "$$\n",
    "\n",
    "**Historical Weighting**:\n",
    "$$\n",
    "\\text{Historical Weighting} = 0.4 \\times \\text{Momentum} - 0.3 \\times \\text{Volatility} + 0.3 \\times \\text{Positive Months}\n",
    "$$\n",
    "\n",
    "Where:\n",
    "- \\( S_{norm} = \\frac{\\min(\\text{Stock Price}, S_{max})}{S_{max}} \\): Normalized stock price.\n",
    "- \\( M_{norm} = \\frac{\\log(\\text{Market Cap} + 1)}{\\log(M_{max})} \\): Normalized market cap.\n",
    "- \\( V_{norm} = \\frac{\\log(\\text{Volume} + 1)}{\\log(V_{max})} \\): Normalized trading volume.\n",
    "- \\( D_{norm} = \\frac{\\min(\\text{Stock Price Development}, 100)}{100} \\): Normalized stock price development.\n",
    "- **Momentum**: \\(\\frac{\\text{Last 12-month Price} - \\text{First 12-month Price}}{\\text{First 12-month Price}}\\).\n",
    "- **Volatility**: \\(\\frac{\\text{Standard Deviation of Historical Prices}}{\\text{Mean of Historical Prices}}\\).\n",
    "- **Positive Months**: Fraction of months in the 12-month period with positive price changes.\n",
    "\n",
    "This formula provides a dynamic, well-rounded score, favoring stocks with strong recent performance, stable historical trends, and consistent growth.\n"
   ],
   "id": "5ed4876be963948f"
  },
  {
   "metadata": {
    "ExecuteTime": {
     "end_time": "2025-01-07T17:02:57.737285Z",
     "start_time": "2025-01-07T17:02:57.733265Z"
    }
   },
   "cell_type": "code",
   "source": [
    "def alternative_score_4(stock_price, stock_price_dev, market_cap, volume, historical,\n",
    "                                   S_max=1000, M_max=2e12, V_max=1e9):\n",
    "    # Normalize inputs\n",
    "    S_norm = min(stock_price, S_max) / S_max\n",
    "    D_norm = min(stock_price_dev, 100) / 100\n",
    "    M_norm = np.log(market_cap + 1) / np.log(M_max)\n",
    "    V_norm = np.log(volume + 1) / np.log(V_max)\n",
    "\n",
    "    # Calculate historical performance metrics\n",
    "    if historical and len(historical) == 12:\n",
    "        momentum = (historical[-1] - historical[0]) / (historical[0] + 1e-9)  # Overall trend\n",
    "        volatility = np.std(historical) / (np.mean(historical) + 1e-9)  # Relative volatility\n",
    "        positive_months = sum(1 for month in historical if month > 0) / len(historical)  # Fraction of positive months\n",
    "    else:\n",
    "        print(\"SFSDFKLJSDLFKJSDLKFJSLDKJF\")\n",
    "        momentum = 0\n",
    "        volatility = 0\n",
    "        positive_months = 0\n",
    "\n",
    "    # Incorporate historical metrics into the score\n",
    "    historical_weighting = 0.4 * momentum - 0.3 * volatility + 0.3 * positive_months\n",
    "\n",
    "    # Core score calculations (same as alternative_score_3)\n",
    "    stock_price_market_cap_weighting = 0.25 * S_norm + 0.25 * M_norm\n",
    "    momentum_factor = np.sqrt(max(D_norm * V_norm, 0))\n",
    "    adjusted_growth_factor = (D_norm * S_norm) / (1 + abs(M_norm - 0.5))\n",
    "\n",
    "    # Combine scores\n",
    "    score = (math.pow(stock_price_market_cap_weighting, 1 + D_norm) +\n",
    "             0.3 * momentum_factor +\n",
    "             0.2 * adjusted_growth_factor +\n",
    "             0.5 * historical_weighting)  # Historical metrics contribute 50% weight\n",
    "    return max(0, min(score, 1))\n"
   ],
   "id": "9a320dbd0d216e41",
   "outputs": [],
   "execution_count": 69
  },
  {
   "metadata": {},
   "cell_type": "markdown",
   "source": "##### We will use this function now to create a final dataset with the idea, which we use the company description for, and the according score.",
   "id": "ff80087007518bb1"
  },
  {
   "metadata": {
    "ExecuteTime": {
     "end_time": "2025-01-08T11:41:53.798245Z",
     "start_time": "2025-01-08T11:41:52.666535Z"
    }
   },
   "cell_type": "code",
   "source": [
    "import os\n",
    "import pandas as pd\n",
    "from functools import partial\n",
    "import ast\n",
    "os.makedirs(\"Data\", exist_ok=True)\n",
    "\n",
    "input_filepath = 'Data/entire_company_stock_prices.csv'\n",
    "df = pd.read_csv(input_filepath)\n",
    "\n",
    "FILL_NAN = True\n",
    "PAD = True\n",
    "\n",
    "if FILL_NAN:\n",
    "    # Ensure numeric types and handle missing values\n",
    "    df[['StockPrice', 'StockPriceDevelopment', 'MarketCap', 'Volume']] = df[\n",
    "        ['StockPrice', 'StockPriceDevelopment', 'MarketCap', 'Volume']\n",
    "    ].apply(pd.to_numeric, errors='coerce').fillna(0)\n",
    "\n",
    "    # Process the 'Historical' column\n",
    "    default_array = [0] * 12  # Default array with size 12 filled with zeros\n",
    "\n",
    "    df['Historical'] = df['Historical'].apply(\n",
    "        lambda x: default_array if pd.isna(x) else [\n",
    "            0 if pd.isna(value) else value for value in ast.literal_eval(x)\n",
    "        ]\n",
    "    )\n",
    "\n",
    "    # df.to_csv(input_filepath, index=False)\n",
    "\n",
    "\n",
    "if PAD:\n",
    "    # Simple padding logic: pad with zeros at the start to ensure size 12\n",
    "    def pad_with_zeros(arr):\n",
    "        arr = [0 if pd.isna(x) else x for x in arr]  # Replace NaN with 0\n",
    "        return [0] * (12 - len(arr)) + arr[-12:]  # Prepend zeros to make size 12\n",
    "\n",
    "    df['Historical'] = df['Historical'].apply(pad_with_zeros)\n",
    "    df.to_csv('Data/padded_entire_company_stock_prices.csv', index=False)\n",
    "\n",
    "# Compute the maximum values from the dataset\n",
    "S_max = df['StockPrice'].max()\n",
    "M_max = df['MarketCap'].max()\n",
    "V_max = df['Volume'].max()\n",
    "# Create a partial function with dataset-specific max values\n",
    "custom_creative_relevance_score = partial(creative_relevance_score, S_max=S_max, M_max=M_max, V_max=V_max)\n",
    "custom_alternative_score_1 = partial(alternative_score_1, S_max=S_max, M_max=M_max, V_max=V_max)\n",
    "custom_alternative_score_2 = partial(alternative_score_2, S_max=S_max, M_max=M_max, V_max=V_max)\n",
    "custom_alternative_score_3 = partial(alternative_score_3, S_max=S_max, M_max=M_max, V_max=V_max)\n",
    "custom_alternative_score_4 = partial(alternative_score_4, S_max=S_max, M_max=M_max, V_max=V_max)\n",
    "\n",
    "\n",
    "if 'ticker' in df.columns:\n",
    "    df.set_index('ticker', inplace=True)\n",
    "\n",
    "# Calculate scores and prepare the output DataFrame\n",
    "output_data = {\n",
    "    'Ticker': df['Ticker'],\n",
    "    'Idea': df['Idea'],       # Directly from input CSV\n",
    "    'Historical': df['Historical'],\n",
    "    'Score_0': df.apply(lambda row: custom_creative_relevance_score(\n",
    "        row['StockPrice'], row['StockPriceDevelopment'], row['MarketCap'], row['Volume']), axis=1),  # Apply the scoring function\n",
    "    'Score_1': df.apply(lambda row: custom_alternative_score_1(\n",
    "        row['StockPrice'], row['StockPriceDevelopment'], row['MarketCap'], row['Volume']), axis=1),  # Apply the scoring function\n",
    "    'Score_2': df.apply(lambda row: custom_alternative_score_2(\n",
    "        row['StockPrice'], row['StockPriceDevelopment'], row['MarketCap'], row['Volume']), axis=1), # Apply the scoring function\n",
    "    'Score_3': df.apply(lambda row: custom_alternative_score_3(\n",
    "        row['StockPrice'], row['StockPriceDevelopment'], row['MarketCap'], row['Volume']), axis=1),  # Apply the scoring function\n",
    "    'Score_4': df.apply(lambda row: custom_alternative_score_4(\n",
    "        row['StockPrice'], row['StockPriceDevelopment'], row['MarketCap'], row['Volume'], row['Historical']), axis=1)  # Apply the scoring function\n",
    "}\n",
    "\n",
    "# Create the output DataFrame\n",
    "output_df = pd.DataFrame(output_data)\n",
    "\n",
    "# Save the results to a new CSV file\n",
    "output_filepath = 'Data/padded_entire_final_dataset.csv'\n",
    "output_df.to_csv(output_filepath, index=False)\n",
    "\n",
    "print(f\"Data collection complete. Final CSV file saved in '{output_filepath}'\")"
   ],
   "id": "d0b4f67fb4ba8c0a",
   "outputs": [
    {
     "name": "stdout",
     "output_type": "stream",
     "text": [
      "Final Score: 1.7090859488805867\n",
      "Final Score: 3.7757554600094623\n",
      "Final Score: 0.9091368453944548\n",
      "Final Score: 1.7906815596629917\n",
      "Final Score: 4.572390409891557\n",
      "Final Score: 2.707631022199454\n",
      "Final Score: 0.9128167729551675\n",
      "Final Score: 5.51893993171841\n",
      "Final Score: 3.920187618025297\n",
      "Final Score: 1.1629542948429064\n",
      "Final Score: 4.529322532405037\n",
      "Final Score: 2.9582090309578666\n",
      "Final Score: 3.0653387921465622\n",
      "Final Score: 2.3731918026202976\n",
      "Final Score: 3.4647711658248315\n",
      "Final Score: 1.0971143849732863\n",
      "Final Score: 0.9690224487815657\n",
      "Final Score: 1.2804768224591732\n",
      "Final Score: 2.5935024315964457\n",
      "Final Score: 1.0398774942079783\n",
      "Final Score: 0.9303559150031803\n",
      "Final Score: 3.0739606263041406\n",
      "Final Score: 1.368506254560741\n",
      "Final Score: 1.0053584093551056\n",
      "Final Score: 2.52254642969133\n",
      "Final Score: 0.9800944435242143\n",
      "Final Score: 1.3976201236422627\n",
      "Final Score: 2.61200747786434\n",
      "Final Score: 0.7919968130413756\n",
      "Final Score: 2.1048751831067913\n",
      "Final Score: 2.6247495411101864\n",
      "Final Score: 0.9738586445973993\n",
      "Final Score: 1.1625184157568014\n",
      "Final Score: 4.094558278698717\n",
      "Final Score: 1.0542449127657354\n",
      "Final Score: 1.05069375215833\n",
      "Final Score: 1.1091754901384256\n",
      "Final Score: 1.0812154875270434\n",
      "Final Score: 0.9391335472417182\n",
      "Final Score: 2.134648900475207\n",
      "Final Score: 1.2210141904067404\n",
      "Final Score: 1.2056737749247535\n",
      "Final Score: 0.911712280247087\n",
      "Final Score: 5.832678233761794\n",
      "Final Score: 0.9536228686791539\n",
      "Final Score: 1.2263832666698267\n",
      "Final Score: 1.0302018332688054\n",
      "Final Score: 1.0071865497860468\n",
      "Final Score: 4.251813453210888\n",
      "Final Score: 1.2013357274179883\n",
      "Final Score: 2.4991469833718667\n",
      "Final Score: 3.048823628155125\n",
      "Final Score: 1.096433779119431\n",
      "Final Score: 1.5122562873981893\n",
      "Final Score: 2.262837185494342\n",
      "Final Score: 1.839294159734577\n",
      "Final Score: 0.7980391533160511\n",
      "Final Score: 1.372103163046228\n",
      "Final Score: 3.5904463161947273\n",
      "Final Score: 1.0525182608160564\n",
      "Final Score: 5.610109452288967\n",
      "Final Score: 3.1992287200018756\n",
      "Final Score: 2.7277147291750343\n",
      "Final Score: 1.9307756409816696\n",
      "Final Score: 0.9777893296896613\n",
      "Final Score: 1.9194229992883787\n",
      "Final Score: 2.853210126079997\n",
      "Final Score: 2.2577688022847626\n",
      "Final Score: 0.9358087068360843\n",
      "Final Score: 0.9384821388612009\n",
      "Final Score: 0.985736356345057\n",
      "Final Score: 1.557047458807113\n",
      "Final Score: 3.619567447942993\n",
      "Final Score: 0.9412318515040246\n",
      "Final Score: 0.8317653164856402\n",
      "Final Score: 3.0306457600119274\n",
      "Final Score: 3.0601285634931115\n",
      "Final Score: 0.7910935047454893\n",
      "Final Score: 1.2978516617165814\n",
      "Final Score: 5.6849300774697635\n",
      "Final Score: 0.8952696102892137\n",
      "Final Score: 1.1552860573944652\n",
      "Final Score: 3.1373649870709883\n",
      "Final Score: 4.678541232301244\n",
      "Final Score: 3.166193867138084\n",
      "Final Score: 2.839147756093899\n",
      "Final Score: 1.4645731296765443\n",
      "Final Score: 4.636220386844531\n",
      "Final Score: 0.7677402942011871\n",
      "Final Score: 3.395577195107582\n",
      "Final Score: 1.0813788588722946\n",
      "Final Score: 0.9597250399573274\n",
      "Final Score: 2.3238153812449354\n",
      "Final Score: 0.8270067841751663\n",
      "Final Score: 2.7542948206380666\n",
      "Final Score: 0.9547120223834922\n",
      "Final Score: 3.5193892646677707\n",
      "Final Score: 2.2385647341420976\n",
      "Final Score: 2.2960590434080705\n",
      "Final Score: 0.8126946392619148\n",
      "Final Score: 2.4096093769303693\n",
      "Final Score: 1.127729452252132\n",
      "Final Score: 3.1759868122528347\n",
      "Final Score: 5.2785524968729\n",
      "Final Score: 0.7918609405013846\n",
      "Final Score: 4.726334324398512\n",
      "Final Score: 1.156733552936017\n",
      "Final Score: 1.0083204308672171\n",
      "Final Score: 2.7184002798720552\n",
      "Final Score: 3.2331678589509028\n",
      "Final Score: 1.2057478532647812\n",
      "Final Score: 3.118256144575332\n",
      "Final Score: 1.2110025750308253\n",
      "Final Score: 4.870378449452132\n",
      "Final Score: 1.0507793652830693\n",
      "Final Score: 1.670248042543271\n",
      "Final Score: 1.6352473568045078\n",
      "Final Score: 2.859827642664051\n",
      "Final Score: 2.2782682586302156\n",
      "Final Score: 0.8738880326204429\n",
      "Final Score: 2.3839625287203203\n",
      "Final Score: 3.630776503489119\n",
      "Final Score: 0.9366250879414675\n",
      "Final Score: 1.0239167602690427\n",
      "Final Score: 5.066053395475406\n",
      "Final Score: 2.0090169306340884\n",
      "Final Score: 1.1109187627965476\n",
      "Final Score: 3.668773893496412\n",
      "Final Score: 0.9054283898192226\n",
      "Final Score: 1.2351736206253747\n",
      "Final Score: 1.0401928004212373\n",
      "Final Score: 4.615616227218583\n",
      "Final Score: 1.968439049330068\n",
      "Final Score: 1.6213645977129962\n",
      "Final Score: 4.671636459037963\n",
      "Final Score: 2.1431088869793236\n",
      "Final Score: 1.1911083391094823\n",
      "Final Score: 2.2220489961762686\n",
      "Final Score: 0.9200523583250484\n",
      "Final Score: 2.5199641206989414\n",
      "Final Score: 2.3345621250954816\n",
      "Final Score: 2.3132025852551132\n",
      "Final Score: 1.1866754531892543\n",
      "Final Score: 4.122450351954826\n",
      "Final Score: 3.0414546863893985\n",
      "Final Score: 0.7626849392508008\n",
      "Final Score: 1.096941206501348\n",
      "Final Score: 2.8985431496719203\n",
      "Final Score: 5.392063383101552\n",
      "Final Score: 1.6458123439688401\n",
      "Final Score: 1.0871713343893656\n",
      "Final Score: 0.9195593294043456\n",
      "Final Score: 1.8465250691612909\n",
      "Final Score: 0.8690676073474328\n",
      "Final Score: 0.957564722665487\n",
      "Final Score: 1.1546304199454174\n",
      "Final Score: 0.9204740521182887\n",
      "Final Score: 1.8197683655102201\n",
      "Final Score: 0.7897406943062645\n",
      "Final Score: 0.8858910246877504\n",
      "Final Score: 0.8524650722881213\n",
      "Final Score: 1.166381891651592\n",
      "Final Score: 4.188449689521945\n",
      "Final Score: 1.1456300528097283\n",
      "Final Score: 3.8904719100734804\n",
      "Final Score: 0.8429667392122631\n",
      "Final Score: 1.0354966460273953\n",
      "Final Score: 2.272439509345671\n",
      "Final Score: 1.576767421945788\n",
      "Final Score: 3.5103373644063223\n",
      "Final Score: 2.749425288351417\n",
      "Final Score: 1.5150891942294704\n",
      "Final Score: 2.112693679929613\n",
      "Final Score: 0.9873271938854757\n",
      "Final Score: 2.82533567083004\n",
      "Final Score: 2.967491312359425\n",
      "Final Score: 3.0309824181691947\n",
      "Final Score: 1.2678529466786228\n",
      "Final Score: 0.7611179128257352\n",
      "Final Score: 2.7226475995133437\n",
      "Final Score: 3.97455221100969\n",
      "Final Score: 1.7303451956790128\n",
      "Final Score: 0.935381254178014\n",
      "Final Score: 0.8732094581485729\n",
      "Final Score: 0.9933666149778476\n",
      "Final Score: 2.9486866507561915\n",
      "Final Score: 0.8915211035777938\n",
      "Final Score: 1.2762941225083657\n",
      "Final Score: 0.8342951600004928\n",
      "Final Score: 1.6628226426630066\n",
      "Final Score: 2.2612897630469786\n",
      "Final Score: 1.6158626148815294\n",
      "Final Score: 3.9573814256812767\n",
      "Final Score: 2.8120538596949105\n",
      "Final Score: 1.0502228525510702\n",
      "Final Score: 2.392087582416692\n",
      "Final Score: 1.1896574250816447\n",
      "Final Score: 1.1862230208378868\n",
      "Final Score: 1.3321254309024047\n",
      "Final Score: 4.208113187675711\n",
      "Final Score: 3.5712141458245714\n",
      "Final Score: 5.617800808249198\n",
      "Final Score: 1.1586408167953834\n",
      "Final Score: 5.165293308880427\n",
      "Final Score: 1.1762615905925424\n",
      "Final Score: 3.6885213298110084\n",
      "Final Score: 3.10631389194132\n",
      "Final Score: 1.6270340937574488\n",
      "Final Score: 0.9924147528438996\n",
      "Final Score: 1.0535127388895356\n",
      "Final Score: 0.7584158186910888\n",
      "Final Score: 5.164042955330787\n",
      "Final Score: 1.204573051984462\n",
      "Final Score: 4.615879335689542\n",
      "Final Score: 0.9635299266105041\n",
      "Final Score: 0.8716705228516806\n",
      "Final Score: 1.1628190557862785\n",
      "Final Score: 0.8175190286764162\n",
      "Final Score: 1.0369993833261215\n",
      "Final Score: 0.9836356351003932\n",
      "Final Score: 4.106276290415188\n",
      "Final Score: 0.9860968861694924\n",
      "Final Score: 1.0333856569950142\n",
      "Final Score: 1.074641842579793\n",
      "Final Score: 1.0243389896427089\n",
      "Final Score: 3.3945798741284428\n",
      "Final Score: 1.0095281219907157\n",
      "Final Score: 1.2306055326348226\n",
      "Final Score: 1.1356027338385195\n",
      "Final Score: 0.9998131340908168\n",
      "Final Score: 1.1504639926936826\n",
      "Final Score: 1.0448863798113541\n",
      "Final Score: 0.8788394790767623\n",
      "Final Score: 3.0495593642181387\n",
      "Final Score: 3.7202191726113023\n",
      "Final Score: 1.40845789521863\n",
      "Final Score: 3.692798970445457\n",
      "Final Score: 1.0559506834249504\n",
      "Final Score: 1.0279939513990477\n",
      "Final Score: 3.1910069120141498\n",
      "Final Score: 1.1126668438223155\n",
      "Final Score: 1.1184093405642423\n",
      "Final Score: 2.4726400678817173\n",
      "Final Score: 1.0573284871767965\n",
      "Final Score: 1.4079147520867275\n",
      "Final Score: 1.3856723015125902\n",
      "Final Score: 1.1776958126967738\n",
      "Final Score: 2.768634903306576\n",
      "Final Score: 1.458271744093105\n",
      "Final Score: 1.5229857340145292\n",
      "Final Score: 2.004603402003346\n",
      "Final Score: 1.1863392625609372\n",
      "Final Score: 1.0155198393623248\n",
      "Final Score: 2.679977866212686\n",
      "Final Score: 1.0953383596249469\n",
      "Final Score: 1.1484839723299898\n",
      "Final Score: 3.804756379143559\n",
      "Final Score: 0.7686545657259576\n",
      "Final Score: 4.01567557774691\n",
      "Final Score: 1.1411438874058768\n",
      "Final Score: 1.0993629336992137\n",
      "Final Score: 1.078377092819572\n",
      "Final Score: 2.4148952917102045\n",
      "Final Score: 1.6325458693382267\n",
      "Final Score: 1.2172460072110618\n",
      "Final Score: 3.379184166697594\n",
      "Final Score: 2.2378661764682133\n",
      "Final Score: 1.0268752777771812\n",
      "Final Score: 3.661299380922048\n",
      "Final Score: 2.117252148050945\n",
      "Final Score: 5.345064254250989\n",
      "Final Score: 1.6363032648868239\n",
      "Final Score: 2.752343311696558\n",
      "Final Score: 1.3868444331144096\n",
      "Final Score: 1.5797056850330167\n",
      "Final Score: 1.1528675481764645\n",
      "Final Score: 0.9981124603850398\n",
      "Final Score: 1.1264649236875517\n",
      "Final Score: 1.0236577509382658\n",
      "Final Score: 1.2995898314808776\n",
      "Final Score: 2.5748434453743148\n",
      "Final Score: 4.010897648655764\n",
      "Final Score: 2.776460269112567\n",
      "Final Score: 1.052892641997936\n",
      "Final Score: 1.1290046396987858\n",
      "Final Score: 0.9215516794252409\n",
      "Final Score: 5.220544977322651\n",
      "Final Score: 3.1641714329702992\n",
      "Final Score: 0.8912288285481436\n",
      "Final Score: 1.0786319909923316\n",
      "Final Score: 4.583819749867354\n",
      "Final Score: 1.0248532766868457\n",
      "Final Score: 1.1140993689172796\n",
      "Final Score: 0.968442852150489\n",
      "Final Score: 1.0337904167519922\n",
      "Final Score: 0.9648171141763918\n",
      "Final Score: 1.7587894773804007\n",
      "Final Score: 0.8646846064977411\n",
      "Final Score: 1.0424760394365165\n",
      "Final Score: 0.9454906043112309\n",
      "Final Score: 0.8660309389684534\n",
      "Final Score: 2.3231631679406632\n",
      "Final Score: 2.5164054846618953\n",
      "Final Score: 1.747483226324702\n",
      "Final Score: 1.983767853336812\n",
      "Final Score: 2.071109840277983\n",
      "Final Score: 1.438574628456912\n",
      "Final Score: 2.772764901062543\n",
      "Final Score: 3.7342127752418683\n",
      "Final Score: 2.2666494531465484\n",
      "Final Score: 3.980023053085465\n",
      "Final Score: 1.2362176241688578\n",
      "Final Score: 4.948826950727377\n",
      "Final Score: 4.928370505289838\n",
      "Final Score: 0.9321570015249978\n",
      "Final Score: 1.2282455875846285\n",
      "Final Score: 1.5657148258579507\n",
      "Final Score: 0.9341071295446655\n",
      "Final Score: 3.554923587735864\n",
      "Final Score: 0.8615700689903762\n",
      "Final Score: 4.9362023664620045\n",
      "Final Score: 1.850340517972871\n",
      "Final Score: 3.66538354230837\n",
      "Final Score: 3.7481245053880063\n",
      "Final Score: 4.3798802526511755\n",
      "Final Score: 5.737896614221287\n",
      "Final Score: 1.1579417099044234\n",
      "Final Score: 0.9984466710546641\n",
      "Final Score: 1.1890212755705918\n",
      "Final Score: 0.9946288750262573\n",
      "Final Score: 0.8324975138334769\n",
      "Final Score: 4.5354015096269515\n",
      "Final Score: 1.8584858984130004\n",
      "Final Score: 6.208649856820154\n",
      "Final Score: 1.933380584608996\n",
      "Final Score: 1.8809394607924257\n",
      "Final Score: 1.0544943344092041\n",
      "Final Score: 0.8799069103099123\n",
      "Final Score: 1.1443330411074761\n",
      "Final Score: 0.8813085941926186\n",
      "Final Score: 1.2826649238879082\n",
      "Final Score: 0.792204266702231\n",
      "Final Score: 1.7102183212361843\n",
      "Final Score: 1.5428960880778708\n",
      "Final Score: 0.9576310078349325\n",
      "Final Score: 1.0215009385234146\n",
      "Final Score: 0.9673779164986944\n",
      "Final Score: 1.1583261741227817\n",
      "Final Score: 0.9728030674510796\n",
      "Final Score: 1.3038094346528715\n",
      "Final Score: 4.01538014979749\n",
      "Final Score: 1.0184767407598043\n",
      "Final Score: 0.9138769142948651\n",
      "Final Score: 4.97599559655702\n",
      "Final Score: 0.9337155669809032\n",
      "Final Score: 3.1356895034700982\n",
      "Final Score: 1.1661262860413126\n",
      "Final Score: 3.059907328737441\n",
      "Final Score: 1.1915418058903686\n",
      "Final Score: 1.1251535488395672\n",
      "Final Score: 1.0655172474539683\n",
      "Final Score: 2.6758017904149956\n",
      "Final Score: 0.7868845119372438\n",
      "Final Score: 1.0719028519135914\n",
      "Final Score: 1.2733106600829915\n",
      "Final Score: 0.7681122598786247\n",
      "Final Score: 0.9764928351636395\n",
      "Final Score: 0.9637179202106877\n",
      "Final Score: 3.8908942461043523\n",
      "Final Score: 4.356820827496531\n",
      "Final Score: 5.21675209593058\n",
      "Final Score: 1.1043900405394327\n",
      "Final Score: 1.1071071572957654\n",
      "Final Score: 5.467748181359503\n",
      "Final Score: 1.123824023574202\n",
      "Final Score: 3.017313028427069\n",
      "Final Score: 1.2869488952449988\n",
      "Final Score: 3.862397869182821\n",
      "Final Score: 2.318388253095721\n",
      "Final Score: 3.794469318822032\n",
      "Final Score: 1.014752940159294\n",
      "Final Score: 2.3557521526815384\n",
      "Final Score: 4.257268027743088\n",
      "Final Score: 1.8173968254506012\n",
      "Final Score: 3.112158469037652\n",
      "Final Score: 0.9496504544586719\n",
      "Final Score: 3.9237704438603704\n",
      "Final Score: 2.454940240976626\n",
      "Final Score: 5.310844013692188\n",
      "Final Score: 4.0227549640572295\n",
      "Final Score: 2.189097696735134\n",
      "Final Score: 1.141571096734176\n",
      "Final Score: 0.7976809114301961\n",
      "Final Score: 1.0511005676264071\n",
      "Final Score: 0.8439232851113796\n",
      "Final Score: 1.086484897026278\n",
      "Final Score: 1.2262623330913478\n",
      "Final Score: 1.1469095244419907\n",
      "Final Score: 4.007683111390902\n",
      "Final Score: 1.149167706547485\n",
      "Final Score: 2.1979644807354406\n",
      "Final Score: 2.866805321247983\n",
      "Final Score: 1.0589671660120912\n",
      "Final Score: 0.9563373616349214\n",
      "Final Score: 2.0729935335016254\n",
      "Final Score: 2.206356819157771\n",
      "Final Score: 1.1905555159239969\n",
      "Final Score: 1.1840258221143227\n",
      "Final Score: 2.262613842368042\n",
      "Final Score: 1.2294379560195088\n",
      "Final Score: 1.0581292401428826\n",
      "Final Score: 1.593128114065947\n",
      "Final Score: 1.0751139888418522\n",
      "Final Score: 5.234366157674852\n",
      "Final Score: 3.0598368875572737\n",
      "Final Score: 1.7036190201060875\n",
      "Final Score: 1.2260881707165867\n",
      "Final Score: 2.8503843523789247\n",
      "Final Score: 1.1702614615236036\n",
      "Final Score: 2.7128858361081507\n",
      "Final Score: 1.0614124767693718\n",
      "Final Score: 0.9667073933008079\n",
      "Final Score: 1.2871617986693649\n",
      "Final Score: 1.006757933572848\n",
      "Final Score: 1.6275405273901435\n",
      "Final Score: 0.8209962754905792\n",
      "Final Score: 0.8694521113643028\n",
      "Final Score: 1.0979401884946876\n",
      "Final Score: 0.7302351253943122\n",
      "Final Score: 2.232100880638944\n",
      "Final Score: 5.677144713073796\n",
      "Final Score: 2.6494066976700132\n",
      "Final Score: 2.888499502377701\n",
      "Final Score: 2.3438230058723866\n",
      "Final Score: 1.0054458789017047\n",
      "Final Score: 3.4446781290269026\n",
      "Final Score: 1.105298543049252\n",
      "Final Score: 0.9781631648846111\n",
      "Final Score: 3.561857429423046\n",
      "Final Score: 5.1372695578897565\n",
      "Final Score: 1.069998869641218\n",
      "Final Score: 5.236346140915479\n",
      "Final Score: 0.9454082948951774\n",
      "Final Score: 4.4513660762364164\n",
      "Final Score: 2.3302396505858542\n",
      "Final Score: 2.5902526610537513\n",
      "Final Score: 1.676367570551828\n",
      "Final Score: 0.9053321473048094\n",
      "Final Score: 1.2047537191915967\n",
      "Final Score: 4.226722690263075\n",
      "Final Score: 0.9878884348516803\n",
      "Final Score: 1.023920576739726\n",
      "Final Score: 1.214950315521332\n",
      "Final Score: 3.0304925676141012\n",
      "Final Score: 4.518809089660348\n",
      "Final Score: 1.663636069063169\n",
      "Final Score: 0.7831282305633426\n",
      "Final Score: 1.0578698320397384\n",
      "Final Score: 0.9898875756710289\n",
      "Final Score: 3.2860371068216008\n",
      "Final Score: 5.20415753283774\n",
      "Final Score: 0.9556852147373563\n",
      "Final Score: 2.499385252210084\n",
      "Final Score: 0.9940223798593816\n",
      "Final Score: 1.1261846011262215\n",
      "Final Score: 1.0541751823612562\n",
      "Final Score: 1.1657927040609135\n",
      "Final Score: 5.109752926569076\n",
      "Final Score: 1.1034143089714907\n",
      "Final Score: 0.8235874540917694\n",
      "Final Score: 0.8122751500231905\n",
      "Final Score: 0.99747814838254\n",
      "Final Score: 3.768886553116041\n",
      "Final Score: 2.5598718342570543\n",
      "Final Score: 2.056285297125538\n",
      "Final Score: 1.024504006124563\n",
      "Final Score: 0.9401035892190573\n",
      "Final Score: 0.8258568050849251\n",
      "Final Score: 4.076080311772957\n",
      "Final Score: 5.9204045631471525\n",
      "Final Score: 1.0284898476669189\n",
      "Final Score: 3.0055189422700295\n",
      "Final Score: 1.038483582670747\n",
      "Final Score: 0.8116900047445328\n",
      "Final Score: 2.4417669398068567\n",
      "Final Score: 4.942328172980529\n",
      "Final Score: 1.1409299374096253\n",
      "Final Score: 3.3357330847950823\n",
      "Final Score: 3.33346883300616\n",
      "Final Score: 1.0229072865507496\n",
      "Final Score: 1.0895520929109157\n",
      "Final Score: 1.1215508675681618\n",
      "Final Score: 5.827189031855825\n",
      "Final Score: 0.829962536720839\n",
      "Final Score: 1.0133666885237895\n",
      "Final Score: 2.2378241093638653\n",
      "Final Score: 1.0839696498556188\n",
      "Final Score: 1.256757035489965\n",
      "Final Score: 1.031298959517653\n",
      "Final Score: 2.847104823268396\n",
      "Final Score: 5.573449566186348\n",
      "Final Score: 2.673075752233416\n",
      "Final Score: 1.0216766379909266\n",
      "Final Score: 1.2336215886930593\n",
      "Final Score: 5.336654493577937\n",
      "Final Score: 5.485178011191978\n",
      "Final Score: 1.3004214115573127\n",
      "Final Score: 2.2542533696809732\n",
      "Final Score: 0.9313048741007726\n",
      "Final Score: 2.762493021683634\n",
      "Final Score: 0.8367212394572208\n",
      "Final Score: 2.162308601942808\n",
      "Final Score: 2.3807301590958954\n",
      "Final Score: 1.9386140373915783\n",
      "Final Score: 0.8992745273233751\n",
      "Final Score: 3.3092986744560546\n",
      "Final Score: 3.487901823000369\n",
      "Final Score: 2.553577770320567\n",
      "Final Score: 3.3248304395043355\n",
      "Final Score: 1.0777193959137819\n",
      "Final Score: 1.935477402927945\n",
      "Final Score: 5.533866794873717\n",
      "Final Score: 4.214542814959202\n",
      "Final Score: 3.1716193065066167\n",
      "Final Score: 3.96968391017292\n",
      "Final Score: 2.1079604664858396\n",
      "Final Score: 2.119383178751751\n",
      "Final Score: 0.9662661732023154\n",
      "Final Score: 3.4076546602253748\n",
      "Final Score: 3.068856603117227\n",
      "Final Score: 0.8421120740269576\n",
      "Final Score: 0.8716250536003518\n",
      "Final Score: 5.004654072751934\n",
      "Final Score: 1.1776063983470506\n",
      "Final Score: 2.4689269764810486\n",
      "Final Score: 4.113686176431617\n",
      "Final Score: 3.4480531862137505\n",
      "Final Score: 1.1610727657821625\n",
      "Final Score: 0.8770132461603035\n",
      "Final Score: 1.0850339036868546\n",
      "Final Score: 2.5319165935121735\n",
      "Final Score: 3.5133090032362544\n",
      "Final Score: 1.4029819449999157\n",
      "Final Score: 1.5051993274764675\n",
      "Final Score: 3.1982691084501544\n",
      "Final Score: 4.303205587112366\n",
      "Final Score: 1.013875930547882\n",
      "Final Score: 1.020675663896349\n",
      "Final Score: 1.5639888178717822\n",
      "Final Score: 1.283739638078152\n",
      "Final Score: 1.1458548842611387\n",
      "Final Score: 1.2449565050185314\n",
      "Final Score: 4.251980812795258\n",
      "Final Score: 3.814360748259861\n",
      "Final Score: 2.292734674595032\n",
      "Final Score: 1.0243237073641378\n",
      "Final Score: 3.36925250861153\n",
      "Final Score: 0.8964448355515056\n",
      "Final Score: 4.248286425990507\n",
      "Final Score: 2.6529707985959523\n",
      "Final Score: 0.8263008708842947\n",
      "Final Score: 2.5505187089467416\n",
      "Final Score: 4.4798756398434145\n",
      "Final Score: 1.0746704553766062\n",
      "Final Score: 0.9621398681839304\n",
      "Final Score: 1.1441322207495788\n",
      "Final Score: 1.1429268825713337\n",
      "Final Score: 1.242195651805278\n",
      "Final Score: 4.253068835124058\n",
      "Final Score: 2.70167377098896\n",
      "Final Score: 5.416457560936145\n",
      "Final Score: 0.8454738924834765\n",
      "Final Score: 1.0472086523897632\n",
      "Final Score: 1.26559229688104\n",
      "Final Score: 1.8834904586897174\n",
      "Final Score: 1.260861534760867\n",
      "Final Score: 0.8930508866207097\n",
      "Final Score: 0.7005624719715992\n",
      "Final Score: 1.1708205368112217\n",
      "Final Score: 0.7566133030741456\n",
      "Final Score: 1.82039283919539\n",
      "Final Score: 1.2903915625586202\n",
      "Final Score: 3.2675555658430144\n",
      "Final Score: 1.69460702362454\n",
      "Final Score: 1.6361396001026263\n",
      "Final Score: 2.491747489019574\n",
      "Final Score: 5.207608633697643\n",
      "Final Score: 1.2018906936100364\n",
      "Final Score: 2.4757229073949425\n",
      "Final Score: 1.1965015283953087\n",
      "Final Score: 0.9528905293408068\n",
      "Final Score: 1.6764741491202728\n",
      "Final Score: 0.9218906227872068\n",
      "Final Score: 2.2225982903417636\n",
      "Final Score: 1.1987873379581684\n",
      "Final Score: 0.8393811399820732\n",
      "Final Score: 1.2806986326473149\n",
      "Final Score: 2.090684595967259\n",
      "Final Score: 0.8344502340115657\n",
      "Final Score: 3.079502435262328\n",
      "Final Score: 2.5076903148389036\n",
      "Final Score: 4.965575638740585\n",
      "Final Score: 2.9960403140640377\n",
      "Final Score: 1.479138715048178\n",
      "Final Score: 3.9210844217275476\n",
      "Final Score: 5.082984567059312\n",
      "Final Score: 1.5730399208887547\n",
      "Final Score: 2.872020714635629\n",
      "Final Score: 0.9593252315837015\n",
      "Final Score: 2.6655338339082792\n",
      "Final Score: 2.4455750854716167\n",
      "Final Score: 1.0735917992826518\n",
      "Final Score: 3.70075626726873\n",
      "Final Score: 2.480045228938075\n",
      "Final Score: 1.0591986708428087\n",
      "Final Score: 3.641251384675233\n",
      "Final Score: 0.7843594933553246\n",
      "Final Score: 0.9782821251424936\n",
      "Final Score: 0.9700621517998047\n",
      "Final Score: 1.7943233766786524\n",
      "Final Score: 6.058179583772358\n",
      "Final Score: 1.1247679194765077\n",
      "Final Score: 3.7620546283945178\n",
      "Final Score: 2.8211912509071277\n",
      "Final Score: 0.9094393593125295\n",
      "Final Score: 0.9654913953965955\n",
      "Final Score: 2.8224199794270763\n",
      "Final Score: 3.6053711347783723\n",
      "Final Score: 3.6036606680845846\n",
      "Final Score: 4.106469717801731\n",
      "Final Score: 1.2200533468674033\n",
      "Final Score: 1.0125453086563077\n",
      "Final Score: 2.4782412803823783\n",
      "Final Score: 3.365875521085372\n",
      "Final Score: 3.2546959618105813\n",
      "Final Score: 2.580985033106603\n",
      "Final Score: 1.7958047492968565\n",
      "Final Score: 1.2082718657512008\n",
      "Final Score: 2.295209549290681\n",
      "Final Score: 4.449072605423373\n",
      "Final Score: 0.8977796575621011\n",
      "Final Score: 2.6421626002570213\n",
      "Final Score: 1.4451720237376753\n",
      "Final Score: 5.601154295040722\n",
      "Final Score: 2.039180345061931\n",
      "Final Score: 0.877738507098801\n",
      "Final Score: 2.9638653905442736\n",
      "Final Score: 2.0976920294483365\n",
      "Final Score: 2.259126164844738\n",
      "Final Score: 1.3682557115888596\n",
      "Final Score: 1.2594016606637062\n",
      "Final Score: 2.373674868223137\n",
      "Final Score: 3.68870444458575\n",
      "Final Score: 0.993606179428676\n",
      "Final Score: 2.6725090372419946\n",
      "Final Score: 0.9508016454432147\n",
      "Final Score: 0.8475281493662988\n",
      "Final Score: 2.421118972006327\n",
      "Final Score: 2.3306572555483296\n",
      "Final Score: 1.0617356070208295\n",
      "Final Score: 0.9658379346700292\n",
      "Final Score: 2.050189137046114\n",
      "Final Score: 2.266068951805502\n",
      "Final Score: 0.9398804074366687\n",
      "Final Score: 2.0614285107605435\n",
      "Final Score: 3.253775117215778\n",
      "Final Score: 0.9738257137391961\n",
      "Final Score: 0.950698670585156\n",
      "Final Score: 2.683278426782362\n",
      "Final Score: 1.1394763716306424\n",
      "Final Score: 4.009349817246964\n",
      "Final Score: 1.889503590954917\n",
      "Final Score: 1.241616966886879\n",
      "Final Score: 0.9476527641347328\n",
      "Final Score: 1.8089296361595966\n",
      "Final Score: 3.2733393687906123\n",
      "Final Score: 0.9348059267528979\n",
      "Final Score: 1.36609050302141\n",
      "Final Score: 3.363745716414197\n",
      "Final Score: 2.1962453505446806\n",
      "Final Score: 1.5719335221014665\n",
      "Final Score: 1.140344891613527\n",
      "Final Score: 0.8565253227436026\n",
      "Final Score: 1.3169053233169061\n",
      "Final Score: 1.069117501045644\n",
      "Final Score: 1.9268132920315777\n",
      "Final Score: 1.3389080059006242\n",
      "Final Score: 2.142932152724511\n",
      "Final Score: 5.401171397190056\n",
      "Final Score: 3.669316907790302\n",
      "Final Score: 0.8213480028106511\n",
      "Final Score: 2.284636324275302\n",
      "Final Score: 0.9185123031300553\n",
      "Final Score: 1.0658922561237194\n",
      "Final Score: 2.9911657308619133\n",
      "Final Score: 3.1197006087432277\n",
      "Final Score: 0.9873337007528469\n",
      "Final Score: 1.5721015648366294\n",
      "Final Score: 1.0216793350117317\n",
      "Final Score: 1.8989057535705276\n",
      "Final Score: 0.9777301470837425\n",
      "Final Score: 2.4579343885721676\n",
      "Final Score: 3.2711213636875347\n",
      "Final Score: 0.8098034104418415\n",
      "Final Score: 1.5431936529643118\n",
      "Final Score: 4.185970704879049\n",
      "Final Score: 1.0725287668640031\n",
      "Final Score: 3.159674092540432\n",
      "Final Score: 1.8580720099478067\n",
      "Final Score: 2.5328177577139073\n",
      "Final Score: 5.005231130071214\n",
      "Final Score: 2.2602342948507514\n",
      "Final Score: 0.997561570375261\n",
      "Final Score: 6.696824721120267\n",
      "Final Score: 4.570586599449589\n",
      "Final Score: 2.1018295592776663\n",
      "Final Score: 0.9989820893338952\n",
      "Final Score: 1.7096795209721898\n",
      "Final Score: 4.6110400556252795\n",
      "Final Score: 3.965628771532872\n",
      "Final Score: 0.8059378125043644\n",
      "Final Score: 1.8030065021084907\n",
      "Final Score: 1.7034089228141531\n",
      "Final Score: 2.9346662849342575\n",
      "Final Score: 0.8242355344192893\n",
      "Final Score: 2.1584224420894746\n",
      "Final Score: 1.3145604442220264\n",
      "Final Score: 3.7922718414806624\n",
      "Final Score: 1.0906389805674148\n",
      "Final Score: 1.2818825324477656\n",
      "Final Score: 1.5244369206326993\n",
      "Final Score: 1.1141880520687908\n",
      "Final Score: 4.313150877326049\n",
      "Final Score: 1.0043532111789386\n",
      "Final Score: 4.514473943686124\n",
      "Final Score: 3.864070329439132\n",
      "Final Score: 2.192707069295507\n",
      "Final Score: 1.1267822221739785\n",
      "Final Score: 3.984525426568003\n",
      "Final Score: 0.99924286838392\n",
      "Final Score: 0.7349473281386292\n",
      "Final Score: 0.9617219710199131\n",
      "Final Score: 3.1054939059813194\n",
      "Final Score: 1.024791719876326\n",
      "Final Score: 1.22146763761632\n",
      "Final Score: 2.0855880947928918\n",
      "Final Score: 3.527035701783375\n",
      "Final Score: 1.0012111186609234\n",
      "Final Score: 5.563964074464654\n",
      "Final Score: 1.1386784217620642\n",
      "Final Score: 1.0667704642220122\n",
      "Final Score: 1.035691521371948\n",
      "Final Score: 3.559648390630948\n",
      "Final Score: 2.152503867292455\n",
      "Final Score: 2.6048465688219533\n",
      "Final Score: 0.8813429589828116\n",
      "Final Score: 0.8537723639262373\n",
      "Final Score: 3.623652790381675\n",
      "Final Score: 1.256673059772133\n",
      "Final Score: 4.879399324967519\n",
      "Final Score: 1.9168578564184373\n",
      "Final Score: 3.240103009496612\n",
      "Final Score: 4.1012870987171945\n",
      "Final Score: 1.4869839169371435\n",
      "Final Score: 0.924541743919291\n",
      "Final Score: 0.9527135680741752\n",
      "Final Score: 1.2812822390013285\n",
      "Final Score: 2.5509965557010372\n",
      "Final Score: 1.7823679708445734\n",
      "Final Score: 0.9120414967608861\n",
      "Final Score: 0.9743929918336253\n",
      "Final Score: 0.8653940007888384\n",
      "Final Score: 2.798168580513634\n",
      "Final Score: 4.580284163537227\n",
      "Final Score: 4.138853217962728\n",
      "Final Score: 1.3237524096079698\n",
      "Final Score: 1.0513446859292843\n",
      "Final Score: 1.0170601863929984\n",
      "Final Score: 2.410902599865574\n",
      "Final Score: 0.8253951672597306\n",
      "Final Score: 2.9847602996972222\n",
      "Final Score: 1.0991334473122478\n",
      "Final Score: 3.381503509424321\n",
      "Final Score: 0.9146713436936188\n",
      "Final Score: 0.8035444930370405\n",
      "Final Score: 1.8383800186809207\n",
      "Final Score: 1.0403942449405257\n",
      "Final Score: 4.949899292388673\n",
      "Final Score: 1.1148378329227355\n",
      "Final Score: 3.1105455976927274\n",
      "Final Score: 2.7803309632627116\n",
      "Final Score: 1.1200998407786176\n",
      "Final Score: 1.522062093338108\n",
      "Final Score: 3.011738917333128\n",
      "Final Score: 2.9493675279522815\n",
      "Final Score: 1.3457754681495708\n",
      "Final Score: 1.1759114098187282\n",
      "Final Score: 2.6639694139687373\n",
      "Final Score: 2.0791305182176316\n",
      "Final Score: 0.9728736215653456\n",
      "Final Score: 0.8309362909059059\n",
      "Final Score: 2.5006457837839244\n",
      "Final Score: 2.628107708052755\n",
      "Final Score: 2.718759378589218\n",
      "Final Score: 1.1646305515149524\n",
      "Final Score: 0.9650460752813348\n",
      "Final Score: 3.351870054554227\n",
      "Final Score: 3.1085903192377495\n",
      "Final Score: 3.121496391484266\n",
      "Final Score: 1.0611256221225969\n",
      "Final Score: 2.068361179516284\n",
      "Final Score: 0.84864555588426\n",
      "Final Score: 0.9042866512092401\n",
      "Final Score: 4.394287504812847\n",
      "Final Score: 3.4381847834677473\n",
      "Final Score: 1.4703568353901098\n",
      "Final Score: 2.227768251703247\n",
      "Final Score: 2.970615813856968\n",
      "Final Score: 1.2246725524886757\n",
      "Final Score: 1.0168205579094962\n",
      "Final Score: 0.8926678920613074\n",
      "Final Score: 3.1868500647808133\n",
      "Final Score: 1.0545095254655013\n",
      "Final Score: 5.655009285650708\n",
      "Final Score: 1.074525998990619\n",
      "Final Score: 2.4827757425529082\n",
      "Final Score: 2.266434457350346\n",
      "Final Score: 2.8034964076913003\n",
      "Final Score: 3.205738212837627\n",
      "Final Score: 1.064075190473477\n",
      "Final Score: 1.1820104744431135\n",
      "Final Score: 0.9842904924630227\n",
      "Final Score: 1.3100201010277925\n",
      "Final Score: 0.9656936991921552\n",
      "Final Score: 1.2798723008633928\n",
      "Final Score: 0.9841845848569866\n",
      "Final Score: 0.7083416116454437\n",
      "Final Score: 5.201473637464681\n",
      "Final Score: 2.40536239840539\n",
      "Final Score: 2.081138394827501\n",
      "Final Score: 2.1752369025761222\n",
      "Final Score: 3.7505208074754703\n",
      "Final Score: 2.1404437129426626\n",
      "Final Score: 3.0687437370219257\n",
      "Final Score: 2.0865361609788917\n",
      "Final Score: 3.9547500379233194\n",
      "Final Score: 4.100235048457507\n",
      "Final Score: 1.2471988440551427\n",
      "Final Score: 1.2964271364503643\n",
      "Final Score: 0.9566236757365829\n",
      "Final Score: 1.6231275793042241\n",
      "Final Score: 1.6581399111268365\n",
      "Final Score: 3.645061500411871\n",
      "Final Score: 0.9103100792965836\n",
      "Final Score: 3.7601860033442525\n",
      "Final Score: 0.8752342757665171\n",
      "Final Score: 5.535271262995344\n",
      "Final Score: 1.1548819864772661\n",
      "Final Score: 2.6453339105781115\n",
      "Final Score: 3.932780539259093\n",
      "Final Score: 0.9074338068038064\n",
      "Final Score: 1.2615245418777332\n",
      "Final Score: 3.204341076571672\n",
      "Final Score: 0.8054619533537354\n",
      "Final Score: 1.3896017500623528\n",
      "Final Score: 0.8336122864568641\n",
      "Final Score: 0.8512183315660143\n",
      "Final Score: 1.1563269933504536\n",
      "Final Score: 1.9347285991126344\n",
      "Final Score: 1.3500761453318604\n",
      "Final Score: 2.5671211037275388\n",
      "Final Score: 1.3261811976342517\n",
      "Final Score: 1.1440861698892468\n",
      "Final Score: 3.9913292350659884\n",
      "Final Score: 4.870262171176649\n",
      "Final Score: 1.679625661027323\n",
      "Final Score: 4.636976307669323\n",
      "Final Score: 3.2261686385456203\n",
      "Final Score: 1.129619982042604\n",
      "Final Score: 5.205546751053838\n",
      "Final Score: 3.5655479753768917\n",
      "Final Score: 2.058851598898344\n",
      "Final Score: 3.6447675388344125\n",
      "Final Score: 2.1469053494402734\n",
      "Final Score: 0.9444122010174478\n",
      "Final Score: 2.379715724199147\n",
      "Final Score: 1.721941176900026\n",
      "Final Score: 1.0446192549234938\n",
      "Final Score: 1.0656268989387587\n",
      "Final Score: 1.0830774387129756\n",
      "Final Score: 2.7616552959825884\n",
      "Final Score: 1.0004238942786867\n",
      "Final Score: 4.1048655043649305\n",
      "Final Score: 1.1001726797800062\n",
      "Final Score: 1.16026886943724\n",
      "Final Score: 2.4234860656065065\n",
      "Final Score: 2.8828833569400167\n",
      "Final Score: 2.895037518995942\n",
      "Final Score: 3.32579011562066\n",
      "Final Score: 2.536512197228491\n",
      "Final Score: 2.6435891773488174\n",
      "Final Score: 1.6167238792443386\n",
      "Final Score: 1.2975849824898733\n",
      "Final Score: 1.056330241345655\n",
      "Final Score: 1.3411066466136838\n",
      "Final Score: 5.120304862848135\n",
      "Final Score: 2.644641965066492\n",
      "Final Score: 1.1906807606312062\n",
      "Final Score: 5.11076286330848\n",
      "Final Score: 1.0777302487626566\n",
      "Final Score: 3.574738370985768\n",
      "Final Score: 2.993566779543513\n",
      "Final Score: 4.198272174682454\n",
      "Final Score: 3.50286846784622\n",
      "Final Score: 3.4866544085523254\n",
      "Final Score: 1.057211488881739\n",
      "Final Score: 1.2954767360744643\n",
      "Final Score: 3.3406940426803744\n",
      "Final Score: 1.357873580886233\n",
      "Final Score: 2.4891794430380507\n",
      "Final Score: 3.408456076844705\n",
      "Final Score: 4.652189397913993\n",
      "Final Score: 3.2670275637761756\n",
      "Final Score: 1.6404602916982909\n",
      "Final Score: 1.2305696488430704\n",
      "Final Score: 2.4612281978941435\n",
      "Final Score: 3.94092503542657\n",
      "Final Score: 1.0922695425846014\n",
      "Final Score: 0.8561781248419387\n",
      "Final Score: 5.547326145522029\n",
      "Final Score: 2.246224207837069\n",
      "Final Score: 0.841005459239247\n",
      "Final Score: 2.7098431319761724\n",
      "Final Score: 4.0204514819000545\n",
      "Final Score: 2.250539114664561\n",
      "Final Score: 0.8941267428601951\n",
      "Final Score: 0.8409000337459316\n",
      "Final Score: 5.140798128394362\n",
      "Final Score: 1.0825565312757295\n",
      "Final Score: 5.174488540941665\n",
      "Final Score: 1.2183176736218972\n",
      "Final Score: 0.9552376326609435\n",
      "Final Score: 2.5573394133839678\n",
      "Final Score: 4.428250631895146\n",
      "Final Score: 0.9811260957717011\n",
      "Final Score: 3.506847781341253\n",
      "Final Score: 1.0966870656238492\n",
      "Final Score: 5.191058407474083\n",
      "Final Score: 0.8374555488801507\n",
      "Final Score: 3.6987647411368094\n",
      "Final Score: 0.911665733878212\n",
      "Final Score: 1.0641048339098427\n",
      "Final Score: 4.083359914130419\n",
      "Final Score: 3.4252453523776003\n",
      "Final Score: 0.9858573809685549\n",
      "Final Score: 0.9514326165150575\n",
      "Final Score: 2.5718648866125706\n",
      "Final Score: 5.854319418312059\n",
      "Final Score: 2.6934680515865814\n",
      "Final Score: 2.852988854014644\n",
      "Final Score: 0.9471375180199173\n",
      "Final Score: 2.4652676758479437\n",
      "Final Score: 2.973845264495978\n",
      "Final Score: 2.8139402124736135\n",
      "Final Score: 2.2109648883062727\n",
      "Final Score: 0.9129342322185473\n",
      "Final Score: 4.4095016107989435\n",
      "Final Score: 1.077377045628259\n",
      "Final Score: 1.129317073254279\n",
      "Final Score: 3.2316477170852425\n",
      "Final Score: 3.034947354642049\n",
      "Final Score: 3.43577782462746\n",
      "Final Score: 1.0338994297290987\n",
      "Final Score: 3.1142081862973403\n",
      "Final Score: 1.1622697155503494\n",
      "Final Score: 2.4806355001974034\n",
      "Final Score: 5.19698894544613\n",
      "Final Score: 2.6707728120530296\n",
      "Final Score: 0.9638880695466566\n",
      "Final Score: 1.8281893940661618\n",
      "Final Score: 2.5736668304002253\n",
      "Final Score: 3.2134695996703906\n",
      "Final Score: 2.5836532337615807\n",
      "Final Score: 1.0494718762919297\n",
      "Final Score: 1.3148102122392527\n",
      "Final Score: 2.6439719510998327\n",
      "Final Score: 1.235718352605847\n",
      "Final Score: 4.302693294512611\n",
      "Final Score: 4.718888881989188\n",
      "Final Score: 0.9322100833619095\n",
      "Final Score: 2.2513113306370407\n",
      "Final Score: 1.052076504762772\n",
      "Final Score: 1.1728267012623337\n",
      "Final Score: 4.70279831447719\n",
      "Final Score: 1.081503046446712\n",
      "Final Score: 1.147356373430497\n",
      "Final Score: 2.1766780307615825\n",
      "Final Score: 0.9706716389499769\n",
      "Final Score: 1.1289876898031295\n",
      "Final Score: 5.826318193532135\n",
      "Final Score: 0.7819492473766881\n",
      "Final Score: 1.0462681175424264\n",
      "Final Score: 5.05974035006254\n",
      "Final Score: 5.524464916700303\n",
      "Final Score: 2.215098724483173\n",
      "Final Score: 1.098225717418993\n",
      "Final Score: 3.4769756961373877\n",
      "Final Score: 0.9810695564680149\n",
      "Final Score: 5.2276965284881864\n",
      "Final Score: 1.3326366517816046\n",
      "Final Score: 5.036030035116576\n",
      "Final Score: 5.292761202618845\n",
      "Final Score: 4.685477191310262\n",
      "Final Score: 1.245950472272885\n",
      "Final Score: 2.374789732030454\n",
      "Final Score: 4.34544247015636\n",
      "Final Score: 2.293701645512047\n",
      "Final Score: 6.239510383417517\n",
      "Final Score: 2.4306274552904408\n",
      "Final Score: 1.0128132704635298\n",
      "Final Score: 1.22974056410541\n",
      "Final Score: 0.9407318800995933\n",
      "Final Score: 0.8266666153106863\n",
      "Final Score: 1.2740532268919504\n",
      "Final Score: 1.9272047676173116\n",
      "Final Score: 1.3426214577437603\n",
      "Final Score: 1.1379875472214067\n",
      "Final Score: 4.471123237831503\n",
      "Final Score: 4.359782574721602\n",
      "Final Score: 1.01183575622627\n",
      "Final Score: 1.1309787768441466\n",
      "Final Score: 2.81897225967516\n",
      "Final Score: 0.8064020674846356\n",
      "Final Score: 0.8030931082978793\n",
      "Final Score: 0.9387855139041484\n",
      "Final Score: 0.9444553313628522\n",
      "Final Score: 4.5664380140452865\n",
      "Final Score: 0.842156629479064\n",
      "Final Score: 2.98370272843606\n",
      "Final Score: 1.8569056569183862\n",
      "Final Score: 1.9947716006808776\n",
      "Final Score: 2.7554002322735487\n",
      "Final Score: 1.0620721889271045\n",
      "Final Score: 1.4661845651617997\n",
      "Final Score: 3.932305803236074\n",
      "Final Score: 3.497605815100303\n",
      "Final Score: 3.318992492884826\n",
      "Final Score: 0.9225138535872981\n",
      "Final Score: 3.4742740175050066\n",
      "Final Score: 0.8957696396740626\n",
      "Final Score: 2.354889942723762\n",
      "Final Score: 2.602423473417846\n",
      "Final Score: 1.0530497960866447\n",
      "Final Score: 1.038363768982076\n",
      "Final Score: 0.9478510320540201\n",
      "Final Score: 2.900071608607929\n",
      "Final Score: 1.9943306962886171\n",
      "Final Score: 2.533597377326857\n",
      "Final Score: 0.9123520151699769\n",
      "Final Score: 1.8793430997177278\n",
      "Final Score: 2.265444956157684\n",
      "Final Score: 3.783465417397024\n",
      "Final Score: 2.4687111228344514\n",
      "Final Score: 1.0775196020442217\n",
      "Final Score: 1.9206636337088334\n",
      "Final Score: 2.3468759701170083\n",
      "Final Score: 1.4020253206597755\n",
      "Final Score: 4.2665070999154\n",
      "Final Score: 0.878914229335369\n",
      "Final Score: 1.0842320518300648\n",
      "Final Score: 2.75319058556828\n",
      "Final Score: 2.1052373391383705\n",
      "Final Score: 0.9644532500168312\n",
      "Final Score: 0.8075637609258096\n",
      "Final Score: 0.7839332066630132\n",
      "Final Score: 2.7678906657445888\n",
      "Final Score: 1.0519442785968212\n",
      "Final Score: 2.828885450064745\n",
      "Final Score: 1.3571226025793646\n",
      "Final Score: 0.9598289423144646\n",
      "Final Score: 2.630538464272475\n",
      "Final Score: 0.8642184623748589\n",
      "Final Score: 1.101096122112905\n",
      "Final Score: 1.2346854676434922\n",
      "Final Score: 1.038538831214527\n",
      "Final Score: 3.312880087458674\n",
      "Final Score: 4.676291109486041\n",
      "Final Score: 1.2746337997297172\n",
      "Final Score: 1.4490322449600064\n",
      "Final Score: 2.329089958219651\n",
      "Final Score: 6.076432309266446\n",
      "Final Score: 1.7875312702707868\n",
      "Final Score: 1.6778335400246214\n",
      "Final Score: 1.4384665411975388\n",
      "Final Score: 3.7405320323949445\n",
      "Final Score: 1.917920375207842\n",
      "Final Score: 4.454276886991543\n",
      "Final Score: 1.3175959761894105\n",
      "Final Score: 4.861214042980388\n",
      "Final Score: 1.9518010867527613\n",
      "Final Score: 2.665348468864477\n",
      "Final Score: 1.999916475707249\n",
      "Final Score: 0.980794198420407\n",
      "Final Score: 1.0996169589107232\n",
      "Final Score: 3.4740500263967133\n",
      "Final Score: 0.8388347606621828\n",
      "Final Score: 3.4907149178128396\n",
      "Final Score: 1.628288394451363\n",
      "Final Score: 1.0578631720068272\n",
      "Final Score: 4.201804767090832\n",
      "Final Score: 0.7732268432058242\n",
      "Final Score: 1.5527911364934985\n",
      "Final Score: 2.412569913248884\n",
      "Final Score: 1.2062503062131567\n",
      "Final Score: 1.5822687873168415\n",
      "Final Score: 2.1143298489225435\n",
      "Final Score: 1.0342016864371002\n",
      "Final Score: 0.815478019907595\n",
      "Final Score: 4.362382923133873\n",
      "Final Score: 0.8951044075923403\n",
      "Final Score: 2.2097606210654446\n",
      "Final Score: 1.0118274795890385\n",
      "Final Score: 2.682623689194743\n",
      "Final Score: 1.1180688588094245\n",
      "Final Score: 5.537957868169908\n",
      "Final Score: 1.070864052484373\n",
      "Final Score: 0.9708853312861048\n",
      "Final Score: 1.0508060639208308\n",
      "Final Score: 1.107057659284283\n",
      "Final Score: 3.1022136818370525\n",
      "Final Score: 1.196284353279563\n",
      "Final Score: 3.387840019315101\n",
      "Final Score: 0.9380457584151873\n",
      "Final Score: 3.741521283364284\n",
      "Final Score: 2.701013671850797\n",
      "Final Score: 0.9522160099747077\n",
      "Final Score: 3.0698568292836903\n",
      "Final Score: 4.871027358686274\n",
      "Final Score: 3.596343565938003\n",
      "Final Score: 1.78152143935979\n",
      "Final Score: 0.9450798379708693\n",
      "Final Score: 1.4209442003167627\n",
      "Final Score: 5.815103967794737\n",
      "Final Score: 1.0057222278226214\n",
      "Final Score: 1.8943365653007094\n",
      "Final Score: 5.157327891144721\n",
      "Final Score: 0.8965841209388055\n",
      "Final Score: 1.4631284721170035\n",
      "Final Score: 0.8717813316890366\n",
      "Final Score: 5.944931690589801\n",
      "Final Score: 0.9336640937996694\n",
      "Final Score: 3.6495960979917963\n",
      "Final Score: 0.9375886708615622\n",
      "Final Score: 0.800716696354178\n",
      "Final Score: 1.1693700474252176\n",
      "Final Score: 1.0710828331047606\n",
      "Final Score: 1.2395641799276302\n",
      "Final Score: 2.520926104794348\n",
      "Final Score: 4.03210306419922\n",
      "Final Score: 2.948001004097038\n",
      "Final Score: 1.0152851821383022\n",
      "Final Score: 0.9830148235312903\n",
      "Final Score: 1.2959622079537425\n",
      "Final Score: 1.1880189410118849\n",
      "Final Score: 1.4046200633373056\n",
      "Final Score: 1.0074734179010671\n",
      "Final Score: 4.7289508504372115\n",
      "Final Score: 1.0977851148497524\n",
      "Final Score: 1.372835817138789\n",
      "Final Score: 0.9604767580636044\n",
      "Final Score: 2.6772973705771985\n",
      "Final Score: 1.1471024909822327\n",
      "Final Score: 3.1293239597216838\n",
      "Final Score: 4.477418766354408\n",
      "Final Score: 0.9561167576120821\n",
      "Final Score: 4.667420099327941\n",
      "Final Score: 1.806867856852517\n",
      "Final Score: 1.0960956187087596\n",
      "Final Score: 5.225962178050784\n",
      "Final Score: 1.1406559242755507\n",
      "Final Score: 1.0367313879208528\n",
      "Final Score: 2.540244762246282\n",
      "Final Score: 0.8339863568749707\n",
      "Final Score: 2.7161787167557634\n",
      "Final Score: 5.275362904372978\n",
      "Final Score: 2.8740515555307917\n",
      "Final Score: 1.0144347048523275\n",
      "Final Score: 1.1097490941592199\n",
      "Final Score: 1.0216126252920392\n",
      "Final Score: 1.9382262341964986\n",
      "Final Score: 1.5283480600241128\n",
      "Final Score: 2.1983720912895848\n",
      "Final Score: 1.3008657006924194\n",
      "Final Score: 1.20124054536327\n",
      "Final Score: 2.1844376412612427\n",
      "Final Score: 0.8179762382357726\n",
      "Final Score: 0.8197214011196963\n",
      "Final Score: 1.0164096947839782\n",
      "Final Score: 0.8627098085381946\n",
      "Final Score: 0.9662730394761985\n",
      "Final Score: 1.3511584033295685\n",
      "Final Score: 5.919352896613111\n",
      "Final Score: 3.074558910315295\n",
      "Final Score: 1.1673954523420085\n",
      "Final Score: 1.107957495436942\n",
      "Final Score: 3.6113760231267062\n",
      "Final Score: 1.073163160569063\n",
      "Final Score: 2.6313168354708365\n",
      "Final Score: 1.8790754241227703\n",
      "Final Score: 3.1913374523262785\n",
      "Final Score: 2.2297952816987068\n",
      "Final Score: 0.8235332716856689\n",
      "Final Score: 5.145272013483616\n",
      "Final Score: 0.9343615731261655\n",
      "Final Score: 0.8983483155702838\n",
      "Final Score: 2.1318021645923735\n",
      "Final Score: 0.9864801405874969\n",
      "Final Score: 4.743626978156968\n",
      "Final Score: 4.226646134353649\n",
      "Final Score: 1.1910349680476697\n",
      "Final Score: 2.079365371111199\n",
      "Final Score: 2.4926917465862126\n",
      "Final Score: 2.3663137369297975\n",
      "Final Score: 4.890719993388054\n",
      "Final Score: 3.2297041189374243\n",
      "Final Score: 3.70332997919556\n",
      "Final Score: 1.107643300092195\n",
      "Final Score: 0.9068213789129703\n",
      "Final Score: 4.499447605319546\n",
      "Final Score: 0.9121433429620591\n",
      "Final Score: 3.8785019038069812\n",
      "Final Score: 2.8576278889588225\n",
      "Final Score: 5.135182233811456\n",
      "Final Score: 2.8284509425033324\n",
      "Final Score: 5.889907881362823\n",
      "Final Score: 1.1223390611286794\n",
      "Final Score: 6.408408797697495\n",
      "Final Score: 4.645968162766465\n",
      "Final Score: 3.664604258163875\n",
      "Final Score: 1.1989493888012792\n",
      "Final Score: 1.0811856761593817\n",
      "Final Score: 2.0191609212262165\n",
      "Final Score: 5.680441410461542\n",
      "Final Score: 4.673319356777014\n",
      "Final Score: 0.7669445930410058\n",
      "Final Score: 1.5874953563156056\n",
      "Final Score: 1.9363296429090089\n",
      "Final Score: 3.733288413553976\n",
      "Final Score: 1.3892762359453563\n",
      "Final Score: 2.2384894872106518\n",
      "Final Score: 1.3683342298524173\n",
      "Final Score: 0.9654011296145276\n",
      "Final Score: 1.1111130233195126\n",
      "Final Score: 5.699895335334543\n",
      "Final Score: 0.8674047353198981\n",
      "Final Score: 4.264136798094556\n",
      "Final Score: 1.2005700335143363\n",
      "Final Score: 1.1406557614506032\n",
      "Final Score: 1.5469834877146318\n",
      "Final Score: 1.3366394300253848\n",
      "Final Score: 1.182459580140437\n",
      "Final Score: 1.9071276939416655\n",
      "Final Score: 1.230418824213642\n",
      "Final Score: 2.033745055522375\n",
      "Final Score: 3.5290737587279835\n",
      "Final Score: 0.9700085732154027\n",
      "Final Score: 0.7471795899362182\n",
      "Final Score: 0.827631287918619\n",
      "Final Score: 2.004499308900438\n",
      "Final Score: 2.687467968765488\n",
      "Final Score: 4.8794464971094476\n",
      "Final Score: 2.5540298213020978\n",
      "Final Score: 1.186872783933442\n",
      "Final Score: 3.0597666573385407\n",
      "Final Score: 3.614335614507781\n",
      "Final Score: 1.0098651860227252\n",
      "Final Score: 0.9143701642659728\n",
      "Final Score: 2.70340138378954\n",
      "Final Score: 3.134397585835628\n",
      "Final Score: 2.497055995325634\n",
      "Final Score: 2.1109175849514568\n",
      "Final Score: 3.330161673012296\n",
      "Final Score: 3.022488316693935\n",
      "Final Score: 4.296035952150389\n",
      "Final Score: 0.9156012505432201\n",
      "Final Score: 3.505155373831752\n",
      "Final Score: 2.5027591717739925\n",
      "Final Score: 0.8992116985492682\n",
      "Final Score: 1.0342923386855303\n",
      "Final Score: 2.3387554168397804\n",
      "Final Score: 2.2868685289605786\n",
      "Final Score: 5.179919460278796\n",
      "Final Score: 2.330006506112251\n",
      "Final Score: 5.7619275195572675\n",
      "Final Score: 0.8428854306385086\n",
      "Final Score: 3.8080527279846867\n",
      "Final Score: 1.3179066173131824\n",
      "Final Score: 3.111959632159457\n",
      "Final Score: 1.757788784076562\n",
      "Final Score: 3.6824106759635953\n",
      "Final Score: 3.5770923838440405\n",
      "Final Score: 1.1524613030717277\n",
      "Final Score: 0.9014370206239448\n",
      "Final Score: 5.909241163829754\n",
      "Final Score: 0.7240459930631594\n",
      "Final Score: 1.278766170079417\n",
      "Final Score: 3.1476347486489287\n",
      "Final Score: 5.347946431664775\n",
      "Final Score: 1.0689792654410863\n",
      "Final Score: 1.9196861298823207\n",
      "Final Score: 5.282445493239455\n",
      "Final Score: 3.608137798526778\n",
      "Final Score: 1.4492948931194265\n",
      "Final Score: 2.4045496443154173\n",
      "Final Score: 5.777912039370224\n",
      "Final Score: 1.1673195888345038\n",
      "Final Score: 1.1044950331636854\n",
      "Final Score: 0.9749159679827162\n",
      "Final Score: 4.003208518637953\n",
      "Final Score: 3.547727419363327\n",
      "Final Score: 3.4488173441604166\n",
      "Final Score: 0.8478892033402646\n",
      "Final Score: 5.032121564438709\n",
      "Final Score: 3.3745857374743835\n",
      "Final Score: 0.923742119553666\n",
      "Final Score: 1.1803247684328726\n",
      "Final Score: 3.662063451819101\n",
      "Final Score: 3.2209941880006845\n",
      "Final Score: 2.941588009640677\n",
      "Final Score: 1.2967332975731483\n",
      "Final Score: 1.45008550942789\n",
      "Final Score: 1.1095075825888085\n",
      "Final Score: 2.9270090807656777\n",
      "Final Score: 1.4972438248769315\n",
      "Final Score: 3.1342801859411535\n",
      "Final Score: 2.4692702627481236\n",
      "Final Score: 3.1211396179910658\n",
      "Final Score: 2.595956905142074\n",
      "Final Score: 2.4273042026073197\n",
      "Final Score: 0.8520105024806114\n",
      "Final Score: 0.9049301986657194\n",
      "Final Score: 1.9278538903873643\n",
      "Final Score: 3.188609604210492\n",
      "Final Score: 1.1357399737406055\n",
      "Final Score: 4.011043758481231\n",
      "Final Score: 1.0866886675865997\n",
      "Final Score: 4.542931922767223\n",
      "Final Score: 1.314621330136113\n",
      "Final Score: 3.4197045741706953\n",
      "Final Score: 2.7707168574200813\n",
      "Final Score: 0.9480923611835067\n",
      "Final Score: 0.9963095741939437\n",
      "Final Score: 0.8564938802151544\n",
      "Final Score: 1.0652073497508576\n",
      "Final Score: 3.086911528334201\n",
      "Final Score: 3.1589624910881553\n",
      "Final Score: 5.255157483885702\n",
      "Final Score: 0.953346169125543\n",
      "Final Score: 0.9041657137442284\n",
      "Final Score: 2.538301025577283\n",
      "Final Score: 1.1064749015538242\n",
      "Final Score: 2.2401458619746335\n",
      "Final Score: 3.2528841737146914\n",
      "Final Score: 0.9195281751033968\n",
      "Final Score: 1.0104057553614267\n",
      "Final Score: 3.0567337768673832\n",
      "Final Score: 1.299433925798188\n",
      "Final Score: 0.9503400719241272\n",
      "Final Score: 5.2010552769175264\n",
      "Final Score: 3.4516290012727753\n",
      "Final Score: 0.9733484683571303\n",
      "Final Score: 0.8906079316582869\n",
      "Final Score: 1.2137247495218224\n",
      "Final Score: 1.1044735977139915\n",
      "Final Score: 0.958864373565268\n",
      "Final Score: 0.7818358532544942\n",
      "Final Score: 3.9693969735288643\n",
      "Final Score: 0.9531552654682398\n",
      "Final Score: 2.337174695454221\n",
      "Final Score: 1.025992670971618\n",
      "Final Score: 4.829675629759677\n",
      "Final Score: 1.8594291356660393\n",
      "Final Score: 1.5702678774390928\n",
      "Final Score: 0.9499835905701338\n",
      "Final Score: 3.4425498626746407\n",
      "Final Score: 3.3712364062244005\n",
      "Final Score: 3.157211703451627\n",
      "Final Score: 3.5099805071567\n",
      "Final Score: 1.2837805442535108\n",
      "Final Score: 1.4603177708380821\n",
      "Final Score: 1.012637798020307\n",
      "Final Score: 1.0513467950164854\n",
      "Final Score: 1.152495258721228\n",
      "Final Score: 0.8380999793798503\n",
      "Final Score: 2.2399120875299205\n",
      "Final Score: 4.667422645528715\n",
      "Final Score: 0.931915530580641\n",
      "Final Score: 6.142836720075302\n",
      "Final Score: 0.8742658119287582\n",
      "Final Score: 1.018153045401397\n",
      "Final Score: 1.3399924286363891\n",
      "Final Score: 3.9721149184501425\n",
      "Final Score: 0.9250557907301349\n",
      "Final Score: 1.9429836082385248\n",
      "Final Score: 1.8931359754820023\n",
      "Final Score: 4.453863692879204\n",
      "Final Score: 3.7899505875584296\n",
      "Final Score: 2.432408030820212\n",
      "Final Score: 0.9742952845730679\n",
      "Final Score: 0.8287031518058992\n",
      "Final Score: 1.053272866340427\n",
      "Final Score: 0.903138060411479\n",
      "Final Score: 2.9338602279240678\n",
      "Final Score: 2.2537280372217414\n",
      "Final Score: 1.0802522837191029\n",
      "Final Score: 2.0203286262185483\n",
      "Final Score: 2.7793443471766404\n",
      "Final Score: 3.068387198400919\n",
      "Final Score: 1.1561203076539948\n",
      "Final Score: 1.2038524293996158\n",
      "Final Score: 4.799596169888705\n",
      "Final Score: 0.9268337197481633\n",
      "Final Score: 1.527937069528553\n",
      "Final Score: 1.7685999915594421\n",
      "Final Score: 1.1570704216282102\n",
      "Final Score: 1.7456839085516151\n",
      "Final Score: 4.052514178122201\n",
      "Final Score: 0.807270280096737\n",
      "Final Score: 0.9854017565072647\n",
      "Final Score: 4.197450817385826\n",
      "Final Score: 0.829645470978148\n",
      "Final Score: 0.8955989029829553\n",
      "Final Score: 1.8537576293621283\n",
      "Final Score: 2.499922019654463\n",
      "Final Score: 1.0322709175337474\n",
      "Final Score: 0.8579940258770135\n",
      "Final Score: 1.0607931276121025\n",
      "Final Score: 0.881389051892084\n",
      "Final Score: 1.166127169561134\n",
      "Final Score: 0.7419776850922035\n",
      "Final Score: 2.057245038537479\n",
      "Final Score: 1.8829000712815993\n",
      "Final Score: 1.0239221672626118\n",
      "Final Score: 1.2148150890288851\n",
      "Final Score: 2.84273218089698\n",
      "Final Score: 3.112645709836932\n",
      "Final Score: 1.9282857490030814\n",
      "Final Score: 1.090089965182668\n",
      "Final Score: 0.9071548707438926\n",
      "Final Score: 5.456254329648969\n",
      "Final Score: 4.7190814104966075\n",
      "Final Score: 3.9371290426605703\n",
      "Final Score: 1.1227585960947701\n",
      "Final Score: 5.341005192675229\n",
      "Final Score: 1.2025894970171112\n",
      "Final Score: 0.9307384253810416\n",
      "Final Score: 5.007508053888846\n",
      "Final Score: 4.062976941746577\n",
      "Final Score: 1.1607953316726074\n",
      "Final Score: 4.78074393860107\n",
      "Final Score: 1.0851385735063688\n",
      "Final Score: 3.851388980984254\n",
      "Final Score: 2.884326016130125\n",
      "Final Score: 2.2133193247961183\n",
      "Final Score: 1.7676717553025685\n",
      "Final Score: 1.133520718782907\n",
      "Final Score: 3.3631666652054455\n",
      "Final Score: 0.9678856231314799\n",
      "Final Score: 2.4247044524062\n",
      "Final Score: 2.112833822596343\n",
      "Final Score: 2.0904005259832736\n",
      "Final Score: 1.8575419304073661\n",
      "Final Score: 0.784231744549102\n",
      "Final Score: 1.4907010992574234\n",
      "Final Score: 1.0685950802455921\n",
      "Final Score: 2.3098531896617827\n",
      "Final Score: 1.3524948275668658\n",
      "Final Score: 1.5022257893846165\n",
      "Final Score: 2.801841961347009\n",
      "Final Score: 1.1420815519502059\n",
      "Final Score: 4.801042553126984\n",
      "Final Score: 1.2134402967390834\n",
      "Final Score: 2.1094811542128244\n",
      "Final Score: 1.114182986031471\n",
      "Final Score: 0.9385918375599804\n",
      "Final Score: 2.3533513256845975\n",
      "Final Score: 1.9727332285296062\n",
      "Final Score: 2.9990267631299505\n",
      "Final Score: 3.2858017049377053\n",
      "Final Score: 5.154779771525002\n",
      "Final Score: 3.3173932437173557\n",
      "Final Score: 1.0546840851866306\n",
      "Final Score: 2.4346824837639316\n",
      "Final Score: 5.389004021392489\n",
      "Final Score: 2.6491394978473384\n",
      "Final Score: 2.8099326961256574\n",
      "Final Score: 2.6509064026775926\n",
      "Final Score: 2.443505278919391\n",
      "Final Score: 1.125962448072771\n",
      "Final Score: 4.927991942943372\n",
      "Final Score: 4.74638467254154\n",
      "Final Score: 1.2731987938239118\n",
      "Final Score: 0.9255087450739268\n",
      "Final Score: 3.4101734566424984\n",
      "Final Score: 4.4543552828455235\n",
      "Final Score: 1.5174323333015538\n",
      "Final Score: 1.0477308828074523\n",
      "Final Score: 1.3696327284338587\n",
      "Final Score: 0.9344058577171854\n",
      "Final Score: 2.218988484682425\n",
      "Final Score: 5.323427963451124\n",
      "Final Score: 2.1186807872632745\n",
      "Final Score: 1.9214101455355481\n",
      "Final Score: 1.0178785320483965\n",
      "Final Score: 1.12826652472515\n",
      "Final Score: 1.130990744860324\n",
      "Final Score: 1.0270157121423293\n",
      "Final Score: 0.9552668512462493\n",
      "Final Score: 1.9720339859973195\n",
      "Final Score: 5.104991744498031\n",
      "Final Score: 1.2830923006918322\n",
      "Final Score: 0.9033651057720621\n",
      "Final Score: 1.0507718459873319\n",
      "Final Score: 1.0485006557062337\n",
      "Final Score: 2.8114388164376964\n",
      "Final Score: 0.8271735940344394\n",
      "Final Score: 3.522084814211759\n",
      "Final Score: 2.704854722917982\n",
      "Final Score: 1.6016286393050705\n",
      "Final Score: 2.0521352564394704\n",
      "Final Score: 3.042547427872773\n",
      "Final Score: 0.7899887510099357\n",
      "Final Score: 1.072621397747443\n",
      "Final Score: 1.0445681169787948\n",
      "Final Score: 2.1354205101878914\n",
      "Final Score: 1.3272887421737019\n",
      "Final Score: 1.1022170644631921\n",
      "Final Score: 1.5532017583131463\n",
      "Final Score: 2.5016638790972405\n",
      "Final Score: 1.1180008649373605\n",
      "Final Score: 0.9813948278546378\n",
      "Final Score: 2.136010965521229\n",
      "Final Score: 2.846440074552943\n",
      "Final Score: 1.6955446717718603\n",
      "Final Score: 0.9857089359820819\n",
      "Final Score: 1.76308471410999\n",
      "Final Score: 1.8162496513838111\n",
      "Final Score: 1.4574569618976074\n",
      "Final Score: 1.080038092079332\n",
      "Final Score: 1.2184566752162893\n",
      "Final Score: 1.1767979188615187\n",
      "Final Score: 3.153928720871705\n",
      "Final Score: 1.4827191603589491\n",
      "Final Score: 1.013685273729906\n",
      "Final Score: 1.951236902775189\n",
      "Final Score: 2.298944968292459\n",
      "Final Score: 4.3418974292168535\n",
      "Final Score: 1.910157951452316\n",
      "Final Score: 1.1193605371184536\n",
      "Final Score: 1.1336208257203044\n",
      "Final Score: 1.2370401832809477\n",
      "Final Score: 4.405429476661692\n",
      "Final Score: 1.2226302489093572\n",
      "Final Score: 1.003708424001414\n",
      "Final Score: 2.6800992697626946\n",
      "Final Score: 4.524825748302408\n",
      "Final Score: 1.1770944879958165\n",
      "Final Score: 0.9036604434101875\n",
      "Final Score: 3.513452144198732\n",
      "Final Score: 1.298868755361588\n",
      "Final Score: 0.9997836491672598\n",
      "Final Score: 1.2818869018933035\n",
      "Final Score: 2.608984922896216\n",
      "Final Score: 1.0361501084112708\n",
      "Final Score: 2.277997615304317\n",
      "Final Score: 4.9802553877677695\n",
      "Final Score: 1.3989612952130783\n",
      "Final Score: 2.028210050849945\n",
      "Final Score: 2.1455230008360897\n",
      "Final Score: 1.3389885591262305\n",
      "Final Score: 3.1566696328362918\n",
      "Final Score: 1.0293212845014348\n",
      "Final Score: 1.155065521620792\n",
      "Final Score: 1.971327378028197\n",
      "Final Score: 1.3489905756724685\n",
      "Final Score: 3.364855074843776\n",
      "Final Score: 0.9913203021457833\n",
      "Final Score: 1.6108754089766144\n",
      "Final Score: 3.1209157836505637\n",
      "Final Score: 1.7690945541692782\n",
      "Final Score: 3.2711329167785346\n",
      "Final Score: 1.1262618210831037\n",
      "Final Score: 2.263163215237862\n",
      "Final Score: 1.7690450893702017\n",
      "Final Score: 5.915612385936804\n",
      "Final Score: 4.156439093316818\n",
      "Final Score: 1.007349256271131\n",
      "Final Score: 4.93789055452575\n",
      "Final Score: 1.5496940050369385\n",
      "Final Score: 2.4354347333984663\n",
      "Final Score: 0.8530950369786184\n",
      "Final Score: 1.0287305640786195\n",
      "Final Score: 2.530902620069806\n",
      "Final Score: 1.1973036024116408\n",
      "Final Score: 4.1157961245288845\n",
      "Final Score: 0.9972244938591112\n",
      "Final Score: 3.3532833205420287\n",
      "Final Score: 1.2870600873349594\n",
      "Final Score: 1.2368444852791791\n",
      "Final Score: 3.5284020353178343\n",
      "Final Score: 2.0025307975006585\n",
      "Final Score: 3.073750532052566\n",
      "Final Score: 0.9060609034771238\n",
      "Final Score: 3.495746336635107\n",
      "Final Score: 1.9978307584287998\n",
      "Final Score: 2.686622287352093\n",
      "Final Score: 0.9098077416895968\n",
      "Final Score: 2.4491476210099394\n",
      "Final Score: 1.1160510824902632\n",
      "Final Score: 2.7770109721151703\n",
      "Final Score: 0.9475886466879195\n",
      "Final Score: 0.9604354154897314\n",
      "Final Score: 0.7693277919141261\n",
      "Final Score: 1.706381329079341\n",
      "Final Score: 1.9005594488874156\n",
      "Final Score: 4.768895475632883\n",
      "Final Score: 1.0160865108296255\n",
      "Final Score: 1.0003618998138837\n",
      "Final Score: 2.759783649167086\n",
      "Final Score: 5.228571014253016\n",
      "Final Score: 1.9799973759621055\n",
      "Final Score: 3.2253601446027904\n",
      "Final Score: 2.8861430258326437\n",
      "Final Score: 1.2889493398223173\n",
      "Final Score: 1.603219365025263\n",
      "Final Score: 5.122545078826837\n",
      "Final Score: 0.8945878279098398\n",
      "Final Score: 1.0492862704798247\n",
      "Final Score: 1.263734364887421\n",
      "Final Score: 1.0329461314619572\n",
      "Final Score: 1.2442207143498527\n",
      "Final Score: 1.0143584122548763\n",
      "Final Score: 1.9060348013250934\n",
      "Final Score: 2.4519823635273132\n",
      "Final Score: 2.8437726243010597\n",
      "Final Score: 1.5289470312200046\n",
      "Final Score: 1.2539788577691042\n",
      "Final Score: 2.280756757420666\n",
      "Final Score: 0.9101114475127019\n",
      "Final Score: 5.513962487929533\n",
      "Final Score: 0.8941420782863125\n",
      "Final Score: 2.7456755364306966\n",
      "Final Score: 3.078106361167622\n",
      "Final Score: 1.2701397770711245\n",
      "Final Score: 0.9044704668546282\n",
      "Final Score: 2.781175082073024\n",
      "Final Score: 1.389884351318131\n",
      "Final Score: 5.196596532402321\n",
      "Final Score: 4.007017177232729\n",
      "Final Score: 0.9901375388674696\n",
      "Final Score: 1.173515508453624\n",
      "Final Score: 3.9778835310471017\n",
      "Final Score: 1.3686027133233702\n",
      "Final Score: 1.2793355782981548\n",
      "Final Score: 1.2133936696796286\n",
      "Final Score: 1.2612943480136614\n",
      "Final Score: 1.5252819506868767\n",
      "Final Score: 0.935908584814288\n",
      "Final Score: 1.2550248301490092\n",
      "Final Score: 1.6689737949494587\n",
      "Final Score: 1.171905936672952\n",
      "Final Score: 1.295835168284203\n",
      "Final Score: 0.9642598100770748\n",
      "Final Score: 2.743253462348915\n",
      "Final Score: 1.014438858409705\n",
      "Final Score: 5.2339720506771235\n",
      "Final Score: 0.924322563452179\n",
      "Final Score: 1.7412669475476577\n",
      "Final Score: 4.418430504557577\n",
      "Final Score: 3.208832986127735\n",
      "Final Score: 2.420025727732242\n",
      "Final Score: 0.7712216523879745\n",
      "Final Score: 0.9329440452200835\n",
      "Final Score: 0.8088663356225351\n",
      "Final Score: 1.304345180999242\n",
      "Final Score: 2.3051327512908943\n",
      "Final Score: 1.7759971451890446\n",
      "Final Score: 3.2957104715502936\n",
      "Final Score: 2.0216839849421775\n",
      "Final Score: 0.7745193705790893\n",
      "Final Score: 5.790974973966284\n",
      "Final Score: 1.078612054651876\n",
      "Final Score: 4.640965004908563\n",
      "Final Score: 3.013446584769804\n",
      "Final Score: 0.7635523794842494\n",
      "Final Score: 1.5590039699788674\n",
      "Final Score: 1.5111562840257782\n",
      "Final Score: 1.1236259550221543\n",
      "Final Score: 0.9236739858326442\n",
      "Final Score: 1.2349286530930363\n",
      "Final Score: 5.4719489260014464\n",
      "Final Score: 3.1186615789714898\n",
      "Final Score: 1.257331339845801\n",
      "Final Score: 1.9386200466408074\n",
      "Final Score: 2.701390529948789\n",
      "Final Score: 1.0651833860399864\n",
      "Final Score: 3.061763008624629\n",
      "Final Score: 2.190940620813086\n",
      "Final Score: 1.7112521516843116\n",
      "Final Score: 4.656240356878091\n",
      "Final Score: 1.1073320440155718\n",
      "Final Score: 1.0924721696833963\n",
      "Final Score: 1.0985616131695863\n",
      "Final Score: 1.2993166804029084\n",
      "Final Score: 1.0151551411457818\n",
      "Final Score: 0.7909406509352989\n",
      "Final Score: 2.239719932420173\n",
      "Final Score: 1.0207455627110704\n",
      "Final Score: 1.0462344766240672\n",
      "Final Score: 2.2812509388245026\n",
      "Final Score: 1.0578252656247717\n",
      "Final Score: 2.037084370934967\n",
      "Final Score: 5.026686119725281\n",
      "Final Score: 0.9071383369577617\n",
      "Final Score: 3.332557385843736\n",
      "Final Score: 0.924897237435785\n",
      "Final Score: 0.8579584325656235\n",
      "Final Score: 0.8564793919019129\n",
      "Final Score: 1.2324573838084332\n",
      "Final Score: 1.4285181849115125\n",
      "Final Score: 1.16503573738634\n",
      "Final Score: 0.8953098010458044\n",
      "Final Score: 5.270527751800489\n",
      "Final Score: 0.9356985158970619\n",
      "Final Score: 1.58195261583371\n",
      "Final Score: 0.8560111606812493\n",
      "Final Score: 1.3925161727662902\n",
      "Final Score: 2.5867764353653424\n",
      "Final Score: 1.3113525931555658\n",
      "Final Score: 1.598820839204228\n",
      "Final Score: 2.127074138334103\n",
      "Final Score: 2.3368836895325167\n",
      "Final Score: 1.9045798929778703\n",
      "Final Score: 0.8362273820487177\n",
      "Final Score: 1.028875439287664\n",
      "Final Score: 1.88560988631949\n",
      "Final Score: 0.9705815195890412\n",
      "Final Score: 1.8476657698762726\n",
      "Final Score: 1.0819742219182111\n",
      "Final Score: 1.6307413441393641\n",
      "Final Score: 0.8853826383226043\n",
      "Final Score: 0.9389088311894414\n",
      "Final Score: 0.8340632363192355\n",
      "Final Score: 1.03477987512464\n",
      "Final Score: 3.301465608070199\n",
      "Final Score: 0.7779657067028646\n",
      "Final Score: 1.0349904875653007\n",
      "Final Score: 0.908298061941481\n",
      "Final Score: 0.7467460121645114\n",
      "Final Score: 1.896553157489308\n",
      "Final Score: 1.6008237451953453\n",
      "Final Score: 4.889121016298689\n",
      "Final Score: 0.9292141676469561\n",
      "Final Score: 1.3814971492038923\n",
      "Final Score: 1.0019203624876114\n",
      "Final Score: 1.2276248934692018\n",
      "Final Score: 0.915868997170798\n",
      "Final Score: 1.0236125915979317\n",
      "Final Score: 3.1709526524504135\n",
      "Final Score: 1.2526392985457802\n",
      "Final Score: 0.8783557483407057\n",
      "Final Score: 0.9941823038424442\n",
      "Final Score: 1.5290770449490279\n",
      "Final Score: 4.260491557089926\n",
      "Final Score: 1.0379877330683271\n",
      "Final Score: 3.345206706453327\n",
      "Final Score: 0.9846315350490584\n",
      "Final Score: 3.7740520813003475\n",
      "Final Score: 1.0512111826225297\n",
      "Final Score: 2.5826635704985157\n",
      "Final Score: 2.598406853602678\n",
      "Final Score: 1.457204831949955\n",
      "Final Score: 2.7928230085414576\n",
      "Final Score: 0.9803271231665003\n",
      "Final Score: 3.0654932983804084\n",
      "Final Score: 2.8897455363659708\n",
      "Final Score: 0.8843577047763296\n",
      "Final Score: 0.8477575622945874\n",
      "Final Score: 1.3201158145939693\n",
      "Final Score: 4.050297969609544\n",
      "Final Score: 1.1703917620566857\n",
      "Final Score: 3.026608342299746\n",
      "Final Score: 0.9725938614849451\n",
      "Final Score: 5.045404097843738\n",
      "Final Score: 0.8987516944488239\n",
      "Final Score: 1.2252340183181398\n",
      "Final Score: 1.6547877651663714\n",
      "Final Score: 4.671127939404731\n",
      "Final Score: 1.4096330735678144\n",
      "Final Score: 0.8517689604842104\n",
      "Final Score: 1.254787251708608\n",
      "Final Score: 1.2437559246163312\n",
      "Final Score: 2.321294875080864\n",
      "Final Score: 0.9384949289783007\n",
      "Final Score: 2.8169217112268607\n",
      "Final Score: 0.907718599351681\n",
      "Final Score: 1.4896039094097902\n",
      "Final Score: 0.9572281203901842\n",
      "Final Score: 3.8133998199841375\n",
      "Final Score: 1.4448399234465836\n",
      "Final Score: 0.8679434352087302\n",
      "Final Score: 4.859257874714022\n",
      "Final Score: 2.8169265300670987\n",
      "Final Score: 1.7305162421420595\n",
      "Final Score: 1.970820066544039\n",
      "Final Score: 5.908559220851668\n",
      "Final Score: 1.984509999605002\n",
      "Final Score: 1.0831150320109213\n",
      "Final Score: 2.117116074193298\n",
      "Final Score: 1.816632407445724\n",
      "Final Score: 0.9089696064175381\n",
      "Final Score: 1.7753876616772732\n",
      "Final Score: 1.1509823108594286\n",
      "Final Score: 3.3183848400949048\n",
      "Final Score: 2.2288339656573495\n",
      "Final Score: 2.975475397562914\n",
      "Final Score: 2.658431496160233\n",
      "Final Score: 3.767907649561314\n",
      "Final Score: 2.2891835856659366\n",
      "Final Score: 3.3517121014353113\n",
      "Final Score: 3.0834584635672306\n",
      "Final Score: 3.214447266653102\n",
      "Final Score: 0.8556868392810142\n",
      "Final Score: 1.1586139086296026\n",
      "Final Score: 2.9193489238242156\n",
      "Final Score: 1.1145339674365065\n",
      "Final Score: 0.8941373094432812\n",
      "Final Score: 0.9189069140716011\n",
      "Final Score: 1.1527605885141046\n",
      "Final Score: 1.263579356030212\n",
      "Final Score: 2.2765908066971563\n",
      "Final Score: 1.1910961340648702\n",
      "Final Score: 0.8126655136562589\n",
      "Final Score: 2.611569871280146\n",
      "Final Score: 0.8457276075960264\n",
      "Final Score: 1.0033728771073114\n",
      "Final Score: 1.2654006714183645\n",
      "Final Score: 4.932159039515112\n",
      "Final Score: 3.0658260952181458\n",
      "Final Score: 4.835825223504552\n",
      "Final Score: 0.8021437088120044\n",
      "Final Score: 4.490810939221377\n",
      "Final Score: 0.9881962424904966\n",
      "Final Score: 0.944694531318676\n",
      "Final Score: 2.1443383863398533\n",
      "Final Score: 2.779910970686536\n",
      "Final Score: 2.670485175224999\n",
      "Final Score: 1.049349660577155\n",
      "Final Score: 2.9658697602065267\n",
      "Final Score: 5.701157804036031\n",
      "Final Score: 1.014655119656259\n",
      "Final Score: 2.3701012628413167\n",
      "Final Score: 3.220857562336402\n",
      "Final Score: 1.3152746011525775\n",
      "Final Score: 1.1270815972969297\n",
      "Final Score: 3.1770888749786463\n",
      "Final Score: 0.9690132091586876\n",
      "Final Score: 1.9995168628158575\n",
      "Final Score: 0.983330194568197\n",
      "Final Score: 1.0064228242931716\n",
      "Final Score: 1.0056877544700882\n",
      "Final Score: 0.9196250982681624\n",
      "Final Score: 2.0821198057837655\n",
      "Final Score: 1.3639814989309924\n",
      "Final Score: 3.2128066460235827\n",
      "Final Score: 2.7129825207742786\n",
      "Final Score: 2.8445977697327796\n",
      "Final Score: 2.418697696686338\n",
      "Final Score: 0.9535824995881942\n",
      "Final Score: 0.8905120739593704\n",
      "Final Score: 2.330732732906911\n",
      "Final Score: 2.7522255460695\n",
      "Final Score: 1.1227804883926549\n",
      "Final Score: 4.301651899236395\n",
      "Final Score: 3.0288008797977866\n",
      "Final Score: 2.341494497405064\n",
      "Final Score: 1.3372769300584462\n",
      "Final Score: 2.7378996225268026\n",
      "Final Score: 0.8799521529908592\n",
      "Final Score: 3.861234950154228\n",
      "Final Score: 2.451812283547425\n",
      "Final Score: 2.7949725325104815\n",
      "Final Score: 4.5237974380022825\n",
      "Final Score: 1.0152638172067023\n",
      "Final Score: 2.498999507315042\n",
      "Final Score: 4.50405025912176\n",
      "Final Score: 2.9676993865110997\n",
      "Final Score: 1.0948274390686237\n",
      "Final Score: 5.7946954081484\n",
      "Final Score: 0.847337507787803\n",
      "Final Score: 1.1068542734761242\n",
      "Final Score: 1.2396133773102789\n",
      "Final Score: 1.9584309433333695\n",
      "Final Score: 0.9109824854449583\n",
      "Final Score: 2.1401537624477736\n",
      "Final Score: 3.5649209009580076\n",
      "Final Score: 1.0144378283943087\n",
      "Final Score: 0.7793530318596753\n",
      "Final Score: 3.1647069209915064\n",
      "Final Score: 1.0104733393481826\n",
      "Final Score: 0.8253823764063611\n",
      "Final Score: 4.479731819025893\n",
      "Final Score: 1.3213281691984364\n",
      "Final Score: 2.9464180568045597\n",
      "Final Score: 1.1540547845405529\n",
      "Final Score: 1.1547501326223126\n",
      "Final Score: 1.7287835596080479\n",
      "Final Score: 1.0578516254917238\n",
      "Final Score: 0.8169892959983583\n",
      "Final Score: 2.6719242393708855\n",
      "Final Score: 3.3863177819078327\n",
      "Final Score: 1.192315223191569\n",
      "Final Score: 3.9487596187993015\n",
      "Final Score: 2.684159415476689\n",
      "Final Score: 1.4793328794317078\n",
      "Final Score: 3.937008172267377\n",
      "Final Score: 1.825795826464986\n",
      "Final Score: 2.9696325250446343\n",
      "Final Score: 1.3385888235565282\n",
      "Final Score: 2.917883505099198\n",
      "Final Score: 1.2304251516059108\n",
      "Final Score: 4.037284731785581\n",
      "Final Score: 2.3619247298346706\n",
      "Final Score: 1.0793016009512697\n",
      "Final Score: 1.9661309721912814\n",
      "Final Score: 2.053969034279526\n",
      "Final Score: 2.4534655146512865\n",
      "Final Score: 4.224403438648387\n",
      "Final Score: 1.0558249229887924\n",
      "Final Score: 1.8922428275840963\n",
      "Final Score: 5.074982369504437\n",
      "Final Score: 4.523975323951879\n",
      "Final Score: 1.2154748837543936\n",
      "Final Score: 2.5229824674475303\n",
      "Final Score: 2.1797781672061594\n",
      "Final Score: 1.080879679679066\n",
      "Final Score: 2.9137869591391317\n",
      "Final Score: 1.0451870657401972\n",
      "Final Score: 4.752186916762478\n",
      "Final Score: 0.956072818281054\n",
      "Final Score: 0.8486969940098303\n",
      "Final Score: 0.9163092833932476\n",
      "Final Score: 2.1462855723647993\n",
      "Final Score: 0.8858783855750668\n",
      "Final Score: 2.410352218145235\n",
      "Final Score: 1.7383179337148484\n",
      "Final Score: 1.0327078396715041\n",
      "Final Score: 0.8893813138333849\n",
      "Final Score: 3.3138314686601413\n",
      "Final Score: 1.0352366882216661\n",
      "Final Score: 2.144074930590689\n",
      "Final Score: 1.500015902986812\n",
      "Final Score: 3.9993648517328406\n",
      "Final Score: 1.1271995217098774\n",
      "Final Score: 0.9677450779257714\n",
      "Final Score: 1.5186499630360852\n",
      "Final Score: 0.9025810448842444\n",
      "Final Score: 5.41138308577001\n",
      "Final Score: 1.4524095766514407\n",
      "Final Score: 1.1496815427408063\n",
      "Final Score: 1.0346506059761815\n",
      "Final Score: 0.932674072753263\n",
      "Final Score: 1.05614553266021\n",
      "Final Score: 1.0030536685666023\n",
      "Final Score: 1.0336120342769164\n",
      "Final Score: 1.147849005289494\n",
      "Final Score: 0.800686710684233\n",
      "Final Score: 4.423672203895768\n",
      "Final Score: 3.0475555593133508\n",
      "Final Score: 3.3268822251713193\n",
      "Final Score: 2.144949017593305\n",
      "Final Score: 1.1425667902238992\n",
      "Final Score: 3.978846854257918\n",
      "Final Score: 0.8939985473763717\n",
      "Final Score: 1.6411724417777829\n",
      "Final Score: 2.1991713763212744\n",
      "Final Score: 1.3117186303857131\n",
      "Final Score: 1.7618584600590006\n",
      "Final Score: 3.558590794595834\n",
      "Final Score: 2.501309507123449\n",
      "Final Score: 1.0855317152840547\n",
      "Final Score: 1.4785270526552508\n",
      "Final Score: 2.4212492386706908\n",
      "Final Score: 1.835028926579191\n",
      "Final Score: 2.106774902213468\n",
      "Final Score: 1.7510492473136972\n",
      "Final Score: 1.254045933593878\n",
      "Final Score: 1.1082895760902929\n",
      "Final Score: 2.4374911750053974\n",
      "Final Score: 1.1349040601891023\n",
      "Final Score: 0.9363563689229826\n",
      "Final Score: 2.030719424205616\n",
      "Final Score: 1.0902144037585757\n",
      "Final Score: 2.9707564404852125\n",
      "Final Score: 2.975251547233597\n",
      "Final Score: 3.6310281368880286\n",
      "Final Score: 2.0273958711486233\n",
      "Final Score: 1.3283739940939443\n",
      "Final Score: 0.8218929820624687\n",
      "Final Score: 1.117691376712204\n",
      "Final Score: 1.993643881895355\n",
      "Final Score: 1.171957842831519\n",
      "Final Score: 1.1789966407988286\n",
      "Final Score: 1.0697370742895116\n",
      "Final Score: 1.237618762350119\n",
      "Final Score: 2.579559648593209\n",
      "Final Score: 4.549795558652554\n",
      "Final Score: 5.3861088798487415\n",
      "Final Score: 2.125551822589925\n",
      "Final Score: 2.299840354096749\n",
      "Final Score: 5.635437210617457\n",
      "Final Score: 3.8807148358154606\n",
      "Final Score: 2.005952320604543\n",
      "Final Score: 1.2792827016056283\n",
      "Final Score: 3.2400878451483757\n",
      "Final Score: 1.1295907547806254\n",
      "Final Score: 1.1974145915984615\n",
      "Final Score: 1.8743957784483074\n",
      "Final Score: 1.0907376007080978\n",
      "Final Score: 3.144730894778478\n",
      "Final Score: 1.09852008446742\n",
      "Final Score: 0.930699669531502\n",
      "Final Score: 1.0226547285304712\n",
      "Final Score: 2.0233981192884403\n",
      "Final Score: 0.8330159433887294\n",
      "Final Score: 0.8444370468609391\n",
      "Final Score: 0.8506634219492806\n",
      "Final Score: 2.235817328778836\n",
      "Final Score: 3.512742737702287\n",
      "Final Score: 1.722480010404328\n",
      "Final Score: 1.290989153581831\n",
      "Final Score: 2.314069109529428\n",
      "Final Score: 1.4065717256433259\n",
      "Final Score: 0.8386762920620799\n",
      "Final Score: 1.0072008486657134\n",
      "Final Score: 2.686824309685174\n",
      "Final Score: 0.9261813441497595\n",
      "Final Score: 2.4670645636667152\n",
      "Final Score: 4.81465669370923\n",
      "Final Score: 2.2285319552209435\n",
      "Final Score: 0.9718280120770126\n",
      "Final Score: 0.9716846167608723\n",
      "Final Score: 0.9939080726456837\n",
      "Final Score: 1.0649286183270315\n",
      "Final Score: 0.9997380418074153\n",
      "Final Score: 2.5433171099686196\n",
      "Final Score: 1.2189297519968028\n",
      "Final Score: 1.8365232265289746\n",
      "Final Score: 0.9430530262638708\n",
      "Final Score: 2.5191167552332754\n",
      "Final Score: 3.4623147283853384\n",
      "Final Score: 3.3715450277968095\n",
      "Final Score: 2.9124427524713745\n",
      "Final Score: 1.1873917629770983\n",
      "Final Score: 2.365773340126201\n",
      "Final Score: 1.091633633670554\n",
      "Final Score: 3.1304431883025807\n",
      "Final Score: 2.427658820559901\n",
      "Final Score: 1.0643131050453722\n",
      "Final Score: 2.0587273652935636\n",
      "Final Score: 2.48053695623181\n",
      "Final Score: 2.6921110926641454\n",
      "Final Score: 1.0602400230521962\n",
      "Final Score: 2.6633492751508103\n",
      "Final Score: 1.2053652399687866\n",
      "Final Score: 2.1542617413293943\n",
      "Final Score: 1.2561730344145337\n",
      "Final Score: 4.816236851417183\n",
      "Final Score: 2.0464336533426044\n",
      "Final Score: 3.105987509883346\n",
      "Final Score: 1.009652862904224\n",
      "Final Score: 2.594356325344551\n",
      "Final Score: 1.5489562625565365\n",
      "Final Score: 0.981296083351507\n",
      "Final Score: 1.306536703456155\n",
      "Final Score: 1.028864994165756\n",
      "Final Score: 0.9988017331146717\n",
      "Final Score: 3.06045524327738\n",
      "Final Score: 2.5145348398876854\n",
      "Final Score: 2.3123453506412837\n",
      "Final Score: 2.2824698932385363\n",
      "Final Score: 2.7678952553372245\n",
      "Final Score: 1.0416557513770277\n",
      "Final Score: 3.387398054158626\n",
      "Final Score: 3.1259474915932426\n",
      "Final Score: 2.4640152665753448\n",
      "Final Score: 1.4212153995828178\n",
      "Final Score: 1.954613425087845\n",
      "Final Score: 2.6942044916626537\n",
      "Final Score: 2.9633656722091937\n",
      "Final Score: 2.366796779582111\n",
      "Final Score: 0.9808814607500322\n",
      "Final Score: 1.0838881359280552\n",
      "Final Score: 4.3411959470254065\n",
      "Final Score: 1.6224395903767528\n",
      "Final Score: 3.8301484437580635\n",
      "Final Score: 1.000254538630633\n",
      "Final Score: 3.7470060664606475\n",
      "Final Score: 2.139885514293692\n",
      "Final Score: 1.3372904344631285\n",
      "Final Score: 1.0139881544131673\n",
      "Final Score: 1.7951830798128068\n",
      "Final Score: 1.0231229540559108\n",
      "Final Score: 2.218367256530906\n",
      "Final Score: 2.695812193955133\n",
      "Final Score: 2.0989718157970567\n",
      "Final Score: 1.0365253713763314\n",
      "Final Score: 0.8985328488748479\n",
      "Final Score: 2.623275416351414\n",
      "Final Score: 3.930837364411107\n",
      "Final Score: 1.327642385982143\n",
      "Final Score: 2.4720991369527687\n",
      "Final Score: 1.026549092897407\n",
      "Final Score: 1.1694205831465423\n",
      "Final Score: 2.5730275620829426\n",
      "Final Score: 0.9778514192193922\n",
      "Final Score: 1.4978395739948804\n",
      "Final Score: 0.9384798580770303\n",
      "Final Score: 0.8688203367641858\n",
      "Final Score: 0.8557586541373894\n",
      "Final Score: 2.724377549100139\n",
      "Final Score: 2.469818394615663\n",
      "Final Score: 1.4401460862973172\n",
      "Final Score: 0.9489218747541729\n",
      "Final Score: 4.138482843885027\n",
      "Final Score: 3.532905577758172\n",
      "Final Score: 4.343384616775767\n",
      "Final Score: 2.728749666814071\n",
      "Final Score: 1.1603435534465318\n",
      "Final Score: 5.546052237593784\n",
      "Final Score: 2.5229259489146476\n",
      "Final Score: 1.780677294773698\n",
      "Final Score: 3.2740747574992923\n",
      "Final Score: 0.9826516068514555\n",
      "Final Score: 3.660969416935643\n",
      "Final Score: 2.445279741746841\n",
      "Final Score: 4.54949867423105\n",
      "Final Score: 3.5455234569493603\n",
      "Final Score: 2.824965293307388\n",
      "Final Score: 3.4115687935118792\n",
      "Final Score: 1.2445244872451067\n",
      "Final Score: 1.2434376348419907\n",
      "Final Score: 1.1788795203101687\n",
      "Final Score: 2.2583525628520142\n",
      "Final Score: 5.905424181418255\n",
      "Final Score: 1.1768102557302316\n",
      "Final Score: 4.036770816604712\n",
      "Final Score: 1.1302455648233622\n",
      "Final Score: 2.0592682071074417\n",
      "Final Score: 1.0669808789335562\n",
      "Final Score: 5.189446540162079\n",
      "Final Score: 0.831881049785858\n",
      "Final Score: 1.0766250144945755\n",
      "Final Score: 1.01476503672759\n",
      "Final Score: 1.2646083032820363\n",
      "Final Score: 1.7385605544645077\n",
      "Final Score: 1.1609732957256824\n",
      "Final Score: 1.120312709293509\n",
      "Final Score: 0.9125276147186244\n",
      "Final Score: 1.1694845558972304\n",
      "Final Score: 1.2089082361121544\n",
      "Final Score: 3.61027842787282\n",
      "Final Score: 1.239927224157491\n",
      "Final Score: 1.2551914030874576\n",
      "Final Score: 4.156566101949812\n",
      "Final Score: 1.2675957851529533\n",
      "Final Score: 1.304229209680947\n",
      "Final Score: 0.9372759759660259\n",
      "Final Score: 1.0480670587894862\n",
      "Final Score: 4.168755254863087\n",
      "Final Score: 1.1573678480915113\n",
      "Final Score: 1.904580253207397\n",
      "Final Score: 2.554835838205376\n",
      "Final Score: 1.6011870941797106\n",
      "Final Score: 2.3229155602725275\n",
      "Final Score: 1.2131649082529523\n",
      "Final Score: 1.2737404239480865\n",
      "Final Score: 0.972686121699625\n",
      "Final Score: 1.0441052427545126\n",
      "Final Score: 2.8316917250804474\n",
      "Final Score: 1.394735181630641\n",
      "Final Score: 0.9286441631901143\n",
      "Final Score: 2.2122481111616294\n",
      "Final Score: 1.0745970161045442\n",
      "Final Score: 2.4613792412656674\n",
      "Final Score: 4.364919675342963\n",
      "Final Score: 3.0250497876826206\n",
      "Final Score: 1.2370431723056639\n",
      "Final Score: 2.4451728068886727\n",
      "Final Score: 2.3226024925310145\n",
      "Final Score: 1.467163834517713\n",
      "Final Score: 2.350671050465233\n",
      "Final Score: 1.583869363238755\n",
      "Final Score: 2.7088582518287776\n",
      "Final Score: 2.6262160336997846\n",
      "Final Score: 1.0307620507383044\n",
      "Final Score: 5.192933550296036\n",
      "Final Score: 1.6887836807127357\n",
      "Final Score: 2.752738391879138\n",
      "Final Score: 1.5399412898293634\n",
      "Final Score: 0.9779476886305378\n",
      "Final Score: 2.3958611493935846\n",
      "Final Score: 5.018474330593468\n",
      "Final Score: 2.1188171904840605\n",
      "Final Score: 1.14693588519741\n",
      "Final Score: 1.1052096453662466\n",
      "Final Score: 0.9560862217242672\n",
      "Final Score: 0.8332903386456088\n",
      "Final Score: 1.2244798056553308\n",
      "Final Score: 2.9072670166079684\n",
      "Final Score: 1.0595536454076542\n",
      "Final Score: 2.8351060283480214\n",
      "Final Score: 4.078827586790728\n",
      "Final Score: 4.121824045041482\n",
      "Final Score: 4.510495811272891\n",
      "Final Score: 4.519143029885582\n",
      "Final Score: 1.1683227925631243\n",
      "Final Score: 0.8221192336714612\n",
      "Final Score: 4.001224363760193\n",
      "Final Score: 1.8790866436423261\n",
      "Final Score: 1.731000625672253\n",
      "Final Score: 2.0626833493615586\n",
      "Final Score: 1.7112791809193137\n",
      "Final Score: 3.1227691327420466\n",
      "Final Score: 2.584608322067934\n",
      "Final Score: 1.1990707628760573\n",
      "Final Score: 1.9470663411380562\n",
      "Final Score: 0.9854974981057683\n",
      "Final Score: 1.0242385511889025\n",
      "Final Score: 0.9644752971304725\n",
      "Final Score: 1.8860063819450552\n",
      "Final Score: 0.8454814427101637\n",
      "Final Score: 5.679324315580462\n",
      "Final Score: 1.0433481342645337\n",
      "Final Score: 0.7911962430393392\n",
      "Final Score: 4.286982693516009\n",
      "Final Score: 1.8206752910874024\n",
      "Final Score: 1.0359357398360407\n",
      "Final Score: 2.492133402265755\n",
      "Final Score: 1.171459805991252\n",
      "Final Score: 1.1438512345218166\n",
      "Final Score: 1.457405348337402\n",
      "Final Score: 4.745965119780352\n",
      "Final Score: 1.1796166847394736\n",
      "Final Score: 1.0036157339356726\n",
      "Final Score: 2.8190547794830296\n",
      "Final Score: 1.9426721757515701\n",
      "Final Score: 0.8170063756549077\n",
      "Final Score: 0.8442233516025508\n",
      "Final Score: 2.7310531140454817\n",
      "Final Score: 2.0834863900323923\n",
      "Final Score: 2.7223621887535243\n",
      "Final Score: 2.0305260953912496\n",
      "Final Score: 3.289580859105579\n",
      "Final Score: 4.801342472775842\n",
      "Final Score: 2.0699449594441495\n",
      "Final Score: 3.771233943116663\n",
      "Final Score: 1.1247026017667336\n",
      "Final Score: 4.147594374414376\n",
      "Final Score: 0.9964496160540538\n",
      "Final Score: 2.906555509064882\n",
      "Final Score: 2.1209131997507065\n",
      "Final Score: 2.4271095342967923\n",
      "Final Score: 2.0979647051121693\n",
      "Final Score: 2.1532616077040694\n",
      "Final Score: 5.719523408913625\n",
      "Final Score: 2.1911378381122835\n",
      "Final Score: 4.589443532531626\n",
      "Final Score: 3.277233587258104\n",
      "Final Score: 0.907610818208332\n",
      "Final Score: 1.7033134293614398\n",
      "Final Score: 0.8659242666787454\n",
      "Final Score: 0.9409811224946165\n",
      "Final Score: 4.914433809025194\n",
      "Final Score: 1.4472126916136132\n",
      "Final Score: 4.8246397767270635\n",
      "Final Score: 2.4137481003452126\n",
      "Final Score: 4.458156871074693\n",
      "Final Score: 1.1434575272170853\n",
      "Final Score: 2.067039488475393\n",
      "Final Score: 1.0238561682887046\n",
      "Final Score: 1.2863447151927134\n",
      "Final Score: 5.878069945534276\n",
      "Final Score: 1.1796032622372767\n",
      "Final Score: 1.0119063447705243\n",
      "Final Score: 3.0974625527875626\n",
      "Final Score: 2.649727168710866\n",
      "Final Score: 3.3356333389763018\n",
      "Final Score: 1.0076250591237152\n",
      "Final Score: 1.4414479749484537\n",
      "Final Score: 2.464778557428774\n",
      "Final Score: 4.982299474230379\n",
      "Final Score: 3.05097441127082\n",
      "Final Score: 0.819435124611202\n",
      "Final Score: 2.5340528640516458\n",
      "Final Score: 1.0077040339489975\n",
      "Final Score: 2.3120073166435535\n",
      "Final Score: 3.0238687260405896\n",
      "Final Score: 3.6146299410005023\n",
      "Final Score: 3.7590517878569467\n",
      "Final Score: 1.1307274334073099\n",
      "Final Score: 1.092173527210138\n",
      "Final Score: 0.9647239433709797\n",
      "Final Score: 1.0029651422484884\n",
      "Final Score: 0.9734716459363019\n",
      "Final Score: 2.3559629142173417\n",
      "Final Score: 1.0337546710570347\n",
      "Final Score: 1.5356131012356196\n",
      "Final Score: 1.8042762741908507\n",
      "Final Score: 3.9436283567315202\n",
      "Final Score: 2.4697297525799606\n",
      "Final Score: 4.300496708259648\n",
      "Final Score: 1.8053427018130352\n",
      "Final Score: 2.098803588465703\n",
      "Final Score: 2.8450976431206403\n",
      "Final Score: 0.892916671148315\n",
      "Final Score: 2.5632738651692626\n",
      "Final Score: 2.975403204167035\n",
      "Final Score: 1.0257261172922432\n",
      "Final Score: 1.0704219004856828\n",
      "Final Score: 3.997429789437655\n",
      "Final Score: 1.0147050311262604\n",
      "Final Score: 2.9452967769502436\n",
      "Final Score: 1.410828380761279\n",
      "Final Score: 1.9221121593317112\n",
      "Final Score: 2.450409085087947\n",
      "Final Score: 3.8147852574019585\n",
      "Final Score: 1.0454634712322133\n",
      "Final Score: 1.9083001182272836\n",
      "Final Score: 0.9780108863341466\n",
      "Final Score: 2.596617734375922\n",
      "Final Score: 3.7896806395357885\n",
      "Final Score: 0.8936934151034636\n",
      "Final Score: 2.590117401041298\n",
      "Final Score: 0.9194411528124002\n",
      "Final Score: 1.190173517324117\n",
      "Final Score: 1.00205196302528\n",
      "Final Score: 1.5185069172576937\n",
      "Final Score: 5.320409121154093\n",
      "Final Score: 3.018353001680093\n",
      "Final Score: 3.592853057833617\n",
      "Final Score: 4.435230373165378\n",
      "Final Score: 1.035279981343845\n",
      "Final Score: 1.4263482994362977\n",
      "Final Score: 3.357865843020874\n",
      "Final Score: 1.1381937604949384\n",
      "Final Score: 1.0680143088985457\n",
      "Final Score: 1.2172786481641615\n",
      "Final Score: 1.0044267321631415\n",
      "Final Score: 2.6523925771491164\n",
      "Final Score: 2.843336077117795\n",
      "Final Score: 2.2177444535244746\n",
      "Final Score: 4.048035894078248\n",
      "Final Score: 3.384308419137482\n",
      "Final Score: 1.8716991936070144\n",
      "Final Score: 2.110654438509926\n",
      "Final Score: 5.403533980122416\n",
      "Final Score: 3.718442243446022\n",
      "Final Score: 3.7216681104199973\n",
      "Final Score: 1.0398796793815994\n",
      "Final Score: 0.8066627015294614\n",
      "Final Score: 1.7044583607102293\n",
      "Final Score: 1.4116559959152422\n",
      "Final Score: 1.9475237567681913\n",
      "Final Score: 5.478038724270629\n",
      "Final Score: 1.0960329358398986\n",
      "Final Score: 1.0618735820252492\n",
      "Final Score: 1.0699607438159866\n",
      "Final Score: 1.4884391343544023\n",
      "Final Score: 0.9965673771931498\n",
      "Final Score: 1.9585278191950346\n",
      "Final Score: 1.1376544438027962\n",
      "Final Score: 5.611423583128731\n",
      "Final Score: 1.514483477968248\n",
      "Final Score: 0.9194340644200028\n",
      "Final Score: 2.43064599740278\n",
      "Final Score: 3.5047609340752475\n",
      "Final Score: 3.6089869770731395\n",
      "Final Score: 4.526510471632514\n",
      "Final Score: 5.165283099763003\n",
      "Final Score: 0.950922230688771\n",
      "Final Score: 1.1654281086570855\n",
      "Final Score: 0.9358995926283199\n",
      "Final Score: 2.7462793657025086\n",
      "Final Score: 1.1036553807974605\n",
      "Final Score: 2.1892130987516714\n",
      "Final Score: 2.7939642323374803\n",
      "Final Score: 1.8022189441870775\n",
      "Final Score: 0.875238127189193\n",
      "Final Score: 3.644889944217433\n",
      "Final Score: 1.027442177341117\n",
      "Final Score: 5.745241508678225\n",
      "Final Score: 0.9966463468353547\n",
      "Final Score: 5.3975316966523055\n",
      "Final Score: 1.0985268563747475\n",
      "Final Score: 0.893346185612251\n",
      "Final Score: 1.1277225776564495\n",
      "Final Score: 5.708521021510223\n",
      "Final Score: 0.9828423954222837\n",
      "Final Score: 1.5560982689165188\n",
      "Final Score: 2.904619411716422\n",
      "Final Score: 1.2228769508028274\n",
      "Final Score: 3.4592626528467814\n",
      "Final Score: 3.0220676670083213\n",
      "Final Score: 1.2823304393731816\n",
      "Final Score: 5.70522434834192\n",
      "Final Score: 1.1936865164828632\n",
      "Final Score: 1.2495886175482593\n",
      "Final Score: 2.598769598563717\n",
      "Final Score: 1.7852742640047683\n",
      "Final Score: 1.065848806517817\n",
      "Final Score: 0.9906844179308973\n",
      "Final Score: 1.4796958548581745\n",
      "Final Score: 4.53745895023535\n",
      "Final Score: 3.125633458488882\n",
      "Final Score: 1.043708631425129\n",
      "Final Score: 1.0366845357456362\n",
      "Final Score: 1.06839306617213\n",
      "Final Score: 1.378946686577861\n",
      "Final Score: 5.0963773767991665\n",
      "Final Score: 2.4328644453464054\n",
      "Final Score: 0.8351006419090803\n",
      "Final Score: 2.3768982669374448\n",
      "Final Score: 1.2048016498042995\n",
      "Final Score: 1.292976874663628\n",
      "Final Score: 1.1071862062568343\n",
      "Final Score: 3.862871812187485\n",
      "Final Score: 1.9574277633678074\n",
      "Final Score: 2.4843731094345\n",
      "Final Score: 2.1793290844780637\n",
      "Final Score: 3.8000364735818373\n",
      "Final Score: 3.0633724420876485\n",
      "Final Score: 1.3291285021832047\n",
      "Final Score: 0.8449189902877353\n",
      "Final Score: 1.2981628414075947\n",
      "Final Score: 4.979234678349249\n",
      "Final Score: 1.253548899416229\n",
      "Final Score: 3.3664094264649314\n",
      "Final Score: 3.8653470462522477\n",
      "Final Score: 0.9235016410765167\n",
      "Final Score: 0.8752500618382573\n",
      "Final Score: 3.824883671578644\n",
      "Final Score: 3.8352317346032034\n",
      "Final Score: 0.9802397758076458\n",
      "Final Score: 1.7448092760188918\n",
      "Final Score: 0.8620961376276258\n",
      "Final Score: 1.807992738400109\n",
      "Final Score: 0.7460698796850846\n",
      "Final Score: 5.596681411950235\n",
      "Final Score: 2.08356791377172\n",
      "Final Score: 1.2800544510141556\n",
      "Final Score: 2.1978428286082794\n",
      "Final Score: 1.1040977787888813\n",
      "Final Score: 1.138900101870878\n",
      "Final Score: 1.9805059483630756\n",
      "Final Score: 2.196802367314565\n",
      "Final Score: 2.6236195519624896\n",
      "Final Score: 3.680307207817672\n",
      "Final Score: 1.0743437760604584\n",
      "Final Score: 0.9582209837965496\n",
      "Final Score: 0.8772042754135736\n",
      "Final Score: 2.911777366330137\n",
      "Final Score: 2.150429463076051\n",
      "Final Score: 2.8266915041689744\n",
      "Final Score: 1.3838704210027037\n",
      "Final Score: 4.427358953113508\n",
      "Final Score: 0.9598633771970521\n",
      "Final Score: 4.039156501200802\n",
      "Final Score: 1.2534084637582232\n",
      "Final Score: 0.8054352641820145\n",
      "Final Score: 0.972047562608125\n",
      "Final Score: 5.971806159099664\n",
      "Final Score: 4.60221572773521\n",
      "Final Score: 2.393474684152151\n",
      "Final Score: 1.2717541988080945\n",
      "Final Score: 0.9607517109320332\n",
      "Final Score: 1.8796465742639152\n",
      "Final Score: 1.0594317996125842\n",
      "Final Score: 1.1615918370035545\n",
      "Final Score: 1.0584988395355255\n",
      "Final Score: 0.9910883727554919\n",
      "Final Score: 1.0636226378415286\n",
      "Final Score: 1.122586988722884\n",
      "Final Score: 0.7491482610545136\n",
      "Final Score: 1.0524177891334556\n",
      "Final Score: 0.8788685605569109\n",
      "Final Score: 1.1701331563249036\n",
      "Final Score: 3.911579496539681\n",
      "Final Score: 0.9471884983854505\n",
      "Final Score: 4.601231398700644\n",
      "Final Score: 2.079243847204274\n",
      "Final Score: 2.5846581211870054\n",
      "Final Score: 1.1997590179023867\n",
      "Final Score: 2.118349759378926\n",
      "Final Score: 2.48760596261162\n",
      "Final Score: 1.142977643417099\n",
      "Final Score: 2.5909948729306014\n",
      "Final Score: 1.464965998257042\n",
      "Final Score: 1.002532433068212\n",
      "Final Score: 2.5383630719810917\n",
      "Final Score: 2.5761374725634356\n",
      "Final Score: 1.1114593449900574\n",
      "Final Score: 1.1088995475432086\n",
      "Final Score: 1.573926910796461\n",
      "Final Score: 2.499336983710507\n",
      "Final Score: 2.901708986977333\n",
      "Final Score: 4.592956558060428\n",
      "Final Score: 4.654562559878635\n",
      "Final Score: 1.1031245838996346\n",
      "Final Score: 0.909858330667258\n",
      "Final Score: 3.430476916441875\n",
      "Final Score: 1.0655365467035602\n",
      "Final Score: 1.2580574199305625\n",
      "Final Score: 0.8627317483077772\n",
      "Final Score: 0.9520563984020263\n",
      "Final Score: 1.291011802645915\n",
      "Final Score: 1.1513185967039528\n",
      "Final Score: 4.526021838145931\n",
      "Final Score: 2.018023514118913\n",
      "Final Score: 1.0092350165879012\n",
      "Final Score: 1.308047152792898\n",
      "Final Score: 3.893342190865345\n",
      "Final Score: 1.1170230381108013\n",
      "Final Score: 2.923781721276989\n",
      "Final Score: 1.04042804893903\n",
      "Final Score: 1.727342326403549\n",
      "Final Score: 4.7198956160704455\n",
      "Final Score: 1.953554664081814\n",
      "Final Score: 2.237021712471675\n",
      "Final Score: 0.8962124163752885\n",
      "Final Score: 1.5396544996939787\n",
      "Final Score: 0.9317945434747235\n",
      "Final Score: 1.7213476224836202\n",
      "Final Score: 1.1923973112068138\n",
      "Final Score: 0.9170921920359505\n",
      "Final Score: 0.8009747725550552\n",
      "Final Score: 5.22665677177077\n",
      "Final Score: 5.452200355510745\n",
      "Final Score: 0.8321421219532872\n",
      "Final Score: 2.8501610058702074\n",
      "Final Score: 0.7590077720235868\n",
      "Final Score: 0.940597872740873\n",
      "Final Score: 0.924460349541319\n",
      "Final Score: 0.999729853517789\n",
      "Final Score: 2.388139920334154\n",
      "Final Score: 1.0413143184940314\n",
      "Final Score: 5.146956153555945\n",
      "Final Score: 0.8350035685412287\n",
      "Final Score: 1.065978591266069\n",
      "Final Score: 0.989889055150095\n",
      "Final Score: 1.5248712365011452\n",
      "Final Score: 4.799233256993275\n",
      "Final Score: 3.687957129662782\n",
      "Final Score: 2.251487798721362\n",
      "Final Score: 1.1124562179890314\n",
      "Final Score: 1.178748344975284\n",
      "Final Score: 1.968383492650204\n",
      "Final Score: 3.4597552425040075\n",
      "Final Score: 1.8259363092418042\n",
      "Final Score: 4.380183271090005\n",
      "Final Score: 1.3792522258668876\n",
      "Final Score: 1.3248321097438034\n",
      "Final Score: 1.7401972663117666\n",
      "Final Score: 3.0955205527673346\n",
      "Final Score: 1.08133929879881\n",
      "Final Score: 0.8599482920101102\n",
      "Final Score: 1.3467780313950266\n",
      "Final Score: 1.1533366025701899\n",
      "Final Score: 0.8446635468198137\n",
      "Final Score: 3.3552877905941436\n",
      "Final Score: 0.9097592487028955\n",
      "Final Score: 4.587625264441131\n",
      "Final Score: 1.4811782634809254\n",
      "Final Score: 1.2120812376349126\n",
      "Final Score: 4.9024661362692\n",
      "Final Score: 1.058460031541973\n",
      "Final Score: 1.9405490551700173\n",
      "Final Score: 2.0409540469413616\n",
      "Final Score: 1.2028996797691187\n",
      "Final Score: 0.8751014913255496\n",
      "Final Score: 2.5082903750268675\n",
      "Final Score: 1.070099895707631\n",
      "Final Score: 1.0430238808221144\n",
      "Final Score: 5.382486600668383\n",
      "Final Score: 1.4106076927883384\n",
      "Final Score: 1.1817000641224047\n",
      "Final Score: 2.623725387076523\n",
      "Final Score: 0.8371190445574029\n",
      "Final Score: 1.0262068120364032\n",
      "Final Score: 4.2676766273698075\n",
      "Final Score: 1.0149599008243884\n",
      "Final Score: 3.317834766826021\n",
      "Final Score: 1.4910520116575243\n",
      "Final Score: 2.7272259302280992\n",
      "Final Score: 0.9118418699520648\n",
      "Final Score: 1.199292358774723\n",
      "Final Score: 0.8880554288113506\n",
      "Final Score: 0.8702069649846661\n",
      "Final Score: 3.121827276297544\n",
      "Final Score: 2.7059512959695455\n",
      "Final Score: 1.7452574194617654\n",
      "Final Score: 3.316900825124571\n",
      "Final Score: 1.3307363066830247\n",
      "Final Score: 1.084143671267276\n",
      "Final Score: 1.2864413424414458\n",
      "Final Score: 0.7919850295332959\n",
      "Final Score: 4.20165798091584\n",
      "Final Score: 0.9963147815466106\n",
      "Final Score: 2.8824920317948957\n",
      "Final Score: 2.6287225587981844\n",
      "Final Score: 1.065368121366787\n",
      "Final Score: 2.11940790654696\n",
      "Final Score: 2.095753290903975\n",
      "Final Score: 2.82601724744034\n",
      "Final Score: 3.6875282013626345\n",
      "Final Score: 0.9965523026390346\n",
      "Final Score: 2.0902718687619455\n",
      "Final Score: 5.400364509902465\n",
      "Final Score: 0.9954773854123554\n",
      "Final Score: 4.388427093030747\n",
      "Final Score: 2.622108607217708\n",
      "Final Score: 2.1084387016324047\n",
      "Final Score: 1.73838558337513\n",
      "Final Score: 1.051253056114756\n",
      "Final Score: 1.152287333246383\n",
      "Final Score: 2.9434888549164113\n",
      "Final Score: 3.0195080897670157\n",
      "Final Score: 2.8524516779506817\n",
      "Final Score: 4.532414729528617\n",
      "Final Score: 2.95353168259219\n",
      "Final Score: 0.8721829651972844\n",
      "Final Score: 1.536084646226448\n",
      "Final Score: 0.9423423699908695\n",
      "Final Score: 2.8009035309818255\n",
      "Final Score: 1.2246001241004631\n",
      "Final Score: 2.753492215758484\n",
      "Final Score: 1.6588795514882388\n",
      "Final Score: 1.320155504752849\n",
      "Final Score: 0.9762319123915973\n",
      "Final Score: 1.1903603567297956\n",
      "Final Score: 1.0618549883633184\n",
      "Final Score: 2.3894411825823707\n",
      "Final Score: 1.1050607175737976\n",
      "Final Score: 3.7852645859717526\n",
      "Final Score: 1.666922387107764\n",
      "Final Score: 2.1864611041504647\n",
      "Final Score: 1.1274575371976998\n",
      "Final Score: 2.293428138321226\n",
      "Final Score: 3.4061835594925585\n",
      "Final Score: 1.1570336621172708\n",
      "Final Score: 0.8757168558321464\n",
      "Final Score: 5.449261586665286\n",
      "Final Score: 1.527959851449071\n",
      "Final Score: 1.3451810877991859\n",
      "Final Score: 2.5787998044875744\n",
      "Final Score: 2.366691908302715\n",
      "Final Score: 2.016795831471456\n",
      "Final Score: 0.9175103460813444\n",
      "Final Score: 1.0062039303869839\n",
      "Final Score: 1.0523018820994074\n",
      "Final Score: 2.660461122553728\n",
      "Final Score: 1.8583300551959074\n",
      "Final Score: 0.9732285292201044\n",
      "Final Score: 2.659223097680101\n",
      "Final Score: 1.1742693002647677\n",
      "Final Score: 0.9394169537568641\n",
      "Final Score: 0.9205102022178208\n",
      "Final Score: 1.1507350947631836\n",
      "Final Score: 2.45855188783679\n",
      "Final Score: 3.388797044811289\n",
      "Final Score: 3.4548766755097713\n",
      "Final Score: 1.4059836365264293\n",
      "Final Score: 1.2737128889796732\n",
      "Final Score: 5.734165579412781\n",
      "Final Score: 3.934447469598304\n",
      "Final Score: 1.2945763581092704\n",
      "Final Score: 5.201584003669883\n",
      "Final Score: 4.4739114781891125\n",
      "Final Score: 1.457550438042988\n",
      "Final Score: 3.320187694200606\n",
      "Final Score: 1.0227460288273607\n",
      "Final Score: 1.0884544604501827\n",
      "Final Score: 4.861170004059333\n",
      "Final Score: 3.867822058726322\n",
      "Final Score: 1.1062726243234966\n",
      "Final Score: 2.5481010498780594\n",
      "Final Score: 3.8998168065017946\n",
      "Final Score: 2.0058629734899247\n",
      "Final Score: 2.546912888305183\n",
      "Final Score: 1.0545809668104331\n",
      "Final Score: 2.2498800967824053\n",
      "Final Score: 2.9620179432060088\n",
      "Final Score: 3.1949589450624427\n",
      "Final Score: 0.8746646314028121\n",
      "Final Score: 3.5747475810872813\n",
      "Final Score: 1.057712470215642\n",
      "Final Score: 1.113696692736112\n",
      "Final Score: 1.3063986408037465\n",
      "Final Score: 1.6875014476568553\n",
      "Final Score: 0.9748218008521645\n",
      "Final Score: 3.833481972806316\n",
      "Final Score: 2.6945834771747275\n",
      "Final Score: 4.063749601994417\n",
      "Final Score: 3.557004713877979\n",
      "Final Score: 5.282938135542061\n",
      "Final Score: 2.445528958707045\n",
      "Final Score: 1.8248583963885243\n",
      "Final Score: 1.004958330942103\n",
      "Final Score: 0.8840511583034663\n",
      "Final Score: 1.1723526072188193\n",
      "Final Score: 0.9174470657557874\n",
      "Final Score: 1.26183281354405\n",
      "Final Score: 2.879048080121721\n",
      "Final Score: 2.707828785065121\n",
      "Final Score: 1.9777661443742427\n",
      "Final Score: 6.059941939238334\n",
      "Final Score: 0.9233974313103941\n",
      "Final Score: 2.155853963416518\n",
      "Final Score: 4.751317324371241\n",
      "Final Score: 3.8673411874871446\n",
      "Final Score: 1.0515287985671078\n",
      "Final Score: 1.0858571413667752\n",
      "Final Score: 0.9572116999523208\n",
      "Final Score: 1.1735374992678358\n",
      "Final Score: 0.8385047632538771\n",
      "Final Score: 4.515872160041138\n",
      "Final Score: 1.3920458735267522\n",
      "Final Score: 1.7766710996279942\n",
      "Final Score: 2.0218158426693975\n",
      "Final Score: 1.075325443074758\n",
      "Final Score: 3.1194610771881592\n",
      "Final Score: 1.0417631540245973\n",
      "Final Score: 1.0757199976971583\n",
      "Final Score: 1.0103912095078171\n",
      "Final Score: 1.0304621811029593\n",
      "Final Score: 3.3615601190918616\n",
      "Final Score: 1.8628789601011215\n",
      "Final Score: 2.716176001394233\n",
      "Final Score: 3.104423899972426\n",
      "Final Score: 1.7335822282714553\n",
      "Final Score: 2.4261046656480225\n",
      "Final Score: 5.460382889845022\n",
      "Final Score: 5.069888289803545\n",
      "Final Score: 0.9661734397813103\n",
      "Final Score: 1.0105646316755983\n",
      "Final Score: 1.0413057730664257\n",
      "Final Score: 5.3731372247831635\n",
      "Final Score: 3.4225198646131623\n",
      "Final Score: 0.7983890470852544\n",
      "Final Score: 1.971435866124577\n",
      "Final Score: 0.800518854741693\n",
      "Final Score: 1.0015806592510577\n",
      "Final Score: 1.2297731908259673\n",
      "Final Score: 3.720127164733451\n",
      "Final Score: 0.9342038801326076\n",
      "Final Score: 1.5598618410161817\n",
      "Final Score: 1.2202415611001993\n",
      "Final Score: 2.732002859026912\n",
      "Final Score: 0.787437638851869\n",
      "Final Score: 1.344613840979699\n",
      "Final Score: 2.6333256295245935\n",
      "Final Score: 1.5611629831982006\n",
      "Final Score: 4.625219005832367\n",
      "Final Score: 2.520718073076353\n",
      "Final Score: 2.6652171584697926\n",
      "Final Score: 1.1269276233145578\n",
      "Final Score: 1.224728802706542\n",
      "Final Score: 1.0983380617969658\n",
      "Final Score: 4.563531261380126\n",
      "Final Score: 0.864129692734143\n",
      "Final Score: 1.6821471287199108\n",
      "Final Score: 1.1520796994302527\n",
      "Final Score: 3.656657691513705\n",
      "Final Score: 0.9256104322756402\n",
      "Final Score: 1.1500848097281082\n",
      "Final Score: 2.982300639772083\n",
      "Final Score: 2.391032843998273\n",
      "Final Score: 0.9238199209548427\n",
      "Final Score: 1.2183009246663739\n",
      "Final Score: 1.4127066216267028\n",
      "Final Score: 3.898742517535635\n",
      "Final Score: 1.1657207227771176\n",
      "Final Score: 0.9884936381515304\n",
      "Final Score: 2.6192110724115802\n",
      "Final Score: 0.8904002436001613\n",
      "Final Score: 5.8806048288664705\n",
      "Final Score: 1.0738788676067599\n",
      "Final Score: 1.0512491553171541\n",
      "Final Score: 2.559975559823729\n",
      "Final Score: 3.070212102212179\n",
      "Final Score: 4.710972904199369\n",
      "Final Score: 6.024372340036781\n",
      "Final Score: 1.1999933022375928\n",
      "Final Score: 1.0856817872230011\n",
      "Final Score: 1.5767241243295649\n",
      "Final Score: 2.1462628226466185\n",
      "Final Score: 1.1545185548886785\n",
      "Final Score: 1.696292712834147\n",
      "Final Score: 0.9300713221318103\n",
      "Final Score: 1.8126216947373215\n",
      "Final Score: 1.5242150101064218\n",
      "Final Score: 1.5980899246860003\n",
      "Final Score: 1.0173428724603744\n",
      "Final Score: 1.6694954371910757\n",
      "Final Score: 5.622296977603049\n",
      "Final Score: 1.1278981213900818\n",
      "Final Score: 1.9665371983513102\n",
      "Final Score: 0.9767093524239612\n",
      "Final Score: 1.4136393347536138\n",
      "Final Score: 1.6209934682030591\n",
      "Final Score: 0.9445399198570628\n",
      "Final Score: 1.0255587068484893\n",
      "Final Score: 1.0736176979085867\n",
      "Final Score: 1.1744415398617476\n",
      "Final Score: 1.8353247950452918\n",
      "Final Score: 1.53216197770301\n",
      "Final Score: 5.814805407935132\n",
      "Final Score: 1.3554874316998242\n",
      "Final Score: 3.220136232463026\n",
      "Final Score: 2.595560087335423\n",
      "Final Score: 1.1527307720906614\n",
      "Final Score: 1.121271924778085\n",
      "Final Score: 2.9619716618892977\n",
      "Final Score: 3.628149145307369\n",
      "Final Score: 1.045212125323481\n",
      "Final Score: 3.1671383406417073\n",
      "Final Score: 1.1289837967533747\n",
      "Final Score: 1.3976246000405461\n",
      "Final Score: 1.4558469692942717\n",
      "Final Score: 1.3302472668283798\n",
      "Final Score: 2.541057317150701\n",
      "Final Score: 4.976803976888484\n",
      "Final Score: 6.111983143341554\n",
      "Final Score: 3.4959426440674957\n",
      "Final Score: 3.328160484115873\n",
      "Final Score: 1.0189352046235642\n",
      "Final Score: 2.828860132361389\n",
      "Final Score: 1.2138799553422732\n",
      "Final Score: 1.0817740116791297\n",
      "Final Score: 3.03907033335185\n",
      "Final Score: 2.9025054886700996\n",
      "Final Score: 3.5352049318059624\n",
      "Final Score: 1.4666871319121304\n",
      "Final Score: 3.14506044273547\n",
      "Final Score: 0.9323773103553488\n",
      "Final Score: 0.8762942979968292\n",
      "Final Score: 2.9549698556767483\n",
      "Final Score: 2.071105734699338\n",
      "Final Score: 1.1761063900943167\n",
      "Final Score: 1.0455685649107336\n",
      "Final Score: 1.0890954425897688\n",
      "Final Score: 2.7539381207453624\n",
      "Final Score: 4.636178929932835\n",
      "Final Score: 1.3319440186440485\n",
      "Final Score: 0.9329122199929868\n",
      "Final Score: 1.1994929927280555\n",
      "Final Score: 0.8407074366503644\n",
      "Final Score: 5.013795260063253\n",
      "Final Score: 2.323155111465395\n",
      "Final Score: 2.797267322727401\n",
      "Final Score: 4.854788548629669\n",
      "Final Score: 5.1995764141018155\n",
      "Final Score: 1.4741117467601608\n",
      "Final Score: 0.9049382856257993\n",
      "Final Score: 1.0048578506382633\n",
      "Final Score: 1.4023276080056242\n",
      "Final Score: 1.8344741495303853\n",
      "Final Score: 3.810721342957817\n",
      "Final Score: 1.2509375951229442\n",
      "Final Score: 3.932061642081008\n",
      "Final Score: 3.335509980766979\n",
      "Final Score: 2.972498780311472\n",
      "Final Score: 1.30366917883289\n",
      "Final Score: 0.9064121085227266\n",
      "Final Score: 1.4474072288814608\n",
      "Final Score: 1.1123888773119162\n",
      "Final Score: 1.0990217807507392\n",
      "Final Score: 1.9098857818469293\n",
      "Final Score: 2.5396185369031987\n",
      "Final Score: 1.403976508182843\n",
      "Final Score: 1.1905995071553772\n",
      "Final Score: 5.350320727489686\n",
      "Final Score: 1.4784850210405764\n",
      "Final Score: 1.475002576109088\n",
      "Final Score: 1.31103823314987\n",
      "Final Score: 1.3863686284342025\n",
      "Final Score: 0.8476145629201268\n",
      "Final Score: 1.9146541582148602\n",
      "Final Score: 1.056009682518755\n",
      "Final Score: 3.8357411738749385\n",
      "Final Score: 2.901599487857877\n",
      "Final Score: 1.9449484272781914\n",
      "Final Score: 0.9476797045820649\n",
      "Final Score: 2.304557029860852\n",
      "Final Score: 1.921150847295787\n",
      "Final Score: 2.210568291952375\n",
      "Final Score: 1.5372677040076546\n",
      "Final Score: 0.9973453909212517\n",
      "Final Score: 4.634316389320689\n",
      "Final Score: 1.1352830178299749\n",
      "Final Score: 3.33039872042932\n",
      "Final Score: 1.0164852228147094\n",
      "Final Score: 2.380429893922277\n",
      "Final Score: 2.338270339635586\n",
      "Final Score: 1.0614106140330184\n",
      "Final Score: 1.885682253598434\n",
      "Final Score: 1.186872694323418\n",
      "Final Score: 1.447282743769434\n",
      "Final Score: 2.93253360258346\n",
      "Final Score: 0.9692991617293262\n",
      "Final Score: 1.4137053053761741\n",
      "Final Score: 1.8198912548889266\n",
      "Final Score: 1.6207186464658685\n",
      "Final Score: 1.095691748973129\n",
      "Final Score: 3.333283308290876\n",
      "Final Score: 2.2237113301626663\n",
      "Final Score: 1.0298687439070733\n",
      "Final Score: 1.111639648436031\n",
      "Final Score: 3.885631729166369\n",
      "Final Score: 0.9195475173455112\n",
      "Final Score: 2.217026901519227\n",
      "Final Score: 1.0041902458020813\n",
      "Final Score: 1.0704388837609131\n",
      "Final Score: 2.9573865176145286\n",
      "Final Score: 1.5172818121518428\n",
      "Final Score: 1.947837566314154\n",
      "Final Score: 1.150573433599133\n",
      "Final Score: 2.923141039995014\n",
      "Final Score: 2.605307974076566\n",
      "Final Score: 2.7565865972052532\n",
      "Final Score: 2.715673901487119\n",
      "Final Score: 2.49651706556224\n",
      "Final Score: 2.558195699632785\n",
      "Final Score: 1.8515321678813077\n",
      "Final Score: 4.495468732156487\n",
      "Final Score: 2.7102201200801073\n",
      "Final Score: 3.1685069688084404\n",
      "Final Score: 2.416374201580621\n",
      "Final Score: 1.110734162091377\n",
      "Final Score: 1.4175797874219453\n",
      "Final Score: 0.9923976251857227\n",
      "Final Score: 1.066101635342956\n",
      "Final Score: 0.9682543585718155\n",
      "Final Score: 0.9658962282656268\n",
      "Final Score: 4.173009113677283\n",
      "Final Score: 2.430598389430177\n",
      "Final Score: 4.038197764996607\n",
      "Final Score: 2.5670792235998903\n",
      "Final Score: 1.1436044659857787\n",
      "Final Score: 1.1293420789561919\n",
      "Final Score: 0.9908843830816406\n",
      "Final Score: 2.6068442442644413\n",
      "Final Score: 0.9392351780859798\n",
      "Final Score: 1.03834725464262\n",
      "Final Score: 3.958619706110974\n",
      "Final Score: 2.4272773704712476\n",
      "Final Score: 1.0844289655067705\n",
      "Final Score: 0.9285581900350848\n",
      "Final Score: 1.8280893678787828\n",
      "Final Score: 0.9947082107693601\n",
      "Final Score: 1.0113211955761805\n",
      "Final Score: 0.9129840094062741\n",
      "Final Score: 2.0658111997319955\n",
      "Final Score: 1.0750456175184087\n",
      "Final Score: 0.9335262368917898\n",
      "Final Score: 1.184711412868534\n",
      "Final Score: 1.0642560130378018\n",
      "Final Score: 0.8983611261155464\n",
      "Final Score: 1.3391573972330886\n",
      "Final Score: 0.7416839377347678\n",
      "Final Score: 2.326358820730453\n",
      "Final Score: 1.7948398797845129\n",
      "Final Score: 2.842814800834297\n",
      "Final Score: 2.989470307117277\n",
      "Final Score: 1.981637498662293\n",
      "Final Score: 2.2184672637415397\n",
      "Final Score: 1.0803426441281245\n",
      "Final Score: 1.1958347900210884\n",
      "Final Score: 2.2130814973921593\n",
      "Final Score: 0.8842482732133018\n",
      "Final Score: 1.1425106042994901\n",
      "Final Score: 1.188990106182877\n",
      "Final Score: 3.0977229942557205\n",
      "Final Score: 1.0049779785854585\n",
      "Final Score: 2.7533897850911053\n",
      "Final Score: 2.540353401037959\n",
      "Final Score: 2.8758903310849897\n",
      "Final Score: 2.8979659737217545\n",
      "Final Score: 1.3435150690791549\n",
      "Final Score: 1.3001488115366566\n",
      "Final Score: 4.343422361262239\n",
      "Final Score: 0.768618216363569\n",
      "Final Score: 0.9782584667358392\n",
      "Final Score: 1.1211361561479862\n",
      "Final Score: 1.516699884003529\n",
      "Final Score: 1.074883343644646\n",
      "Final Score: 0.9823125497875904\n",
      "Final Score: 4.908348007694265\n",
      "Final Score: 1.024036442020316\n",
      "Final Score: 4.61920133492627\n",
      "Final Score: 1.8806450916825517\n",
      "Final Score: 5.278859080881819\n",
      "Final Score: 1.3370070713011104\n",
      "Final Score: 1.1634272319159198\n",
      "Final Score: 1.141890919257248\n",
      "Final Score: 3.5720215241859252\n",
      "Final Score: 1.355067266055313\n",
      "Final Score: 1.7332897848836293\n",
      "Final Score: 1.5807649039036709\n",
      "Final Score: 0.9485963929436904\n",
      "Final Score: 1.113437795955349\n",
      "Final Score: 0.9328653723308635\n",
      "Final Score: 0.9972472781555535\n",
      "Final Score: 1.6105198596222228\n",
      "Final Score: 0.8397990879299121\n",
      "Final Score: 2.89364281050446\n",
      "Final Score: 1.9188010640170774\n",
      "Final Score: 0.9948967936973614\n",
      "Final Score: 1.2541789095100018\n",
      "Final Score: 3.5590096084375737\n",
      "Final Score: 1.0049120314566458\n",
      "Final Score: 0.9510710988047502\n",
      "Final Score: 0.7615354695635599\n",
      "Final Score: 5.768599555729285\n",
      "Final Score: 3.052771972060453\n",
      "Final Score: 1.1993077929041205\n",
      "Final Score: 2.803742933487321\n",
      "Final Score: 2.2558334758819285\n",
      "Final Score: 1.1727657924668269\n",
      "Final Score: 3.5898197355355\n",
      "Final Score: 1.0834688675448896\n",
      "Final Score: 4.047251572513721\n",
      "Final Score: 0.9087234221870932\n",
      "Final Score: 1.620344785118088\n",
      "Final Score: 1.2069694103164095\n",
      "Final Score: 3.0353114180414744\n",
      "Final Score: 0.8814674594682945\n",
      "Final Score: 1.2240320399792854\n",
      "Final Score: 1.1922287306400485\n",
      "Final Score: 0.9984998881462253\n",
      "Final Score: 2.6719885525074405\n",
      "Final Score: 2.931309996939755\n",
      "Final Score: 0.8227122035935177\n",
      "Final Score: 0.9650713788042191\n",
      "Final Score: 2.9775314401582245\n",
      "Final Score: 2.071945966854789\n",
      "Final Score: 3.688370626502903\n",
      "Final Score: 2.4000538301433574\n",
      "Final Score: 1.1645618876646646\n",
      "Final Score: 0.9034892789561186\n",
      "Final Score: 1.4555480799081182\n",
      "Final Score: 1.3774745010313192\n",
      "Final Score: 1.5424365345872553\n",
      "Final Score: 1.5226591208034255\n",
      "Final Score: 1.3544061871579545\n",
      "Final Score: 2.547302030408185\n",
      "Final Score: 1.868904518421669\n",
      "Final Score: 1.0928189870437703\n",
      "Final Score: 1.1847405564207172\n",
      "Final Score: 5.1907207575263445\n",
      "Final Score: 0.9278425033145833\n",
      "Final Score: 4.001707951479614\n",
      "Final Score: 2.8463618806321223\n",
      "Final Score: 1.1111122291361115\n",
      "Final Score: 1.7129191911465314\n",
      "Final Score: 0.9829657976576335\n",
      "Final Score: 4.095711289165925\n",
      "Final Score: 3.157110259486803\n",
      "Final Score: 1.1697303443832754\n",
      "Final Score: 1.1095102271393902\n",
      "Final Score: 2.034880906302839\n",
      "Final Score: 1.5714473514717495\n",
      "Final Score: 2.321455161468051\n",
      "Final Score: 1.9978937328082957\n",
      "Final Score: 1.9569581067919894\n",
      "Final Score: 0.9447702660541841\n",
      "Final Score: 0.8020912330537833\n",
      "Final Score: 1.0246970882905193\n",
      "Final Score: 1.0489064763270604\n",
      "Final Score: 2.409373774944493\n",
      "Final Score: 4.280539331574773\n",
      "Final Score: 1.6529514784294177\n",
      "Final Score: 1.3626562113699205\n",
      "Final Score: 1.8277854860409726\n",
      "Final Score: 0.9043931244000534\n",
      "Final Score: 2.375984747666529\n",
      "Final Score: 2.8069909891101243\n",
      "Final Score: 1.7348449197248337\n",
      "Final Score: 2.7967538909003657\n",
      "Final Score: 2.9608587465514935\n",
      "Final Score: 2.462510088394822\n",
      "Final Score: 1.1301940579073664\n",
      "Final Score: 1.031094679013973\n",
      "Final Score: 3.1226382502395786\n",
      "Final Score: 3.434350532036301\n",
      "Final Score: 1.6161943500547515\n",
      "Final Score: 3.859384994143269\n",
      "Final Score: 2.2529239486380495\n",
      "Final Score: 2.803185146171972\n",
      "Final Score: 2.6950005566729427\n",
      "Final Score: 1.2944635699827292\n",
      "Final Score: 1.4110251189512297\n",
      "Final Score: 1.0005189885689094\n",
      "Final Score: 0.9594999698149981\n",
      "Final Score: 0.9932096134162729\n",
      "Final Score: 1.3248093727353993\n",
      "Final Score: 1.0256203388887255\n",
      "Final Score: 0.9578211358761299\n",
      "Final Score: 0.8566454015990054\n",
      "Final Score: 2.4063628583414025\n",
      "Final Score: 2.301783453284477\n",
      "Final Score: 1.76682671676696\n",
      "Final Score: 2.2162681113024005\n",
      "Final Score: 2.4459808037268065\n",
      "Final Score: 2.0639135766828027\n",
      "Final Score: 0.8506564212498711\n",
      "Final Score: 1.035542985980015\n",
      "Final Score: 2.47111815349965\n",
      "Final Score: 3.588670216733749\n",
      "Final Score: 0.9991010120726919\n",
      "Final Score: 3.656806500036857\n",
      "Final Score: 2.30917691512119\n",
      "Final Score: 3.1482735704878055\n",
      "Final Score: 2.2898924755674184\n",
      "Final Score: 2.7407060409559003\n",
      "Final Score: 3.632323737106231\n",
      "Final Score: 2.8710967631059106\n",
      "Final Score: 3.0759176176281366\n",
      "Final Score: 2.451497891195305\n",
      "Final Score: 2.971754688709397\n",
      "Final Score: 3.0865407827496574\n",
      "Final Score: 2.802295314105537\n",
      "Final Score: 2.5362490812234144\n",
      "Final Score: 2.8706527588495288\n",
      "Final Score: 2.0866251361077626\n",
      "Final Score: 3.3392565260651503\n",
      "Final Score: 2.298884084219705\n",
      "Final Score: 1.2917649152519877\n",
      "Final Score: 1.5994633516627483\n",
      "Final Score: 2.3387788983767663\n",
      "Final Score: 0.9354888295397962\n",
      "Final Score: 1.1898798422301966\n",
      "Final Score: 2.865624057777284\n",
      "Final Score: 2.365457061168734\n",
      "Final Score: 2.8805484911574606\n",
      "Final Score: 2.054181627362217\n",
      "Final Score: 2.907556233840618\n",
      "Final Score: 2.866710459543013\n",
      "Final Score: 1.4559564026239682\n",
      "Final Score: 2.422142078863569\n",
      "Final Score: 1.2897272676782547\n",
      "Final Score: 0.9822769350929982\n",
      "Final Score: 1.1121840626616288\n",
      "Final Score: 2.1128656616613943\n",
      "Final Score: 1.908984071966733\n",
      "Final Score: 3.268857740002489\n",
      "Final Score: 2.7162607301520674\n",
      "Final Score: 2.288142318890359\n",
      "Final Score: 2.476090589956693\n",
      "Final Score: 0.9559596068851034\n",
      "Final Score: 2.7409199136967546\n",
      "Final Score: 1.1129757425175661\n",
      "Final Score: 0.8192579569627958\n",
      "Final Score: 1.002271914911391\n",
      "Final Score: 1.126254166868164\n",
      "Final Score: 1.2445535363482825\n",
      "Final Score: 1.1121862132105245\n",
      "Final Score: 1.3132909704454765\n",
      "Final Score: 1.1097084147811025\n",
      "Final Score: 3.135524222233278\n",
      "Final Score: 3.8380273991688485\n",
      "Final Score: 1.1247973334890078\n",
      "Final Score: 2.817932295596635\n",
      "Final Score: 2.3597327222201647\n",
      "Final Score: 4.275011668136956\n",
      "Final Score: 4.344044184533706\n",
      "Final Score: 4.6902279541343\n",
      "Final Score: 0.9679126524255312\n",
      "Final Score: 5.369397465592428\n",
      "Final Score: 1.0902025449134707\n",
      "Final Score: 0.9485156685291092\n",
      "Final Score: 3.5633247634198018\n",
      "Final Score: 0.8624618403710521\n",
      "Final Score: 0.7895085076263089\n",
      "Final Score: 2.424303601513409\n",
      "Final Score: 1.9710422354503883\n",
      "Final Score: 0.9096284813617277\n",
      "Final Score: 4.277215423316924\n",
      "Final Score: 1.4957151329748735\n",
      "Final Score: 3.799570029698689\n",
      "Final Score: 1.7052225069758942\n",
      "Final Score: 1.1925060584617961\n",
      "Final Score: 2.4028485378159985\n",
      "Final Score: 2.537895489446198\n",
      "Final Score: 1.289538919137404\n",
      "Final Score: 1.2254561283475465\n",
      "Final Score: 2.4354360141857088\n",
      "Final Score: 1.198263954788383\n",
      "Final Score: 1.9852166474763728\n",
      "Final Score: 1.903150413318873\n",
      "Final Score: 3.6880386739698636\n",
      "Final Score: 1.66258575365954\n",
      "Final Score: 3.4942919883360046\n",
      "Final Score: 0.932123040508537\n",
      "Final Score: 1.5326679540716768\n",
      "Final Score: 1.4574491280686865\n",
      "Final Score: 1.5850983513363592\n",
      "Final Score: 1.8731308867259675\n",
      "Final Score: 3.8262743279117095\n",
      "Final Score: 0.8429278157502524\n",
      "Final Score: 0.9429784466162234\n",
      "Final Score: 5.413616320621166\n",
      "Final Score: 1.1586994707493035\n",
      "Final Score: 1.4763818011553063\n",
      "Final Score: 1.0658930363666201\n",
      "Final Score: 2.1570906380407893\n",
      "Final Score: 1.0400079035607825\n",
      "Final Score: 1.8146299010572404\n",
      "Final Score: 1.2564676858753416\n",
      "Final Score: 4.318203027129823\n",
      "Final Score: 2.1164477268091124\n",
      "Final Score: 2.0782583806210457\n",
      "Final Score: 1.3435428744582754\n",
      "Final Score: 1.9110899545616966\n",
      "Final Score: 1.6775099942786251\n",
      "Final Score: 2.0549594795060697\n",
      "Final Score: 2.0185857050602225\n",
      "Final Score: 1.0575389193681337\n",
      "Final Score: 3.9462166542329324\n",
      "Final Score: 0.8836991717259264\n",
      "Final Score: 4.3190690673483765\n",
      "Final Score: 4.015283201435862\n",
      "Final Score: 3.4857605126152924\n",
      "Final Score: 1.9547060386167547\n",
      "Final Score: 0.8315274053665317\n",
      "Final Score: 4.8855404457550256\n",
      "Final Score: 3.976293671154795\n",
      "Final Score: 1.7610264148222496\n",
      "Final Score: 0.9126709485784122\n",
      "Final Score: 0.7873237668199078\n",
      "Final Score: 4.175697066444266\n",
      "Final Score: 1.481731836666348\n",
      "Final Score: 2.8023178394154638\n",
      "Final Score: 1.6810086905718646\n",
      "Final Score: 1.8647171771249988\n",
      "Final Score: 1.0282899836813955\n",
      "Final Score: 3.628044303196406\n",
      "Final Score: 4.408640397384368\n",
      "Final Score: 0.8879195296768496\n",
      "Final Score: 3.4512049563985245\n",
      "Final Score: 2.4796818346049565\n",
      "Final Score: 3.070724088122505\n",
      "Final Score: 2.245985964322315\n",
      "Final Score: 0.9862991818901314\n",
      "Final Score: 0.792886692098822\n",
      "Final Score: 2.4018797207315377\n",
      "Final Score: 5.376384468807548\n",
      "Final Score: 2.8543444270865126\n",
      "Final Score: 5.121986168388643\n",
      "Final Score: 1.2905358802859048\n",
      "Final Score: 1.0698927696070117\n",
      "Final Score: 1.0683192883712678\n",
      "Final Score: 1.0677155401095575\n",
      "Final Score: 2.8039760013439885\n",
      "Final Score: 1.1967195368064774\n",
      "Final Score: 3.7673309122102383\n",
      "Final Score: 3.263557193221623\n",
      "Final Score: 3.0181674739182665\n",
      "Final Score: 2.379900506185107\n",
      "Final Score: 0.9718928542784245\n",
      "Final Score: 0.9118017890017426\n",
      "Final Score: 1.115096087129558\n",
      "Final Score: 1.0006413743245217\n",
      "Final Score: 2.3745758067868645\n",
      "Final Score: 5.311920290237897\n",
      "Final Score: 4.6240993172022415\n",
      "Final Score: 1.2882049637675745\n",
      "Final Score: 1.0690693117635888\n",
      "Final Score: 2.718942848733227\n",
      "Final Score: 2.430430918839774\n",
      "Final Score: 4.166220944295793\n",
      "Final Score: 2.8596240978468197\n",
      "Final Score: 1.7925521505913218\n",
      "Final Score: 0.8844237334718787\n",
      "Final Score: 0.9619885941570995\n",
      "Final Score: 5.101942349133316\n",
      "Final Score: 3.2263095085998934\n",
      "Final Score: 1.5499090865495477\n",
      "Final Score: 1.152846478447421\n",
      "Final Score: 3.4233484269870242\n",
      "Final Score: 0.9964513556475438\n",
      "Final Score: 2.1547702156983832\n",
      "Final Score: 2.329724824648442\n",
      "Final Score: 5.064185190646874\n",
      "Final Score: 2.2093217634556823\n",
      "Final Score: 1.129230787316667\n",
      "Final Score: 2.4653548028466954\n",
      "Final Score: 2.9591293627972863\n",
      "Final Score: 2.191349714798622\n",
      "Final Score: 1.0186966461041251\n",
      "Final Score: 3.8825056446033046\n",
      "Final Score: 1.6314061237423616\n",
      "Final Score: 2.4135246684322316\n",
      "Final Score: 2.2398133498583337\n",
      "Final Score: 4.765659585047132\n",
      "Final Score: 0.8783025726248651\n",
      "Final Score: 1.215752376481508\n",
      "Final Score: 2.0709151895520246\n",
      "Final Score: 5.103013708588534\n",
      "Final Score: 4.694544096658442\n",
      "Final Score: 1.2595046321151047\n",
      "Final Score: 0.9784795455002347\n",
      "Final Score: 1.0842683905310322\n",
      "Final Score: 0.9820591715926131\n",
      "Final Score: 0.9279226315593504\n",
      "Final Score: 0.899572408877745\n",
      "Final Score: 1.1526467107758906\n",
      "Final Score: 4.085820193508033\n",
      "Final Score: 0.9260314939985687\n",
      "Final Score: 0.7971602242129272\n",
      "Final Score: 1.6492911100815606\n",
      "Final Score: 3.51314996052089\n",
      "Final Score: 0.6410238867173828\n",
      "Final Score: 2.1777354745653446\n",
      "Final Score: 3.103823886104204\n",
      "Final Score: 1.0751029173081663\n",
      "Final Score: 2.5517044299359264\n",
      "Final Score: 0.9086358416731453\n",
      "Final Score: 4.4631019445826805\n",
      "Final Score: 4.5512356959309574\n",
      "Final Score: 1.0447675806433407\n",
      "Final Score: 1.1744680791706779\n",
      "Final Score: 0.9370188819241955\n",
      "Final Score: 1.0843650059818968\n",
      "Final Score: 2.07302739663248\n",
      "Final Score: 2.6148975770436014\n",
      "Final Score: 1.8484911988321973\n",
      "Final Score: 3.6186676659931893\n",
      "Final Score: 1.0962431623112356\n",
      "Final Score: 0.9498567647932966\n",
      "Final Score: 2.0616644937244204\n",
      "Final Score: 1.1317233327207514\n",
      "Final Score: 2.8363260247369353\n",
      "Final Score: 3.859528191076038\n",
      "Final Score: 0.9265682213022174\n",
      "Final Score: 1.7850836651433748\n",
      "Final Score: 4.754446471399109\n",
      "Final Score: 0.8409092387251439\n",
      "Final Score: 0.9072054653018227\n",
      "Final Score: 4.896590752119465\n",
      "Final Score: 1.0652475817354883\n",
      "Final Score: 1.72211396454612\n",
      "Final Score: 2.087350340821864\n",
      "Final Score: 1.7911069744901797\n",
      "Final Score: 4.369861781208284\n",
      "Final Score: 1.1232529093550083\n",
      "Final Score: 0.843862996247877\n",
      "Final Score: 3.1346720880247005\n",
      "Final Score: 1.1862367011378774\n",
      "Final Score: 1.3562731269910175\n",
      "Final Score: 0.9051145344781053\n",
      "Final Score: 2.786449897893262\n",
      "Final Score: 3.8228888199275755\n",
      "Final Score: 0.8688603309704579\n",
      "Final Score: 0.9518822928024118\n",
      "Final Score: 2.624721588431343\n",
      "Final Score: 0.9814309242193004\n",
      "Final Score: 0.9517169274704629\n",
      "Final Score: 1.1141293338584333\n",
      "Final Score: 1.1066083580600647\n",
      "Final Score: 2.7262222673970458\n",
      "Final Score: 1.5135836930616091\n",
      "Final Score: 4.590153583671252\n",
      "Final Score: 3.0535458104086466\n",
      "Final Score: 2.6531232456953187\n",
      "Final Score: 1.2329752404402152\n",
      "Final Score: 1.0540229563177388\n",
      "Final Score: 1.555338030646374\n",
      "Final Score: 1.0452278457379776\n",
      "Final Score: 2.082133364630078\n",
      "Final Score: 4.663101894666979\n",
      "Final Score: 1.0465698062667856\n",
      "Final Score: 0.9656629954386611\n",
      "Final Score: 3.634354811881901\n",
      "Final Score: 1.0324284324497544\n",
      "Final Score: 3.105514477868078\n",
      "Final Score: 1.114502508860992\n",
      "Final Score: 1.3931436667489436\n",
      "Final Score: 4.588379671448814\n",
      "Final Score: 1.2512361875924316\n",
      "Final Score: 1.2514447290415074\n",
      "Final Score: 1.8732572642397551\n",
      "Final Score: 1.1948713524154475\n",
      "Final Score: 1.1949659542890174\n",
      "Final Score: 1.1949962739849986\n",
      "Final Score: 4.771848767509795\n",
      "Final Score: 1.6391751352713073\n",
      "Final Score: 1.2144722499250356\n",
      "Final Score: 1.1806627043584101\n",
      "Final Score: 0.9911821563016145\n",
      "Final Score: 1.0069628631456204\n",
      "Final Score: 0.9745137622857326\n",
      "Final Score: 1.0435733225967008\n",
      "Final Score: 3.4542735481648155\n",
      "Final Score: 1.119266530118044\n",
      "Final Score: 0.9515235617085751\n",
      "Final Score: 3.336958060056544\n",
      "Final Score: 1.230949478589623\n",
      "Final Score: 1.2824717946043678\n",
      "Final Score: 1.8700644851630832\n",
      "Final Score: 2.6235695265085153\n",
      "Final Score: 1.1518603948159931\n",
      "Final Score: 1.0535521999548656\n",
      "Final Score: 1.230767722759667\n",
      "Final Score: 1.271650024723151\n",
      "Final Score: 1.3188832387360725\n",
      "Final Score: 1.624004615108553\n",
      "Final Score: 1.086535753669139\n",
      "Final Score: 3.8256784181721057\n",
      "Final Score: 1.0404119009576343\n",
      "Final Score: 2.36977658103191\n",
      "Final Score: 3.07704684613171\n",
      "Final Score: 1.008777105160089\n",
      "Final Score: 0.8775126980448849\n",
      "Final Score: 1.5069410743199203\n",
      "Final Score: 2.966392791193445\n",
      "Final Score: 1.6665489400692564\n",
      "Final Score: 1.4189484732348427\n",
      "Final Score: 4.908064139078721\n",
      "Final Score: 0.7961406992730755\n",
      "Final Score: 1.673244539859381\n",
      "Final Score: 1.1586523886170634\n",
      "Final Score: 0.8917209608122552\n",
      "Final Score: 2.196746514311898\n",
      "Final Score: 0.7661182211851104\n",
      "Final Score: 3.673641828326637\n",
      "Final Score: 0.9981108526339083\n",
      "Final Score: 0.9164218528179752\n",
      "Final Score: 2.1081690583229067\n",
      "Final Score: 1.3524944651849\n",
      "Final Score: 1.2788221444923829\n",
      "Final Score: 0.9887366497115324\n",
      "Final Score: 0.9403659194850584\n",
      "Final Score: 1.0501233324221055\n",
      "Final Score: 5.138547008077655\n",
      "Final Score: 1.1767309042601606\n",
      "Final Score: 4.1314731009260885\n",
      "Final Score: 1.110172929027275\n",
      "Final Score: 1.11016403863966\n",
      "Final Score: 1.028932645822206\n",
      "Final Score: 2.1460701987640136\n",
      "Final Score: 3.952308653940796\n",
      "Final Score: 2.7384631185420867\n",
      "Final Score: 0.9356717610668175\n",
      "Final Score: 0.8107426383636384\n",
      "Final Score: 0.8830008795151465\n",
      "Final Score: 1.1504042816502593\n",
      "Final Score: 0.9849253443236274\n",
      "Final Score: 4.402759470627355\n",
      "Final Score: 1.0219598831970322\n",
      "Final Score: 0.9607541699922684\n",
      "Final Score: 1.1538775814007356\n",
      "Final Score: 1.7798339182182643\n",
      "Final Score: 0.8517211023360629\n",
      "Final Score: 1.4426038535558368\n",
      "Final Score: 0.9151722451860531\n",
      "Final Score: 1.2359255960766677\n",
      "Final Score: 3.619642288148688\n",
      "Final Score: 4.416531766160895\n",
      "Final Score: 4.730732959278127\n",
      "Final Score: 3.9350224223667096\n",
      "Final Score: 5.17580278953016\n",
      "Final Score: 0.8225019945486913\n",
      "Final Score: 5.437512153624832\n",
      "Final Score: 3.048949688253584\n",
      "Final Score: 2.7070026324097896\n",
      "Final Score: 2.7192676452197473\n",
      "Final Score: 1.0572172518629943\n",
      "Final Score: 3.8874055821865374\n",
      "Final Score: 1.4184121468066886\n",
      "Final Score: 1.1410842512945298\n",
      "Final Score: 4.188755522353133\n",
      "Final Score: 2.876578596571195\n",
      "Final Score: 5.281913193432322\n",
      "Final Score: 2.1815721590812127\n",
      "Final Score: 1.082731382850067\n",
      "Final Score: 2.2546470768965916\n",
      "Final Score: 1.9467976254749764\n",
      "Final Score: 1.4533522154132972\n",
      "Final Score: 2.6246059362251852\n",
      "Final Score: 2.219464100631875\n",
      "Final Score: 2.0721270592503807\n",
      "Final Score: 4.96971047120115\n",
      "Final Score: 0.9915184155025547\n",
      "Final Score: 3.0587457803384632\n",
      "Final Score: 1.9519771438812827\n",
      "Final Score: 3.046772476467808\n",
      "Final Score: 2.6858979340820444\n",
      "Final Score: 1.1065929472393923\n",
      "Final Score: 1.148837358490296\n",
      "Final Score: 3.868180948935371\n",
      "Final Score: 1.07474997406812\n",
      "Final Score: 1.0068953337407758\n",
      "Final Score: 4.7499507364283415\n",
      "Final Score: 0.897217471056137\n",
      "Final Score: 2.20242719531561\n",
      "Final Score: 4.507773246189725\n",
      "Final Score: 1.301205584266165\n",
      "Final Score: 1.0407689599994177\n",
      "Final Score: 1.0473434413161158\n",
      "Final Score: 4.652087789012141\n",
      "Final Score: 1.8360604913366396\n",
      "Final Score: 1.3497493856383624\n",
      "Final Score: 0.9490364326675259\n",
      "Final Score: 1.7259970514166527\n",
      "Final Score: 2.8849804009046642\n",
      "Final Score: 0.9808653968626914\n",
      "Final Score: 4.850813021042005\n",
      "Final Score: 3.4270763517607747\n",
      "Final Score: 1.8208846083103538\n",
      "Final Score: 1.2306088381624818\n",
      "Final Score: 1.020830529205609\n",
      "Final Score: 4.4276646213064295\n",
      "Final Score: 1.1304078428841282\n",
      "Final Score: 3.6022703933285034\n",
      "Final Score: 1.2484404099612498\n",
      "Final Score: 4.498244612018833\n",
      "Final Score: 2.071868853836823\n",
      "Final Score: 0.9871905149713117\n",
      "Final Score: 4.689077470278624\n",
      "Final Score: 2.524425972107918\n",
      "Final Score: 1.0797603275635879\n",
      "Final Score: 1.4940319272212443\n",
      "Final Score: 0.9743742415977662\n",
      "Final Score: 0.975873116532262\n",
      "Final Score: 0.9946724384230442\n",
      "Final Score: 0.8201477818490948\n",
      "Final Score: 1.8075240988958652\n",
      "Final Score: 0.9324021485251731\n",
      "Final Score: 0.8198678563127257\n",
      "Final Score: 1.4575692458598313\n",
      "Final Score: 5.739313927522341\n",
      "Final Score: 3.4267961128434035\n",
      "Final Score: 1.0078660438756608\n",
      "Final Score: 1.0293157761212597\n",
      "Final Score: 4.878917412973101\n",
      "Final Score: 2.5004081870563457\n",
      "Final Score: 0.9871750170846615\n",
      "Final Score: 0.9589796007680772\n",
      "Final Score: 0.9586568979647669\n",
      "Final Score: 1.0712803160952096\n",
      "Final Score: 1.7988300763327296\n",
      "Final Score: 0.9118179570518126\n",
      "Final Score: 1.1110842409300583\n",
      "Final Score: 1.2419529799832398\n",
      "Final Score: 4.527559691566145\n",
      "Final Score: 1.0547800970691252\n",
      "Final Score: 5.122125874234302\n",
      "Final Score: 0.7983521923734396\n",
      "Final Score: 4.078004334615005\n",
      "Final Score: 1.1364996452535459\n",
      "Final Score: 1.0234399991190686\n",
      "Final Score: 1.65806196747964\n",
      "Final Score: 1.2934526668138278\n",
      "Final Score: 1.038471217633971\n",
      "Final Score: 2.760309472337985\n",
      "Final Score: 3.6608202285753744\n",
      "Final Score: 0.9986964138447765\n",
      "Final Score: 0.8288697406038168\n",
      "Final Score: 3.375865069269949\n",
      "Final Score: 4.067956272017326\n",
      "Final Score: 1.124221132052122\n",
      "Final Score: 3.0102718712793886\n",
      "Final Score: 2.4243690388930594\n",
      "Final Score: 1.1496682024997578\n",
      "Final Score: 3.1226779395018722\n",
      "Final Score: 2.8705310131708988\n",
      "Final Score: 3.2203531551545894\n",
      "Final Score: 4.180504315612333\n",
      "Final Score: 3.8097256740265877\n",
      "Final Score: 3.1981412435124335\n",
      "Final Score: 1.1737831131548488\n",
      "Final Score: 2.4913801260925412\n",
      "Final Score: 1.1455593234409283\n",
      "Final Score: 4.471919230718539\n",
      "Final Score: 1.3289049969613282\n",
      "Final Score: 2.8179401129009034\n",
      "Final Score: 2.4324918860707347\n",
      "Final Score: 0.8410469430150354\n",
      "Final Score: 0.8502344000565816\n",
      "Final Score: 0.9641180545653758\n",
      "Final Score: 2.267930523700008\n",
      "Final Score: 3.4787080079663046\n",
      "Final Score: 0.9988426367292407\n",
      "Final Score: 1.7160950547557645\n",
      "Final Score: 2.4398173566038786\n",
      "Final Score: 1.0759598275966284\n",
      "Final Score: 1.1048026467207426\n",
      "Final Score: 1.887184922924174\n",
      "Final Score: 1.0696460407692707\n",
      "Final Score: 1.0484945893049245\n",
      "Final Score: 1.0754301479419863\n",
      "Final Score: 1.9287814594557564\n",
      "Final Score: 1.5559071598230068\n",
      "Final Score: 2.4207706050062123\n",
      "Final Score: 1.1074194867868388\n",
      "Final Score: 0.8616026175722824\n",
      "Final Score: 1.2703441213893838\n",
      "Final Score: 4.976722095548861\n",
      "Final Score: 5.075452426858237\n",
      "Final Score: 0.9526199568632977\n",
      "Final Score: 1.0995012095045544\n",
      "Final Score: 1.9475780239430087\n",
      "Final Score: 3.367951496514991\n",
      "Final Score: 1.0926467359897194\n",
      "Final Score: 1.4155557654780964\n",
      "Final Score: 2.592383299394674\n",
      "Final Score: 3.02451979856595\n",
      "Final Score: 1.4999925649920192\n",
      "Final Score: 1.0423818291676354\n",
      "Final Score: 1.305205696806306\n",
      "Final Score: 3.6052651795622346\n",
      "Final Score: 2.1980849583502553\n",
      "Final Score: 3.1045999527233477\n",
      "Final Score: 0.9863350429923856\n",
      "Final Score: 3.1588142414277973\n",
      "Final Score: 0.8392171355005308\n",
      "Final Score: 0.9961958495263767\n",
      "Final Score: 2.3063783241995166\n",
      "Final Score: 1.8482545680348483\n",
      "Final Score: 1.1184032506672283\n",
      "Final Score: 4.172130645401801\n",
      "Final Score: 3.365182785229921\n",
      "Final Score: 2.4856853486287753\n",
      "Final Score: 1.3566598951728137\n",
      "Final Score: 0.9666274378034921\n",
      "Final Score: 3.986788240033296\n",
      "Final Score: 2.5666735282022772\n",
      "Final Score: 0.8885960034600514\n",
      "Final Score: 1.341620144936636\n",
      "Final Score: 2.2892155484424674\n",
      "Final Score: 1.8769903993697508\n",
      "Final Score: 1.3569390924520621\n",
      "Final Score: 4.563718612267826\n",
      "Final Score: 0.9748151251466355\n",
      "Final Score: 2.848194280801321\n",
      "Final Score: 2.403103290594112\n",
      "Final Score: 0.9534634980313695\n",
      "Final Score: 3.0048710475180016\n",
      "Final Score: 2.4709440286004374\n",
      "Final Score: 2.39943982647747\n",
      "Final Score: 1.04132629961273\n",
      "Final Score: 1.0766378600464095\n",
      "Final Score: 2.558942911000621\n",
      "Final Score: 1.0806506042198119\n",
      "Final Score: 2.886999548895904\n",
      "Final Score: 1.0837956852121746\n",
      "Final Score: 0.8804337444156719\n",
      "Final Score: 1.0848888898982203\n",
      "Final Score: 0.9239082698148504\n",
      "Final Score: 2.862602702853072\n",
      "Final Score: 2.5469720115062855\n",
      "Final Score: 1.0632014141975825\n",
      "Final Score: 3.5610681099085637\n",
      "Final Score: 4.997152177939748\n",
      "Final Score: 3.098064400326652\n",
      "Final Score: 5.412249384510335\n",
      "Final Score: 1.064505261741257\n",
      "Final Score: 1.0611447426394858\n",
      "Final Score: 1.0840966235449327\n",
      "Final Score: 3.8809977472296304\n",
      "Final Score: 3.754448207389877\n",
      "Final Score: 4.9010344334610325\n",
      "Final Score: 1.082035021166709\n",
      "Final Score: 0.9893943469641309\n",
      "Final Score: 1.4587784775104589\n",
      "Final Score: 2.3420558151099047\n",
      "Final Score: 1.2440845815168102\n",
      "Final Score: 0.8303842616085472\n",
      "Final Score: 2.9674920004698424\n",
      "Final Score: 3.4462582496374328\n",
      "Final Score: 0.9635282237398907\n",
      "Final Score: 2.553002242413853\n",
      "Final Score: 3.29385931006968\n",
      "Final Score: 3.487685462436056\n",
      "Final Score: 3.7224179865851026\n",
      "Final Score: 1.231979252194991\n",
      "Final Score: 1.0268065850687922\n",
      "Final Score: 0.8380692008696722\n",
      "Final Score: 1.1410627585636557\n",
      "Final Score: 1.1756850123173435\n",
      "Final Score: 0.9527730967158059\n",
      "Final Score: 0.8519840086892838\n",
      "Final Score: 1.990768990000415\n",
      "Final Score: 2.5046365509943587\n",
      "Final Score: 2.7187069820085688\n",
      "Final Score: 2.2567912953168205\n",
      "Final Score: 1.0568760260406653\n",
      "Final Score: 1.7077012703332606\n",
      "Final Score: 3.940269566314983\n",
      "Final Score: 2.0117215989984065\n",
      "Final Score: 2.5297231658950317\n",
      "Final Score: 0.9942548457792659\n",
      "Final Score: 1.0203426468421848\n",
      "Final Score: 1.174717301935476\n",
      "Final Score: 0.9197020493509583\n",
      "Final Score: 0.8149957024670977\n",
      "Final Score: 1.2362236939705828\n",
      "Final Score: 2.7691475684539584\n",
      "Final Score: 0.8461097792893031\n",
      "Final Score: 1.0230181344139995\n",
      "Final Score: 2.3128611559044217\n",
      "Final Score: 0.7575786981024492\n",
      "Final Score: 1.2778602361964733\n",
      "Final Score: 4.960935867663935\n",
      "Final Score: 3.1093092157891062\n",
      "Final Score: 4.305494962933707\n",
      "Final Score: 2.9206829505188847\n",
      "Final Score: 1.8683393514156812\n",
      "Final Score: 1.0513165407293787\n",
      "Final Score: 0.8344103465468562\n",
      "Final Score: 1.647920495106883\n",
      "Final Score: 1.2258830358941821\n",
      "Final Score: 1.0149220375527763\n",
      "Final Score: 2.4562986354224443\n",
      "Final Score: 1.0107237885848328\n",
      "Final Score: 3.3376870192005503\n",
      "Final Score: 2.25329649322706\n",
      "Final Score: 0.9328361762598324\n",
      "Final Score: 1.287738970072059\n",
      "Final Score: 4.437952089231823\n",
      "Final Score: 3.7522519591331904\n",
      "Final Score: 1.1552510396608149\n",
      "Final Score: 0.9661581004446135\n",
      "Final Score: 0.9891082354976948\n",
      "Final Score: 4.477476496830132\n",
      "Final Score: 1.1269689007873438\n",
      "Final Score: 1.7075388903046842\n",
      "Final Score: 1.0443511845819669\n",
      "Final Score: 1.110147216910454\n",
      "Final Score: 1.026966730579089\n",
      "Final Score: 2.0773619354100785\n",
      "Final Score: 3.2654153622880266\n",
      "Final Score: 3.9242531482599627\n",
      "Final Score: 4.076141703940545\n",
      "Final Score: 1.1641586693748949\n",
      "Final Score: 2.511016054682507\n",
      "Final Score: 2.543059180539009\n",
      "Final Score: 1.043743472389032\n",
      "Final Score: 1.1044719284758766\n",
      "Final Score: 3.064215383519403\n",
      "Final Score: 5.012793356668801\n",
      "Final Score: 1.1964217780600048\n",
      "Final Score: 2.8707792859853654\n",
      "Final Score: 1.2313284105963527\n",
      "Final Score: 2.1348711170572243\n",
      "Final Score: 1.4111389029067614\n",
      "Final Score: 1.5499460398580147\n",
      "Final Score: 5.596165856261443\n",
      "Final Score: 1.8276942120799344\n",
      "Final Score: 0.9137755482689893\n",
      "Final Score: 2.354499527377652\n",
      "Final Score: 5.287928503450146\n",
      "Final Score: 5.139996101366737\n",
      "Final Score: 3.4370330024462126\n",
      "Final Score: 4.41558395496517\n",
      "Final Score: 1.0834893025045365\n",
      "Final Score: 0.9900590326222282\n",
      "Final Score: 4.205243643502028\n",
      "Final Score: 1.312547032142953\n",
      "Final Score: 1.1060472346129706\n",
      "Final Score: 0.8677143972294521\n",
      "Final Score: 0.9691815284907067\n",
      "Final Score: 3.624425208987352\n",
      "Final Score: 2.5626635623287344\n",
      "Final Score: 4.920402211799223\n",
      "Final Score: 4.1209054900828015\n",
      "Final Score: 4.935040323628957\n",
      "Final Score: 0.8847144312518075\n",
      "Final Score: 1.1370856220495356\n",
      "Final Score: 1.0573660131437834\n",
      "Final Score: 1.9962137035962173\n",
      "Final Score: 0.9113815286607267\n",
      "Final Score: 2.1357395565721693\n",
      "Final Score: 1.362992635392353\n",
      "Final Score: 1.3825855425412787\n",
      "Final Score: 2.806460043118937\n",
      "Final Score: 1.0428156584867951\n",
      "Final Score: 1.1095242469769417\n",
      "Final Score: 2.735914776823853\n",
      "Final Score: 1.0062345012623697\n",
      "Final Score: 1.2263650212580353\n",
      "Final Score: 1.5077483078768426\n",
      "Final Score: 0.7792530621161524\n",
      "Final Score: 1.0697909824316558\n",
      "Final Score: 0.9261448606753676\n",
      "Final Score: 3.459588368036904\n",
      "Final Score: 0.9840781267486194\n",
      "Final Score: 0.989267089036481\n",
      "Final Score: 2.7196887581609297\n",
      "Final Score: 1.357546192537348\n",
      "Final Score: 1.0942178056568832\n",
      "Final Score: 3.2976424034782226\n",
      "Final Score: 4.093758085794073\n",
      "Final Score: 0.8978233612087034\n",
      "Final Score: 2.078427873822803\n",
      "Final Score: 3.322384059543795\n",
      "Final Score: 2.42709504644641\n",
      "Final Score: 1.0504259301715224\n",
      "Final Score: 1.144133450424835\n",
      "Final Score: 1.0034739845990113\n",
      "Final Score: 1.0737064148186688\n",
      "Final Score: 0.7998842555996567\n",
      "Final Score: 1.0066971744505153\n",
      "Final Score: 2.200487135512859\n",
      "Final Score: 2.909340189495599\n",
      "Final Score: 2.30223162295611\n",
      "Final Score: 3.61722228804642\n",
      "Final Score: 1.0118742347390783\n",
      "Final Score: 1.2242374054433545\n",
      "Final Score: 0.8315915845523016\n",
      "Final Score: 1.4190798903837398\n",
      "Final Score: 0.9035195536758646\n",
      "Final Score: 0.8978404017304038\n",
      "Final Score: 1.288133328532834\n",
      "Final Score: 1.0352570095309486\n",
      "Final Score: 3.3555662837364153\n",
      "Final Score: 0.997169256899763\n",
      "Final Score: 1.116484889081259\n",
      "Final Score: 2.8100195945162842\n",
      "Final Score: 1.6922532558497863\n",
      "Final Score: 5.440137824869157\n",
      "Final Score: 4.48125508271916\n",
      "Final Score: 1.2416289638881133\n",
      "Final Score: 3.1475295470442677\n",
      "Final Score: 1.0525958454460898\n",
      "Final Score: 1.093845921843015\n",
      "Final Score: 1.5247653582635734\n",
      "Final Score: 2.075334189258558\n",
      "Final Score: 1.112167212199289\n",
      "Final Score: 2.806557382369712\n",
      "Final Score: 1.880706018460509\n",
      "Final Score: 0.844215249583433\n",
      "Final Score: 2.704236358654959\n",
      "Final Score: 4.1993993174853745\n",
      "Final Score: 1.2091278623242303\n",
      "Final Score: 0.8536716735408378\n",
      "Final Score: 1.8861150314820316\n",
      "Final Score: 5.857728325395248\n",
      "Final Score: 1.6799399109030155\n",
      "Final Score: 1.2490994055049596\n",
      "Final Score: 0.9866917077959607\n",
      "Final Score: 1.0577647170642983\n",
      "Final Score: 3.967018371325841\n",
      "Final Score: 1.3966851884240699\n",
      "Final Score: 1.2188714010375754\n",
      "Final Score: 2.601448760031153\n",
      "Final Score: 2.3136340782300424\n",
      "Final Score: 4.799169751014465\n",
      "Final Score: 0.9082949276654516\n",
      "Final Score: 3.124288830869786\n",
      "Final Score: 2.8411689998572767\n",
      "Final Score: 1.1895747229079978\n",
      "Final Score: 3.310687159061707\n",
      "Final Score: 1.2673371054833107\n",
      "Final Score: 0.9418164804443854\n",
      "Final Score: 0.8991327457978955\n",
      "Final Score: 1.159104578950814\n",
      "Final Score: 3.3059859165911147\n",
      "Final Score: 4.381592796262988\n",
      "Final Score: 5.5048497127616365\n",
      "Final Score: 3.2002164936146715\n",
      "Final Score: 1.0514058571730625\n",
      "Final Score: 2.366150335451624\n",
      "Final Score: 5.696127631773393\n",
      "Final Score: 3.4422923146576707\n",
      "Final Score: 1.317321438533088\n",
      "Final Score: 1.3121864729733765\n",
      "Final Score: 1.0839857407910607\n",
      "Final Score: 1.5209803527159338\n",
      "Final Score: 3.5964372285845734\n",
      "Final Score: 1.7932351315547645\n",
      "Final Score: 1.0560951919561254\n",
      "Final Score: 0.9437474827711465\n",
      "Final Score: 1.1039355077929662\n",
      "Final Score: 1.2015917775668938\n",
      "Final Score: 3.8542612953992617\n",
      "Final Score: 3.093330865451297\n",
      "Final Score: 1.0267636632901043\n",
      "Final Score: 1.6244905188441308\n",
      "Final Score: 1.038584690510533\n",
      "Final Score: 0.8946694162073964\n",
      "Final Score: 0.9839280879026071\n",
      "Final Score: 5.520136637394097\n",
      "Final Score: 1.0033094420660298\n",
      "Final Score: 2.525578203364179\n",
      "Final Score: 4.354252330840716\n",
      "Final Score: 0.8596999752039685\n",
      "Final Score: 1.0265221188609361\n",
      "Final Score: 2.1930681604094318\n",
      "Final Score: 1.0280004511832233\n",
      "Final Score: 0.9173075104593837\n",
      "Final Score: 1.0122342528344737\n",
      "Final Score: 1.0402435230353448\n",
      "Final Score: 1.1218977985927665\n",
      "Final Score: 1.0435528927482305\n",
      "Final Score: 1.0655646138139638\n",
      "Final Score: 1.9455274164919856\n",
      "Final Score: 1.1007328656893973\n",
      "Final Score: 1.0656373221327327\n",
      "Final Score: 1.0310859274647661\n",
      "Final Score: 0.9657044698897519\n",
      "Final Score: 4.613414781494983\n",
      "Final Score: 4.972769779206736\n",
      "Final Score: 1.0359841443470454\n",
      "Final Score: 1.4389550304291376\n",
      "Final Score: 1.0213423852542085\n",
      "Final Score: 4.699132191750671\n",
      "Final Score: 0.8504115404836281\n",
      "Final Score: 0.7757821922955626\n",
      "Final Score: 1.0711348559718803\n",
      "Final Score: 1.1340766458430502\n",
      "Final Score: 1.624002923137169\n",
      "Final Score: 1.8668349736393113\n",
      "Final Score: 0.9155648962329016\n",
      "Final Score: 1.0244685048344477\n",
      "Final Score: 5.302374074593704\n",
      "Final Score: 2.807079295074415\n",
      "Final Score: 1.609054878855575\n",
      "Final Score: 0.8096898009488085\n",
      "Final Score: 3.1489692318456064\n",
      "Final Score: 3.6682015047350203\n",
      "Final Score: 1.0785912436257976\n",
      "Final Score: 1.8414234966429721\n",
      "Final Score: 1.0307878151706895\n",
      "Final Score: 1.0284161679781911\n",
      "Final Score: 0.7980165014553265\n",
      "Final Score: 1.1297472794821226\n",
      "Final Score: 1.7768946708521802\n",
      "Final Score: 0.9731246415244814\n",
      "Final Score: 1.0440251560723823\n",
      "Final Score: 1.2194108369493049\n",
      "Final Score: 2.8285255137361704\n",
      "Final Score: 1.2655055434785574\n",
      "Final Score: 4.012888535166324\n",
      "Final Score: 1.116963789194672\n",
      "Final Score: 1.5841271304866509\n",
      "Final Score: 3.1988292210975726\n",
      "Final Score: 1.0125343668478795\n",
      "Final Score: 0.7475262286821843\n",
      "Final Score: 1.0305057610743233\n",
      "Final Score: 1.0194697075510044\n",
      "Final Score: 4.077371171854434\n",
      "Final Score: 4.2167158739956125\n",
      "Final Score: 0.8994511654874814\n",
      "Final Score: 0.957735024215087\n",
      "Final Score: 2.0345072826807575\n",
      "Final Score: 0.7930562913028462\n",
      "Final Score: 0.8615994625652835\n",
      "Final Score: 3.6054000994916056\n",
      "Final Score: 4.582064929996798\n",
      "Final Score: 2.00300070788705\n",
      "Final Score: 2.1264463821777584\n",
      "Final Score: 3.723597194065204\n",
      "Final Score: 0.971128899807694\n",
      "Final Score: 2.9437864436690764\n",
      "Final Score: 0.8325519672486449\n",
      "Final Score: 1.3007126055293392\n",
      "Final Score: 1.1979649742985674\n",
      "Final Score: 1.7348319406682027\n",
      "Final Score: 1.164312555113104\n",
      "Final Score: 3.2164204078210035\n",
      "Final Score: 3.329768352606584\n",
      "Final Score: 1.0102575186129483\n",
      "Final Score: 2.679008121918626\n",
      "Final Score: 2.2483220002772493\n",
      "Final Score: 2.7889019780565305\n",
      "Final Score: 1.1519971559237547\n",
      "Final Score: 4.678804986857353\n",
      "Final Score: 4.615626800531773\n",
      "Final Score: 1.1298656475268045\n",
      "Final Score: 0.87562274380636\n",
      "Final Score: 0.917548541035033\n",
      "Final Score: 4.19521567050379\n",
      "Final Score: 1.3559218125185417\n",
      "Final Score: 1.022926589320289\n",
      "Final Score: 1.776672689065418\n",
      "Final Score: 1.0704784939405971\n",
      "Final Score: 0.8110914980642328\n",
      "Final Score: 4.118520449592617\n",
      "Final Score: 1.0432041007865949\n",
      "Final Score: 1.191716078245411\n",
      "Final Score: 3.2794991547006447\n",
      "Final Score: 1.0725777179656952\n",
      "Final Score: 1.7016710717092631\n",
      "Final Score: 0.941585689013418\n",
      "Final Score: 5.211557137280083\n",
      "Final Score: 1.681996084576878\n",
      "Final Score: 3.4207447853663098\n",
      "Final Score: 5.631441689076847\n",
      "Final Score: 0.9020484401557954\n",
      "Final Score: 1.3072411748113892\n",
      "Final Score: 1.0545835834986892\n",
      "Final Score: 4.471730362926786\n",
      "Final Score: 4.7540423924364\n",
      "Final Score: 1.121948897764233\n",
      "Final Score: 2.079130249091999\n",
      "Final Score: 2.994068930317919\n",
      "Final Score: 1.0001359872912683\n",
      "Final Score: 0.9412788808176393\n",
      "Final Score: 3.8150976035863096\n",
      "Final Score: 3.0723353785168417\n",
      "Final Score: 1.2744890027767652\n",
      "Final Score: 2.304105589877085\n",
      "Final Score: 0.9698238315607433\n",
      "Final Score: 0.9851871513965527\n",
      "Final Score: 1.2288851455825014\n",
      "Final Score: 2.6516595895061195\n",
      "Final Score: 1.6215172465109637\n",
      "Final Score: 2.4264719303651257\n",
      "Final Score: 1.3794762138726147\n",
      "Final Score: 1.0913030459481647\n",
      "Final Score: 0.9911373235038213\n",
      "Final Score: 5.346687342691785\n",
      "Final Score: 0.9710952928566845\n",
      "Final Score: 2.1099093452879005\n",
      "Final Score: 3.0702897841742427\n",
      "Final Score: 2.3198630582225723\n",
      "Final Score: 0.8937756747747416\n",
      "Final Score: 1.2049914565131679\n",
      "Final Score: 1.102537136898373\n",
      "Final Score: 2.1372814392879813\n",
      "Final Score: 1.3036989001216805\n",
      "Final Score: 2.4136051139768746\n",
      "Final Score: 3.157288488660057\n",
      "Final Score: 4.0690929699623\n",
      "Final Score: 1.7084310344975413\n",
      "Final Score: 1.1084340029706077\n",
      "Final Score: 0.8304090434773758\n",
      "Final Score: 3.006343322598414\n",
      "Final Score: 2.0049237716305575\n",
      "Final Score: 1.8287752886135382\n",
      "Final Score: 0.8891240304110499\n",
      "Final Score: 2.1816221162781946\n",
      "Final Score: 5.165777933529824\n",
      "Final Score: 0.9579145223793148\n",
      "Final Score: 1.2691155030518888\n",
      "Final Score: 2.693672812479393\n",
      "Final Score: 1.1993116503959604\n",
      "Final Score: 4.7307945851597335\n",
      "Final Score: 2.9777178902275114\n",
      "Final Score: 0.9878759240705076\n",
      "Final Score: 1.064919801315691\n",
      "Final Score: 1.0844530964094221\n",
      "Final Score: 2.0065023587698634\n",
      "Final Score: 2.045181160379954\n",
      "Final Score: 2.111881754078326\n",
      "Final Score: 2.750839816094408\n",
      "Final Score: 3.6764984109475005\n",
      "Final Score: 2.0168084245843367\n",
      "Final Score: 1.140235090966182\n",
      "Final Score: 0.9432364298892403\n",
      "Final Score: 2.0379083974429797\n",
      "Final Score: 1.2007090600764931\n",
      "Final Score: 1.1018635429368342\n",
      "Final Score: 1.231867067700517\n",
      "Final Score: 1.8448819604310709\n",
      "Final Score: 4.488295116320883\n",
      "Final Score: 0.9974988794061851\n",
      "Final Score: 0.990585664028763\n",
      "Final Score: 1.9927173598801424\n",
      "Final Score: 2.488765390999716\n",
      "Final Score: 2.4221780488231794\n",
      "Final Score: 2.254723195623631\n",
      "Final Score: 2.7416045967764013\n",
      "Final Score: 1.0372386109999816\n",
      "Final Score: 2.580645074341379\n",
      "Final Score: 0.8759571575931882\n",
      "Final Score: 1.0934424895366464\n",
      "Final Score: 1.0674243619540844\n",
      "Final Score: 1.7625665093316272\n",
      "Final Score: 5.337227873814861\n",
      "Final Score: 4.554482835822653\n",
      "Final Score: 3.42453365083236\n",
      "Final Score: 5.351126706591318\n",
      "Final Score: 1.077616916340776\n",
      "Final Score: 1.7013907268143247\n",
      "Final Score: 2.2375932049516374\n",
      "Final Score: 0.8269613827574696\n",
      "Final Score: 0.9682437317097874\n",
      "Final Score: 2.282425505482748\n",
      "Final Score: 1.45055909582159\n",
      "Final Score: 1.1781903842304247\n",
      "Final Score: 1.7575484793999356\n",
      "Final Score: 1.2333692987421219\n",
      "Final Score: 1.18575913442655\n",
      "Final Score: 0.948204164139142\n",
      "Final Score: 0.9568869109994133\n",
      "Final Score: 2.2938354930364206\n",
      "Final Score: 1.5203385559532656\n",
      "Final Score: 3.7357332128603704\n",
      "Final Score: 1.3107497799018986\n",
      "Final Score: 1.341199903773969\n",
      "Final Score: 3.411284834147475\n",
      "Final Score: 4.909349294160764\n",
      "Final Score: 1.1417564100170994\n",
      "Final Score: 0.931388826392318\n",
      "Final Score: 1.1399619977926747\n",
      "Final Score: 2.513078693787203\n",
      "Final Score: 1.2834830383262745\n",
      "Final Score: 5.724408613263524\n",
      "Final Score: 3.7948628967187426\n",
      "Final Score: 3.517148898573741\n",
      "Final Score: 1.0907581567397333\n",
      "Final Score: 0.9484679789815134\n",
      "Final Score: 3.652152318633106\n",
      "Final Score: 1.3235176894891774\n",
      "Final Score: 3.550778296595592\n",
      "Final Score: 2.568624287314312\n",
      "Final Score: 1.0861111454684211\n",
      "Final Score: 4.573313712706608\n",
      "Final Score: 1.1155643274757527\n",
      "Final Score: 5.28729912224833\n",
      "Final Score: 2.004790272131399\n",
      "Final Score: 1.012437426539205\n",
      "Final Score: 0.8023130976630797\n",
      "Final Score: 1.2412299656589845\n",
      "Final Score: 5.727889628400691\n",
      "Final Score: 5.565057684022863\n",
      "Final Score: 0.9935140269973618\n",
      "Final Score: 6.927277306839583\n",
      "Final Score: 1.930993577644406\n",
      "Final Score: 1.1199547845078053\n",
      "Final Score: 3.617847947690139\n",
      "Final Score: 0.792686753763418\n",
      "Final Score: 1.797693572796114\n",
      "Final Score: 1.4061475474184062\n",
      "Final Score: 4.0167702280460125\n",
      "Final Score: 0.9470293302824804\n",
      "Final Score: 1.440037434429012\n",
      "Final Score: 0.9262242256505464\n",
      "Final Score: 5.768516986909762\n",
      "Final Score: 1.057736923550584\n",
      "Final Score: 1.0615317670735818\n",
      "Final Score: 1.4038095994648958\n",
      "Final Score: 1.1664601344468986\n",
      "Final Score: 2.7850156676851565\n",
      "Final Score: 1.0880200803583957\n",
      "Final Score: 0.840398438358953\n",
      "Final Score: 3.4894714394816244\n",
      "Final Score: 1.8510464814856804\n",
      "Final Score: 2.1450690751193973\n",
      "Final Score: 1.0123176508732903\n",
      "Final Score: 5.231119458681844\n",
      "Final Score: 0.9792488033707386\n",
      "Final Score: 2.9934089547434075\n",
      "Final Score: 1.8378128317029085\n",
      "Final Score: 3.5600965769332698\n",
      "Final Score: 3.0165764379006688\n",
      "Final Score: 2.665839196324778\n",
      "Final Score: 1.1384034300997505\n",
      "Final Score: 1.0895376027411166\n",
      "Final Score: 0.9550324701970315\n",
      "Final Score: 1.0258728120292246\n",
      "Final Score: 1.1414773356134733\n",
      "Final Score: 3.104153073241547\n",
      "Final Score: 3.7081776307548084\n",
      "Final Score: 1.3779807290115578\n",
      "Final Score: 4.681009996090705\n",
      "Final Score: 0.9247692022536742\n",
      "Final Score: 1.6407925561180983\n",
      "Final Score: 2.0445589809601463\n",
      "Final Score: 1.6290726753676998\n",
      "Final Score: 3.0120547511161755\n",
      "Final Score: 1.2333529213317604\n",
      "Final Score: 1.1877705907437828\n",
      "Final Score: 0.913623991800614\n",
      "Final Score: 0.8056008017449188\n",
      "Final Score: 0.824432677878541\n",
      "Final Score: 2.976305490955193\n",
      "Final Score: 1.9503303709690012\n",
      "Final Score: 1.0806697321876337\n",
      "Final Score: 1.0739330532221318\n",
      "Final Score: 1.702169490827623\n",
      "Final Score: 2.290642502968408\n",
      "Final Score: 1.0021709338564464\n",
      "Final Score: 1.795299097667491\n",
      "Final Score: 1.2939103744641676\n",
      "Final Score: 1.0585654647921134\n",
      "Final Score: 1.5667301615956797\n",
      "Final Score: 4.306151326954001\n",
      "Final Score: 1.579418857759232\n",
      "Final Score: 1.0664764148917145\n",
      "Final Score: 1.0023538797921263\n",
      "Final Score: 2.050144492496412\n",
      "Final Score: 0.7413436137373919\n",
      "Final Score: 1.9457892338762477\n",
      "Final Score: 2.551325129357658\n",
      "Final Score: 1.7233783917891183\n",
      "Final Score: 3.90489339649168\n",
      "Final Score: 1.6358752121296427\n",
      "Final Score: 2.4937796659223004\n",
      "Final Score: 1.7245405320799378\n",
      "Final Score: 1.5617611822986455\n",
      "Final Score: 2.852840389450846\n",
      "Final Score: 4.420900116334445\n",
      "Final Score: 3.1203950786604318\n",
      "Final Score: 1.11236753449018\n",
      "Final Score: 0.7450471893265215\n",
      "Final Score: 4.950713387934723\n",
      "Final Score: 0.8926561339161498\n",
      "Final Score: 2.8273134324775366\n",
      "Final Score: 1.9220511211848956\n",
      "Final Score: 1.3576315162704358\n",
      "Final Score: 1.1219358788537073\n",
      "Final Score: 1.0171070699772349\n",
      "Final Score: 1.1020055191279239\n",
      "Final Score: 3.278662065529629\n",
      "Final Score: 0.9103569752144243\n",
      "Final Score: 0.9229959216587844\n",
      "Final Score: 0.9455269794981025\n",
      "Final Score: 2.3531708673308938\n",
      "Final Score: 2.8849443998912356\n",
      "Final Score: 1.0880490606622537\n",
      "Final Score: 0.9868408523299856\n",
      "Final Score: 3.045609430233527\n",
      "Final Score: 0.8377008781682439\n",
      "Final Score: 1.314915439096532\n",
      "Final Score: 1.1672001897355124\n",
      "Final Score: 2.3868955797600147\n",
      "Final Score: 3.304762038748782\n",
      "Final Score: 1.1353421624506586\n",
      "Final Score: 1.0172668099238849\n",
      "Final Score: 1.2421382532517131\n",
      "Final Score: 3.4197024714668256\n",
      "Final Score: 1.0506449264193898\n",
      "Final Score: 4.454246313127347\n",
      "Final Score: 1.928010790837312\n",
      "Final Score: 0.9248318918909686\n",
      "Final Score: 0.8429353780438426\n",
      "Final Score: 1.2529619308649023\n",
      "Final Score: 4.013441613340809\n",
      "Final Score: 1.061734682728084\n",
      "Final Score: 1.1923815354126504\n",
      "Final Score: 3.992108005742706\n",
      "Final Score: 3.026806523368223\n",
      "Final Score: 1.0901006786499066\n",
      "Final Score: 1.0034491960065655\n",
      "Final Score: 1.5300270079901828\n",
      "Final Score: 1.260453990431392\n",
      "Final Score: 3.3846819676998328\n",
      "Final Score: 5.449764860177854\n",
      "Final Score: 0.9522999771940033\n",
      "Final Score: 2.5050327142494755\n",
      "Final Score: 0.9625877991858829\n",
      "Final Score: 0.9321340443787618\n",
      "Final Score: 1.097832059565267\n",
      "Final Score: 2.9554055858694497\n",
      "Final Score: 0.8203350372074376\n",
      "Final Score: 1.3037066997753202\n",
      "Final Score: 3.317835575219351\n",
      "Final Score: 0.8737133844407036\n",
      "Final Score: 0.9800428887774011\n",
      "Final Score: 4.815675530472693\n",
      "Final Score: 1.9464838345264146\n",
      "Final Score: 2.060175922779178\n",
      "Final Score: 1.0381849130228242\n",
      "Final Score: 2.162853934281072\n",
      "Final Score: 4.048695849852847\n",
      "Final Score: 1.0216570905993414\n",
      "Final Score: 6.017348756305978\n",
      "Final Score: 1.0223108718410394\n",
      "Final Score: 3.0457556702236728\n",
      "Final Score: 0.8501329779346346\n",
      "Final Score: 2.7986659164109318\n",
      "Final Score: 0.8461572186353281\n",
      "Final Score: 1.0141369803979807\n",
      "Final Score: 1.1018788149720158\n",
      "Final Score: 3.2297134497135485\n",
      "Final Score: 1.187351633093431\n",
      "Final Score: 1.1094966084045146\n",
      "Final Score: 4.900954968318045\n",
      "Final Score: 0.8446399386420911\n",
      "Final Score: 1.1681234558551106\n",
      "Final Score: 1.0086015948459668\n",
      "Final Score: 3.995162397620396\n",
      "Final Score: 1.3300976377243683\n",
      "Final Score: 4.536026549909095\n",
      "Final Score: 1.6386502184870333\n",
      "Final Score: 0.986878205626791\n",
      "Final Score: 2.7202788558469546\n",
      "Final Score: 0.9835302524021193\n",
      "Final Score: 4.853866245932986\n",
      "Final Score: 2.4960149427028835\n",
      "Final Score: 4.273546483997663\n",
      "Final Score: 3.160438945115555\n",
      "Final Score: 2.179015933401531\n",
      "Final Score: 1.0380424665633716\n",
      "Final Score: 4.524349144592231\n",
      "Final Score: 5.303346602713516\n",
      "Final Score: 1.026325627457647\n",
      "Final Score: 0.8984818423105595\n",
      "Final Score: 3.0402859250625274\n",
      "Final Score: 1.0272203493499625\n",
      "Final Score: 4.6525875563671875\n",
      "Final Score: 3.446243227840716\n",
      "Final Score: 0.9594790448741376\n",
      "Final Score: 3.0272657262784204\n",
      "Final Score: 2.6768068653824137\n",
      "Final Score: 0.8617296111964792\n",
      "Final Score: 3.0229377766386776\n",
      "Final Score: 2.446220565389831\n",
      "Final Score: 3.093088061356928\n",
      "Final Score: 1.217725127173102\n",
      "Final Score: 4.607112830284887\n",
      "Final Score: 3.913898509231079\n",
      "Final Score: 0.8483298743351019\n",
      "Final Score: 1.0411228072442218\n",
      "Final Score: 3.5146184116386747\n",
      "Final Score: 1.213105535413659\n",
      "Final Score: 2.1143062914741395\n",
      "Final Score: 0.9587404312114727\n",
      "Final Score: 1.0360667730472344\n",
      "Final Score: 0.7937278767059402\n",
      "Final Score: 1.1731944744555443\n",
      "Final Score: 2.262570392159178\n",
      "Final Score: 5.251649997307146\n",
      "Final Score: 3.550110934328341\n",
      "Final Score: 0.9818305802136889\n",
      "Final Score: 1.0150987502811792\n",
      "Final Score: 1.53458973931395\n",
      "Final Score: 1.238717865656266\n",
      "Final Score: 4.200094357793817\n",
      "Final Score: 0.9088512304020686\n",
      "Final Score: 4.385875489809362\n",
      "Final Score: 1.0861763346531448\n",
      "Final Score: 1.4069002528195353\n",
      "Final Score: 1.1378400876793209\n",
      "Final Score: 0.993965304880652\n",
      "Final Score: 1.3177374809795377\n",
      "Final Score: 1.8127865123578657\n",
      "Final Score: 1.1778315105206776\n",
      "Final Score: 2.7348192430694898\n",
      "Final Score: 4.552070947884282\n",
      "Final Score: 2.8889718217966487\n",
      "Final Score: 1.1237934295087835\n",
      "Final Score: 4.039488453649385\n",
      "Final Score: 1.7571522602599645\n",
      "Final Score: 2.777332434703439\n",
      "Final Score: 1.1360867616440586\n",
      "Final Score: 4.842180558506467\n",
      "Final Score: 1.231546716448438\n",
      "Final Score: 0.8965061064844924\n",
      "Final Score: 0.8175060557640546\n",
      "Final Score: 1.0384567875266877\n",
      "Final Score: 0.8725501398521046\n",
      "Final Score: 5.329176082667559\n",
      "Final Score: 1.0211546548356352\n",
      "Final Score: 2.088788938025149\n",
      "Final Score: 4.066689662609982\n",
      "Final Score: 1.1997074347740098\n",
      "Final Score: 1.2044244973614158\n",
      "Final Score: 1.1278366108193283\n",
      "Final Score: 0.9134531679741396\n",
      "Final Score: 1.207543302335503\n",
      "Final Score: 2.8901226352102585\n",
      "Final Score: 0.9074906114963656\n",
      "Final Score: 0.8714298058218489\n",
      "Final Score: 1.12654693156612\n",
      "Final Score: 2.051295569095925\n",
      "Final Score: 5.469140574189008\n",
      "Final Score: 2.2969504490625114\n",
      "Final Score: 5.615591350633458\n",
      "Final Score: 0.9627686434296224\n",
      "Final Score: 2.803981493585205\n",
      "Final Score: 2.7462885071957013\n",
      "Final Score: 2.208010597545683\n",
      "Final Score: 1.8332043524782826\n",
      "Final Score: 0.9910253594043061\n",
      "Final Score: 1.756835356842286\n",
      "Final Score: 1.1891254301896421\n",
      "Final Score: 2.118162697320101\n",
      "Final Score: 2.840560225178269\n",
      "Final Score: 2.3442627488631054\n",
      "Final Score: 4.852393314055016\n",
      "Final Score: 1.54381262186176\n",
      "Final Score: 0.7773165251349923\n",
      "Final Score: 1.8273780070282075\n",
      "Final Score: 1.0132336518256633\n",
      "Final Score: 1.333909275000798\n",
      "Final Score: 1.0880920770230864\n",
      "Final Score: 1.0573123841249799\n",
      "Final Score: 0.976456907126641\n",
      "Final Score: 2.548106486572536\n",
      "Final Score: 2.2259475868135774\n",
      "Final Score: 1.873018099050584\n",
      "Final Score: 1.408537424116142\n",
      "Final Score: 3.0858457710296583\n",
      "Final Score: 1.167978804066426\n",
      "Final Score: 0.9919680298686494\n",
      "Final Score: 0.9625166859805762\n",
      "Final Score: 1.5262503904107376\n",
      "Final Score: 2.205929445545019\n",
      "Final Score: 0.9920702329589094\n",
      "Final Score: 1.1093463522473044\n",
      "Final Score: 0.8632539211148837\n",
      "Final Score: 5.548652560262778\n",
      "Final Score: 3.1808746575151003\n",
      "Final Score: 2.9483731891086196\n",
      "Final Score: 1.110435748419941\n",
      "Final Score: 2.6236772660194587\n",
      "Final Score: 1.1266421682393986\n",
      "Final Score: 1.8029859949917526\n",
      "Final Score: 1.3838578683754603\n",
      "Final Score: 4.70168970945195\n",
      "Final Score: 1.1036978283079786\n",
      "Final Score: 1.1684150392266386\n",
      "Final Score: 3.4486178188907255\n",
      "Final Score: 3.08242567425244\n",
      "Final Score: 1.4293266196020882\n",
      "Final Score: 1.966619897943499\n",
      "Final Score: 0.983791309431225\n",
      "Final Score: 2.5396260175011647\n",
      "Final Score: 1.116407873561085\n",
      "Final Score: 1.6345666600655704\n",
      "Final Score: 1.896594857349796\n",
      "Final Score: 1.8984801821410249\n",
      "Final Score: 2.3958392678818816\n",
      "Final Score: 4.257300574477877\n",
      "Final Score: 5.314270242295967\n",
      "Final Score: 0.8355869373906961\n",
      "Final Score: 2.778466379183815\n",
      "Final Score: 1.858453879330465\n",
      "Final Score: 1.1525119595881774\n",
      "Final Score: 2.0210553284793225\n",
      "Final Score: 1.4287589411302346\n",
      "Final Score: 0.9817892846739249\n",
      "Final Score: 2.686699551240757\n",
      "Final Score: 1.1011295091924713\n",
      "Final Score: 2.9510484235685452\n",
      "Final Score: 0.9439609236031972\n",
      "Final Score: 1.0078175848611928\n",
      "Final Score: 0.8957186154799291\n",
      "Final Score: 2.234332630653479\n",
      "Final Score: 0.8993839918695922\n",
      "Final Score: 0.8420385553054199\n",
      "Final Score: 2.6481469180293367\n",
      "Final Score: 2.6154561195497634\n",
      "Final Score: 1.8443287131887218\n",
      "Final Score: 1.7769389290206479\n",
      "Final Score: 1.3570413721879926\n",
      "Final Score: 2.751332852934112\n",
      "Final Score: 4.307617514851331\n",
      "Final Score: 0.9220925752573119\n",
      "Final Score: 2.1273755107156127\n",
      "Final Score: 1.1783205560487606\n",
      "Final Score: 1.0642458521920544\n",
      "Final Score: 1.2654079581691895\n",
      "Final Score: 1.201672355973782\n",
      "Final Score: 1.927029388735115\n",
      "Final Score: 2.365829596342709\n",
      "Final Score: 2.551681792893188\n",
      "Final Score: 1.1331395403569795\n",
      "Final Score: 1.672350622819403\n",
      "Final Score: 1.103683949235501\n",
      "Final Score: 2.0837504075417614\n",
      "Final Score: 0.9361995104634556\n",
      "Final Score: 2.21546658586872\n",
      "Final Score: 1.5486031019837887\n",
      "Final Score: 1.0883998918459115\n",
      "Final Score: 1.2624925422149524\n",
      "Final Score: 1.1512237362502364\n",
      "Final Score: 1.4229396993220464\n",
      "Final Score: 4.011122382532356\n",
      "Final Score: 1.8329567746507736\n",
      "Final Score: 2.8055391126579785\n",
      "Final Score: 1.1668707240568563\n",
      "Final Score: 1.0839255942896264\n",
      "Final Score: 1.211796660447256\n",
      "Final Score: 4.0863856073212\n",
      "Final Score: 1.0728278181011586\n",
      "Final Score: 2.3564033190726934\n",
      "Final Score: 1.174188187318441\n",
      "Final Score: 1.4437195406337755\n",
      "Final Score: 1.945601106218851\n",
      "Final Score: 3.0125181623953337\n",
      "Final Score: 0.8624915269093542\n",
      "Final Score: 1.6777661220199234\n",
      "Final Score: 4.196656741587427\n",
      "Final Score: 0.7865295361411994\n",
      "Final Score: 1.0615614309222696\n",
      "Final Score: 1.9412807566416603\n",
      "Final Score: 1.7454541958000007\n",
      "Final Score: 1.790684682172611\n",
      "Final Score: 0.8898352510306355\n",
      "Final Score: 1.0788800093589221\n",
      "Final Score: 2.7572371207295854\n",
      "Final Score: 4.241926580151006\n",
      "Final Score: 0.9799245820655413\n",
      "Final Score: 1.114617125454225\n",
      "Final Score: 1.1973802979678663\n",
      "Final Score: 1.047511250841221\n",
      "Final Score: 0.8146999284247697\n",
      "Final Score: 0.845900831344083\n",
      "Final Score: 1.2924934950285527\n",
      "Final Score: 0.9954067400312715\n",
      "Final Score: 1.1391646638870714\n",
      "Final Score: 1.9241209513041937\n",
      "Final Score: 1.2507982497659722\n",
      "Final Score: 4.509506049721702\n",
      "Final Score: 0.9003127117123526\n",
      "Final Score: 0.8278834516344971\n",
      "Final Score: 2.002060876693596\n",
      "Final Score: 4.277986271452998\n",
      "Final Score: 1.141451653635237\n",
      "Final Score: 2.598636658579486\n",
      "Final Score: 1.6136512250360715\n",
      "Final Score: 1.0275373392979794\n",
      "Final Score: 3.7370348132543345\n",
      "Final Score: 1.3531909549422074\n",
      "Final Score: 1.0574067244577232\n",
      "Final Score: 1.277934197788623\n",
      "Final Score: 5.178688930236883\n",
      "Final Score: 1.1069132076093577\n",
      "Final Score: 0.9186701062336189\n",
      "Final Score: 1.7341013004880281\n",
      "Final Score: 1.1198907390780386\n",
      "Final Score: 2.619951190040898\n",
      "Final Score: 2.7062107312710557\n",
      "Final Score: 1.032565340732037\n",
      "Final Score: 1.370898417487607\n",
      "Final Score: 3.0639039077997032\n",
      "Final Score: 1.068650535088281\n",
      "Final Score: 4.6478013910532265\n",
      "Final Score: 4.211327730205049\n",
      "Final Score: 1.0755106583015444\n",
      "Final Score: 1.7158449312618815\n",
      "Final Score: 1.0841984769659565\n",
      "Final Score: 5.09088394703806\n",
      "Final Score: 1.15357851002263\n",
      "Final Score: 6.485127472087725\n",
      "Final Score: 1.1664707978926034\n",
      "Final Score: 0.8811042873316\n",
      "Final Score: 1.1448621346392713\n",
      "Final Score: 3.911335540850845\n",
      "Final Score: 4.463015509564699\n",
      "Final Score: 3.9255490079698663\n",
      "Final Score: 1.0886773754922896\n",
      "Final Score: 3.852211253170646\n",
      "Final Score: 0.8759408848332073\n",
      "Final Score: 0.872765940852037\n",
      "Final Score: 1.0060949996140218\n",
      "Final Score: 1.0491243979231664\n",
      "Final Score: 1.0152928552492562\n",
      "Final Score: 0.9090190289438382\n",
      "Final Score: 1.0251421459047765\n",
      "Final Score: 1.0901453416074902\n",
      "Final Score: 4.098768694899613\n",
      "Final Score: 0.9683532815885669\n",
      "Final Score: 1.0067988607870864\n",
      "Final Score: 0.8946181849246299\n",
      "Final Score: 3.657113822551489\n",
      "Final Score: 0.9344524874194159\n",
      "Final Score: 3.3860276386332924\n",
      "Final Score: 0.9480164326773572\n",
      "Final Score: 1.51404000165591\n",
      "Final Score: 3.6768463614355995\n",
      "Final Score: 4.208918304671068\n",
      "Final Score: 4.342675326014312\n",
      "Final Score: 2.990014567812278\n",
      "Final Score: 0.8680626352504806\n",
      "Final Score: 0.9126186573617658\n",
      "Final Score: 2.8928040174463665\n",
      "Final Score: 3.969945054983742\n",
      "Final Score: 4.59776254202858\n",
      "Final Score: 2.6694931239753594\n",
      "Final Score: 1.3537500777561569\n",
      "Final Score: 1.8574747069120852\n",
      "Final Score: 1.3442964010881011\n",
      "Final Score: 2.8110181709964333\n",
      "Final Score: 2.0523135628612614\n",
      "Final Score: 1.186704465949818\n",
      "Final Score: 5.339374770901097\n",
      "Final Score: 1.023963053237493\n",
      "Final Score: 3.099883671406725\n",
      "Final Score: 1.1332177550334792\n",
      "Final Score: 0.8998595154670685\n",
      "Final Score: 4.889455040155653\n",
      "Final Score: 1.3116201141056116\n",
      "Final Score: 3.8241600112353025\n",
      "Final Score: 3.182812165915825\n",
      "Final Score: 1.6946370577193082\n",
      "Final Score: 0.9370648264378556\n",
      "Final Score: 1.0271150452053706\n",
      "Final Score: 4.978537499049156\n",
      "Final Score: 1.6594448785500782\n",
      "Final Score: 2.525836572548621\n",
      "Final Score: 2.4060173495877093\n",
      "Final Score: 1.0756690964347686\n",
      "Final Score: 4.705666786235595\n",
      "Final Score: 5.394362155129782\n",
      "Final Score: 5.234461894450284\n",
      "Final Score: 3.562675948170911\n",
      "Final Score: 1.923678814151204\n",
      "Final Score: 2.642813933885023\n",
      "Final Score: 0.7992296880079421\n",
      "Final Score: 3.495889358434938\n",
      "Final Score: 1.169135760372219\n",
      "Final Score: 2.4838106734843195\n",
      "Final Score: 2.835873283571792\n",
      "Final Score: 5.479392591578149\n",
      "Final Score: 3.1503765755492017\n",
      "Final Score: 1.906111518928951\n",
      "Final Score: 0.9849927678080982\n",
      "Final Score: 1.8379917287609615\n",
      "Final Score: 5.583953177922374\n",
      "Final Score: 1.0693127429992624\n",
      "Final Score: 4.638627170148647\n",
      "Final Score: 0.9927066734843579\n",
      "Final Score: 1.1161030414988065\n",
      "Final Score: 1.0201906635075784\n",
      "Final Score: 1.0028705308215\n",
      "Final Score: 3.505712697416088\n",
      "Final Score: 1.6363158838309206\n",
      "Final Score: 0.9488304780544918\n",
      "Final Score: 0.9862401583982948\n",
      "Final Score: 0.8417814464674913\n",
      "Final Score: 2.490296669226495\n",
      "Final Score: 0.7923612134251946\n",
      "Final Score: 0.9577636549792543\n",
      "Final Score: 0.9485864316095056\n",
      "Final Score: 1.1391549974652198\n",
      "Final Score: 1.06365308474355\n",
      "Final Score: 0.9239256374219179\n",
      "Final Score: 4.798287047855108\n",
      "Final Score: 1.0069335126490853\n",
      "Final Score: 2.7757446033320305\n",
      "Final Score: 1.5492736748514477\n",
      "Final Score: 5.38291748156492\n",
      "Final Score: 2.2387593003788306\n",
      "Final Score: 1.1331106642411246\n",
      "Final Score: 1.3680365379436201\n",
      "Final Score: 2.538364602392655\n",
      "Final Score: 0.891678085242224\n",
      "Final Score: 2.9263651326420925\n",
      "Final Score: 1.0873245096534894\n",
      "Final Score: 2.791635466051172\n",
      "Final Score: 3.7667743385851815\n",
      "Final Score: 4.990922908640748\n",
      "Final Score: 1.1787355761236555\n",
      "Final Score: 3.154976876412921\n",
      "Final Score: 3.438256508849782\n",
      "Final Score: 1.9005704900485294\n",
      "Final Score: 1.097968280275725\n",
      "Final Score: 0.9874591551184229\n",
      "Final Score: 1.4696980714580379\n",
      "Final Score: 2.001935302011435\n",
      "Final Score: 4.601342719238318\n",
      "Final Score: 1.0352788430679183\n",
      "Final Score: 0.7892814109371354\n",
      "Final Score: 5.299829346811241\n",
      "Final Score: 1.336625338082686\n",
      "Final Score: 0.8829174401982566\n",
      "Final Score: 1.7779921306094564\n",
      "Final Score: 1.8434566884746995\n",
      "Final Score: 4.883853355364847\n",
      "Final Score: 1.1802919348433587\n",
      "Final Score: 4.0938145249890585\n",
      "Final Score: 0.7915026132247661\n",
      "Final Score: 2.9000515901402695\n",
      "Final Score: 1.0775757096740728\n",
      "Final Score: 2.3581890509486882\n",
      "Final Score: 1.0004419760587415\n",
      "Final Score: 0.8847099120077357\n",
      "Final Score: 4.499841730057476\n",
      "Final Score: 0.7863735144951118\n",
      "Final Score: 1.054198352265772\n",
      "Final Score: 2.7100461623021213\n",
      "Final Score: 1.8532187999583927\n",
      "Final Score: 1.0684377973815935\n",
      "Final Score: 1.141101707236082\n",
      "Final Score: 1.2687599772507518\n",
      "Final Score: 4.295245038052889\n",
      "Final Score: 2.6332089479245258\n",
      "Final Score: 0.9949207841876426\n",
      "Final Score: 1.206036769301403\n",
      "Final Score: 1.037416163662392\n",
      "Final Score: 0.9506572669420228\n",
      "Final Score: 4.169207567447321\n",
      "Final Score: 2.729641528074599\n",
      "Final Score: 0.8924650668429526\n",
      "Final Score: 3.188355376359382\n",
      "Final Score: 5.0318221891984045\n",
      "Final Score: 4.915488748607113\n",
      "Final Score: 1.249370061999826\n",
      "Final Score: 2.120730220018137\n",
      "Final Score: 1.0765915942792983\n",
      "Final Score: 3.647929216490686\n",
      "Final Score: 0.9792979486486826\n",
      "Final Score: 1.0047027205493473\n",
      "Final Score: 1.7394255741785338\n",
      "Final Score: 2.174485363539149\n",
      "Final Score: 1.229493122815415\n",
      "Final Score: 0.9518730068333336\n",
      "Final Score: 0.7990632540309267\n",
      "Final Score: 0.920614947797399\n",
      "Final Score: 2.5408691253358278\n",
      "Final Score: 0.9019543277283848\n",
      "Final Score: 0.8210914099376607\n",
      "Final Score: 4.405133875347977\n",
      "Final Score: 0.9535456573509894\n",
      "Final Score: 1.134316142876543\n",
      "Final Score: 0.9868978674806045\n",
      "Final Score: 0.8766895025373933\n",
      "Final Score: 0.9635113977225411\n",
      "Final Score: 1.141944108690462\n",
      "Final Score: 1.8405938142071796\n",
      "Final Score: 5.3474226843333605\n",
      "Final Score: 2.6380327247994972\n",
      "Final Score: 3.2419748380332365\n",
      "Final Score: 3.303399224514716\n",
      "Final Score: 2.3309794094362237\n",
      "Final Score: 1.1830880284752072\n",
      "Final Score: 2.451936409647387\n",
      "Final Score: 1.4757371803184496\n",
      "Final Score: 1.5232651633331793\n",
      "Final Score: 5.560777840753346\n",
      "Final Score: 1.8990661312487822\n",
      "Final Score: 2.0255403668200294\n",
      "Final Score: 1.0610231386261686\n",
      "Final Score: 1.0016695269026314\n",
      "Final Score: 2.6838405842968927\n",
      "Final Score: 4.07104126202527\n",
      "Final Score: 0.8036143889668084\n",
      "Final Score: 1.097524731324471\n",
      "Final Score: 1.2315958567059262\n",
      "Final Score: 4.937568583014933\n",
      "Final Score: 3.604069022454202\n",
      "Final Score: 0.795539860445637\n",
      "Final Score: 4.736689348322259\n",
      "Final Score: 1.4381701395340962\n",
      "Final Score: 2.66971642174606\n",
      "Final Score: 0.9857535711066909\n",
      "Final Score: 1.0201004244783756\n",
      "Final Score: 1.0153703341624736\n",
      "Final Score: 1.228480030823588\n",
      "Final Score: 1.1474432898375055\n",
      "Final Score: 0.9823427724064357\n",
      "Final Score: 5.369290985886201\n",
      "Final Score: 1.2865899527170046\n",
      "Final Score: 1.075177569601669\n",
      "Final Score: 5.488739331619509\n",
      "Final Score: 2.4500926335836235\n",
      "Final Score: 3.0982795008196007\n",
      "Final Score: 5.190208712953916\n",
      "Final Score: 0.980637337351669\n",
      "Final Score: 5.349228147157222\n",
      "Final Score: 2.4111282391929576\n",
      "Final Score: 2.1257803425937967\n",
      "Final Score: 1.99775965828224\n",
      "Final Score: 3.6868639967836603\n",
      "Final Score: 1.630468773566207\n",
      "Final Score: 3.4171278961873117\n",
      "Final Score: 4.727880930688335\n",
      "Final Score: 0.9173163873587895\n",
      "Final Score: 1.131557148663242\n",
      "Final Score: 3.107849285031581\n",
      "Final Score: 0.9672654437059167\n",
      "Final Score: 1.0406919145755127\n",
      "Final Score: 1.7943850771148162\n",
      "Final Score: 2.992411179481358\n",
      "Final Score: 1.1156412387735435\n",
      "Final Score: 3.6750191570197033\n",
      "Final Score: 3.964660837776016\n",
      "Final Score: 2.1544144749398386\n",
      "Final Score: 3.1796960647998884\n",
      "Final Score: 2.4990240914952944\n",
      "Final Score: 2.994473294818599\n",
      "Final Score: 1.7211483744423366\n",
      "Final Score: 2.0503321632387888\n",
      "Final Score: 4.733083133331986\n",
      "Final Score: 3.07982915556937\n",
      "Final Score: 1.117701610075726\n",
      "Final Score: 4.890827226957487\n",
      "Final Score: 1.0214864727501163\n",
      "Final Score: 1.93425207610067\n",
      "Final Score: 3.242795590987204\n",
      "Final Score: 1.255305422866211\n",
      "Final Score: 1.1138753498185465\n",
      "Final Score: 0.9761508216664052\n",
      "Final Score: 5.365895720269844\n",
      "Final Score: 3.933498120626849\n",
      "Final Score: 0.9959389049432161\n",
      "Final Score: 0.8627319540367708\n",
      "Final Score: 1.2707234095239508\n",
      "Final Score: 1.5386364515318853\n",
      "Final Score: 2.090695706003452\n",
      "Final Score: 1.065070077843702\n",
      "Final Score: 0.7849932931583279\n",
      "Final Score: 0.9418251552891909\n",
      "Final Score: 0.95283756413191\n",
      "Final Score: 2.3062296438618715\n",
      "Final Score: 2.3637529129028563\n",
      "Final Score: 5.285353323540511\n",
      "Final Score: 1.330088240202436\n",
      "Final Score: 1.073500546523512\n",
      "Final Score: 4.546475727998677\n",
      "Final Score: 5.190738899681416\n",
      "Final Score: 2.677639026683009\n",
      "Final Score: 2.296801478934922\n",
      "Final Score: 1.0109875823145598\n",
      "Final Score: 5.4913252842442635\n",
      "Final Score: 3.6094583339304327\n",
      "Final Score: 0.8136997454103971\n",
      "Final Score: 4.33210358519712\n",
      "Final Score: 1.7366117619723997\n",
      "Final Score: 1.0217347217674964\n",
      "Final Score: 3.8234304107732306\n",
      "Final Score: 2.5799359861459337\n",
      "Final Score: 2.2600363149756117\n",
      "Final Score: 1.6289351479082803\n",
      "Final Score: 1.8648504774311307\n",
      "Final Score: 0.9269089835058592\n",
      "Final Score: 1.0068795792547962\n",
      "Final Score: 0.8049017598254469\n",
      "Final Score: 3.627590049565585\n",
      "Final Score: 2.6089846852506486\n",
      "Final Score: 3.621346932535345\n",
      "Final Score: 1.065964094080699\n",
      "Final Score: 1.0632084789537546\n",
      "Final Score: 1.0200107610233315\n",
      "Final Score: 1.8017304246868853\n",
      "Final Score: 0.9285564321288774\n",
      "Final Score: 4.075224485718058\n",
      "Final Score: 3.7068297654929956\n",
      "Final Score: 5.383487645604529\n",
      "Final Score: 1.1224219935930233\n",
      "Final Score: 0.9593057733590616\n",
      "Final Score: 3.0369542689710505\n",
      "Final Score: 0.8297632608067722\n",
      "Final Score: 0.7998161458830295\n",
      "Final Score: 4.403700454744948\n",
      "Final Score: 0.8153663044592094\n",
      "Final Score: 1.9301112814564882\n",
      "Final Score: 1.222221440877525\n",
      "Final Score: 1.1831794940987381\n",
      "Final Score: 2.384956777013512\n",
      "Final Score: 3.448954980600921\n",
      "Final Score: 3.531087143786995\n",
      "Final Score: 1.8012355656649668\n",
      "Final Score: 2.3303334242471507\n",
      "Final Score: 1.0210648334701125\n",
      "Final Score: 2.5368014988413696\n",
      "Final Score: 2.175674992295327\n",
      "Final Score: 3.3866808538846755\n",
      "Final Score: 1.0074266096922895\n",
      "Final Score: 1.413967578227973\n",
      "Final Score: 1.2545142720681306\n",
      "Final Score: 1.9360427505157514\n",
      "Final Score: 2.8704645142164353\n",
      "Final Score: 2.5000649148084184\n",
      "Final Score: 1.0716152989130057\n",
      "Final Score: 1.0503514984398363\n",
      "Final Score: 1.0959990173866485\n",
      "Final Score: 4.948565355356379\n",
      "Final Score: 1.7726132430076476\n",
      "Final Score: 5.491174162665336\n",
      "Final Score: 4.587500789300698\n",
      "Final Score: 1.4064798171043267\n",
      "Final Score: 1.2217546579759604\n",
      "Final Score: 1.211649064348365\n",
      "Final Score: 0.7739690568764508\n",
      "Final Score: 1.0705017101056975\n",
      "Final Score: 1.1787174295169998\n",
      "Final Score: 3.605960797786251\n",
      "Final Score: 0.9757262094467989\n",
      "Final Score: 1.0991405942676888\n",
      "Final Score: 1.4944610819065773\n",
      "Final Score: 1.3519184315967432\n",
      "Final Score: 2.8049723254276793\n",
      "Final Score: 1.7926898826712387\n",
      "Final Score: 1.5388902905725999\n",
      "Final Score: 1.4446364446581008\n",
      "Final Score: 4.112828812875032\n",
      "Final Score: 4.44223994217216\n",
      "Final Score: 5.793994578980048\n",
      "Final Score: 1.2322733546331168\n",
      "Final Score: 4.9838389218942405\n",
      "Final Score: 1.0817969925353403\n",
      "Final Score: 2.0118278974374193\n",
      "Final Score: 2.678250136376504\n",
      "Final Score: 1.112172201129044\n",
      "Final Score: 0.9671792006271228\n",
      "Final Score: 1.756593310065756\n",
      "Final Score: 2.97181037140481\n",
      "Final Score: 1.6609916993761134\n",
      "Final Score: 0.9849580549251297\n",
      "Final Score: 3.107140575970553\n",
      "Final Score: 1.0321944483134389\n",
      "Final Score: 2.1510519836768727\n",
      "Final Score: 0.9705737575978077\n",
      "Final Score: 1.2043622109882652\n",
      "Final Score: 0.8977875870352547\n",
      "Final Score: 3.330803568142495\n",
      "Final Score: 1.0191637845841863\n",
      "Final Score: 0.9999332146098551\n",
      "Final Score: 1.0443846517701438\n",
      "Final Score: 2.1024464238517986\n",
      "Final Score: 4.290891156094283\n",
      "Final Score: 5.459915766133328\n",
      "Final Score: 0.8111130608139394\n",
      "Final Score: 1.76171697103485\n",
      "Final Score: 3.8847773157184373\n",
      "Final Score: 1.5813842856712985\n",
      "Final Score: 2.555556391143499\n",
      "Final Score: 2.360999632056073\n",
      "Final Score: 1.8679668858472787\n",
      "Final Score: 0.8553629889628945\n",
      "Final Score: 5.492805127419419\n",
      "Final Score: 1.288651434486467\n",
      "Final Score: 1.1417901420460843\n",
      "Final Score: 0.9422646659773437\n",
      "Final Score: 1.9501129596539393\n",
      "Final Score: 1.1684853464287424\n",
      "Final Score: 3.1820085321437652\n",
      "Final Score: 2.881238564308295\n",
      "Final Score: 2.659599090311535\n",
      "Final Score: 1.233987438521877\n",
      "Final Score: 2.1872620205732596\n",
      "Final Score: 3.030918220370238\n",
      "Final Score: 1.5754809881748626\n",
      "Final Score: 5.045489999787154\n",
      "Final Score: 1.5039248768378533\n",
      "Final Score: 1.5822234721132484\n",
      "Final Score: 2.5222127209812895\n",
      "Final Score: 2.4662440142758504\n",
      "Final Score: 1.0628825898298848\n",
      "Final Score: 1.1593590947677181\n",
      "Final Score: 3.1388033486793105\n",
      "Final Score: 1.7786016118984511\n",
      "Final Score: 2.7407697677525826\n",
      "Final Score: 1.2430773686917205\n",
      "Final Score: 1.0816813928849611\n",
      "Final Score: 1.0051415786846918\n",
      "Final Score: 2.3981497379527776\n",
      "Final Score: 1.792791269181632\n",
      "Final Score: 1.2586260231462745\n",
      "Final Score: 3.361000671158771\n",
      "Final Score: 0.97958745063191\n",
      "Final Score: 1.1492560711692987\n",
      "Final Score: 2.8490361098398056\n",
      "Final Score: 1.33512812077933\n",
      "Final Score: 5.400147937177572\n",
      "Final Score: 1.763961961210569\n",
      "Final Score: 0.7498462408062496\n",
      "Final Score: 2.8180144082401126\n",
      "Final Score: 2.4333313123491966\n",
      "Final Score: 2.657897707212925\n",
      "Final Score: 2.1940871349213573\n",
      "Final Score: 1.092367735989372\n",
      "Final Score: 1.484554424254478\n",
      "Final Score: 2.6098647205990178\n",
      "Final Score: 1.9268979920416736\n",
      "Final Score: 1.0664899073961145\n",
      "Final Score: 2.768410135194128\n",
      "Final Score: 2.740119272839637\n",
      "Final Score: 3.459456336502652\n",
      "Final Score: 2.299101702568285\n",
      "Final Score: 1.0206114030626465\n",
      "Final Score: 1.248024091416405\n",
      "Final Score: 3.5742781060284035\n",
      "Final Score: 5.564852244140872\n",
      "Final Score: 1.1396290537697182\n",
      "Final Score: 2.923390092159849\n",
      "Final Score: 2.4148753958161615\n",
      "Final Score: 5.596039226310145\n",
      "Final Score: 4.602096655000224\n",
      "Final Score: 1.0750028744959979\n",
      "Final Score: 0.9766511870105244\n",
      "Final Score: 0.9109124428254446\n",
      "Final Score: 0.964936315290869\n",
      "Final Score: 1.5447051621759749\n",
      "Final Score: 0.8478286222991973\n",
      "Final Score: 2.238314037025059\n",
      "Final Score: 2.3933425039925385\n",
      "Final Score: 1.0514019502525214\n",
      "Final Score: 2.5005073861368423\n",
      "Final Score: 2.3438714051507423\n",
      "Final Score: 2.5630745941511024\n",
      "Final Score: 1.031859821820487\n",
      "Final Score: 1.5247942639281291\n",
      "Final Score: 2.039049620128279\n",
      "Final Score: 1.075618479240484\n",
      "Final Score: 1.031593632768154\n",
      "Final Score: 1.2118070164128678\n",
      "Final Score: 2.4167060589041918\n",
      "Final Score: 0.9673956124414822\n",
      "Final Score: 2.954966365607304\n",
      "Final Score: 1.1044056430004505\n",
      "Final Score: 1.0940013586336492\n",
      "Final Score: 3.5917843433858536\n",
      "Final Score: 3.425707948706287\n",
      "Final Score: 1.2618560356792048\n",
      "Final Score: 4.912830888848715\n",
      "Final Score: 3.9422868116385663\n",
      "Final Score: 1.089770190999269\n",
      "Final Score: 2.061934631531294\n",
      "Final Score: 1.168382403843181\n",
      "Final Score: 3.412795850937522\n",
      "Final Score: 1.2081450213619525\n",
      "Final Score: 1.981645532637994\n",
      "Final Score: 4.805198800875741\n",
      "Final Score: 1.9551304307277853\n",
      "Final Score: 1.179525565067415\n",
      "Final Score: 2.3694277635106524\n",
      "Final Score: 2.06481129493483\n",
      "Final Score: 1.100341313661515\n",
      "Final Score: 0.9164525443468597\n",
      "Final Score: 0.9915101055773503\n",
      "Final Score: 1.1000746312867327\n",
      "Final Score: 1.118885721265008\n",
      "Final Score: 1.0951522096663846\n",
      "Final Score: 3.0710032214762286\n",
      "Final Score: 1.8224022236291484\n",
      "Final Score: 1.2235001330599822\n",
      "Final Score: 3.9940438468857464\n",
      "Final Score: 1.2724843060747084\n",
      "Final Score: 1.840411211134925\n",
      "Final Score: 3.0415793987116215\n",
      "Final Score: 1.0593077678465108\n",
      "Final Score: 4.356569577875147\n",
      "Final Score: 3.2343233944818572\n",
      "Final Score: 0.9127757604561749\n",
      "Final Score: 4.3806880688311765\n",
      "Final Score: 1.6946171776220431\n",
      "Final Score: 3.154939263619207\n",
      "Final Score: 4.3620022000629675\n",
      "Final Score: 4.630566015690663\n",
      "Final Score: 4.893116746821805\n",
      "Final Score: 1.0576219662411441\n",
      "Final Score: 1.1152258528425736\n",
      "Final Score: 1.0347081099968387\n",
      "Final Score: 1.3227169937693886\n",
      "Final Score: 0.8624746558963053\n",
      "Final Score: 2.1191235419639263\n",
      "Final Score: 0.8021003853552653\n",
      "Final Score: 0.9004588272360625\n",
      "Final Score: 2.9759932900840513\n",
      "Final Score: 0.8311494788860374\n",
      "Final Score: 1.8872171673982048\n",
      "Final Score: 1.0814862236696252\n",
      "Final Score: 1.0156605459523407\n",
      "Final Score: 1.3709818956753943\n",
      "Final Score: 1.127792651366841\n",
      "Final Score: 2.0721577414031627\n",
      "Final Score: 3.2178557871997175\n",
      "Final Score: 1.2023464221027\n",
      "Final Score: 1.0896092707109528\n",
      "Final Score: 1.1628944707861062\n",
      "Final Score: 1.024951178568942\n",
      "Final Score: 1.3672191244986531\n",
      "Final Score: 0.752580791871629\n",
      "Final Score: 2.853637255882149\n",
      "Final Score: 2.7192007767040636\n",
      "Final Score: 2.747431768509057\n",
      "Final Score: 3.1167389625782334\n",
      "Final Score: 1.6687287715710264\n",
      "Final Score: 2.3854416478447966\n",
      "Final Score: 2.5320066069314384\n",
      "Final Score: 1.8785782371586681\n",
      "Final Score: 3.6174064501908623\n",
      "Final Score: 2.0600109946115444\n",
      "Final Score: 1.09964476656392\n",
      "Final Score: 2.569664923205411\n",
      "Final Score: 1.2259885109724429\n",
      "Final Score: 1.2225782927205189\n",
      "Final Score: 1.1986461083012854\n",
      "Final Score: 2.5049433866824566\n",
      "Final Score: 3.071171058923147\n",
      "Final Score: 3.2383666356163077\n",
      "Final Score: 1.1946660710259533\n",
      "Final Score: 2.7923937120187836\n",
      "Final Score: 1.4377879143225694\n",
      "Final Score: 2.704390952955673\n",
      "Final Score: 1.1305637302479796\n",
      "Final Score: 1.0185182287365442\n",
      "Final Score: 1.8478742554151708\n",
      "Final Score: 0.7912378064914981\n",
      "Final Score: 1.0254500358508156\n",
      "Final Score: 0.931510228819593\n",
      "Final Score: 1.0067614900511115\n",
      "Final Score: 1.1032271178970268\n",
      "Final Score: 2.712414304858889\n",
      "Final Score: 2.786080595503253\n",
      "Final Score: 0.9977286578982618\n",
      "Final Score: 2.664208032565049\n",
      "Final Score: 0.953710218303057\n",
      "Final Score: 1.0628417907002394\n",
      "Final Score: 1.7012657920691625\n",
      "Final Score: 0.7913615880479629\n",
      "Final Score: 0.9286920049953945\n",
      "Final Score: 1.1226801850924109\n",
      "Final Score: 0.9075079325922276\n",
      "Final Score: 1.0780052803852431\n",
      "Final Score: 2.307485187159098\n",
      "Final Score: 2.1328194020993108\n",
      "Final Score: 1.062008027887715\n",
      "Final Score: 0.79783854424339\n",
      "Final Score: 1.1620613737232848\n",
      "Final Score: 1.085843840278269\n",
      "Final Score: 2.199599772887183\n",
      "Final Score: 6.240737088847197\n",
      "Final Score: 1.0991383590491333\n",
      "Final Score: 2.207563412667603\n",
      "Final Score: 0.8327601056307364\n",
      "Final Score: 1.1953363989112877\n",
      "Final Score: 1.1747987202757946\n",
      "Final Score: 2.4305203806261746\n",
      "Final Score: 0.9018363076872364\n",
      "Final Score: 3.5003983165933725\n",
      "Final Score: 0.9098624021675064\n",
      "Final Score: 3.4024489857423514\n",
      "Final Score: 2.285128594644135\n",
      "Final Score: 3.401515041771833\n",
      "Final Score: 3.3874784694899156\n",
      "Final Score: 2.9804989079521733\n",
      "Final Score: 1.0189719057098081\n",
      "Final Score: 1.885305343763148\n",
      "Final Score: 3.648245840406953\n",
      "Final Score: 0.9940808244643875\n",
      "Final Score: 4.841425071597336\n",
      "Final Score: 4.054436676276952\n",
      "Final Score: 2.3380863407834673\n",
      "Final Score: 4.178667290759587\n",
      "Final Score: 1.111423815364668\n",
      "Final Score: 5.836315389951954\n",
      "Final Score: 2.562678724265049\n",
      "Final Score: 1.019694586909541\n",
      "Final Score: 1.101338594770785\n",
      "Final Score: 5.574743477786781\n",
      "Final Score: 0.9790028007906384\n",
      "Final Score: 0.8324876748897657\n",
      "Final Score: 2.280568651486706\n",
      "Final Score: 2.6961433346481884\n",
      "Final Score: 2.708104674568853\n",
      "Final Score: 5.179233058833494\n",
      "Final Score: 1.0008183855457755\n",
      "Final Score: 0.8424549192975066\n",
      "Final Score: 0.8761528556792759\n",
      "Final Score: 1.1500012686440746\n",
      "Final Score: 5.285182719085202\n",
      "Final Score: 0.9789926844041232\n",
      "Final Score: 3.4045571469088562\n",
      "Final Score: 4.424667354500615\n",
      "Final Score: 1.153697714066386\n",
      "Final Score: 1.0426121175670424\n",
      "Final Score: 1.137153934999862\n",
      "Final Score: 4.819750793416614\n",
      "Final Score: 2.532942841555835\n",
      "Final Score: 1.1623758519954084\n",
      "Final Score: 2.9133624460039753\n",
      "Final Score: 2.243894590084229\n",
      "Final Score: 1.0961693786392777\n",
      "Final Score: 0.9065648181900098\n",
      "Final Score: 0.9779279322805716\n",
      "Final Score: 1.1396873240287835\n",
      "Final Score: 0.991368586741399\n",
      "Final Score: 1.1740053907807255\n",
      "Final Score: 2.5432003624065924\n",
      "Final Score: 1.148951317346632\n",
      "Final Score: 4.041561097727866\n",
      "Final Score: 0.9208192484857558\n",
      "Final Score: 0.8406439246100674\n",
      "Final Score: 0.8729820024176327\n",
      "Final Score: 2.708272813314685\n",
      "Final Score: 1.5334104198044192\n",
      "Final Score: 1.7859839619410576\n",
      "Final Score: 1.4894501761892518\n",
      "Final Score: 1.0728147386495581\n",
      "Final Score: 1.1424258014512467\n",
      "Final Score: 0.8409779569311736\n",
      "Final Score: 4.4412895954702645\n",
      "Final Score: 2.0935728518878993\n",
      "Final Score: 1.025227738915201\n",
      "Final Score: 1.1769602896269944\n",
      "Final Score: 3.1898409879377123\n",
      "Final Score: 2.5812362423247364\n",
      "Final Score: 0.7800528643115945\n",
      "Final Score: 3.244351175583943\n",
      "Final Score: 1.5129366702780334\n",
      "Final Score: 2.8616872412254923\n",
      "Final Score: 0.8015150268950927\n",
      "Final Score: 5.040930054075231\n",
      "Final Score: 1.1818371159600158\n",
      "Final Score: 1.137991157456712\n",
      "Final Score: 0.7777835406220556\n",
      "Final Score: 1.2455567702632282\n",
      "Final Score: 0.8160776317004935\n",
      "Final Score: 1.1395457257893058\n",
      "Final Score: 1.2366142035001058\n",
      "Final Score: 5.499801807065159\n",
      "Final Score: 3.329549201520522\n",
      "Final Score: 2.209333846248713\n",
      "Final Score: 0.97727693842034\n",
      "Final Score: 1.0024748384805526\n",
      "Final Score: 1.2550731762170235\n",
      "Final Score: 1.4018381866183276\n",
      "Final Score: 1.031978987207633\n",
      "Final Score: 5.166349645398077\n",
      "Final Score: 0.8914486977386267\n",
      "Final Score: 1.722789024311771\n",
      "Final Score: 4.582539751905455\n",
      "Final Score: 1.0654112073030295\n",
      "Final Score: 1.5841785023777002\n",
      "Final Score: 1.6170688747756423\n",
      "Final Score: 3.0146585110219215\n",
      "Final Score: 3.7393297088404753\n",
      "Final Score: 2.57852004309177\n",
      "Final Score: 3.2429906551700336\n",
      "Final Score: 1.0326732188053664\n",
      "Final Score: 4.5980114273519765\n",
      "Final Score: 5.483927017213206\n",
      "Final Score: 2.1823580984539745\n",
      "Final Score: 1.333518154539348\n",
      "Final Score: 0.9241491478362138\n",
      "Final Score: 2.9504271207170696\n",
      "Final Score: 2.707895660913293\n",
      "Final Score: 4.039607857523597\n",
      "Final Score: 0.9204667477749855\n",
      "Final Score: 3.3174759082014322\n",
      "Final Score: 3.828137538334533\n",
      "Final Score: 1.8568888540652315\n",
      "Final Score: 1.0275161629939205\n",
      "Final Score: 1.0230653669807235\n",
      "Final Score: 2.891498345797892\n",
      "Final Score: 1.310156558611677\n",
      "Final Score: 1.085573363927204\n",
      "Final Score: 5.344344941234525\n",
      "Final Score: 1.9814957253513688\n",
      "Final Score: 1.0843511486764137\n",
      "Final Score: 0.7750806154714827\n",
      "Final Score: 4.200792730899283\n",
      "Final Score: 3.707023753690443\n",
      "Final Score: 4.540929275146112\n",
      "Final Score: 0.9948974981054297\n",
      "Final Score: 2.372197616521348\n",
      "Final Score: 2.365910289401164\n",
      "Final Score: 2.5853719676646003\n",
      "Final Score: 1.1141947446641307\n",
      "Final Score: 3.2157678495022157\n",
      "Final Score: 1.109807178109138\n",
      "Final Score: 2.824662985181142\n",
      "Final Score: 2.9272012508206204\n",
      "Final Score: 1.2435222636422851\n",
      "Final Score: 0.8242421119461284\n",
      "Final Score: 1.986022118714919\n",
      "Final Score: 4.170044236315315\n",
      "Final Score: 0.7403837445264962\n",
      "Final Score: 2.8554689226897603\n",
      "Final Score: 1.0377279520288007\n",
      "Final Score: 1.8730730576353714\n",
      "Final Score: 1.7240855302682492\n",
      "Final Score: 2.5960202349322072\n",
      "Final Score: 2.7948380207553725\n",
      "Final Score: 2.21583268028216\n",
      "Final Score: 5.8697732866351915\n",
      "Final Score: 1.0700181925399246\n",
      "Final Score: 0.766442999281768\n",
      "Final Score: 1.0777127050754496\n",
      "Final Score: 1.1610265716633574\n",
      "Final Score: 5.5710654584217245\n",
      "Final Score: 1.051128964513762\n",
      "Final Score: 0.9528840321392591\n",
      "Final Score: 5.743665275438101\n",
      "Final Score: 1.0264342400121327\n",
      "Final Score: 5.005652450131728\n",
      "Final Score: 0.8017929191905948\n",
      "Final Score: 5.6816932569332\n",
      "Final Score: 2.8243071120761716\n",
      "Final Score: 1.2335205179439295\n",
      "Final Score: 0.8187147236669636\n",
      "Final Score: 3.68819905836434\n",
      "Final Score: 2.402900032028522\n",
      "Final Score: 2.5013771322066454\n",
      "Final Score: 2.8851036334888525\n",
      "Final Score: 4.590156230495696\n",
      "Final Score: 3.8243950985976043\n",
      "Final Score: 2.8591345070424734\n",
      "Final Score: 1.0813372501299827\n",
      "Final Score: 0.7338777504145256\n",
      "Final Score: 4.00027814721529\n",
      "Final Score: 3.936433769215877\n",
      "Final Score: 0.8084695385259965\n",
      "Final Score: 1.2148857099941468\n",
      "Final Score: 0.7960964938338484\n",
      "Final Score: 1.3582807468064746\n",
      "Final Score: 1.5158478967815423\n",
      "Final Score: 0.78522827723089\n",
      "Final Score: 0.8766782375105402\n",
      "Final Score: 4.680505514436243\n",
      "Final Score: 0.8067154881564097\n",
      "Final Score: 0.8646071337492761\n",
      "Final Score: 3.7954190684501876\n",
      "Final Score: 3.059420923094855\n",
      "Final Score: 1.3619000082839594\n",
      "Final Score: 3.0437889090160377\n",
      "Final Score: 0.867768172319303\n",
      "Final Score: 5.9673600881116755\n",
      "Final Score: 0.821533272300063\n",
      "Final Score: 0.9399563006371825\n",
      "Final Score: 0.9708797957518311\n",
      "Final Score: 0.9701775138181927\n",
      "Final Score: 0.9726814473555252\n",
      "Final Score: 2.9617566723730326\n",
      "Final Score: 2.964578126796521\n",
      "Final Score: 1.190134593501098\n",
      "Final Score: 2.813179619824801\n",
      "Final Score: 0.9106948587000102\n",
      "Final Score: 0.8000898818264245\n",
      "Final Score: 1.1115023343774577\n",
      "Final Score: 2.155878291349667\n",
      "Final Score: 2.3336696388477454\n",
      "Final Score: 0.8362561510917903\n",
      "Final Score: 1.7774758412561873\n",
      "Final Score: 0.894552956808401\n",
      "Final Score: 0.951386365040796\n",
      "Final Score: 5.718772222121075\n",
      "Final Score: 1.8299889022599383\n",
      "Final Score: 1.0891221333330896\n",
      "Final Score: 0.9102952577621792\n",
      "Final Score: 1.1925480001767523\n",
      "Final Score: 2.128455672396907\n",
      "Final Score: 1.0887644779631245\n",
      "Final Score: 4.844320868627602\n",
      "Final Score: 1.0661616290288165\n",
      "Final Score: 1.036702221996825\n",
      "Final Score: 2.7099204905173897\n",
      "Final Score: 2.60742382934416\n",
      "Final Score: 1.4239633166264705\n",
      "Final Score: 0.9974826896651712\n",
      "Final Score: 2.7900829210697653\n",
      "Final Score: 3.425252320600806\n",
      "Final Score: 0.8708855782760161\n",
      "Final Score: 2.7734411226086078\n",
      "Final Score: 2.395061291901706\n",
      "Final Score: 1.0934820789908903\n",
      "Final Score: 2.4996574502434816\n",
      "Final Score: 2.6400021574910038\n",
      "Final Score: 3.013450761404863\n",
      "Final Score: 2.820338682585785\n",
      "Final Score: 1.3321259460868369\n",
      "Final Score: 0.8848584762846219\n",
      "Final Score: 1.196374634207336\n",
      "Final Score: 1.1165020029786206\n",
      "Final Score: 5.0940215195774075\n",
      "Final Score: 1.071532115042009\n",
      "Final Score: 3.2930083744089296\n",
      "Final Score: 2.0974752469652147\n",
      "Final Score: 2.472069306279402\n",
      "Final Score: 1.169643363821228\n",
      "Final Score: 2.726116909592276\n",
      "Final Score: 3.203147153013722\n",
      "Final Score: 1.1131021913710872\n",
      "Final Score: 3.1765504007552625\n",
      "Final Score: 1.0269763927176654\n",
      "Final Score: 6.219927736421688\n",
      "Final Score: 0.9541439074473437\n",
      "Final Score: 3.019075184409225\n",
      "Final Score: 0.9431366800106744\n",
      "Final Score: 0.7827763962412078\n",
      "Final Score: 0.9392696709994848\n",
      "Final Score: 0.958693691252782\n",
      "Final Score: 4.821755730676563\n",
      "Final Score: 1.2000421627601845\n",
      "Final Score: 1.2523878904816435\n",
      "Final Score: 2.5233084322355066\n",
      "Final Score: 1.1512717690521495\n",
      "Final Score: 1.1725480209889985\n",
      "Final Score: 1.1948818346973586\n",
      "Final Score: 3.01014917963733\n",
      "Final Score: 1.079796300482206\n",
      "Final Score: 1.18799915457421\n",
      "Final Score: 3.3733621408457424\n",
      "Final Score: 1.9784742862608773\n",
      "Final Score: 1.9853148402793175\n",
      "Final Score: 1.0021716377252938\n",
      "Final Score: 3.743060486451693\n",
      "Final Score: 2.062929621196\n",
      "Final Score: 4.918461255537801\n",
      "Final Score: 2.248656262686708\n",
      "Final Score: 1.0701108804533064\n",
      "Final Score: 2.0013456874293\n",
      "Final Score: 1.0929020932737288\n",
      "Final Score: 1.9959115286780895\n",
      "Final Score: 2.3840480040078447\n",
      "Final Score: 3.8900232203201957\n",
      "Final Score: 2.5323552367304147\n",
      "Final Score: 3.710108644967124\n",
      "Final Score: 2.4773570253531654\n",
      "Final Score: 4.072764808668205\n",
      "Final Score: 0.8287378526660951\n",
      "Final Score: 1.2483765273660175\n",
      "Final Score: 0.9901481135471145\n",
      "Final Score: 2.720268050192307\n",
      "Final Score: 4.902144360821701\n",
      "Final Score: 2.7300653596979347\n",
      "Final Score: 2.0790121310106278\n",
      "Final Score: 3.274368664949879\n",
      "Final Score: 2.2312578856311793\n",
      "Final Score: 3.075357738885863\n",
      "Final Score: 0.9651482763037422\n",
      "Final Score: 1.044404052216489\n",
      "Final Score: 1.050222177061075\n",
      "Final Score: 1.269308673361373\n",
      "Final Score: 1.1778089563473142\n",
      "Final Score: 0.8683493671329339\n",
      "Final Score: 2.2075573557934374\n",
      "Final Score: 5.513684635738457\n",
      "Final Score: 0.9627629428885033\n",
      "Final Score: 4.842665033219871\n",
      "Final Score: 1.0034794145483052\n",
      "Final Score: 3.0087030854205605\n",
      "Final Score: 4.273095526543181\n",
      "Final Score: 2.776524093705203\n",
      "Final Score: 0.9699074754443489\n",
      "Final Score: 2.5537998506621817\n",
      "Final Score: 1.2409513890235668\n",
      "Final Score: 0.8478438857911169\n",
      "Final Score: 0.883803855452683\n",
      "Final Score: 1.2015341608044185\n",
      "Final Score: 3.2336600674273885\n",
      "Final Score: 4.012288622573074\n",
      "Final Score: 1.051782215594068\n",
      "Final Score: 1.1417727073904658\n",
      "Final Score: 3.7524438235498145\n",
      "Final Score: 0.9963269810996432\n",
      "Final Score: 1.004640846186852\n",
      "Final Score: 1.11655753938727\n",
      "Final Score: 1.9793892139340297\n",
      "Final Score: 1.0785435732002304\n",
      "Final Score: 1.1872528769926551\n",
      "Final Score: 1.1327236888397965\n",
      "Final Score: 0.78949729284959\n",
      "Final Score: 2.1992717072490677\n",
      "Final Score: 0.9489622262352873\n",
      "Final Score: 1.7816404074175112\n",
      "Final Score: 2.5813107835568525\n",
      "Final Score: 1.328970755933091\n",
      "Final Score: 2.2290164027352133\n",
      "Final Score: 1.0604186068382102\n",
      "Final Score: 4.844486121831223\n",
      "Final Score: 2.8488741955918018\n",
      "Final Score: 2.4602570665189023\n",
      "Final Score: 0.9525423680790766\n",
      "Final Score: 1.0954551412695497\n",
      "Final Score: 0.9928776505725245\n",
      "Final Score: 1.6817038468039034\n",
      "Final Score: 1.4141738212795527\n",
      "Final Score: 0.8747963595158228\n",
      "Final Score: 3.0036840351042544\n",
      "Final Score: 0.9856143460987214\n",
      "Final Score: 1.3059525702174348\n",
      "Final Score: 1.456336493418163\n",
      "Final Score: 1.2866174830344752\n",
      "Final Score: 1.2185473488556902\n",
      "Final Score: 1.1474941432375911\n",
      "Final Score: 1.1626090190898253\n",
      "Final Score: 5.003920847964501\n",
      "Final Score: 1.1640500334246138\n",
      "Final Score: 1.1560951810705582\n",
      "Final Score: 5.651455300809807\n",
      "Final Score: 0.8755371604196217\n",
      "Final Score: 1.0048360262267377\n",
      "Final Score: 0.8657443289343463\n",
      "Final Score: 1.0138406555598907\n",
      "Final Score: 3.590215184456328\n",
      "Final Score: 2.9327132640224614\n",
      "Final Score: 0.8281293313945227\n",
      "Final Score: 3.790256042776752\n",
      "Final Score: 0.9440490569154416\n",
      "Final Score: 1.215798274315093\n",
      "Final Score: 1.1878514500168171\n",
      "Final Score: 2.180109401311599\n",
      "Final Score: 2.5939723723020425\n",
      "Final Score: 1.3723052610428323\n",
      "Final Score: 2.904186205026087\n",
      "Final Score: 1.1255046983005668\n",
      "Final Score: 1.4595094250277674\n",
      "Final Score: 1.2702920640388193\n",
      "Final Score: 3.782426040635469\n",
      "Final Score: 0.9536759234605685\n",
      "Final Score: 3.4776837528785434\n",
      "Final Score: 5.369883086504318\n",
      "Final Score: 1.3976560446422825\n",
      "Final Score: 0.946510620075693\n",
      "Final Score: 2.8718118323153146\n",
      "Final Score: 1.229574631141996\n",
      "Final Score: 1.0977832736183888\n",
      "Final Score: 1.066407612579376\n",
      "Final Score: 3.3182812003724873\n",
      "Final Score: 1.0465228214383129\n",
      "Final Score: 0.7808998459769123\n",
      "Final Score: 0.8975709412867828\n",
      "Final Score: 1.1350262860494396\n",
      "Final Score: 0.7352901738389441\n",
      "Final Score: 1.03252676574549\n",
      "Final Score: 0.8817717409601734\n",
      "Final Score: 1.0658343007458178\n",
      "Final Score: 2.828797508012968\n",
      "Final Score: 5.296702944900011\n",
      "Final Score: 0.9073657384270978\n",
      "Final Score: 1.2501345323409365\n",
      "Final Score: 1.0060846939178862\n",
      "Final Score: 1.2639533716933844\n",
      "Final Score: 0.9540088603756298\n",
      "Final Score: 1.1221345760052932\n",
      "Final Score: 2.6905476257951824\n",
      "Final Score: 2.8592064991364943\n",
      "Final Score: 0.9655095634632624\n",
      "Final Score: 1.3115664840355137\n",
      "Final Score: 2.931276790970876\n",
      "Final Score: 2.463611181604026\n",
      "Final Score: 0.7549672324882405\n",
      "Final Score: 0.8045017144487334\n",
      "Final Score: 0.9675231644588489\n",
      "Final Score: 3.468567849384586\n",
      "Final Score: 0.8818296803946415\n",
      "Final Score: 5.2076856988839\n",
      "Final Score: 2.419949839175302\n",
      "Final Score: 1.511354699276912\n",
      "Final Score: 1.2647700910549389\n",
      "Final Score: 1.1857375422026464\n",
      "Final Score: 2.90226836254364\n",
      "Final Score: 0.842346883380052\n",
      "Final Score: 0.9254098896614951\n",
      "Final Score: 0.9636816218705897\n",
      "Final Score: 0.802108789413986\n",
      "Final Score: 1.297010043478829\n",
      "Final Score: 0.7280792927362323\n",
      "Final Score: 3.681699457166996\n",
      "Final Score: 5.267499106753357\n",
      "Final Score: 0.9411147156333401\n",
      "Final Score: 0.8932513385749328\n",
      "Final Score: 0.8850617111481853\n",
      "Final Score: 1.2909217796723718\n",
      "Final Score: 1.1825915983307411\n",
      "Final Score: 3.23754424551434\n",
      "Final Score: 1.1236653932520309\n",
      "Final Score: 1.1185414948474899\n",
      "Final Score: 0.825841664783797\n",
      "Final Score: 0.7892478774563023\n",
      "Final Score: 4.591005960470779\n",
      "Final Score: 5.256022333627854\n",
      "Final Score: 3.2096271490802386\n",
      "Final Score: 4.494262793258231\n",
      "Final Score: 1.928847462974017\n",
      "Final Score: 2.8655717558790594\n",
      "Final Score: 2.1854207220321635\n",
      "Final Score: 1.0464839459982953\n",
      "Final Score: 0.8990030596092751\n",
      "Final Score: 0.8225295666492396\n",
      "Final Score: 1.627801413909673\n",
      "Final Score: 0.9517957329211647\n",
      "Final Score: 1.0507560117402628\n",
      "Final Score: 2.834012779029983\n",
      "Final Score: 1.3820547321336725\n",
      "Final Score: 0.8593411361355776\n",
      "Final Score: 1.9807361532136487\n",
      "Final Score: 3.1717275413466806\n",
      "Final Score: 2.5252759030930134\n",
      "Final Score: 0.7873490023663561\n",
      "Final Score: 1.542440649769252\n",
      "Final Score: 4.052916944243793\n",
      "Final Score: 1.0233205010108697\n",
      "Final Score: 2.4146191075450107\n",
      "Final Score: 5.333847301880388\n",
      "Final Score: 0.8108794373394974\n",
      "Final Score: 1.0637500791426577\n",
      "Final Score: 0.89760729145601\n",
      "Final Score: 0.99687727393923\n",
      "Final Score: 0.9698056696528485\n",
      "Final Score: 1.0118721731978277\n",
      "Final Score: 1.3525769175174913\n",
      "Final Score: 1.1755412055264682\n",
      "Final Score: 2.3728996930225437\n",
      "Final Score: 3.299650295400819\n",
      "Final Score: 1.1489404231306553\n",
      "Final Score: 4.778341518695161\n",
      "Final Score: 1.0810428378171437\n",
      "Final Score: 1.1285860259550955\n",
      "Final Score: 1.0278370652950568\n",
      "Final Score: 1.1740036472738844\n",
      "Final Score: 2.5749761481101396\n",
      "Final Score: 1.8233567918703641\n",
      "Final Score: 1.654181100849397\n",
      "Final Score: 2.2185516034542814\n",
      "Final Score: 2.0152007254848954\n",
      "Final Score: 3.6670312910841893\n",
      "Final Score: 1.0149312807350643\n",
      "Final Score: 1.338293667303525\n",
      "Final Score: 1.2511544459814647\n",
      "Final Score: 1.4263440754224783\n",
      "Final Score: 1.8400822028671728\n",
      "Final Score: 0.9863421899439139\n",
      "Final Score: 1.1856120851861378\n",
      "Final Score: 0.8316418171750951\n",
      "Final Score: 4.28477947824872\n",
      "Final Score: 1.9902700494493262\n",
      "Final Score: 1.5544800840713846\n",
      "Final Score: 5.409122211621236\n",
      "Final Score: 1.170047786284524\n",
      "Final Score: 3.1967805683325734\n",
      "Final Score: 0.8817214525796659\n",
      "Final Score: 1.1661112639128741\n",
      "Final Score: 1.8133931441972058\n",
      "Final Score: 2.9158072185818957\n",
      "Final Score: 1.2273155690199904\n",
      "Final Score: 2.73977979497656\n",
      "Final Score: 1.1517445258891836\n",
      "Final Score: 1.2715923872620891\n",
      "Final Score: 4.099109625492462\n",
      "Final Score: 1.4153769080300858\n",
      "Final Score: 3.5377499041644493\n",
      "Final Score: 2.4131832729742335\n",
      "Final Score: 0.8199261635358602\n",
      "Final Score: 4.395363458475564\n",
      "Final Score: 2.8949092584923837\n",
      "Final Score: 5.655417275654204\n",
      "Final Score: 1.3477245177587724\n",
      "Final Score: 4.962140947240067\n",
      "Final Score: 1.1092939028352984\n",
      "Final Score: 0.7891105533695729\n",
      "Final Score: 4.557875569723125\n",
      "Final Score: 1.0171567240009274\n",
      "Final Score: 1.158082464082393\n",
      "Final Score: 1.2812174051262726\n",
      "Final Score: 2.229747856880853\n",
      "Final Score: 2.6430454467077125\n",
      "Final Score: 0.9502214802878727\n",
      "Final Score: 0.7911222187379363\n",
      "Final Score: 1.2065479928604672\n",
      "Final Score: 1.7998856505342522\n",
      "Final Score: 1.0931446407415817\n",
      "Final Score: 2.9056963569374474\n",
      "Final Score: 1.1320442145366478\n",
      "Final Score: 1.0676042291882273\n",
      "Final Score: 1.14219311882009\n",
      "Final Score: 3.1082616582404077\n",
      "Final Score: 1.0462204627429301\n",
      "Final Score: 3.7866090218238413\n",
      "Final Score: 4.727831530711433\n",
      "Final Score: 5.336919449481881\n",
      "Final Score: 4.960885439100727\n",
      "Final Score: 2.5497205350858394\n",
      "Final Score: 1.194343805595308\n",
      "Final Score: 0.9951735112202563\n",
      "Final Score: 1.2850239509677568\n",
      "Final Score: 1.1053271075563693\n",
      "Final Score: 0.9885724616868108\n",
      "Final Score: 0.7868116248212185\n",
      "Final Score: 4.479976685953152\n",
      "Final Score: 1.06403160457717\n",
      "Final Score: 0.7646296611876706\n",
      "Final Score: 1.1215376856812274\n",
      "Final Score: 3.617804847988107\n",
      "Final Score: 1.0620248596475967\n",
      "Final Score: 2.946031734466128\n",
      "Final Score: 3.1001208775346987\n",
      "Final Score: 5.056675042318403\n",
      "Final Score: 4.879037615564328\n",
      "Final Score: 1.2006240194935156\n",
      "Final Score: 1.742353652661746\n",
      "Final Score: 1.0347482775976555\n",
      "Final Score: 1.2229154183074726\n",
      "Final Score: 0.8428689405092371\n",
      "Final Score: 1.2575351812816284\n",
      "Final Score: 1.1069572322981647\n",
      "Final Score: 0.9937429653994583\n",
      "Final Score: 3.348987068800348\n",
      "Final Score: 0.9797835585284858\n",
      "Final Score: 1.310889294423463\n",
      "Final Score: 1.6483796072774701\n",
      "Final Score: 1.6859835571205486\n",
      "Final Score: 1.0155535169798893\n",
      "Final Score: 1.4535368764532441\n",
      "Final Score: 1.0187966137548266\n",
      "Final Score: 1.063626020366894\n",
      "Final Score: 1.1323876692156731\n",
      "Final Score: 2.9271591959115364\n",
      "Final Score: 1.1395011936469803\n",
      "Final Score: 1.9436297924112524\n",
      "Final Score: 3.2460255830948226\n",
      "Final Score: 5.008761967903852\n",
      "Final Score: 0.9564926558067315\n",
      "Final Score: 3.944138485688363\n",
      "Final Score: 3.318591729226561\n",
      "Final Score: 3.362088158246177\n",
      "Final Score: 1.1338792551973182\n",
      "Final Score: 4.626680907458935\n",
      "Final Score: 1.0701110471134383\n",
      "Final Score: 1.1205324567952493\n",
      "Final Score: 3.2111023690213436\n",
      "Final Score: 0.7911625222108859\n",
      "Final Score: 0.8555788526735519\n",
      "Final Score: 0.9858658293556211\n",
      "Final Score: 0.975832377657813\n",
      "Final Score: 2.280296000537873\n",
      "Final Score: 3.285213932919069\n",
      "Final Score: 2.1521934967287\n",
      "Final Score: 0.9259642495425653\n",
      "Final Score: 0.9959404053398961\n",
      "Final Score: 0.8713887246460416\n",
      "Final Score: 0.9529958380613499\n",
      "Final Score: 6.085823387590715\n",
      "Final Score: 1.1587198490555304\n",
      "Final Score: 3.7448347879806265\n",
      "Final Score: 0.8332241305571972\n",
      "Final Score: 2.7486022432844734\n",
      "Final Score: 5.16040613733944\n",
      "Final Score: 5.197618385908442\n",
      "Final Score: 0.9416232620572416\n",
      "Final Score: 0.8576227656014566\n",
      "Final Score: 4.3946047619820945\n",
      "Final Score: 1.572808049768385\n",
      "Final Score: 0.8662164792649116\n",
      "Final Score: 0.9719579125304562\n",
      "Final Score: 6.205744594971964\n",
      "Final Score: 5.205150332360454\n",
      "Final Score: 0.9660081387202353\n",
      "Final Score: 1.0330442993255147\n",
      "Final Score: 2.4599153270743783\n",
      "Final Score: 3.1658175340377226\n",
      "Final Score: 3.3518023745175194\n",
      "Final Score: 1.136551607065719\n",
      "Final Score: 1.369174515357872\n",
      "Final Score: 2.7590414280870155\n",
      "Final Score: 2.737617085152018\n",
      "Final Score: 1.207788984251614\n",
      "Final Score: 6.045527214736759\n",
      "Final Score: 2.449522868409573\n",
      "Final Score: 0.8809893088705251\n",
      "Final Score: 1.8355253444847721\n",
      "Final Score: 1.1332229994767904\n",
      "Final Score: 3.945255257786282\n",
      "Final Score: 1.1395247528148544\n",
      "Final Score: 3.1419160323198936\n",
      "Final Score: 3.799064860718895\n",
      "Final Score: 1.1878842609961762\n",
      "Final Score: 0.8679881212855265\n",
      "Final Score: 1.1141474731254137\n",
      "Final Score: 1.0418588620801528\n",
      "Final Score: 2.171175246829373\n",
      "Final Score: 1.1202407230083014\n",
      "Final Score: 3.2352747892321005\n",
      "Final Score: 1.0942987301427558\n",
      "Final Score: 2.1250053179946953\n",
      "Final Score: 2.329835751659022\n",
      "Final Score: 3.5054850455227737\n",
      "Final Score: 3.6034496758332923\n",
      "Final Score: 0.9994617430105328\n",
      "Final Score: 4.71749433720266\n",
      "Final Score: 2.9308596225701673\n",
      "Final Score: 1.0346049524332648\n",
      "Final Score: 5.070222558388956\n",
      "Final Score: 0.8345336509604541\n",
      "Final Score: 0.9697816705778721\n",
      "Final Score: 3.127593965327736\n",
      "Final Score: 4.98951652141087\n",
      "Final Score: 1.6332493169645397\n",
      "Final Score: 0.9344856937468295\n",
      "Final Score: 3.0485976165296917\n",
      "Final Score: 1.0143985335050536\n",
      "Final Score: 5.210173178234866\n",
      "Final Score: 3.131248840208535\n",
      "Final Score: 1.3903415717152496\n",
      "Final Score: 7.117518987875185\n",
      "Final Score: 1.1219894918921047\n",
      "Final Score: 6.337335400657349\n",
      "Final Score: 1.851088701708095\n",
      "Final Score: 0.9897402946620776\n",
      "Final Score: 1.0025034099036163\n",
      "Final Score: 1.2311986500555436\n",
      "Final Score: 5.499433828417751\n",
      "Final Score: 1.374105522500451\n",
      "Final Score: 1.0915770550192665\n",
      "Final Score: 3.1651949377261013\n",
      "Final Score: 1.0779343381734765\n",
      "Final Score: 1.0774426056832078\n",
      "Final Score: 4.995242429287855\n",
      "Final Score: 0.8286878320179941\n",
      "Final Score: 0.8917044648804441\n",
      "Final Score: 3.759449295723374\n",
      "Final Score: 1.8373362002735911\n",
      "Final Score: 2.745861421815033\n",
      "Final Score: 2.611130150191282\n",
      "Final Score: 1.2570028396119484\n",
      "Final Score: 4.841000031388621\n",
      "Final Score: 0.917552730620701\n",
      "Final Score: 1.0068489659849462\n",
      "Final Score: 1.0843642849149715\n",
      "Final Score: 1.1079246207975872\n",
      "Final Score: 1.1667379065055326\n",
      "Final Score: 5.608062141438426\n",
      "Final Score: 3.9301346249434803\n",
      "Final Score: 1.0014848647016086\n",
      "Final Score: 1.0970044680076254\n",
      "Final Score: 4.610315385961663\n",
      "Final Score: 0.9879937632966547\n",
      "Final Score: 1.9720656110522383\n",
      "Final Score: 1.09625788458584\n",
      "Final Score: 3.81437155743967\n",
      "Final Score: 1.2027204523783528\n",
      "Final Score: 1.1743219559043634\n",
      "Final Score: 3.3931379654233007\n",
      "Final Score: 1.0649909718271149\n",
      "Final Score: 4.039178566396084\n",
      "Final Score: 1.2590479899752616\n",
      "Final Score: 2.181149952007534\n",
      "Final Score: 0.9288711782025756\n",
      "Final Score: 3.7167059962154205\n",
      "Final Score: 1.0046096999223166\n",
      "Final Score: 3.847377411492119\n",
      "Final Score: 2.174088366080815\n",
      "Final Score: 2.707694141192105\n",
      "Final Score: 1.0498110479926426\n",
      "Final Score: 4.9977463611481925\n",
      "Final Score: 1.2199503816349186\n",
      "Final Score: 1.84227991667069\n",
      "Final Score: 2.5643079439002285\n",
      "Final Score: 6.226468470794585\n",
      "Final Score: 4.985972996890945\n",
      "Final Score: 1.8564028009031048\n",
      "Final Score: 0.8601169947816611\n",
      "Final Score: 1.7215664465669966\n",
      "Final Score: 2.6276646085304844\n",
      "Final Score: 0.8018387067170283\n",
      "Final Score: 2.4653842344366694\n",
      "Final Score: 1.755869045952843\n",
      "Final Score: 0.9373612669760631\n",
      "Final Score: 2.1192319631992715\n",
      "Final Score: 0.9961764507477139\n",
      "Final Score: 3.1227154597496334\n",
      "Final Score: 2.164366094537029\n",
      "Final Score: 1.4831466437935519\n",
      "Final Score: 1.8331260452430287\n",
      "Final Score: 2.2646000974086133\n",
      "Final Score: 1.1083376621875876\n",
      "Final Score: 0.9460814280472647\n",
      "Final Score: 3.1661909713033376\n",
      "Final Score: 2.80799818604463\n",
      "Final Score: 2.8040856075291787\n",
      "Final Score: 1.1234497214252888\n",
      "Final Score: 2.365193012518254\n",
      "Final Score: 2.7950201611876224\n",
      "Final Score: 0.9743324811248579\n",
      "Final Score: 1.2231687102132736\n",
      "Final Score: 3.6054212954193017\n",
      "Final Score: 2.6690700883118494\n",
      "Final Score: 1.161811342717147\n",
      "Final Score: 1.7436232526681117\n",
      "Final Score: 3.3609305385666124\n",
      "Final Score: 3.896769828279183\n",
      "Final Score: 1.1620133741306335\n",
      "Final Score: 0.86027919583832\n",
      "Final Score: 1.026213691552769\n",
      "Final Score: 2.854453319123685\n",
      "Final Score: 1.0656679702449023\n",
      "Final Score: 5.760177248403644\n",
      "Final Score: 1.0072114568126296\n",
      "Final Score: 1.559657165738414\n",
      "Final Score: 0.7650866002869561\n",
      "Final Score: 2.973197343183295\n",
      "Final Score: 1.864507995800049\n",
      "Final Score: 0.8246589067458101\n",
      "Final Score: 3.3434609486313027\n",
      "Final Score: 1.0712232758818716\n",
      "Final Score: 1.4144802442762368\n",
      "Final Score: 3.511373795635555\n",
      "Final Score: 1.2409899580296557\n",
      "Final Score: 2.823214091302797\n",
      "Final Score: 2.7691746380915623\n",
      "Final Score: 0.9832671693736633\n",
      "Final Score: 0.8978489540427609\n",
      "Final Score: 2.830265950889615\n",
      "Final Score: 5.245247100208722\n",
      "Final Score: 1.0983735917995925\n",
      "Final Score: 1.870614581219976\n",
      "Final Score: 0.8736366264130159\n",
      "Final Score: 4.418475153827894\n",
      "Final Score: 1.4353322319633233\n",
      "Final Score: 3.6770242546449747\n",
      "Final Score: 1.016864696837513\n",
      "Final Score: 1.0167990608990538\n",
      "Final Score: 1.0196059635275696\n",
      "Final Score: 1.1222830993289314\n",
      "Final Score: 0.7917555878477179\n",
      "Final Score: 2.165486089868306\n",
      "Final Score: 4.79753480880527\n",
      "Final Score: 1.3929284427436908\n",
      "Final Score: 5.613537603268755\n",
      "Final Score: 0.8147864843357644\n",
      "Final Score: 2.8609926698787107\n",
      "Final Score: 2.657184690205912\n",
      "Final Score: 0.9044814273731914\n",
      "Final Score: 1.1350389328185782\n",
      "Final Score: 4.283258945511087\n",
      "Final Score: 1.6506172327185276\n",
      "Final Score: 1.0367860877507913\n",
      "Final Score: 1.0368700332446226\n",
      "Final Score: 2.7284445694023547\n",
      "Final Score: 1.0162087717130937\n",
      "Final Score: 2.7627286491569523\n",
      "Final Score: 3.0294645564359834\n",
      "Final Score: 2.15288117770956\n",
      "Final Score: 1.1422600203704842\n",
      "Final Score: 4.941929935770606\n",
      "Final Score: 4.789913376781795\n",
      "Final Score: 3.8489466869543754\n",
      "Final Score: 3.2278029561594925\n",
      "Final Score: 3.3501145595247195\n",
      "Final Score: 2.2749280787063237\n",
      "Final Score: 0.955836010301643\n",
      "Final Score: 5.302664322350987\n",
      "Final Score: 0.8738926495311438\n",
      "Final Score: 1.9224154981557693\n",
      "Final Score: 0.8843055455298585\n",
      "Final Score: 4.287375480671983\n",
      "Final Score: 4.1752251344422255\n",
      "Final Score: 1.40470153037729\n",
      "Final Score: 2.739215690946304\n",
      "Final Score: 1.2208136948756576\n",
      "Final Score: 1.9359208839639297\n",
      "Final Score: 1.7038687035540572\n",
      "Final Score: 5.012562796804803\n",
      "Final Score: 3.6016093692831386\n",
      "Final Score: 2.6707162409857372\n",
      "Final Score: 1.1026091772705313\n",
      "Final Score: 2.371517069437945\n",
      "Final Score: 1.1323534646883429\n",
      "Final Score: 2.7100105566613597\n",
      "Final Score: 2.2332065318861827\n",
      "Final Score: 0.8614953341884404\n",
      "Final Score: 3.383043841387512\n",
      "Final Score: 2.317598418150463\n",
      "Final Score: 3.0093242097076534\n",
      "Final Score: 4.918973335677894\n",
      "Final Score: 4.658274309792448\n",
      "Final Score: 2.1427582858452103\n",
      "Final Score: 1.044607542796964\n",
      "Final Score: 0.8959409301079667\n",
      "Final Score: 0.9061724520874501\n",
      "Final Score: 1.0874476719062982\n",
      "Final Score: 1.9444495259807504\n",
      "Final Score: 3.529005179802211\n",
      "Final Score: 1.0953050246524334\n",
      "Final Score: 2.6942599830624125\n",
      "Final Score: 3.3064822352082164\n",
      "Final Score: 1.1112615083739548\n",
      "Final Score: 1.0253305522891214\n",
      "Final Score: 2.877786129120572\n",
      "Final Score: 1.2325972806935144\n",
      "Final Score: 2.3801557492696195\n",
      "Final Score: 4.287468474224218\n",
      "Final Score: 3.68914473130949\n",
      "Final Score: 0.9226179525024483\n",
      "Final Score: 1.9020984272021824\n",
      "Final Score: 1.7734982585101817\n",
      "Final Score: 1.1902443859081349\n",
      "Final Score: 1.0760854040159595\n",
      "Final Score: 2.1925421108895997\n",
      "Final Score: 1.674550207648281\n",
      "Final Score: 2.7485313190838467\n",
      "Final Score: 0.9736826091060551\n",
      "Final Score: 1.8244611076225974\n",
      "Final Score: 0.9791048318448863\n",
      "Final Score: 3.0627649961671324\n",
      "Final Score: 3.8644889233718933\n",
      "Final Score: 3.2232163582096662\n",
      "Final Score: 2.552530383962063\n",
      "Final Score: 2.7785463159957215\n",
      "Final Score: 2.9599800306880812\n",
      "Final Score: 1.186721758876868\n",
      "Final Score: 3.60618790930756\n",
      "Final Score: 0.9685440722007679\n",
      "Final Score: 0.8503567150394814\n",
      "Final Score: 3.305741191060048\n",
      "Final Score: 1.1205875860839654\n",
      "Final Score: 5.032461438754991\n",
      "Final Score: 2.442223426383781\n",
      "Final Score: 4.768679336108233\n",
      "Final Score: 2.297527077490714\n",
      "Final Score: 2.254211310015445\n",
      "Final Score: 1.991611646552145\n",
      "Final Score: 1.1172254093271632\n",
      "Final Score: 0.856539318093734\n",
      "Final Score: 2.0548018417789287\n",
      "Final Score: 1.9454896431275275\n",
      "Final Score: 1.012141626513187\n",
      "Final Score: 5.525335002160189\n",
      "Final Score: 2.5785470630286316\n",
      "Final Score: 0.7739048059857658\n",
      "Final Score: 5.285715705724071\n",
      "Final Score: 0.7874627234207916\n",
      "Final Score: 4.072733856136356\n",
      "Final Score: 1.070845362530826\n",
      "Final Score: 5.777219970021265\n",
      "Final Score: 1.1366271475167973\n",
      "Final Score: 2.184078208928118\n",
      "Final Score: 3.693266537787543\n",
      "Final Score: 0.9573947640688036\n",
      "Final Score: 3.3355158810899885\n",
      "Final Score: 1.255841998650242\n",
      "Final Score: 1.2283194975290155\n",
      "Final Score: 3.2304958569093767\n",
      "Final Score: 1.112626839331288\n",
      "Final Score: 1.6906110992874221\n",
      "Final Score: 1.6361844118761844\n",
      "Final Score: 3.7390970884759387\n",
      "Final Score: 3.87302163514196\n",
      "Final Score: 0.9526428057403284\n",
      "Final Score: 0.8778430537210463\n",
      "Final Score: 3.765565115857169\n",
      "Final Score: 1.5926098745635038\n",
      "Final Score: 1.273761605154079\n",
      "Final Score: 0.8719703421741087\n",
      "Final Score: 2.8644780721359675\n",
      "Final Score: 1.0097421012788723\n",
      "Final Score: 0.8850181406269866\n",
      "Final Score: 0.8299474351919982\n",
      "Final Score: 0.7703491818302405\n",
      "Final Score: 1.057397717695762\n",
      "Final Score: 2.190882774859219\n",
      "Final Score: 2.4646935194129744\n",
      "Final Score: 4.506052962048346\n",
      "Final Score: 2.2952119976840253\n",
      "Final Score: 1.2007344356037681\n",
      "Final Score: 1.0948186403284095\n",
      "Final Score: 0.9819029920290716\n",
      "Final Score: 5.756263184755648\n",
      "Final Score: 0.8965488862508955\n",
      "Final Score: 2.88405611802654\n",
      "Final Score: 2.661584807456377\n",
      "Final Score: 5.028398406008003\n",
      "Final Score: 5.37468640174108\n",
      "Final Score: 1.2297230349677506\n",
      "Final Score: 1.9977587719605503\n",
      "Final Score: 0.9423213419478718\n",
      "Final Score: 1.0193151654302122\n",
      "Final Score: 1.5103383804992494\n",
      "Final Score: 1.5845232837336842\n",
      "Final Score: 4.931272053492429\n",
      "Final Score: 0.9196800810093658\n",
      "Final Score: 2.525479712087242\n",
      "Final Score: 3.0574551846756863\n",
      "Final Score: 1.3354778206781703\n",
      "Final Score: 1.0743802063202728\n",
      "Final Score: 1.653051108978612\n",
      "Final Score: 2.380833686011342\n",
      "Final Score: 2.201806741942967\n",
      "Final Score: 1.1648316784248527\n",
      "Final Score: 2.516912639597228\n",
      "Final Score: 0.8980377348733874\n",
      "Final Score: 2.6942245028783574\n",
      "Final Score: 1.1857818584778488\n",
      "Final Score: 1.016275922764483\n",
      "Final Score: 4.528145604562132\n",
      "Final Score: 3.6854443858964805\n",
      "Final Score: 1.450242034056023\n",
      "Final Score: 2.405734759126502\n",
      "Final Score: 3.407261322692113\n",
      "Final Score: 5.495886930604554\n",
      "Final Score: 1.4198652421701787\n",
      "Final Score: 1.0598267894752569\n",
      "Final Score: 4.420837607548535\n",
      "Final Score: 2.1957329354907222\n",
      "Final Score: 0.9420746410426091\n",
      "Final Score: 2.154847823593875\n",
      "Final Score: 3.0858839127896665\n",
      "Final Score: 0.9952133814984766\n",
      "Final Score: 1.2581485341696252\n",
      "Final Score: 2.738435334077237\n",
      "Final Score: 3.7618840208619106\n",
      "Final Score: 3.5694888298368537\n",
      "Final Score: 2.3549050369936215\n",
      "Final Score: 0.98933957542304\n",
      "Final Score: 3.018230627129113\n",
      "Final Score: 3.3038113005305836\n",
      "Final Score: 2.867546327181504\n",
      "Final Score: 1.006634149506612\n",
      "Final Score: 1.215730833957244\n",
      "Final Score: 1.0505623435454625\n",
      "Final Score: 1.5215023241940295\n",
      "Final Score: 3.124906408590796\n",
      "Final Score: 1.4187441334305049\n",
      "Final Score: 1.005821463179954\n",
      "Final Score: 4.8156177266470905\n",
      "Final Score: 0.9864022960604945\n",
      "Final Score: 2.233176087062047\n",
      "Final Score: 1.7522830395163058\n",
      "Final Score: 1.074290076777389\n",
      "Final Score: 0.9845433749687602\n",
      "Final Score: 3.140132495628636\n",
      "Final Score: 5.568408803194309\n",
      "Final Score: 1.1701636917713587\n",
      "Final Score: 1.1099247170179007\n",
      "Final Score: 0.8388221336498368\n",
      "Final Score: 1.7149118832022134\n",
      "Final Score: 2.7942994280465676\n",
      "Final Score: 2.2277416051863175\n",
      "Final Score: 6.207762420709109\n",
      "Final Score: 1.1790555289328637\n",
      "Final Score: 1.4927198559963482\n",
      "Final Score: 1.1398933581592936\n",
      "Final Score: 4.2875880660340195\n",
      "Final Score: 3.7969824817074773\n",
      "Final Score: 1.1541412075983069\n",
      "Final Score: 0.8842878128165437\n",
      "Final Score: 1.8497338583861733\n",
      "Final Score: 6.106447591264733\n",
      "Final Score: 1.025675637949614\n",
      "Final Score: 1.0026455237252396\n",
      "Final Score: 4.507536665001386\n",
      "Final Score: 2.9253050741068796\n",
      "Final Score: 1.281512473742172\n",
      "Final Score: 1.084215883365325\n",
      "Final Score: 0.9554147272792662\n",
      "Final Score: 3.630009196237002\n",
      "Final Score: 1.7602275293146705\n",
      "Final Score: 1.1076439923005403\n",
      "Final Score: 1.1470569642096595\n",
      "Final Score: 0.9959749181942962\n",
      "Final Score: 3.209236840844855\n",
      "Final Score: 3.2875733383687815\n",
      "Final Score: 1.7067824212866718\n",
      "Final Score: 3.009171476396663\n",
      "Final Score: 0.9345639834270794\n",
      "Final Score: 2.900983284551051\n",
      "Final Score: 4.348933436662748\n",
      "Final Score: 2.7381241838436896\n",
      "Final Score: 3.902213891855786\n",
      "Final Score: 5.330076702961252\n",
      "Final Score: 3.247446800926777\n",
      "Final Score: 2.7200481173562463\n",
      "Final Score: 0.8408194439056131\n",
      "Final Score: 1.7864918049553757\n",
      "Final Score: 1.060011296242884\n",
      "Final Score: 1.1758288121418632\n",
      "Final Score: 2.7325459587769085\n",
      "Final Score: 1.3993967282700672\n",
      "Final Score: 3.2622728017580602\n",
      "Final Score: 0.9689092802894345\n",
      "Final Score: 1.0291122387808653\n",
      "Final Score: 2.8587742670214142\n",
      "Final Score: 4.722251281473707\n",
      "Final Score: 1.3566743266606738\n",
      "Final Score: 4.442380197041691\n",
      "Final Score: 3.246056433042125\n",
      "Final Score: 1.1909888422399768\n",
      "Final Score: 4.19030307079532\n",
      "Final Score: 1.9866566350066506\n",
      "Final Score: 2.348781766739849\n",
      "Final Score: 0.8480300196475201\n",
      "Final Score: 3.3609409252434714\n",
      "Final Score: 1.0907290915440193\n",
      "Final Score: 2.150545371799519\n",
      "Final Score: 3.0505163790308583\n",
      "Final Score: 0.8338139697516811\n",
      "Final Score: 2.5754521420746768\n",
      "Final Score: 1.2446343817378376\n",
      "Final Score: 2.129041908995789\n",
      "Final Score: 1.2722545106367584\n",
      "Final Score: 1.3876563016612398\n",
      "Final Score: 1.8744801612250364\n",
      "Final Score: 2.5663793202404728\n",
      "Final Score: 1.044823320056518\n",
      "Final Score: 2.0932582334785836\n",
      "Final Score: 2.6389684457014266\n",
      "Final Score: 1.1643415987534393\n",
      "Final Score: 1.3981036660379371\n",
      "Final Score: 2.9075000818653485\n",
      "Final Score: 1.2276865004996005\n",
      "Final Score: 2.7178851669007997\n",
      "Final Score: 1.7470142485154856\n",
      "Final Score: 1.2890211441065367\n",
      "Final Score: 0.9755499615361772\n",
      "Final Score: 2.982145592386588\n",
      "Final Score: 2.9174678544269197\n",
      "Final Score: 1.1691083161874494\n",
      "Final Score: 4.268914131990541\n",
      "Final Score: 1.162184013322333\n",
      "Final Score: 1.1465081856422599\n",
      "Final Score: 3.875157061834455\n",
      "Final Score: 1.0733003927896072\n",
      "Final Score: 1.2656890840497548\n",
      "Final Score: 2.000195640792354\n",
      "Final Score: 1.6952880645678636\n",
      "Final Score: 4.5268124380450425\n",
      "Final Score: 0.952791545175975\n",
      "Final Score: 2.450865225155119\n",
      "Final Score: 1.2151234935645292\n",
      "Final Score: 1.1324913908972838\n",
      "Final Score: 4.953462949346986\n",
      "Final Score: 3.571433012576963\n",
      "Final Score: 3.7243694369314406\n",
      "Final Score: 1.0242896037954938\n",
      "Final Score: 2.458543812445787\n",
      "Final Score: 0.8849315014606028\n",
      "Final Score: 0.7846078013424804\n",
      "Final Score: 4.059500015785812\n",
      "Final Score: 4.189728250452291\n",
      "Final Score: 2.008056090202544\n",
      "Final Score: 3.155024647597626\n",
      "Final Score: 4.9767679727237\n",
      "Final Score: 2.0835779650436477\n",
      "Final Score: 1.7318054923811932\n",
      "Final Score: 0.8246837703222691\n",
      "Final Score: 1.9378262698270348\n",
      "Final Score: 1.0526906478649718\n",
      "Final Score: 0.7452351214550368\n",
      "Final Score: 1.2562462439402506\n",
      "Final Score: 1.0515550251319792\n",
      "Final Score: 5.028244433705405\n",
      "Final Score: 2.812372519603402\n",
      "Final Score: 2.912272231604639\n",
      "Final Score: 4.781842802219024\n",
      "Final Score: 0.9658212662165487\n",
      "Final Score: 0.8996073104930511\n",
      "Final Score: 4.848471476791248\n",
      "Final Score: 0.8428694159039095\n",
      "Final Score: 4.90827527124934\n",
      "Final Score: 1.2742467775792263\n",
      "Final Score: 1.0792334716713174\n",
      "Final Score: 2.9990261336920145\n",
      "Final Score: 2.680993933169547\n",
      "Final Score: 2.5647729466518228\n",
      "Final Score: 4.999652995815889\n",
      "Final Score: 1.244995625213167\n",
      "Final Score: 2.1395534601056987\n",
      "Final Score: 0.9830428209225877\n",
      "Final Score: 1.2461490492393688\n",
      "Final Score: 5.303039843816343\n",
      "Final Score: 1.0922936423703935\n",
      "Final Score: 1.7863817412381962\n",
      "Final Score: 1.1642863937497836\n",
      "Final Score: 4.247712042441193\n",
      "Final Score: 1.1657490595161977\n",
      "Final Score: 4.903413734608347\n",
      "Final Score: 1.1590109491803093\n",
      "Final Score: 2.9628894352019346\n",
      "Final Score: 2.9727968516939844\n",
      "Final Score: 1.2357548346311888\n",
      "Final Score: 3.1680720744137996\n",
      "Final Score: 1.22281427266686\n",
      "Final Score: 0.965775254826875\n",
      "Final Score: 0.9222540909242948\n",
      "Final Score: 0.9428809736449474\n",
      "Final Score: 2.2151185172909837\n",
      "Final Score: 5.760085470221352\n",
      "Final Score: 1.1127731466901667\n",
      "Final Score: 1.0020709681764344\n",
      "Final Score: 2.068993386123412\n",
      "Final Score: 1.012685078542149\n",
      "Final Score: 1.2104402792561084\n",
      "Final Score: 2.7360178568729934\n",
      "Final Score: 5.96838198452134\n",
      "Final Score: 3.127924028777438\n",
      "Final Score: 1.8721856672446933\n",
      "Final Score: 1.3947181839343417\n",
      "Final Score: 3.8261668149216788\n",
      "Final Score: 2.181202543796568\n",
      "Final Score: 0.7780286697874589\n",
      "Final Score: 3.4907589974664126\n",
      "Final Score: 1.6643878563193992\n",
      "Final Score: 1.0590777127348563\n",
      "Final Score: 3.6840657807180346\n",
      "Final Score: 1.982419991546591\n",
      "Final Score: 0.801199424403289\n",
      "Final Score: 0.8849608001430266\n",
      "Final Score: 1.2132817015331918\n",
      "Final Score: 1.7147335504611652\n",
      "Final Score: 4.778652927783845\n",
      "Final Score: 2.6012524479760524\n",
      "Final Score: 3.335830000301301\n",
      "Final Score: 1.17297927152181\n",
      "Final Score: 5.726155748892408\n",
      "Final Score: 5.448634281703767\n",
      "Final Score: 0.8961211997328336\n",
      "Final Score: 0.9005125030620093\n",
      "Final Score: 3.483457417335009\n",
      "Final Score: 4.149153139821946\n",
      "Final Score: 5.623311946605494\n",
      "Final Score: 1.257490335475149\n",
      "Final Score: 1.2394261399069642\n",
      "Final Score: 3.188436778792295\n",
      "Final Score: 1.202300010169647\n",
      "Final Score: 0.950646477848555\n",
      "Final Score: 3.282943402072618\n",
      "Final Score: 2.2457150740593783\n",
      "Final Score: 1.741382847401984\n",
      "Final Score: 0.9746560551896011\n",
      "Final Score: 4.4540372839307585\n",
      "Final Score: 2.567039313886388\n",
      "Final Score: 0.8843998043313163\n",
      "Final Score: 0.8808389528492109\n",
      "Final Score: 1.142845883631321\n",
      "Final Score: 3.519714075303952\n",
      "Final Score: 1.3939803838294718\n",
      "Final Score: 0.9847392462384628\n",
      "Final Score: 3.7048976168875516\n",
      "Final Score: 2.4397448211055446\n",
      "Final Score: 2.209882725043709\n",
      "Final Score: 2.3504460487976044\n",
      "Final Score: 1.7496375731541076\n",
      "Final Score: 0.8658443844018621\n",
      "Final Score: 1.829219337967989\n",
      "Final Score: 2.290782332838299\n",
      "Final Score: 3.5917454122680077\n",
      "Final Score: 3.3675899524443533\n",
      "Final Score: 3.0805554712548266\n",
      "Final Score: 3.2892620644769055\n",
      "Final Score: 3.6736068286158234\n",
      "Final Score: 2.289559659093091\n",
      "Final Score: 2.112371443093413\n",
      "Final Score: 3.4309167739518576\n",
      "Final Score: 1.3313747752270015\n",
      "Final Score: 3.7790394332363517\n",
      "Final Score: 1.658833666438519\n",
      "Final Score: 2.215868535592654\n",
      "Final Score: 2.4186186904015896\n",
      "Final Score: 3.3214501641896876\n",
      "Final Score: 1.3958859139004325\n",
      "Final Score: 3.0476803008581395\n",
      "Final Score: 2.159079381754\n",
      "Final Score: 3.15971713461737\n",
      "Final Score: 3.217368071367941\n",
      "Final Score: 2.760609031495076\n",
      "Final Score: 2.480213605308725\n",
      "Final Score: 2.9378246513780026\n",
      "Final Score: 1.7992884034003709\n",
      "Final Score: 0.9390459269591102\n",
      "Final Score: 1.217835652547779\n",
      "Final Score: 1.1291227040594491\n",
      "Final Score: 1.0387943450031267\n",
      "Final Score: 4.44999959495922\n",
      "Final Score: 1.504893622438039\n",
      "Final Score: 2.2225894062095746\n",
      "Final Score: 4.730343037526187\n",
      "Final Score: 3.4168175870564554\n",
      "Final Score: 0.9026638785770881\n",
      "Final Score: 3.2546676485686152\n",
      "Final Score: 1.1326983425593369\n",
      "Final Score: 1.192219601303863\n",
      "Final Score: 1.4741932090454344\n",
      "Final Score: 2.748281358087411\n",
      "Final Score: 0.8083348301389153\n",
      "Final Score: 1.1313643259493675\n",
      "Final Score: 3.107816952124801\n",
      "Final Score: 2.01403104494783\n",
      "Final Score: 2.5008239184581504\n",
      "Final Score: 2.472799463664235\n",
      "Final Score: 1.5956114251556048\n",
      "Final Score: 2.946972326125482\n",
      "Final Score: 3.062593855421056\n",
      "Final Score: 4.3094262846727\n",
      "Final Score: 2.1999995217321993\n",
      "Final Score: 0.9826001810261314\n",
      "Final Score: 1.0728058087063668\n",
      "Final Score: 0.8546894515102478\n",
      "Final Score: 4.683331751714103\n",
      "Final Score: 2.01846896622498\n",
      "Final Score: 2.0407702465075133\n",
      "Final Score: 1.0767686655531754\n",
      "Final Score: 1.0125906097980406\n",
      "Final Score: 0.7760979893173314\n",
      "Final Score: 0.8796504212265926\n",
      "Final Score: 2.651594063858626\n",
      "Final Score: 1.167241901391956\n",
      "Final Score: 1.9959108356340054\n",
      "Final Score: 0.8702177696079377\n",
      "Final Score: 0.9274975333919121\n",
      "Final Score: 4.886679892592866\n",
      "Final Score: 0.8771930424721857\n",
      "Final Score: 1.3151168601758565\n",
      "Final Score: 1.0117336382628208\n",
      "Final Score: 4.948239291270688\n",
      "Final Score: 0.8134770226054979\n",
      "Final Score: 1.3754909106676179\n",
      "Final Score: 3.870881998497644\n",
      "Final Score: 6.042486607869652\n",
      "Final Score: 0.9185358748711578\n",
      "Final Score: 2.3682010572777457\n",
      "Final Score: 1.8250434306605199\n",
      "Final Score: 0.7915318505777797\n",
      "Final Score: 0.9735976931471575\n",
      "Final Score: 1.5873763046519984\n",
      "Final Score: 3.5612446041496852\n",
      "Final Score: 0.836617610567601\n",
      "Final Score: 1.0362002579337557\n",
      "Final Score: 3.5295021025831153\n",
      "Final Score: 0.8985771744717213\n",
      "Final Score: 1.2883240600768957\n",
      "Final Score: 4.931531198720664\n",
      "Final Score: 0.8955273323791357\n",
      "Final Score: 1.162927823026164\n",
      "Final Score: 0.902567933188215\n",
      "Final Score: 4.7525968194687\n",
      "Final Score: 0.9448070348038486\n",
      "Final Score: 5.370673686031031\n",
      "Final Score: 1.0675982153097245\n",
      "Final Score: 3.3238633573470313\n",
      "Final Score: 1.1463175254885958\n",
      "Final Score: 1.0631305724653883\n",
      "Final Score: 1.2174244265897465\n",
      "Final Score: 3.619946589301141\n",
      "Final Score: 1.0108921198104812\n",
      "Final Score: 3.636666988188144\n",
      "Final Score: 1.0922359421590697\n",
      "Final Score: 4.608025185111007\n",
      "Final Score: 0.9822608056516167\n",
      "Final Score: 0.8741433724583718\n",
      "Final Score: 2.753909852332937\n",
      "Final Score: 3.468917043695426\n",
      "Final Score: 1.1004594656390991\n",
      "Final Score: 1.7174433869661505\n",
      "Final Score: 1.103419005776821\n",
      "Final Score: 1.3284816092604168\n",
      "Final Score: 0.8841506740420192\n",
      "Final Score: 0.9723472827518118\n",
      "Final Score: 2.8672910655198702\n",
      "Final Score: 2.229736874075319\n",
      "Final Score: 1.3811031943083016\n",
      "Final Score: 2.1335481454447986\n",
      "Final Score: 2.2110613219993236\n",
      "Final Score: 1.0144806326233862\n",
      "Final Score: 5.2215166589709945\n",
      "Final Score: 3.6774521210790123\n",
      "Final Score: 0.8109258191081834\n",
      "Final Score: 3.1098098170166786\n",
      "Final Score: 3.2432998499634125\n",
      "Final Score: 1.0234364588315064\n",
      "Data collection complete. Final CSV file saved in 'Data/padded_entire_final_dataset.csv'\n"
     ]
    }
   ],
   "execution_count": 76
  },
  {
   "metadata": {},
   "cell_type": "markdown",
   "source": "# Visualize the Score distribution",
   "id": "a9c4d693f2273e8e"
  },
  {
   "metadata": {
    "ExecuteTime": {
     "end_time": "2025-01-07T17:07:11.262685Z",
     "start_time": "2025-01-07T17:07:10.743664Z"
    }
   },
   "cell_type": "code",
   "source": [
    "import pandas as pd\n",
    "import matplotlib.pyplot as plt\n",
    "\n",
    "# Load the generated output dataset\n",
    "output_filepath = 'Data/padded_entire_final_dataset.csv'\n",
    "output_df = pd.read_csv(output_filepath)\n",
    "\n",
    "# Plotting the distribution of scores using a bar chart\n",
    "plt.hist(output_df['Score_0'], bins=10, edgecolor='black')\n",
    "plt.xlabel('Score Range')\n",
    "plt.ylabel('Frequency')\n",
    "plt.title('Distribution of Scores (Score 0)')\n",
    "plt.grid(axis='y', linestyle='--', alpha=0.7)\n",
    "plt.show()\n",
    "\n",
    "# Plotting the distribution of scores using a bar chart\n",
    "plt.hist(output_df['Score_1'], bins=10, edgecolor='black')\n",
    "plt.xlabel('Score Range')\n",
    "plt.ylabel('Frequency')\n",
    "plt.title('Distribution of Scores (Score 1)')\n",
    "plt.grid(axis='y', linestyle='--', alpha=0.7)\n",
    "plt.show()\n",
    "\n",
    "plt.hist(output_df['Score_2'], bins=10, edgecolor='black')\n",
    "plt.xlabel('Score Range')\n",
    "plt.ylabel('Frequency')\n",
    "plt.title('Distribution of Scores (Score 2)')\n",
    "plt.grid(axis='y', linestyle='--', alpha=0.7)\n",
    "plt.show()\n",
    "\n",
    "plt.hist(output_df['Score_3'], bins=10, edgecolor='black')\n",
    "plt.xlabel('Score Range')\n",
    "plt.ylabel('Frequency')\n",
    "plt.title('Distribution of Scores (Score 3)')\n",
    "plt.grid(axis='y', linestyle='--', alpha=0.7)\n",
    "plt.show()\n",
    "\n",
    "plt.hist(output_df['Score_4'], bins=10, edgecolor='black')\n",
    "plt.xlabel('Score Range')\n",
    "plt.ylabel('Frequency')\n",
    "plt.title('Distribution of Scores (Score 4)')\n",
    "plt.grid(axis='y', linestyle='--', alpha=0.7)\n",
    "plt.show()\n"
   ],
   "id": "4160241c74545607",
   "outputs": [
    {
     "data": {
      "text/plain": [
       "<Figure size 640x480 with 1 Axes>"
      ],
      "image/png": "[encoded data removed]"
     },
     "metadata": {},
     "output_type": "display_data"
    },
    {
     "data": {
      "text/plain": [
       "<Figure size 640x480 with 1 Axes>"
      ],
      "image/png": "[encoded data removed]"
     },
     "metadata": {},
     "output_type": "display_data"
    },
    {
     "data": {
      "text/plain": [
       "<Figure size 640x480 with 1 Axes>"
      ],
      "image/png": "[encoded data removed]"
     },
     "metadata": {},
     "output_type": "display_data"
    },
    {
     "data": {
      "text/plain": [
       "<Figure size 640x480 with 1 Axes>"
      ],
      "image/png": "[encoded data removed]"
     },
     "metadata": {},
     "output_type": "display_data"
    },
    {
     "data": {
      "text/plain": [
       "<Figure size 640x480 with 1 Axes>"
      ],
      "image/png": "[encoded data removed]"
     },
     "metadata": {},
     "output_type": "display_data"
    }
   ],
   "execution_count": 73
  }
 ],
 "metadata": {
  "kernelspec": {
   "display_name": "Python 3",
   "language": "python",
   "name": "python3"
  },
  "language_info": {
   "codemirror_mode": {
    "name": "ipython",
    "version": 2
   },
   "file_extension": ".py",
   "mimetype": "text/x-python",
   "name": "python",
   "nbconvert_exporter": "python",
   "pygments_lexer": "ipython2",
   "version": "2.7.6"
  }
 },
 "nbformat": 4,
 "nbformat_minor": 5
}
